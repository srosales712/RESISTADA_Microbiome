{
 "cells": [
  {
   "cell_type": "code",
   "execution_count": 1,
   "id": "e816d426",
   "metadata": {
    "scrolled": true
   },
   "outputs": [
    {
     "name": "stderr",
     "output_type": "stream",
     "text": [
      "── \u001b[1mAttaching core tidyverse packages\u001b[22m ──────────────────────── tidyverse 2.0.0 ──\n",
      "\u001b[32m✔\u001b[39m \u001b[34mdplyr    \u001b[39m 1.1.4     \u001b[32m✔\u001b[39m \u001b[34mreadr    \u001b[39m 2.1.5\n",
      "\u001b[32m✔\u001b[39m \u001b[34mforcats  \u001b[39m 1.0.0     \u001b[32m✔\u001b[39m \u001b[34mstringr  \u001b[39m 1.5.1\n",
      "\u001b[32m✔\u001b[39m \u001b[34mggplot2  \u001b[39m 4.0.0     \u001b[32m✔\u001b[39m \u001b[34mtibble   \u001b[39m 3.3.0\n",
      "\u001b[32m✔\u001b[39m \u001b[34mlubridate\u001b[39m 1.9.4     \u001b[32m✔\u001b[39m \u001b[34mtidyr    \u001b[39m 1.3.1\n",
      "\u001b[32m✔\u001b[39m \u001b[34mpurrr    \u001b[39m 1.0.4     \n",
      "── \u001b[1mConflicts\u001b[22m ────────────────────────────────────────── tidyverse_conflicts() ──\n",
      "\u001b[31m✖\u001b[39m \u001b[34mdplyr\u001b[39m::\u001b[32mfilter()\u001b[39m masks \u001b[34mstats\u001b[39m::filter()\n",
      "\u001b[31m✖\u001b[39m \u001b[34mdplyr\u001b[39m::\u001b[32mlag()\u001b[39m    masks \u001b[34mstats\u001b[39m::lag()\n",
      "\u001b[36mℹ\u001b[39m Use the conflicted package (\u001b[3m\u001b[34m<http://conflicted.r-lib.org/>\u001b[39m\u001b[23m) to force all conflicts to become errors\n",
      "\n",
      " randomForestSRC 3.3.3 \n",
      " \n",
      " Type rfsrc.news() to see new features, changes, and bug fixes. \n",
      " \n",
      "\n",
      "\n",
      "\n",
      "Attaching package: ‘randomForestSRC’\n",
      "\n",
      "\n",
      "The following object is masked from ‘package:purrr’:\n",
      "\n",
      "    partial\n",
      "\n",
      "\n",
      "\n",
      "Attaching package: ‘magrittr’\n",
      "\n",
      "\n",
      "The following object is masked from ‘package:purrr’:\n",
      "\n",
      "    set_names\n",
      "\n",
      "\n",
      "The following object is masked from ‘package:tidyr’:\n",
      "\n",
      "    extract\n",
      "\n",
      "\n",
      "\n",
      "Attaching package: ‘scales’\n",
      "\n",
      "\n",
      "The following object is masked from ‘package:purrr’:\n",
      "\n",
      "    discard\n",
      "\n",
      "\n",
      "The following object is masked from ‘package:readr’:\n",
      "\n",
      "    col_factor\n",
      "\n",
      "\n",
      "\n",
      "Attaching package: ‘reshape2’\n",
      "\n",
      "\n",
      "The following object is masked from ‘package:tidyr’:\n",
      "\n",
      "    smiths\n",
      "\n",
      "\n",
      "Loading required package: ggpp\n",
      "\n",
      "Registered S3 methods overwritten by 'ggpp':\n",
      "  method                  from   \n",
      "  heightDetails.titleGrob ggplot2\n",
      "  widthDetails.titleGrob  ggplot2\n",
      "\n",
      "\n",
      "Attaching package: ‘ggpp’\n",
      "\n",
      "\n",
      "The following object is masked from ‘package:ggplot2’:\n",
      "\n",
      "    annotate\n",
      "\n",
      "\n",
      "\n",
      "Attaching package: ‘ggpubr’\n",
      "\n",
      "\n",
      "The following objects are masked from ‘package:ggpp’:\n",
      "\n",
      "    as_npc, as_npcx, as_npcy\n",
      "\n",
      "\n",
      "The following object is masked from ‘package:qiime2R’:\n",
      "\n",
      "    mean_sd\n",
      "\n",
      "\n",
      "\n",
      "Attaching package: ‘shapr’\n",
      "\n",
      "\n",
      "The following object is masked from ‘package:dplyr’:\n",
      "\n",
      "    explain\n",
      "\n",
      "\n",
      "Welcome to DALEX (version: 2.4.3).\n",
      "Find examples and detailed introduction at: http://ema.drwhy.ai/\n",
      "\n",
      "\n",
      "\n",
      "Attaching package: ‘DALEX’\n",
      "\n",
      "\n",
      "The following object is masked from ‘package:shapr’:\n",
      "\n",
      "    explain\n",
      "\n",
      "\n",
      "The following object is masked from ‘package:dplyr’:\n",
      "\n",
      "    explain\n",
      "\n",
      "\n",
      "Loading required package: libcoin\n",
      "\n",
      "Loading required package: mvtnorm\n",
      "\n",
      "Loading required package: paradox\n",
      "\n",
      "\n",
      "Attaching package: ‘mlr3tuning’\n",
      "\n",
      "\n",
      "The following object is masked from ‘package:randomForestSRC’:\n",
      "\n",
      "    tune\n",
      "\n",
      "\n"
     ]
    }
   ],
   "source": [
    "# load packages\n",
    "library(tidyverse)\n",
    "library(phyloseq)\n",
    "library(qiime2R)\n",
    "library(randomForestSRC)\n",
    "library(magrittr)\n",
    "library(scales)\n",
    "library(grid)\n",
    "library(reshape2)\n",
    "library(knitr)\n",
    "library(ggpmisc)\n",
    "library(ggpubr)\n",
    "\n",
    "# SHAP/ML\n",
    "library(shapr)\n",
    "library(DALEX)\n",
    "library(partykit)\n",
    "library(mlr3)\n",
    "library(mlr3learners)\n",
    "library(ranger)\n",
    "library(mlr3tuning)\n",
    "library(paradox)\n",
    "library(iBreakDown)"
   ]
  },
  {
   "cell_type": "code",
   "execution_count": 2,
   "id": "b4e7a45d",
   "metadata": {},
   "outputs": [
    {
     "name": "stderr",
     "output_type": "stream",
     "text": [
      "Warning message:\n",
      "“\u001b[1m\u001b[22mExpected 7 pieces. Missing pieces filled with `NA` in 5374 rows [3, 6, 9, 11,\n",
      "12, 14, 15, 16, 17, 18, 22, 23, 27, 31, 36, 38, 42, 45, 49, 51, ...].”\n"
     ]
    }
   ],
   "source": [
    "# Read in the 16S qza files and clean them up for phyloseq\n",
    "ASVs <- read_qza(\"/Users/stephanie.rosales/Documents/omics_projects/Resitada/qiime_output/table-BacArc_resistada.qza\")\n",
    "ASVs <- ASVs$data # Extract the count data from list\n",
    "\n",
    "\n",
    "tree_file <-read_qza(\"/Users/stephanie.rosales/Documents/omics_projects/Resitada/qiime_output/rooted-BacArc_resistada.qza\")$data\n",
    "\n",
    "\n",
    "taxa_16S <- read_qza(\"/Users/stephanie.rosales/Documents/omics_projects/Resitada/qiime_output/taxonomy_resistada.qza\")\n",
    "taxa_16S <- taxa_16S$data %>% as_tibble() %>% separate(Taxon, sep=\";\",\n",
    "c(\"Kingdom\", \"Phylum\", \"Class\", \"Order\", \"Family\", \"Genus\", \"Species\")) %>% \n",
    "# Convert taxonomy info to data frame with correct taxonomy labels\n",
    "#taxa <- taxa_16S[-1,]\n",
    "select(-Confidence) %>% arrange(Feature.ID) %>% mutate(ASV = 1:n()) %>% \n",
    "mutate(newcol = \"ASV\") %>%\n",
    "unite(\"ASVs\", newcol:ASV) %>%\n",
    "filter(Phylum !=\" p__Chlorophyta\") %>%\n",
    "filter(Phylum !=\"NA\")"
   ]
  },
  {
   "cell_type": "code",
   "execution_count": 3,
   "id": "61de2e58",
   "metadata": {},
   "outputs": [],
   "source": [
    "meta = read.csv(\"/Users/stephanie.rosales/Documents/omics_projects/Resitada/metadata_RESISTADA.csv\", \n",
    "                header = T, row.names = 1,\n",
    "na.strings = c(\"\", \"NA\"))\n",
    "\n",
    "\n",
    "meta$Genotype = factor(meta$Genotype, levels = c(\"FM19\", \n",
    "                                                                \n",
    "                                        \"FM6\", \"FM9\", \"U44\",\n",
    "                                        \"FM14\", \"Elkhorn\", \"K2\",\n",
    "                                        \"Acerv2\", \"Kelsey-1\", \"Cooper-9\", \"U41\"\n",
    "                                                                ))"
   ]
  },
  {
   "cell_type": "code",
   "execution_count": 4,
   "id": "59a1f347",
   "metadata": {},
   "outputs": [
    {
     "data": {
      "text/plain": [
       "phyloseq-class experiment-level object\n",
       "otu_table()   OTU Table:         [ 9492 taxa and 280 samples ]\n",
       "sample_data() Sample Data:       [ 280 samples by 62 sample variables ]\n",
       "tax_table()   Taxonomy Table:    [ 9492 taxa by 8 taxonomic ranks ]\n",
       "phy_tree()    Phylogenetic Tree: [ 9492 tips and 8365 internal nodes ]"
      ]
     },
     "metadata": {},
     "output_type": "display_data"
    },
    {
     "data": {
      "text/plain": [
       "phyloseq-class experiment-level object\n",
       "otu_table()   OTU Table:         [ 9492 taxa and 252 samples ]\n",
       "sample_data() Sample Data:       [ 252 samples by 62 sample variables ]\n",
       "tax_table()   Taxonomy Table:    [ 9492 taxa by 8 taxonomic ranks ]\n",
       "phy_tree()    Phylogenetic Tree: [ 9492 tips and 8365 internal nodes ]"
      ]
     },
     "metadata": {},
     "output_type": "display_data"
    }
   ],
   "source": [
    "ps= phyloseq(otu_table(ASVs, taxa_are_rows= T),\n",
    "tax_table(as.data.frame(taxa_16S) %>% column_to_rownames(\"Feature.ID\") %>%\n",
    "as.matrix()), sample_data(meta), tree_file)\n",
    "ps\n",
    "\n",
    "dups = c(\"N169_256_R2\", \"N157_265_R2\", \"N165_296_R2\", \"N161_A067_R2\", \"N185_A088_R2\",\n",
    "                                 \"N164_A089_R2\",\"N119_A107\",\"N267_A110\",\"N7_A114\", \"N156_A115\",\"N158_A116\",\n",
    "                                 \"N101_A118\",\"N160_A119\",\"N277_A125\")\n",
    "ps <- subset_samples(ps, !ID %in% dups & !is.na(Genotype) & Genotype != \"U41\")\n",
    "\n",
    " \n",
    "ps"
   ]
  },
  {
   "cell_type": "code",
   "execution_count": 5,
   "id": "ec930d50",
   "metadata": {},
   "outputs": [
    {
     "data": {
      "text/plain": [
       "phyloseq-class experiment-level object\n",
       "otu_table()   OTU Table:         [ 9492 taxa and 192 samples ]\n",
       "sample_data() Sample Data:       [ 192 samples by 62 sample variables ]\n",
       "tax_table()   Taxonomy Table:    [ 9492 taxa by 8 taxonomic ranks ]\n",
       "phy_tree()    Phylogenetic Tree: [ 9492 tips and 8365 internal nodes ]"
      ]
     },
     "metadata": {},
     "output_type": "display_data"
    },
    {
     "data": {
      "text/plain": [
       "phyloseq-class experiment-level object\n",
       "otu_table()   OTU Table:         [ 9492 taxa and 151 samples ]\n",
       "sample_data() Sample Data:       [ 151 samples by 62 sample variables ]\n",
       "tax_table()   Taxonomy Table:    [ 9492 taxa by 8 taxonomic ranks ]\n",
       "phy_tree()    Phylogenetic Tree: [ 9492 tips and 8365 internal nodes ]"
      ]
     },
     "metadata": {},
     "output_type": "display_data"
    },
    {
     "data": {
      "text/plain": [
       "phyloseq-class experiment-level object\n",
       "otu_table()   OTU Table:         [ 9492 taxa and 174 samples ]\n",
       "sample_data() Sample Data:       [ 174 samples by 62 sample variables ]\n",
       "tax_table()   Taxonomy Table:    [ 9492 taxa by 8 taxonomic ranks ]\n",
       "phy_tree()    Phylogenetic Tree: [ 9492 tips and 8365 internal nodes ]"
      ]
     },
     "metadata": {},
     "output_type": "display_data"
    },
    {
     "data": {
      "text/plain": [
       "phyloseq-class experiment-level object\n",
       "otu_table()   OTU Table:         [ 9492 taxa and 174 samples ]\n",
       "sample_data() Sample Data:       [ 174 samples by 62 sample variables ]\n",
       "tax_table()   Taxonomy Table:    [ 9492 taxa by 8 taxonomic ranks ]\n",
       "phy_tree()    Phylogenetic Tree: [ 9492 tips and 8365 internal nodes ]"
      ]
     },
     "metadata": {},
     "output_type": "display_data"
    }
   ],
   "source": [
    "ps_Clipped =subset_samples(ps, Type==\"Clipped\")\n",
    "ps_Clipped\n",
    "\n",
    "\n",
    "ps_paired = subset_samples(ps_Clipped, Pairs==\"paired\")\n",
    "ps_paired\n",
    "\n",
    "ps_both = subset_samples(ps_Clipped, filter_unpair==\"no\")\n",
    "ps_both\n",
    "\n",
    "\n",
    "select=c(\"Ambient_Pathogen\", \"NH4_Pathogen\", \"Ambient_Placebo\", \"NH4_Placebo\")\n",
    "ps_disease <- subset_samples(ps_both, Combo %in% select)\n",
    "ps_disease"
   ]
  },
  {
   "cell_type": "code",
   "execution_count": 6,
   "id": "4d2c53d3-0a1a-4545-acef-5d746753c512",
   "metadata": {},
   "outputs": [
    {
     "name": "stderr",
     "output_type": "stream",
     "text": [
      "\u001b[1m\u001b[22m`summarise()` has grouped output by 'Combo'. You can override using the\n",
      "`.groups` argument.\n"
     ]
    },
    {
     "data": {
      "text/html": [
       "<table class=\"dataframe\">\n",
       "<caption>A grouped_df: 8 × 3</caption>\n",
       "<thead>\n",
       "\t<tr><th scope=col>Combo</th><th scope=col>Survivorship</th><th scope=col>count</th></tr>\n",
       "\t<tr><th scope=col>&lt;chr&gt;</th><th scope=col>&lt;int&gt;</th><th scope=col>&lt;int&gt;</th></tr>\n",
       "</thead>\n",
       "<tbody>\n",
       "\t<tr><td>Ambient_Pathogen</td><td> 0</td><td> 8</td></tr>\n",
       "\t<tr><td>Ambient_Pathogen</td><td> 1</td><td>22</td></tr>\n",
       "\t<tr><td>Ambient_Placebo </td><td> 0</td><td>31</td></tr>\n",
       "\t<tr><td>NH4_Pathogen    </td><td> 0</td><td>21</td></tr>\n",
       "\t<tr><td>NH4_Pathogen    </td><td> 1</td><td>28</td></tr>\n",
       "\t<tr><td>NH4_Placebo     </td><td> 0</td><td>56</td></tr>\n",
       "\t<tr><td>NH4_Placebo     </td><td> 1</td><td> 7</td></tr>\n",
       "\t<tr><td>NH4_Placebo     </td><td>NA</td><td> 1</td></tr>\n",
       "</tbody>\n",
       "</table>\n"
      ],
      "text/latex": [
       "A grouped\\_df: 8 × 3\n",
       "\\begin{tabular}{lll}\n",
       " Combo & Survivorship & count\\\\\n",
       " <chr> & <int> & <int>\\\\\n",
       "\\hline\n",
       "\t Ambient\\_Pathogen &  0 &  8\\\\\n",
       "\t Ambient\\_Pathogen &  1 & 22\\\\\n",
       "\t Ambient\\_Placebo  &  0 & 31\\\\\n",
       "\t NH4\\_Pathogen     &  0 & 21\\\\\n",
       "\t NH4\\_Pathogen     &  1 & 28\\\\\n",
       "\t NH4\\_Placebo      &  0 & 56\\\\\n",
       "\t NH4\\_Placebo      &  1 &  7\\\\\n",
       "\t NH4\\_Placebo      & NA &  1\\\\\n",
       "\\end{tabular}\n"
      ],
      "text/markdown": [
       "\n",
       "A grouped_df: 8 × 3\n",
       "\n",
       "| Combo &lt;chr&gt; | Survivorship &lt;int&gt; | count &lt;int&gt; |\n",
       "|---|---|---|\n",
       "| Ambient_Pathogen |  0 |  8 |\n",
       "| Ambient_Pathogen |  1 | 22 |\n",
       "| Ambient_Placebo  |  0 | 31 |\n",
       "| NH4_Pathogen     |  0 | 21 |\n",
       "| NH4_Pathogen     |  1 | 28 |\n",
       "| NH4_Placebo      |  0 | 56 |\n",
       "| NH4_Placebo      |  1 |  7 |\n",
       "| NH4_Placebo      | NA |  1 |\n",
       "\n"
      ],
      "text/plain": [
       "  Combo            Survivorship count\n",
       "1 Ambient_Pathogen  0            8   \n",
       "2 Ambient_Pathogen  1           22   \n",
       "3 Ambient_Placebo   0           31   \n",
       "4 NH4_Pathogen      0           21   \n",
       "5 NH4_Pathogen      1           28   \n",
       "6 NH4_Placebo       0           56   \n",
       "7 NH4_Placebo       1            7   \n",
       "8 NH4_Placebo      NA            1   "
      ]
     },
     "metadata": {},
     "output_type": "display_data"
    }
   ],
   "source": [
    "sample_data(ps_disease) %>%\n",
    "  group_by(Combo, Survivorship) %>%\n",
    "  summarize(count = n())"
   ]
  },
  {
   "cell_type": "code",
   "execution_count": 7,
   "id": "03b08d73-b06c-4432-a3e3-2793dff86e20",
   "metadata": {},
   "outputs": [
    {
     "name": "stderr",
     "output_type": "stream",
     "text": [
      "\u001b[1m\u001b[22m`summarise()` has grouped output by 'Combo'. You can override using the\n",
      "`.groups` argument.\n"
     ]
    },
    {
     "data": {
      "text/html": [
       "<table class=\"dataframe\">\n",
       "<caption>A grouped_df: 8 × 3</caption>\n",
       "<thead>\n",
       "\t<tr><th scope=col>Combo</th><th scope=col>Health</th><th scope=col>count</th></tr>\n",
       "\t<tr><th scope=col>&lt;chr&gt;</th><th scope=col>&lt;chr&gt;</th><th scope=col>&lt;int&gt;</th></tr>\n",
       "</thead>\n",
       "<tbody>\n",
       "\t<tr><td>Ambient_Pathogen</td><td>AH</td><td> 8</td></tr>\n",
       "\t<tr><td>Ambient_Pathogen</td><td>DL</td><td>22</td></tr>\n",
       "\t<tr><td>Ambient_Placebo </td><td>AH</td><td>30</td></tr>\n",
       "\t<tr><td>Ambient_Placebo </td><td>DL</td><td> 1</td></tr>\n",
       "\t<tr><td>NH4_Pathogen    </td><td>AH</td><td>20</td></tr>\n",
       "\t<tr><td>NH4_Pathogen    </td><td>DL</td><td>29</td></tr>\n",
       "\t<tr><td>NH4_Placebo     </td><td>AH</td><td>43</td></tr>\n",
       "\t<tr><td>NH4_Placebo     </td><td>DL</td><td>21</td></tr>\n",
       "</tbody>\n",
       "</table>\n"
      ],
      "text/latex": [
       "A grouped\\_df: 8 × 3\n",
       "\\begin{tabular}{lll}\n",
       " Combo & Health & count\\\\\n",
       " <chr> & <chr> & <int>\\\\\n",
       "\\hline\n",
       "\t Ambient\\_Pathogen & AH &  8\\\\\n",
       "\t Ambient\\_Pathogen & DL & 22\\\\\n",
       "\t Ambient\\_Placebo  & AH & 30\\\\\n",
       "\t Ambient\\_Placebo  & DL &  1\\\\\n",
       "\t NH4\\_Pathogen     & AH & 20\\\\\n",
       "\t NH4\\_Pathogen     & DL & 29\\\\\n",
       "\t NH4\\_Placebo      & AH & 43\\\\\n",
       "\t NH4\\_Placebo      & DL & 21\\\\\n",
       "\\end{tabular}\n"
      ],
      "text/markdown": [
       "\n",
       "A grouped_df: 8 × 3\n",
       "\n",
       "| Combo &lt;chr&gt; | Health &lt;chr&gt; | count &lt;int&gt; |\n",
       "|---|---|---|\n",
       "| Ambient_Pathogen | AH |  8 |\n",
       "| Ambient_Pathogen | DL | 22 |\n",
       "| Ambient_Placebo  | AH | 30 |\n",
       "| Ambient_Placebo  | DL |  1 |\n",
       "| NH4_Pathogen     | AH | 20 |\n",
       "| NH4_Pathogen     | DL | 29 |\n",
       "| NH4_Placebo      | AH | 43 |\n",
       "| NH4_Placebo      | DL | 21 |\n",
       "\n"
      ],
      "text/plain": [
       "  Combo            Health count\n",
       "1 Ambient_Pathogen AH      8   \n",
       "2 Ambient_Pathogen DL     22   \n",
       "3 Ambient_Placebo  AH     30   \n",
       "4 Ambient_Placebo  DL      1   \n",
       "5 NH4_Pathogen     AH     20   \n",
       "6 NH4_Pathogen     DL     29   \n",
       "7 NH4_Placebo      AH     43   \n",
       "8 NH4_Placebo      DL     21   "
      ]
     },
     "metadata": {},
     "output_type": "display_data"
    },
    {
     "data": {
      "text/html": [
       "<table class=\"dataframe\">\n",
       "<caption>A tibble: 3 × 2</caption>\n",
       "<thead>\n",
       "\t<tr><th scope=col>Outcome</th><th scope=col>count</th></tr>\n",
       "\t<tr><th scope=col>&lt;chr&gt;</th><th scope=col>&lt;int&gt;</th></tr>\n",
       "</thead>\n",
       "<tbody>\n",
       "\t<tr><td>Healthy   </td><td>30</td></tr>\n",
       "\t<tr><td>Unaffected</td><td>71</td></tr>\n",
       "\t<tr><td>Unhealthy </td><td>73</td></tr>\n",
       "</tbody>\n",
       "</table>\n"
      ],
      "text/latex": [
       "A tibble: 3 × 2\n",
       "\\begin{tabular}{ll}\n",
       " Outcome & count\\\\\n",
       " <chr> & <int>\\\\\n",
       "\\hline\n",
       "\t Healthy    & 30\\\\\n",
       "\t Unaffected & 71\\\\\n",
       "\t Unhealthy  & 73\\\\\n",
       "\\end{tabular}\n"
      ],
      "text/markdown": [
       "\n",
       "A tibble: 3 × 2\n",
       "\n",
       "| Outcome &lt;chr&gt; | count &lt;int&gt; |\n",
       "|---|---|\n",
       "| Healthy    | 30 |\n",
       "| Unaffected | 71 |\n",
       "| Unhealthy  | 73 |\n",
       "\n"
      ],
      "text/plain": [
       "  Outcome    count\n",
       "1 Healthy    30   \n",
       "2 Unaffected 71   \n",
       "3 Unhealthy  73   "
      ]
     },
     "metadata": {},
     "output_type": "display_data"
    },
    {
     "data": {
      "text/html": [
       "<table class=\"dataframe\">\n",
       "<caption>A tibble: 2 × 2</caption>\n",
       "<thead>\n",
       "\t<tr><th scope=col>Health</th><th scope=col>count</th></tr>\n",
       "\t<tr><th scope=col>&lt;chr&gt;</th><th scope=col>&lt;int&gt;</th></tr>\n",
       "</thead>\n",
       "<tbody>\n",
       "\t<tr><td>AH</td><td>101</td></tr>\n",
       "\t<tr><td>DL</td><td> 73</td></tr>\n",
       "</tbody>\n",
       "</table>\n"
      ],
      "text/latex": [
       "A tibble: 2 × 2\n",
       "\\begin{tabular}{ll}\n",
       " Health & count\\\\\n",
       " <chr> & <int>\\\\\n",
       "\\hline\n",
       "\t AH & 101\\\\\n",
       "\t DL &  73\\\\\n",
       "\\end{tabular}\n"
      ],
      "text/markdown": [
       "\n",
       "A tibble: 2 × 2\n",
       "\n",
       "| Health &lt;chr&gt; | count &lt;int&gt; |\n",
       "|---|---|\n",
       "| AH | 101 |\n",
       "| DL |  73 |\n",
       "\n"
      ],
      "text/plain": [
       "  Health count\n",
       "1 AH     101  \n",
       "2 DL      73  "
      ]
     },
     "metadata": {},
     "output_type": "display_data"
    }
   ],
   "source": [
    "sample_data(ps_disease) %>%\n",
    "  group_by(Combo, Health) %>%\n",
    "  summarize(count = n())\n",
    "\n",
    "sample_data(ps_disease) %>%\n",
    "  group_by(Outcome) %>%\n",
    "  summarize(count = n())\n",
    "\n",
    "sample_data(ps_disease) %>%\n",
    "  group_by(Health) %>%\n",
    "  summarize(count = n())"
   ]
  },
  {
   "cell_type": "code",
   "execution_count": 8,
   "id": "c047763a-fb7b-426a-9ddd-e836fde188a0",
   "metadata": {},
   "outputs": [
    {
     "data": {
      "text/plain": [
       "phyloseq-class experiment-level object\n",
       "otu_table()   OTU Table:         [ 1845 taxa and 192 samples ]\n",
       "sample_data() Sample Data:       [ 192 samples by 62 sample variables ]\n",
       "tax_table()   Taxonomy Table:    [ 1845 taxa by 8 taxonomic ranks ]\n",
       "phy_tree()    Phylogenetic Tree: [ 1845 tips and 1561 internal nodes ]"
      ]
     },
     "metadata": {},
     "output_type": "display_data"
    },
    {
     "data": {
      "text/plain": [
       "phyloseq-class experiment-level object\n",
       "otu_table()   OTU Table:         [ 232 taxa and 174 samples ]\n",
       "sample_data() Sample Data:       [ 174 samples by 62 sample variables ]\n",
       "tax_table()   Taxonomy Table:    [ 232 taxa by 8 taxonomic ranks ]\n",
       "phy_tree()    Phylogenetic Tree: [ 232 tips and 193 internal nodes ]"
      ]
     },
     "metadata": {},
     "output_type": "display_data"
    }
   ],
   "source": [
    "ps_fill_clip = filter_taxa(ps_Clipped, function(x) sum(x > 5) > (0.01*length(x)), TRUE)\n",
    "ps_fill_clip                           \n",
    "\n",
    "\n",
    "                          \n",
    "ps_fill_disease = filter_taxa(ps_disease, function(x) sum(x > 5) > (0.05*length(x)), TRUE)\n",
    "ps_fill_disease   \n",
    "\n",
    "#ps_fill_disease= filter_taxa(ps_fill_disease, function(x) sum(x) > 150, TRUE)    \n",
    "#ps_fill_disease                          "
   ]
  },
  {
   "cell_type": "code",
   "execution_count": 9,
   "id": "7d5015b1-824f-4304-b10e-19cd61185944",
   "metadata": {},
   "outputs": [],
   "source": [
    "set.seed(1234)"
   ]
  },
  {
   "cell_type": "code",
   "execution_count": 10,
   "id": "82b1fb87-d9ed-4aac-b752-e35b3efd06aa",
   "metadata": {},
   "outputs": [
    {
     "data": {
      "text/html": [
       "<style>\n",
       ".list-inline {list-style: none; margin:0; padding: 0}\n",
       ".list-inline>li {display: inline-block}\n",
       ".list-inline>li:not(:last-child)::after {content: \"\\00b7\"; padding: 0 .5ex}\n",
       "</style>\n",
       "<ol class=list-inline><li>174</li><li>232</li></ol>\n"
      ],
      "text/latex": [
       "\\begin{enumerate*}\n",
       "\\item 174\n",
       "\\item 232\n",
       "\\end{enumerate*}\n"
      ],
      "text/markdown": [
       "1. 174\n",
       "2. 232\n",
       "\n",
       "\n"
      ],
      "text/plain": [
       "[1] 174 232"
      ]
     },
     "metadata": {},
     "output_type": "display_data"
    },
    {
     "name": "stdout",
     "output_type": "stream",
     "text": [
      "Preparation of a new explainer is initiated\n",
      "  -> model label       :  Ranger \n",
      "  -> data              :  174  rows  232  cols \n",
      "  -> target variable   :  174  values \n",
      "  -> predict function  :  predict_function \n",
      "  -> predicted values  :  No value for predict function target column. ( \u001b[33m default \u001b[39m )\n",
      "  -> model_info        :  package Model of class: LearnerClassifRanger package unrecognized , ver. Unknown , task regression ( \u001b[33m default \u001b[39m ) \n",
      "  -> predicted values  :  numerical, min =  0 , mean =  0.5886296 , max =  0.9990152  \n",
      "  -> residual function :  difference between y and yhat ( \u001b[33m default \u001b[39m )\n",
      "  -> residuals         :  numerical, min =  -0.5800198 , mean =  -0.008169788 , max =  0.5071521  \n",
      " \u001b[32m A new explainer has been created! \u001b[39m \n"
     ]
    }
   ],
   "source": [
    "\n",
    "\n",
    "# select column as response variable \n",
    "predictors <- t(otu_table(ps_fill_disease))\n",
    "dim(predictors)\n",
    "response <- as.factor(sample_data(ps_fill_disease )$Health)\n",
    "rf.data <- data.frame(response, predictors)\n",
    "rf.data <- rf.data[!is.na(rf.data$response), ]\n",
    "\n",
    "# Create task and train\n",
    "task <- TaskClassif$new(id = \"Surv\", backend = rf.data, target = \"response\", positive = \"AH\")\n",
    "learner <- lrn(\"classif.ranger\", predict_type = \"prob\", num.trees = 300)\n",
    "learner$train(task)\n",
    "\n",
    "# Define predict_function\n",
    "predict_function <- function(model, newdata) {\n",
    "  p <- model$predict_newdata(newdata)\n",
    "  prob <- as.data.frame(p$prob)[, \"AH\"]\n",
    "  names(prob) <- rownames(newdata)\n",
    "  return(prob)\n",
    "}\n",
    "\n",
    "# Create explainer\n",
    "explainer <- DALEX::explain(\n",
    "  model = learner,\n",
    "  data = rf.data[, -1],\n",
    "  y = as.numeric(rf.data$response == \"AH\"),\n",
    "  predict_function = predict_function,\n",
    "  label = \"Ranger\"\n",
    ")\n",
    "\n",
    "# SHAP for one observation\n",
    "shap <- predict_parts(\n",
    "  explainer = explainer,\n",
    "  new_observation = rf.data[1, -1, drop = FALSE],\n",
    "  type = \"shap\"\n",
    ")\n",
    "\n",
    "\n"
   ]
  },
  {
   "cell_type": "code",
   "execution_count": 11,
   "id": "96c30ee5-f333-42c0-a3a5-7cc7e1318991",
   "metadata": {},
   "outputs": [
    {
     "data": {
      "text/plain": [
       "        truth\n",
       "response  AH  DL\n",
       "      AH 100   4\n",
       "      DL   1  69"
      ]
     },
     "metadata": {},
     "output_type": "display_data"
    },
    {
     "name": "stdout",
     "output_type": "stream",
     "text": [
      "Accuracy: 0.971 \n",
      "Precision: 0.962 \n",
      "Recall: 0.99 \n",
      "F1 Score: 0.976 \n"
     ]
    }
   ],
   "source": [
    "learner$train(task)\n",
    "prediction <- learner$predict(task)\n",
    "# Confusion matrix\n",
    "prediction$confusion\n",
    "\n",
    "# Accuracy\n",
    "accuracy <- prediction$score(msr(\"classif.acc\"))\n",
    "\n",
    "# Precision (for positive class \"AH\")\n",
    "precision <- prediction$score(msr(\"classif.precision\"))\n",
    "\n",
    "# Recall (a.k.a. Sensitivity)\n",
    "recall <- prediction$score(msr(\"classif.recall\"))\n",
    "\n",
    "# F1 score (optional)\n",
    "f1 <- prediction$score(msr(\"classif.fbeta\"))\n",
    "\n",
    "# Print all\n",
    "cat(\"Accuracy:\", round(accuracy, 3), \"\\n\")\n",
    "cat(\"Precision:\", round(precision, 3), \"\\n\")\n",
    "cat(\"Recall:\", round(recall, 3), \"\\n\")\n",
    "cat(\"F1 Score:\", round(f1, 3), \"\\n\")"
   ]
  },
  {
   "cell_type": "markdown",
   "id": "a9fe19de-4e0d-44fa-b43b-7c972d8a40c0",
   "metadata": {},
   "source": [
    "## Test model"
   ]
  },
  {
   "cell_type": "code",
   "execution_count": 12,
   "id": "afa8936b-513b-49cf-8996-ce2bbffa7d83",
   "metadata": {},
   "outputs": [
    {
     "name": "stdout",
     "output_type": "stream",
     "text": [
      "INFO  [10:58:04.601] [mlr3] Applying learner 'classif.ranger' on task 'Surv' (iter 1/5)\n",
      "INFO  [10:58:04.653] [mlr3] Applying learner 'classif.ranger' on task 'Surv' (iter 2/5)\n",
      "INFO  [10:58:04.694] [mlr3] Applying learner 'classif.ranger' on task 'Surv' (iter 3/5)\n",
      "INFO  [10:58:04.732] [mlr3] Applying learner 'classif.ranger' on task 'Surv' (iter 4/5)\n",
      "INFO  [10:58:04.767] [mlr3] Applying learner 'classif.ranger' on task 'Surv' (iter 5/5)\n"
     ]
    }
   ],
   "source": [
    "# Define the resampling strategy (5-fold cross-validation)\n",
    "resampling <- rsmp(\"cv\", folds = 5)\n",
    "\n",
    "# Perform the cross-validation\n",
    "rr <- resample(task = task, learner = learner, resampling = resampling, store_models = TRUE)\n",
    "\n"
   ]
  },
  {
   "cell_type": "code",
   "execution_count": 13,
   "id": "709db055-e596-4893-bac2-471d2fbc9e10",
   "metadata": {},
   "outputs": [
    {
     "data": {
      "text/html": [
       "<table class=\"dataframe\">\n",
       "<caption>A data.frame: 6 × 15</caption>\n",
       "<thead>\n",
       "\t<tr><th></th><th scope=col>variable</th><th scope=col>contribution</th><th scope=col>variable_name</th><th scope=col>variable_value</th><th scope=col>sign</th><th scope=col>label</th><th scope=col>B</th><th scope=col>Kingdom</th><th scope=col>Phylum</th><th scope=col>Class</th><th scope=col>Order</th><th scope=col>Family</th><th scope=col>Genus</th><th scope=col>Species</th><th scope=col>ASVs</th></tr>\n",
       "\t<tr><th></th><th scope=col>&lt;chr&gt;</th><th scope=col>&lt;dbl&gt;</th><th scope=col>&lt;chr&gt;</th><th scope=col>&lt;chr&gt;</th><th scope=col>&lt;dbl&gt;</th><th scope=col>&lt;chr&gt;</th><th scope=col>&lt;dbl&gt;</th><th scope=col>&lt;chr&gt;</th><th scope=col>&lt;chr&gt;</th><th scope=col>&lt;chr&gt;</th><th scope=col>&lt;chr&gt;</th><th scope=col>&lt;chr&gt;</th><th scope=col>&lt;chr&gt;</th><th scope=col>&lt;chr&gt;</th><th scope=col>&lt;chr&gt;</th></tr>\n",
       "</thead>\n",
       "<tbody>\n",
       "\t<tr><th scope=row>1</th><td>a0fc8d8c3c84ed90adfdb3c3828a3341 = 0</td><td>-8.445418e-05</td><td>a0fc8d8c3c84ed90adfdb3c3828a3341</td><td>0</td><td>-1</td><td>Ranger</td><td>0</td><td>d__Bacteria</td><td> p__Verrucomicrobiota</td><td> c__Verrucomicrobiae   </td><td> o__Verrucomicrobiales</td><td> f__Rubritaleaceae  </td><td> g__Rubritalea   </td><td> s__Rubritalea_tangerina</td><td>ASV_6413</td></tr>\n",
       "\t<tr><th scope=row>2</th><td>a14b7162edeb7a30ddb2a46656539857 = 0</td><td>-1.413836e-04</td><td>a14b7162edeb7a30ddb2a46656539857</td><td>0</td><td>-1</td><td>Ranger</td><td>0</td><td>d__Bacteria</td><td> p__Proteobacteria   </td><td> c__Alphaproteobacteria</td><td> o__Rhodobacterales   </td><td> f__Rhodobacteraceae</td><td>NA               </td><td>NA                      </td><td>ASV_6427</td></tr>\n",
       "\t<tr><th scope=row>3</th><td>a375bcfe89e6846168661528279a2e38 = 0</td><td> 2.220899e-04</td><td>a375bcfe89e6846168661528279a2e38</td><td>0</td><td> 1</td><td>Ranger</td><td>0</td><td>d__Bacteria</td><td> p__Proteobacteria   </td><td> c__Alphaproteobacteria</td><td> o__Rhodobacterales   </td><td> f__Rhodobacteraceae</td><td>NA               </td><td>NA                      </td><td>ASV_6507</td></tr>\n",
       "\t<tr><th scope=row>4</th><td>a3c29bcb6997cfe572a474e58291af1d = 0</td><td>-8.248446e-04</td><td>a3c29bcb6997cfe572a474e58291af1d</td><td>0</td><td>-1</td><td>Ranger</td><td>0</td><td>d__Bacteria</td><td> p__Spirochaetota    </td><td> c__Spirochaetia       </td><td> o__Spirochaetales    </td><td> f__Spirochaetaceae </td><td> g__Spirochaeta_2</td><td>NA                      </td><td>ASV_6512</td></tr>\n",
       "\t<tr><th scope=row>5</th><td>a3fbbac5fc06325d6d2d662fb9b47510 = 0</td><td> 7.471264e-06</td><td>a3fbbac5fc06325d6d2d662fb9b47510</td><td>0</td><td> 1</td><td>Ranger</td><td>0</td><td>d__Bacteria</td><td> p__Proteobacteria   </td><td> c__Alphaproteobacteria</td><td> o__Rickettsiales     </td><td> f__Fokiniaceae     </td><td> g__MD3-55       </td><td>NA                      </td><td>ASV_6526</td></tr>\n",
       "\t<tr><th scope=row>6</th><td>a5997412dbc7bdf31e2f533103884dbe = 0</td><td>-1.086590e-04</td><td>a5997412dbc7bdf31e2f533103884dbe</td><td>0</td><td>-1</td><td>Ranger</td><td>0</td><td>d__Bacteria</td><td> p__Proteobacteria   </td><td> c__Alphaproteobacteria</td><td> o__Rhodobacterales   </td><td> f__Rhodobacteraceae</td><td> g__Shimia       </td><td>NA                      </td><td>ASV_6577</td></tr>\n",
       "</tbody>\n",
       "</table>\n"
      ],
      "text/latex": [
       "A data.frame: 6 × 15\n",
       "\\begin{tabular}{r|lllllllllllllll}\n",
       "  & variable & contribution & variable\\_name & variable\\_value & sign & label & B & Kingdom & Phylum & Class & Order & Family & Genus & Species & ASVs\\\\\n",
       "  & <chr> & <dbl> & <chr> & <chr> & <dbl> & <chr> & <dbl> & <chr> & <chr> & <chr> & <chr> & <chr> & <chr> & <chr> & <chr>\\\\\n",
       "\\hline\n",
       "\t1 & a0fc8d8c3c84ed90adfdb3c3828a3341 = 0 & -8.445418e-05 & a0fc8d8c3c84ed90adfdb3c3828a3341 & 0 & -1 & Ranger & 0 & d\\_\\_Bacteria &  p\\_\\_Verrucomicrobiota &  c\\_\\_Verrucomicrobiae    &  o\\_\\_Verrucomicrobiales &  f\\_\\_Rubritaleaceae   &  g\\_\\_Rubritalea    &  s\\_\\_Rubritalea\\_tangerina & ASV\\_6413\\\\\n",
       "\t2 & a14b7162edeb7a30ddb2a46656539857 = 0 & -1.413836e-04 & a14b7162edeb7a30ddb2a46656539857 & 0 & -1 & Ranger & 0 & d\\_\\_Bacteria &  p\\_\\_Proteobacteria    &  c\\_\\_Alphaproteobacteria &  o\\_\\_Rhodobacterales    &  f\\_\\_Rhodobacteraceae & NA                & NA                       & ASV\\_6427\\\\\n",
       "\t3 & a375bcfe89e6846168661528279a2e38 = 0 &  2.220899e-04 & a375bcfe89e6846168661528279a2e38 & 0 &  1 & Ranger & 0 & d\\_\\_Bacteria &  p\\_\\_Proteobacteria    &  c\\_\\_Alphaproteobacteria &  o\\_\\_Rhodobacterales    &  f\\_\\_Rhodobacteraceae & NA                & NA                       & ASV\\_6507\\\\\n",
       "\t4 & a3c29bcb6997cfe572a474e58291af1d = 0 & -8.248446e-04 & a3c29bcb6997cfe572a474e58291af1d & 0 & -1 & Ranger & 0 & d\\_\\_Bacteria &  p\\_\\_Spirochaetota     &  c\\_\\_Spirochaetia        &  o\\_\\_Spirochaetales     &  f\\_\\_Spirochaetaceae  &  g\\_\\_Spirochaeta\\_2 & NA                       & ASV\\_6512\\\\\n",
       "\t5 & a3fbbac5fc06325d6d2d662fb9b47510 = 0 &  7.471264e-06 & a3fbbac5fc06325d6d2d662fb9b47510 & 0 &  1 & Ranger & 0 & d\\_\\_Bacteria &  p\\_\\_Proteobacteria    &  c\\_\\_Alphaproteobacteria &  o\\_\\_Rickettsiales      &  f\\_\\_Fokiniaceae      &  g\\_\\_MD3-55        & NA                       & ASV\\_6526\\\\\n",
       "\t6 & a5997412dbc7bdf31e2f533103884dbe = 0 & -1.086590e-04 & a5997412dbc7bdf31e2f533103884dbe & 0 & -1 & Ranger & 0 & d\\_\\_Bacteria &  p\\_\\_Proteobacteria    &  c\\_\\_Alphaproteobacteria &  o\\_\\_Rhodobacterales    &  f\\_\\_Rhodobacteraceae &  g\\_\\_Shimia        & NA                       & ASV\\_6577\\\\\n",
       "\\end{tabular}\n"
      ],
      "text/markdown": [
       "\n",
       "A data.frame: 6 × 15\n",
       "\n",
       "| <!--/--> | variable &lt;chr&gt; | contribution &lt;dbl&gt; | variable_name &lt;chr&gt; | variable_value &lt;chr&gt; | sign &lt;dbl&gt; | label &lt;chr&gt; | B &lt;dbl&gt; | Kingdom &lt;chr&gt; | Phylum &lt;chr&gt; | Class &lt;chr&gt; | Order &lt;chr&gt; | Family &lt;chr&gt; | Genus &lt;chr&gt; | Species &lt;chr&gt; | ASVs &lt;chr&gt; |\n",
       "|---|---|---|---|---|---|---|---|---|---|---|---|---|---|---|---|\n",
       "| 1 | a0fc8d8c3c84ed90adfdb3c3828a3341 = 0 | -8.445418e-05 | a0fc8d8c3c84ed90adfdb3c3828a3341 | 0 | -1 | Ranger | 0 | d__Bacteria |  p__Verrucomicrobiota |  c__Verrucomicrobiae    |  o__Verrucomicrobiales |  f__Rubritaleaceae   |  g__Rubritalea    |  s__Rubritalea_tangerina | ASV_6413 |\n",
       "| 2 | a14b7162edeb7a30ddb2a46656539857 = 0 | -1.413836e-04 | a14b7162edeb7a30ddb2a46656539857 | 0 | -1 | Ranger | 0 | d__Bacteria |  p__Proteobacteria    |  c__Alphaproteobacteria |  o__Rhodobacterales    |  f__Rhodobacteraceae | NA                | NA                       | ASV_6427 |\n",
       "| 3 | a375bcfe89e6846168661528279a2e38 = 0 |  2.220899e-04 | a375bcfe89e6846168661528279a2e38 | 0 |  1 | Ranger | 0 | d__Bacteria |  p__Proteobacteria    |  c__Alphaproteobacteria |  o__Rhodobacterales    |  f__Rhodobacteraceae | NA                | NA                       | ASV_6507 |\n",
       "| 4 | a3c29bcb6997cfe572a474e58291af1d = 0 | -8.248446e-04 | a3c29bcb6997cfe572a474e58291af1d | 0 | -1 | Ranger | 0 | d__Bacteria |  p__Spirochaetota     |  c__Spirochaetia        |  o__Spirochaetales     |  f__Spirochaetaceae  |  g__Spirochaeta_2 | NA                       | ASV_6512 |\n",
       "| 5 | a3fbbac5fc06325d6d2d662fb9b47510 = 0 |  7.471264e-06 | a3fbbac5fc06325d6d2d662fb9b47510 | 0 |  1 | Ranger | 0 | d__Bacteria |  p__Proteobacteria    |  c__Alphaproteobacteria |  o__Rickettsiales      |  f__Fokiniaceae      |  g__MD3-55        | NA                       | ASV_6526 |\n",
       "| 6 | a5997412dbc7bdf31e2f533103884dbe = 0 | -1.086590e-04 | a5997412dbc7bdf31e2f533103884dbe | 0 | -1 | Ranger | 0 | d__Bacteria |  p__Proteobacteria    |  c__Alphaproteobacteria |  o__Rhodobacterales    |  f__Rhodobacteraceae |  g__Shimia        | NA                       | ASV_6577 |\n",
       "\n"
      ],
      "text/plain": [
       "  variable                             contribution \n",
       "1 a0fc8d8c3c84ed90adfdb3c3828a3341 = 0 -8.445418e-05\n",
       "2 a14b7162edeb7a30ddb2a46656539857 = 0 -1.413836e-04\n",
       "3 a375bcfe89e6846168661528279a2e38 = 0  2.220899e-04\n",
       "4 a3c29bcb6997cfe572a474e58291af1d = 0 -8.248446e-04\n",
       "5 a3fbbac5fc06325d6d2d662fb9b47510 = 0  7.471264e-06\n",
       "6 a5997412dbc7bdf31e2f533103884dbe = 0 -1.086590e-04\n",
       "  variable_name                    variable_value sign label  B Kingdom    \n",
       "1 a0fc8d8c3c84ed90adfdb3c3828a3341 0              -1   Ranger 0 d__Bacteria\n",
       "2 a14b7162edeb7a30ddb2a46656539857 0              -1   Ranger 0 d__Bacteria\n",
       "3 a375bcfe89e6846168661528279a2e38 0               1   Ranger 0 d__Bacteria\n",
       "4 a3c29bcb6997cfe572a474e58291af1d 0              -1   Ranger 0 d__Bacteria\n",
       "5 a3fbbac5fc06325d6d2d662fb9b47510 0               1   Ranger 0 d__Bacteria\n",
       "6 a5997412dbc7bdf31e2f533103884dbe 0              -1   Ranger 0 d__Bacteria\n",
       "  Phylum                Class                   Order                 \n",
       "1  p__Verrucomicrobiota  c__Verrucomicrobiae     o__Verrucomicrobiales\n",
       "2  p__Proteobacteria     c__Alphaproteobacteria  o__Rhodobacterales   \n",
       "3  p__Proteobacteria     c__Alphaproteobacteria  o__Rhodobacterales   \n",
       "4  p__Spirochaetota      c__Spirochaetia         o__Spirochaetales    \n",
       "5  p__Proteobacteria     c__Alphaproteobacteria  o__Rickettsiales     \n",
       "6  p__Proteobacteria     c__Alphaproteobacteria  o__Rhodobacterales   \n",
       "  Family               Genus             Species                  ASVs    \n",
       "1  f__Rubritaleaceae    g__Rubritalea     s__Rubritalea_tangerina ASV_6413\n",
       "2  f__Rhodobacteraceae NA                NA                       ASV_6427\n",
       "3  f__Rhodobacteraceae NA                NA                       ASV_6507\n",
       "4  f__Spirochaetaceae   g__Spirochaeta_2 NA                       ASV_6512\n",
       "5  f__Fokiniaceae       g__MD3-55        NA                       ASV_6526\n",
       "6  f__Rhodobacteraceae  g__Shimia        NA                       ASV_6577"
      ]
     },
     "metadata": {},
     "output_type": "display_data"
    },
    {
     "data": {
      "text/html": [
       "<style>\n",
       ".list-inline {list-style: none; margin:0; padding: 0}\n",
       ".list-inline>li {display: inline-block}\n",
       ".list-inline>li:not(:last-child)::after {content: \"\\00b7\"; padding: 0 .5ex}\n",
       "</style>\n",
       "<ol class=list-inline><li>6032</li><li>15</li></ol>\n"
      ],
      "text/latex": [
       "\\begin{enumerate*}\n",
       "\\item 6032\n",
       "\\item 15\n",
       "\\end{enumerate*}\n"
      ],
      "text/markdown": [
       "1. 6032\n",
       "2. 15\n",
       "\n",
       "\n"
      ],
      "text/plain": [
       "[1] 6032   15"
      ]
     },
     "metadata": {},
     "output_type": "display_data"
    }
   ],
   "source": [
    "#Convert SHAP results to dataframe\n",
    "shap_df <- as.data.frame(shap)\n",
    "\n",
    "#Create and clean variable_name from 'variable' column\n",
    "shap_df$variable_name <- gsub(\" = .*\", \"\", shap_df$variable)                     # Remove '= value'\n",
    "shap_df$variable_name <- gsub(\"X\", \"\", shap_df$variable_name)                   # Remove leading 'X' from numeric feature names (if needed)\n",
    "shap_df$variable_name <- tolower(shap_df$variable_name)                         # Optional: lowercase for consistency\n",
    "\n",
    "# Prepare taxonomy table\n",
    "taxonomy_df <- as.data.frame(tax_table(ps_fill_disease))\n",
    "taxonomy_df$variable_name <- rownames(taxonomy_df)\n",
    "taxonomy_df$variable_name <- gsub(\"^X\", \"\", taxonomy_df$variable_name)          # Remove leading X if present in rownames\n",
    "taxonomy_df$variable_name <- tolower(taxonomy_df$variable_name)                # Optional\n",
    "\n",
    "#  Merge SHAP results with taxonomy info\n",
    "merged_data <- dplyr::inner_join(shap_df, taxonomy_df, by = \"variable_name\")\n",
    "\n",
    "# Inspect result\n",
    "head(merged_data)\n",
    "dim(merged_data)\n",
    "#write.table(merged_data, \"/Users/stephanie.rosales/Documents/omics_projects/Resitada/ML/merged_data.txt\") "
   ]
  },
  {
   "cell_type": "code",
   "execution_count": 14,
   "id": "8b9b45e3-4a7f-4018-a11a-ad3e6eb10a10",
   "metadata": {
    "scrolled": true
   },
   "outputs": [
    {
     "data": {
      "image/png": "[encoded data removed]",
      "text/plain": [
       "plot without title"
      ]
     },
     "metadata": {
      "image/png": {
       "height": 420,
       "width": 420
      }
     },
     "output_type": "display_data"
    }
   ],
   "source": [
    "# Prepare top SHAP features\n",
    "top_shap <- merged_data %>%\n",
    "mutate_if(\n",
    "                is.character, \n",
    "                stringr::str_replace_all, \n",
    "                pattern = \"o__\",\n",
    "                replacement = \"\") %>%\n",
    "filter(variable_value != 0.0) %>%\n",
    " filter(contribution > 0) %>%\n",
    "\n",
    "  group_by(ASVs, Order) %>%\n",
    "  summarize(mean_shap = mean(abs(contribution), na.rm = TRUE), .groups = \"drop\") %>%\n",
    "#summarize(mean_shap = mean(contribution, na.rm = TRUE), .groups = \"drop\") %>%\n",
    "  arrange(desc(mean_shap)) %>%\n",
    "  slice(1:5)\n",
    "\n",
    "# Plot\n",
    "ggplot(top_shap, aes(x = reorder(ASVs, mean_shap), y = mean_shap, fill = Order)) +\n",
    "  geom_col() +\n",
    "  coord_flip() +\n",
    "scale_fill_manual(values=c( \"#3CB371\",\"orange\", \"Navy\"\n",
    "                           )) +\n",
    "  labs(x = \"ASVs\", y = \"Mean SHAP Contribution\", fill = \"Order\") +\n",
    "  theme_bw() +\n",
    " theme(\n",
    "    axis.title.x = element_text(size = 4),\n",
    "    axis.title.y = element_text(size = 4),\n",
    "    axis.text.x =  element_text(size = 4),\n",
    "    axis.text.y = element_text(size = 4),\n",
    " \n",
    "          panel.spacing.x = unit(0.0, \"lines\"),\n",
    "    panel.spacing.y = unit(0.0, \"lines\"),\n",
    "    legend.text = element_text(size = 4),\n",
    "    legend.title = element_text(size = 4)\n",
    "  ) \n",
    "\n",
    "ggsave(\"/Users/stephanie.rosales/Documents/omics_projects/Resitada/figures/SuppFig8.png\", \n",
    "     width =4, height = 4, units = \"in\", dpi=300)"
   ]
  },
  {
   "cell_type": "code",
   "execution_count": 15,
   "id": "d1999f88-2074-4e2b-8ce3-c41b6d491f72",
   "metadata": {},
   "outputs": [],
   "source": [
    "sum_Clipped = ps_fill_disease %>%\n",
    "  subset_samples(filter_unpair==\"no\") %>%\n",
    "  tax_glom(taxrank = \"ASVs\") %>%\n",
    "  transform_sample_counts(function(x) {x/sum(x)} ) %>%# Transform to rel. abundance\n",
    "  psmelt()\n"
   ]
  },
  {
   "cell_type": "code",
   "execution_count": 16,
   "id": "e73f8e12-0c80-412a-b67a-cf65f6171f2c",
   "metadata": {
    "editable": true,
    "slideshow": {
     "slide_type": ""
    },
    "tags": []
   },
   "outputs": [
    {
     "name": "stderr",
     "output_type": "stream",
     "text": [
      "Warning message:\n",
      "“\u001b[1m\u001b[22mThe dot-dot notation (`..rr.label..`) was deprecated in ggplot2 3.4.0.\n",
      "\u001b[36mℹ\u001b[39m Please use `after_stat(rr.label)` instead.”\n"
     ]
    },
    {
     "data": {
      "image/png": "[encoded data removed]",
      "text/plain": [
       "plot without title"
      ]
     },
     "metadata": {
      "image/png": {
       "height": 420,
       "width": 420
      }
     },
     "output_type": "display_data"
    }
   ],
   "source": [
    "# Define ASVs of interest\n",
    "rick <- c(\"ASV_951\",\"ASV_10105\", \"ASV_3874\")\n",
    "# Reorder treatment factor levels\n",
    "sum_Clipped$Combo <- factor(\n",
    " sum_Clipped$Combo,\n",
    "  levels = c(\"Ambient_Placebo\",\"Ambient_Pathogen\", \"NH4_Placebo\", \"NH4_Pathogen\")\n",
    ")\n",
    "\n",
    "# Define plot labels\n",
    "lab1 <- c(\n",
    "  expression(Ambient + Placebo),\n",
    "  expression(Ambient + Disease),\n",
    "  expression(NH[4] + Placebo), \n",
    "  expression(NH[4] + Disease)\n",
    ")\n",
    "\n",
    "# Generate plot\n",
    "sum_Clipped %>%\n",
    "  filter(\n",
    "    ASVs %in% rick,\n",
    "    Genotype != \"U41\",\n",
    "  ) %>%\n",
    "  \n",
    "\n",
    "  ggplot(aes(x = surv, y = Abundance, color = Combo)) +  \n",
    "geom_smooth(aes(x = surv, y = Abundance), method = \"lm\", formula = y ~ x,  color = \"black\", alpha=0.5) +\n",
    "\n",
    "    stat_summary(\n",
    "    fun.data = mean_se, # or mean_cl_normal, mean_cl_boot\n",
    "    geom = \"pointrange\",\n",
    "    position = position_dodge(width = 0.0),\n",
    "    size = 0.3,\n",
    "    alpha = 0.7\n",
    "        \n",
    "  ) +\n",
    "  scale_color_manual(\n",
    "    \"Treatments\", \n",
    "    values = c(\"lightblue\", \"salmon\", \"#00688B\", \"#bc6767\"), \n",
    "   labels = lab1\n",
    "  ) +\n",
    "\n",
    "  stat_poly_eq(\n",
    "    formula = y ~ x,\n",
    "    eq.with.lhs = \"italic(hat(y))~`=`~\",\n",
    "    aes(label = paste(..rr.label.., ..p.value.label.., sep = \"~~~\")),\n",
    "    parse = TRUE, \n",
    "    label.y = 0.35, \n",
    "    label.x = \"left\",\n",
    "    color = \"black\", \n",
    "    rr.digits = 2,\n",
    "    size = 2\n",
    "  ) +\n",
    "\n",
    "  stat_poly_eq(\n",
    "    aes(label = paste(..eq.label.., sep = \"~~~\")), \n",
    "    formula = y ~ x,\n",
    "    eq.with.lhs = \"italic(hat(y))~`=`~\",\n",
    "    eq.x.rhs = \"~italic(x)\",\n",
    "    parse = TRUE,\n",
    "    label.y = 0.20,\n",
    "    label.x = \"left\",\n",
    "    size = 2,\n",
    "    color = \"black\"\n",
    "  ) +\n",
    "\n",
    "  facet_wrap(Genotype ~ ., nrow=2) +\n",
    "\n",
    "  theme_bw() +\n",
    "theme(\n",
    "    strip.background = element_blank(),\n",
    "    strip.text.x = element_text(size = 5),\n",
    "    legend.text = element_text(size = 4),\n",
    "    legend.title = element_text(size = 4),\n",
    "    legend.position = \"bottom\",\n",
    "    legend.box = \"horizontal\",\n",
    "    legend.direction = \"horizontal\",\n",
    "    axis.title.x = element_text(size = 5),\n",
    "    axis.title.y = element_text(size = 5),\n",
    "    axis.text.y = element_text(size = 4),\n",
    "      axis.text.x = element_text(size = 4)\n",
    "  ) +\n",
    "\n",
    "  ylab(\"Rickettsiales Relative Abundance\") +\n",
    "  xlab(\"% Survivorship\")\n",
    "ggsave(\"/Users/stephanie.rosales/Documents/omics_projects/Resitada/figures/Fig5.png\", \n",
    "      width =5, height = 4, units = \"in\", dpi=300)"
   ]
  }
 ],
 "metadata": {
  "kernelspec": {
   "display_name": "R",
   "language": "R",
   "name": "ir"
  },
  "language_info": {
   "codemirror_mode": "r",
   "file_extension": ".r",
   "mimetype": "text/x-r-source",
   "name": "R",
   "pygments_lexer": "r",
   "version": "4.5.1"
  }
 },
 "nbformat": 4,
 "nbformat_minor": 5
}
