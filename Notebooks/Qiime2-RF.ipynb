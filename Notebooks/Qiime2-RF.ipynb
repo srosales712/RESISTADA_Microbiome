{
 "cells": [
  {
   "cell_type": "code",
   "execution_count": 2,
   "id": "8fea08a5",
   "metadata": {},
   "outputs": [
    {
     "name": "stdout",
     "output_type": "stream",
     "text": [
      "/Users/stephanie.rosales/miniconda3/envs/qiime2-2021.11/bin/qiime\r\n"
     ]
    }
   ],
   "source": [
    "!which qiime"
   ]
  },
  {
   "cell_type": "code",
   "execution_count": 1,
   "id": "0ddcc251",
   "metadata": {},
   "outputs": [
    {
     "name": "stdout",
     "output_type": "stream",
     "text": [
      "/Users/stephanie.rosales/Documents/omics_projects/Resitada/Notebooks\r\n"
     ]
    }
   ],
   "source": [
    "!pwd"
   ]
  },
  {
   "cell_type": "code",
   "execution_count": null,
   "id": "44357c44",
   "metadata": {},
   "outputs": [],
   "source": [
    "#--p-where \"Type='Clipped' AND Genotype!='U41' AND Genotype!='U44'\" \\"
   ]
  },
  {
   "cell_type": "code",
   "execution_count": 21,
   "id": "c8573a51",
   "metadata": {},
   "outputs": [
    {
     "name": "stdout",
     "output_type": "stream",
     "text": [
      "\u001b[32mSaved FeatureTable[Frequency] to: /Users/stephanie.rosales/Documents/omics_projects/Resitada/ML/table-Clipped_resistada.qza\u001b[0m\n",
      "\u001b[0m"
     ]
    }
   ],
   "source": [
    "#select samples\n",
    "!qiime feature-table filter-samples \\\n",
    "  --i-table /Users/stephanie.rosales/Documents/omics_projects/Resitada/qiime_output/table-BacArc_resistada.qza \\\n",
    "  --p-no-exclude-ids \\\n",
    "  --p-where \"Type='Clipped' AND Genotype!='U41'\" \\\n",
    "  --m-metadata-file /Users/stephanie.rosales/Documents/omics_projects/Resitada/metadata_RESISTADA.txt \\\n",
    "  --o-filtered-table /Users/stephanie.rosales/Documents/omics_projects/Resitada/ML/table-Clipped_resistada.qza"
   ]
  },
  {
   "cell_type": "code",
   "execution_count": 19,
   "id": "1f9ddf49",
   "metadata": {},
   "outputs": [
    {
     "name": "stdout",
     "output_type": "stream",
     "text": [
      "\u001b[32mSaved FeatureTable[Frequency] to: table-Clipped_resistada.qza\u001b[0m\n",
      "\u001b[0m"
     ]
    }
   ],
   "source": [
    "!qiime taxa filter-table \\\n",
    "  --i-table /Users/stephanie.rosales/Documents/omics_projects/Resitada/ML/table-Clipped_resistada.qza \\\n",
    "  --i-taxonomy /Users/stephanie.rosales/Documents/omics_projects/Resitada/qiime_output/taxonomy_resistada.qza \\\n",
    "  --p-exclude d__Bacteria \\\n",
    "   --p-mode exact \\\n",
    "  --o-filtered-table table-Clipped_resistada.qza"
   ]
  },
  {
   "cell_type": "code",
   "execution_count": 20,
   "id": "8efc2c74",
   "metadata": {},
   "outputs": [
    {
     "name": "stdout",
     "output_type": "stream",
     "text": [
      "\u001b[32mSaved FeatureTable[Frequency] to: /Users/stephanie.rosales/Documents/omics_projects/Resitada/ML/table_AmPl_resistada.qza\u001b[0m\n",
      "\u001b[0m\u001b[32mSaved FeatureTable[Frequency] to: /Users/stephanie.rosales/Documents/omics_projects/Resitada/ML/table_AmPa_resistada.qza\u001b[0m\n",
      "\u001b[0m\u001b[32mSaved FeatureTable[Frequency] to: /Users/stephanie.rosales/Documents/omics_projects/Resitada/ML/table_NHPl_resistada.qza\u001b[0m\n",
      "\u001b[0m"
     ]
    }
   ],
   "source": [
    "#select samples\n",
    "!qiime feature-table filter-samples \\\n",
    "  --i-table /Users/stephanie.rosales/Documents/omics_projects/Resitada/ML/table-Clipped_resistada.qza \\\n",
    "  --p-no-exclude-ids \\\n",
    "  --p-where \"Combo='Ambient_Placebo'\" \\\n",
    "  --m-metadata-file /Users/stephanie.rosales/Documents/omics_projects/Resitada/metadata_RESISTADA.txt \\\n",
    "  --o-filtered-table /Users/stephanie.rosales/Documents/omics_projects/Resitada/ML/table_AmPl_resistada.qza\n",
    "\n",
    "\n",
    "#select samples\n",
    "!qiime feature-table filter-samples \\\n",
    "  --i-table /Users/stephanie.rosales/Documents/omics_projects/Resitada/ML/table-Clipped_resistada.qza \\\n",
    "  --p-no-exclude-ids \\\n",
    "  --p-where \"Combo='Ambient_Pathogen'\" \\\n",
    "  --m-metadata-file /Users/stephanie.rosales/Documents/omics_projects/Resitada/metadata_RESISTADA.txt \\\n",
    "  --o-filtered-table /Users/stephanie.rosales/Documents/omics_projects/Resitada/ML/table_AmPa_resistada.qza\n",
    "\n",
    "\n",
    "#select samples\n",
    "!qiime feature-table filter-samples \\\n",
    "  --i-table /Users/stephanie.rosales/Documents/omics_projects/Resitada/ML/table-Clipped_resistada.qza \\\n",
    "  --p-no-exclude-ids \\\n",
    "  --p-where \"Combo='NH4_Placebo'\" \\\n",
    "  --m-metadata-file /Users/stephanie.rosales/Documents/omics_projects/Resitada/metadata_RESISTADA.txt \\\n",
    "  --o-filtered-table /Users/stephanie.rosales/Documents/omics_projects/Resitada/ML/table_NHPl_resistada.qza"
   ]
  },
  {
   "cell_type": "code",
   "execution_count": 21,
   "id": "2f1e0ec5",
   "metadata": {},
   "outputs": [
    {
     "name": "stdout",
     "output_type": "stream",
     "text": [
      "\u001b[32mSaved Visualization to: /Users/stephanie.rosales/Documents/omics_projects/Resitada/ML/table_AmPl_resistada.qzv\u001b[0m\n",
      "\u001b[0m\u001b[32mSaved Visualization to: /Users/stephanie.rosales/Documents/omics_projects/Resitada/ML/table_AmPa_resistada.qzv\u001b[0m\n",
      "\u001b[0m\u001b[32mSaved Visualization to: /Users/stephanie.rosales/Documents/omics_projects/Resitada/ML/table_NHPl_resistada.qzv\u001b[0m\n",
      "\u001b[0m"
     ]
    }
   ],
   "source": [
    "#summarize data to view counts distribution\n",
    "!qiime feature-table summarize \\\n",
    "--i-table /Users/stephanie.rosales/Documents/omics_projects/Resitada/ML/table_AmPl_resistada.qza  \\\n",
    "--m-sample-metadata-file /Users/stephanie.rosales/Documents/omics_projects/Resitada/metadata_RESISTADA.txt \\\n",
    "--o-visualization /Users/stephanie.rosales/Documents/omics_projects/Resitada/ML/table_AmPl_resistada.qzv\n",
    "\n",
    "!qiime feature-table summarize \\\n",
    "--i-table /Users/stephanie.rosales/Documents/omics_projects/Resitada/ML/table_AmPa_resistada.qza \\\n",
    "--m-sample-metadata-file /Users/stephanie.rosales/Documents/omics_projects/Resitada/metadata_RESISTADA.txt \\\n",
    "--o-visualization /Users/stephanie.rosales/Documents/omics_projects/Resitada/ML/table_AmPa_resistada.qzv\n",
    "\n",
    "!qiime feature-table summarize \\\n",
    "--i-table  /Users/stephanie.rosales/Documents/omics_projects/Resitada/ML/table_NHPl_resistada.qza \\\n",
    "--m-sample-metadata-file /Users/stephanie.rosales/Documents/omics_projects/Resitada/metadata_RESISTADA.txt \\\n",
    "--o-visualization /Users/stephanie.rosales/Documents/omics_projects/Resitada/ML/table_NHPl_resistada.qzv"
   ]
  },
  {
   "cell_type": "code",
   "execution_count": 22,
   "id": "9bf3e3ba",
   "metadata": {},
   "outputs": [
    {
     "name": "stdout",
     "output_type": "stream",
     "text": [
      "\u001b[32mSaved FeatureTable[Frequency] to: /Users/stephanie.rosales/Documents/omics_projects/Resitada/ML/table_AmPl20_resistada.qza\u001b[0m\n",
      "\u001b[0m\u001b[32mSaved FeatureTable[Frequency] to: /Users/stephanie.rosales/Documents/omics_projects/Resitada/ML/table_AmPa20_resistada.qza\u001b[0m\n",
      "\u001b[0m\u001b[32mSaved FeatureTable[Frequency] to: /Users/stephanie.rosales/Documents/omics_projects/Resitada/ML/table_NHPl20_resistada.qza\u001b[0m\n",
      "\u001b[0m"
     ]
    }
   ],
   "source": [
    "#filter ASV so that an ASV is found in at least 3 samples to reduce noise\n",
    "!qiime feature-table filter-features \\\n",
    "  --i-table /Users/stephanie.rosales/Documents/omics_projects/Resitada/ML/table_AmPl_resistada.qza \\\n",
    "  --p-min-samples 3 \\\n",
    "  --o-filtered-table /Users/stephanie.rosales/Documents/omics_projects/Resitada/ML/table_AmPl20_resistada.qza\n",
    "\n",
    "\n",
    "!qiime feature-table filter-features \\\n",
    "  --i-table /Users/stephanie.rosales/Documents/omics_projects/Resitada/ML/table_AmPa_resistada.qza \\\n",
    "  --p-min-samples 3 \\\n",
    "  --o-filtered-table /Users/stephanie.rosales/Documents/omics_projects/Resitada/ML/table_AmPa20_resistada.qza\n",
    "\n",
    "\n",
    "!qiime feature-table filter-features \\\n",
    "  --i-table /Users/stephanie.rosales/Documents/omics_projects/Resitada/ML/table_NHPl_resistada.qza \\\n",
    "  --p-min-samples 3 \\\n",
    "  --o-filtered-table /Users/stephanie.rosales/Documents/omics_projects/Resitada/ML/table_NHPl20_resistada.qza\n",
    "\n",
    "\n"
   ]
  },
  {
   "cell_type": "code",
   "execution_count": 23,
   "id": "b5486f67",
   "metadata": {},
   "outputs": [
    {
     "name": "stdout",
     "output_type": "stream",
     "text": [
      "\u001b[32mSaved Visualization to: /Users/stephanie.rosales/Documents/omics_projects/Resitada/ML/table_AmPl20_resistada.qzv\u001b[0m\n",
      "\u001b[0m"
     ]
    }
   ],
   "source": [
    "!qiime feature-table summarize \\\n",
    "--i-table /Users/stephanie.rosales/Documents/omics_projects/Resitada/ML/table_AmPl20_resistada.qza \\\n",
    "--m-sample-metadata-file /Users/stephanie.rosales/Documents/omics_projects/Resitada/metadata_RESISTADA.txt \\\n",
    "--o-visualization /Users/stephanie.rosales/Documents/omics_projects/Resitada/ML/table_AmPl20_resistada.qzv"
   ]
  },
  {
   "cell_type": "code",
   "execution_count": 2,
   "id": "ecef361d",
   "metadata": {},
   "outputs": [],
   "source": [
    "!cd /Users/stephanie.rosales/Documents/omics_projects/Resitada/ML/"
   ]
  },
  {
   "cell_type": "code",
   "execution_count": 25,
   "id": "edf20533",
   "metadata": {},
   "outputs": [
    {
     "name": "stdout",
     "output_type": "stream",
     "text": [
      "\u001b[32mSaved SampleEstimator[Regressor] to: /Users/stephanie.rosales/Documents/omics_projects/Resitada/ML/RF-500-BacArc_AmPl_Disease/estimate_RF-500-BacArc_AmPl_Disease.qza\u001b[0m\n",
      "\u001b[32mSaved FeatureData[Importance] to: /Users/stephanie.rosales/Documents/omics_projects/Resitada/ML/RF-500-BacArc_AmPl_Disease/feature-RF-500-BacArc_AmPl_Disease.qza\u001b[0m\n",
      "\u001b[0m"
     ]
    }
   ],
   "source": [
    "!qiime sample-classifier fit-regressor \\\n",
    " --i-table /Users/stephanie.rosales/Documents/omics_projects/Resitada/ML/table_AmPl20_resistada.qza \\\n",
    "  --m-metadata-file /Users/stephanie.rosales/Documents/omics_projects/Resitada/metadata_RESISTADA.txt \\\n",
    "  --m-metadata-column Surv_disease \\\n",
    "  --p-optimize-feature-selection \\\n",
    "  --p-cv 5 \\\n",
    "  --p-parameter-tuning \\\n",
    "  --p-estimator  RandomForestRegressor \\\n",
    "  --p-n-estimators 600 \\\n",
    "  --o-sample-estimator /Users/stephanie.rosales/Documents/omics_projects/Resitada/ML/RF-500-BacArc_AmPl_Disease/estimate_RF-500-BacArc_AmPl_Disease \\\n",
    "  --o-feature-importance /Users/stephanie.rosales/Documents/omics_projects/Resitada/ML/RF-500-BacArc_AmPl_Disease/feature-RF-500-BacArc_AmPl_Disease \n"
   ]
  },
  {
   "cell_type": "code",
   "execution_count": 26,
   "id": "f11f09a0",
   "metadata": {},
   "outputs": [
    {
     "name": "stdout",
     "output_type": "stream",
     "text": [
      "\u001b[32mSaved SampleEstimator[Regressor] to: /Users/stephanie.rosales/Documents/omics_projects/Resitada/ML/RF-500-BacArc_AmPl_Nutrients/estimate_RF-500-BacArc_AmPl_Nutrients.qza\u001b[0m\n",
      "\u001b[32mSaved FeatureData[Importance] to: /Users/stephanie.rosales/Documents/omics_projects/Resitada/ML/RF-500-BacArc_AmPl_Nutrients/feature-RF-500-BacArc_AmPl_Nutrients.qza\u001b[0m\n",
      "\u001b[0m"
     ]
    }
   ],
   "source": [
    "!qiime sample-classifier fit-regressor \\\n",
    " --i-table /Users/stephanie.rosales/Documents/omics_projects/Resitada/ML/table_AmPl20_resistada.qza \\\n",
    "  --m-metadata-file /Users/stephanie.rosales/Documents/omics_projects/Resitada/metadata_RESISTADA.txt \\\n",
    "  --m-metadata-column Surv_nutrients \\\n",
    "  --p-optimize-feature-selection \\\n",
    "  --p-cv 5 \\\n",
    "  --p-parameter-tuning \\\n",
    "  --p-estimator  RandomForestRegressor \\\n",
    "  --p-n-estimators 600 \\\n",
    "  --o-sample-estimator /Users/stephanie.rosales/Documents/omics_projects/Resitada/ML/RF-500-BacArc_AmPl_Nutrients/estimate_RF-500-BacArc_AmPl_Nutrients \\\n",
    "  --o-feature-importance /Users/stephanie.rosales/Documents/omics_projects/Resitada/ML/RF-500-BacArc_AmPl_Nutrients/feature-RF-500-BacArc_AmPl_Nutrients\n"
   ]
  },
  {
   "cell_type": "code",
   "execution_count": 88,
   "id": "e3b4a561",
   "metadata": {},
   "outputs": [
    {
     "name": "stdout",
     "output_type": "stream",
     "text": [
      "\u001b[32mSaved SampleEstimator[Regressor] to: /Users/stephanie.rosales/Documents/omics_projects/Resitada/ML/RF-500-BacArc_TLT/estimate_RF-500-BacArc_TLT.qza\u001b[0m\n",
      "\u001b[32mSaved FeatureData[Importance] to: /Users/stephanie.rosales/Documents/omics_projects/Resitada/ML/RF-500-BacArc_TLT/feature-RF-500-BacArc_TLT.qza\u001b[0m\n"
     ]
    }
   ],
   "source": [
    "!qiime sample-classifier fit-regressor\\\n",
    " --i-table /Users/stephanie.rosales/Documents/omics_projects/Resitada/ML/table_AmPa20_resistada.qza \\\n",
    "  --m-metadata-file /Users/stephanie.rosales/Documents/omics_projects/Resitada/metadata_RESISTADA.txt \\\n",
    "  --m-metadata-column surv \\\n",
    "  --p-optimize-feature-selection \\\n",
    "  --p-cv 5 \\\n",
    "  --p-parameter-tuning \\\n",
    "  --p-estimator  RandomForestRegressor \\\n",
    "  --p-n-estimators 600 \\\n",
    "  --o-sample-estimator /Users/stephanie.rosales/Documents/omics_projects/Resitada/ML/RF-500-BacArc_TLT/estimate_RF-500-BacArc_TLT \\\n",
    "  --o-feature-importance /Users/stephanie.rosales/Documents/omics_projects/Resitada/ML/RF-500-BacArc_TLT/feature-RF-500-BacArc_TLT \\\n",
    "\n"
   ]
  },
  {
   "cell_type": "code",
   "execution_count": 11,
   "id": "e02b9302",
   "metadata": {},
   "outputs": [
    {
     "name": "stdout",
     "output_type": "stream",
     "text": [
      "\u001b[32mSaved SampleEstimator[Regressor] to: /Users/stephanie.rosales/Documents/omics_projects/Resitada/ML/estimate_RF-500-BacArc_TLT.qza\u001b[0m\n",
      "\u001b[32mSaved FeatureData[Importance] to: /Users/stephanie.rosales/Documents/omics_projects/Resitada/ML/feature-RF-500-BacArc_TLT.qza\u001b[0m\n",
      "\u001b[0m"
     ]
    }
   ],
   "source": [
    "!qiime sample-classifier fit-regressor\\\n",
    " --i-table /Users/stephanie.rosales/Documents/omics_projects/Resitada/ML/table_NHPl20_resistada.qza \\\n",
    "  --m-metadata-file /Users/stephanie.rosales/Documents/omics_projects/Resitada/metadata_RESISTADA.txt \\\n",
    "  --m-metadata-column surv \\\n",
    "  --p-optimize-feature-selection \\\n",
    "  --p-cv 5 \\\n",
    "  --p-parameter-tuning \\\n",
    "  --p-estimator  RandomForestRegressor \\\n",
    "  --p-n-estimators 600 \\\n",
    "  --o-sample-estimator /Users/stephanie.rosales/Documents/omics_projects/Resitada/ML/estimate_RF-500-BacArc_TLT \\\n",
    "  --o-feature-importance /Users/stephanie.rosales/Documents/omics_projects/Resitada/ML/feature-RF-500-BacArc_TLT \\\n",
    "\n"
   ]
  },
  {
   "cell_type": "code",
   "execution_count": 87,
   "id": "4a9446d2",
   "metadata": {},
   "outputs": [
    {
     "name": "stdout",
     "output_type": "stream",
     "text": [
      "Usage: \u001b[34mqiime sample-classifier classify-samples\u001b[0m [OPTIONS]\r\n",
      "\r\n",
      "  Predicts a categorical sample metadata column using a supervised learning\r\n",
      "  classifier. Splits input data into training and test sets. The training\r\n",
      "  set is used to train and test the estimator using a stratified k-fold\r\n",
      "  cross-validation scheme. This includes optional steps for automated\r\n",
      "  feature extraction and hyperparameter optimization. The test set validates\r\n",
      "  classification accuracy of the optimized estimator. Outputs classification\r\n",
      "  results for test set. For more details on the learning algorithm, see\r\n",
      "  http://scikit-learn.org/stable/supervised_learning.html\r\n",
      "\r\n",
      "\u001b[1mInputs\u001b[0m:\r\n",
      "  \u001b[34m\u001b[4m--i-table\u001b[0m ARTIFACT \u001b[32mFeatureTable[Frequency]\u001b[0m\r\n",
      "                       Feature table containing all features that should be\r\n",
      "                       used for target prediction.                  \u001b[35m[required]\u001b[0m\r\n",
      "\u001b[1mParameters\u001b[0m:\r\n",
      "  \u001b[34m\u001b[4m--m-metadata-file\u001b[0m METADATA\r\n",
      "  \u001b[34m\u001b[4m--m-metadata-column\u001b[0m COLUMN  \u001b[32mMetadataColumn[Categorical]\u001b[0m\r\n",
      "                       Categorical metadata column to use as prediction\r\n",
      "                       target.                                      \u001b[35m[required]\u001b[0m\r\n",
      "  \u001b[34m--p-test-size\u001b[0m PROPORTION \u001b[32mRange(0.0, 1.0, inclusive_start=False)\u001b[0m\r\n",
      "                       Fraction of input samples to exclude from training set\r\n",
      "                       and use for classifier testing.          \u001b[35m[default: 0.2]\u001b[0m\r\n",
      "  \u001b[34m--p-step\u001b[0m PROPORTION \u001b[32mRange(0.0, 1.0, inclusive_start=False)\u001b[0m\r\n",
      "                       If \u001b[4moptimize-feature-selection\u001b[0m is True, step is the\r\n",
      "                       percentage of features to remove at each iteration.\r\n",
      "                                                               \u001b[35m[default: 0.05]\u001b[0m\r\n",
      "  \u001b[34m--p-cv\u001b[0m INTEGER       Number of k-fold cross-validations to perform.\r\n",
      "    \u001b[32mRange(1, None)\u001b[0m                                                \u001b[35m[default: 5]\u001b[0m\r\n",
      "  \u001b[34m--p-random-state\u001b[0m INTEGER\r\n",
      "                       Seed used by random number generator.        \u001b[35m[optional]\u001b[0m\r\n",
      "  \u001b[34m--p-n-jobs\u001b[0m INTEGER   Number of jobs to run in parallel.         \u001b[35m[default: 1]\u001b[0m\r\n",
      "  \u001b[34m--p-n-estimators\u001b[0m INTEGER\r\n",
      "    \u001b[32mRange(1, None)\u001b[0m     Number of trees to grow for estimation. More trees\r\n",
      "                       will improve predictive accuracy up to a threshold\r\n",
      "                       level, but will also increase time and memory\r\n",
      "                       requirements. This parameter only affects ensemble\r\n",
      "                       estimators, such as Random Forest, AdaBoost,\r\n",
      "                       ExtraTrees, and GradientBoosting.        \u001b[35m[default: 100]\u001b[0m\r\n",
      "  \u001b[34m--p-estimator\u001b[0m TEXT \u001b[32mChoices('RandomForestClassifier',\u001b[0m\r\n",
      "    \u001b[32m'ExtraTreesClassifier', 'GradientBoostingClassifier',\u001b[0m\r\n",
      "    \u001b[32m'AdaBoostClassifier', 'KNeighborsClassifier', 'LinearSVC', 'SVC')\u001b[0m\r\n",
      "                       Estimator method to use for sample prediction.\r\n",
      "                                           \u001b[35m[default: 'RandomForestClassifier']\u001b[0m\r\n",
      "  \u001b[34m--p-optimize-feature-selection\u001b[0m / \u001b[34m--p-no-optimize-feature-selection\u001b[0m\r\n",
      "                       Automatically optimize input feature selection using\r\n",
      "                       recursive feature elimination.         \u001b[35m[default: False]\u001b[0m\r\n",
      "  \u001b[34m--p-parameter-tuning\u001b[0m / \u001b[34m--p-no-parameter-tuning\u001b[0m\r\n",
      "                       Automatically tune hyperparameters using random grid\r\n",
      "                       search.                                \u001b[35m[default: False]\u001b[0m\r\n",
      "  \u001b[34m--p-palette\u001b[0m TEXT \u001b[32mChoices('YellowOrangeBrown', 'YellowOrangeRed',\u001b[0m\r\n",
      "    \u001b[32m'OrangeRed', 'PurpleRed', 'RedPurple', 'BluePurple', 'GreenBlue',\u001b[0m\r\n",
      "    \u001b[32m'PurpleBlue', 'YellowGreen', 'summer', 'copper', 'viridis', 'cividis',\u001b[0m\r\n",
      "    \u001b[32m'plasma', 'inferno', 'magma', 'sirocco', 'drifting', 'melancholy',\u001b[0m\r\n",
      "    \u001b[32m'enigma', 'eros', 'spectre', 'ambition', 'mysteriousstains', 'daydream',\u001b[0m\r\n",
      "    \u001b[32m'solano', 'navarro', 'dandelions', 'deepblue', 'verve', 'greyscale')\u001b[0m\r\n",
      "                       The color palette to use for plotting.\r\n",
      "                                                          \u001b[35m[default: 'sirocco']\u001b[0m\r\n",
      "  \u001b[34m--p-missing-samples\u001b[0m TEXT \u001b[32mChoices('error', 'ignore')\u001b[0m\r\n",
      "                       How to handle missing samples in metadata. \"error\"\r\n",
      "                       will fail if missing samples are detected. \"ignore\"\r\n",
      "                       will cause the feature table and metadata to be\r\n",
      "                       filtered, so that only samples found in both files are\r\n",
      "                       retained.                            \u001b[35m[default: 'error']\u001b[0m\r\n",
      "\u001b[1mOutputs\u001b[0m:\r\n",
      "  \u001b[34m\u001b[4m--o-sample-estimator\u001b[0m ARTIFACT \u001b[32mSampleEstimator[Classifier]\u001b[0m\r\n",
      "                       Trained sample estimator.                    \u001b[35m[required]\u001b[0m\r\n",
      "  \u001b[34m\u001b[4m--o-feature-importance\u001b[0m ARTIFACT \u001b[32mFeatureData[Importance]\u001b[0m\r\n",
      "                       Importance of each input feature to model accuracy.\r\n",
      "                                                                    \u001b[35m[required]\u001b[0m\r\n",
      "  \u001b[34m\u001b[4m--o-predictions\u001b[0m ARTIFACT \u001b[32mSampleData[ClassifierPredictions]\u001b[0m\r\n",
      "                       Predicted target values for each input sample.\r\n",
      "                                                                    \u001b[35m[required]\u001b[0m\r\n",
      "  \u001b[34m\u001b[4m--o-model-summary\u001b[0m VISUALIZATION\r\n",
      "                       Summarized parameter and (if enabled) feature\r\n",
      "                       selection information for the trained estimator.\r\n",
      "                                                                    \u001b[35m[required]\u001b[0m\r\n",
      "  \u001b[34m\u001b[4m--o-accuracy-results\u001b[0m VISUALIZATION\r\n",
      "                       Accuracy results visualization.              \u001b[35m[required]\u001b[0m\r\n",
      "  \u001b[34m\u001b[4m--o-probabilities\u001b[0m ARTIFACT \u001b[32mSampleData[Probabilities]\u001b[0m\r\n",
      "                       Predicted class probabilities for each input sample.\r\n",
      "                                                                    \u001b[35m[required]\u001b[0m\r\n",
      "  \u001b[34m\u001b[4m--o-heatmap\u001b[0m VISUALIZATION\r\n",
      "                       A heatmap of the top 50 most important features from\r\n",
      "                       the table.                                   \u001b[35m[required]\u001b[0m\r\n",
      "\u001b[1mMiscellaneous\u001b[0m:\r\n",
      "  \u001b[34m--output-dir\u001b[0m PATH    Output unspecified results to a directory\r\n",
      "  \u001b[34m--verbose\u001b[0m / \u001b[34m--quiet\u001b[0m  Display verbose output to stdout and/or stderr during\r\n",
      "                       execution of this action. Or silence output if\r\n",
      "                       execution is successful (silence is golden).\r\n",
      "  \u001b[34m--examples\u001b[0m           Show usage examples and exit.\r\n",
      "  \u001b[34m--citations\u001b[0m          Show citations and exit.\r\n",
      "  \u001b[34m--help\u001b[0m               Show this message and exit.\r\n",
      "\r\n",
      "\u001b[33m                    There was a problem with the command:                     \u001b[0m\r\n",
      "\u001b[31m\u001b[1m (1/1) Invalid value for '--m-metadata-file': Metadata column is of type\r\n",
      "  'numeric', but expected Categorical.\u001b[0m\r\n"
     ]
    }
   ],
   "source": [
    "!qiime sample-classifier classify-samples \\\n",
    " --i-table /Users/stephanie.rosales/Documents/omics_projects/Resitada/ML/table_AmPa20_resistada.qza \\\n",
    "  --m-metadata-file /Users/stephanie.rosales/Documents/omics_projects/Resitada/metadata_RESISTADA.txt \\\n",
    "  --m-metadata-column surv \\\n",
    "  --p-optimize-feature-selection \\\n",
    "  --p-cv 5 \\\n",
    "  --p-parameter-tuning \\\n",
    "  --p-estimator  RandomForestRegressor \\\n",
    "  --p-test-size 0.3 \\\n",
    "  --p-n-estimators 600 \\\n",
    "  --o-sample-estimator /Users/stephanie.rosales/Documents/omics_projects/Resitada/ML/RF-500-BacArc_TLT/estimate_RF-500-BacArc_TLT \\\n",
    "  --o-feature-importance /Users/stephanie.rosales/Documents/omics_projects/Resitada/ML/RF-500-BacArc_TLT/feature-RF-500-BacArc_TLT \\\n",
    "  --o-predictions /Users/stephanie.rosales/Documents/omics_projects/Resitada/ML/RF-500-BacArc_TLT/predict-RF-500-BacArc_TLT \\\n",
    "  --o-model-summary /Users/stephanie.rosales/Documents/omics_projects/Resitada/ML/RF-500-BacArc_TLT/model-RF-500-BacArc_TLT \\\n",
    "  --o-accuracy-results /Users/stephanie.rosales/Documents/omics_projects/Resitada/ML/RF-500-BacArc_TLT/accuracy-RF-500-BacArc_TLT  \\\n",
    "  --o-probabilities  /Users/stephanie.rosales/Documents/omics_projects/Resitada/ML/RF-500-BacArc_TLT/prob \\\n",
    "  --o-heatmap  /Users/stephanie.rosales/Documents/omics_projects/Resitada/ML/RF-500-BacArc_TLT/heatmap\n",
    "\n",
    "\n"
   ]
  },
  {
   "cell_type": "code",
   "execution_count": 4,
   "id": "fac7af1a",
   "metadata": {},
   "outputs": [
    {
     "name": "stdout",
     "output_type": "stream",
     "text": [
      "\u001b[32mSaved SampleEstimator[Classifier] to: /Users/stephanie.rosales/Documents/omics_projects/Resitada/ML/RF-500-BacArc_AmPl_Nut/estimate.qza\u001b[0m\n",
      "\u001b[32mSaved FeatureData[Importance] to: /Users/stephanie.rosales/Documents/omics_projects/Resitada/ML/RF-500-BacArc_AmPl_Nut/importance.qza\u001b[0m\n",
      "\u001b[32mSaved SampleData[ClassifierPredictions] to: /Users/stephanie.rosales/Documents/omics_projects/Resitada/ML/RF-500-BacArc_AmPl_Nut/predict.qza\u001b[0m\n",
      "\u001b[32mSaved Visualization to: /Users/stephanie.rosales/Documents/omics_projects/Resitada/ML/RF-500-BacArc_AmPl_Nut/model.qzv\u001b[0m\n",
      "\u001b[32mSaved Visualization to: /Users/stephanie.rosales/Documents/omics_projects/Resitada/ML/RF-500-BacArc_AmPl_Nut/results.qzv\u001b[0m\n",
      "\u001b[32mSaved SampleData[Probabilities] to: /Users/stephanie.rosales/Documents/omics_projects/Resitada/ML/RF-500-BacArc_AmPl_Nut/prob.qza\u001b[0m\n",
      "\u001b[32mSaved Visualization to: /Users/stephanie.rosales/Documents/omics_projects/Resitada/ML/RF-500-BacArc_AmPl_Nut/heatmap.qzv\u001b[0m\n",
      "\u001b[32mSaved SampleData[TrueTargets] to: /Users/stephanie.rosales/Documents/omics_projects/Resitada/ML/RF-500-BacArc_AmPl_Nut/train_targets.qza\u001b[0m\n",
      "\u001b[32mSaved SampleData[TrueTargets] to: /Users/stephanie.rosales/Documents/omics_projects/Resitada/ML/RF-500-BacArc_AmPl_Nut/test_targets.qza\u001b[0m\n",
      "\u001b[0m"
     ]
    }
   ],
   "source": [
    "!qiime sample-classifier classify-samples \\\n",
    " --i-table /Users/stephanie.rosales/Documents/omics_projects/Resitada/ML/table_AmPl20_resistada.qza \\\n",
    "  --m-metadata-file /Users/stephanie.rosales/Documents/omics_projects/Resitada/metadata_RESISTADA.txt \\\n",
    "  --m-metadata-column Surv_nutrients_discrete \\\n",
    "  --p-optimize-feature-selection \\\n",
    "  --p-cv 5 \\\n",
    "  --p-parameter-tuning \\\n",
    "  --p-estimator RandomForestClassifier \\\n",
    "  --p-test-size 0.3 \\\n",
    "  --p-n-estimators 500 \\\n",
    "  --o-sample-estimator /Users/stephanie.rosales/Documents/omics_projects/Resitada/ML/RF-500-BacArc_AmPl_Nut/estimate \\\n",
    "  --o-feature-importance /Users/stephanie.rosales/Documents/omics_projects/Resitada/ML/RF-500-BacArc_AmPl_Nut/importance \\\n",
    "  --o-predictions /Users/stephanie.rosales/Documents/omics_projects/Resitada/ML/RF-500-BacArc_AmPl_Nut/predict \\\n",
    "  --o-model-summary /Users/stephanie.rosales/Documents/omics_projects/Resitada/ML/RF-500-BacArc_AmPl_Nut/model \\\n",
    "  --o-accuracy-results /Users/stephanie.rosales/Documents/omics_projects/Resitada/ML/RF-500-BacArc_AmPl_Nut/results  \\\n",
    "  --o-probabilities  /Users/stephanie.rosales/Documents/omics_projects/Resitada/ML/RF-500-BacArc_AmPl_Nut/prob \\\n",
    "  --o-heatmap  /Users/stephanie.rosales/Documents/omics_projects/Resitada/ML/RF-500-BacArc_AmPl_Nut/heatmap \\\n",
    "  --o-training-targets /Users/stephanie.rosales/Documents/omics_projects/Resitada/ML/RF-500-BacArc_AmPl_Nut/train_targets \\\n",
    "  --o-test-targets /Users/stephanie.rosales/Documents/omics_projects/Resitada/ML/RF-500-BacArc_AmPl_Nut/test_targets\n",
    "\n"
   ]
  },
  {
   "cell_type": "code",
   "execution_count": 5,
   "id": "a9091bba",
   "metadata": {},
   "outputs": [
    {
     "name": "stdout",
     "output_type": "stream",
     "text": [
      "\u001b[32mSaved SampleEstimator[Classifier] to: /Users/stephanie.rosales/Documents/omics_projects/Resitada/ML/RF-500-BacArc_AmPl_Disease/estimate.qza\u001b[0m\n",
      "\u001b[32mSaved FeatureData[Importance] to: /Users/stephanie.rosales/Documents/omics_projects/Resitada/ML/RF-500-BacArc_AmPl_Disease/importance.qza\u001b[0m\n",
      "\u001b[32mSaved SampleData[ClassifierPredictions] to: /Users/stephanie.rosales/Documents/omics_projects/Resitada/ML/RF-500-BacArc_AmPl_Disease/predict.qza\u001b[0m\n",
      "\u001b[32mSaved Visualization to: /Users/stephanie.rosales/Documents/omics_projects/Resitada/ML/RF-500-BacArc_AmPl_Disease/model.qzv\u001b[0m\n",
      "\u001b[32mSaved Visualization to: /Users/stephanie.rosales/Documents/omics_projects/Resitada/ML/RF-500-BacArc_AmPl_Disease/results.qzv\u001b[0m\n",
      "\u001b[32mSaved SampleData[Probabilities] to: /Users/stephanie.rosales/Documents/omics_projects/Resitada/ML/RF-500-BacArc_AmPl_Disease/prob.qza\u001b[0m\n",
      "\u001b[32mSaved Visualization to: /Users/stephanie.rosales/Documents/omics_projects/Resitada/ML/RF-500-BacArc_AmPl_Disease/heatmap.qzv\u001b[0m\n",
      "\u001b[32mSaved SampleData[TrueTargets] to: /Users/stephanie.rosales/Documents/omics_projects/Resitada/ML/RF-500-BacArc_AmPl_Disease/train_targets.qza\u001b[0m\n",
      "\u001b[32mSaved SampleData[TrueTargets] to: /Users/stephanie.rosales/Documents/omics_projects/Resitada/ML/RF-500-BacArc_AmPl_Disease/test_targets.qza\u001b[0m\n",
      "\u001b[0m"
     ]
    }
   ],
   "source": [
    "!qiime sample-classifier classify-samples \\\n",
    " --i-table /Users/stephanie.rosales/Documents/omics_projects/Resitada/ML/table_AmPl20_resistada.qza \\\n",
    "  --m-metadata-file /Users/stephanie.rosales/Documents/omics_projects/Resitada/metadata_RESISTADA.txt \\\n",
    "  --m-metadata-column Surv_disease_discrete \\\n",
    "  --p-optimize-feature-selection \\\n",
    "  --p-cv 5 \\\n",
    "  --p-parameter-tuning \\\n",
    "  --p-estimator RandomForestClassifier \\\n",
    "  --p-test-size 0.3 \\\n",
    "  --p-n-estimators 500 \\\n",
    "  --o-sample-estimator /Users/stephanie.rosales/Documents/omics_projects/Resitada/ML/RF-500-BacArc_AmPl_Disease/estimate \\\n",
    "  --o-feature-importance /Users/stephanie.rosales/Documents/omics_projects/Resitada/ML/RF-500-BacArc_AmPl_Disease/importance \\\n",
    "  --o-predictions /Users/stephanie.rosales/Documents/omics_projects/Resitada/ML/RF-500-BacArc_AmPl_Disease/predict \\\n",
    "  --o-model-summary /Users/stephanie.rosales/Documents/omics_projects/Resitada/ML/RF-500-BacArc_AmPl_Disease/model \\\n",
    "  --o-accuracy-results /Users/stephanie.rosales/Documents/omics_projects/Resitada/ML/RF-500-BacArc_AmPl_Disease/results  \\\n",
    "  --o-probabilities  /Users/stephanie.rosales/Documents/omics_projects/Resitada/ML/RF-500-BacArc_AmPl_Disease/prob \\\n",
    "  --o-heatmap  /Users/stephanie.rosales/Documents/omics_projects/Resitada/ML/RF-500-BacArc_AmPl_Disease/heatmap \\\n",
    "  --o-training-targets /Users/stephanie.rosales/Documents/omics_projects/Resitada/ML/RF-500-BacArc_AmPl_Disease/train_targets \\\n",
    "  --o-test-targets /Users/stephanie.rosales/Documents/omics_projects/Resitada/ML/RF-500-BacArc_AmPl_Disease/test_targets\n",
    "\n"
   ]
  },
  {
   "cell_type": "code",
   "execution_count": 10,
   "id": "512f4a6f",
   "metadata": {},
   "outputs": [
    {
     "name": "stdout",
     "output_type": "stream",
     "text": [
      "\u001b[32mSaved FeatureData[Sequence] to: /Users/stephanie.rosales/Documents/omics_projects/Resitada/Tree/MD3_seqs.qza\u001b[0m\n",
      "\u001b[0m"
     ]
    }
   ],
   "source": [
    "!qiime feature-table filter-seqs \\\n",
    "--i-data /Users/stephanie.rosales/Documents/omics_projects/Resitada/qiime_output/rep-seq_BacArc_resistada.qza \\\n",
    "--m-metadata-file /Users/stephanie.rosales/Documents/omics_projects/Resitada/Tree/MD3_seqIDs.txt \\\n",
    "--o-filtered-data /Users/stephanie.rosales/Documents/omics_projects/Resitada/Tree/MD3_seqs.qza"
   ]
  }
 ],
 "metadata": {
  "kernelspec": {
   "display_name": "Python 3 (ipykernel)",
   "language": "python",
   "name": "python3"
  },
  "language_info": {
   "codemirror_mode": {
    "name": "ipython",
    "version": 3
   },
   "file_extension": ".py",
   "mimetype": "text/x-python",
   "name": "python",
   "nbconvert_exporter": "python",
   "pygments_lexer": "ipython3",
   "version": "3.8.12"
  }
 },
 "nbformat": 4,
 "nbformat_minor": 5
}
