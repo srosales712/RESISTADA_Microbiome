{
 "cells": [
  {
   "cell_type": "code",
   "execution_count": 1,
   "id": "39519cd4",
   "metadata": {},
   "outputs": [
    {
     "name": "stderr",
     "output_type": "stream",
     "text": [
      "Loading required package: phyloseq\n",
      "\n",
      "\n",
      "microbiome R package (microbiome.github.com)\n",
      "    \n",
      "\n",
      "\n",
      " Copyright (C) 2011-2020 Leo Lahti, \n",
      "    Sudarshan Shetty et al. <microbiome.github.io>\n",
      "\n",
      "\n",
      "\n",
      "Attaching package: ‘microbiome’\n",
      "\n",
      "\n",
      "The following object is masked from ‘package:ggplot2’:\n",
      "\n",
      "    alpha\n",
      "\n",
      "\n",
      "The following object is masked from ‘package:base’:\n",
      "\n",
      "    transform\n",
      "\n",
      "\n",
      "── \u001b[1mAttaching packages\u001b[22m ──────────────────────────────────────────────────────────────────────────────────────────────────────────────────────────────────────── tidyverse 1.3.1 ──\n",
      "\n",
      "\u001b[32m✔\u001b[39m \u001b[34mreadr  \u001b[39m 2.1.2     \u001b[32m✔\u001b[39m \u001b[34mstringr\u001b[39m 1.4.0\n",
      "\u001b[32m✔\u001b[39m \u001b[34mpurrr  \u001b[39m 0.3.4     \u001b[32m✔\u001b[39m \u001b[34mforcats\u001b[39m 0.5.1\n",
      "\u001b[32m✔\u001b[39m \u001b[34mdplyr  \u001b[39m 1.0.9     \n",
      "\n",
      "── \u001b[1mConflicts\u001b[22m ─────────────────────────────────────────────────────────────────────────────────────────────────────────────────────────────────────────── tidyverse_conflicts() ──\n",
      "\u001b[31m✖\u001b[39m \u001b[34mmicrobiome\u001b[39m::\u001b[32malpha()\u001b[39m masks \u001b[34mggplot2\u001b[39m::alpha()\n",
      "\u001b[31m✖\u001b[39m \u001b[34mdplyr\u001b[39m::\u001b[32mfilter()\u001b[39m     masks \u001b[34mstats\u001b[39m::filter()\n",
      "\u001b[31m✖\u001b[39m \u001b[34mdplyr\u001b[39m::\u001b[32mlag()\u001b[39m        masks \u001b[34mstats\u001b[39m::lag()\n",
      "\n",
      "\n",
      "Attaching package: ‘reshape2’\n",
      "\n",
      "\n",
      "The following object is masked from ‘package:tidyr’:\n",
      "\n",
      "    smiths\n",
      "\n",
      "\n",
      "Warning message:\n",
      "“replacing previous import ‘ggplot2::alpha’ by ‘microbiome::alpha’ when loading ‘microbiomeutilities’”\n"
     ]
    }
   ],
   "source": [
    "library(ANCOMBC)\n",
    "library(qiime2R)\n",
    "library(tidyr)\n",
    "library(tibble)\n",
    "library(ggplot2)\n",
    "library(microbiome)\n",
    "library(phyloseq)\n",
    "library(\"tidyverse\")\n",
    "library(\"dplyr\")\n",
    "library(reshape2)\n",
    "library(microbiomeutilities)"
   ]
  },
  {
   "cell_type": "code",
   "execution_count": 2,
   "id": "3f463fc3",
   "metadata": {},
   "outputs": [],
   "source": [
    "# Read in the 16S qza files and clean them up for phyloseq\n",
    "ASVs <- read_qza(\"/Users/stephanie.rosales/Documents/omics_projects/Resitada/qiime_output/table-BacArc_resistada.qza\")\n",
    "ASVs <- ASVs$data # Extract the count data from list\n",
    "tree_file <-read_qza(\"/Users/stephanie.rosales/Documents/omics_projects/Resitada/qiime_output/rooted-BacArc_resistada.qza\")$data"
   ]
  },
  {
   "cell_type": "code",
   "execution_count": 3,
   "id": "3aafde53",
   "metadata": {},
   "outputs": [
    {
     "name": "stderr",
     "output_type": "stream",
     "text": [
      "Warning message:\n",
      "“Expected 7 pieces. Missing pieces filled with `NA` in 5374 rows [3, 6, 9, 11, 12, 14, 15, 16, 17, 18, 22, 23, 27, 31, 36, 38, 42, 45, 49, 51, ...].”\n"
     ]
    },
    {
     "data": {
      "text/html": [
       "<table class=\"dataframe\">\n",
       "<caption>A tibble: 6 × 9</caption>\n",
       "<thead>\n",
       "\t<tr><th scope=col>Feature.ID</th><th scope=col>Kingdom</th><th scope=col>Phylum</th><th scope=col>Class</th><th scope=col>Order</th><th scope=col>Family</th><th scope=col>Genus</th><th scope=col>Species</th><th scope=col>ASVs</th></tr>\n",
       "\t<tr><th scope=col>&lt;chr&gt;</th><th scope=col>&lt;chr&gt;</th><th scope=col>&lt;chr&gt;</th><th scope=col>&lt;chr&gt;</th><th scope=col>&lt;chr&gt;</th><th scope=col>&lt;chr&gt;</th><th scope=col>&lt;chr&gt;</th><th scope=col>&lt;chr&gt;</th><th scope=col>&lt;chr&gt;</th></tr>\n",
       "</thead>\n",
       "<tbody>\n",
       "\t<tr><td>000967513bd1d4cb51b4ae7afbeed4dc</td><td>d__Bacteria</td><td> p__Acidobacteriota</td><td> c__Holophagae         </td><td> o__Acanthopleuribacterales</td><td> f__Acanthopleuribacteraceae</td><td> g__Acanthopleuribacter</td><td> s__uncultured_bacterium</td><td>ASV_1</td></tr>\n",
       "\t<tr><td>0012e79eda7972a4a12492475df662bd</td><td>d__Bacteria</td><td> p__Bacteroidota   </td><td> c__Bacteroidia        </td><td> o__Flavobacteriales       </td><td> f__Flavobacteriaceae       </td><td> g__Aquimarina         </td><td> s__Aquimarina_salinaria</td><td>ASV_2</td></tr>\n",
       "\t<tr><td>001f7fb00fb7754df232a1d66e219565</td><td>d__Bacteria</td><td> p__Proteobacteria </td><td> c__Alphaproteobacteria</td><td> o__Sphingomonadales       </td><td> f__Sphingomonadaceae       </td><td> g__Sphingorhabdus     </td><td>NA                      </td><td>ASV_3</td></tr>\n",
       "\t<tr><td>0026003a1d59f9f99ad87f00257ee192</td><td>d__Bacteria</td><td> p__Proteobacteria </td><td> c__Alphaproteobacteria</td><td> o__Micavibrionales        </td><td> f__uncultured              </td><td> g__uncultured         </td><td> s__uncultured_bacterium</td><td>ASV_4</td></tr>\n",
       "\t<tr><td>0031b7578aa4158302744105e9c463ed</td><td>d__Bacteria</td><td> p__Proteobacteria </td><td> c__Gammaproteobacteria</td><td> o__Alteromonadales        </td><td> f__Alteromonadaceae        </td><td> g__uncultured         </td><td> s__uncultured_marine   </td><td>ASV_5</td></tr>\n",
       "\t<tr><td>003b6df8106c04e650b4d51c08ce03b7</td><td>d__Bacteria</td><td> p__Proteobacteria </td><td> c__Gammaproteobacteria</td><td> o__Oceanospirillales      </td><td> f__Nitrincolaceae          </td><td> g__Marinobacterium    </td><td>NA                      </td><td>ASV_6</td></tr>\n",
       "</tbody>\n",
       "</table>\n"
      ],
      "text/latex": [
       "A tibble: 6 × 9\n",
       "\\begin{tabular}{lllllllll}\n",
       " Feature.ID & Kingdom & Phylum & Class & Order & Family & Genus & Species & ASVs\\\\\n",
       " <chr> & <chr> & <chr> & <chr> & <chr> & <chr> & <chr> & <chr> & <chr>\\\\\n",
       "\\hline\n",
       "\t 000967513bd1d4cb51b4ae7afbeed4dc & d\\_\\_Bacteria &  p\\_\\_Acidobacteriota &  c\\_\\_Holophagae          &  o\\_\\_Acanthopleuribacterales &  f\\_\\_Acanthopleuribacteraceae &  g\\_\\_Acanthopleuribacter &  s\\_\\_uncultured\\_bacterium & ASV\\_1\\\\\n",
       "\t 0012e79eda7972a4a12492475df662bd & d\\_\\_Bacteria &  p\\_\\_Bacteroidota    &  c\\_\\_Bacteroidia         &  o\\_\\_Flavobacteriales        &  f\\_\\_Flavobacteriaceae        &  g\\_\\_Aquimarina          &  s\\_\\_Aquimarina\\_salinaria & ASV\\_2\\\\\n",
       "\t 001f7fb00fb7754df232a1d66e219565 & d\\_\\_Bacteria &  p\\_\\_Proteobacteria  &  c\\_\\_Alphaproteobacteria &  o\\_\\_Sphingomonadales        &  f\\_\\_Sphingomonadaceae        &  g\\_\\_Sphingorhabdus      & NA                       & ASV\\_3\\\\\n",
       "\t 0026003a1d59f9f99ad87f00257ee192 & d\\_\\_Bacteria &  p\\_\\_Proteobacteria  &  c\\_\\_Alphaproteobacteria &  o\\_\\_Micavibrionales         &  f\\_\\_uncultured               &  g\\_\\_uncultured          &  s\\_\\_uncultured\\_bacterium & ASV\\_4\\\\\n",
       "\t 0031b7578aa4158302744105e9c463ed & d\\_\\_Bacteria &  p\\_\\_Proteobacteria  &  c\\_\\_Gammaproteobacteria &  o\\_\\_Alteromonadales         &  f\\_\\_Alteromonadaceae         &  g\\_\\_uncultured          &  s\\_\\_uncultured\\_marine    & ASV\\_5\\\\\n",
       "\t 003b6df8106c04e650b4d51c08ce03b7 & d\\_\\_Bacteria &  p\\_\\_Proteobacteria  &  c\\_\\_Gammaproteobacteria &  o\\_\\_Oceanospirillales       &  f\\_\\_Nitrincolaceae           &  g\\_\\_Marinobacterium     & NA                       & ASV\\_6\\\\\n",
       "\\end{tabular}\n"
      ],
      "text/markdown": [
       "\n",
       "A tibble: 6 × 9\n",
       "\n",
       "| Feature.ID &lt;chr&gt; | Kingdom &lt;chr&gt; | Phylum &lt;chr&gt; | Class &lt;chr&gt; | Order &lt;chr&gt; | Family &lt;chr&gt; | Genus &lt;chr&gt; | Species &lt;chr&gt; | ASVs &lt;chr&gt; |\n",
       "|---|---|---|---|---|---|---|---|---|\n",
       "| 000967513bd1d4cb51b4ae7afbeed4dc | d__Bacteria |  p__Acidobacteriota |  c__Holophagae          |  o__Acanthopleuribacterales |  f__Acanthopleuribacteraceae |  g__Acanthopleuribacter |  s__uncultured_bacterium | ASV_1 |\n",
       "| 0012e79eda7972a4a12492475df662bd | d__Bacteria |  p__Bacteroidota    |  c__Bacteroidia         |  o__Flavobacteriales        |  f__Flavobacteriaceae        |  g__Aquimarina          |  s__Aquimarina_salinaria | ASV_2 |\n",
       "| 001f7fb00fb7754df232a1d66e219565 | d__Bacteria |  p__Proteobacteria  |  c__Alphaproteobacteria |  o__Sphingomonadales        |  f__Sphingomonadaceae        |  g__Sphingorhabdus      | NA                       | ASV_3 |\n",
       "| 0026003a1d59f9f99ad87f00257ee192 | d__Bacteria |  p__Proteobacteria  |  c__Alphaproteobacteria |  o__Micavibrionales         |  f__uncultured               |  g__uncultured          |  s__uncultured_bacterium | ASV_4 |\n",
       "| 0031b7578aa4158302744105e9c463ed | d__Bacteria |  p__Proteobacteria  |  c__Gammaproteobacteria |  o__Alteromonadales         |  f__Alteromonadaceae         |  g__uncultured          |  s__uncultured_marine    | ASV_5 |\n",
       "| 003b6df8106c04e650b4d51c08ce03b7 | d__Bacteria |  p__Proteobacteria  |  c__Gammaproteobacteria |  o__Oceanospirillales       |  f__Nitrincolaceae           |  g__Marinobacterium     | NA                       | ASV_6 |\n",
       "\n"
      ],
      "text/plain": [
       "  Feature.ID                       Kingdom     Phylum             \n",
       "1 000967513bd1d4cb51b4ae7afbeed4dc d__Bacteria  p__Acidobacteriota\n",
       "2 0012e79eda7972a4a12492475df662bd d__Bacteria  p__Bacteroidota   \n",
       "3 001f7fb00fb7754df232a1d66e219565 d__Bacteria  p__Proteobacteria \n",
       "4 0026003a1d59f9f99ad87f00257ee192 d__Bacteria  p__Proteobacteria \n",
       "5 0031b7578aa4158302744105e9c463ed d__Bacteria  p__Proteobacteria \n",
       "6 003b6df8106c04e650b4d51c08ce03b7 d__Bacteria  p__Proteobacteria \n",
       "  Class                   Order                      \n",
       "1  c__Holophagae           o__Acanthopleuribacterales\n",
       "2  c__Bacteroidia          o__Flavobacteriales       \n",
       "3  c__Alphaproteobacteria  o__Sphingomonadales       \n",
       "4  c__Alphaproteobacteria  o__Micavibrionales        \n",
       "5  c__Gammaproteobacteria  o__Alteromonadales        \n",
       "6  c__Gammaproteobacteria  o__Oceanospirillales      \n",
       "  Family                       Genus                   Species                 \n",
       "1  f__Acanthopleuribacteraceae  g__Acanthopleuribacter  s__uncultured_bacterium\n",
       "2  f__Flavobacteriaceae         g__Aquimarina           s__Aquimarina_salinaria\n",
       "3  f__Sphingomonadaceae         g__Sphingorhabdus      NA                      \n",
       "4  f__uncultured                g__uncultured           s__uncultured_bacterium\n",
       "5  f__Alteromonadaceae          g__uncultured           s__uncultured_marine   \n",
       "6  f__Nitrincolaceae            g__Marinobacterium     NA                      \n",
       "  ASVs \n",
       "1 ASV_1\n",
       "2 ASV_2\n",
       "3 ASV_3\n",
       "4 ASV_4\n",
       "5 ASV_5\n",
       "6 ASV_6"
      ]
     },
     "metadata": {},
     "output_type": "display_data"
    }
   ],
   "source": [
    "taxa_16S <- read_qza(\"/Users/stephanie.rosales/Documents/omics_projects/Resitada/qiime_output/taxonomy_resistada.qza\")\n",
    "taxa_16S <- taxa_16S$data %>% as_tibble() %>% separate(Taxon, sep=\";\",\n",
    "c(\"Kingdom\", \"Phylum\", \"Class\", \"Order\", \"Family\", \"Genus\", \"Species\")) %>% \n",
    "# Convert taxonomy info to data frame with correct taxonomy labels\n",
    "#taxa <- taxa_16S[-1,]\n",
    "select(-Confidence) %>% arrange(Feature.ID) %>% mutate(ASV = 1:n()) %>% \n",
    "mutate(newcol = \"ASV\") %>%\n",
    "unite(\"ASVs\", newcol:ASV) %>%\n",
    "filter(Phylum !=\" p__Chlorophyta\") %>%\n",
    "filter(Phylum !=\"NA\")\n",
    "\n",
    "head(taxa_16S)"
   ]
  },
  {
   "cell_type": "code",
   "execution_count": 4,
   "id": "c0dff6ac",
   "metadata": {},
   "outputs": [],
   "source": [
    "meta = read.csv(\"/Users/stephanie.rosales/Documents/omics_projects/Resitada/metadata_RESISTADA.csv\", \n",
    "                header = T, row.names = 1,\n",
    "na.strings = c(\"\", \"NA\"))\n",
    "\n"
   ]
  },
  {
   "cell_type": "code",
   "execution_count": 5,
   "id": "44e530cc",
   "metadata": {},
   "outputs": [
    {
     "data": {
      "text/plain": [
       "phyloseq-class experiment-level object\n",
       "otu_table()   OTU Table:         [ 9492 taxa and 280 samples ]\n",
       "sample_data() Sample Data:       [ 280 samples by 55 sample variables ]\n",
       "tax_table()   Taxonomy Table:    [ 9492 taxa by 8 taxonomic ranks ]\n",
       "phy_tree()    Phylogenetic Tree: [ 9492 tips and 8365 internal nodes ]"
      ]
     },
     "metadata": {},
     "output_type": "display_data"
    }
   ],
   "source": [
    "ps= phyloseq(otu_table(ASVs, taxa_are_rows= T),\n",
    "tax_table(as.data.frame(taxa_16S) %>% column_to_rownames(\"Feature.ID\") %>%\n",
    "as.matrix()), sample_data(meta), tree_file)\n",
    "ps"
   ]
  },
  {
   "cell_type": "code",
   "execution_count": 6,
   "id": "930b8a4a",
   "metadata": {},
   "outputs": [
    {
     "data": {
      "text/plain": [
       "phyloseq-class experiment-level object\n",
       "otu_table()   OTU Table:         [ 9492 taxa and 257 samples ]\n",
       "sample_data() Sample Data:       [ 257 samples by 55 sample variables ]\n",
       "tax_table()   Taxonomy Table:    [ 9492 taxa by 8 taxonomic ranks ]\n",
       "phy_tree()    Phylogenetic Tree: [ 9492 tips and 8365 internal nodes ]"
      ]
     },
     "metadata": {},
     "output_type": "display_data"
    }
   ],
   "source": [
    "dups = c(\"N169_256_R2\", \"N157_265_R2\", \"N165_296_R2\", \"N161_A067_R2\", \"N185_A088_R2\",\n",
    "                                 \"N164_A089_R2\",\"N119_A107\",\"N267_A110\",\"N7_A114\", \"N156_A115\",\"N158_A116\",\n",
    "                                 \"N101_A118\",\"N160_A119\",\"N277_A125\")\n",
    "\n",
    "ps = subset_samples(ps, !ID %in% dups & Genotype!=c(\"U41\"))\n",
    "                                                    #,\"U44\")) \n",
    "ps\n",
    "\n",
    "\n",
    "\n",
    "\n"
   ]
  },
  {
   "cell_type": "code",
   "execution_count": 7,
   "id": "87f4747e",
   "metadata": {},
   "outputs": [
    {
     "data": {
      "text/plain": [
       "phyloseq-class experiment-level object\n",
       "otu_table()   OTU Table:         [ 9492 taxa and 60 samples ]\n",
       "sample_data() Sample Data:       [ 60 samples by 55 sample variables ]\n",
       "tax_table()   Taxonomy Table:    [ 9492 taxa by 8 taxonomic ranks ]\n",
       "phy_tree()    Phylogenetic Tree: [ 9492 tips and 8365 internal nodes ]"
      ]
     },
     "metadata": {},
     "output_type": "display_data"
    },
    {
     "data": {
      "text/plain": [
       "phyloseq-class experiment-level object\n",
       "otu_table()   OTU Table:         [ 7725 taxa and 60 samples ]\n",
       "sample_data() Sample Data:       [ 60 samples by 55 sample variables ]\n",
       "tax_table()   Taxonomy Table:    [ 7725 taxa by 8 taxonomic ranks ]\n",
       "phy_tree()    Phylogenetic Tree: [ 7725 tips and 6818 internal nodes ]"
      ]
     },
     "metadata": {},
     "output_type": "display_data"
    },
    {
     "data": {
      "text/plain": [
       "phyloseq-class experiment-level object\n",
       "otu_table()   OTU Table:         [ 9492 taxa and 192 samples ]\n",
       "sample_data() Sample Data:       [ 192 samples by 55 sample variables ]\n",
       "tax_table()   Taxonomy Table:    [ 9492 taxa by 8 taxonomic ranks ]\n",
       "phy_tree()    Phylogenetic Tree: [ 9492 tips and 8365 internal nodes ]"
      ]
     },
     "metadata": {},
     "output_type": "display_data"
    },
    {
     "data": {
      "text/plain": [
       "phyloseq-class experiment-level object\n",
       "otu_table()   OTU Table:         [ 7725 taxa and 192 samples ]\n",
       "sample_data() Sample Data:       [ 192 samples by 55 sample variables ]\n",
       "tax_table()   Taxonomy Table:    [ 7725 taxa by 8 taxonomic ranks ]\n",
       "phy_tree()    Phylogenetic Tree: [ 7725 tips and 6818 internal nodes ]"
      ]
     },
     "metadata": {},
     "output_type": "display_data"
    },
    {
     "data": {
      "text/plain": [
       "phyloseq-class experiment-level object\n",
       "otu_table()   OTU Table:         [ 9492 taxa and 5 samples ]\n",
       "sample_data() Sample Data:       [ 5 samples by 55 sample variables ]\n",
       "tax_table()   Taxonomy Table:    [ 9492 taxa by 8 taxonomic ranks ]\n",
       "phy_tree()    Phylogenetic Tree: [ 9492 tips and 8365 internal nodes ]"
      ]
     },
     "metadata": {},
     "output_type": "display_data"
    },
    {
     "data": {
      "text/plain": [
       "phyloseq-class experiment-level object\n",
       "otu_table()   OTU Table:         [ 9492 taxa and 135 samples ]\n",
       "sample_data() Sample Data:       [ 135 samples by 55 sample variables ]\n",
       "tax_table()   Taxonomy Table:    [ 9492 taxa by 8 taxonomic ranks ]\n",
       "phy_tree()    Phylogenetic Tree: [ 9492 tips and 8365 internal nodes ]"
      ]
     },
     "metadata": {},
     "output_type": "display_data"
    },
    {
     "data": {
      "text/plain": [
       "phyloseq-class experiment-level object\n",
       "otu_table()   OTU Table:         [ 9492 taxa and 36 samples ]\n",
       "sample_data() Sample Data:       [ 36 samples by 55 sample variables ]\n",
       "tax_table()   Taxonomy Table:    [ 9492 taxa by 8 taxonomic ranks ]\n",
       "phy_tree()    Phylogenetic Tree: [ 9492 tips and 8365 internal nodes ]"
      ]
     },
     "metadata": {},
     "output_type": "display_data"
    },
    {
     "data": {
      "text/plain": [
       "phyloseq-class experiment-level object\n",
       "otu_table()   OTU Table:         [ 9492 taxa and 26 samples ]\n",
       "sample_data() Sample Data:       [ 26 samples by 55 sample variables ]\n",
       "tax_table()   Taxonomy Table:    [ 9492 taxa by 8 taxonomic ranks ]\n",
       "phy_tree()    Phylogenetic Tree: [ 9492 tips and 8365 internal nodes ]"
      ]
     },
     "metadata": {},
     "output_type": "display_data"
    },
    {
     "data": {
      "text/plain": [
       "phyloseq-class experiment-level object\n",
       "otu_table()   OTU Table:         [ 9492 taxa and 41 samples ]\n",
       "sample_data() Sample Data:       [ 41 samples by 55 sample variables ]\n",
       "tax_table()   Taxonomy Table:    [ 9492 taxa by 8 taxonomic ranks ]\n",
       "phy_tree()    Phylogenetic Tree: [ 9492 tips and 8365 internal nodes ]"
      ]
     },
     "metadata": {},
     "output_type": "display_data"
    },
    {
     "data": {
      "text/plain": [
       "phyloseq-class experiment-level object\n",
       "otu_table()   OTU Table:         [ 9492 taxa and 32 samples ]\n",
       "sample_data() Sample Data:       [ 32 samples by 55 sample variables ]\n",
       "tax_table()   Taxonomy Table:    [ 9492 taxa by 8 taxonomic ranks ]\n",
       "phy_tree()    Phylogenetic Tree: [ 9492 tips and 8365 internal nodes ]"
      ]
     },
     "metadata": {},
     "output_type": "display_data"
    },
    {
     "data": {
      "text/plain": [
       "phyloseq-class experiment-level object\n",
       "otu_table()   OTU Table:         [ 9492 taxa and 77 samples ]\n",
       "sample_data() Sample Data:       [ 77 samples by 55 sample variables ]\n",
       "tax_table()   Taxonomy Table:    [ 9492 taxa by 8 taxonomic ranks ]\n",
       "phy_tree()    Phylogenetic Tree: [ 9492 tips and 8365 internal nodes ]"
      ]
     },
     "metadata": {},
     "output_type": "display_data"
    },
    {
     "data": {
      "text/plain": [
       "phyloseq-class experiment-level object\n",
       "otu_table()   OTU Table:         [ 9492 taxa and 56 samples ]\n",
       "sample_data() Sample Data:       [ 56 samples by 55 sample variables ]\n",
       "tax_table()   Taxonomy Table:    [ 9492 taxa by 8 taxonomic ranks ]\n",
       "phy_tree()    Phylogenetic Tree: [ 9492 tips and 8365 internal nodes ]"
      ]
     },
     "metadata": {},
     "output_type": "display_data"
    },
    {
     "data": {
      "text/plain": [
       "phyloseq-class experiment-level object\n",
       "otu_table()   OTU Table:         [ 9492 taxa and 106 samples ]\n",
       "sample_data() Sample Data:       [ 106 samples by 55 sample variables ]\n",
       "tax_table()   Taxonomy Table:    [ 9492 taxa by 8 taxonomic ranks ]\n",
       "phy_tree()    Phylogenetic Tree: [ 9492 tips and 8365 internal nodes ]"
      ]
     },
     "metadata": {},
     "output_type": "display_data"
    }
   ],
   "source": [
    "ps_razor =subset_samples(ps, Type==\"Razor\")\n",
    "ps_razor\n",
    "\n",
    "ps_razor_nr =subset_taxa(ps_razor, Genus!=\"g__MD3-55\" )\n",
    "ps_razor_nr\n",
    "\n",
    "ps_Clipped =subset_samples(ps, Type==\"Clipped\")\n",
    "ps_Clipped\n",
    "\n",
    "ps_clip_nr =subset_taxa(ps_Clipped, Genus!=\"g__MD3-55\" )\n",
    "ps_clip_nr\n",
    "\n",
    "ps_neg =subset_samples(ps, Type==\"Neg\")\n",
    "ps_neg\n",
    "\n",
    "ps_paired = subset_samples(ps_Clipped, Pairs==\"paired\")\n",
    "ps_paired\n",
    "\n",
    "ps_Am_Pl_c =subset_samples(ps_paired, Combo==\"Ambient_Placebo\")\n",
    "ps_Am_Pl_c\n",
    "\n",
    "ps_Am_Pa_c =subset_samples(ps_paired, Combo==\"Ambient_Pathogen\")\n",
    "ps_Am_Pa_c\n",
    "\n",
    "ps_NH_Pl_c =subset_samples(ps_paired, Combo==\"NH4_Placebo\")\n",
    "ps_NH_Pl_c\n",
    "\n",
    "ps_NH_Pa_c =subset_samples(ps_paired, Combo==\"NH4_Pathogen\")\n",
    "ps_NH_Pa_c\n",
    "\n",
    "ps_placebo =subset_samples(ps_paired, Diseased==\"Placebo\")\n",
    "ps_placebo\n",
    "\n",
    "\n",
    "ps_unpaired = subset_samples(ps_Clipped, Pairs==\"unpaired\")\n",
    "ps_unpaired\n",
    "\n",
    "ps_placebo_un =subset_samples(ps_Clipped, Diseased==\"Placebo\")\n",
    "ps_placebo_un"
   ]
  },
  {
   "cell_type": "code",
   "execution_count": 8,
   "id": "7caa4e86",
   "metadata": {},
   "outputs": [
    {
     "name": "stderr",
     "output_type": "stream",
     "text": [
      "\u001b[1m\u001b[22m`summarise()` has grouped output by 'Combo'. You can override using the `.groups` argument.\n"
     ]
    },
    {
     "data": {
      "text/html": [
       "<table class=\"dataframe\">\n",
       "<caption>A grouped_df: 3 × 3</caption>\n",
       "<thead>\n",
       "\t<tr><th scope=col>Combo</th><th scope=col>Health</th><th scope=col>Paired</th></tr>\n",
       "\t<tr><th scope=col>&lt;chr&gt;</th><th scope=col>&lt;chr&gt;</th><th scope=col>&lt;int&gt;</th></tr>\n",
       "</thead>\n",
       "<tbody>\n",
       "\t<tr><td>Ambient_Placebo</td><td>AH</td><td>36</td></tr>\n",
       "\t<tr><td>NH4_Placebo    </td><td>AH</td><td>36</td></tr>\n",
       "\t<tr><td>NH4_Placebo    </td><td>DL</td><td> 5</td></tr>\n",
       "</tbody>\n",
       "</table>\n"
      ],
      "text/latex": [
       "A grouped\\_df: 3 × 3\n",
       "\\begin{tabular}{lll}\n",
       " Combo & Health & Paired\\\\\n",
       " <chr> & <chr> & <int>\\\\\n",
       "\\hline\n",
       "\t Ambient\\_Placebo & AH & 36\\\\\n",
       "\t NH4\\_Placebo     & AH & 36\\\\\n",
       "\t NH4\\_Placebo     & DL &  5\\\\\n",
       "\\end{tabular}\n"
      ],
      "text/markdown": [
       "\n",
       "A grouped_df: 3 × 3\n",
       "\n",
       "| Combo &lt;chr&gt; | Health &lt;chr&gt; | Paired &lt;int&gt; |\n",
       "|---|---|---|\n",
       "| Ambient_Placebo | AH | 36 |\n",
       "| NH4_Placebo     | AH | 36 |\n",
       "| NH4_Placebo     | DL |  5 |\n",
       "\n"
      ],
      "text/plain": [
       "  Combo           Health Paired\n",
       "1 Ambient_Placebo AH     36    \n",
       "2 NH4_Placebo     AH     36    \n",
       "3 NH4_Placebo     DL      5    "
      ]
     },
     "metadata": {},
     "output_type": "display_data"
    },
    {
     "name": "stderr",
     "output_type": "stream",
     "text": [
      "\u001b[1m\u001b[22m`summarise()` has grouped output by 'Health', 'Combo'. You can override using the `.groups` argument.\n"
     ]
    },
    {
     "data": {
      "text/html": [
       "<table class=\"dataframe\">\n",
       "<caption>A grouped_df: 22 × 4</caption>\n",
       "<thead>\n",
       "\t<tr><th scope=col>Health</th><th scope=col>Combo</th><th scope=col>Genotype</th><th scope=col>Pairs</th></tr>\n",
       "\t<tr><th scope=col>&lt;chr&gt;</th><th scope=col>&lt;chr&gt;</th><th scope=col>&lt;chr&gt;</th><th scope=col>&lt;int&gt;</th></tr>\n",
       "</thead>\n",
       "<tbody>\n",
       "\t<tr><td>AH</td><td>Ambient_Placebo</td><td>Acerv2  </td><td>6</td></tr>\n",
       "\t<tr><td>AH</td><td>Ambient_Placebo</td><td>Cooper-9</td><td>5</td></tr>\n",
       "\t<tr><td>AH</td><td>Ambient_Placebo</td><td>Elkhorn </td><td>3</td></tr>\n",
       "\t<tr><td>AH</td><td>Ambient_Placebo</td><td>FM14    </td><td>4</td></tr>\n",
       "\t<tr><td>AH</td><td>Ambient_Placebo</td><td>FM19    </td><td>3</td></tr>\n",
       "\t<tr><td>AH</td><td>Ambient_Placebo</td><td>FM6     </td><td>3</td></tr>\n",
       "\t<tr><td>AH</td><td>Ambient_Placebo</td><td>FM9     </td><td>3</td></tr>\n",
       "\t<tr><td>AH</td><td>Ambient_Placebo</td><td>K2      </td><td>4</td></tr>\n",
       "\t<tr><td>AH</td><td>Ambient_Placebo</td><td>Kelsey-1</td><td>5</td></tr>\n",
       "\t<tr><td>AH</td><td>Ambient_Placebo</td><td>U44     </td><td>6</td></tr>\n",
       "\t<tr><td>AH</td><td>NH4_Placebo    </td><td>Acerv2  </td><td>5</td></tr>\n",
       "\t<tr><td>AH</td><td>NH4_Placebo    </td><td>Cooper-9</td><td>3</td></tr>\n",
       "\t<tr><td>AH</td><td>NH4_Placebo    </td><td>Elkhorn </td><td>5</td></tr>\n",
       "\t<tr><td>AH</td><td>NH4_Placebo    </td><td>FM14    </td><td>8</td></tr>\n",
       "\t<tr><td>AH</td><td>NH4_Placebo    </td><td>FM19    </td><td>7</td></tr>\n",
       "\t<tr><td>AH</td><td>NH4_Placebo    </td><td>FM6     </td><td>6</td></tr>\n",
       "\t<tr><td>AH</td><td>NH4_Placebo    </td><td>FM9     </td><td>7</td></tr>\n",
       "\t<tr><td>AH</td><td>NH4_Placebo    </td><td>K2      </td><td>6</td></tr>\n",
       "\t<tr><td>AH</td><td>NH4_Placebo    </td><td>Kelsey-1</td><td>4</td></tr>\n",
       "\t<tr><td>AH</td><td>NH4_Placebo    </td><td>U44     </td><td>8</td></tr>\n",
       "\t<tr><td>DL</td><td>NH4_Placebo    </td><td>Acerv2  </td><td>3</td></tr>\n",
       "\t<tr><td>DL</td><td>NH4_Placebo    </td><td>Kelsey-1</td><td>2</td></tr>\n",
       "</tbody>\n",
       "</table>\n"
      ],
      "text/latex": [
       "A grouped\\_df: 22 × 4\n",
       "\\begin{tabular}{llll}\n",
       " Health & Combo & Genotype & Pairs\\\\\n",
       " <chr> & <chr> & <chr> & <int>\\\\\n",
       "\\hline\n",
       "\t AH & Ambient\\_Placebo & Acerv2   & 6\\\\\n",
       "\t AH & Ambient\\_Placebo & Cooper-9 & 5\\\\\n",
       "\t AH & Ambient\\_Placebo & Elkhorn  & 3\\\\\n",
       "\t AH & Ambient\\_Placebo & FM14     & 4\\\\\n",
       "\t AH & Ambient\\_Placebo & FM19     & 3\\\\\n",
       "\t AH & Ambient\\_Placebo & FM6      & 3\\\\\n",
       "\t AH & Ambient\\_Placebo & FM9      & 3\\\\\n",
       "\t AH & Ambient\\_Placebo & K2       & 4\\\\\n",
       "\t AH & Ambient\\_Placebo & Kelsey-1 & 5\\\\\n",
       "\t AH & Ambient\\_Placebo & U44      & 6\\\\\n",
       "\t AH & NH4\\_Placebo     & Acerv2   & 5\\\\\n",
       "\t AH & NH4\\_Placebo     & Cooper-9 & 3\\\\\n",
       "\t AH & NH4\\_Placebo     & Elkhorn  & 5\\\\\n",
       "\t AH & NH4\\_Placebo     & FM14     & 8\\\\\n",
       "\t AH & NH4\\_Placebo     & FM19     & 7\\\\\n",
       "\t AH & NH4\\_Placebo     & FM6      & 6\\\\\n",
       "\t AH & NH4\\_Placebo     & FM9      & 7\\\\\n",
       "\t AH & NH4\\_Placebo     & K2       & 6\\\\\n",
       "\t AH & NH4\\_Placebo     & Kelsey-1 & 4\\\\\n",
       "\t AH & NH4\\_Placebo     & U44      & 8\\\\\n",
       "\t DL & NH4\\_Placebo     & Acerv2   & 3\\\\\n",
       "\t DL & NH4\\_Placebo     & Kelsey-1 & 2\\\\\n",
       "\\end{tabular}\n"
      ],
      "text/markdown": [
       "\n",
       "A grouped_df: 22 × 4\n",
       "\n",
       "| Health &lt;chr&gt; | Combo &lt;chr&gt; | Genotype &lt;chr&gt; | Pairs &lt;int&gt; |\n",
       "|---|---|---|---|\n",
       "| AH | Ambient_Placebo | Acerv2   | 6 |\n",
       "| AH | Ambient_Placebo | Cooper-9 | 5 |\n",
       "| AH | Ambient_Placebo | Elkhorn  | 3 |\n",
       "| AH | Ambient_Placebo | FM14     | 4 |\n",
       "| AH | Ambient_Placebo | FM19     | 3 |\n",
       "| AH | Ambient_Placebo | FM6      | 3 |\n",
       "| AH | Ambient_Placebo | FM9      | 3 |\n",
       "| AH | Ambient_Placebo | K2       | 4 |\n",
       "| AH | Ambient_Placebo | Kelsey-1 | 5 |\n",
       "| AH | Ambient_Placebo | U44      | 6 |\n",
       "| AH | NH4_Placebo     | Acerv2   | 5 |\n",
       "| AH | NH4_Placebo     | Cooper-9 | 3 |\n",
       "| AH | NH4_Placebo     | Elkhorn  | 5 |\n",
       "| AH | NH4_Placebo     | FM14     | 8 |\n",
       "| AH | NH4_Placebo     | FM19     | 7 |\n",
       "| AH | NH4_Placebo     | FM6      | 6 |\n",
       "| AH | NH4_Placebo     | FM9      | 7 |\n",
       "| AH | NH4_Placebo     | K2       | 6 |\n",
       "| AH | NH4_Placebo     | Kelsey-1 | 4 |\n",
       "| AH | NH4_Placebo     | U44      | 8 |\n",
       "| DL | NH4_Placebo     | Acerv2   | 3 |\n",
       "| DL | NH4_Placebo     | Kelsey-1 | 2 |\n",
       "\n"
      ],
      "text/plain": [
       "   Health Combo           Genotype Pairs\n",
       "1  AH     Ambient_Placebo Acerv2   6    \n",
       "2  AH     Ambient_Placebo Cooper-9 5    \n",
       "3  AH     Ambient_Placebo Elkhorn  3    \n",
       "4  AH     Ambient_Placebo FM14     4    \n",
       "5  AH     Ambient_Placebo FM19     3    \n",
       "6  AH     Ambient_Placebo FM6      3    \n",
       "7  AH     Ambient_Placebo FM9      3    \n",
       "8  AH     Ambient_Placebo K2       4    \n",
       "9  AH     Ambient_Placebo Kelsey-1 5    \n",
       "10 AH     Ambient_Placebo U44      6    \n",
       "11 AH     NH4_Placebo     Acerv2   5    \n",
       "12 AH     NH4_Placebo     Cooper-9 3    \n",
       "13 AH     NH4_Placebo     Elkhorn  5    \n",
       "14 AH     NH4_Placebo     FM14     8    \n",
       "15 AH     NH4_Placebo     FM19     7    \n",
       "16 AH     NH4_Placebo     FM6      6    \n",
       "17 AH     NH4_Placebo     FM9      7    \n",
       "18 AH     NH4_Placebo     K2       6    \n",
       "19 AH     NH4_Placebo     Kelsey-1 4    \n",
       "20 AH     NH4_Placebo     U44      8    \n",
       "21 DL     NH4_Placebo     Acerv2   3    \n",
       "22 DL     NH4_Placebo     Kelsey-1 2    "
      ]
     },
     "metadata": {},
     "output_type": "display_data"
    }
   ],
   "source": [
    "sample_data(ps_placebo) %>%\n",
    "  group_by(Combo, Health) %>%\n",
    "  summarize(Paired = n())\n",
    "\n",
    "sample_data(ps_placebo_un) %>%\n",
    "  group_by(Health, Combo, Genotype) %>%\n",
    "  summarize(Pairs = n())"
   ]
  },
  {
   "cell_type": "code",
   "execution_count": 9,
   "id": "845a9170",
   "metadata": {},
   "outputs": [
    {
     "name": "stderr",
     "output_type": "stream",
     "text": [
      "\u001b[1m\u001b[22m`summarise()` has grouped output by 'Genotype'. You can override using the `.groups` argument.\n"
     ]
    },
    {
     "data": {
      "text/html": [
       "<table class=\"dataframe\">\n",
       "<caption>A grouped_df: 20 × 3</caption>\n",
       "<thead>\n",
       "\t<tr><th scope=col>Genotype</th><th scope=col>Nutrients</th><th scope=col>Paired</th></tr>\n",
       "\t<tr><th scope=col>&lt;chr&gt;</th><th scope=col>&lt;chr&gt;</th><th scope=col>&lt;int&gt;</th></tr>\n",
       "</thead>\n",
       "<tbody>\n",
       "\t<tr><td>Acerv2  </td><td>Ambient</td><td>6</td></tr>\n",
       "\t<tr><td>Acerv2  </td><td>NH4    </td><td>6</td></tr>\n",
       "\t<tr><td>Cooper-9</td><td>Ambient</td><td>4</td></tr>\n",
       "\t<tr><td>Cooper-9</td><td>NH4    </td><td>1</td></tr>\n",
       "\t<tr><td>Elkhorn </td><td>Ambient</td><td>3</td></tr>\n",
       "\t<tr><td>Elkhorn </td><td>NH4    </td><td>4</td></tr>\n",
       "\t<tr><td>FM14    </td><td>Ambient</td><td>3</td></tr>\n",
       "\t<tr><td>FM14    </td><td>NH4    </td><td>4</td></tr>\n",
       "\t<tr><td>FM19    </td><td>Ambient</td><td>2</td></tr>\n",
       "\t<tr><td>FM19    </td><td>NH4    </td><td>6</td></tr>\n",
       "\t<tr><td>FM6     </td><td>Ambient</td><td>2</td></tr>\n",
       "\t<tr><td>FM6     </td><td>NH4    </td><td>4</td></tr>\n",
       "\t<tr><td>FM9     </td><td>Ambient</td><td>2</td></tr>\n",
       "\t<tr><td>FM9     </td><td>NH4    </td><td>3</td></tr>\n",
       "\t<tr><td>K2      </td><td>Ambient</td><td>4</td></tr>\n",
       "\t<tr><td>K2      </td><td>NH4    </td><td>3</td></tr>\n",
       "\t<tr><td>Kelsey-1</td><td>Ambient</td><td>5</td></tr>\n",
       "\t<tr><td>Kelsey-1</td><td>NH4    </td><td>3</td></tr>\n",
       "\t<tr><td>U44     </td><td>Ambient</td><td>5</td></tr>\n",
       "\t<tr><td>U44     </td><td>NH4    </td><td>7</td></tr>\n",
       "</tbody>\n",
       "</table>\n"
      ],
      "text/latex": [
       "A grouped\\_df: 20 × 3\n",
       "\\begin{tabular}{lll}\n",
       " Genotype & Nutrients & Paired\\\\\n",
       " <chr> & <chr> & <int>\\\\\n",
       "\\hline\n",
       "\t Acerv2   & Ambient & 6\\\\\n",
       "\t Acerv2   & NH4     & 6\\\\\n",
       "\t Cooper-9 & Ambient & 4\\\\\n",
       "\t Cooper-9 & NH4     & 1\\\\\n",
       "\t Elkhorn  & Ambient & 3\\\\\n",
       "\t Elkhorn  & NH4     & 4\\\\\n",
       "\t FM14     & Ambient & 3\\\\\n",
       "\t FM14     & NH4     & 4\\\\\n",
       "\t FM19     & Ambient & 2\\\\\n",
       "\t FM19     & NH4     & 6\\\\\n",
       "\t FM6      & Ambient & 2\\\\\n",
       "\t FM6      & NH4     & 4\\\\\n",
       "\t FM9      & Ambient & 2\\\\\n",
       "\t FM9      & NH4     & 3\\\\\n",
       "\t K2       & Ambient & 4\\\\\n",
       "\t K2       & NH4     & 3\\\\\n",
       "\t Kelsey-1 & Ambient & 5\\\\\n",
       "\t Kelsey-1 & NH4     & 3\\\\\n",
       "\t U44      & Ambient & 5\\\\\n",
       "\t U44      & NH4     & 7\\\\\n",
       "\\end{tabular}\n"
      ],
      "text/markdown": [
       "\n",
       "A grouped_df: 20 × 3\n",
       "\n",
       "| Genotype &lt;chr&gt; | Nutrients &lt;chr&gt; | Paired &lt;int&gt; |\n",
       "|---|---|---|\n",
       "| Acerv2   | Ambient | 6 |\n",
       "| Acerv2   | NH4     | 6 |\n",
       "| Cooper-9 | Ambient | 4 |\n",
       "| Cooper-9 | NH4     | 1 |\n",
       "| Elkhorn  | Ambient | 3 |\n",
       "| Elkhorn  | NH4     | 4 |\n",
       "| FM14     | Ambient | 3 |\n",
       "| FM14     | NH4     | 4 |\n",
       "| FM19     | Ambient | 2 |\n",
       "| FM19     | NH4     | 6 |\n",
       "| FM6      | Ambient | 2 |\n",
       "| FM6      | NH4     | 4 |\n",
       "| FM9      | Ambient | 2 |\n",
       "| FM9      | NH4     | 3 |\n",
       "| K2       | Ambient | 4 |\n",
       "| K2       | NH4     | 3 |\n",
       "| Kelsey-1 | Ambient | 5 |\n",
       "| Kelsey-1 | NH4     | 3 |\n",
       "| U44      | Ambient | 5 |\n",
       "| U44      | NH4     | 7 |\n",
       "\n"
      ],
      "text/plain": [
       "   Genotype Nutrients Paired\n",
       "1  Acerv2   Ambient   6     \n",
       "2  Acerv2   NH4       6     \n",
       "3  Cooper-9 Ambient   4     \n",
       "4  Cooper-9 NH4       1     \n",
       "5  Elkhorn  Ambient   3     \n",
       "6  Elkhorn  NH4       4     \n",
       "7  FM14     Ambient   3     \n",
       "8  FM14     NH4       4     \n",
       "9  FM19     Ambient   2     \n",
       "10 FM19     NH4       6     \n",
       "11 FM6      Ambient   2     \n",
       "12 FM6      NH4       4     \n",
       "13 FM9      Ambient   2     \n",
       "14 FM9      NH4       3     \n",
       "15 K2       Ambient   4     \n",
       "16 K2       NH4       3     \n",
       "17 Kelsey-1 Ambient   5     \n",
       "18 Kelsey-1 NH4       3     \n",
       "19 U44      Ambient   5     \n",
       "20 U44      NH4       7     "
      ]
     },
     "metadata": {},
     "output_type": "display_data"
    }
   ],
   "source": [
    "sample_data(ps_placebo) %>%\n",
    "  group_by(Genotype, Nutrients) %>%\n",
    "  summarize(Paired = n())"
   ]
  },
  {
   "cell_type": "code",
   "execution_count": 10,
   "id": "708ebfda",
   "metadata": {},
   "outputs": [
    {
     "data": {
      "text/plain": [
       "phyloseq-class experiment-level object\n",
       "otu_table()   OTU Table:         [ 32 taxa and 60 samples ]\n",
       "sample_data() Sample Data:       [ 60 samples by 55 sample variables ]\n",
       "tax_table()   Taxonomy Table:    [ 32 taxa by 8 taxonomic ranks ]\n",
       "phy_tree()    Phylogenetic Tree: [ 32 tips and 26 internal nodes ]"
      ]
     },
     "metadata": {},
     "output_type": "display_data"
    },
    {
     "data": {
      "text/plain": [
       "phyloseq-class experiment-level object\n",
       "otu_table()   OTU Table:         [ 31 taxa and 60 samples ]\n",
       "sample_data() Sample Data:       [ 60 samples by 55 sample variables ]\n",
       "tax_table()   Taxonomy Table:    [ 31 taxa by 8 taxonomic ranks ]\n",
       "phy_tree()    Phylogenetic Tree: [ 31 tips and 25 internal nodes ]"
      ]
     },
     "metadata": {},
     "output_type": "display_data"
    },
    {
     "data": {
      "text/plain": [
       "phyloseq-class experiment-level object\n",
       "otu_table()   OTU Table:         [ 94 taxa and 192 samples ]\n",
       "sample_data() Sample Data:       [ 192 samples by 55 sample variables ]\n",
       "tax_table()   Taxonomy Table:    [ 94 taxa by 8 taxonomic ranks ]\n",
       "phy_tree()    Phylogenetic Tree: [ 94 tips and 75 internal nodes ]"
      ]
     },
     "metadata": {},
     "output_type": "display_data"
    },
    {
     "data": {
      "text/plain": [
       "phyloseq-class experiment-level object\n",
       "otu_table()   OTU Table:         [ 80 taxa and 192 samples ]\n",
       "sample_data() Sample Data:       [ 192 samples by 55 sample variables ]\n",
       "tax_table()   Taxonomy Table:    [ 80 taxa by 8 taxonomic ranks ]\n",
       "phy_tree()    Phylogenetic Tree: [ 80 tips and 64 internal nodes ]"
      ]
     },
     "metadata": {},
     "output_type": "display_data"
    },
    {
     "data": {
      "text/plain": [
       "phyloseq-class experiment-level object\n",
       "otu_table()   OTU Table:         [ 212 taxa and 5 samples ]\n",
       "sample_data() Sample Data:       [ 5 samples by 55 sample variables ]\n",
       "tax_table()   Taxonomy Table:    [ 212 taxa by 8 taxonomic ranks ]\n",
       "phy_tree()    Phylogenetic Tree: [ 212 tips and 199 internal nodes ]"
      ]
     },
     "metadata": {},
     "output_type": "display_data"
    },
    {
     "data": {
      "text/plain": [
       "phyloseq-class experiment-level object\n",
       "otu_table()   OTU Table:         [ 72 taxa and 135 samples ]\n",
       "sample_data() Sample Data:       [ 135 samples by 55 sample variables ]\n",
       "tax_table()   Taxonomy Table:    [ 72 taxa by 8 taxonomic ranks ]\n",
       "phy_tree()    Phylogenetic Tree: [ 72 tips and 55 internal nodes ]"
      ]
     },
     "metadata": {},
     "output_type": "display_data"
    },
    {
     "data": {
      "text/plain": [
       "phyloseq-class experiment-level object\n",
       "otu_table()   OTU Table:         [ 98 taxa and 36 samples ]\n",
       "sample_data() Sample Data:       [ 36 samples by 55 sample variables ]\n",
       "tax_table()   Taxonomy Table:    [ 98 taxa by 8 taxonomic ranks ]\n",
       "phy_tree()    Phylogenetic Tree: [ 98 tips and 81 internal nodes ]"
      ]
     },
     "metadata": {},
     "output_type": "display_data"
    },
    {
     "data": {
      "text/plain": [
       "phyloseq-class experiment-level object\n",
       "otu_table()   OTU Table:         [ 223 taxa and 26 samples ]\n",
       "sample_data() Sample Data:       [ 26 samples by 55 sample variables ]\n",
       "tax_table()   Taxonomy Table:    [ 223 taxa by 8 taxonomic ranks ]\n",
       "phy_tree()    Phylogenetic Tree: [ 223 tips and 192 internal nodes ]"
      ]
     },
     "metadata": {},
     "output_type": "display_data"
    },
    {
     "data": {
      "text/plain": [
       "phyloseq-class experiment-level object\n",
       "otu_table()   OTU Table:         [ 76 taxa and 41 samples ]\n",
       "sample_data() Sample Data:       [ 41 samples by 55 sample variables ]\n",
       "tax_table()   Taxonomy Table:    [ 76 taxa by 8 taxonomic ranks ]\n",
       "phy_tree()    Phylogenetic Tree: [ 76 tips and 63 internal nodes ]"
      ]
     },
     "metadata": {},
     "output_type": "display_data"
    },
    {
     "data": {
      "text/plain": [
       "phyloseq-class experiment-level object\n",
       "otu_table()   OTU Table:         [ 212 taxa and 32 samples ]\n",
       "sample_data() Sample Data:       [ 32 samples by 55 sample variables ]\n",
       "tax_table()   Taxonomy Table:    [ 212 taxa by 8 taxonomic ranks ]\n",
       "phy_tree()    Phylogenetic Tree: [ 212 tips and 178 internal nodes ]"
      ]
     },
     "metadata": {},
     "output_type": "display_data"
    },
    {
     "data": {
      "text/plain": [
       "phyloseq-class experiment-level object\n",
       "otu_table()   OTU Table:         [ 74 taxa and 77 samples ]\n",
       "sample_data() Sample Data:       [ 77 samples by 55 sample variables ]\n",
       "tax_table()   Taxonomy Table:    [ 74 taxa by 8 taxonomic ranks ]\n",
       "phy_tree()    Phylogenetic Tree: [ 74 tips and 58 internal nodes ]"
      ]
     },
     "metadata": {},
     "output_type": "display_data"
    },
    {
     "data": {
      "text/plain": [
       "phyloseq-class experiment-level object\n",
       "otu_table()   OTU Table:         [ 74 taxa and 77 samples ]\n",
       "sample_data() Sample Data:       [ 77 samples by 55 sample variables ]\n",
       "tax_table()   Taxonomy Table:    [ 74 taxa by 8 taxonomic ranks ]\n",
       "phy_tree()    Phylogenetic Tree: [ 74 tips and 58 internal nodes ]"
      ]
     },
     "metadata": {},
     "output_type": "display_data"
    },
    {
     "data": {
      "text/plain": [
       "phyloseq-class experiment-level object\n",
       "otu_table()   OTU Table:         [ 69 taxa and 106 samples ]\n",
       "sample_data() Sample Data:       [ 106 samples by 55 sample variables ]\n",
       "tax_table()   Taxonomy Table:    [ 69 taxa by 8 taxonomic ranks ]\n",
       "phy_tree()    Phylogenetic Tree: [ 69 tips and 55 internal nodes ]"
      ]
     },
     "metadata": {},
     "output_type": "display_data"
    }
   ],
   "source": [
    "ps_fill_razor = filter_taxa(ps_razor, function(x) sum(x > 10) > (0.10*length(x)), TRUE)\n",
    "ps_fill_razor \n",
    "                            \n",
    "ps_fill_razor_nr = filter_taxa(ps_razor_nr, function(x) sum(x > 5) > (0.10*length(x)), TRUE)\n",
    "ps_fill_razor_nr                          \n",
    "\n",
    "ps_fill_clip = filter_taxa(ps_Clipped, function(x) sum(x > 5) > (0.1*length(x)), TRUE)\n",
    "ps_fill_clip\n",
    "                           \n",
    "ps_fill_clip_nr = filter_taxa(ps_clip_nr, function(x) sum(x > 5) > (0.1*length(x)), TRUE)\n",
    "ps_fill_clip_nr                           \n",
    "\n",
    "ps_fill_neg = filter_taxa(ps_neg, function(x) sum(x > 0) > (0.00*length(x)), TRUE)\n",
    "ps_fill_neg                         \n",
    "   \n",
    "                                                      \n",
    "ps_fill_pair = filter_taxa(ps_paired, function(x) sum(x > 5) > (0.15*length(x)), TRUE)\n",
    "ps_fill_pair  \n",
    "                           \n",
    "                                       \n",
    "                             \n",
    "ps_fill_Am_Pl = filter_taxa(ps_Am_Pl_c, function(x) sum(x > 5 ) > (0.1*length(x)), TRUE)\n",
    "ps_fill_Am_Pl    \n",
    "\n",
    "ps_fill_Am_Pa = filter_taxa(ps_Am_Pa_c, function(x) sum(x > 5 ) > (0.1*length(x)), TRUE)\n",
    "ps_fill_Am_Pa   \n",
    "                             \n",
    "ps_fill_NH_Pl = filter_taxa(ps_NH_Pl_c, function(x) sum(x > 5 ) > (0.1*length(x)), TRUE)\n",
    "ps_fill_NH_Pl    \n",
    "\n",
    "ps_fill_NH_Pa = filter_taxa(ps_NH_Pa_c, function(x) sum(x > 5 ) > (0.1*length(x)), TRUE)\n",
    "ps_fill_NH_Pa  \n",
    "                              \n",
    "                           \n",
    "                           \n",
    "ps_placebo_fill = filter_taxa(ps_placebo, function(x) sum(x > 5 ) > (0.1*length(x)), TRUE)\n",
    "    ps_placebo_fill\n",
    "\n",
    "ps_placebo_fill = filter_taxa(ps_placebo, function(x) sum(x > 5 ) > (0.1*length(x)), TRUE)\n",
    "    ps_placebo_fill \n",
    "\n",
    "                              \n",
    "ps_placebo_fill_un = filter_taxa(ps_placebo_un, function(x) sum(x > 5 ) > (0.1*length(x)), TRUE)\n",
    "    ps_placebo_fill_un                            "
   ]
  },
  {
   "cell_type": "markdown",
   "id": "9bff8a41",
   "metadata": {},
   "source": [
    "# Ambient placebo vs NH4 Placebo"
   ]
  },
  {
   "cell_type": "code",
   "execution_count": 11,
   "id": "4f5c2aed",
   "metadata": {},
   "outputs": [
    {
     "name": "stderr",
     "output_type": "stream",
     "text": [
      "Warning message in data_prep(phyloseq, group, zero_cut, lib_cut, global = global):\n",
      "“The multi-group comparison will be deactivated as the group variable has < 3 categories.”\n"
     ]
    },
    {
     "data": {
      "text/html": [
       "<table class=\"dataframe\">\n",
       "<caption>A data.frame: 6 × 2</caption>\n",
       "<thead>\n",
       "\t<tr><th></th><th scope=col>taxon_id</th><th scope=col>NutrientsNH4</th></tr>\n",
       "\t<tr><th></th><th scope=col>&lt;chr&gt;</th><th scope=col>&lt;dbl&gt;</th></tr>\n",
       "</thead>\n",
       "<tbody>\n",
       "\t<tr><th scope=row>1</th><td>2549b8aa248e7607235d17caa2578426</td><td>0.9954017</td></tr>\n",
       "\t<tr><th scope=row>2</th><td>a14b7162edeb7a30ddb2a46656539857</td><td>1.0256723</td></tr>\n",
       "\t<tr><th scope=row>3</th><td>ce80d12fb367ffe011c2fb15bf9659bc</td><td>0.0000000</td></tr>\n",
       "\t<tr><th scope=row>4</th><td>e23bbf8f65f14f451c2071e477ed2b58</td><td>0.0000000</td></tr>\n",
       "\t<tr><th scope=row>5</th><td>58a75ecc587c36de8b4bbbac0c6efff2</td><td>0.0000000</td></tr>\n",
       "\t<tr><th scope=row>6</th><td>8c4250b2fdfdd56db618eac4b7569d2d</td><td>0.0000000</td></tr>\n",
       "</tbody>\n",
       "</table>\n"
      ],
      "text/latex": [
       "A data.frame: 6 × 2\n",
       "\\begin{tabular}{r|ll}\n",
       "  & taxon\\_id & NutrientsNH4\\\\\n",
       "  & <chr> & <dbl>\\\\\n",
       "\\hline\n",
       "\t1 & 2549b8aa248e7607235d17caa2578426 & 0.9954017\\\\\n",
       "\t2 & a14b7162edeb7a30ddb2a46656539857 & 1.0256723\\\\\n",
       "\t3 & ce80d12fb367ffe011c2fb15bf9659bc & 0.0000000\\\\\n",
       "\t4 & e23bbf8f65f14f451c2071e477ed2b58 & 0.0000000\\\\\n",
       "\t5 & 58a75ecc587c36de8b4bbbac0c6efff2 & 0.0000000\\\\\n",
       "\t6 & 8c4250b2fdfdd56db618eac4b7569d2d & 0.0000000\\\\\n",
       "\\end{tabular}\n"
      ],
      "text/markdown": [
       "\n",
       "A data.frame: 6 × 2\n",
       "\n",
       "| <!--/--> | taxon_id &lt;chr&gt; | NutrientsNH4 &lt;dbl&gt; |\n",
       "|---|---|---|\n",
       "| 1 | 2549b8aa248e7607235d17caa2578426 | 0.9954017 |\n",
       "| 2 | a14b7162edeb7a30ddb2a46656539857 | 1.0256723 |\n",
       "| 3 | ce80d12fb367ffe011c2fb15bf9659bc | 0.0000000 |\n",
       "| 4 | e23bbf8f65f14f451c2071e477ed2b58 | 0.0000000 |\n",
       "| 5 | 58a75ecc587c36de8b4bbbac0c6efff2 | 0.0000000 |\n",
       "| 6 | 8c4250b2fdfdd56db618eac4b7569d2d | 0.0000000 |\n",
       "\n"
      ],
      "text/plain": [
       "  taxon_id                         NutrientsNH4\n",
       "1 2549b8aa248e7607235d17caa2578426 0.9954017   \n",
       "2 a14b7162edeb7a30ddb2a46656539857 1.0256723   \n",
       "3 ce80d12fb367ffe011c2fb15bf9659bc 0.0000000   \n",
       "4 e23bbf8f65f14f451c2071e477ed2b58 0.0000000   \n",
       "5 58a75ecc587c36de8b4bbbac0c6efff2 0.0000000   \n",
       "6 8c4250b2fdfdd56db618eac4b7569d2d 0.0000000   "
      ]
     },
     "metadata": {},
     "output_type": "display_data"
    },
    {
     "data": {
      "text/html": [
       "<style>\n",
       ".list-inline {list-style: none; margin:0; padding: 0}\n",
       ".list-inline>li {display: inline-block}\n",
       ".list-inline>li:not(:last-child)::after {content: \"\\00b7\"; padding: 0 .5ex}\n",
       "</style>\n",
       "<ol class=list-inline><li>69</li><li>2</li></ol>\n"
      ],
      "text/latex": [
       "\\begin{enumerate*}\n",
       "\\item 69\n",
       "\\item 2\n",
       "\\end{enumerate*}\n"
      ],
      "text/markdown": [
       "1. 69\n",
       "2. 2\n",
       "\n",
       "\n"
      ],
      "text/plain": [
       "[1] 69  2"
      ]
     },
     "metadata": {},
     "output_type": "display_data"
    },
    {
     "data": {
      "text/html": [
       "<table class=\"dataframe\">\n",
       "<caption>A data.frame: 6 × 2</caption>\n",
       "<thead>\n",
       "\t<tr><th></th><th scope=col>taxon_id</th><th scope=col>NutrientsNH4SD</th></tr>\n",
       "\t<tr><th></th><th scope=col>&lt;chr&gt;</th><th scope=col>&lt;dbl&gt;</th></tr>\n",
       "</thead>\n",
       "<tbody>\n",
       "\t<tr><th scope=row>1</th><td>2549b8aa248e7607235d17caa2578426</td><td>0.2810466</td></tr>\n",
       "\t<tr><th scope=row>2</th><td>a14b7162edeb7a30ddb2a46656539857</td><td>0.2810085</td></tr>\n",
       "\t<tr><th scope=row>3</th><td>ce80d12fb367ffe011c2fb15bf9659bc</td><td>0.0000000</td></tr>\n",
       "\t<tr><th scope=row>4</th><td>e23bbf8f65f14f451c2071e477ed2b58</td><td>0.0000000</td></tr>\n",
       "\t<tr><th scope=row>5</th><td>58a75ecc587c36de8b4bbbac0c6efff2</td><td>0.0000000</td></tr>\n",
       "\t<tr><th scope=row>6</th><td>8c4250b2fdfdd56db618eac4b7569d2d</td><td>0.0000000</td></tr>\n",
       "</tbody>\n",
       "</table>\n"
      ],
      "text/latex": [
       "A data.frame: 6 × 2\n",
       "\\begin{tabular}{r|ll}\n",
       "  & taxon\\_id & NutrientsNH4SD\\\\\n",
       "  & <chr> & <dbl>\\\\\n",
       "\\hline\n",
       "\t1 & 2549b8aa248e7607235d17caa2578426 & 0.2810466\\\\\n",
       "\t2 & a14b7162edeb7a30ddb2a46656539857 & 0.2810085\\\\\n",
       "\t3 & ce80d12fb367ffe011c2fb15bf9659bc & 0.0000000\\\\\n",
       "\t4 & e23bbf8f65f14f451c2071e477ed2b58 & 0.0000000\\\\\n",
       "\t5 & 58a75ecc587c36de8b4bbbac0c6efff2 & 0.0000000\\\\\n",
       "\t6 & 8c4250b2fdfdd56db618eac4b7569d2d & 0.0000000\\\\\n",
       "\\end{tabular}\n"
      ],
      "text/markdown": [
       "\n",
       "A data.frame: 6 × 2\n",
       "\n",
       "| <!--/--> | taxon_id &lt;chr&gt; | NutrientsNH4SD &lt;dbl&gt; |\n",
       "|---|---|---|\n",
       "| 1 | 2549b8aa248e7607235d17caa2578426 | 0.2810466 |\n",
       "| 2 | a14b7162edeb7a30ddb2a46656539857 | 0.2810085 |\n",
       "| 3 | ce80d12fb367ffe011c2fb15bf9659bc | 0.0000000 |\n",
       "| 4 | e23bbf8f65f14f451c2071e477ed2b58 | 0.0000000 |\n",
       "| 5 | 58a75ecc587c36de8b4bbbac0c6efff2 | 0.0000000 |\n",
       "| 6 | 8c4250b2fdfdd56db618eac4b7569d2d | 0.0000000 |\n",
       "\n"
      ],
      "text/plain": [
       "  taxon_id                         NutrientsNH4SD\n",
       "1 2549b8aa248e7607235d17caa2578426 0.2810466     \n",
       "2 a14b7162edeb7a30ddb2a46656539857 0.2810085     \n",
       "3 ce80d12fb367ffe011c2fb15bf9659bc 0.0000000     \n",
       "4 e23bbf8f65f14f451c2071e477ed2b58 0.0000000     \n",
       "5 58a75ecc587c36de8b4bbbac0c6efff2 0.0000000     \n",
       "6 8c4250b2fdfdd56db618eac4b7569d2d 0.0000000     "
      ]
     },
     "metadata": {},
     "output_type": "display_data"
    },
    {
     "data": {
      "text/html": [
       "<table class=\"dataframe\">\n",
       "<caption>A data.frame: 6 × 2</caption>\n",
       "<thead>\n",
       "\t<tr><th></th><th scope=col>taxon_id</th><th scope=col>Sig</th></tr>\n",
       "\t<tr><th></th><th scope=col>&lt;chr&gt;</th><th scope=col>&lt;lgl&gt;</th></tr>\n",
       "</thead>\n",
       "<tbody>\n",
       "\t<tr><th scope=row>1</th><td>2549b8aa248e7607235d17caa2578426</td><td>TRUE</td></tr>\n",
       "\t<tr><th scope=row>2</th><td>a14b7162edeb7a30ddb2a46656539857</td><td>TRUE</td></tr>\n",
       "\t<tr><th scope=row>3</th><td>75988391e4aca54b88d7669fabb11b96</td><td>TRUE</td></tr>\n",
       "\t<tr><th scope=row>4</th><td>380e94062cd8f44ea50814193ad56225</td><td>TRUE</td></tr>\n",
       "\t<tr><th scope=row>5</th><td>5b726693d33c6c41b45d5654af719c7c</td><td>TRUE</td></tr>\n",
       "\t<tr><th scope=row>6</th><td>41861cce34e32070bc99d36682bf7540</td><td>TRUE</td></tr>\n",
       "</tbody>\n",
       "</table>\n"
      ],
      "text/latex": [
       "A data.frame: 6 × 2\n",
       "\\begin{tabular}{r|ll}\n",
       "  & taxon\\_id & Sig\\\\\n",
       "  & <chr> & <lgl>\\\\\n",
       "\\hline\n",
       "\t1 & 2549b8aa248e7607235d17caa2578426 & TRUE\\\\\n",
       "\t2 & a14b7162edeb7a30ddb2a46656539857 & TRUE\\\\\n",
       "\t3 & 75988391e4aca54b88d7669fabb11b96 & TRUE\\\\\n",
       "\t4 & 380e94062cd8f44ea50814193ad56225 & TRUE\\\\\n",
       "\t5 & 5b726693d33c6c41b45d5654af719c7c & TRUE\\\\\n",
       "\t6 & 41861cce34e32070bc99d36682bf7540 & TRUE\\\\\n",
       "\\end{tabular}\n"
      ],
      "text/markdown": [
       "\n",
       "A data.frame: 6 × 2\n",
       "\n",
       "| <!--/--> | taxon_id &lt;chr&gt; | Sig &lt;lgl&gt; |\n",
       "|---|---|---|\n",
       "| 1 | 2549b8aa248e7607235d17caa2578426 | TRUE |\n",
       "| 2 | a14b7162edeb7a30ddb2a46656539857 | TRUE |\n",
       "| 3 | 75988391e4aca54b88d7669fabb11b96 | TRUE |\n",
       "| 4 | 380e94062cd8f44ea50814193ad56225 | TRUE |\n",
       "| 5 | 5b726693d33c6c41b45d5654af719c7c | TRUE |\n",
       "| 6 | 41861cce34e32070bc99d36682bf7540 | TRUE |\n",
       "\n"
      ],
      "text/plain": [
       "  taxon_id                         Sig \n",
       "1 2549b8aa248e7607235d17caa2578426 TRUE\n",
       "2 a14b7162edeb7a30ddb2a46656539857 TRUE\n",
       "3 75988391e4aca54b88d7669fabb11b96 TRUE\n",
       "4 380e94062cd8f44ea50814193ad56225 TRUE\n",
       "5 5b726693d33c6c41b45d5654af719c7c TRUE\n",
       "6 41861cce34e32070bc99d36682bf7540 TRUE"
      ]
     },
     "metadata": {},
     "output_type": "display_data"
    },
    {
     "name": "stderr",
     "output_type": "stream",
     "text": [
      "\u001b[1m\u001b[22mJoining, by = \"taxon_id\"\n"
     ]
    },
    {
     "data": {
      "text/html": [
       "<style>\n",
       ".list-inline {list-style: none; margin:0; padding: 0}\n",
       ".list-inline>li {display: inline-block}\n",
       ".list-inline>li:not(:last-child)::after {content: \"\\00b7\"; padding: 0 .5ex}\n",
       "</style>\n",
       "<ol class=list-inline><li>10</li><li>5</li></ol>\n"
      ],
      "text/latex": [
       "\\begin{enumerate*}\n",
       "\\item 10\n",
       "\\item 5\n",
       "\\end{enumerate*}\n"
      ],
      "text/markdown": [
       "1. 10\n",
       "2. 5\n",
       "\n",
       "\n"
      ],
      "text/plain": [
       "[1] 10  5"
      ]
     },
     "metadata": {},
     "output_type": "display_data"
    },
    {
     "data": {
      "text/plain": [
       "phyloseq-class experiment-level object\n",
       "otu_table()   OTU Table:         [ 10 taxa and 257 samples ]\n",
       "sample_data() Sample Data:       [ 257 samples by 55 sample variables ]\n",
       "tax_table()   Taxonomy Table:    [ 10 taxa by 14 taxonomic ranks ]"
      ]
     },
     "metadata": {},
     "output_type": "display_data"
    },
    {
     "data": {
      "text/plain": [
       "phyloseq-class experiment-level object\n",
       "otu_table()   OTU Table:         [ 10 taxa and 106 samples ]\n",
       "sample_data() Sample Data:       [ 106 samples by 55 sample variables ]\n",
       "tax_table()   Taxonomy Table:    [ 10 taxa by 14 taxonomic ranks ]"
      ]
     },
     "metadata": {},
     "output_type": "display_data"
    }
   ],
   "source": [
    "out = ancombc(phyloseq = ps_placebo_fill_un , formula = \"Nutrients\", \n",
    "              p_adj_method = \"fdr\", zero_cut = 0.90, lib_cut = 1000, \n",
    "              group = \"Nutrients\", struc_zero = TRUE, neg_lb = TRUE, tol = 1e-5, \n",
    "              max_iter = 100, conserve = TRUE, alpha = 0.01, global = FALSE)\n",
    "\n",
    "res = out$res\n",
    "res_global = out$res_global\n",
    "\n",
    "\n",
    "\n",
    "df_fig1 = data.frame(res$beta * res$diff_abn, check.names = FALSE) %>% \n",
    "  rownames_to_column(\"taxon_id\")\n",
    "\n",
    "head(df_fig1)\n",
    "\n",
    "dim(df_fig1)\n",
    "\n",
    "df_fig2 = data.frame(res$se * res$diff_abn, check.names = FALSE) %>% \n",
    "  rownames_to_column(\"taxon_id\")\n",
    "colnames(df_fig2)[-1] = paste0(colnames(df_fig2)[-1], \"SD\")\n",
    "head(df_fig2)\n",
    "\n",
    "\n",
    "df_fig = df_fig1 %>% left_join(df_fig2, by = \"taxon_id\") %>%\n",
    "  transmute(taxon_id, NutrientsNH4, NutrientsNH4SD)%>%\n",
    "  mutate(group = ifelse(NutrientsNH4 > 0, \"NH4\", \"Ambient\"))\n",
    "df_fig$taxon_id = factor(df_fig$taxon_id, levels = df_fig$taxon_id)\n",
    "\n",
    "\n",
    "sigs=res$diff_abn %>% as.data.frame() %>%\n",
    "select(NutrientsNH4)  %>%\n",
    "filter(NutrientsNH4==\"TRUE\") %>%\n",
    "rownames_to_column(\"taxon_id\") %>%\n",
    "rename(Sig=NutrientsNH4)\n",
    "head(sigs)\n",
    "\n",
    "\n",
    "df_fig =df_fig %>% inner_join(sigs)\n",
    "\n",
    "dim(df_fig)\n",
    "\n",
    "res_ancom= df_fig %>%\n",
    "mutate(Feature.ID = taxon_id) %>%\n",
    "rownames_to_column(\"taxon\") %>%\n",
    "left_join(as.data.frame(taxa_16S), \"Feature.ID\") %>%\n",
    "#select(taxon_id, Class, Order, Family, Genus, Taxon) %>%\n",
    "column_to_rownames(\"taxon_id\")%>%\n",
    "as.matrix\n",
    "\n",
    "ps_DLPL=phyloseq(otu_table(ASVs, taxa_are_rows=TRUE), \n",
    "               sample_data(meta),\n",
    "              tax_table(res_ancom))\n",
    "ps_DLPL=subset_samples(ps_DLPL, !ID %in% dups & Genotype!=\"U41\")\n",
    "ps_DLPL\n",
    "\n",
    "\n",
    "\n",
    "ps_ancom_APa = subset_samples(ps_DLPL,\n",
    "                      Type==\"Clipped\")\n",
    "ps_ancom_APa = subset_samples(ps_ancom_APa, #Pairs==\"paired\" &\n",
    "                               Diseased==\"Placebo\")\n",
    "ps_ancom_APa\n",
    "\n",
    "psr_fill_melt = ps_ancom_APa  %>%  \n",
    "  #tax_glom(\"Genus\") %>% \n",
    "  transform_sample_counts(function(x) {x/sum(x)} ) %>% # Transform to rel. abundance\n",
    "  psmelt()    \n"
   ]
  },
  {
   "cell_type": "code",
   "execution_count": 19,
   "id": "37220a86",
   "metadata": {},
   "outputs": [
    {
     "name": "stderr",
     "output_type": "stream",
     "text": [
      "Warning message:\n",
      "“Removed 186 rows containing missing values (position_stack).”\n",
      "Warning message:\n",
      "“Removed 114 rows containing missing values (geom_bar).”\n",
      "\u001b[1m\u001b[22m`summarise()` has grouped output by 'NH4_Susceptibility'. You can override using the `.groups` argument.\n"
     ]
    },
    {
     "data": {
      "text/html": [
       "<table class=\"dataframe\">\n",
       "<caption>A grouped_df: 4 × 3</caption>\n",
       "<thead>\n",
       "\t<tr><th scope=col>NH4_Susceptibility</th><th scope=col>Nutrients</th><th scope=col>Paired</th></tr>\n",
       "\t<tr><th scope=col>&lt;chr&gt;</th><th scope=col>&lt;chr&gt;</th><th scope=col>&lt;int&gt;</th></tr>\n",
       "</thead>\n",
       "<tbody>\n",
       "\t<tr><td>Resistant  </td><td>Ambient</td><td>220</td></tr>\n",
       "\t<tr><td>Resistant  </td><td>NH4    </td><td>410</td></tr>\n",
       "\t<tr><td>Susceptible</td><td>Ambient</td><td>200</td></tr>\n",
       "\t<tr><td>Susceptible</td><td>NH4    </td><td>230</td></tr>\n",
       "</tbody>\n",
       "</table>\n"
      ],
      "text/latex": [
       "A grouped\\_df: 4 × 3\n",
       "\\begin{tabular}{lll}\n",
       " NH4\\_Susceptibility & Nutrients & Paired\\\\\n",
       " <chr> & <chr> & <int>\\\\\n",
       "\\hline\n",
       "\t Resistant   & Ambient & 220\\\\\n",
       "\t Resistant   & NH4     & 410\\\\\n",
       "\t Susceptible & Ambient & 200\\\\\n",
       "\t Susceptible & NH4     & 230\\\\\n",
       "\\end{tabular}\n"
      ],
      "text/markdown": [
       "\n",
       "A grouped_df: 4 × 3\n",
       "\n",
       "| NH4_Susceptibility &lt;chr&gt; | Nutrients &lt;chr&gt; | Paired &lt;int&gt; |\n",
       "|---|---|---|\n",
       "| Resistant   | Ambient | 220 |\n",
       "| Resistant   | NH4     | 410 |\n",
       "| Susceptible | Ambient | 200 |\n",
       "| Susceptible | NH4     | 230 |\n",
       "\n"
      ],
      "text/plain": [
       "  NH4_Susceptibility Nutrients Paired\n",
       "1 Resistant          Ambient   220   \n",
       "2 Resistant          NH4       410   \n",
       "3 Susceptible        Ambient   200   \n",
       "4 Susceptible        NH4       230   "
      ]
     },
     "metadata": {},
     "output_type": "display_data"
    },
    {
     "data": {
      "image/png": "[encoded data removed]",
      "text/plain": [
       "plot without title"
      ]
     },
     "metadata": {
      "image/png": {
       "height": 420,
       "width": 420
      }
     },
     "output_type": "display_data"
    }
   ],
   "source": [
    "psr_fill_melt$Combo = factor(psr_fill_melt$Combo, levels = c(\"Ambient_Placebo\", \"NH4_Placebo\", \n",
    "                                                             \"Ambient_Pathogen\", \"NH4_Pathogen\"))\n",
    "\n",
    "p2 = psr_fill_melt %>%\n",
    "#filter(Genus!=\" g__MD3-55\") %>%\n",
    "#filter(Abundance >= 0.0) %>%\n",
    "mutate_if(\n",
    "                is.character, \n",
    "                stringr::str_replace_all, \n",
    "                pattern = \"o__\",\n",
    "                replacement = \"\") %>%\n",
    "filter(NH4_Susceptibility==c(\"Resistant\", \"Susceptible\")) %>%\n",
    "\n",
    "\n",
    "#mutate_all(funs(str_replace_all(.,\"NH4\", \"Elevated NH4\"))) %>% \n",
    "#filter(Phylum!=c(\" p__Proteobacteria\", \" p__Actinobacteriota\", \" p__Spirochaetota\", \n",
    " #               \" p__Campilobacterota\")) %>%\n",
    "as.data.frame %>%\n",
    "mutate_all(type.convert) %>%\n",
    "mutate_if(is.factor, as.character) %>%\n",
    "#arrange(HealthDL) %>%\n",
    "#filter(HealthDL > 1 | HealthDL <= -1)  %>%\n",
    "\n",
    "ggplot(\n",
    "       aes(x=Genotype, y= Abundance, fill=Combo)) + \n",
    "theme_bw() +\n",
    "geom_bar(stat = \"identity\",position=\"fill\") +\n",
    "facet_grid(.~Nutrients,  scale=\"free_x\") +\n",
    "theme(strip.background = element_rect(fill=\"white\")) +\n",
    "guides(fill = guide_legend(keywidth = 0.4, keyheight =.70, ncol=1)) +\n",
    "#theme(panel.border=element_blank(), axis.line=element_line()) +\n",
    "#facet_grid(Order~., space =\"free\", scales=\"free\", switch = \"y\") +\n",
    "facet_wrap(Order~.) +\n",
    "theme(strip.background = element_blank()) +\n",
    " #labs(fill = \"Treatment\") +\n",
    "theme(axis.title.x = element_text(size = 4)) +\n",
    "theme(legend.text =element_text(size=4)) +\n",
    "theme(legend.title = element_text(size=4)) +\n",
    "#theme(legend.position=\"top\") +\n",
    "theme(axis.title.y = element_text(size=4)) +\n",
    "theme(axis.text.y = element_text(size=4)) +\n",
    "scale_fill_manual(values=c(\"lightblue\", \"#00688B\"\n",
    "                          ), name = \"Combo\", labels=c(Ambient_Placebo=expression(paste(Ambient+P)),\n",
    "                               NH4_Placebo=expression(paste(NH[4])+P))) +\n",
    "theme(axis.text.x = element_text(angle = 50, hjust = 1, size=3)) +\n",
    "theme(strip.text.x = element_text(size = 4)) +\n",
    "ylab(\"Relative Abundance\") +\n",
    "xlab(\"Genotype\") \n",
    "\n",
    "p2\n",
    "psr_fill_melt %>%\n",
    "  group_by(NH4_Susceptibility, Nutrients) %>%\n",
    "  summarize(Paired = n()) %>%\n",
    "head()\n",
    "\n",
    "\n"
   ]
  },
  {
   "cell_type": "code",
   "execution_count": 33,
   "id": "e0015a9c",
   "metadata": {},
   "outputs": [
    {
     "data": {
      "image/png": "[encoded data removed]",
      "text/plain": [
       "plot without title"
      ]
     },
     "metadata": {
      "image/png": {
       "height": 420,
       "width": 420
      }
     },
     "output_type": "display_data"
    }
   ],
   "source": [
    "\n",
    "lab1 <- c(expression(Ambient+P),\n",
    "          expression(Ambient+D), \n",
    "          expression(NH[4]+P),\n",
    "          expression(NH[4]+D))\n",
    "\n",
    "\n",
    "\n",
    "p1 = psr_fill_melt %>%\n",
    "#as.data.frame %>%\n",
    "mutate_all(type.convert) %>%\n",
    "mutate_if(is.factor, as.character) %>%\n",
    "#arrange(SurvivorshipResistant) %>%\n",
    "#filter(HealthDL > 1 )  %>%\n",
    "#filter(HealthDL > 1 | HealthDL <= -1)  %>%\n",
    "mutate_if(\n",
    "                is.character, \n",
    "                stringr::str_replace_all, \n",
    "                pattern = \"o__\",\n",
    "                replacement = \"\") %>% \n",
    "ggplot(\n",
    "           aes(x = NutrientsNH4, y = reorder(ASVs, -NutrientsNH4),\n",
    "               fill =group)) + \n",
    "  geom_bar(stat = \"identity\", width = 0.7, \n",
    "           position = position_dodge(width = 0.4)) +\n",
    "  geom_errorbar(aes(xmin = as.numeric(NutrientsNH4) - as.numeric(NutrientsNH4SD), \n",
    "xmax = as.numeric(NutrientsNH4) + as.numeric(NutrientsNH4SD)),\n",
    "               width = 0.2,\n",
    "               position = position_dodge(0.05), color = \"black\") + \n",
    "  labs(y = \"ASVs\", x = \"Log fold change\", fill =\"Combo\") + \n",
    "  theme_bw() + \n",
    "guides(fill = guide_legend(keywidth = 0.3, , keyheight =.90, ncol=2))  +\n",
    "theme(axis.text.y = element_blank()) +\n",
    "#facet_wrap(Genotype~., scales = \"free_x\") +\n",
    "\n",
    "scale_fill_manual(\"Treatment\", values=c(\"lightblue\", \"#00688B\"), labels= lab1) +\n",
    "\n",
    "\n",
    "theme(axis.title.x = element_text(size = 5)) +\n",
    "theme(axis.title.y = element_text(size = 6)) +\n",
    "theme(axis.text.x = element_text(size =5)) +\n",
    "theme(strip.text.y = element_text(size =4)) +\n",
    "theme(axis.text.y = element_text(size =4)) +\n",
    "guides(color = guide_legend(keywidth = 0.2, , keyheight =.40)) +\n",
    "#theme(axis.text.x = element_text(angle = 90, hjust = 1)) +\n",
    "theme(legend.text =element_text(size=5),\n",
    "     \n",
    "     ) +\n",
    "theme(legend.title = element_text(size=5)) +\n",
    "facet_grid(Order~., space =\"free\", scales=\"free\", switch=\"y\") +\n",
    "theme(strip.background = element_blank()) +\n",
    "theme(strip.text.y.left = element_text(angle =0 )) +\n",
    "theme(strip.text.y = element_text(size = 5)) +\n",
    "geom_vline(xintercept = 0,  \n",
    "                color = \"black\", size=.5) \n",
    "\n",
    "p1\n"
   ]
  },
  {
   "cell_type": "code",
   "execution_count": 35,
   "id": "8ec174c2",
   "metadata": {},
   "outputs": [
    {
     "name": "stderr",
     "output_type": "stream",
     "text": [
      "Warning message:\n",
      "“Removed 186 rows containing missing values (position_stack).”\n",
      "Warning message:\n",
      "“Removed 114 rows containing missing values (geom_bar).”\n"
     ]
    },
    {
     "data": {
      "image/png": "[encoded data removed]",
      "text/plain": [
       "plot without title"
      ]
     },
     "metadata": {
      "image/png": {
       "height": 420,
       "width": 420
      }
     },
     "output_type": "display_data"
    }
   ],
   "source": [
    " ggpubr::ggarrange(p1, p2,\n",
    "                  common.legend = TRUE,\n",
    "                labels = c(\"A\", \"B\"), font.label = list(size = 9), widths = c(1.5, 1))\n",
    "ggsave(\"/Users/stephanie.rosales/Documents/omics_projects/Resitada/figures/ANCOM_Nutrients.jpg\", \n",
    "      width = 5.5, height = 4, units = \"in\", dpi=300)"
   ]
  },
  {
   "cell_type": "code",
   "execution_count": 117,
   "id": "46d35062",
   "metadata": {},
   "outputs": [
    {
     "name": "stderr",
     "output_type": "stream",
     "text": [
      "Warning message in data_prep(phyloseq, group, zero_cut, lib_cut, global = global):\n",
      "“The multi-group comparison will be deactivated as the group variable has < 3 categories.”\n"
     ]
    },
    {
     "data": {
      "text/html": [
       "<table class=\"dataframe\">\n",
       "<caption>A data.frame: 6 × 2</caption>\n",
       "<thead>\n",
       "\t<tr><th></th><th scope=col>taxon_id</th><th scope=col>NutrientsNH4</th></tr>\n",
       "\t<tr><th></th><th scope=col>&lt;chr&gt;</th><th scope=col>&lt;dbl&gt;</th></tr>\n",
       "</thead>\n",
       "<tbody>\n",
       "\t<tr><th scope=row>1</th><td>a14b7162edeb7a30ddb2a46656539857</td><td>0.8731757</td></tr>\n",
       "\t<tr><th scope=row>2</th><td>ce80d12fb367ffe011c2fb15bf9659bc</td><td>0.0000000</td></tr>\n",
       "\t<tr><th scope=row>3</th><td>28fe0a00a6f5e062fba134618cc458e1</td><td>0.0000000</td></tr>\n",
       "\t<tr><th scope=row>4</th><td>e23bbf8f65f14f451c2071e477ed2b58</td><td>0.0000000</td></tr>\n",
       "\t<tr><th scope=row>5</th><td>58a75ecc587c36de8b4bbbac0c6efff2</td><td>0.0000000</td></tr>\n",
       "\t<tr><th scope=row>6</th><td>8c4250b2fdfdd56db618eac4b7569d2d</td><td>0.0000000</td></tr>\n",
       "</tbody>\n",
       "</table>\n"
      ],
      "text/latex": [
       "A data.frame: 6 × 2\n",
       "\\begin{tabular}{r|ll}\n",
       "  & taxon\\_id & NutrientsNH4\\\\\n",
       "  & <chr> & <dbl>\\\\\n",
       "\\hline\n",
       "\t1 & a14b7162edeb7a30ddb2a46656539857 & 0.8731757\\\\\n",
       "\t2 & ce80d12fb367ffe011c2fb15bf9659bc & 0.0000000\\\\\n",
       "\t3 & 28fe0a00a6f5e062fba134618cc458e1 & 0.0000000\\\\\n",
       "\t4 & e23bbf8f65f14f451c2071e477ed2b58 & 0.0000000\\\\\n",
       "\t5 & 58a75ecc587c36de8b4bbbac0c6efff2 & 0.0000000\\\\\n",
       "\t6 & 8c4250b2fdfdd56db618eac4b7569d2d & 0.0000000\\\\\n",
       "\\end{tabular}\n"
      ],
      "text/markdown": [
       "\n",
       "A data.frame: 6 × 2\n",
       "\n",
       "| <!--/--> | taxon_id &lt;chr&gt; | NutrientsNH4 &lt;dbl&gt; |\n",
       "|---|---|---|\n",
       "| 1 | a14b7162edeb7a30ddb2a46656539857 | 0.8731757 |\n",
       "| 2 | ce80d12fb367ffe011c2fb15bf9659bc | 0.0000000 |\n",
       "| 3 | 28fe0a00a6f5e062fba134618cc458e1 | 0.0000000 |\n",
       "| 4 | e23bbf8f65f14f451c2071e477ed2b58 | 0.0000000 |\n",
       "| 5 | 58a75ecc587c36de8b4bbbac0c6efff2 | 0.0000000 |\n",
       "| 6 | 8c4250b2fdfdd56db618eac4b7569d2d | 0.0000000 |\n",
       "\n"
      ],
      "text/plain": [
       "  taxon_id                         NutrientsNH4\n",
       "1 a14b7162edeb7a30ddb2a46656539857 0.8731757   \n",
       "2 ce80d12fb367ffe011c2fb15bf9659bc 0.0000000   \n",
       "3 28fe0a00a6f5e062fba134618cc458e1 0.0000000   \n",
       "4 e23bbf8f65f14f451c2071e477ed2b58 0.0000000   \n",
       "5 58a75ecc587c36de8b4bbbac0c6efff2 0.0000000   \n",
       "6 8c4250b2fdfdd56db618eac4b7569d2d 0.0000000   "
      ]
     },
     "metadata": {},
     "output_type": "display_data"
    },
    {
     "data": {
      "text/html": [
       "<style>\n",
       ".list-inline {list-style: none; margin:0; padding: 0}\n",
       ".list-inline>li {display: inline-block}\n",
       ".list-inline>li:not(:last-child)::after {content: \"\\00b7\"; padding: 0 .5ex}\n",
       "</style>\n",
       "<ol class=list-inline><li>74</li><li>2</li></ol>\n"
      ],
      "text/latex": [
       "\\begin{enumerate*}\n",
       "\\item 74\n",
       "\\item 2\n",
       "\\end{enumerate*}\n"
      ],
      "text/markdown": [
       "1. 74\n",
       "2. 2\n",
       "\n",
       "\n"
      ],
      "text/plain": [
       "[1] 74  2"
      ]
     },
     "metadata": {},
     "output_type": "display_data"
    },
    {
     "data": {
      "text/html": [
       "<table class=\"dataframe\">\n",
       "<caption>A data.frame: 6 × 2</caption>\n",
       "<thead>\n",
       "\t<tr><th></th><th scope=col>taxon_id</th><th scope=col>NutrientsNH4SD</th></tr>\n",
       "\t<tr><th></th><th scope=col>&lt;chr&gt;</th><th scope=col>&lt;dbl&gt;</th></tr>\n",
       "</thead>\n",
       "<tbody>\n",
       "\t<tr><th scope=row>1</th><td>a14b7162edeb7a30ddb2a46656539857</td><td>0.3380177</td></tr>\n",
       "\t<tr><th scope=row>2</th><td>ce80d12fb367ffe011c2fb15bf9659bc</td><td>0.0000000</td></tr>\n",
       "\t<tr><th scope=row>3</th><td>28fe0a00a6f5e062fba134618cc458e1</td><td>0.0000000</td></tr>\n",
       "\t<tr><th scope=row>4</th><td>e23bbf8f65f14f451c2071e477ed2b58</td><td>0.0000000</td></tr>\n",
       "\t<tr><th scope=row>5</th><td>58a75ecc587c36de8b4bbbac0c6efff2</td><td>0.0000000</td></tr>\n",
       "\t<tr><th scope=row>6</th><td>8c4250b2fdfdd56db618eac4b7569d2d</td><td>0.0000000</td></tr>\n",
       "</tbody>\n",
       "</table>\n"
      ],
      "text/latex": [
       "A data.frame: 6 × 2\n",
       "\\begin{tabular}{r|ll}\n",
       "  & taxon\\_id & NutrientsNH4SD\\\\\n",
       "  & <chr> & <dbl>\\\\\n",
       "\\hline\n",
       "\t1 & a14b7162edeb7a30ddb2a46656539857 & 0.3380177\\\\\n",
       "\t2 & ce80d12fb367ffe011c2fb15bf9659bc & 0.0000000\\\\\n",
       "\t3 & 28fe0a00a6f5e062fba134618cc458e1 & 0.0000000\\\\\n",
       "\t4 & e23bbf8f65f14f451c2071e477ed2b58 & 0.0000000\\\\\n",
       "\t5 & 58a75ecc587c36de8b4bbbac0c6efff2 & 0.0000000\\\\\n",
       "\t6 & 8c4250b2fdfdd56db618eac4b7569d2d & 0.0000000\\\\\n",
       "\\end{tabular}\n"
      ],
      "text/markdown": [
       "\n",
       "A data.frame: 6 × 2\n",
       "\n",
       "| <!--/--> | taxon_id &lt;chr&gt; | NutrientsNH4SD &lt;dbl&gt; |\n",
       "|---|---|---|\n",
       "| 1 | a14b7162edeb7a30ddb2a46656539857 | 0.3380177 |\n",
       "| 2 | ce80d12fb367ffe011c2fb15bf9659bc | 0.0000000 |\n",
       "| 3 | 28fe0a00a6f5e062fba134618cc458e1 | 0.0000000 |\n",
       "| 4 | e23bbf8f65f14f451c2071e477ed2b58 | 0.0000000 |\n",
       "| 5 | 58a75ecc587c36de8b4bbbac0c6efff2 | 0.0000000 |\n",
       "| 6 | 8c4250b2fdfdd56db618eac4b7569d2d | 0.0000000 |\n",
       "\n"
      ],
      "text/plain": [
       "  taxon_id                         NutrientsNH4SD\n",
       "1 a14b7162edeb7a30ddb2a46656539857 0.3380177     \n",
       "2 ce80d12fb367ffe011c2fb15bf9659bc 0.0000000     \n",
       "3 28fe0a00a6f5e062fba134618cc458e1 0.0000000     \n",
       "4 e23bbf8f65f14f451c2071e477ed2b58 0.0000000     \n",
       "5 58a75ecc587c36de8b4bbbac0c6efff2 0.0000000     \n",
       "6 8c4250b2fdfdd56db618eac4b7569d2d 0.0000000     "
      ]
     },
     "metadata": {},
     "output_type": "display_data"
    },
    {
     "data": {
      "text/html": [
       "<table class=\"dataframe\">\n",
       "<caption>A data.frame: 6 × 2</caption>\n",
       "<thead>\n",
       "\t<tr><th></th><th scope=col>taxon_id</th><th scope=col>Sig</th></tr>\n",
       "\t<tr><th></th><th scope=col>&lt;chr&gt;</th><th scope=col>&lt;lgl&gt;</th></tr>\n",
       "</thead>\n",
       "<tbody>\n",
       "\t<tr><th scope=row>1</th><td>a14b7162edeb7a30ddb2a46656539857</td><td>TRUE</td></tr>\n",
       "\t<tr><th scope=row>2</th><td>43ae3cd56d175cf10a2d8a8dcadd5e7b</td><td>TRUE</td></tr>\n",
       "\t<tr><th scope=row>3</th><td>75988391e4aca54b88d7669fabb11b96</td><td>TRUE</td></tr>\n",
       "\t<tr><th scope=row>4</th><td>9d03eaed9d8a8b8d762b5af8640d1b32</td><td>TRUE</td></tr>\n",
       "\t<tr><th scope=row>5</th><td>09f2b55ea4f56193699d46368ecbff40</td><td>TRUE</td></tr>\n",
       "\t<tr><th scope=row>6</th><td>380e94062cd8f44ea50814193ad56225</td><td>TRUE</td></tr>\n",
       "</tbody>\n",
       "</table>\n"
      ],
      "text/latex": [
       "A data.frame: 6 × 2\n",
       "\\begin{tabular}{r|ll}\n",
       "  & taxon\\_id & Sig\\\\\n",
       "  & <chr> & <lgl>\\\\\n",
       "\\hline\n",
       "\t1 & a14b7162edeb7a30ddb2a46656539857 & TRUE\\\\\n",
       "\t2 & 43ae3cd56d175cf10a2d8a8dcadd5e7b & TRUE\\\\\n",
       "\t3 & 75988391e4aca54b88d7669fabb11b96 & TRUE\\\\\n",
       "\t4 & 9d03eaed9d8a8b8d762b5af8640d1b32 & TRUE\\\\\n",
       "\t5 & 09f2b55ea4f56193699d46368ecbff40 & TRUE\\\\\n",
       "\t6 & 380e94062cd8f44ea50814193ad56225 & TRUE\\\\\n",
       "\\end{tabular}\n"
      ],
      "text/markdown": [
       "\n",
       "A data.frame: 6 × 2\n",
       "\n",
       "| <!--/--> | taxon_id &lt;chr&gt; | Sig &lt;lgl&gt; |\n",
       "|---|---|---|\n",
       "| 1 | a14b7162edeb7a30ddb2a46656539857 | TRUE |\n",
       "| 2 | 43ae3cd56d175cf10a2d8a8dcadd5e7b | TRUE |\n",
       "| 3 | 75988391e4aca54b88d7669fabb11b96 | TRUE |\n",
       "| 4 | 9d03eaed9d8a8b8d762b5af8640d1b32 | TRUE |\n",
       "| 5 | 09f2b55ea4f56193699d46368ecbff40 | TRUE |\n",
       "| 6 | 380e94062cd8f44ea50814193ad56225 | TRUE |\n",
       "\n"
      ],
      "text/plain": [
       "  taxon_id                         Sig \n",
       "1 a14b7162edeb7a30ddb2a46656539857 TRUE\n",
       "2 43ae3cd56d175cf10a2d8a8dcadd5e7b TRUE\n",
       "3 75988391e4aca54b88d7669fabb11b96 TRUE\n",
       "4 9d03eaed9d8a8b8d762b5af8640d1b32 TRUE\n",
       "5 09f2b55ea4f56193699d46368ecbff40 TRUE\n",
       "6 380e94062cd8f44ea50814193ad56225 TRUE"
      ]
     },
     "metadata": {},
     "output_type": "display_data"
    },
    {
     "name": "stderr",
     "output_type": "stream",
     "text": [
      "\u001b[1m\u001b[22mJoining, by = \"taxon_id\"\n"
     ]
    },
    {
     "data": {
      "text/html": [
       "<style>\n",
       ".list-inline {list-style: none; margin:0; padding: 0}\n",
       ".list-inline>li {display: inline-block}\n",
       ".list-inline>li:not(:last-child)::after {content: \"\\00b7\"; padding: 0 .5ex}\n",
       "</style>\n",
       "<ol class=list-inline><li>20</li><li>5</li></ol>\n"
      ],
      "text/latex": [
       "\\begin{enumerate*}\n",
       "\\item 20\n",
       "\\item 5\n",
       "\\end{enumerate*}\n"
      ],
      "text/markdown": [
       "1. 20\n",
       "2. 5\n",
       "\n",
       "\n"
      ],
      "text/plain": [
       "[1] 20  5"
      ]
     },
     "metadata": {},
     "output_type": "display_data"
    },
    {
     "data": {
      "text/plain": [
       "phyloseq-class experiment-level object\n",
       "otu_table()   OTU Table:         [ 20 taxa and 257 samples ]\n",
       "sample_data() Sample Data:       [ 257 samples by 44 sample variables ]\n",
       "tax_table()   Taxonomy Table:    [ 20 taxa by 7 taxonomic ranks ]"
      ]
     },
     "metadata": {},
     "output_type": "display_data"
    },
    {
     "data": {
      "text/plain": [
       "phyloseq-class experiment-level object\n",
       "otu_table()   OTU Table:         [ 20 taxa and 77 samples ]\n",
       "sample_data() Sample Data:       [ 77 samples by 44 sample variables ]\n",
       "tax_table()   Taxonomy Table:    [ 20 taxa by 7 taxonomic ranks ]"
      ]
     },
     "metadata": {},
     "output_type": "display_data"
    }
   ],
   "source": [
    "out = ancombc(phyloseq = ps_placebo_fill , formula = \"Nutrients\", \n",
    "              p_adj_method = \"fdr\", zero_cut = 0.90, lib_cut = 1000, \n",
    "              group = \"Nutrients\", struc_zero = TRUE, neg_lb = TRUE, tol = 1e-5, \n",
    "              max_iter = 100, conserve = TRUE, alpha = 0.01, global = FALSE)\n",
    "\n",
    "res = out$res\n",
    "res_global = out$res_global\n",
    "\n",
    "\n",
    "\n",
    "df_fig1 = data.frame(res$beta * res$diff_abn, check.names = FALSE) %>% \n",
    "  rownames_to_column(\"taxon_id\")\n",
    "\n",
    "head(df_fig1)\n",
    "\n",
    "dim(df_fig1)\n",
    "\n",
    "df_fig2 = data.frame(res$se * res$diff_abn, check.names = FALSE) %>% \n",
    "  rownames_to_column(\"taxon_id\")\n",
    "colnames(df_fig2)[-1] = paste0(colnames(df_fig2)[-1], \"SD\")\n",
    "head(df_fig2)\n",
    "\n",
    "\n",
    "df_fig = df_fig1 %>% left_join(df_fig2, by = \"taxon_id\") %>%\n",
    "  transmute(taxon_id, NutrientsNH4, NutrientsNH4SD)%>%\n",
    "  mutate(group = ifelse(NutrientsNH4 > 0, \"Ambient\", \"NH4\"))\n",
    "df_fig$taxon_id = factor(df_fig$taxon_id, levels = df_fig$taxon_id)\n",
    "\n",
    "\n",
    "sigs=res$diff_abn %>% as.data.frame() %>%\n",
    "select(NutrientsNH4)  %>%\n",
    "filter(NutrientsNH4==\"TRUE\") %>%\n",
    "rownames_to_column(\"taxon_id\") %>%\n",
    "rename(Sig=NutrientsNH4)\n",
    "head(sigs)\n",
    "\n",
    "\n",
    "df_fig =df_fig %>% inner_join(sigs)\n",
    "\n",
    "dim(df_fig)\n",
    "\n",
    "res_ancom= df_fig %>%\n",
    "mutate(Feature.ID = taxon_id) %>%\n",
    "#rownames_to_column(\"taxon\")\n",
    "left_join(as.data.frame(taxa_16S), \"Feature.ID\") %>%\n",
    "select(taxon_id, Kingdom, Phylum, Class, Order, Family, Genus, Species) %>%\n",
    "column_to_rownames(\"taxon_id\")%>%\n",
    "as.matrix\n",
    "\n",
    "ps_DLPL=phyloseq(otu_table(ASVs, taxa_are_rows=TRUE), \n",
    "               sample_data(meta),\n",
    "              tax_table(res_ancom))\n",
    "ps_DLPL=subset_samples(ps_DLPL, !ID %in% dups & Genotype!=\"U41\")\n",
    "ps_DLPL\n",
    "\n",
    "\n",
    "\n",
    "ps_ancom_APa = subset_samples(ps_DLPL,\n",
    "                      Type==\"Clipped\")\n",
    "ps_ancom_APa = subset_samples(ps_ancom_APa, Pairs==\"paired\" & Diseased==\"Placebo\")\n",
    "ps_ancom_APa\n",
    "\n",
    "psr_fill_melt = ps_ancom_APa  %>%  \n",
    "  #tax_glom(\"Genus\") %>% \n",
    "  transform_sample_counts(function(x) {x/sum(x)} ) %>% # Transform to rel. abundance\n",
    "  psmelt()    \n"
   ]
  },
  {
   "cell_type": "code",
   "execution_count": 118,
   "id": "ffa44696",
   "metadata": {},
   "outputs": [
    {
     "name": "stderr",
     "output_type": "stream",
     "text": [
      "\u001b[1m\u001b[22m`summarise()` has grouped output by 'Genotype'. You can override using the `.groups` argument.\n"
     ]
    },
    {
     "data": {
      "text/html": [
       "<table class=\"dataframe\">\n",
       "<caption>A grouped_df: 6 × 3</caption>\n",
       "<thead>\n",
       "\t<tr><th scope=col>Genotype</th><th scope=col>Nutrients</th><th scope=col>Paired</th></tr>\n",
       "\t<tr><th scope=col>&lt;chr&gt;</th><th scope=col>&lt;chr&gt;</th><th scope=col>&lt;int&gt;</th></tr>\n",
       "</thead>\n",
       "<tbody>\n",
       "\t<tr><td>Acerv2  </td><td>Ambient</td><td>120</td></tr>\n",
       "\t<tr><td>Acerv2  </td><td>NH4    </td><td>120</td></tr>\n",
       "\t<tr><td>Cooper-9</td><td>Ambient</td><td> 80</td></tr>\n",
       "\t<tr><td>Cooper-9</td><td>NH4    </td><td> 20</td></tr>\n",
       "\t<tr><td>Elkhorn </td><td>Ambient</td><td> 60</td></tr>\n",
       "\t<tr><td>Elkhorn </td><td>NH4    </td><td> 80</td></tr>\n",
       "</tbody>\n",
       "</table>\n"
      ],
      "text/latex": [
       "A grouped\\_df: 6 × 3\n",
       "\\begin{tabular}{lll}\n",
       " Genotype & Nutrients & Paired\\\\\n",
       " <chr> & <chr> & <int>\\\\\n",
       "\\hline\n",
       "\t Acerv2   & Ambient & 120\\\\\n",
       "\t Acerv2   & NH4     & 120\\\\\n",
       "\t Cooper-9 & Ambient &  80\\\\\n",
       "\t Cooper-9 & NH4     &  20\\\\\n",
       "\t Elkhorn  & Ambient &  60\\\\\n",
       "\t Elkhorn  & NH4     &  80\\\\\n",
       "\\end{tabular}\n"
      ],
      "text/markdown": [
       "\n",
       "A grouped_df: 6 × 3\n",
       "\n",
       "| Genotype &lt;chr&gt; | Nutrients &lt;chr&gt; | Paired &lt;int&gt; |\n",
       "|---|---|---|\n",
       "| Acerv2   | Ambient | 120 |\n",
       "| Acerv2   | NH4     | 120 |\n",
       "| Cooper-9 | Ambient |  80 |\n",
       "| Cooper-9 | NH4     |  20 |\n",
       "| Elkhorn  | Ambient |  60 |\n",
       "| Elkhorn  | NH4     |  80 |\n",
       "\n"
      ],
      "text/plain": [
       "  Genotype Nutrients Paired\n",
       "1 Acerv2   Ambient   120   \n",
       "2 Acerv2   NH4       120   \n",
       "3 Cooper-9 Ambient    80   \n",
       "4 Cooper-9 NH4        20   \n",
       "5 Elkhorn  Ambient    60   \n",
       "6 Elkhorn  NH4        80   "
      ]
     },
     "metadata": {},
     "output_type": "display_data"
    }
   ],
   "source": [
    "psr_fill_melt %>%\n",
    "  group_by(Genotype, Nutrients) %>%\n",
    "  summarize(Paired = n()) %>%\n",
    "head()"
   ]
  },
  {
   "cell_type": "code",
   "execution_count": 119,
   "id": "a9fdf9ff",
   "metadata": {},
   "outputs": [
    {
     "data": {
      "image/png": "[encoded data removed]",
      "text/plain": [
       "plot without title"
      ]
     },
     "metadata": {
      "image/png": {
       "height": 420,
       "width": 420
      }
     },
     "output_type": "display_data"
    }
   ],
   "source": [
    "psr_fill_melt %>%\n",
    "#filter(Genus!=\" g__MD3-55\") %>%\n",
    "filter(Abundance >= 0.0) %>%\n",
    "filter(NH4_Susceptibility==c(\"Resistant\", \"Susceptible\")) %>%\n",
    "#filter(Phylum!=c(\" p__Proteobacteria\", \" p__Actinobacteriota\", \" p__Spirochaetota\", \n",
    " #               \" p__Campilobacterota\")) %>%\n",
    "as.data.frame %>%\n",
    "mutate_all(type.convert) %>%\n",
    "mutate_if(is.factor, as.character) %>%\n",
    "#arrange(HealthDL) %>%\n",
    "#filter(HealthDL > 1 | HealthDL <= -1)  %>%\n",
    "ggplot(\n",
    "       aes(x=Nutrients, y= Abundance, fill=Order)) + \n",
    "theme_bw() +\n",
    "geom_bar(stat = \"identity\",position=\"fill\") +\n",
    "facet_grid(.~NH4_Susceptibility,  scale=\"free_x\") +\n",
    "scale_fill_manual(values=c(\"#3CB371\",\"tan\",\"#5F7FC7\", \"orange\",\"#ADFF2F\", \n",
    "                           \"#CD9BCD\", \"gray80\", \"darkolivegreen4\", \"#673770\",\"#D14285\", \n",
    "                           \"#8569D5\", \"#5E738F\",\"#AD6F3B\",\n",
    "                          \"lightblue\", \"salmon\",\"Navy\", \"#CBD588\",\n",
    "                           \"lightblue4\", \"ivory4\", \"darkorchid\", \"palevioletred1\",\n",
    "                           \"#DA5724\",\"#CD9BCD\",\"#8fa746\",\"#404b1f\",\"#8FBC8F\", \n",
    "                            \"khaki1\",\"#41636f\",\"#00AEEF\",\"#8bbfd2\",\"brown\",\"#AD6F3B\",\"tan\",\n",
    "                           \"#90EE90\",\"#8fa746\",\"lightblue4\", \"ivory4\", \"darkorchid\", \"palevioletred1\",\n",
    "                           \"#DA5724\",\"#CD9BCD\",\"#8fa746\",\"#404b1f\",\"#8FBC8F\",\n",
    "                           \"#3CB371\",\"tan\",\"#5F7FC7\", \"orange\",\"#ADFF2F\", \n",
    "                           \"#CD9BCD\", \"gray80\", \"darkolivegreen4\", \"#673770\",\"#D14285\", \n",
    "                           \"#8569D5\", \"#5E738F\",\"#AD6F3B\",\n",
    "                          \"lightblue\", \"salmon\",\"Navy\", \"#CBD588\",\n",
    "                           \"lightblue4\", \"ivory4\", \"darkorchid\", \"palevioletred1\",\n",
    "                           \"#DA5724\",\"#CD9BCD\",\"#8fa746\",\"#404b1f\",\"#8FBC8F\", \n",
    "                            \"khaki1\",\"#41636f\",\"#00AEEF\",\"#8bbfd2\",\"brown\",\"#AD6F3B\",\"tan\",\n",
    "                           \"#90EE90\",\"#8fa746\",\"lightblue4\", \"ivory4\", \"darkorchid\", \"palevioletred1\",\n",
    "                           \"#DA5724\",\"#CD9BCD\",\"#8fa746\",\"#404b1f\",\"#8FBC8F\"\n",
    "                          )) +\n",
    "#geom_point(aes(size= Abundance), alpha=0.4) +\n",
    "theme_bw() +\n",
    "theme(legend.title = element_text(size=5)) +\n",
    "#labs(fill='Taxon')  +\n",
    "ylab(\"Relative Abundance\") +\n",
    "xlab(\"Genotype\") +\n",
    "theme(axis.text.x = element_text(angle = 90, hjust = 1, size=10)) \n"
   ]
  },
  {
   "cell_type": "code",
   "execution_count": 120,
   "id": "11ac8afb",
   "metadata": {},
   "outputs": [
    {
     "data": {
      "text/plain": [
       "               _                           \n",
       "platform       x86_64-apple-darwin17.0     \n",
       "arch           x86_64                      \n",
       "os             darwin17.0                  \n",
       "system         x86_64, darwin17.0          \n",
       "status                                     \n",
       "major          4                           \n",
       "minor          0.5                         \n",
       "year           2021                        \n",
       "month          03                          \n",
       "day            31                          \n",
       "svn rev        80133                       \n",
       "language       R                           \n",
       "version.string R version 4.0.5 (2021-03-31)\n",
       "nickname       Shake and Throw             "
      ]
     },
     "metadata": {},
     "output_type": "display_data"
    }
   ],
   "source": [
    "R.version"
   ]
  }
 ],
 "metadata": {
  "kernelspec": {
   "display_name": "R",
   "language": "R",
   "name": "ir"
  },
  "language_info": {
   "codemirror_mode": "r",
   "file_extension": ".r",
   "mimetype": "text/x-r-source",
   "name": "R",
   "pygments_lexer": "r",
   "version": "4.0.5"
  }
 },
 "nbformat": 4,
 "nbformat_minor": 5
}
