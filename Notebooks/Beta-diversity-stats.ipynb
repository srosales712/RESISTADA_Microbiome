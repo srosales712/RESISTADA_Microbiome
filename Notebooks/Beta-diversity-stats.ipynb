{
 "cells": [
  {
   "cell_type": "code",
   "execution_count": 13,
   "id": "7f859153",
   "metadata": {
    "button": false,
    "new_sheet": false,
    "run_control": {
     "read_only": false
    }
   },
   "outputs": [
    {
     "data": {
      "text/plain": [
       "[1] ‘0.4.1’"
      ]
     },
     "metadata": {},
     "output_type": "display_data"
    }
   ],
   "source": [
    "library(qiime2R)\n",
    "library(tidyr)\n",
    "library(tibble)\n",
    "library(ggplot2)\n",
    "library(vegan)\n",
    "library(microbiome)\n",
    "library(phyloseq)\n",
    "library(\"tidyverse\")\n",
    "library(\"dplyr\")\n",
    "library(\"pairwiseAdonis\"); packageVersion(\"pairwiseAdonis\")\n"
   ]
  },
  {
   "cell_type": "code",
   "execution_count": 2,
   "id": "53620295",
   "metadata": {
    "button": false,
    "new_sheet": false,
    "run_control": {
     "read_only": false
    }
   },
   "outputs": [
    {
     "name": "stderr",
     "output_type": "stream",
     "text": [
      "Warning message:\n",
      "“\u001b[1m\u001b[22mExpected 7 pieces. Missing pieces filled with `NA` in 5374 rows [3, 6, 9, 11,\n",
      "12, 14, 15, 16, 17, 18, 22, 23, 27, 31, 36, 38, 42, 45, 49, 51, ...].”\n"
     ]
    }
   ],
   "source": [
    "# Read in the 16S qza files and clean them up for phyloseq\n",
    "ASVs <- read_qza(\"/Users/stephanie.rosales/Documents/omics_projects/Resitada/qiime_output/table-BacArc_resistada.qza\")\n",
    "ASVs <- ASVs$data # Extract the count data from list\n",
    "\n",
    "tree_file <-read_qza(\"/Users/stephanie.rosales/Documents/omics_projects/Resitada/qiime_output/rooted-BacArc_resistada.qza\")$data\n",
    "\n",
    "\n",
    "# Convert taxonomy info to data frame with correct taxonomy labels\n",
    "taxa_16S <- read_qza(\"/Users/stephanie.rosales/Documents/omics_projects/Resitada/qiime_output/taxonomy_resistada.qza\")\n",
    "taxa_16S <- taxa_16S$data %>% as_tibble() %>% separate(Taxon, sep=\";\",\n",
    "c(\"Kingdom\", \"Phylum\", \"Class\", \"Order\", \"Family\", \"Genus\", \"Species\")) %>% \n",
    "\n",
    "select(-Confidence) %>% arrange(Feature.ID) %>% mutate(ASV = 1:n()) %>% \n",
    "mutate(newcol = \"ASV\") %>%\n",
    "unite(\"ASVs\", newcol:ASV) %>%\n",
    "filter(Phylum !=\" p__Chlorophyta\") %>%\n",
    "filter(Phylum !=\"NA\")"
   ]
  },
  {
   "cell_type": "code",
   "execution_count": 3,
   "id": "7cef22d2",
   "metadata": {
    "button": false,
    "new_sheet": false,
    "run_control": {
     "read_only": false
    }
   },
   "outputs": [],
   "source": [
    "#read metadata\n",
    "meta = read.csv(\"/Users/stephanie.rosales/Documents/omics_projects/Resitada/metadata_RESISTADA.csv\", \n",
    "                header = T, row.names = 1,\n",
    "na.strings = c(\"\", \"NA\"))"
   ]
  },
  {
   "cell_type": "code",
   "execution_count": 4,
   "id": "3489e973",
   "metadata": {
    "button": false,
    "new_sheet": false,
    "run_control": {
     "read_only": false
    }
   },
   "outputs": [
    {
     "data": {
      "text/plain": [
       "phyloseq-class experiment-level object\n",
       "otu_table()   OTU Table:         [ 9492 taxa and 280 samples ]\n",
       "sample_data() Sample Data:       [ 280 samples by 62 sample variables ]\n",
       "tax_table()   Taxonomy Table:    [ 9492 taxa by 8 taxonomic ranks ]\n",
       "phy_tree()    Phylogenetic Tree: [ 9492 tips and 8365 internal nodes ]"
      ]
     },
     "metadata": {},
     "output_type": "display_data"
    }
   ],
   "source": [
    "#create phyloseq objects\n",
    "ps_pre= phyloseq(otu_table(ASVs, taxa_are_rows= T),\n",
    "tax_table(as.data.frame(taxa_16S) %>% column_to_rownames(\"Feature.ID\") %>%\n",
    "as.matrix()), sample_data(meta), tree_file)\n",
    "ps_pre"
   ]
  },
  {
   "cell_type": "code",
   "execution_count": 5,
   "id": "1769b69b",
   "metadata": {},
   "outputs": [
    {
     "data": {
      "text/plain": [
       "phyloseq-class experiment-level object\n",
       "otu_table()   OTU Table:         [ 9492 taxa and 257 samples ]\n",
       "sample_data() Sample Data:       [ 257 samples by 62 sample variables ]\n",
       "tax_table()   Taxonomy Table:    [ 9492 taxa by 8 taxonomic ranks ]\n",
       "phy_tree()    Phylogenetic Tree: [ 9492 tips and 8365 internal nodes ]"
      ]
     },
     "metadata": {},
     "output_type": "display_data"
    }
   ],
   "source": [
    "#remove samples sequenced twice\n",
    "dups = c(\"N169_256_R2\", \"N157_265_R2\", \"N165_296_R2\", \"N161_A067_R2\", \"N185_A088_R2\",\n",
    "                                 \"N164_A089_R2\",\"N119_A107\",\"N267_A110\",\"N7_A114\", \"N156_A115\",\"N158_A116\",\n",
    "                                 \"N101_A118\",\"N160_A119\",\"N277_A125\")\n",
    "\n",
    "ps = subset_samples(ps_pre, !ID %in% dups & Genotype!=c(\"U41\"))\n",
    "                                                    #,\"U44\")) \n",
    "ps\n"
   ]
  },
  {
   "cell_type": "code",
   "execution_count": 6,
   "id": "0fa0789f",
   "metadata": {
    "button": false,
    "new_sheet": false,
    "run_control": {
     "read_only": false
    }
   },
   "outputs": [
    {
     "data": {
      "text/plain": [
       "phyloseq-class experiment-level object\n",
       "otu_table()   OTU Table:         [ 9492 taxa and 192 samples ]\n",
       "sample_data() Sample Data:       [ 192 samples by 62 sample variables ]\n",
       "tax_table()   Taxonomy Table:    [ 9492 taxa by 8 taxonomic ranks ]\n",
       "phy_tree()    Phylogenetic Tree: [ 9492 tips and 8365 internal nodes ]"
      ]
     },
     "metadata": {},
     "output_type": "display_data"
    },
    {
     "data": {
      "text/plain": [
       "phyloseq-class experiment-level object\n",
       "otu_table()   OTU Table:         [ 9492 taxa and 174 samples ]\n",
       "sample_data() Sample Data:       [ 174 samples by 62 sample variables ]\n",
       "tax_table()   Taxonomy Table:    [ 9492 taxa by 8 taxonomic ranks ]\n",
       "phy_tree()    Phylogenetic Tree: [ 9492 tips and 8365 internal nodes ]"
      ]
     },
     "metadata": {},
     "output_type": "display_data"
    },
    {
     "data": {
      "text/plain": [
       "phyloseq-class experiment-level object\n",
       "otu_table()   OTU Table:         [ 9492 taxa and 151 samples ]\n",
       "sample_data() Sample Data:       [ 151 samples by 62 sample variables ]\n",
       "tax_table()   Taxonomy Table:    [ 9492 taxa by 8 taxonomic ranks ]\n",
       "phy_tree()    Phylogenetic Tree: [ 9492 tips and 8365 internal nodes ]"
      ]
     },
     "metadata": {},
     "output_type": "display_data"
    },
    {
     "data": {
      "text/plain": [
       "phyloseq-class experiment-level object\n",
       "otu_table()   OTU Table:         [ 9492 taxa and 31 samples ]\n",
       "sample_data() Sample Data:       [ 31 samples by 62 sample variables ]\n",
       "tax_table()   Taxonomy Table:    [ 9492 taxa by 8 taxonomic ranks ]\n",
       "phy_tree()    Phylogenetic Tree: [ 9492 tips and 8365 internal nodes ]"
      ]
     },
     "metadata": {},
     "output_type": "display_data"
    }
   ],
   "source": [
    "#subset data\n",
    "ps_Clipped =subset_samples(ps, Type==\"Clipped\")\n",
    "ps_Clipped\n",
    "\n",
    "ps_Clipped= subset_samples(ps_Clipped, filter_unpair==\"no\")\n",
    "ps_Clipped\n",
    "\n",
    "\n",
    "ps_paired = subset_samples(ps_Clipped, Pairs==\"paired\")\n",
    "ps_paired\n",
    "\n",
    "ps_Am_Pl =subset_samples(ps_Clipped, Combo==\"Ambient_Placebo\")\n",
    "ps_Am_Pl\n"
   ]
  },
  {
   "cell_type": "code",
   "execution_count": 7,
   "id": "083b883e-db45-46b3-8b5c-53bd9a456e5a",
   "metadata": {},
   "outputs": [
    {
     "data": {
      "text/plain": [
       "phyloseq-class experiment-level object\n",
       "otu_table()   OTU Table:         [ 9492 taxa and 75 samples ]\n",
       "sample_data() Sample Data:       [ 75 samples by 62 sample variables ]\n",
       "tax_table()   Taxonomy Table:    [ 9492 taxa by 8 taxonomic ranks ]\n",
       "phy_tree()    Phylogenetic Tree: [ 9492 tips and 8365 internal nodes ]"
      ]
     },
     "metadata": {},
     "output_type": "display_data"
    }
   ],
   "source": [
    "select =c( \"Ambient_Pathogen\", \"NH4_Pathogen\"\n",
    "     \n",
    "         )\n",
    "#only disease\n",
    "ps_disease =subset_samples(ps_paired , Combo %in% select)\n",
    "ps_disease\n"
   ]
  },
  {
   "cell_type": "code",
   "execution_count": 8,
   "id": "aa7db893",
   "metadata": {
    "button": false,
    "new_sheet": false,
    "run_control": {
     "read_only": false
    }
   },
   "outputs": [
    {
     "data": {
      "text/plain": [
       "phyloseq-class experiment-level object\n",
       "otu_table()   OTU Table:         [ 1565 taxa and 174 samples ]\n",
       "sample_data() Sample Data:       [ 174 samples by 62 sample variables ]\n",
       "tax_table()   Taxonomy Table:    [ 1565 taxa by 8 taxonomic ranks ]\n",
       "phy_tree()    Phylogenetic Tree: [ 1565 tips and 1323 internal nodes ]"
      ]
     },
     "metadata": {},
     "output_type": "display_data"
    },
    {
     "data": {
      "text/plain": [
       "phyloseq-class experiment-level object\n",
       "otu_table()   OTU Table:         [ 1437 taxa and 151 samples ]\n",
       "sample_data() Sample Data:       [ 151 samples by 62 sample variables ]\n",
       "tax_table()   Taxonomy Table:    [ 1437 taxa by 8 taxonomic ranks ]\n",
       "phy_tree()    Phylogenetic Tree: [ 1437 tips and 1219 internal nodes ]"
      ]
     },
     "metadata": {},
     "output_type": "display_data"
    },
    {
     "data": {
      "text/plain": [
       "phyloseq-class experiment-level object\n",
       "otu_table()   OTU Table:         [ 1174 taxa and 31 samples ]\n",
       "sample_data() Sample Data:       [ 31 samples by 62 sample variables ]\n",
       "tax_table()   Taxonomy Table:    [ 1174 taxa by 8 taxonomic ranks ]\n",
       "phy_tree()    Phylogenetic Tree: [ 1174 tips and 1131 internal nodes ]"
      ]
     },
     "metadata": {},
     "output_type": "display_data"
    },
    {
     "data": {
      "text/plain": [
       "phyloseq-class experiment-level object\n",
       "otu_table()   OTU Table:         [ 3769 taxa and 75 samples ]\n",
       "sample_data() Sample Data:       [ 75 samples by 62 sample variables ]\n",
       "tax_table()   Taxonomy Table:    [ 3769 taxa by 8 taxonomic ranks ]\n",
       "phy_tree()    Phylogenetic Tree: [ 3769 tips and 3327 internal nodes ]"
      ]
     },
     "metadata": {},
     "output_type": "display_data"
    }
   ],
   "source": [
    "#remove low abundant ASVs\n",
    "ps_fill_clip = filter_taxa(ps_Clipped, function(x) sum(x > 5) > (0.01*length(x)), TRUE)\n",
    "ps_fill_clip\n",
    "                           \n",
    "ps_paired_fill = filter_taxa(ps_paired, function(x) sum(x > 5) > (0.01*length(x)), TRUE)\n",
    "ps_paired_fill                          \n",
    "                                                       \n",
    "                            \n",
    "ps_Am_Pl_fill =filter_taxa(ps_Am_Pl, function(x) sum(x > 5) > (0.01*length(x)), TRUE)\n",
    "ps_Am_Pl_fill       \n",
    "\n",
    "\n",
    "ps_disease_fill =filter_taxa(ps_disease, function(x) sum(x > 5) > (0.01*length(x)), TRUE)\n",
    "ps_disease_fill    "
   ]
  },
  {
   "cell_type": "code",
   "execution_count": 9,
   "id": "58378fcf",
   "metadata": {
    "button": false,
    "new_sheet": false,
    "run_control": {
     "read_only": false
    }
   },
   "outputs": [],
   "source": [
    "#transform data using center log ratio\n",
    "ps_clr_clip <- microbiome::transform(ps_fill_clip, 'clr')\n",
    "psr_clr.ord_clip <- ordinate(ps_clr_clip, \"RDA\", \"euclidean\")\n",
    "\n",
    "ps_paired_fill_clr <- microbiome::transform(ps_paired_fill, 'clr')\n",
    "ps_paired_fill_ord <- ordinate(ps_paired_fill_clr, \"RDA\", \"euclidean\")\n",
    "\n",
    "                           \n",
    "ps_Am_Pl_fill_clr <- microbiome::transform(ps_Am_Pl_fill, 'clr')\n",
    "ps_Am_Pl_fill_ord <- ordinate(ps_Am_Pl_fill_clr, \"RDA\", \"euclidean\")\n",
    "\n",
    "\n",
    "ps_disease_fill_clr <- microbiome::transform(ps_disease_fill, 'clr')\n",
    "ps_disease_fill_ord <- ordinate(ps_disease_fill_clr , \"RDA\", \"euclidean\")"
   ]
  },
  {
   "cell_type": "markdown",
   "id": "2232f63d-3c1b-4467-9ff4-25beac99dce2",
   "metadata": {},
   "source": [
    "## Treatment"
   ]
  },
  {
   "cell_type": "code",
   "execution_count": 10,
   "id": "88f16ea4",
   "metadata": {},
   "outputs": [
    {
     "data": {
      "text/plain": [
       "  Tukey multiple comparisons of means\n",
       "    95% family-wise confidence level\n",
       "\n",
       "Fit: aov(formula = distances ~ group, data = df)\n",
       "\n",
       "$group\n",
       "                                        diff        lwr       upr     p adj\n",
       "Ambient_Placebo-Ambient_Pathogen -14.7750338 -24.725082 -4.824986 0.0009429\n",
       "NH4_Pathogen-Ambient_Pathogen     -2.6685444 -11.675056  6.337967 0.8684298\n",
       "NH4_Placebo-Ambient_Pathogen     -13.9165941 -22.512963 -5.320225 0.0002492\n",
       "NH4_Pathogen-Ambient_Placebo      12.1064894   3.190535 21.022444 0.0030509\n",
       "NH4_Placebo-Ambient_Placebo        0.8584397  -7.643004  9.359884 0.9936796\n",
       "NH4_Placebo-NH4_Pathogen         -11.2480497 -18.622895 -3.873204 0.0006383\n"
      ]
     },
     "metadata": {},
     "output_type": "display_data"
    },
    {
     "data": {
      "text/plain": [
       "\n",
       "Permutation test for homogeneity of multivariate dispersions\n",
       "Permutation: free\n",
       "Number of permutations: 999\n",
       "\n",
       "Response: Distances\n",
       "           Df Sum Sq Mean Sq      F N.Perm Pr(>F)    \n",
       "Groups      3   6932 2310.72 10.306    999  0.001 ***\n",
       "Residuals 170  38116  224.21                         \n",
       "---\n",
       "Signif. codes:  0 ‘***’ 0.001 ‘**’ 0.01 ‘*’ 0.05 ‘.’ 0.1 ‘ ’ 1\n",
       "\n",
       "Pairwise comparisons:\n",
       "(Observed p-value below diagonal, permuted p-value above diagonal)\n",
       "                 Ambient_Pathogen Ambient_Placebo NH4_Pathogen NH4_Placebo\n",
       "Ambient_Pathogen                       1.0000e-03   5.0600e-01       0.001\n",
       "Ambient_Placebo        3.4423e-05                   6.0000e-03       0.754\n",
       "NH4_Pathogen           4.8833e-01      2.1523e-03                    0.002\n",
       "NH4_Placebo            9.5835e-06      7.7281e-01   3.2789e-04            "
      ]
     },
     "metadata": {},
     "output_type": "display_data"
    },
    {
     "data": {
      "text/html": [
       "<table class=\"dataframe\">\n",
       "<caption>A pwadonis: 6 × 8</caption>\n",
       "<thead>\n",
       "\t<tr><th scope=col>pairs</th><th scope=col>Df</th><th scope=col>SumsOfSqs</th><th scope=col>F.Model</th><th scope=col>R2</th><th scope=col>p.value</th><th scope=col>p.adjusted</th><th scope=col>sig</th></tr>\n",
       "\t<tr><th scope=col>&lt;chr&gt;</th><th scope=col>&lt;dbl&gt;</th><th scope=col>&lt;dbl&gt;</th><th scope=col>&lt;dbl&gt;</th><th scope=col>&lt;dbl&gt;</th><th scope=col>&lt;dbl&gt;</th><th scope=col>&lt;dbl&gt;</th><th scope=col>&lt;chr&gt;</th></tr>\n",
       "</thead>\n",
       "<tbody>\n",
       "\t<tr><td>NH4_Placebo vs NH4_Pathogen        </td><td>1</td><td>3936.140</td><td>3.848338</td><td>0.03350800</td><td>0.001</td><td>0.006</td><td>*</td></tr>\n",
       "\t<tr><td>NH4_Placebo vs Ambient_Placebo     </td><td>1</td><td>1073.961</td><td>1.579417</td><td>0.01669938</td><td>0.041</td><td>0.246</td><td> </td></tr>\n",
       "\t<tr><td>NH4_Placebo vs Ambient_Pathogen    </td><td>1</td><td>5014.455</td><td>5.249444</td><td>0.05397917</td><td>0.001</td><td>0.006</td><td>*</td></tr>\n",
       "\t<tr><td>NH4_Pathogen vs Ambient_Placebo    </td><td>1</td><td>3439.546</td><td>3.017208</td><td>0.03724157</td><td>0.001</td><td>0.006</td><td>*</td></tr>\n",
       "\t<tr><td>NH4_Pathogen vs Ambient_Pathogen   </td><td>1</td><td>2175.000</td><td>1.474741</td><td>0.01879256</td><td>0.028</td><td>0.168</td><td> </td></tr>\n",
       "\t<tr><td>Ambient_Placebo vs Ambient_Pathogen</td><td>1</td><td>4102.430</td><td>3.825728</td><td>0.06089428</td><td>0.001</td><td>0.006</td><td>*</td></tr>\n",
       "</tbody>\n",
       "</table>\n"
      ],
      "text/latex": [
       "A pwadonis: 6 × 8\n",
       "\\begin{tabular}{llllllll}\n",
       " pairs & Df & SumsOfSqs & F.Model & R2 & p.value & p.adjusted & sig\\\\\n",
       " <chr> & <dbl> & <dbl> & <dbl> & <dbl> & <dbl> & <dbl> & <chr>\\\\\n",
       "\\hline\n",
       "\t NH4\\_Placebo vs NH4\\_Pathogen         & 1 & 3936.140 & 3.848338 & 0.03350800 & 0.001 & 0.006 & *\\\\\n",
       "\t NH4\\_Placebo vs Ambient\\_Placebo      & 1 & 1073.961 & 1.579417 & 0.01669938 & 0.041 & 0.246 &  \\\\\n",
       "\t NH4\\_Placebo vs Ambient\\_Pathogen     & 1 & 5014.455 & 5.249444 & 0.05397917 & 0.001 & 0.006 & *\\\\\n",
       "\t NH4\\_Pathogen vs Ambient\\_Placebo     & 1 & 3439.546 & 3.017208 & 0.03724157 & 0.001 & 0.006 & *\\\\\n",
       "\t NH4\\_Pathogen vs Ambient\\_Pathogen    & 1 & 2175.000 & 1.474741 & 0.01879256 & 0.028 & 0.168 &  \\\\\n",
       "\t Ambient\\_Placebo vs Ambient\\_Pathogen & 1 & 4102.430 & 3.825728 & 0.06089428 & 0.001 & 0.006 & *\\\\\n",
       "\\end{tabular}\n"
      ],
      "text/markdown": [
       "\n",
       "A pwadonis: 6 × 8\n",
       "\n",
       "| pairs &lt;chr&gt; | Df &lt;dbl&gt; | SumsOfSqs &lt;dbl&gt; | F.Model &lt;dbl&gt; | R2 &lt;dbl&gt; | p.value &lt;dbl&gt; | p.adjusted &lt;dbl&gt; | sig &lt;chr&gt; |\n",
       "|---|---|---|---|---|---|---|---|\n",
       "| NH4_Placebo vs NH4_Pathogen         | 1 | 3936.140 | 3.848338 | 0.03350800 | 0.001 | 0.006 | * |\n",
       "| NH4_Placebo vs Ambient_Placebo      | 1 | 1073.961 | 1.579417 | 0.01669938 | 0.041 | 0.246 | <!----> |\n",
       "| NH4_Placebo vs Ambient_Pathogen     | 1 | 5014.455 | 5.249444 | 0.05397917 | 0.001 | 0.006 | * |\n",
       "| NH4_Pathogen vs Ambient_Placebo     | 1 | 3439.546 | 3.017208 | 0.03724157 | 0.001 | 0.006 | * |\n",
       "| NH4_Pathogen vs Ambient_Pathogen    | 1 | 2175.000 | 1.474741 | 0.01879256 | 0.028 | 0.168 | <!----> |\n",
       "| Ambient_Placebo vs Ambient_Pathogen | 1 | 4102.430 | 3.825728 | 0.06089428 | 0.001 | 0.006 | * |\n",
       "\n"
      ],
      "text/plain": [
       "  pairs                               Df SumsOfSqs F.Model  R2         p.value\n",
       "1 NH4_Placebo vs NH4_Pathogen         1  3936.140  3.848338 0.03350800 0.001  \n",
       "2 NH4_Placebo vs Ambient_Placebo      1  1073.961  1.579417 0.01669938 0.041  \n",
       "3 NH4_Placebo vs Ambient_Pathogen     1  5014.455  5.249444 0.05397917 0.001  \n",
       "4 NH4_Pathogen vs Ambient_Placebo     1  3439.546  3.017208 0.03724157 0.001  \n",
       "5 NH4_Pathogen vs Ambient_Pathogen    1  2175.000  1.474741 0.01879256 0.028  \n",
       "6 Ambient_Placebo vs Ambient_Pathogen 1  4102.430  3.825728 0.06089428 0.001  \n",
       "  p.adjusted sig\n",
       "1 0.006      *  \n",
       "2 0.246         \n",
       "3 0.006      *  \n",
       "4 0.006      *  \n",
       "5 0.168         \n",
       "6 0.006      *  "
      ]
     },
     "metadata": {},
     "output_type": "display_data"
    },
    {
     "data": {
      "image/png": "[encoded data removed]",
      "text/plain": [
       "plot without title"
      ]
     },
     "metadata": {
      "image/png": {
       "height": 420,
       "width": 420
      }
     },
     "output_type": "display_data"
    }
   ],
   "source": [
    "# Calculate distance matrix (Euclidean on CLR-transformed OTU table)\n",
    "ps_clr <- vegdist(otu_table(t(ps_clr_clip)), method = \"euclidean\")\n",
    "\n",
    "# Calculate multivariate dispersions\n",
    "mod_T1 <- betadisper(ps_clr, sample_data(ps_clr_clip)$Combo)\n",
    "\n",
    "# Test the pairwise comparisons for homogeneity of group dispersions (variances)\n",
    "TukeyHSD(mod_T1)\n",
    "permutest(mod_T1, pairwise = TRUE, permutations = 999)\n",
    "\n",
    "# Boxplot of the dispersions\n",
    "boxplot(mod_T1)\n",
    "\n",
    "# Prepare metadata as a data frame (required for pairwise.adonis)\n",
    "ps_clr_clip_df <- data.frame(sample_data(ps_clr_clip))\n",
    "\n",
    "# Pairwise PERMANOVA test with Bonferroni correction\n",
    "pairwise.adonis(ps_clr, factors = ps_clr_clip_df$Combo, \n",
    "                sim.method = \"euclidean\", p.adjust.m = \"bonferroni\")"
   ]
  },
  {
   "cell_type": "markdown",
   "id": "b6fd2c78-9efa-43a2-973b-27500c50e388",
   "metadata": {},
   "source": [
    "# Genotype"
   ]
  },
  {
   "cell_type": "code",
   "execution_count": 11,
   "id": "fc0ef785-36be-44ad-a8e1-10ff4a6b96c3",
   "metadata": {
    "scrolled": true
   },
   "outputs": [
    {
     "data": {
      "text/plain": [
       "  Tukey multiple comparisons of means\n",
       "    95% family-wise confidence level\n",
       "\n",
       "Fit: aov(formula = distances ~ group, data = df)\n",
       "\n",
       "$group\n",
       "                          diff        lwr        upr     p adj\n",
       "Cooper-9-Acerv2    13.26138689  -1.152881 27.6756544 0.1001906\n",
       "Elkhorn-Acerv2     -1.70730993 -15.369692 11.9550718 0.9999954\n",
       "FM14-Acerv2        -5.32091486 -18.598363  7.9565336 0.9556205\n",
       "FM19-Acerv2        -4.00719604 -17.284644  9.2702524 0.9936190\n",
       "FM6-Acerv2         -3.52405625 -16.984651  9.9365381 0.9978185\n",
       "FM9-Acerv2         -6.18720052 -19.647795  7.2733938 0.9003147\n",
       "K2-Acerv2          -3.59335678 -17.728280 10.5415665 0.9982641\n",
       "Kelsey-1-Acerv2    -0.01822778 -13.680610 13.6441539 1.0000000\n",
       "U44-Acerv2         22.75132423   9.290730 36.2119185 0.0000091\n",
       "Elkhorn-Cooper-9  -14.96869682 -29.738299 -0.1990947 0.0441304\n",
       "FM14-Cooper-9     -18.58230175 -32.996569 -4.1680342 0.0022370\n",
       "FM19-Cooper-9     -17.26858292 -31.682850 -2.8543154 0.0065215\n",
       "FM6-Cooper-9      -16.78544313 -31.368586 -2.2022998 0.0109793\n",
       "FM9-Cooper-9      -19.44858741 -34.031731 -4.8654441 0.0012918\n",
       "K2-Cooper-9       -16.85474366 -32.062522 -1.6469652 0.0172884\n",
       "Kelsey-1-Cooper-9 -13.27961466 -28.049217  1.4899874 0.1185332\n",
       "U44-Cooper-9        9.48993734  -5.093206 24.0730807 0.5390021\n",
       "FM14-Elkhorn       -3.61360493 -17.275987 10.0487768 0.9976395\n",
       "FM19-Elkhorn       -2.29988611 -15.962268 11.3624956 0.9999402\n",
       "FM6-Elkhorn        -1.81674632 -15.657181 12.0236885 0.9999929\n",
       "FM9-Elkhorn        -4.47989059 -18.320325  9.3605442 0.9894114\n",
       "K2-Elkhorn         -1.88604685 -16.383153 12.6110595 0.9999934\n",
       "Kelsey-1-Elkhorn    1.68908215 -12.347681 15.7258450 0.9999967\n",
       "U44-Elkhorn        24.45863416  10.618199 38.2990690 0.0000028\n",
       "FM19-FM14           1.31371882 -11.963730 14.5911673 0.9999994\n",
       "FM6-FM14            1.79685862 -11.663736 15.2574529 0.9999918\n",
       "FM9-FM14           -0.86628566 -14.326880 12.5943086 1.0000000\n",
       "K2-FM14             1.72755809 -12.407365 15.8624813 0.9999962\n",
       "Kelsey-1-FM14       5.30268709  -8.359695 18.9650688 0.9637548\n",
       "U44-FM14           28.07223909  14.611645 41.5328334 0.0000000\n",
       "FM6-FM19            0.48313979 -12.977455 13.9437341 1.0000000\n",
       "FM9-FM19           -2.18000448 -15.640599 11.2805898 0.9999569\n",
       "K2-FM19             0.41383926 -13.721084 14.5487625 1.0000000\n",
       "Kelsey-1-FM19       3.98896826  -9.673413 17.6513500 0.9950064\n",
       "U44-FM19           26.75852027  13.297926 40.2191146 0.0000001\n",
       "FM9-FM6            -2.66314427 -16.304426 10.9781372 0.9997933\n",
       "K2-FM6             -0.06930053 -14.376397 14.2377962 1.0000000\n",
       "Kelsey-1-FM6        3.50582847 -10.334606 17.3462633 0.9983123\n",
       "U44-FM6            26.27538047  12.634099 39.9166620 0.0000002\n",
       "K2-FM9              2.59384374 -11.713253 16.9009405 0.9998884\n",
       "Kelsey-1-FM9        6.16897274  -7.671462 20.0094076 0.9161414\n",
       "U44-FM9            28.93852475  15.297243 42.5798063 0.0000000\n",
       "Kelsey-1-K2         3.57512900 -10.921977 18.0722354 0.9986319\n",
       "U44-K2             26.34468100  12.037584 40.6517778 0.0000009\n",
       "U44-Kelsey-1       22.76955200   8.929117 36.6099868 0.0000179\n"
      ]
     },
     "metadata": {},
     "output_type": "display_data"
    },
    {
     "data": {
      "text/plain": [
       "\n",
       "Permutation test for homogeneity of multivariate dispersions\n",
       "Permutation: free\n",
       "Number of permutations: 999\n",
       "\n",
       "Response: Distances\n",
       "           Df Sum Sq Mean Sq      F N.Perm Pr(>F)    \n",
       "Groups      9  13631 1514.58 9.3057    999  0.001 ***\n",
       "Residuals 164  26692  162.76                         \n",
       "---\n",
       "Signif. codes:  0 ‘***’ 0.001 ‘**’ 0.01 ‘*’ 0.05 ‘.’ 0.1 ‘ ’ 1\n",
       "\n",
       "Pairwise comparisons:\n",
       "(Observed p-value below diagonal, permuted p-value above diagonal)\n",
       "             Acerv2   Cooper-9    Elkhorn       FM14       FM19        FM6\n",
       "Acerv2              1.7000e-02 6.5000e-01 1.9400e-01 2.8300e-01 3.8700e-01\n",
       "Cooper-9 1.8495e-02            1.3000e-02 3.0000e-03 2.0000e-03 8.0000e-03\n",
       "Elkhorn  6.8011e-01 1.2205e-02            4.0300e-01 5.7200e-01 6.9400e-01\n",
       "FM14     1.7428e-01 1.2826e-03 3.7425e-01            7.4200e-01 6.5400e-01\n",
       "FM19     3.0625e-01 2.5867e-03 5.7261e-01 7.2978e-01            9.0500e-01\n",
       "FM6      3.9632e-01 5.0964e-03 6.7501e-01 6.5741e-01 9.0547e-01           \n",
       "FM9      7.7119e-02 3.7735e-04 2.1399e-01 7.9398e-01 5.1557e-01 4.6157e-01\n",
       "K2       4.6083e-01 1.4062e-02 7.1124e-01 7.1704e-01 9.3108e-01 9.8908e-01\n",
       "Kelsey-1 9.9666e-01 2.9915e-02 7.1126e-01 2.1873e-01 3.5502e-01 4.4257e-01\n",
       "U44      3.6449e-07 7.2260e-02 2.6648e-07 2.5705e-09 8.7861e-09 6.4411e-08\n",
       "                FM9         K2   Kelsey-1   U44\n",
       "Acerv2   8.6000e-02 4.5100e-01 9.9700e-01 0.001\n",
       "Cooper-9 1.0000e-03 1.7000e-02 3.4000e-02 0.068\n",
       "Elkhorn  2.2000e-01 7.3600e-01 7.0600e-01 0.001\n",
       "FM14     7.9900e-01 6.9600e-01 2.2400e-01 0.001\n",
       "FM19     5.1500e-01 9.2100e-01 3.4400e-01 0.001\n",
       "FM6      4.5100e-01 9.8400e-01 4.2100e-01 0.001\n",
       "FM9                 5.5600e-01 1.1300e-01 0.001\n",
       "K2       5.5038e-01            5.0000e-01 0.001\n",
       "Kelsey-1 1.1358e-01 5.0267e-01            0.001\n",
       "U44      2.9240e-11 2.1848e-06 2.8360e-06      "
      ]
     },
     "metadata": {},
     "output_type": "display_data"
    },
    {
     "data": {
      "text/html": [
       "<table class=\"dataframe\">\n",
       "<caption>A pwadonis: 45 × 8</caption>\n",
       "<thead>\n",
       "\t<tr><th scope=col>pairs</th><th scope=col>Df</th><th scope=col>SumsOfSqs</th><th scope=col>F.Model</th><th scope=col>R2</th><th scope=col>p.value</th><th scope=col>p.adjusted</th><th scope=col>sig</th></tr>\n",
       "\t<tr><th scope=col>&lt;chr&gt;</th><th scope=col>&lt;dbl&gt;</th><th scope=col>&lt;dbl&gt;</th><th scope=col>&lt;dbl&gt;</th><th scope=col>&lt;dbl&gt;</th><th scope=col>&lt;dbl&gt;</th><th scope=col>&lt;dbl&gt;</th><th scope=col>&lt;chr&gt;</th></tr>\n",
       "</thead>\n",
       "<tbody>\n",
       "\t<tr><td>Cooper-9 vs Kelsey-1</td><td>1</td><td>2321.7659</td><td>1.7147533</td><td>0.05582833</td><td>0.016</td><td>0.720</td><td> </td></tr>\n",
       "\t<tr><td>Cooper-9 vs FM6     </td><td>1</td><td>2273.5563</td><td>1.8664175</td><td>0.05857005</td><td>0.016</td><td>0.720</td><td> </td></tr>\n",
       "\t<tr><td>Cooper-9 vs Acerv2  </td><td>1</td><td>1926.1322</td><td>1.4832249</td><td>0.04566126</td><td>0.040</td><td>1.000</td><td> </td></tr>\n",
       "\t<tr><td>Cooper-9 vs Elkhorn </td><td>1</td><td>2372.0206</td><td>1.8418916</td><td>0.05972045</td><td>0.004</td><td>0.180</td><td> </td></tr>\n",
       "\t<tr><td>Cooper-9 vs FM19    </td><td>1</td><td>2671.7953</td><td>2.2725608</td><td>0.06830135</td><td>0.004</td><td>0.180</td><td> </td></tr>\n",
       "\t<tr><td>Cooper-9 vs FM9     </td><td>1</td><td>2927.0351</td><td>2.6527175</td><td>0.08124033</td><td>0.002</td><td>0.090</td><td> </td></tr>\n",
       "\t<tr><td>Cooper-9 vs U44     </td><td>1</td><td>6758.3141</td><td>2.9254717</td><td>0.08885132</td><td>0.001</td><td>0.045</td><td>.</td></tr>\n",
       "\t<tr><td>Cooper-9 vs K2      </td><td>1</td><td>2204.0158</td><td>1.6739940</td><td>0.05838022</td><td>0.018</td><td>0.810</td><td> </td></tr>\n",
       "\t<tr><td>Cooper-9 vs FM14    </td><td>1</td><td>2535.9212</td><td>2.2260219</td><td>0.06699634</td><td>0.004</td><td>0.180</td><td> </td></tr>\n",
       "\t<tr><td>Kelsey-1 vs FM6     </td><td>1</td><td> 898.3234</td><td>1.1558543</td><td>0.03384059</td><td>0.163</td><td>1.000</td><td> </td></tr>\n",
       "\t<tr><td>Kelsey-1 vs Acerv2  </td><td>1</td><td> 967.9948</td><td>1.1209681</td><td>0.03191735</td><td>0.196</td><td>1.000</td><td> </td></tr>\n",
       "\t<tr><td>Kelsey-1 vs Elkhorn </td><td>1</td><td> 904.4818</td><td>1.0942710</td><td>0.03306527</td><td>0.202</td><td>1.000</td><td> </td></tr>\n",
       "\t<tr><td>Kelsey-1 vs FM19    </td><td>1</td><td>1085.6361</td><td>1.4447274</td><td>0.04076001</td><td>0.067</td><td>1.000</td><td> </td></tr>\n",
       "\t<tr><td>Kelsey-1 vs FM9     </td><td>1</td><td>1386.0375</td><td>2.0598119</td><td>0.05875137</td><td>0.002</td><td>0.090</td><td> </td></tr>\n",
       "\t<tr><td>Kelsey-1 vs U44     </td><td>1</td><td>8645.1812</td><td>4.8844416</td><td>0.12893001</td><td>0.001</td><td>0.045</td><td>.</td></tr>\n",
       "\t<tr><td>Kelsey-1 vs K2      </td><td>1</td><td> 874.4194</td><td>1.0641153</td><td>0.03425545</td><td>0.271</td><td>1.000</td><td> </td></tr>\n",
       "\t<tr><td>Kelsey-1 vs FM14    </td><td>1</td><td> 957.3971</td><td>1.3330423</td><td>0.03772792</td><td>0.056</td><td>1.000</td><td> </td></tr>\n",
       "\t<tr><td>FM6 vs Acerv2       </td><td>1</td><td> 719.3218</td><td>0.9451073</td><td>0.02629307</td><td>0.491</td><td>1.000</td><td> </td></tr>\n",
       "\t<tr><td>FM6 vs Elkhorn      </td><td>1</td><td> 806.7925</td><td>1.1220423</td><td>0.03288321</td><td>0.212</td><td>1.000</td><td> </td></tr>\n",
       "\t<tr><td>FM6 vs FM19         </td><td>1</td><td> 867.7762</td><td>1.3305054</td><td>0.03662227</td><td>0.118</td><td>1.000</td><td> </td></tr>\n",
       "\t<tr><td>FM6 vs FM9          </td><td>1</td><td>1006.7335</td><td>1.7567821</td><td>0.04913144</td><td>0.014</td><td>0.630</td><td> </td></tr>\n",
       "\t<tr><td>FM6 vs U44          </td><td>1</td><td>9092.0067</td><td>5.5512288</td><td>0.14035541</td><td>0.001</td><td>0.045</td><td>.</td></tr>\n",
       "\t<tr><td>FM6 vs K2           </td><td>1</td><td> 648.2651</td><td>0.9163655</td><td>0.02871146</td><td>0.539</td><td>1.000</td><td> </td></tr>\n",
       "\t<tr><td>FM6 vs FM14         </td><td>1</td><td> 655.9020</td><td>1.0580381</td><td>0.02934264</td><td>0.285</td><td>1.000</td><td> </td></tr>\n",
       "\t<tr><td>Acerv2 vs Elkhorn   </td><td>1</td><td>1012.6861</td><td>1.2547375</td><td>0.03559061</td><td>0.078</td><td>1.000</td><td> </td></tr>\n",
       "\t<tr><td>Acerv2 vs FM19      </td><td>1</td><td>1247.8130</td><td>1.6925679</td><td>0.04490455</td><td>0.023</td><td>1.000</td><td> </td></tr>\n",
       "\t<tr><td>Acerv2 vs FM9       </td><td>1</td><td>1622.2031</td><td>2.4476428</td><td>0.06536173</td><td>0.001</td><td>0.045</td><td>.</td></tr>\n",
       "\t<tr><td>Acerv2 vs U44       </td><td>1</td><td>9402.6714</td><td>5.5403679</td><td>0.13666299</td><td>0.001</td><td>0.045</td><td>.</td></tr>\n",
       "\t<tr><td>Acerv2 vs K2        </td><td>1</td><td> 779.5553</td><td>0.9728056</td><td>0.02950327</td><td>0.417</td><td>1.000</td><td> </td></tr>\n",
       "\t<tr><td>Acerv2 vs FM14      </td><td>1</td><td>1124.7316</td><td>1.5934765</td><td>0.04238705</td><td>0.012</td><td>0.540</td><td> </td></tr>\n",
       "\t<tr><td>Elkhorn vs FM19     </td><td>1</td><td> 785.2779</td><td>1.1298924</td><td>0.03216327</td><td>0.213</td><td>1.000</td><td> </td></tr>\n",
       "\t<tr><td>Elkhorn vs FM9      </td><td>1</td><td> 762.1123</td><td>1.2397308</td><td>0.03620738</td><td>0.096</td><td>1.000</td><td> </td></tr>\n",
       "\t<tr><td>Elkhorn vs U44      </td><td>1</td><td>8398.6497</td><td>4.9063622</td><td>0.12943374</td><td>0.001</td><td>0.045</td><td>.</td></tr>\n",
       "\t<tr><td>Elkhorn vs K2       </td><td>1</td><td> 858.2673</td><td>1.1326328</td><td>0.03638089</td><td>0.181</td><td>1.000</td><td> </td></tr>\n",
       "\t<tr><td>Elkhorn vs FM14     </td><td>1</td><td> 632.3908</td><td>0.9556197</td><td>0.02733808</td><td>0.544</td><td>1.000</td><td> </td></tr>\n",
       "\t<tr><td>FM19 vs FM9         </td><td>1</td><td> 561.5107</td><td>1.0137837</td><td>0.02814988</td><td>0.414</td><td>1.000</td><td> </td></tr>\n",
       "\t<tr><td>FM19 vs U44         </td><td>1</td><td>8497.0185</td><td>5.3499748</td><td>0.13258930</td><td>0.001</td><td>0.045</td><td>.</td></tr>\n",
       "\t<tr><td>FM19 vs K2          </td><td>1</td><td> 911.2762</td><td>1.3356841</td><td>0.04006770</td><td>0.130</td><td>1.000</td><td> </td></tr>\n",
       "\t<tr><td>FM19 vs FM14        </td><td>1</td><td> 639.1552</td><td>1.0653039</td><td>0.02874127</td><td>0.315</td><td>1.000</td><td> </td></tr>\n",
       "\t<tr><td>FM9 vs U44          </td><td>1</td><td>8099.0219</td><td>5.2707241</td><td>0.13421510</td><td>0.001</td><td>0.045</td><td>.</td></tr>\n",
       "\t<tr><td>FM9 vs K2           </td><td>1</td><td>1181.7196</td><td>1.9814127</td><td>0.06007665</td><td>0.009</td><td>0.405</td><td> </td></tr>\n",
       "\t<tr><td>FM9 vs FM14         </td><td>1</td><td> 512.1449</td><td>0.9819039</td><td>0.02728883</td><td>0.429</td><td>1.000</td><td> </td></tr>\n",
       "\t<tr><td>U44 vs K2           </td><td>1</td><td>8592.6736</td><td>4.8705028</td><td>0.13578016</td><td>0.001</td><td>0.045</td><td>.</td></tr>\n",
       "\t<tr><td>U44 vs FM14         </td><td>1</td><td>8754.6275</td><td>5.6265749</td><td>0.13849494</td><td>0.001</td><td>0.045</td><td>.</td></tr>\n",
       "\t<tr><td>K2 vs FM14          </td><td>1</td><td> 762.8962</td><td>1.1792486</td><td>0.03554175</td><td>0.199</td><td>1.000</td><td> </td></tr>\n",
       "</tbody>\n",
       "</table>\n"
      ],
      "text/latex": [
       "A pwadonis: 45 × 8\n",
       "\\begin{tabular}{llllllll}\n",
       " pairs & Df & SumsOfSqs & F.Model & R2 & p.value & p.adjusted & sig\\\\\n",
       " <chr> & <dbl> & <dbl> & <dbl> & <dbl> & <dbl> & <dbl> & <chr>\\\\\n",
       "\\hline\n",
       "\t Cooper-9 vs Kelsey-1 & 1 & 2321.7659 & 1.7147533 & 0.05582833 & 0.016 & 0.720 &  \\\\\n",
       "\t Cooper-9 vs FM6      & 1 & 2273.5563 & 1.8664175 & 0.05857005 & 0.016 & 0.720 &  \\\\\n",
       "\t Cooper-9 vs Acerv2   & 1 & 1926.1322 & 1.4832249 & 0.04566126 & 0.040 & 1.000 &  \\\\\n",
       "\t Cooper-9 vs Elkhorn  & 1 & 2372.0206 & 1.8418916 & 0.05972045 & 0.004 & 0.180 &  \\\\\n",
       "\t Cooper-9 vs FM19     & 1 & 2671.7953 & 2.2725608 & 0.06830135 & 0.004 & 0.180 &  \\\\\n",
       "\t Cooper-9 vs FM9      & 1 & 2927.0351 & 2.6527175 & 0.08124033 & 0.002 & 0.090 &  \\\\\n",
       "\t Cooper-9 vs U44      & 1 & 6758.3141 & 2.9254717 & 0.08885132 & 0.001 & 0.045 & .\\\\\n",
       "\t Cooper-9 vs K2       & 1 & 2204.0158 & 1.6739940 & 0.05838022 & 0.018 & 0.810 &  \\\\\n",
       "\t Cooper-9 vs FM14     & 1 & 2535.9212 & 2.2260219 & 0.06699634 & 0.004 & 0.180 &  \\\\\n",
       "\t Kelsey-1 vs FM6      & 1 &  898.3234 & 1.1558543 & 0.03384059 & 0.163 & 1.000 &  \\\\\n",
       "\t Kelsey-1 vs Acerv2   & 1 &  967.9948 & 1.1209681 & 0.03191735 & 0.196 & 1.000 &  \\\\\n",
       "\t Kelsey-1 vs Elkhorn  & 1 &  904.4818 & 1.0942710 & 0.03306527 & 0.202 & 1.000 &  \\\\\n",
       "\t Kelsey-1 vs FM19     & 1 & 1085.6361 & 1.4447274 & 0.04076001 & 0.067 & 1.000 &  \\\\\n",
       "\t Kelsey-1 vs FM9      & 1 & 1386.0375 & 2.0598119 & 0.05875137 & 0.002 & 0.090 &  \\\\\n",
       "\t Kelsey-1 vs U44      & 1 & 8645.1812 & 4.8844416 & 0.12893001 & 0.001 & 0.045 & .\\\\\n",
       "\t Kelsey-1 vs K2       & 1 &  874.4194 & 1.0641153 & 0.03425545 & 0.271 & 1.000 &  \\\\\n",
       "\t Kelsey-1 vs FM14     & 1 &  957.3971 & 1.3330423 & 0.03772792 & 0.056 & 1.000 &  \\\\\n",
       "\t FM6 vs Acerv2        & 1 &  719.3218 & 0.9451073 & 0.02629307 & 0.491 & 1.000 &  \\\\\n",
       "\t FM6 vs Elkhorn       & 1 &  806.7925 & 1.1220423 & 0.03288321 & 0.212 & 1.000 &  \\\\\n",
       "\t FM6 vs FM19          & 1 &  867.7762 & 1.3305054 & 0.03662227 & 0.118 & 1.000 &  \\\\\n",
       "\t FM6 vs FM9           & 1 & 1006.7335 & 1.7567821 & 0.04913144 & 0.014 & 0.630 &  \\\\\n",
       "\t FM6 vs U44           & 1 & 9092.0067 & 5.5512288 & 0.14035541 & 0.001 & 0.045 & .\\\\\n",
       "\t FM6 vs K2            & 1 &  648.2651 & 0.9163655 & 0.02871146 & 0.539 & 1.000 &  \\\\\n",
       "\t FM6 vs FM14          & 1 &  655.9020 & 1.0580381 & 0.02934264 & 0.285 & 1.000 &  \\\\\n",
       "\t Acerv2 vs Elkhorn    & 1 & 1012.6861 & 1.2547375 & 0.03559061 & 0.078 & 1.000 &  \\\\\n",
       "\t Acerv2 vs FM19       & 1 & 1247.8130 & 1.6925679 & 0.04490455 & 0.023 & 1.000 &  \\\\\n",
       "\t Acerv2 vs FM9        & 1 & 1622.2031 & 2.4476428 & 0.06536173 & 0.001 & 0.045 & .\\\\\n",
       "\t Acerv2 vs U44        & 1 & 9402.6714 & 5.5403679 & 0.13666299 & 0.001 & 0.045 & .\\\\\n",
       "\t Acerv2 vs K2         & 1 &  779.5553 & 0.9728056 & 0.02950327 & 0.417 & 1.000 &  \\\\\n",
       "\t Acerv2 vs FM14       & 1 & 1124.7316 & 1.5934765 & 0.04238705 & 0.012 & 0.540 &  \\\\\n",
       "\t Elkhorn vs FM19      & 1 &  785.2779 & 1.1298924 & 0.03216327 & 0.213 & 1.000 &  \\\\\n",
       "\t Elkhorn vs FM9       & 1 &  762.1123 & 1.2397308 & 0.03620738 & 0.096 & 1.000 &  \\\\\n",
       "\t Elkhorn vs U44       & 1 & 8398.6497 & 4.9063622 & 0.12943374 & 0.001 & 0.045 & .\\\\\n",
       "\t Elkhorn vs K2        & 1 &  858.2673 & 1.1326328 & 0.03638089 & 0.181 & 1.000 &  \\\\\n",
       "\t Elkhorn vs FM14      & 1 &  632.3908 & 0.9556197 & 0.02733808 & 0.544 & 1.000 &  \\\\\n",
       "\t FM19 vs FM9          & 1 &  561.5107 & 1.0137837 & 0.02814988 & 0.414 & 1.000 &  \\\\\n",
       "\t FM19 vs U44          & 1 & 8497.0185 & 5.3499748 & 0.13258930 & 0.001 & 0.045 & .\\\\\n",
       "\t FM19 vs K2           & 1 &  911.2762 & 1.3356841 & 0.04006770 & 0.130 & 1.000 &  \\\\\n",
       "\t FM19 vs FM14         & 1 &  639.1552 & 1.0653039 & 0.02874127 & 0.315 & 1.000 &  \\\\\n",
       "\t FM9 vs U44           & 1 & 8099.0219 & 5.2707241 & 0.13421510 & 0.001 & 0.045 & .\\\\\n",
       "\t FM9 vs K2            & 1 & 1181.7196 & 1.9814127 & 0.06007665 & 0.009 & 0.405 &  \\\\\n",
       "\t FM9 vs FM14          & 1 &  512.1449 & 0.9819039 & 0.02728883 & 0.429 & 1.000 &  \\\\\n",
       "\t U44 vs K2            & 1 & 8592.6736 & 4.8705028 & 0.13578016 & 0.001 & 0.045 & .\\\\\n",
       "\t U44 vs FM14          & 1 & 8754.6275 & 5.6265749 & 0.13849494 & 0.001 & 0.045 & .\\\\\n",
       "\t K2 vs FM14           & 1 &  762.8962 & 1.1792486 & 0.03554175 & 0.199 & 1.000 &  \\\\\n",
       "\\end{tabular}\n"
      ],
      "text/markdown": [
       "\n",
       "A pwadonis: 45 × 8\n",
       "\n",
       "| pairs &lt;chr&gt; | Df &lt;dbl&gt; | SumsOfSqs &lt;dbl&gt; | F.Model &lt;dbl&gt; | R2 &lt;dbl&gt; | p.value &lt;dbl&gt; | p.adjusted &lt;dbl&gt; | sig &lt;chr&gt; |\n",
       "|---|---|---|---|---|---|---|---|\n",
       "| Cooper-9 vs Kelsey-1 | 1 | 2321.7659 | 1.7147533 | 0.05582833 | 0.016 | 0.720 | <!----> |\n",
       "| Cooper-9 vs FM6      | 1 | 2273.5563 | 1.8664175 | 0.05857005 | 0.016 | 0.720 | <!----> |\n",
       "| Cooper-9 vs Acerv2   | 1 | 1926.1322 | 1.4832249 | 0.04566126 | 0.040 | 1.000 | <!----> |\n",
       "| Cooper-9 vs Elkhorn  | 1 | 2372.0206 | 1.8418916 | 0.05972045 | 0.004 | 0.180 | <!----> |\n",
       "| Cooper-9 vs FM19     | 1 | 2671.7953 | 2.2725608 | 0.06830135 | 0.004 | 0.180 | <!----> |\n",
       "| Cooper-9 vs FM9      | 1 | 2927.0351 | 2.6527175 | 0.08124033 | 0.002 | 0.090 | <!----> |\n",
       "| Cooper-9 vs U44      | 1 | 6758.3141 | 2.9254717 | 0.08885132 | 0.001 | 0.045 | . |\n",
       "| Cooper-9 vs K2       | 1 | 2204.0158 | 1.6739940 | 0.05838022 | 0.018 | 0.810 | <!----> |\n",
       "| Cooper-9 vs FM14     | 1 | 2535.9212 | 2.2260219 | 0.06699634 | 0.004 | 0.180 | <!----> |\n",
       "| Kelsey-1 vs FM6      | 1 |  898.3234 | 1.1558543 | 0.03384059 | 0.163 | 1.000 | <!----> |\n",
       "| Kelsey-1 vs Acerv2   | 1 |  967.9948 | 1.1209681 | 0.03191735 | 0.196 | 1.000 | <!----> |\n",
       "| Kelsey-1 vs Elkhorn  | 1 |  904.4818 | 1.0942710 | 0.03306527 | 0.202 | 1.000 | <!----> |\n",
       "| Kelsey-1 vs FM19     | 1 | 1085.6361 | 1.4447274 | 0.04076001 | 0.067 | 1.000 | <!----> |\n",
       "| Kelsey-1 vs FM9      | 1 | 1386.0375 | 2.0598119 | 0.05875137 | 0.002 | 0.090 | <!----> |\n",
       "| Kelsey-1 vs U44      | 1 | 8645.1812 | 4.8844416 | 0.12893001 | 0.001 | 0.045 | . |\n",
       "| Kelsey-1 vs K2       | 1 |  874.4194 | 1.0641153 | 0.03425545 | 0.271 | 1.000 | <!----> |\n",
       "| Kelsey-1 vs FM14     | 1 |  957.3971 | 1.3330423 | 0.03772792 | 0.056 | 1.000 | <!----> |\n",
       "| FM6 vs Acerv2        | 1 |  719.3218 | 0.9451073 | 0.02629307 | 0.491 | 1.000 | <!----> |\n",
       "| FM6 vs Elkhorn       | 1 |  806.7925 | 1.1220423 | 0.03288321 | 0.212 | 1.000 | <!----> |\n",
       "| FM6 vs FM19          | 1 |  867.7762 | 1.3305054 | 0.03662227 | 0.118 | 1.000 | <!----> |\n",
       "| FM6 vs FM9           | 1 | 1006.7335 | 1.7567821 | 0.04913144 | 0.014 | 0.630 | <!----> |\n",
       "| FM6 vs U44           | 1 | 9092.0067 | 5.5512288 | 0.14035541 | 0.001 | 0.045 | . |\n",
       "| FM6 vs K2            | 1 |  648.2651 | 0.9163655 | 0.02871146 | 0.539 | 1.000 | <!----> |\n",
       "| FM6 vs FM14          | 1 |  655.9020 | 1.0580381 | 0.02934264 | 0.285 | 1.000 | <!----> |\n",
       "| Acerv2 vs Elkhorn    | 1 | 1012.6861 | 1.2547375 | 0.03559061 | 0.078 | 1.000 | <!----> |\n",
       "| Acerv2 vs FM19       | 1 | 1247.8130 | 1.6925679 | 0.04490455 | 0.023 | 1.000 | <!----> |\n",
       "| Acerv2 vs FM9        | 1 | 1622.2031 | 2.4476428 | 0.06536173 | 0.001 | 0.045 | . |\n",
       "| Acerv2 vs U44        | 1 | 9402.6714 | 5.5403679 | 0.13666299 | 0.001 | 0.045 | . |\n",
       "| Acerv2 vs K2         | 1 |  779.5553 | 0.9728056 | 0.02950327 | 0.417 | 1.000 | <!----> |\n",
       "| Acerv2 vs FM14       | 1 | 1124.7316 | 1.5934765 | 0.04238705 | 0.012 | 0.540 | <!----> |\n",
       "| Elkhorn vs FM19      | 1 |  785.2779 | 1.1298924 | 0.03216327 | 0.213 | 1.000 | <!----> |\n",
       "| Elkhorn vs FM9       | 1 |  762.1123 | 1.2397308 | 0.03620738 | 0.096 | 1.000 | <!----> |\n",
       "| Elkhorn vs U44       | 1 | 8398.6497 | 4.9063622 | 0.12943374 | 0.001 | 0.045 | . |\n",
       "| Elkhorn vs K2        | 1 |  858.2673 | 1.1326328 | 0.03638089 | 0.181 | 1.000 | <!----> |\n",
       "| Elkhorn vs FM14      | 1 |  632.3908 | 0.9556197 | 0.02733808 | 0.544 | 1.000 | <!----> |\n",
       "| FM19 vs FM9          | 1 |  561.5107 | 1.0137837 | 0.02814988 | 0.414 | 1.000 | <!----> |\n",
       "| FM19 vs U44          | 1 | 8497.0185 | 5.3499748 | 0.13258930 | 0.001 | 0.045 | . |\n",
       "| FM19 vs K2           | 1 |  911.2762 | 1.3356841 | 0.04006770 | 0.130 | 1.000 | <!----> |\n",
       "| FM19 vs FM14         | 1 |  639.1552 | 1.0653039 | 0.02874127 | 0.315 | 1.000 | <!----> |\n",
       "| FM9 vs U44           | 1 | 8099.0219 | 5.2707241 | 0.13421510 | 0.001 | 0.045 | . |\n",
       "| FM9 vs K2            | 1 | 1181.7196 | 1.9814127 | 0.06007665 | 0.009 | 0.405 | <!----> |\n",
       "| FM9 vs FM14          | 1 |  512.1449 | 0.9819039 | 0.02728883 | 0.429 | 1.000 | <!----> |\n",
       "| U44 vs K2            | 1 | 8592.6736 | 4.8705028 | 0.13578016 | 0.001 | 0.045 | . |\n",
       "| U44 vs FM14          | 1 | 8754.6275 | 5.6265749 | 0.13849494 | 0.001 | 0.045 | . |\n",
       "| K2 vs FM14           | 1 |  762.8962 | 1.1792486 | 0.03554175 | 0.199 | 1.000 | <!----> |\n",
       "\n"
      ],
      "text/plain": [
       "   pairs                Df SumsOfSqs F.Model   R2         p.value p.adjusted\n",
       "1  Cooper-9 vs Kelsey-1 1  2321.7659 1.7147533 0.05582833 0.016   0.720     \n",
       "2  Cooper-9 vs FM6      1  2273.5563 1.8664175 0.05857005 0.016   0.720     \n",
       "3  Cooper-9 vs Acerv2   1  1926.1322 1.4832249 0.04566126 0.040   1.000     \n",
       "4  Cooper-9 vs Elkhorn  1  2372.0206 1.8418916 0.05972045 0.004   0.180     \n",
       "5  Cooper-9 vs FM19     1  2671.7953 2.2725608 0.06830135 0.004   0.180     \n",
       "6  Cooper-9 vs FM9      1  2927.0351 2.6527175 0.08124033 0.002   0.090     \n",
       "7  Cooper-9 vs U44      1  6758.3141 2.9254717 0.08885132 0.001   0.045     \n",
       "8  Cooper-9 vs K2       1  2204.0158 1.6739940 0.05838022 0.018   0.810     \n",
       "9  Cooper-9 vs FM14     1  2535.9212 2.2260219 0.06699634 0.004   0.180     \n",
       "10 Kelsey-1 vs FM6      1   898.3234 1.1558543 0.03384059 0.163   1.000     \n",
       "11 Kelsey-1 vs Acerv2   1   967.9948 1.1209681 0.03191735 0.196   1.000     \n",
       "12 Kelsey-1 vs Elkhorn  1   904.4818 1.0942710 0.03306527 0.202   1.000     \n",
       "13 Kelsey-1 vs FM19     1  1085.6361 1.4447274 0.04076001 0.067   1.000     \n",
       "14 Kelsey-1 vs FM9      1  1386.0375 2.0598119 0.05875137 0.002   0.090     \n",
       "15 Kelsey-1 vs U44      1  8645.1812 4.8844416 0.12893001 0.001   0.045     \n",
       "16 Kelsey-1 vs K2       1   874.4194 1.0641153 0.03425545 0.271   1.000     \n",
       "17 Kelsey-1 vs FM14     1   957.3971 1.3330423 0.03772792 0.056   1.000     \n",
       "18 FM6 vs Acerv2        1   719.3218 0.9451073 0.02629307 0.491   1.000     \n",
       "19 FM6 vs Elkhorn       1   806.7925 1.1220423 0.03288321 0.212   1.000     \n",
       "20 FM6 vs FM19          1   867.7762 1.3305054 0.03662227 0.118   1.000     \n",
       "21 FM6 vs FM9           1  1006.7335 1.7567821 0.04913144 0.014   0.630     \n",
       "22 FM6 vs U44           1  9092.0067 5.5512288 0.14035541 0.001   0.045     \n",
       "23 FM6 vs K2            1   648.2651 0.9163655 0.02871146 0.539   1.000     \n",
       "24 FM6 vs FM14          1   655.9020 1.0580381 0.02934264 0.285   1.000     \n",
       "25 Acerv2 vs Elkhorn    1  1012.6861 1.2547375 0.03559061 0.078   1.000     \n",
       "26 Acerv2 vs FM19       1  1247.8130 1.6925679 0.04490455 0.023   1.000     \n",
       "27 Acerv2 vs FM9        1  1622.2031 2.4476428 0.06536173 0.001   0.045     \n",
       "28 Acerv2 vs U44        1  9402.6714 5.5403679 0.13666299 0.001   0.045     \n",
       "29 Acerv2 vs K2         1   779.5553 0.9728056 0.02950327 0.417   1.000     \n",
       "30 Acerv2 vs FM14       1  1124.7316 1.5934765 0.04238705 0.012   0.540     \n",
       "31 Elkhorn vs FM19      1   785.2779 1.1298924 0.03216327 0.213   1.000     \n",
       "32 Elkhorn vs FM9       1   762.1123 1.2397308 0.03620738 0.096   1.000     \n",
       "33 Elkhorn vs U44       1  8398.6497 4.9063622 0.12943374 0.001   0.045     \n",
       "34 Elkhorn vs K2        1   858.2673 1.1326328 0.03638089 0.181   1.000     \n",
       "35 Elkhorn vs FM14      1   632.3908 0.9556197 0.02733808 0.544   1.000     \n",
       "36 FM19 vs FM9          1   561.5107 1.0137837 0.02814988 0.414   1.000     \n",
       "37 FM19 vs U44          1  8497.0185 5.3499748 0.13258930 0.001   0.045     \n",
       "38 FM19 vs K2           1   911.2762 1.3356841 0.04006770 0.130   1.000     \n",
       "39 FM19 vs FM14         1   639.1552 1.0653039 0.02874127 0.315   1.000     \n",
       "40 FM9 vs U44           1  8099.0219 5.2707241 0.13421510 0.001   0.045     \n",
       "41 FM9 vs K2            1  1181.7196 1.9814127 0.06007665 0.009   0.405     \n",
       "42 FM9 vs FM14          1   512.1449 0.9819039 0.02728883 0.429   1.000     \n",
       "43 U44 vs K2            1  8592.6736 4.8705028 0.13578016 0.001   0.045     \n",
       "44 U44 vs FM14          1  8754.6275 5.6265749 0.13849494 0.001   0.045     \n",
       "45 K2 vs FM14           1   762.8962 1.1792486 0.03554175 0.199   1.000     \n",
       "   sig\n",
       "1     \n",
       "2     \n",
       "3     \n",
       "4     \n",
       "5     \n",
       "6     \n",
       "7  .  \n",
       "8     \n",
       "9     \n",
       "10    \n",
       "11    \n",
       "12    \n",
       "13    \n",
       "14    \n",
       "15 .  \n",
       "16    \n",
       "17    \n",
       "18    \n",
       "19    \n",
       "20    \n",
       "21    \n",
       "22 .  \n",
       "23    \n",
       "24    \n",
       "25    \n",
       "26    \n",
       "27 .  \n",
       "28 .  \n",
       "29    \n",
       "30    \n",
       "31    \n",
       "32    \n",
       "33 .  \n",
       "34    \n",
       "35    \n",
       "36    \n",
       "37 .  \n",
       "38    \n",
       "39    \n",
       "40 .  \n",
       "41    \n",
       "42    \n",
       "43 .  \n",
       "44 .  \n",
       "45    "
      ]
     },
     "metadata": {},
     "output_type": "display_data"
    },
    {
     "data": {
      "image/png": "[encoded data removed]",
      "text/plain": [
       "plot without title"
      ]
     },
     "metadata": {
      "image/png": {
       "height": 420,
       "width": 420
      }
     },
     "output_type": "display_data"
    }
   ],
   "source": [
    "#Genotype differences under treatments\n",
    "\n",
    "ps_clr <- vegdist(otu_table(t(ps_clr_clip)), method =\"euclidean\")\n",
    "## Calculate multivariate dispersions\n",
    "mod_T1 <- betadisper(ps_clr, sample_data(ps_clr_clip)$Genotype)\n",
    "#test the pair-wise comparisons for Multivariate Homogeneity Of Groups Dispersions (Variances)\n",
    "TukeyHSD(mod_T1)\n",
    "permutest(mod_T1, pairwise = TRUE, permutations = 999)\n",
    "boxplot(mod_T1)\n",
    "\n",
    "\n",
    "pairwise.adonis(ps_clr, ps_clr_clip_df$Genotype, sim.method = \"euclidean\",\n",
    "                p.adjust.m = \"bonferroni\")"
   ]
  },
  {
   "cell_type": "markdown",
   "id": "a61cb38c-9836-423a-9551-bb537b354139",
   "metadata": {},
   "source": [
    "# Outcome"
   ]
  },
  {
   "cell_type": "code",
   "execution_count": 12,
   "id": "9d5d24c1-d0d4-4c51-894f-9c1c7c705ca1",
   "metadata": {},
   "outputs": [
    {
     "data": {
      "text/plain": [
       "  Tukey multiple comparisons of means\n",
       "    95% family-wise confidence level\n",
       "\n",
       "Fit: aov(formula = distances ~ group, data = df)\n",
       "\n",
       "$group\n",
       "          diff      lwr     upr p adj\n",
       "DL-AH 17.89262 13.91264 21.8726     0\n"
      ]
     },
     "metadata": {},
     "output_type": "display_data"
    },
    {
     "data": {
      "text/plain": [
       "\n",
       "Permutation test for homogeneity of multivariate dispersions\n",
       "Permutation: free\n",
       "Number of permutations: 999\n",
       "\n",
       "Response: Distances\n",
       "           Df Sum Sq Mean Sq      F N.Perm Pr(>F)    \n",
       "Groups      1  13566 13565.7 78.744    999  0.001 ***\n",
       "Residuals 172  29632   172.3                         \n",
       "---\n",
       "Signif. codes:  0 ‘***’ 0.001 ‘**’ 0.01 ‘*’ 0.05 ‘.’ 0.1 ‘ ’ 1\n",
       "\n",
       "Pairwise comparisons:\n",
       "(Observed p-value below diagonal, permuted p-value above diagonal)\n",
       "          AH    DL\n",
       "AH           0.001\n",
       "DL 8.942e-16      "
      ]
     },
     "metadata": {},
     "output_type": "display_data"
    },
    {
     "data": {
      "text/html": [
       "<table class=\"dataframe\">\n",
       "<caption>A pwadonis: 1 × 8</caption>\n",
       "<thead>\n",
       "\t<tr><th scope=col>pairs</th><th scope=col>Df</th><th scope=col>SumsOfSqs</th><th scope=col>F.Model</th><th scope=col>R2</th><th scope=col>p.value</th><th scope=col>p.adjusted</th><th scope=col>sig</th></tr>\n",
       "\t<tr><th scope=col>&lt;chr&gt;</th><th scope=col>&lt;dbl&gt;</th><th scope=col>&lt;dbl&gt;</th><th scope=col>&lt;dbl&gt;</th><th scope=col>&lt;dbl&gt;</th><th scope=col>&lt;dbl&gt;</th><th scope=col>&lt;dbl&gt;</th><th scope=col>&lt;chr&gt;</th></tr>\n",
       "</thead>\n",
       "<tbody>\n",
       "\t<tr><td>DL vs AH</td><td>1</td><td>10223.67</td><td>9.96669</td><td>0.05477206</td><td>0.001</td><td>0.001</td><td>**</td></tr>\n",
       "</tbody>\n",
       "</table>\n"
      ],
      "text/latex": [
       "A pwadonis: 1 × 8\n",
       "\\begin{tabular}{llllllll}\n",
       " pairs & Df & SumsOfSqs & F.Model & R2 & p.value & p.adjusted & sig\\\\\n",
       " <chr> & <dbl> & <dbl> & <dbl> & <dbl> & <dbl> & <dbl> & <chr>\\\\\n",
       "\\hline\n",
       "\t DL vs AH & 1 & 10223.67 & 9.96669 & 0.05477206 & 0.001 & 0.001 & **\\\\\n",
       "\\end{tabular}\n"
      ],
      "text/markdown": [
       "\n",
       "A pwadonis: 1 × 8\n",
       "\n",
       "| pairs &lt;chr&gt; | Df &lt;dbl&gt; | SumsOfSqs &lt;dbl&gt; | F.Model &lt;dbl&gt; | R2 &lt;dbl&gt; | p.value &lt;dbl&gt; | p.adjusted &lt;dbl&gt; | sig &lt;chr&gt; |\n",
       "|---|---|---|---|---|---|---|---|\n",
       "| DL vs AH | 1 | 10223.67 | 9.96669 | 0.05477206 | 0.001 | 0.001 | ** |\n",
       "\n"
      ],
      "text/plain": [
       "  pairs    Df SumsOfSqs F.Model R2         p.value p.adjusted sig\n",
       "1 DL vs AH 1  10223.67  9.96669 0.05477206 0.001   0.001      ** "
      ]
     },
     "metadata": {},
     "output_type": "display_data"
    },
    {
     "data": {
      "image/png": "[encoded data removed]",
      "text/plain": [
       "plot without title"
      ]
     },
     "metadata": {
      "image/png": {
       "height": 420,
       "width": 420
      }
     },
     "output_type": "display_data"
    }
   ],
   "source": [
    "#health\n",
    "ps_clr <- vegdist(otu_table(t(ps_clr_clip)), method =\"euclidean\")\n",
    "## Calculate multivariate dispersions\n",
    "mod_T1 <- betadisper(ps_clr, sample_data(ps_clr_clip)$Health)\n",
    "#test the pair-wise comparisons for Multivariate Homogeneity Of Groups Dispersions (Variances)\n",
    "TukeyHSD(mod_T1)\n",
    "permutest(mod_T1, pairwise = TRUE, permutations = 999)\n",
    "boxplot(mod_T1)\n",
    "\n",
    "\n",
    "pairwise.adonis(ps_clr, ps_clr_clip_df$Health, sim.method = \"euclidean\",\n",
    "                p.adjust.m = \"bonferroni\")"
   ]
  }
 ],
 "metadata": {
  "kernelspec": {
   "display_name": "R",
   "language": "R",
   "name": "ir"
  },
  "language_info": {
   "codemirror_mode": "r",
   "file_extension": ".r",
   "mimetype": "text/x-r-source",
   "name": "R",
   "pygments_lexer": "r",
   "version": "4.5.1"
  }
 },
 "nbformat": 4,
 "nbformat_minor": 5
}
