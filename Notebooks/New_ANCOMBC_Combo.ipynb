{
 "cells": [
  {
   "cell_type": "code",
   "execution_count": 1,
   "id": "ba5dc444-ba22-487e-8a4a-16d4360d676a",
   "metadata": {},
   "outputs": [
    {
     "name": "stderr",
     "output_type": "stream",
     "text": [
      "Loading required package: phyloseq\n",
      "\n",
      "\n",
      "microbiome R package (microbiome.github.com)\n",
      "    \n",
      "\n",
      "\n",
      " Copyright (C) 2011-2022 Leo Lahti, \n",
      "    Sudarshan Shetty et al. <microbiome.github.io>\n",
      "\n",
      "\n",
      "\n",
      "Attaching package: ‘microbiome’\n",
      "\n",
      "\n",
      "The following object is masked from ‘package:ggplot2’:\n",
      "\n",
      "    alpha\n",
      "\n",
      "\n",
      "The following object is masked from ‘package:base’:\n",
      "\n",
      "    transform\n",
      "\n",
      "\n",
      "── \u001b[1mAttaching core tidyverse packages\u001b[22m ──────────────────────── tidyverse 2.0.0 ──\n",
      "\u001b[32m✔\u001b[39m \u001b[34mdplyr    \u001b[39m 1.1.4     \u001b[32m✔\u001b[39m \u001b[34mpurrr    \u001b[39m 1.0.4\n",
      "\u001b[32m✔\u001b[39m \u001b[34mforcats  \u001b[39m 1.0.0     \u001b[32m✔\u001b[39m \u001b[34mreadr    \u001b[39m 2.1.5\n",
      "\u001b[32m✔\u001b[39m \u001b[34mlubridate\u001b[39m 1.9.4     \u001b[32m✔\u001b[39m \u001b[34mstringr  \u001b[39m 1.5.1\n",
      "── \u001b[1mConflicts\u001b[22m ────────────────────────────────────────── tidyverse_conflicts() ──\n",
      "\u001b[31m✖\u001b[39m \u001b[34mmicrobiome\u001b[39m::\u001b[32malpha()\u001b[39m masks \u001b[34mggplot2\u001b[39m::alpha()\n",
      "\u001b[31m✖\u001b[39m \u001b[34mdplyr\u001b[39m::\u001b[32mfilter()\u001b[39m     masks \u001b[34mstats\u001b[39m::filter()\n",
      "\u001b[31m✖\u001b[39m \u001b[34mdplyr\u001b[39m::\u001b[32mlag()\u001b[39m        masks \u001b[34mstats\u001b[39m::lag()\n",
      "\u001b[36mℹ\u001b[39m Use the conflicted package (\u001b[3m\u001b[34m<http://conflicted.r-lib.org/>\u001b[39m\u001b[23m) to force all conflicts to become errors\n",
      "\u001b[1m\u001b[22m\u001b[1mmicroViz version 0.12.7 - Copyright (C) 2021-2025 David Barnett\u001b[22m\n",
      "\u001b[33m!\u001b[39m Website: https://david-barnett.github.io/microViz\n",
      "\u001b[32m✔\u001b[39m Useful?  For citation details, run: `citation(\"microViz\")`\n",
      "\u001b[31m✖\u001b[39m Silence? `suppressPackageStartupMessages(library(microViz))`\n",
      "\n",
      "Attaching package: ‘ggpubr’\n",
      "\n",
      "\n",
      "The following object is masked from ‘package:microViz’:\n",
      "\n",
      "    stat_chull\n",
      "\n",
      "\n",
      "The following object is masked from ‘package:qiime2R’:\n",
      "\n",
      "    mean_sd\n",
      "\n",
      "\n"
     ]
    }
   ],
   "source": [
    "library(ANCOMBC)\n",
    "library(qiime2R)\n",
    "library(tidyr)\n",
    "library(tibble)\n",
    "library(ggplot2)\n",
    "library(microbiome)\n",
    "library(phyloseq)\n",
    "library(\"tidyverse\")\n",
    "library(\"dplyr\")\n",
    "library(microViz)\n",
    "library(\"ggpubr\")"
   ]
  },
  {
   "cell_type": "code",
   "execution_count": 2,
   "id": "fa11744e-f598-4fab-8b77-b28c80f96b6d",
   "metadata": {},
   "outputs": [
    {
     "name": "stderr",
     "output_type": "stream",
     "text": [
      "Warning message:\n",
      "“\u001b[1m\u001b[22mExpected 7 pieces. Missing pieces filled with `NA` in 5374 rows [3, 6, 9, 11,\n",
      "12, 14, 15, 16, 17, 18, 22, 23, 27, 31, 36, 38, 42, 45, 49, 51, ...].”\n"
     ]
    }
   ],
   "source": [
    "# Read in the 16S qza files and clean them up for phyloseq\n",
    "ASVs <- read_qza(\"/Users/stephanie.rosales/Documents/omics_projects/Resitada/qiime_output/table-BacArc_resistada.qza\")\n",
    "ASVs <- ASVs$data # Extract the count data from list\n",
    "taxa_16S <- read_qza(\"/Users/stephanie.rosales/Documents/omics_projects/Resitada/qiime_output/taxonomy_resistada.qza\")\n",
    "taxa_16S <- taxa_16S$data %>% as_tibble() %>% separate(Taxon, sep=\";\",\n",
    "c(\"Kingdom\", \"Phylum\", \"Class\", \"Order\", \"Family\", \"Genus\", \"Species\")) %>% \n",
    "# Convert taxonomy info to data frame with correct taxonomy labels\n",
    "#taxa <- taxa_16S[-1,]\n",
    "select(-Confidence) %>% arrange(Feature.ID) %>% mutate(ASV = 1:n()) %>% \n",
    "mutate(newcol = \"ASV\") %>%\n",
    "unite(\"ASVs\", newcol:ASV) %>%\n",
    "filter(Phylum !=\" p__Chlorophyta\") %>%\n",
    "filter(Phylum !=\"NA\")\n",
    "#asv_tab$asv_id <- rownames(asv_tab) # add a new column for ids\n",
    "tree_file <-read_qza(\"/Users/stephanie.rosales/Documents/omics_projects/Resitada/qiime_output/rooted-BacArc_resistada.qza\")$data"
   ]
  },
  {
   "cell_type": "code",
   "execution_count": 3,
   "id": "fed52595-0167-42aa-8df8-6cb1e5004fdc",
   "metadata": {},
   "outputs": [],
   "source": [
    "meta = read.csv(\"/Users/stephanie.rosales/Documents/omics_projects/Resitada/metadata_RESISTADA.csv\", \n",
    "                header = T, row.names = 1,\n",
    "na.strings = c(\"\", \"NA\")) %>% \n",
    "mutate(\n",
    "  Genotype = Genotype %>%\n",
    "    str_replace_all(\"Kelsey-1\", \"Kelsey1\") %>%\n",
    "    str_replace_all(\"Cooper-9\", \"Cooper9\")\n",
    ")\n",
    "\n",
    "meta$Genotype<-factor(meta$Genotype, \n",
    "                              levels=c(\"FM19\", \"FM6\", \"FM9\", \"U44\",\n",
    "                                       \"FM14\", \"Elkhorn\",\"K2\",\n",
    "                                      \"Acerv2\", \"Kelsey1\", \"Cooper9\"))\n",
    "\n",
    "\n",
    "meta$Combo<-factor(meta$Combo, \n",
    "                              levels=c(\"Ambient_Placebo\", \"NH4_Placebo\", \"Ambient_Pathogen\", \"NH4_Pathogen\" ))\n",
    "\n",
    "#sample_data(ps_paired_fill)$Combo <- factor(sample_data(ps_paired_fill)$Combo,\n",
    " #                                          levels = c(\"Ambient_Pathogen\", \"Ambient_Placebo\", \"NH4_Pathogen\", \"NH4_Placebo\"))\n"
   ]
  },
  {
   "cell_type": "code",
   "execution_count": 4,
   "id": "19b1dddf-05ac-4f63-9861-768f381dd4f3",
   "metadata": {},
   "outputs": [
    {
     "data": {
      "text/plain": [
       "phyloseq-class experiment-level object\n",
       "otu_table()   OTU Table:         [ 9492 taxa and 280 samples ]\n",
       "sample_data() Sample Data:       [ 280 samples by 58 sample variables ]\n",
       "tax_table()   Taxonomy Table:    [ 9492 taxa by 8 taxonomic ranks ]\n",
       "phy_tree()    Phylogenetic Tree: [ 9492 tips and 8365 internal nodes ]"
      ]
     },
     "metadata": {},
     "output_type": "display_data"
    }
   ],
   "source": [
    "ps= phyloseq(otu_table(ASVs, taxa_are_rows= T),\n",
    "tax_table(as.data.frame(taxa_16S) %>% column_to_rownames(\"Feature.ID\") %>%\n",
    "as.matrix()), sample_data(meta), tree_file)\n",
    "ps"
   ]
  },
  {
   "cell_type": "code",
   "execution_count": 5,
   "id": "95398baf-1bc6-4f82-87dc-0100cc944d72",
   "metadata": {},
   "outputs": [
    {
     "data": {
      "text/plain": [
       "phyloseq-class experiment-level object\n",
       "otu_table()   OTU Table:         [ 9492 taxa and 252 samples ]\n",
       "sample_data() Sample Data:       [ 252 samples by 58 sample variables ]\n",
       "tax_table()   Taxonomy Table:    [ 9492 taxa by 8 taxonomic ranks ]\n",
       "phy_tree()    Phylogenetic Tree: [ 9492 tips and 8365 internal nodes ]"
      ]
     },
     "metadata": {},
     "output_type": "display_data"
    },
    {
     "data": {
      "text/plain": [
       "phyloseq-class experiment-level object\n",
       "otu_table()   OTU Table:         [ 9492 taxa and 252 samples ]\n",
       "sample_data() Sample Data:       [ 252 samples by 58 sample variables ]\n",
       "tax_table()   Taxonomy Table:    [ 9492 taxa by 8 taxonomic ranks ]\n",
       "phy_tree()    Phylogenetic Tree: [ 9492 tips and 8365 internal nodes ]"
      ]
     },
     "metadata": {},
     "output_type": "display_data"
    }
   ],
   "source": [
    "dups = c(\"N169_256_R2\", \"N157_265_R2\", \"N165_296_R2\", \"N161_A067_R2\", \"N185_A088_R2\",\n",
    "                                 \"N164_A089_R2\",\"N119_A107\",\"N267_A110\",\"N7_A114\", \"N156_A115\",\"N158_A116\",\n",
    "                                 \"N101_A118\",\"N160_A119\",\"N277_A125\")\n",
    "\n",
    "ps = subset_samples(ps, !ID %in% dups & Genotype!=c(\"U41\"))\n",
    "                                                    #,\"U44\")) \n",
    "ps\n",
    "\n",
    "\n",
    "ps=subset_taxa(ps, Phylum!=\"NA\")\n",
    "ps"
   ]
  },
  {
   "cell_type": "code",
   "execution_count": 6,
   "id": "75bfbcbe-0fe4-43f8-b738-542dba889e80",
   "metadata": {},
   "outputs": [
    {
     "data": {
      "text/plain": [
       "phyloseq-class experiment-level object\n",
       "otu_table()   OTU Table:         [ 9492 taxa and 192 samples ]\n",
       "sample_data() Sample Data:       [ 192 samples by 58 sample variables ]\n",
       "tax_table()   Taxonomy Table:    [ 9492 taxa by 8 taxonomic ranks ]\n",
       "phy_tree()    Phylogenetic Tree: [ 9492 tips and 8365 internal nodes ]"
      ]
     },
     "metadata": {},
     "output_type": "display_data"
    },
    {
     "data": {
      "text/plain": [
       "phyloseq-class experiment-level object\n",
       "otu_table()   OTU Table:         [ 9492 taxa and 135 samples ]\n",
       "sample_data() Sample Data:       [ 135 samples by 58 sample variables ]\n",
       "tax_table()   Taxonomy Table:    [ 9492 taxa by 8 taxonomic ranks ]\n",
       "phy_tree()    Phylogenetic Tree: [ 9492 tips and 8365 internal nodes ]"
      ]
     },
     "metadata": {},
     "output_type": "display_data"
    }
   ],
   "source": [
    "ps_Clipped =subset_samples(ps, Type==\"Clipped\")\n",
    "ps_Clipped\n",
    "\n",
    "ps_paired = subset_samples(ps_Clipped, Pairs==\"paired\")\n",
    "ps_paired\n",
    "\n"
   ]
  },
  {
   "cell_type": "code",
   "execution_count": 7,
   "id": "a5a5b572-b240-4f8e-82b0-bc7b8f428e80",
   "metadata": {},
   "outputs": [
    {
     "data": {
      "text/plain": [
       "phyloseq-class experiment-level object\n",
       "otu_table()   OTU Table:         [ 117 taxa and 135 samples ]\n",
       "sample_data() Sample Data:       [ 135 samples by 58 sample variables ]\n",
       "tax_table()   Taxonomy Table:    [ 117 taxa by 8 taxonomic ranks ]\n",
       "phy_tree()    Phylogenetic Tree: [ 117 tips and 96 internal nodes ]"
      ]
     },
     "metadata": {},
     "output_type": "display_data"
    }
   ],
   "source": [
    "ps_paired_fill = filter_taxa(ps_paired, function(x) sum(x > 5) > (0.1*length(x)), TRUE) %>% tax_fix()\n",
    "ps_paired_fill\n",
    "                           \n",
    "sample_data(ps_paired_fill)$Combo <- factor(sample_data(ps_paired_fill)$Combo,\n",
    "                                          levels = c(\"Ambient_Placebo\", \"NH4_Placebo\", \"Ambient_Pathogen\", \"NH4_Pathogen\"))\n",
    "                                                                                    "
   ]
  },
  {
   "cell_type": "code",
   "execution_count": 8,
   "id": "3d36a251-d079-4cbc-8793-82770a82a2bd",
   "metadata": {},
   "outputs": [
    {
     "name": "stderr",
     "output_type": "stream",
     "text": [
      "\u001b[1m\u001b[22m`summarise()` has grouped output by 'Combo'. You can override using the\n",
      "`.groups` argument.\n"
     ]
    },
    {
     "data": {
      "text/html": [
       "<table class=\"dataframe\">\n",
       "<caption>A grouped_df: 7 × 3</caption>\n",
       "<thead>\n",
       "\t<tr><th scope=col>Combo</th><th scope=col>Health</th><th scope=col>Paired</th></tr>\n",
       "\t<tr><th scope=col>&lt;fct&gt;</th><th scope=col>&lt;chr&gt;</th><th scope=col>&lt;int&gt;</th></tr>\n",
       "</thead>\n",
       "<tbody>\n",
       "\t<tr><td>Ambient_Placebo </td><td>AH</td><td>36</td></tr>\n",
       "\t<tr><td>NH4_Placebo     </td><td>AH</td><td>36</td></tr>\n",
       "\t<tr><td>NH4_Placebo     </td><td>DL</td><td> 5</td></tr>\n",
       "\t<tr><td>Ambient_Pathogen</td><td>AH</td><td> 3</td></tr>\n",
       "\t<tr><td>Ambient_Pathogen</td><td>DL</td><td>23</td></tr>\n",
       "\t<tr><td>NH4_Pathogen    </td><td>AH</td><td> 2</td></tr>\n",
       "\t<tr><td>NH4_Pathogen    </td><td>DL</td><td>30</td></tr>\n",
       "</tbody>\n",
       "</table>\n"
      ],
      "text/latex": [
       "A grouped\\_df: 7 × 3\n",
       "\\begin{tabular}{lll}\n",
       " Combo & Health & Paired\\\\\n",
       " <fct> & <chr> & <int>\\\\\n",
       "\\hline\n",
       "\t Ambient\\_Placebo  & AH & 36\\\\\n",
       "\t NH4\\_Placebo      & AH & 36\\\\\n",
       "\t NH4\\_Placebo      & DL &  5\\\\\n",
       "\t Ambient\\_Pathogen & AH &  3\\\\\n",
       "\t Ambient\\_Pathogen & DL & 23\\\\\n",
       "\t NH4\\_Pathogen     & AH &  2\\\\\n",
       "\t NH4\\_Pathogen     & DL & 30\\\\\n",
       "\\end{tabular}\n"
      ],
      "text/markdown": [
       "\n",
       "A grouped_df: 7 × 3\n",
       "\n",
       "| Combo &lt;fct&gt; | Health &lt;chr&gt; | Paired &lt;int&gt; |\n",
       "|---|---|---|\n",
       "| Ambient_Placebo  | AH | 36 |\n",
       "| NH4_Placebo      | AH | 36 |\n",
       "| NH4_Placebo      | DL |  5 |\n",
       "| Ambient_Pathogen | AH |  3 |\n",
       "| Ambient_Pathogen | DL | 23 |\n",
       "| NH4_Pathogen     | AH |  2 |\n",
       "| NH4_Pathogen     | DL | 30 |\n",
       "\n"
      ],
      "text/plain": [
       "  Combo            Health Paired\n",
       "1 Ambient_Placebo  AH     36    \n",
       "2 NH4_Placebo      AH     36    \n",
       "3 NH4_Placebo      DL      5    \n",
       "4 Ambient_Pathogen AH      3    \n",
       "5 Ambient_Pathogen DL     23    \n",
       "6 NH4_Pathogen     AH      2    \n",
       "7 NH4_Pathogen     DL     30    "
      ]
     },
     "metadata": {},
     "output_type": "display_data"
    }
   ],
   "source": [
    "sample_data(ps_paired_fill) %>%\n",
    "  group_by(Combo, Health) %>%\n",
    "  summarize(Paired = n())"
   ]
  },
  {
   "cell_type": "code",
   "execution_count": 9,
   "id": "393e7406-d369-4ea8-9992-9a1986d24498",
   "metadata": {},
   "outputs": [
    {
     "name": "stderr",
     "output_type": "stream",
     "text": [
      "Checking the input data type ...\n",
      "\n",
      "The input data is of type: phyloseq\n",
      "\n",
      "PASS\n",
      "\n",
      "Checking the sample metadata ...\n",
      "\n",
      "The specified variables in the formula: Combo\n",
      "\n",
      "The available variables in the sample metadata: sample_names, featurecounts, Initial_sample_ID, Tag, start_date, event_date, Date_Collected, Date, TimePoint, Replicate, Genotype, Nursery, Nutrients, Diseased, Combo, Tank_N, Tank_D1, Tank_D2, Type, Health, Outcome, Notes, Severity, Survivorship, Pairs, Combo_health, Archive_box, Genotype.1, NH4_Susceptibility, Disease_Susceptibility, NH4_Disease_Susceptibility, Expected, Surv_disease, Surv_nutrients, surv, std.err, barcode_label, barcode_seq, ID, Sequencing_Round, Plate_Name, Plate_Barcode, Well_Position, Sequence_Name, Illumina5_Adapter, Forward_Primer_Pad, Golay_Barcode, X515FB_Forward_Primer, Primer_For_PCR, X, estimate, error, lower, upper, name, model, Simpson, Shannon\n",
      "\n",
      "PASS\n",
      "\n",
      "Checking other arguments ...\n",
      "\n",
      "The number of groups of interest is: 4\n",
      "\n",
      "The sample size per group is: Ambient_Placebo = 36, NH4_Placebo = 41, Ambient_Pathogen = 26, NH4_Pathogen = 32\n",
      "\n",
      "PASS\n",
      "\n",
      "Obtaining initial estimates ...\n",
      "\n",
      "boundary (singular) fit: see help('isSingular')\n",
      "\n",
      "Estimating sample-specific biases ...\n",
      "\n",
      "boundary (singular) fit: see help('isSingular')\n",
      "\n",
      "Conducting sensitivity analysis for pseudo-count addition to 0s ...\n",
      "For taxa that are significant but do not pass the sensitivity analysis,\n",
      "please flag them and proceed with caution, as they are likely false positives.\n",
      "For detailed instructions on performing sensitivity analysis,\n",
      "please refer to the package vignette.\n",
      "\n",
      "ANCOM-BC2 primary results ...\n",
      "\n",
      "ANCOM-BC2 global test ...\n",
      "\n",
      "Warning message in optwrap(optimizer, devfun, x@theta, lower = x@lower, calc.derivs = TRUE, :\n",
      "“convergence code 3 from bobyqa: bobyqa -- a trust region step failed to reduce q”\n",
      "Warning message in optwrap(optimizer, devfun, x@theta, lower = x@lower, calc.derivs = TRUE, :\n",
      "“convergence code 3 from bobyqa: bobyqa -- a trust region step failed to reduce q”\n",
      "ANCOM-BC2 multiple pairwise comparisons ...\n",
      "\n",
      "Warning message in optwrap(optimizer, devfun, x@theta, lower = x@lower, calc.derivs = TRUE, :\n",
      "“convergence code 3 from bobyqa: bobyqa -- a trust region step failed to reduce q”\n",
      "Warning message in optwrap(optimizer, devfun, x@theta, lower = x@lower, calc.derivs = TRUE, :\n",
      "“convergence code 3 from bobyqa: bobyqa -- a trust region step failed to reduce q”\n",
      "ANCOM-BC2 multiple pairwise comparisons against the reference group ...\n",
      "\n",
      "ANCOM-BC2 pattern analysis ...\n",
      "\n"
     ]
    }
   ],
   "source": [
    "set.seed(123)\n",
    "output = ancombc2(data = ps_paired_fill , tax_level = \"ASVs\",\n",
    "                  fix_formula = \"Combo\", \n",
    "                  rand_formula = \"(1| Genotype)\",\n",
    "                  p_adj_method = \"holm\",  pairwise = TRUE,\n",
    "                  group = \"Combo\",struc_zero = TRUE, alpha = 0.001,\n",
    "                  n_cl=4, prv_cut = 0,\n",
    "                  global = TRUE, dunnet = TRUE, trend = TRUE,\n",
    "                  #lme_control = lme4::lmerControl(),\n",
    "                   trend_control = list(\n",
    "  contrast = list(\n",
    "    diag(3),  # simple identity contrasts (you can define custom ones too)\n",
    "    matrix(c(1, -1, 0,\n",
    "             0, 1, -1,\n",
    "             -1, 0, 1), nrow = 3, byrow = TRUE)\n",
    "  ),\n",
    "  node = list(1, 1),  # corresponds to each contrast above\n",
    "  solver = \"ECOS\",\n",
    "  B = 10\n",
    "))\n",
    "        "
   ]
  },
  {
   "cell_type": "code",
   "execution_count": 10,
   "id": "451ef853-c288-4055-8f35-b9790c5c22c8",
   "metadata": {},
   "outputs": [],
   "source": [
    "# Extract results\n",
    "res_global <- output$res_global\n",
    "res_pair <- output$res_pair\n",
    "\n",
    "# Add taxonomy\n",
    "taxa_df <- tax_table(ps_paired_fill) %>% \n",
    "  as.data.frame() %>% \n",
    "  rownames_to_column(\"taxon\")\n",
    "\n",
    "res_global <- res_global %>%\n",
    "  left_join(taxa_df, by = \"taxon\")\n",
    "\n",
    "res_pair <- res_pair %>%\n",
    "  left_join(taxa_df, by = \"taxon\")"
   ]
  },
  {
   "cell_type": "code",
   "execution_count": 16,
   "id": "037f1414-8f32-40c2-8370-6ee043b3a2e5",
   "metadata": {},
   "outputs": [
    {
     "data": {
      "image/png": "[encoded data removed]",
      "text/plain": [
       "plot without title"
      ]
     },
     "metadata": {
      "image/png": {
       "height": 420,
       "width": 420
      }
     },
     "output_type": "display_data"
    }
   ],
   "source": [
    "\n",
    "\n",
    "\n",
    "\n",
    "#Add taxonomy to global results\n",
    "res_global <- output$res_global\n",
    "taxa_df <- tax_table(ps_paired_fill) %>%\n",
    "  as.data.frame() %>%\n",
    "  rownames_to_column(\"taxon\")\n",
    "\n",
    "df_global <- res_global %>%\n",
    "  left_join(taxa_df, by = \"taxon\")\n",
    "\n",
    "# Add taxonomy to pairwise result\n",
    "res_pair <- output$res_pair\n",
    "df_fig_global <- res_pair %>%\n",
    "  dplyr::select(taxon,\n",
    "                lfc_ComboAmbient_Pathogen_ComboNH4_Placebo,\n",
    "                lfc_ComboNH4_Pathogen_ComboNH4_Placebo,\n",
    "                lfc_ComboNH4_Pathogen_ComboAmbient_Pathogen,\n",
    "                passed_ss_ComboAmbient_Pathogen_ComboNH4_Placebo,\n",
    "                passed_ss_ComboNH4_Pathogen_ComboNH4_Placebo,\n",
    "                passed_ss_ComboNH4_Pathogen_ComboAmbient_Pathogen) %>%\n",
    "  left_join(taxa_df, by = \"taxon\") %>%\n",
    "  dplyr::mutate(\n",
    "    `Ambient_Pathogen - NH4_Placebo` = round(lfc_ComboAmbient_Pathogen_ComboNH4_Placebo, 2),\n",
    "    `NH4_Pathogen - NH4_Placebo` = round(lfc_ComboNH4_Pathogen_ComboNH4_Placebo, 2),\n",
    "    `NH4_Pathogen - Ambient_Pathogen` = round(lfc_ComboNH4_Pathogen_ComboAmbient_Pathogen, 2),\n",
    "    color = ifelse(\n",
    "      passed_ss_ComboAmbient_Pathogen_ComboNH4_Placebo == 1 |\n",
    "        passed_ss_ComboNH4_Pathogen_ComboNH4_Placebo == 1 |\n",
    "        passed_ss_ComboNH4_Pathogen_ComboAmbient_Pathogen == 1,\n",
    "      \"aquamarine3\", \"black\")\n",
    "  ) %>%\n",
    "  dplyr::select(taxon,\n",
    "                `Ambient_Pathogen - NH4_Placebo`,\n",
    "                `NH4_Pathogen - NH4_Placebo`,\n",
    "                `NH4_Pathogen - Ambient_Pathogen`,\n",
    "                color,\n",
    "                everything()) %>%\n",
    "  tidyr::pivot_longer(cols = c(`Ambient_Pathogen - NH4_Placebo`,\n",
    "                                `NH4_Pathogen - NH4_Placebo`,\n",
    "                                `NH4_Pathogen - Ambient_Pathogen`),\n",
    "                      names_to = \"Comparison\",\n",
    "                      values_to = \"LFC\") %>%\n",
    "  arrange(taxon)\n",
    "\n",
    "\n",
    "\n",
    "\n",
    "head(df_fig_global)\n",
    "\n",
    "\n",
    "\n",
    "# 5. Plot\n",
    "df_fig_global$Comparison <- factor(df_fig_global$Comparison,\n",
    "                                   levels = c(\"Ambient_Pathogen - NH4_Placebo\",\n",
    "                                              \"NH4_Pathogen - NH4_Placebo\",\n",
    "                                              \"NH4_Pathogen - Ambient_Pathogen\"))\n",
    "\n",
    "lo <- floor(min(df_fig_global$LFC, na.rm = TRUE))\n",
    "up <- ceiling(max(df_fig_global$LFC, na.rm = TRUE))\n",
    "mid <- (lo + up)/2\n",
    "\n",
    "\n",
    "\n",
    "\n",
    "fig_global <- df_fig_global %>%\n",
    "filter(LFC < -0.5 | LFC > 0.5)  %>%\n",
    "#filter (LFC!=0) %>%\n",
    "mutate(across(where(is.character), ~ str_replace_all(.x, \"o__\", \"\"))) %>%\n",
    "mutate(across(where(is.character), ~ str_replace_all(.x, \"ASV_\", \"\"))) %>%\n",
    "mutate(across(where(is.character), ~ str_replace_all(.x, \"_Placebo\", \"Placebo\"))) %>%\n",
    "ggplot(aes(x = Comparison, y = ASVs, fill = LFC)) +\n",
    "  geom_tile(color = \"black\") +\n",
    "  scale_fill_gradient2(low = \"blue\", high = \"#AA4A74\", mid = \"white\",\n",
    "                       na.value = \"white\", \n",
    "                       midpoint = mid,\n",
    "                       limit = c(lo, up),\n",
    "                       name = NULL) +\n",
    "\n",
    "  #geom_text(aes(label = LFC), color = \"black\", size = 4) +\n",
    "  #labs(x = NULL, y = NULL, title = \"Log fold changes for globally significant taxa\") +\n",
    "  theme_bw() +\n",
    "  #theme(\n",
    "#plot.title = element_text(hjust = 0.5),\n",
    "        #axis.text.y = element_text(color = df_fig_global %>%\n",
    "         #                            dplyr::distinct(taxon, color) %>%\n",
    "          #                           .$color)) +\n",
    "  facet_grid(Order~Comparison, \n",
    "            space = \"free\" ,\n",
    "             scales = \"free\",\n",
    "             switch = \"y\"\n",
    "            ) +\n",
    "guides(fill = guide_legend(reverse = TRUE, \n",
    "                             barwidth = 0.3, \n",
    "                             barheight = 4)) +\n",
    "\n",
    "  theme(\n",
    "    axis.title.x = element_text(size = 5),\n",
    "    axis.title.y = element_text(size = 5),\n",
    "     axis.text.x = element_text(size=4),\n",
    "      axis.text.y = element_text(size=3),\n",
    "    legend.text = element_text(size = 4),\n",
    "    legend.title = element_text(size = 4), \n",
    "      strip.text.y.left = element_text(angle = 0, size=4),\n",
    "      strip.text.x = element_blank(),\n",
    "        panel.spacing.x = unit(0.0, \"lines\"),\n",
    "    panel.spacing.y = unit(0.0, \"lines\")\n",
    "  ) +\n",
    "scale_x_discrete(labels = c(\n",
    "  \"Ambient_Pathogen - NH4_Placebo\" = expression(\"Ambient+D\" - NH[4] + P),\n",
    "  \"NH4_Pathogen - NH4_Placebo\" = expression(NH[4] + D - NH[4] + P),\n",
    "  \"NH4_Pathogen - Ambient_Pathogen\" = expression(NH[4] + D - \"Ambient+D\")\n",
    ")) +\n",
    "ylab(\"ASVs and Orders\")\n",
    "\n",
    "             \n",
    "print(fig_global)\n",
    "\n",
    "ggsave(\"/Users/stephanie.rosales/Documents/omics_projects/Resitada/figures/new_ANCOM_combo.jpg\", \n",
    "      width = 4, height = 4, units = \"in\", dpi=300)"
   ]
  },
  {
   "cell_type": "code",
   "execution_count": 13,
   "id": "65858833-09b0-4e94-9581-7ec90fa1b75f",
   "metadata": {},
   "outputs": [
    {
     "data": {
      "text/html": [
       "<table class=\"dataframe\">\n",
       "<caption>A tibble: 6 × 18</caption>\n",
       "<thead>\n",
       "\t<tr><th scope=col>taxon</th><th scope=col>color</th><th scope=col>lfc_ComboAmbient_Pathogen_ComboNH4_Placebo</th><th scope=col>lfc_ComboNH4_Pathogen_ComboNH4_Placebo</th><th scope=col>lfc_ComboNH4_Pathogen_ComboAmbient_Pathogen</th><th scope=col>passed_ss_ComboAmbient_Pathogen_ComboNH4_Placebo</th><th scope=col>passed_ss_ComboNH4_Pathogen_ComboNH4_Placebo</th><th scope=col>passed_ss_ComboNH4_Pathogen_ComboAmbient_Pathogen</th><th scope=col>Kingdom</th><th scope=col>Phylum</th><th scope=col>Class</th><th scope=col>Order</th><th scope=col>Family</th><th scope=col>Genus</th><th scope=col>Species</th><th scope=col>ASVs</th><th scope=col>Comparison</th><th scope=col>LFC</th></tr>\n",
       "\t<tr><th scope=col>&lt;chr&gt;</th><th scope=col>&lt;chr&gt;</th><th scope=col>&lt;dbl&gt;</th><th scope=col>&lt;dbl&gt;</th><th scope=col>&lt;dbl&gt;</th><th scope=col>&lt;lgl&gt;</th><th scope=col>&lt;lgl&gt;</th><th scope=col>&lt;lgl&gt;</th><th scope=col>&lt;chr&gt;</th><th scope=col>&lt;chr&gt;</th><th scope=col>&lt;chr&gt;</th><th scope=col>&lt;chr&gt;</th><th scope=col>&lt;chr&gt;</th><th scope=col>&lt;chr&gt;</th><th scope=col>&lt;chr&gt;</th><th scope=col>&lt;chr&gt;</th><th scope=col>&lt;fct&gt;</th><th scope=col>&lt;dbl&gt;</th></tr>\n",
       "</thead>\n",
       "<tbody>\n",
       "\t<tr><td>09f2b55ea4f56193699d46368ecbff40</td><td>aquamarine3</td><td>-0.03947868</td><td>0.1798749</td><td>0.2193536</td><td>TRUE</td><td>TRUE</td><td>TRUE</td><td>d__Bacteria</td><td> p__Proteobacteria</td><td> c__Alphaproteobacteria</td><td> o__Rhodobacterales</td><td> f__Rhodobacteraceae</td><td> f__Rhodobacteraceae Family</td><td> f__Rhodobacteraceae Family</td><td>ASV_388</td><td>Ambient_Pathogen - NH4_Placebo </td><td>-0.04</td></tr>\n",
       "\t<tr><td>09f2b55ea4f56193699d46368ecbff40</td><td>aquamarine3</td><td>-0.03947868</td><td>0.1798749</td><td>0.2193536</td><td>TRUE</td><td>TRUE</td><td>TRUE</td><td>d__Bacteria</td><td> p__Proteobacteria</td><td> c__Alphaproteobacteria</td><td> o__Rhodobacterales</td><td> f__Rhodobacteraceae</td><td> f__Rhodobacteraceae Family</td><td> f__Rhodobacteraceae Family</td><td>ASV_388</td><td>NH4_Pathogen - NH4_Placebo     </td><td> 0.18</td></tr>\n",
       "\t<tr><td>09f2b55ea4f56193699d46368ecbff40</td><td>aquamarine3</td><td>-0.03947868</td><td>0.1798749</td><td>0.2193536</td><td>TRUE</td><td>TRUE</td><td>TRUE</td><td>d__Bacteria</td><td> p__Proteobacteria</td><td> c__Alphaproteobacteria</td><td> o__Rhodobacterales</td><td> f__Rhodobacteraceae</td><td> f__Rhodobacteraceae Family</td><td> f__Rhodobacteraceae Family</td><td>ASV_388</td><td>NH4_Pathogen - Ambient_Pathogen</td><td> 0.22</td></tr>\n",
       "\t<tr><td>0dac61f4ff220705ae63e2398585ee5c</td><td>aquamarine3</td><td>-0.04838257</td><td>0.2725094</td><td>0.3208919</td><td>TRUE</td><td>TRUE</td><td>TRUE</td><td>d__Bacteria</td><td> p__Proteobacteria</td><td> c__Alphaproteobacteria</td><td> o__Rhodobacterales</td><td> f__Rhodobacteraceae</td><td> f__Rhodobacteraceae Family</td><td> f__Rhodobacteraceae Family</td><td>ASV_552</td><td>Ambient_Pathogen - NH4_Placebo </td><td>-0.05</td></tr>\n",
       "\t<tr><td>0dac61f4ff220705ae63e2398585ee5c</td><td>aquamarine3</td><td>-0.04838257</td><td>0.2725094</td><td>0.3208919</td><td>TRUE</td><td>TRUE</td><td>TRUE</td><td>d__Bacteria</td><td> p__Proteobacteria</td><td> c__Alphaproteobacteria</td><td> o__Rhodobacterales</td><td> f__Rhodobacteraceae</td><td> f__Rhodobacteraceae Family</td><td> f__Rhodobacteraceae Family</td><td>ASV_552</td><td>NH4_Pathogen - NH4_Placebo     </td><td> 0.27</td></tr>\n",
       "\t<tr><td>0dac61f4ff220705ae63e2398585ee5c</td><td>aquamarine3</td><td>-0.04838257</td><td>0.2725094</td><td>0.3208919</td><td>TRUE</td><td>TRUE</td><td>TRUE</td><td>d__Bacteria</td><td> p__Proteobacteria</td><td> c__Alphaproteobacteria</td><td> o__Rhodobacterales</td><td> f__Rhodobacteraceae</td><td> f__Rhodobacteraceae Family</td><td> f__Rhodobacteraceae Family</td><td>ASV_552</td><td>NH4_Pathogen - Ambient_Pathogen</td><td> 0.32</td></tr>\n",
       "</tbody>\n",
       "</table>\n"
      ],
      "text/latex": [
       "A tibble: 6 × 18\n",
       "\\begin{tabular}{llllllllllllllllll}\n",
       " taxon & color & lfc\\_ComboAmbient\\_Pathogen\\_ComboNH4\\_Placebo & lfc\\_ComboNH4\\_Pathogen\\_ComboNH4\\_Placebo & lfc\\_ComboNH4\\_Pathogen\\_ComboAmbient\\_Pathogen & passed\\_ss\\_ComboAmbient\\_Pathogen\\_ComboNH4\\_Placebo & passed\\_ss\\_ComboNH4\\_Pathogen\\_ComboNH4\\_Placebo & passed\\_ss\\_ComboNH4\\_Pathogen\\_ComboAmbient\\_Pathogen & Kingdom & Phylum & Class & Order & Family & Genus & Species & ASVs & Comparison & LFC\\\\\n",
       " <chr> & <chr> & <dbl> & <dbl> & <dbl> & <lgl> & <lgl> & <lgl> & <chr> & <chr> & <chr> & <chr> & <chr> & <chr> & <chr> & <chr> & <fct> & <dbl>\\\\\n",
       "\\hline\n",
       "\t 09f2b55ea4f56193699d46368ecbff40 & aquamarine3 & -0.03947868 & 0.1798749 & 0.2193536 & TRUE & TRUE & TRUE & d\\_\\_Bacteria &  p\\_\\_Proteobacteria &  c\\_\\_Alphaproteobacteria &  o\\_\\_Rhodobacterales &  f\\_\\_Rhodobacteraceae &  f\\_\\_Rhodobacteraceae Family &  f\\_\\_Rhodobacteraceae Family & ASV\\_388 & Ambient\\_Pathogen - NH4\\_Placebo  & -0.04\\\\\n",
       "\t 09f2b55ea4f56193699d46368ecbff40 & aquamarine3 & -0.03947868 & 0.1798749 & 0.2193536 & TRUE & TRUE & TRUE & d\\_\\_Bacteria &  p\\_\\_Proteobacteria &  c\\_\\_Alphaproteobacteria &  o\\_\\_Rhodobacterales &  f\\_\\_Rhodobacteraceae &  f\\_\\_Rhodobacteraceae Family &  f\\_\\_Rhodobacteraceae Family & ASV\\_388 & NH4\\_Pathogen - NH4\\_Placebo      &  0.18\\\\\n",
       "\t 09f2b55ea4f56193699d46368ecbff40 & aquamarine3 & -0.03947868 & 0.1798749 & 0.2193536 & TRUE & TRUE & TRUE & d\\_\\_Bacteria &  p\\_\\_Proteobacteria &  c\\_\\_Alphaproteobacteria &  o\\_\\_Rhodobacterales &  f\\_\\_Rhodobacteraceae &  f\\_\\_Rhodobacteraceae Family &  f\\_\\_Rhodobacteraceae Family & ASV\\_388 & NH4\\_Pathogen - Ambient\\_Pathogen &  0.22\\\\\n",
       "\t 0dac61f4ff220705ae63e2398585ee5c & aquamarine3 & -0.04838257 & 0.2725094 & 0.3208919 & TRUE & TRUE & TRUE & d\\_\\_Bacteria &  p\\_\\_Proteobacteria &  c\\_\\_Alphaproteobacteria &  o\\_\\_Rhodobacterales &  f\\_\\_Rhodobacteraceae &  f\\_\\_Rhodobacteraceae Family &  f\\_\\_Rhodobacteraceae Family & ASV\\_552 & Ambient\\_Pathogen - NH4\\_Placebo  & -0.05\\\\\n",
       "\t 0dac61f4ff220705ae63e2398585ee5c & aquamarine3 & -0.04838257 & 0.2725094 & 0.3208919 & TRUE & TRUE & TRUE & d\\_\\_Bacteria &  p\\_\\_Proteobacteria &  c\\_\\_Alphaproteobacteria &  o\\_\\_Rhodobacterales &  f\\_\\_Rhodobacteraceae &  f\\_\\_Rhodobacteraceae Family &  f\\_\\_Rhodobacteraceae Family & ASV\\_552 & NH4\\_Pathogen - NH4\\_Placebo      &  0.27\\\\\n",
       "\t 0dac61f4ff220705ae63e2398585ee5c & aquamarine3 & -0.04838257 & 0.2725094 & 0.3208919 & TRUE & TRUE & TRUE & d\\_\\_Bacteria &  p\\_\\_Proteobacteria &  c\\_\\_Alphaproteobacteria &  o\\_\\_Rhodobacterales &  f\\_\\_Rhodobacteraceae &  f\\_\\_Rhodobacteraceae Family &  f\\_\\_Rhodobacteraceae Family & ASV\\_552 & NH4\\_Pathogen - Ambient\\_Pathogen &  0.32\\\\\n",
       "\\end{tabular}\n"
      ],
      "text/markdown": [
       "\n",
       "A tibble: 6 × 18\n",
       "\n",
       "| taxon &lt;chr&gt; | color &lt;chr&gt; | lfc_ComboAmbient_Pathogen_ComboNH4_Placebo &lt;dbl&gt; | lfc_ComboNH4_Pathogen_ComboNH4_Placebo &lt;dbl&gt; | lfc_ComboNH4_Pathogen_ComboAmbient_Pathogen &lt;dbl&gt; | passed_ss_ComboAmbient_Pathogen_ComboNH4_Placebo &lt;lgl&gt; | passed_ss_ComboNH4_Pathogen_ComboNH4_Placebo &lt;lgl&gt; | passed_ss_ComboNH4_Pathogen_ComboAmbient_Pathogen &lt;lgl&gt; | Kingdom &lt;chr&gt; | Phylum &lt;chr&gt; | Class &lt;chr&gt; | Order &lt;chr&gt; | Family &lt;chr&gt; | Genus &lt;chr&gt; | Species &lt;chr&gt; | ASVs &lt;chr&gt; | Comparison &lt;fct&gt; | LFC &lt;dbl&gt; |\n",
       "|---|---|---|---|---|---|---|---|---|---|---|---|---|---|---|---|---|---|\n",
       "| 09f2b55ea4f56193699d46368ecbff40 | aquamarine3 | -0.03947868 | 0.1798749 | 0.2193536 | TRUE | TRUE | TRUE | d__Bacteria |  p__Proteobacteria |  c__Alphaproteobacteria |  o__Rhodobacterales |  f__Rhodobacteraceae |  f__Rhodobacteraceae Family |  f__Rhodobacteraceae Family | ASV_388 | Ambient_Pathogen - NH4_Placebo  | -0.04 |\n",
       "| 09f2b55ea4f56193699d46368ecbff40 | aquamarine3 | -0.03947868 | 0.1798749 | 0.2193536 | TRUE | TRUE | TRUE | d__Bacteria |  p__Proteobacteria |  c__Alphaproteobacteria |  o__Rhodobacterales |  f__Rhodobacteraceae |  f__Rhodobacteraceae Family |  f__Rhodobacteraceae Family | ASV_388 | NH4_Pathogen - NH4_Placebo      |  0.18 |\n",
       "| 09f2b55ea4f56193699d46368ecbff40 | aquamarine3 | -0.03947868 | 0.1798749 | 0.2193536 | TRUE | TRUE | TRUE | d__Bacteria |  p__Proteobacteria |  c__Alphaproteobacteria |  o__Rhodobacterales |  f__Rhodobacteraceae |  f__Rhodobacteraceae Family |  f__Rhodobacteraceae Family | ASV_388 | NH4_Pathogen - Ambient_Pathogen |  0.22 |\n",
       "| 0dac61f4ff220705ae63e2398585ee5c | aquamarine3 | -0.04838257 | 0.2725094 | 0.3208919 | TRUE | TRUE | TRUE | d__Bacteria |  p__Proteobacteria |  c__Alphaproteobacteria |  o__Rhodobacterales |  f__Rhodobacteraceae |  f__Rhodobacteraceae Family |  f__Rhodobacteraceae Family | ASV_552 | Ambient_Pathogen - NH4_Placebo  | -0.05 |\n",
       "| 0dac61f4ff220705ae63e2398585ee5c | aquamarine3 | -0.04838257 | 0.2725094 | 0.3208919 | TRUE | TRUE | TRUE | d__Bacteria |  p__Proteobacteria |  c__Alphaproteobacteria |  o__Rhodobacterales |  f__Rhodobacteraceae |  f__Rhodobacteraceae Family |  f__Rhodobacteraceae Family | ASV_552 | NH4_Pathogen - NH4_Placebo      |  0.27 |\n",
       "| 0dac61f4ff220705ae63e2398585ee5c | aquamarine3 | -0.04838257 | 0.2725094 | 0.3208919 | TRUE | TRUE | TRUE | d__Bacteria |  p__Proteobacteria |  c__Alphaproteobacteria |  o__Rhodobacterales |  f__Rhodobacteraceae |  f__Rhodobacteraceae Family |  f__Rhodobacteraceae Family | ASV_552 | NH4_Pathogen - Ambient_Pathogen |  0.32 |\n",
       "\n"
      ],
      "text/plain": [
       "  taxon                            color      \n",
       "1 09f2b55ea4f56193699d46368ecbff40 aquamarine3\n",
       "2 09f2b55ea4f56193699d46368ecbff40 aquamarine3\n",
       "3 09f2b55ea4f56193699d46368ecbff40 aquamarine3\n",
       "4 0dac61f4ff220705ae63e2398585ee5c aquamarine3\n",
       "5 0dac61f4ff220705ae63e2398585ee5c aquamarine3\n",
       "6 0dac61f4ff220705ae63e2398585ee5c aquamarine3\n",
       "  lfc_ComboAmbient_Pathogen_ComboNH4_Placebo\n",
       "1 -0.03947868                               \n",
       "2 -0.03947868                               \n",
       "3 -0.03947868                               \n",
       "4 -0.04838257                               \n",
       "5 -0.04838257                               \n",
       "6 -0.04838257                               \n",
       "  lfc_ComboNH4_Pathogen_ComboNH4_Placebo\n",
       "1 0.1798749                             \n",
       "2 0.1798749                             \n",
       "3 0.1798749                             \n",
       "4 0.2725094                             \n",
       "5 0.2725094                             \n",
       "6 0.2725094                             \n",
       "  lfc_ComboNH4_Pathogen_ComboAmbient_Pathogen\n",
       "1 0.2193536                                  \n",
       "2 0.2193536                                  \n",
       "3 0.2193536                                  \n",
       "4 0.3208919                                  \n",
       "5 0.3208919                                  \n",
       "6 0.3208919                                  \n",
       "  passed_ss_ComboAmbient_Pathogen_ComboNH4_Placebo\n",
       "1 TRUE                                            \n",
       "2 TRUE                                            \n",
       "3 TRUE                                            \n",
       "4 TRUE                                            \n",
       "5 TRUE                                            \n",
       "6 TRUE                                            \n",
       "  passed_ss_ComboNH4_Pathogen_ComboNH4_Placebo\n",
       "1 TRUE                                        \n",
       "2 TRUE                                        \n",
       "3 TRUE                                        \n",
       "4 TRUE                                        \n",
       "5 TRUE                                        \n",
       "6 TRUE                                        \n",
       "  passed_ss_ComboNH4_Pathogen_ComboAmbient_Pathogen Kingdom    \n",
       "1 TRUE                                              d__Bacteria\n",
       "2 TRUE                                              d__Bacteria\n",
       "3 TRUE                                              d__Bacteria\n",
       "4 TRUE                                              d__Bacteria\n",
       "5 TRUE                                              d__Bacteria\n",
       "6 TRUE                                              d__Bacteria\n",
       "  Phylum             Class                   Order              \n",
       "1  p__Proteobacteria  c__Alphaproteobacteria  o__Rhodobacterales\n",
       "2  p__Proteobacteria  c__Alphaproteobacteria  o__Rhodobacterales\n",
       "3  p__Proteobacteria  c__Alphaproteobacteria  o__Rhodobacterales\n",
       "4  p__Proteobacteria  c__Alphaproteobacteria  o__Rhodobacterales\n",
       "5  p__Proteobacteria  c__Alphaproteobacteria  o__Rhodobacterales\n",
       "6  p__Proteobacteria  c__Alphaproteobacteria  o__Rhodobacterales\n",
       "  Family               Genus                       Species                    \n",
       "1  f__Rhodobacteraceae  f__Rhodobacteraceae Family  f__Rhodobacteraceae Family\n",
       "2  f__Rhodobacteraceae  f__Rhodobacteraceae Family  f__Rhodobacteraceae Family\n",
       "3  f__Rhodobacteraceae  f__Rhodobacteraceae Family  f__Rhodobacteraceae Family\n",
       "4  f__Rhodobacteraceae  f__Rhodobacteraceae Family  f__Rhodobacteraceae Family\n",
       "5  f__Rhodobacteraceae  f__Rhodobacteraceae Family  f__Rhodobacteraceae Family\n",
       "6  f__Rhodobacteraceae  f__Rhodobacteraceae Family  f__Rhodobacteraceae Family\n",
       "  ASVs    Comparison                      LFC  \n",
       "1 ASV_388 Ambient_Pathogen - NH4_Placebo  -0.04\n",
       "2 ASV_388 NH4_Pathogen - NH4_Placebo       0.18\n",
       "3 ASV_388 NH4_Pathogen - Ambient_Pathogen  0.22\n",
       "4 ASV_552 Ambient_Pathogen - NH4_Placebo  -0.05\n",
       "5 ASV_552 NH4_Pathogen - NH4_Placebo       0.27\n",
       "6 ASV_552 NH4_Pathogen - Ambient_Pathogen  0.32"
      ]
     },
     "metadata": {},
     "output_type": "display_data"
    }
   ],
   "source": [
    "head(df_fig_global)"
   ]
  }
 ],
 "metadata": {
  "kernelspec": {
   "display_name": "R",
   "language": "R",
   "name": "ir"
  },
  "language_info": {
   "codemirror_mode": "r",
   "file_extension": ".r",
   "mimetype": "text/x-r-source",
   "name": "R",
   "pygments_lexer": "r",
   "version": "4.5.0"
  }
 },
 "nbformat": 4,
 "nbformat_minor": 5
}
