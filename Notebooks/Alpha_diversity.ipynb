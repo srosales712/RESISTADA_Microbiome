{
 "cells": [
  {
   "cell_type": "code",
   "execution_count": 1,
   "id": "93da4993",
   "metadata": {},
   "outputs": [
    {
     "data": {
      "text/plain": [
       "[1] ‘4.7.9’"
      ]
     },
     "metadata": {},
     "output_type": "display_data"
    },
    {
     "name": "stderr",
     "output_type": "stream",
     "text": [
      "Loading required package: phyloseq\n",
      "\n",
      "Loading required package: permute\n",
      "\n",
      "Loading required package: lattice\n",
      "\n",
      "This is vegan 2.5-7\n",
      "\n",
      "\n",
      "microbiome R package (microbiome.github.com)\n",
      "    \n",
      "\n",
      "\n",
      " Copyright (C) 2011-2020 Leo Lahti, \n",
      "    Sudarshan Shetty et al. <microbiome.github.io>\n",
      "\n",
      "\n",
      "\n",
      "Attaching package: ‘microbiome’\n",
      "\n",
      "\n",
      "The following object is masked from ‘package:vegan’:\n",
      "\n",
      "    diversity\n",
      "\n",
      "\n",
      "The following object is masked from ‘package:ggplot2’:\n",
      "\n",
      "    alpha\n",
      "\n",
      "\n",
      "The following object is masked from ‘package:base’:\n",
      "\n",
      "    transform\n",
      "\n",
      "\n",
      "── \u001b[1mAttaching packages\u001b[22m ────────────────────────────────────────────────────────── tidyverse 1.3.1 ──\n",
      "\n",
      "\u001b[32m✔\u001b[39m \u001b[34mreadr  \u001b[39m 2.1.2     \u001b[32m✔\u001b[39m \u001b[34mstringr\u001b[39m 1.4.0\n",
      "\u001b[32m✔\u001b[39m \u001b[34mpurrr  \u001b[39m 0.3.4     \u001b[32m✔\u001b[39m \u001b[34mforcats\u001b[39m 0.5.1\n",
      "\u001b[32m✔\u001b[39m \u001b[34mdplyr  \u001b[39m 1.0.9     \n",
      "\n",
      "── \u001b[1mConflicts\u001b[22m ───────────────────────────────────────────────────────────── tidyverse_conflicts() ──\n",
      "\u001b[31m✖\u001b[39m \u001b[34mmicrobiome\u001b[39m::\u001b[32malpha()\u001b[39m masks \u001b[34mggplot2\u001b[39m::alpha()\n",
      "\u001b[31m✖\u001b[39m \u001b[34mdplyr\u001b[39m::\u001b[32mfilter()\u001b[39m     masks \u001b[34mstats\u001b[39m::filter()\n",
      "\u001b[31m✖\u001b[39m \u001b[34mdplyr\u001b[39m::\u001b[32mlag()\u001b[39m        masks \u001b[34mstats\u001b[39m::lag()\n",
      "\n",
      "\n",
      "Attaching package: ‘magrittr’\n",
      "\n",
      "\n",
      "The following object is masked from ‘package:purrr’:\n",
      "\n",
      "    set_names\n",
      "\n",
      "\n",
      "The following object is masked from ‘package:tidyr’:\n",
      "\n",
      "    extract\n",
      "\n",
      "\n",
      "Loading required package: Matrix\n",
      "\n",
      "\n",
      "Attaching package: ‘Matrix’\n",
      "\n",
      "\n",
      "The following objects are masked from ‘package:tidyr’:\n",
      "\n",
      "    expand, pack, unpack\n",
      "\n",
      "\n",
      "Loading required package: emmeans\n",
      "\n",
      "The 'lsmeans' package is now basically a front end for 'emmeans'.\n",
      "Users are encouraged to switch the rest of the way.\n",
      "See help('transition') for more information, including how to\n",
      "convert old 'lsmeans' objects and scripts to work with 'emmeans'.\n",
      "\n"
     ]
    },
    {
     "ename": "ERROR",
     "evalue": "Error in library(microbiomeSeq): there is no package called ‘microbiomeSeq’\n",
     "output_type": "error",
     "traceback": [
      "Error in library(microbiomeSeq): there is no package called ‘microbiomeSeq’\nTraceback:\n",
      "1. library(microbiomeSeq)"
     ]
    }
   ],
   "source": [
    "library(breakaway); packageVersion(\"breakaway\")  \n",
    "library(DivNet)\n",
    "library(qiime2R)\n",
    "library(tidyr)\n",
    "library(tibble)\n",
    "library(ggplot2)\n",
    "library(vegan)\n",
    "library(microbiome)\n",
    "library(phyloseq)\n",
    "library(\"tidyverse\")\n",
    "library(\"dplyr\")\n",
    "library(magrittr)\n",
    "library(lme4)\n",
    "library(lsmeans)"
   ]
  },
  {
   "cell_type": "code",
   "execution_count": 19,
   "id": "24db9abd",
   "metadata": {},
   "outputs": [
    {
     "name": "stderr",
     "output_type": "stream",
     "text": [
      "Warning message:\n",
      "“Expected 7 pieces. Missing pieces filled with `NA` in 5374 rows [3, 6, 9, 11, 12, 14, 15, 16, 17, 18, 22, 23, 27, 31, 36, 38, 42, 45, 49, 51, ...].”\n"
     ]
    }
   ],
   "source": [
    "# Read in the 16S qza files and clean them up for phyloseq\n",
    "ASVs <- read_qza(\"/Users/stephanie.rosales/Documents/omics_projects/Resitada/qiime_output/table-BacArc_resistada.qza\")\n",
    "ASVs <- ASVs$data # Extract the count data from list\n",
    "taxa_16S <- read_qza(\"/Users/stephanie.rosales/Documents/omics_projects/Resitada/qiime_output/taxonomy_resistada.qza\")\n",
    "taxa_16S <- taxa_16S$data %>% as_tibble() %>% separate(Taxon, sep=\";\",\n",
    "c(\"Kingdom\", \"Phylum\", \"Class\", \"Order\", \"Family\", \"Genus\", \"Species\")) %>% \n",
    "# Convert taxonomy info to data frame with correct taxonomy labels\n",
    "#taxa <- taxa_16S[-1,]\n",
    "select(-Confidence) %>% arrange(Feature.ID) %>% mutate(ASV = 1:n()) %>% \n",
    "mutate(newcol = \"ASV\") %>%\n",
    "unite(\"ASVs\", newcol:ASV) %>%\n",
    "filter(Phylum !=\" p__Chlorophyta\") %>%\n",
    "filter(Phylum !=\"NA\")\n",
    "#asv_tab$asv_id <- rownames(asv_tab) # add a new column for ids\n",
    "tree_file <-read_qza(\"/Users/stephanie.rosales/Documents/omics_projects/Resitada/qiime_output/rooted-BacArc_resistada.qza\")$data"
   ]
  },
  {
   "cell_type": "code",
   "execution_count": 20,
   "id": "5d8b997b",
   "metadata": {},
   "outputs": [],
   "source": [
    "meta = read.csv(\"/Users/stephanie.rosales/Documents/omics_projects/Resitada/metadata_RESISTADA.csv\", \n",
    "                header = T, row.names = 1,\n",
    "na.strings = c(\"\", \"NA\"))"
   ]
  },
  {
   "cell_type": "code",
   "execution_count": 21,
   "id": "60dbc5b8",
   "metadata": {},
   "outputs": [
    {
     "data": {
      "text/plain": [
       "phyloseq-class experiment-level object\n",
       "otu_table()   OTU Table:         [ 9492 taxa and 280 samples ]\n",
       "sample_data() Sample Data:       [ 280 samples by 51 sample variables ]\n",
       "tax_table()   Taxonomy Table:    [ 9492 taxa by 8 taxonomic ranks ]\n",
       "phy_tree()    Phylogenetic Tree: [ 9492 tips and 8365 internal nodes ]"
      ]
     },
     "metadata": {},
     "output_type": "display_data"
    },
    {
     "data": {
      "text/plain": [
       "phyloseq-class experiment-level object\n",
       "otu_table()   OTU Table:         [ 9492 taxa and 257 samples ]\n",
       "sample_data() Sample Data:       [ 257 samples by 51 sample variables ]\n",
       "tax_table()   Taxonomy Table:    [ 9492 taxa by 8 taxonomic ranks ]\n",
       "phy_tree()    Phylogenetic Tree: [ 9492 tips and 8365 internal nodes ]"
      ]
     },
     "metadata": {},
     "output_type": "display_data"
    }
   ],
   "source": [
    "ps= phyloseq(otu_table(ASVs, taxa_are_rows= T),\n",
    "tax_table(as.data.frame(taxa_16S) %>% column_to_rownames(\"Feature.ID\") %>%\n",
    "as.matrix()), sample_data(meta), tree_file)\n",
    "ps\n",
    "\n",
    "dups = c(\"N169_256_R2\", \"N157_265_R2\", \"N165_296_R2\", \"N161_A067_R2\", \"N185_A088_R2\",\n",
    "                                 \"N164_A089_R2\",\"N119_A107\",\"N267_A110\",\"N7_A114\", \"N156_A115\",\"N158_A116\",\n",
    "                                 \"N101_A118\",\"N160_A119\",\"N277_A125\")\n",
    "\n",
    "ps = subset_samples(ps, !ID %in% dups & Genotype!=c(\"U41\"))\n",
    "                                                    #,\"U44\")) \n",
    "ps\n"
   ]
  },
  {
   "cell_type": "code",
   "execution_count": 22,
   "id": "1d494829",
   "metadata": {},
   "outputs": [
    {
     "data": {
      "text/plain": [
       "phyloseq-class experiment-level object\n",
       "otu_table()   OTU Table:         [ 9492 taxa and 192 samples ]\n",
       "sample_data() Sample Data:       [ 192 samples by 51 sample variables ]\n",
       "tax_table()   Taxonomy Table:    [ 9492 taxa by 8 taxonomic ranks ]\n",
       "phy_tree()    Phylogenetic Tree: [ 9492 tips and 8365 internal nodes ]"
      ]
     },
     "metadata": {},
     "output_type": "display_data"
    }
   ],
   "source": [
    "ps_Clipped =subset_samples(ps, Type==\"Clipped\")\n",
    "ps_Clipped\n"
   ]
  },
  {
   "cell_type": "code",
   "execution_count": 12,
   "id": "63d9884d",
   "metadata": {},
   "outputs": [],
   "source": [
    "glom_ps_phy =tax_glom(t(ps_Clipped), taxrank=\"Genus\")"
   ]
  },
  {
   "cell_type": "code",
   "execution_count": 13,
   "id": "d7512281",
   "metadata": {},
   "outputs": [
    {
     "data": {
      "text/plain": [
       "phyloseq-class experiment-level object\n",
       "otu_table()   OTU Table:         [ 619 taxa and 192 samples ]\n",
       "sample_data() Sample Data:       [ 192 samples by 44 sample variables ]\n",
       "tax_table()   Taxonomy Table:    [ 619 taxa by 8 taxonomic ranks ]\n",
       "phy_tree()    Phylogenetic Tree: [ 619 tips and 618 internal nodes ]"
      ]
     },
     "metadata": {},
     "output_type": "display_data"
    }
   ],
   "source": [
    "glom_ps_phy"
   ]
  },
  {
   "cell_type": "code",
   "execution_count": 22,
   "id": "a8969eb4",
   "metadata": {},
   "outputs": [
    {
     "name": "stderr",
     "output_type": "stream",
     "text": [
      "Removing absent taxa!\n",
      "\n"
     ]
    },
    {
     "name": "stdout",
     "output_type": "stream",
     "text": [
      "\r",
      "  |                                                                            \r",
      "  |                                                                      |   0%"
     ]
    },
    {
     "name": "stderr",
     "output_type": "stream",
     "text": [
      "Warning message in MCmat(Y = Y_p, W = W, eY = eY, N = N, Q = Q, base = base, sigma = sigma, :\n",
      "“Running in series; one of the packages doParallel, foreach or doSNOW is missing”\n"
     ]
    },
    {
     "name": "stdout",
     "output_type": "stream",
     "text": [
      "\r",
      "  |                                                                            \r",
      "  |============                                                          |  17%"
     ]
    },
    {
     "name": "stderr",
     "output_type": "stream",
     "text": [
      "Warning message in MCmat(Y = Y_p, W = W, eY = eY, N = N, Q = Q, base = base, sigma = sigma, :\n",
      "“Running in series; one of the packages doParallel, foreach or doSNOW is missing”\n"
     ]
    },
    {
     "name": "stdout",
     "output_type": "stream",
     "text": [
      "\r",
      "  |                                                                            \r",
      "  |=======================                                               |  33%"
     ]
    },
    {
     "name": "stderr",
     "output_type": "stream",
     "text": [
      "Warning message in MCmat(Y = Y_p, W = W, eY = eY, N = N, Q = Q, base = base, sigma = sigma, :\n",
      "“Running in series; one of the packages doParallel, foreach or doSNOW is missing”\n"
     ]
    },
    {
     "name": "stdout",
     "output_type": "stream",
     "text": [
      "\r",
      "  |                                                                            \r",
      "  |===================================                                   |  50%"
     ]
    },
    {
     "name": "stderr",
     "output_type": "stream",
     "text": [
      "Warning message in MCmat(Y = Y_p, W = W, eY = eY, N = N, Q = Q, base = base, sigma = sigma, :\n",
      "“Running in series; one of the packages doParallel, foreach or doSNOW is missing”\n"
     ]
    },
    {
     "name": "stdout",
     "output_type": "stream",
     "text": [
      "\r",
      "  |                                                                            \r",
      "  |===============================================                       |  67%"
     ]
    },
    {
     "name": "stderr",
     "output_type": "stream",
     "text": [
      "Warning message in MCmat(Y = Y_p, W = W, eY = eY, N = N, Q = Q, base = base, sigma = sigma, :\n",
      "“Running in series; one of the packages doParallel, foreach or doSNOW is missing”\n"
     ]
    },
    {
     "name": "stdout",
     "output_type": "stream",
     "text": [
      "\r",
      "  |                                                                            \r",
      "  |==========================================================            |  83%"
     ]
    },
    {
     "name": "stderr",
     "output_type": "stream",
     "text": [
      "Warning message in MCmat(Y = Y_p, W = W, eY = eY, N = N, Q = Q, base = base, sigma = sigma, :\n",
      "“Running in series; one of the packages doParallel, foreach or doSNOW is missing”\n"
     ]
    },
    {
     "name": "stdout",
     "output_type": "stream",
     "text": [
      "  |======================================================================| 100%\n",
      "  |                                                                      |   0%"
     ]
    },
    {
     "name": "stderr",
     "output_type": "stream",
     "text": [
      "Warning message in MCmat(Y = Y_p, W = W, eY = eY, N = N, Q = Q, base = base, sigma = sigma, :\n",
      "“Running in series; one of the packages doParallel, foreach or doSNOW is missing”\n"
     ]
    },
    {
     "name": "stdout",
     "output_type": "stream",
     "text": [
      "\r",
      "  |                                                                            \r",
      "  |============                                                          |  17%"
     ]
    },
    {
     "name": "stderr",
     "output_type": "stream",
     "text": [
      "Warning message in MCmat(Y = Y_p, W = W, eY = eY, N = N, Q = Q, base = base, sigma = sigma, :\n",
      "“Running in series; one of the packages doParallel, foreach or doSNOW is missing”\n"
     ]
    },
    {
     "name": "stdout",
     "output_type": "stream",
     "text": [
      "\r",
      "  |                                                                            \r",
      "  |=======================                                               |  33%"
     ]
    },
    {
     "name": "stderr",
     "output_type": "stream",
     "text": [
      "Warning message in MCmat(Y = Y_p, W = W, eY = eY, N = N, Q = Q, base = base, sigma = sigma, :\n",
      "“Running in series; one of the packages doParallel, foreach or doSNOW is missing”\n"
     ]
    },
    {
     "name": "stdout",
     "output_type": "stream",
     "text": [
      "\r",
      "  |                                                                            \r",
      "  |===================================                                   |  50%"
     ]
    },
    {
     "name": "stderr",
     "output_type": "stream",
     "text": [
      "Warning message in MCmat(Y = Y_p, W = W, eY = eY, N = N, Q = Q, base = base, sigma = sigma, :\n",
      "“Running in series; one of the packages doParallel, foreach or doSNOW is missing”\n"
     ]
    },
    {
     "name": "stdout",
     "output_type": "stream",
     "text": [
      "\r",
      "  |                                                                            \r",
      "  |===============================================                       |  67%"
     ]
    },
    {
     "name": "stderr",
     "output_type": "stream",
     "text": [
      "Warning message in MCmat(Y = Y_p, W = W, eY = eY, N = N, Q = Q, base = base, sigma = sigma, :\n",
      "“Running in series; one of the packages doParallel, foreach or doSNOW is missing”\n"
     ]
    },
    {
     "name": "stdout",
     "output_type": "stream",
     "text": [
      "\r",
      "  |                                                                            \r",
      "  |==========================================================            |  83%"
     ]
    },
    {
     "name": "stderr",
     "output_type": "stream",
     "text": [
      "Warning message in MCmat(Y = Y_p, W = W, eY = eY, N = N, Q = Q, base = base, sigma = sigma, :\n",
      "“Running in series; one of the packages doParallel, foreach or doSNOW is missing”\n"
     ]
    },
    {
     "name": "stdout",
     "output_type": "stream",
     "text": [
      "  |======================================================================| 100%\n",
      "  |                                                                      |   0%"
     ]
    },
    {
     "name": "stderr",
     "output_type": "stream",
     "text": [
      "Warning message in MCmat(Y = Y_p, W = W, eY = eY, N = N, Q = Q, base = base, sigma = sigma, :\n",
      "“Running in series; one of the packages doParallel, foreach or doSNOW is missing”\n"
     ]
    },
    {
     "name": "stdout",
     "output_type": "stream",
     "text": [
      "\r",
      "  |                                                                            \r",
      "  |============                                                          |  17%"
     ]
    },
    {
     "name": "stderr",
     "output_type": "stream",
     "text": [
      "Warning message in MCmat(Y = Y_p, W = W, eY = eY, N = N, Q = Q, base = base, sigma = sigma, :\n",
      "“Running in series; one of the packages doParallel, foreach or doSNOW is missing”\n"
     ]
    },
    {
     "name": "stdout",
     "output_type": "stream",
     "text": [
      "\r",
      "  |                                                                            \r",
      "  |=======================                                               |  33%"
     ]
    },
    {
     "name": "stderr",
     "output_type": "stream",
     "text": [
      "Warning message in MCmat(Y = Y_p, W = W, eY = eY, N = N, Q = Q, base = base, sigma = sigma, :\n",
      "“Running in series; one of the packages doParallel, foreach or doSNOW is missing”\n"
     ]
    },
    {
     "name": "stdout",
     "output_type": "stream",
     "text": [
      "\r",
      "  |                                                                            \r",
      "  |===================================                                   |  50%"
     ]
    },
    {
     "name": "stderr",
     "output_type": "stream",
     "text": [
      "Warning message in MCmat(Y = Y_p, W = W, eY = eY, N = N, Q = Q, base = base, sigma = sigma, :\n",
      "“Running in series; one of the packages doParallel, foreach or doSNOW is missing”\n"
     ]
    },
    {
     "name": "stdout",
     "output_type": "stream",
     "text": [
      "\r",
      "  |                                                                            \r",
      "  |===============================================                       |  67%"
     ]
    },
    {
     "name": "stderr",
     "output_type": "stream",
     "text": [
      "Warning message in MCmat(Y = Y_p, W = W, eY = eY, N = N, Q = Q, base = base, sigma = sigma, :\n",
      "“Running in series; one of the packages doParallel, foreach or doSNOW is missing”\n"
     ]
    },
    {
     "name": "stdout",
     "output_type": "stream",
     "text": [
      "\r",
      "  |                                                                            \r",
      "  |==========================================================            |  83%"
     ]
    },
    {
     "name": "stderr",
     "output_type": "stream",
     "text": [
      "Warning message in MCmat(Y = Y_p, W = W, eY = eY, N = N, Q = Q, base = base, sigma = sigma, :\n",
      "“Running in series; one of the packages doParallel, foreach or doSNOW is missing”\n"
     ]
    },
    {
     "name": "stdout",
     "output_type": "stream",
     "text": [
      "  |======================================================================| 100%\n",
      "  |                                                                      |   0%"
     ]
    },
    {
     "name": "stderr",
     "output_type": "stream",
     "text": [
      "Warning message in MCmat(Y = Y_p, W = W, eY = eY, N = N, Q = Q, base = base, sigma = sigma, :\n",
      "“Running in series; one of the packages doParallel, foreach or doSNOW is missing”\n"
     ]
    },
    {
     "name": "stdout",
     "output_type": "stream",
     "text": [
      "\r",
      "  |                                                                            \r",
      "  |============                                                          |  17%"
     ]
    },
    {
     "name": "stderr",
     "output_type": "stream",
     "text": [
      "Warning message in MCmat(Y = Y_p, W = W, eY = eY, N = N, Q = Q, base = base, sigma = sigma, :\n",
      "“Running in series; one of the packages doParallel, foreach or doSNOW is missing”\n"
     ]
    },
    {
     "name": "stdout",
     "output_type": "stream",
     "text": [
      "\r",
      "  |                                                                            \r",
      "  |=======================                                               |  33%"
     ]
    },
    {
     "name": "stderr",
     "output_type": "stream",
     "text": [
      "Warning message in MCmat(Y = Y_p, W = W, eY = eY, N = N, Q = Q, base = base, sigma = sigma, :\n",
      "“Running in series; one of the packages doParallel, foreach or doSNOW is missing”\n"
     ]
    },
    {
     "name": "stdout",
     "output_type": "stream",
     "text": [
      "\r",
      "  |                                                                            \r",
      "  |===================================                                   |  50%"
     ]
    },
    {
     "name": "stderr",
     "output_type": "stream",
     "text": [
      "Warning message in MCmat(Y = Y_p, W = W, eY = eY, N = N, Q = Q, base = base, sigma = sigma, :\n",
      "“Running in series; one of the packages doParallel, foreach or doSNOW is missing”\n"
     ]
    },
    {
     "name": "stdout",
     "output_type": "stream",
     "text": [
      "\r",
      "  |                                                                            \r",
      "  |===============================================                       |  67%"
     ]
    },
    {
     "name": "stderr",
     "output_type": "stream",
     "text": [
      "Warning message in MCmat(Y = Y_p, W = W, eY = eY, N = N, Q = Q, base = base, sigma = sigma, :\n",
      "“Running in series; one of the packages doParallel, foreach or doSNOW is missing”\n"
     ]
    },
    {
     "name": "stdout",
     "output_type": "stream",
     "text": [
      "\r",
      "  |                                                                            \r",
      "  |==========================================================            |  83%"
     ]
    },
    {
     "name": "stderr",
     "output_type": "stream",
     "text": [
      "Warning message in MCmat(Y = Y_p, W = W, eY = eY, N = N, Q = Q, base = base, sigma = sigma, :\n",
      "“Running in series; one of the packages doParallel, foreach or doSNOW is missing”\n"
     ]
    },
    {
     "name": "stdout",
     "output_type": "stream",
     "text": [
      "  |======================================================================| 100%\n",
      "  |                                                                      |   0%"
     ]
    },
    {
     "name": "stderr",
     "output_type": "stream",
     "text": [
      "Warning message in MCmat(Y = Y_p, W = W, eY = eY, N = N, Q = Q, base = base, sigma = sigma, :\n",
      "“Running in series; one of the packages doParallel, foreach or doSNOW is missing”\n"
     ]
    },
    {
     "name": "stdout",
     "output_type": "stream",
     "text": [
      "\r",
      "  |                                                                            \r",
      "  |============                                                          |  17%"
     ]
    },
    {
     "name": "stderr",
     "output_type": "stream",
     "text": [
      "Warning message in MCmat(Y = Y_p, W = W, eY = eY, N = N, Q = Q, base = base, sigma = sigma, :\n",
      "“Running in series; one of the packages doParallel, foreach or doSNOW is missing”\n"
     ]
    },
    {
     "name": "stdout",
     "output_type": "stream",
     "text": [
      "\r",
      "  |                                                                            \r",
      "  |=======================                                               |  33%"
     ]
    },
    {
     "name": "stderr",
     "output_type": "stream",
     "text": [
      "Warning message in MCmat(Y = Y_p, W = W, eY = eY, N = N, Q = Q, base = base, sigma = sigma, :\n",
      "“Running in series; one of the packages doParallel, foreach or doSNOW is missing”\n"
     ]
    },
    {
     "name": "stdout",
     "output_type": "stream",
     "text": [
      "\r",
      "  |                                                                            \r",
      "  |===================================                                   |  50%"
     ]
    },
    {
     "name": "stderr",
     "output_type": "stream",
     "text": [
      "Warning message in MCmat(Y = Y_p, W = W, eY = eY, N = N, Q = Q, base = base, sigma = sigma, :\n",
      "“Running in series; one of the packages doParallel, foreach or doSNOW is missing”\n"
     ]
    },
    {
     "name": "stdout",
     "output_type": "stream",
     "text": [
      "\r",
      "  |                                                                            \r",
      "  |===============================================                       |  67%"
     ]
    },
    {
     "name": "stderr",
     "output_type": "stream",
     "text": [
      "Warning message in MCmat(Y = Y_p, W = W, eY = eY, N = N, Q = Q, base = base, sigma = sigma, :\n",
      "“Running in series; one of the packages doParallel, foreach or doSNOW is missing”\n"
     ]
    },
    {
     "name": "stdout",
     "output_type": "stream",
     "text": [
      "\r",
      "  |                                                                            \r",
      "  |==========================================================            |  83%"
     ]
    },
    {
     "name": "stderr",
     "output_type": "stream",
     "text": [
      "Warning message in MCmat(Y = Y_p, W = W, eY = eY, N = N, Q = Q, base = base, sigma = sigma, :\n",
      "“Running in series; one of the packages doParallel, foreach or doSNOW is missing”\n"
     ]
    },
    {
     "name": "stdout",
     "output_type": "stream",
     "text": [
      "  |======================================================================| 100%\n",
      "  |                                                                      |   0%"
     ]
    },
    {
     "name": "stderr",
     "output_type": "stream",
     "text": [
      "Warning message in MCmat(Y = Y_p, W = W, eY = eY, N = N, Q = Q, base = base, sigma = sigma, :\n",
      "“Running in series; one of the packages doParallel, foreach or doSNOW is missing”\n"
     ]
    },
    {
     "name": "stdout",
     "output_type": "stream",
     "text": [
      "\r",
      "  |                                                                            \r",
      "  |============                                                          |  17%"
     ]
    },
    {
     "name": "stderr",
     "output_type": "stream",
     "text": [
      "Warning message in MCmat(Y = Y_p, W = W, eY = eY, N = N, Q = Q, base = base, sigma = sigma, :\n",
      "“Running in series; one of the packages doParallel, foreach or doSNOW is missing”\n"
     ]
    },
    {
     "name": "stdout",
     "output_type": "stream",
     "text": [
      "\r",
      "  |                                                                            \r",
      "  |=======================                                               |  33%"
     ]
    },
    {
     "name": "stderr",
     "output_type": "stream",
     "text": [
      "Warning message in MCmat(Y = Y_p, W = W, eY = eY, N = N, Q = Q, base = base, sigma = sigma, :\n",
      "“Running in series; one of the packages doParallel, foreach or doSNOW is missing”\n"
     ]
    },
    {
     "name": "stdout",
     "output_type": "stream",
     "text": [
      "\r",
      "  |                                                                            \r",
      "  |===================================                                   |  50%"
     ]
    },
    {
     "name": "stderr",
     "output_type": "stream",
     "text": [
      "Warning message in MCmat(Y = Y_p, W = W, eY = eY, N = N, Q = Q, base = base, sigma = sigma, :\n",
      "“Running in series; one of the packages doParallel, foreach or doSNOW is missing”\n"
     ]
    },
    {
     "name": "stdout",
     "output_type": "stream",
     "text": [
      "\r",
      "  |                                                                            \r",
      "  |===============================================                       |  67%"
     ]
    },
    {
     "name": "stderr",
     "output_type": "stream",
     "text": [
      "Warning message in MCmat(Y = Y_p, W = W, eY = eY, N = N, Q = Q, base = base, sigma = sigma, :\n",
      "“Running in series; one of the packages doParallel, foreach or doSNOW is missing”\n"
     ]
    },
    {
     "name": "stdout",
     "output_type": "stream",
     "text": [
      "\r",
      "  |                                                                            \r",
      "  |==========================================================            |  83%"
     ]
    },
    {
     "name": "stderr",
     "output_type": "stream",
     "text": [
      "Warning message in MCmat(Y = Y_p, W = W, eY = eY, N = N, Q = Q, base = base, sigma = sigma, :\n",
      "“Running in series; one of the packages doParallel, foreach or doSNOW is missing”\n"
     ]
    },
    {
     "name": "stdout",
     "output_type": "stream",
     "text": [
      "  |======================================================================| 100%\n"
     ]
    }
   ],
   "source": [
    "divnet_phylum_char <- glom_ps_phy %>%\n",
    "  divnet(ncores = 4, base = \"ff3e7637bd5aac86cff3b72f9ee78f47\", X = NULL)"
   ]
  },
  {
   "cell_type": "code",
   "execution_count": 18,
   "id": "1b2abe3d",
   "metadata": {},
   "outputs": [
    {
     "name": "stdout",
     "output_type": "stream",
     "text": [
      "Hypothesis testing:\n",
      "  p-value for global test: 0 \n"
     ]
    },
    {
     "data": {
      "text/html": [
       "<table class=\"dataframe\">\n",
       "<caption>A matrix: 2 × 3 of type dbl</caption>\n",
       "<thead>\n",
       "\t<tr><th></th><th scope=col>Estimates</th><th scope=col>Standard Errors</th><th scope=col>p-values</th></tr>\n",
       "</thead>\n",
       "<tbody>\n",
       "\t<tr><th scope=row>(Intercept)</th><td> 0.2396340</td><td>0.002389326</td><td>0</td></tr>\n",
       "\t<tr><th scope=row>predictorsPlacebo</th><td>-0.1591352</td><td>0.002500864</td><td>0</td></tr>\n",
       "</tbody>\n",
       "</table>\n"
      ],
      "text/latex": [
       "A matrix: 2 × 3 of type dbl\n",
       "\\begin{tabular}{r|lll}\n",
       "  & Estimates & Standard Errors & p-values\\\\\n",
       "\\hline\n",
       "\t(Intercept) &  0.2396340 & 0.002389326 & 0\\\\\n",
       "\tpredictorsPlacebo & -0.1591352 & 0.002500864 & 0\\\\\n",
       "\\end{tabular}\n"
      ],
      "text/markdown": [
       "\n",
       "A matrix: 2 × 3 of type dbl\n",
       "\n",
       "| <!--/--> | Estimates | Standard Errors | p-values |\n",
       "|---|---|---|---|\n",
       "| (Intercept) |  0.2396340 | 0.002389326 | 0 |\n",
       "| predictorsPlacebo | -0.1591352 | 0.002500864 | 0 |\n",
       "\n"
      ],
      "text/plain": [
       "                  Estimates  Standard Errors p-values\n",
       "(Intercept)        0.2396340 0.002389326     0       \n",
       "predictorsPlacebo -0.1591352 0.002500864     0       "
      ]
     },
     "metadata": {},
     "output_type": "display_data"
    }
   ],
   "source": [
    "testDiversity(divnet_phylum_char)"
   ]
  },
  {
   "cell_type": "code",
   "execution_count": 23,
   "id": "c1732fd8",
   "metadata": {},
   "outputs": [
    {
     "data": {
      "text/html": [
       "<table class=\"dataframe\">\n",
       "<caption>A tibble: 6 × 7</caption>\n",
       "<thead>\n",
       "\t<tr><th scope=col>estimate</th><th scope=col>error</th><th scope=col>lower</th><th scope=col>upper</th><th scope=col>sample_names</th><th scope=col>name</th><th scope=col>model</th></tr>\n",
       "\t<tr><th scope=col>&lt;dbl&gt;</th><th scope=col>&lt;dbl&gt;</th><th scope=col>&lt;dbl&gt;</th><th scope=col>&lt;dbl&gt;</th><th scope=col>&lt;chr&gt;</th><th scope=col>&lt;chr&gt;</th><th scope=col>&lt;chr&gt;</th></tr>\n",
       "</thead>\n",
       "<tbody>\n",
       "\t<tr><td>0.62626964</td><td>0.008075949</td><td>0.61011774</td><td>0.64242154</td><td>N10-A019</td><td>DivNet</td><td>Aitchison</td></tr>\n",
       "\t<tr><td>0.09857572</td><td>0.005534877</td><td>0.08750596</td><td>0.10964547</td><td>N11-A153</td><td>DivNet</td><td>Aitchison</td></tr>\n",
       "\t<tr><td>2.34831058</td><td>0.004809826</td><td>2.33869093</td><td>2.35793023</td><td>N115-247</td><td>DivNet</td><td>Aitchison</td></tr>\n",
       "\t<tr><td>0.14014873</td><td>0.004882255</td><td>0.13038422</td><td>0.14991324</td><td>N12-A008</td><td>DivNet</td><td>Aitchison</td></tr>\n",
       "\t<tr><td>0.44885416</td><td>0.008915596</td><td>0.43102297</td><td>0.46668536</td><td>N13-A038</td><td>DivNet</td><td>Aitchison</td></tr>\n",
       "\t<tr><td>0.04024386</td><td>0.001394025</td><td>0.03745581</td><td>0.04303191</td><td>N14-A040</td><td>DivNet</td><td>Aitchison</td></tr>\n",
       "</tbody>\n",
       "</table>\n"
      ],
      "text/latex": [
       "A tibble: 6 × 7\n",
       "\\begin{tabular}{lllllll}\n",
       " estimate & error & lower & upper & sample\\_names & name & model\\\\\n",
       " <dbl> & <dbl> & <dbl> & <dbl> & <chr> & <chr> & <chr>\\\\\n",
       "\\hline\n",
       "\t 0.62626964 & 0.008075949 & 0.61011774 & 0.64242154 & N10-A019 & DivNet & Aitchison\\\\\n",
       "\t 0.09857572 & 0.005534877 & 0.08750596 & 0.10964547 & N11-A153 & DivNet & Aitchison\\\\\n",
       "\t 2.34831058 & 0.004809826 & 2.33869093 & 2.35793023 & N115-247 & DivNet & Aitchison\\\\\n",
       "\t 0.14014873 & 0.004882255 & 0.13038422 & 0.14991324 & N12-A008 & DivNet & Aitchison\\\\\n",
       "\t 0.44885416 & 0.008915596 & 0.43102297 & 0.46668536 & N13-A038 & DivNet & Aitchison\\\\\n",
       "\t 0.04024386 & 0.001394025 & 0.03745581 & 0.04303191 & N14-A040 & DivNet & Aitchison\\\\\n",
       "\\end{tabular}\n"
      ],
      "text/markdown": [
       "\n",
       "A tibble: 6 × 7\n",
       "\n",
       "| estimate &lt;dbl&gt; | error &lt;dbl&gt; | lower &lt;dbl&gt; | upper &lt;dbl&gt; | sample_names &lt;chr&gt; | name &lt;chr&gt; | model &lt;chr&gt; |\n",
       "|---|---|---|---|---|---|---|\n",
       "| 0.62626964 | 0.008075949 | 0.61011774 | 0.64242154 | N10-A019 | DivNet | Aitchison |\n",
       "| 0.09857572 | 0.005534877 | 0.08750596 | 0.10964547 | N11-A153 | DivNet | Aitchison |\n",
       "| 2.34831058 | 0.004809826 | 2.33869093 | 2.35793023 | N115-247 | DivNet | Aitchison |\n",
       "| 0.14014873 | 0.004882255 | 0.13038422 | 0.14991324 | N12-A008 | DivNet | Aitchison |\n",
       "| 0.44885416 | 0.008915596 | 0.43102297 | 0.46668536 | N13-A038 | DivNet | Aitchison |\n",
       "| 0.04024386 | 0.001394025 | 0.03745581 | 0.04303191 | N14-A040 | DivNet | Aitchison |\n",
       "\n"
      ],
      "text/plain": [
       "  estimate   error       lower      upper      sample_names name   model    \n",
       "1 0.62626964 0.008075949 0.61011774 0.64242154 N10-A019     DivNet Aitchison\n",
       "2 0.09857572 0.005534877 0.08750596 0.10964547 N11-A153     DivNet Aitchison\n",
       "3 2.34831058 0.004809826 2.33869093 2.35793023 N115-247     DivNet Aitchison\n",
       "4 0.14014873 0.004882255 0.13038422 0.14991324 N12-A008     DivNet Aitchison\n",
       "5 0.44885416 0.008915596 0.43102297 0.46668536 N13-A038     DivNet Aitchison\n",
       "6 0.04024386 0.001394025 0.03745581 0.04303191 N14-A040     DivNet Aitchison"
      ]
     },
     "metadata": {},
     "output_type": "display_data"
    }
   ],
   "source": [
    "head(divnet_phylum_char$shannon %>% summary)"
   ]
  },
  {
   "cell_type": "code",
   "execution_count": 19,
   "id": "eb472875",
   "metadata": {},
   "outputs": [
    {
     "data": {
      "text/html": [
       "<table class=\"dataframe\">\n",
       "<caption>A data.frame: 284 × 50</caption>\n",
       "<thead>\n",
       "\t<tr><th scope=col>sample_names</th><th scope=col>featurecounts</th><th scope=col>Initial_sample_ID</th><th scope=col>Tag</th><th scope=col>Date_Collected</th><th scope=col>Date</th><th scope=col>TimePoint</th><th scope=col>Replicate</th><th scope=col>Genotype</th><th scope=col>Nursery</th><th scope=col>⋯</th><th scope=col>Forward_Primer_Pad</th><th scope=col>Golay_Barcode</th><th scope=col>X515FB_Forward_Primer</th><th scope=col>Primer_For_PCR</th><th scope=col>estimate</th><th scope=col>error</th><th scope=col>lower</th><th scope=col>upper</th><th scope=col>name</th><th scope=col>model</th></tr>\n",
       "\t<tr><th scope=col>&lt;chr&gt;</th><th scope=col>&lt;int&gt;</th><th scope=col>&lt;int&gt;</th><th scope=col>&lt;chr&gt;</th><th scope=col>&lt;chr&gt;</th><th scope=col>&lt;chr&gt;</th><th scope=col>&lt;int&gt;</th><th scope=col>&lt;chr&gt;</th><th scope=col>&lt;chr&gt;</th><th scope=col>&lt;chr&gt;</th><th scope=col>⋯</th><th scope=col>&lt;chr&gt;</th><th scope=col>&lt;chr&gt;</th><th scope=col>&lt;chr&gt;</th><th scope=col>&lt;chr&gt;</th><th scope=col>&lt;dbl&gt;</th><th scope=col>&lt;dbl&gt;</th><th scope=col>&lt;dbl&gt;</th><th scope=col>&lt;dbl&gt;</th><th scope=col>&lt;chr&gt;</th><th scope=col>&lt;chr&gt;</th></tr>\n",
       "</thead>\n",
       "<tbody>\n",
       "\t<tr><td>N13-A038 </td><td>26888</td><td> 13</td><td>A038</td><td>26-Oct-20</td><td>26-Oct</td><td> 5</td><td>NA  </td><td>Cooper-9</td><td>UM </td><td>⋯</td><td>TATGGTAATT</td><td>CTACAGGGTCTC</td><td>GTGYCAGCMGCCGCGGTAA</td><td>AATGATACGGCGACCACCGAGATCTACACGCTCTACAGGGTCTCTATGGTAATTGTGTGYCAGCMGCCGCGGTAA</td><td>0.23963400</td><td>0.07503098</td><td>0.08957204</td><td>0.3896960</td><td>DivNet</td><td>Aitchison</td></tr>\n",
       "\t<tr><td>N14-A040 </td><td>38951</td><td> 14</td><td>A040</td><td>28-Oct-20</td><td>28-Oct</td><td> 6</td><td>NA  </td><td>Acerv2  </td><td>UM </td><td>⋯</td><td>TATGGTAATT</td><td>TTGAACAAGCCA</td><td>GTGYCAGCMGCCGCGGTAA</td><td>AATGATACGGCGACCACCGAGATCTACACGCTTTGAACAAGCCATATGGTAATTGTGTGYCAGCMGCCGCGGTAA</td><td>0.23963400</td><td>0.07503098</td><td>0.08957204</td><td>0.3896960</td><td>DivNet</td><td>Aitchison</td></tr>\n",
       "\t<tr><td>N23-A166 </td><td>16954</td><td> 23</td><td>A166</td><td>30-Oct-20</td><td>30-Oct</td><td> 8</td><td>NA  </td><td>K2      </td><td>CRF</td><td>⋯</td><td>TATGGTAATT</td><td>AGCCTTCGTCGC</td><td>GTGYCAGCMGCCGCGGTAA</td><td>AATGATACGGCGACCACCGAGATCTACACGCTAGCCTTCGTCGCTATGGTAATTGTGTGYCAGCMGCCGCGGTAA</td><td>        NA</td><td>        NA</td><td>        NA</td><td>       NA</td><td>NA    </td><td>NA       </td></tr>\n",
       "\t<tr><td>N22-A121 </td><td>67201</td><td> 22</td><td>A121</td><td>30-Oct-20</td><td>30-Oct</td><td> 8</td><td>NA  </td><td>U44     </td><td>CRF</td><td>⋯</td><td>TATGGTAATT</td><td>AGCCTTCGTCGC</td><td>GTGYCAGCMGCCGCGGTAA</td><td>AATGATACGGCGACCACCGAGATCTACACGCTAGCCTTCGTCGCTATGGTAATTGTGTGYCAGCMGCCGCGGTAA</td><td>        NA</td><td>        NA</td><td>        NA</td><td>       NA</td><td>NA    </td><td>NA       </td></tr>\n",
       "\t<tr><td>N266-A104</td><td>29691</td><td>266</td><td>A104</td><td>10-Nov-20</td><td>10-Nov</td><td>19</td><td>NA  </td><td>U44     </td><td>CRF</td><td>⋯</td><td>TATGGTAATT</td><td>CTACAGGGTCTC</td><td>GTGYCAGCMGCCGCGGTAA</td><td>AATGATACGGCGACCACCGAGATCTACACGCTCTACAGGGTCTCTATGGTAATTGTGTGYCAGCMGCCGCGGTAA</td><td>0.23963400</td><td>0.07503098</td><td>0.08957204</td><td>0.3896960</td><td>DivNet</td><td>Aitchison</td></tr>\n",
       "\t<tr><td>N267-A110</td><td>32445</td><td>267</td><td>A110</td><td>10-Nov-20</td><td>10-Nov</td><td>19</td><td>NA  </td><td>U41     </td><td>CRF</td><td>⋯</td><td>TATGGTAATT</td><td>CTACAGGGTCTC</td><td>GTGYCAGCMGCCGCGGTAA</td><td>AATGATACGGCGACCACCGAGATCTACACGCTCTACAGGGTCTCTATGGTAATTGTGTGYCAGCMGCCGCGGTAA</td><td>        NA</td><td>        NA</td><td>        NA</td><td>       NA</td><td>NA    </td><td>NA       </td></tr>\n",
       "\t<tr><td>N28-A027 </td><td>44848</td><td> 28</td><td>A027</td><td>30-Oct-20</td><td>30-Oct</td><td> 8</td><td>NA  </td><td>Cooper-9</td><td>UM </td><td>⋯</td><td>TATGGTAATT</td><td>AGCCTTCGTCGC</td><td>GTGYCAGCMGCCGCGGTAA</td><td>AATGATACGGCGACCACCGAGATCTACACGCTAGCCTTCGTCGCTATGGTAATTGTGTGYCAGCMGCCGCGGTAA</td><td>        NA</td><td>        NA</td><td>        NA</td><td>       NA</td><td>NA    </td><td>NA       </td></tr>\n",
       "\t<tr><td>N29-A041 </td><td>31284</td><td> 29</td><td>A041</td><td>30-Oct-20</td><td>30-Oct</td><td> 8</td><td>NA  </td><td>Acerv2  </td><td>UM </td><td>⋯</td><td>TATGGTAATT</td><td>AGCCTTCGTCGC</td><td>GTGYCAGCMGCCGCGGTAA</td><td>AATGATACGGCGACCACCGAGATCTACACGCTAGCCTTCGTCGCTATGGTAATTGTGTGYCAGCMGCCGCGGTAA</td><td>        NA</td><td>        NA</td><td>        NA</td><td>       NA</td><td>NA    </td><td>NA       </td></tr>\n",
       "\t<tr><td>N27-283  </td><td>16502</td><td> 27</td><td>283 </td><td>30-Oct-20</td><td>30-Oct</td><td> 8</td><td>NA  </td><td>FM14    </td><td>FWC</td><td>⋯</td><td>TATGGTAATT</td><td>AGCCTTCGTCGC</td><td>GTGYCAGCMGCCGCGGTAA</td><td>AATGATACGGCGACCACCGAGATCTACACGCTAGCCTTCGTCGCTATGGTAATTGTGTGYCAGCMGCCGCGGTAA</td><td>        NA</td><td>        NA</td><td>        NA</td><td>       NA</td><td>NA    </td><td>NA       </td></tr>\n",
       "\t<tr><td>N25-208  </td><td>42616</td><td> 25</td><td>208 </td><td>30-Oct-20</td><td>30-Oct</td><td> 8</td><td>NA  </td><td>FM9     </td><td>FWC</td><td>⋯</td><td>TATGGTAATT</td><td>AGCCTTCGTCGC</td><td>GTGYCAGCMGCCGCGGTAA</td><td>AATGATACGGCGACCACCGAGATCTACACGCTAGCCTTCGTCGCTATGGTAATTGTGTGYCAGCMGCCGCGGTAA</td><td>        NA</td><td>        NA</td><td>        NA</td><td>       NA</td><td>NA    </td><td>NA       </td></tr>\n",
       "\t<tr><td>N26-243  </td><td>21453</td><td> 26</td><td>243 </td><td>30-Oct-20</td><td>30-Oct</td><td> 8</td><td>NA  </td><td>FM6     </td><td>FWC</td><td>⋯</td><td>TATGGTAATT</td><td>AGCCTTCGTCGC</td><td>GTGYCAGCMGCCGCGGTAA</td><td>AATGATACGGCGACCACCGAGATCTACACGCTAGCCTTCGTCGCTATGGTAATTGTGTGYCAGCMGCCGCGGTAA</td><td>        NA</td><td>        NA</td><td>        NA</td><td>       NA</td><td>NA    </td><td>NA       </td></tr>\n",
       "\t<tr><td>N272-230 </td><td>38362</td><td>272</td><td>230 </td><td>10-Nov-20</td><td>10-Nov</td><td>19</td><td>NA  </td><td>FM6     </td><td>FWC</td><td>⋯</td><td>TATGGTAATT</td><td>GGTAGTTCATAG</td><td>GTGYCAGCMGCCGCGGTAA</td><td>AATGATACGGCGACCACCGAGATCTACACGCTGGTAGTTCATAGTATGGTAATTGTGTGYCAGCMGCCGCGGTAA</td><td>0.23963400</td><td>0.07503098</td><td>0.08957204</td><td>0.3896960</td><td>DivNet</td><td>Aitchison</td></tr>\n",
       "\t<tr><td>N24-A182 </td><td>27495</td><td> 24</td><td>A182</td><td>30-Oct-20</td><td>30-Oct</td><td> 8</td><td>NA  </td><td>FM19    </td><td>FWC</td><td>⋯</td><td>TATGGTAATT</td><td>AGCCTTCGTCGC</td><td>GTGYCAGCMGCCGCGGTAA</td><td>AATGATACGGCGACCACCGAGATCTACACGCTAGCCTTCGTCGCTATGGTAATTGTGTGYCAGCMGCCGCGGTAA</td><td>        NA</td><td>        NA</td><td>        NA</td><td>       NA</td><td>NA    </td><td>NA       </td></tr>\n",
       "\t<tr><td>N269-A181</td><td>27899</td><td>269</td><td>A181</td><td>10-Nov-20</td><td>10-Nov</td><td>19</td><td>NA  </td><td>FM19    </td><td>FWC</td><td>⋯</td><td>TATGGTAATT</td><td>TAGTTCGGTGAC</td><td>GTGYCAGCMGCCGCGGTAA</td><td>AATGATACGGCGACCACCGAGATCTACACGCTTAGTTCGGTGACTATGGTAATTGTGTGYCAGCMGCCGCGGTAA</td><td>0.23963400</td><td>0.07503098</td><td>0.08957204</td><td>0.3896960</td><td>DivNet</td><td>Aitchison</td></tr>\n",
       "\t<tr><td>N270-A182</td><td>32166</td><td>270</td><td>A182</td><td>10-Nov-20</td><td>10-Nov</td><td>19</td><td>NA  </td><td>FM19    </td><td>FWC</td><td>⋯</td><td>TATGGTAATT</td><td>ACTAAAGCAAAC</td><td>GTGYCAGCMGCCGCGGTAA</td><td>AATGATACGGCGACCACCGAGATCTACACGCTACTAAAGCAAACTATGGTAATTGTGTGYCAGCMGCCGCGGTAA</td><td>0.23963400</td><td>0.07503098</td><td>0.08957204</td><td>0.3896960</td><td>DivNet</td><td>Aitchison</td></tr>\n",
       "\t<tr><td>N273-358 </td><td>35454</td><td>273</td><td>358 </td><td>10-Nov-20</td><td>10-Nov</td><td>19</td><td>NA  </td><td>FM19    </td><td>FWC</td><td>⋯</td><td>TATGGTAATT</td><td>CTACAGGGTCTC</td><td>GTGYCAGCMGCCGCGGTAA</td><td>AATGATACGGCGACCACCGAGATCTACACGCTCTACAGGGTCTCTATGGTAATTGTGTGYCAGCMGCCGCGGTAA</td><td>0.23963400</td><td>0.07503098</td><td>0.08957204</td><td>0.3896960</td><td>DivNet</td><td>Aitchison</td></tr>\n",
       "\t<tr><td>N18-A016 </td><td>29746</td><td> 18</td><td>A016</td><td>30-Oct-20</td><td>30-Oct</td><td> 8</td><td>NA  </td><td>Cooper-9</td><td>UM </td><td>⋯</td><td>TATGGTAATT</td><td>AGCCTTCGTCGC</td><td>GTGYCAGCMGCCGCGGTAA</td><td>AATGATACGGCGACCACCGAGATCTACACGCTAGCCTTCGTCGCTATGGTAATTGTGTGYCAGCMGCCGCGGTAA</td><td>        NA</td><td>        NA</td><td>        NA</td><td>       NA</td><td>NA    </td><td>NA       </td></tr>\n",
       "\t<tr><td>N21-A095 </td><td>31271</td><td> 21</td><td>A095</td><td>30-Oct-20</td><td>30-Oct</td><td> 8</td><td>NA  </td><td>Kelsey-1</td><td>UM </td><td>⋯</td><td>TATGGTAATT</td><td>AGCCTTCGTCGC</td><td>GTGYCAGCMGCCGCGGTAA</td><td>AATGATACGGCGACCACCGAGATCTACACGCTAGCCTTCGTCGCTATGGTAATTGTGTGYCAGCMGCCGCGGTAA</td><td>        NA</td><td>        NA</td><td>        NA</td><td>       NA</td><td>NA    </td><td>NA       </td></tr>\n",
       "\t<tr><td>N19-A053 </td><td>23549</td><td> 19</td><td>A053</td><td>30-Oct-20</td><td>30-Oct</td><td> 8</td><td>NA  </td><td>Acerv2  </td><td>UM </td><td>⋯</td><td>TATGGTAATT</td><td>AGCCTTCGTCGC</td><td>GTGYCAGCMGCCGCGGTAA</td><td>AATGATACGGCGACCACCGAGATCTACACGCTAGCCTTCGTCGCTATGGTAATTGTGTGYCAGCMGCCGCGGTAA</td><td>        NA</td><td>        NA</td><td>        NA</td><td>       NA</td><td>NA    </td><td>NA       </td></tr>\n",
       "\t<tr><td>N86-A052 </td><td>34109</td><td> 86</td><td>A052</td><td>3-Nov-20 </td><td>3-Nov </td><td>12</td><td>r1_w</td><td>Acerv2  </td><td>UM </td><td>⋯</td><td>TATGGTAATT</td><td>AGCCTTCGTCGC</td><td>GTGYCAGCMGCCGCGGTAA</td><td>AATGATACGGCGACCACCGAGATCTACACGCTAGCCTTCGTCGCTATGGTAATTGTGTGYCAGCMGCCGCGGTAA</td><td>0.08049877</td><td>0.02574797</td><td>0.02900283</td><td>0.1319947</td><td>DivNet</td><td>Aitchison</td></tr>\n",
       "\t<tr><td>N106-A051</td><td>28128</td><td>106</td><td>A051</td><td>5-Nov-20 </td><td>5-Nov </td><td>14</td><td>r1_w</td><td>Acerv2  </td><td>UM </td><td>⋯</td><td>TATGGTAATT</td><td>AGCCTTCGTCGC</td><td>GTGYCAGCMGCCGCGGTAA</td><td>AATGATACGGCGACCACCGAGATCTACACGCTAGCCTTCGTCGCTATGGTAATTGTGTGYCAGCMGCCGCGGTAA</td><td>0.08049877</td><td>0.02574797</td><td>0.02900283</td><td>0.1319947</td><td>DivNet</td><td>Aitchison</td></tr>\n",
       "\t<tr><td>N128-A052</td><td>27263</td><td>128</td><td>A052</td><td>6-Nov-20 </td><td>6-Nov </td><td>15</td><td>r2_w</td><td>Acerv2  </td><td>UM </td><td>⋯</td><td>TATGGTAATT</td><td>TCATGGCCTCCG</td><td>GTGYCAGCMGCCGCGGTAA</td><td>AATGATACGGCGACCACCGAGATCTACACGCTTCATGGCCTCCGTATGGTAATTGTGTGYCAGCMGCCGCGGTAA</td><td>0.08049877</td><td>0.02574797</td><td>0.02900283</td><td>0.1319947</td><td>DivNet</td><td>Aitchison</td></tr>\n",
       "\t<tr><td>N8-A060  </td><td>25759</td><td>  8</td><td>A060</td><td>24-Oct-20</td><td>24-Oct</td><td> 3</td><td>NA  </td><td>Acerv2  </td><td>UM </td><td>⋯</td><td>TATGGTAATT</td><td>GTTTGAAACACG</td><td>GTGYCAGCMGCCGCGGTAA</td><td>AATGATACGGCGACCACCGAGATCTACACGCTGTTTGAAACACGTATGGTAATTGTGTGYCAGCMGCCGCGGTAA</td><td>0.08049877</td><td>0.02574797</td><td>0.02900283</td><td>0.1319947</td><td>DivNet</td><td>Aitchison</td></tr>\n",
       "\t<tr><td>N9-A048  </td><td>45982</td><td>  9</td><td>A048</td><td>25-Oct-20</td><td>25-Oct</td><td> 4</td><td>NA  </td><td>Acerv2  </td><td>UM </td><td>⋯</td><td>TATGGTAATT</td><td>CTACAGGGTCTC</td><td>GTGYCAGCMGCCGCGGTAA</td><td>AATGATACGGCGACCACCGAGATCTACACGCTCTACAGGGTCTCTATGGTAATTGTGTGYCAGCMGCCGCGGTAA</td><td>0.08049877</td><td>0.02574797</td><td>0.02900283</td><td>0.1319947</td><td>DivNet</td><td>Aitchison</td></tr>\n",
       "\t<tr><td>N60-A056 </td><td>75497</td><td> 60</td><td>A056</td><td>30-Oct-20</td><td>30-Oct</td><td> 8</td><td>NA  </td><td>Acerv2  </td><td>UM </td><td>⋯</td><td>TATGGTAATT</td><td>AGCCTTCGTCGC</td><td>GTGYCAGCMGCCGCGGTAA</td><td>AATGATACGGCGACCACCGAGATCTACACGCTAGCCTTCGTCGCTATGGTAATTGTGTGYCAGCMGCCGCGGTAA</td><td>        NA</td><td>        NA</td><td>        NA</td><td>       NA</td><td>NA    </td><td>NA       </td></tr>\n",
       "\t<tr><td>N11-A153 </td><td>27631</td><td> 11</td><td>A153</td><td>26-Oct-20</td><td>26-Oct</td><td> 5</td><td>NA  </td><td>Kelsey-1</td><td>UM </td><td>⋯</td><td>TATGGTAATT</td><td>CTACAGGGTCTC</td><td>GTGYCAGCMGCCGCGGTAA</td><td>AATGATACGGCGACCACCGAGATCTACACGCTCTACAGGGTCTCTATGGTAATTGTGTGYCAGCMGCCGCGGTAA</td><td>0.23963400</td><td>0.07503098</td><td>0.08957204</td><td>0.3896960</td><td>DivNet</td><td>Aitchison</td></tr>\n",
       "\t<tr><td>N17-A002 </td><td>31376</td><td> 17</td><td>A002</td><td>29-Oct-20</td><td>29-Oct</td><td> 7</td><td>NA  </td><td>Kelsey-1</td><td>UM </td><td>⋯</td><td>TATGGTAATT</td><td>CTACAGGGTCTC</td><td>GTGYCAGCMGCCGCGGTAA</td><td>AATGATACGGCGACCACCGAGATCTACACGCTCTACAGGGTCTCTATGGTAATTGTGTGYCAGCMGCCGCGGTAA</td><td>0.23963400</td><td>0.07503098</td><td>0.08957204</td><td>0.3896960</td><td>DivNet</td><td>Aitchison</td></tr>\n",
       "\t<tr><td>N70-A052 </td><td>24607</td><td> 70</td><td>A052</td><td>30-Oct-20</td><td>30-Oct</td><td> 8</td><td>NA  </td><td>Acerv2  </td><td>UM </td><td>⋯</td><td>TATGGTAATT</td><td>AGCCTTCGTCGC</td><td>GTGYCAGCMGCCGCGGTAA</td><td>AATGATACGGCGACCACCGAGATCTACACGCTAGCCTTCGTCGCTATGGTAATTGTGTGYCAGCMGCCGCGGTAA</td><td>        NA</td><td>        NA</td><td>        NA</td><td>       NA</td><td>NA    </td><td>NA       </td></tr>\n",
       "\t<tr><td>N139-A014</td><td>22795</td><td>139</td><td>A014</td><td>6-Nov-20 </td><td>6-Nov </td><td>15</td><td>NA  </td><td>Kelsey-1</td><td>UM </td><td>⋯</td><td>TATGGTAATT</td><td>TAAACCTGGACA</td><td>GTGYCAGCMGCCGCGGTAA</td><td>AATGATACGGCGACCACCGAGATCTACACGCTTAAACCTGGACATATGGTAATTGTGTGYCAGCMGCCGCGGTAA</td><td>0.08049877</td><td>0.02574797</td><td>0.02900283</td><td>0.1319947</td><td>DivNet</td><td>Aitchison</td></tr>\n",
       "\t<tr><td>N31-A097 </td><td>35470</td><td> 31</td><td>A097</td><td>30-Oct-20</td><td>30-Oct</td><td> 8</td><td>NA  </td><td>Kelsey-1</td><td>UM </td><td>⋯</td><td>TATGGTAATT</td><td>AGCCTTCGTCGC</td><td>GTGYCAGCMGCCGCGGTAA</td><td>AATGATACGGCGACCACCGAGATCTACACGCTAGCCTTCGTCGCTATGGTAATTGTGTGYCAGCMGCCGCGGTAA</td><td>        NA</td><td>        NA</td><td>        NA</td><td>       NA</td><td>NA    </td><td>NA       </td></tr>\n",
       "\t<tr><td>⋮</td><td>⋮</td><td>⋮</td><td>⋮</td><td>⋮</td><td>⋮</td><td>⋮</td><td>⋮</td><td>⋮</td><td>⋮</td><td>⋱</td><td>⋮</td><td>⋮</td><td>⋮</td><td>⋮</td><td>⋮</td><td>⋮</td><td>⋮</td><td>⋮</td><td>⋮</td><td>⋮</td></tr>\n",
       "\t<tr><td>N117-163      </td><td>43137</td><td>117</td><td>163       </td><td>5-Nov-20 </td><td>5-Nov </td><td>14</td><td>NA  </td><td>K2      </td><td>CRF</td><td>⋯</td><td>TATGGTAATT</td><td>CTACAGGGTCTC</td><td>GTGYCAGCMGCCGCGGTAA</td><td>AATGATACGGCGACCACCGAGATCTACACGCTCTACAGGGTCTCTATGGTAATTGTGTGYCAGCMGCCGCGGTAA</td><td>0.23963400</td><td>0.07503098</td><td>0.08957204</td><td>0.3896960</td><td>DivNet</td><td>Aitchison</td></tr>\n",
       "\t<tr><td>N97-205       </td><td>37212</td><td> 97</td><td>205       </td><td>4-Nov-20 </td><td>4-Nov </td><td>13</td><td>NA  </td><td>FM9     </td><td>FWC</td><td>⋯</td><td>TATGGTAATT</td><td>AGCCTTCGTCGC</td><td>GTGYCAGCMGCCGCGGTAA</td><td>AATGATACGGCGACCACCGAGATCTACACGCTAGCCTTCGTCGCTATGGTAATTGTGTGYCAGCMGCCGCGGTAA</td><td>0.23963400</td><td>0.07503098</td><td>0.08957204</td><td>0.3896960</td><td>DivNet</td><td>Aitchison</td></tr>\n",
       "\t<tr><td>N136-A161     </td><td>38303</td><td>136</td><td>A161      </td><td>6-Nov-20 </td><td>6-Nov </td><td>15</td><td>NA  </td><td>K2      </td><td>CRF</td><td>⋯</td><td>TATGGTAATT</td><td>CAATCATAGGTG</td><td>GTGYCAGCMGCCGCGGTAA</td><td>AATGATACGGCGACCACCGAGATCTACACGCTCAATCATAGGTGTATGGTAATTGTGTGYCAGCMGCCGCGGTAA</td><td>0.23963400</td><td>0.07503098</td><td>0.08957204</td><td>0.3896960</td><td>DivNet</td><td>Aitchison</td></tr>\n",
       "\t<tr><td>N159-202      </td><td>32701</td><td>159</td><td>202       </td><td>6-Nov-20 </td><td>6-Nov </td><td>15</td><td>NA  </td><td>FM9     </td><td>FWC</td><td>⋯</td><td>TATGGTAATT</td><td>CTACAGGGTCTC</td><td>GTGYCAGCMGCCGCGGTAA</td><td>AATGATACGGCGACCACCGAGATCTACACGCTCTACAGGGTCTCTATGGTAATTGTGTGYCAGCMGCCGCGGTAA</td><td>0.23963400</td><td>0.07503098</td><td>0.08957204</td><td>0.3896960</td><td>DivNet</td><td>Aitchison</td></tr>\n",
       "\t<tr><td>N112-A005     </td><td>42758</td><td>112</td><td>A005      </td><td>5-Nov-20 </td><td>5-Nov </td><td>14</td><td>NA  </td><td>Kelsey-1</td><td>UM </td><td>⋯</td><td>TATGGTAATT</td><td>AGCCTTCGTCGC</td><td>GTGYCAGCMGCCGCGGTAA</td><td>AATGATACGGCGACCACCGAGATCTACACGCTAGCCTTCGTCGCTATGGTAATTGTGTGYCAGCMGCCGCGGTAA</td><td>0.23963400</td><td>0.07503098</td><td>0.08957204</td><td>0.3896960</td><td>DivNet</td><td>Aitchison</td></tr>\n",
       "\t<tr><td>N173-A095     </td><td>45816</td><td>173</td><td>A095      </td><td>7-Nov-20 </td><td>7-Nov </td><td>16</td><td>NA  </td><td>Kelsey-1</td><td>UM </td><td>⋯</td><td>TATGGTAATT</td><td>CTACAGGGTCTC</td><td>GTGYCAGCMGCCGCGGTAA</td><td>AATGATACGGCGACCACCGAGATCTACACGCTCTACAGGGTCTCTATGGTAATTGTGTGYCAGCMGCCGCGGTAA</td><td>0.23963400</td><td>0.07503098</td><td>0.08957204</td><td>0.3896960</td><td>DivNet</td><td>Aitchison</td></tr>\n",
       "\t<tr><td>N89-A053      </td><td>25245</td><td> 89</td><td>A053      </td><td>3-Nov-20 </td><td>3-Nov </td><td>12</td><td>NA  </td><td>Acerv2  </td><td>UM </td><td>⋯</td><td>TATGGTAATT</td><td>AGCCTTCGTCGC</td><td>GTGYCAGCMGCCGCGGTAA</td><td>AATGATACGGCGACCACCGAGATCTACACGCTAGCCTTCGTCGCTATGGTAATTGTGTGYCAGCMGCCGCGGTAA</td><td>0.23963400</td><td>0.07503098</td><td>0.08957204</td><td>0.3896960</td><td>DivNet</td><td>Aitchison</td></tr>\n",
       "\t<tr><td>N134-A049     </td><td>41241</td><td>134</td><td>A049      </td><td>6-Nov-20 </td><td>6-Nov </td><td>15</td><td>NA  </td><td>Acerv2  </td><td>UM </td><td>⋯</td><td>TATGGTAATT</td><td>CTACAGGGTCTC</td><td>GTGYCAGCMGCCGCGGTAA</td><td>AATGATACGGCGACCACCGAGATCTACACGCTCTACAGGGTCTCTATGGTAATTGTGTGYCAGCMGCCGCGGTAA</td><td>0.23963400</td><td>0.07503098</td><td>0.08957204</td><td>0.3896960</td><td>DivNet</td><td>Aitchison</td></tr>\n",
       "\t<tr><td>N154-A087     </td><td>34955</td><td>154</td><td>A087      </td><td>6-Nov-20 </td><td>6-Nov </td><td>15</td><td>NA  </td><td>Elkhorn </td><td>UM </td><td>⋯</td><td>TATGGTAATT</td><td>TGCGGCGTCAGG</td><td>GTGYCAGCMGCCGCGGTAA</td><td>AATGATACGGCGACCACCGAGATCTACACGCTTGCGGCGTCAGGTATGGTAATTGTGTGYCAGCMGCCGCGGTAA</td><td>0.23963400</td><td>0.07503098</td><td>0.08957204</td><td>0.3896960</td><td>DivNet</td><td>Aitchison</td></tr>\n",
       "\t<tr><td>N185-A088     </td><td>36439</td><td>185</td><td>A088      </td><td>8-Nov-20 </td><td>8-Nov </td><td>17</td><td>r1_m</td><td>Elkhorn </td><td>UM </td><td>⋯</td><td>TATGGTAATT</td><td>GTCCGTCCTGGT</td><td>GTGYCAGCMGCCGCGGTAA</td><td>AATGATACGGCGACCACCGAGATCTACACGCTGTCCGTCCTGGTTATGGTAATTGTGTGYCAGCMGCCGCGGTAA</td><td>0.23963400</td><td>0.07503098</td><td>0.08957204</td><td>0.3896960</td><td>DivNet</td><td>Aitchison</td></tr>\n",
       "\t<tr><td>N185-A088-R2  </td><td>34179</td><td>185</td><td>A088      </td><td>8-Nov-20 </td><td>8-Nov </td><td>17</td><td>r2_m</td><td>Elkhorn </td><td>UM </td><td>⋯</td><td>TATGGTAATT</td><td>CTACAGGGTCTC</td><td>GTGYCAGCMGCCGCGGTAA</td><td>AATGATACGGCGACCACCGAGATCTACACGCTCTACAGGGTCTCTATGGTAATTGTGTGYCAGCMGCCGCGGTAA</td><td>        NA</td><td>        NA</td><td>        NA</td><td>       NA</td><td>NA    </td><td>NA       </td></tr>\n",
       "\t<tr><td>N192-A057     </td><td>32787</td><td>192</td><td>A057      </td><td>9-Nov-20 </td><td>9-Nov </td><td>18</td><td>NA  </td><td>Acerv2  </td><td>UM </td><td>⋯</td><td>TATGGTAATT</td><td>CACACAAAGTCA</td><td>GTGYCAGCMGCCGCGGTAA</td><td>AATGATACGGCGACCACCGAGATCTACACGCTCACACAAAGTCATATGGTAATTGTGTGYCAGCMGCCGCGGTAA</td><td>0.23963400</td><td>0.07503098</td><td>0.08957204</td><td>0.3896960</td><td>DivNet</td><td>Aitchison</td></tr>\n",
       "\t<tr><td>N101-A118     </td><td>37571</td><td>101</td><td>A118      </td><td>4-Nov-20 </td><td>4-Nov </td><td>13</td><td>NA  </td><td>U41     </td><td>CRF</td><td>⋯</td><td>TATGGTAATT</td><td>AGCCTTCGTCGC</td><td>GTGYCAGCMGCCGCGGTAA</td><td>AATGATACGGCGACCACCGAGATCTACACGCTAGCCTTCGTCGCTATGGTAATTGTGTGYCAGCMGCCGCGGTAA</td><td>        NA</td><td>        NA</td><td>        NA</td><td>       NA</td><td>NA    </td><td>NA       </td></tr>\n",
       "\t<tr><td>N119-A107     </td><td>40509</td><td>119</td><td>A107      </td><td>5-Nov-20 </td><td>5-Nov </td><td>14</td><td>NA  </td><td>U41     </td><td>CRF</td><td>⋯</td><td>TATGGTAATT</td><td>CTACAGGGTCTC</td><td>GTGYCAGCMGCCGCGGTAA</td><td>AATGATACGGCGACCACCGAGATCTACACGCTCTACAGGGTCTCTATGGTAATTGTGTGYCAGCMGCCGCGGTAA</td><td>        NA</td><td>        NA</td><td>        NA</td><td>       NA</td><td>NA    </td><td>NA       </td></tr>\n",
       "\t<tr><td>N184-A051     </td><td>29572</td><td>184</td><td>A051      </td><td>8-Nov-20 </td><td>8-Nov </td><td>17</td><td>r2_w</td><td>Acerv2  </td><td>UM </td><td>⋯</td><td>TATGGTAATT</td><td>TCAAGTCCGCAC</td><td>GTGYCAGCMGCCGCGGTAA</td><td>AATGATACGGCGACCACCGAGATCTACACGCTTCAAGTCCGCACTATGGTAATTGTGTGYCAGCMGCCGCGGTAA</td><td>0.08049877</td><td>0.02574797</td><td>0.02900283</td><td>0.1319947</td><td>DivNet</td><td>Aitchison</td></tr>\n",
       "\t<tr><td>N181-A102     </td><td>42994</td><td>181</td><td>A102      </td><td>7-Nov-20 </td><td>7-Nov </td><td>16</td><td>NA  </td><td>U44     </td><td>CRF</td><td>⋯</td><td>TATGGTAATT</td><td>CTACAGGGTCTC</td><td>GTGYCAGCMGCCGCGGTAA</td><td>AATGATACGGCGACCACCGAGATCTACACGCTCTACAGGGTCTCTATGGTAATTGTGTGYCAGCMGCCGCGGTAA</td><td>0.23963400</td><td>0.07503098</td><td>0.08957204</td><td>0.3896960</td><td>DivNet</td><td>Aitchison</td></tr>\n",
       "\t<tr><td>N116-A058     </td><td>50041</td><td>116</td><td>A058      </td><td>5-Nov-20 </td><td>5-Nov </td><td>14</td><td>NA  </td><td>Acerv2  </td><td>UM </td><td>⋯</td><td>TATGGTAATT</td><td>CTACAGGGTCTC</td><td>GTGYCAGCMGCCGCGGTAA</td><td>AATGATACGGCGACCACCGAGATCTACACGCTCTACAGGGTCTCTATGGTAATTGTGTGYCAGCMGCCGCGGTAA</td><td>0.23963400</td><td>0.07503098</td><td>0.08957204</td><td>0.3896960</td><td>DivNet</td><td>Aitchison</td></tr>\n",
       "\t<tr><td>N131-200      </td><td>  650</td><td>131</td><td>200       </td><td>6-Nov-20 </td><td>6-Nov </td><td>15</td><td>NA  </td><td>FM9     </td><td>FWC</td><td>⋯</td><td>TATGGTAATT</td><td>CGCCGTACTTGC</td><td>GTGYCAGCMGCCGCGGTAA</td><td>AATGATACGGCGACCACCGAGATCTACACGCTCGCCGTACTTGCTATGGTAATTGTGTGYCAGCMGCCGCGGTAA</td><td>0.23963400</td><td>0.07503098</td><td>0.08957204</td><td>0.3896960</td><td>DivNet</td><td>Aitchison</td></tr>\n",
       "\t<tr><td>N115-247      </td><td>24933</td><td>115</td><td>247       </td><td>5-Nov-20 </td><td>5-Nov </td><td>14</td><td>NA  </td><td>FM6     </td><td>FWC</td><td>⋯</td><td>TATGGTAATT</td><td>TCAGACCAACTG</td><td>GTGYCAGCMGCCGCGGTAA</td><td>AATGATACGGCGACCACCGAGATCTACACGCTTCAGACCAACTGTATGGTAATTGTGTGYCAGCMGCCGCGGTAA</td><td>0.23963400</td><td>0.07503098</td><td>0.08957204</td><td>0.3896960</td><td>DivNet</td><td>Aitchison</td></tr>\n",
       "\t<tr><td>N132-A031     </td><td>57619</td><td>132</td><td>A031      </td><td>6-Nov-20 </td><td>6-Nov </td><td>15</td><td>NA  </td><td>Cooper-9</td><td>UM </td><td>⋯</td><td>TATGGTAATT</td><td>CTACAGGGTCTC</td><td>GTGYCAGCMGCCGCGGTAA</td><td>AATGATACGGCGACCACCGAGATCTACACGCTCTACAGGGTCTCTATGGTAATTGTGTGYCAGCMGCCGCGGTAA</td><td>0.23963400</td><td>0.07503098</td><td>0.08957204</td><td>0.3896960</td><td>DivNet</td><td>Aitchison</td></tr>\n",
       "\t<tr><td>N92-A007      </td><td>35656</td><td> 92</td><td>A007      </td><td>4-Nov-20 </td><td>4-Nov </td><td>13</td><td>NA  </td><td>Kelsey-1</td><td>UM </td><td>⋯</td><td>TATGGTAATT</td><td>AGCCTTCGTCGC</td><td>GTGYCAGCMGCCGCGGTAA</td><td>AATGATACGGCGACCACCGAGATCTACACGCTAGCCTTCGTCGCTATGGTAATTGTGTGYCAGCMGCCGCGGTAA</td><td>0.08049877</td><td>0.02574797</td><td>0.02900283</td><td>0.1319947</td><td>DivNet</td><td>Aitchison</td></tr>\n",
       "\t<tr><td>N83-A046      </td><td>41686</td><td> 83</td><td>A046      </td><td>3-Nov-20 </td><td>3-Nov </td><td>12</td><td>NA  </td><td>Acerv2  </td><td>UM </td><td>⋯</td><td>TATGGTAATT</td><td>AGCCTTCGTCGC</td><td>GTGYCAGCMGCCGCGGTAA</td><td>AATGATACGGCGACCACCGAGATCTACACGCTAGCCTTCGTCGCTATGGTAATTGTGTGYCAGCMGCCGCGGTAA</td><td>0.23963400</td><td>0.07503098</td><td>0.08957204</td><td>0.3896960</td><td>DivNet</td><td>Aitchison</td></tr>\n",
       "\t<tr><td>N84-A030      </td><td>23551</td><td> 84</td><td>A030      </td><td>3-Nov-20 </td><td>3-Nov </td><td>12</td><td>NA  </td><td>Cooper-9</td><td>UM </td><td>⋯</td><td>TATGGTAATT</td><td>AGCCTTCGTCGC</td><td>GTGYCAGCMGCCGCGGTAA</td><td>AATGATACGGCGACCACCGAGATCTACACGCTAGCCTTCGTCGCTATGGTAATTGTGTGYCAGCMGCCGCGGTAA</td><td>0.23963400</td><td>0.07503098</td><td>0.08957204</td><td>0.3896960</td><td>DivNet</td><td>Aitchison</td></tr>\n",
       "\t<tr><td>N12-A008      </td><td>48424</td><td> 12</td><td>A008      </td><td>26-Oct-20</td><td>26-Oct</td><td> 5</td><td>NA  </td><td>Kelsey-1</td><td>UM </td><td>⋯</td><td>TATGGTAATT</td><td>CTACAGGGTCTC</td><td>GTGYCAGCMGCCGCGGTAA</td><td>AATGATACGGCGACCACCGAGATCTACACGCTCTACAGGGTCTCTATGGTAATTGTGTGYCAGCMGCCGCGGTAA</td><td>0.08049877</td><td>0.02574797</td><td>0.02900283</td><td>0.1319947</td><td>DivNet</td><td>Aitchison</td></tr>\n",
       "\t<tr><td>N271-228      </td><td>26944</td><td>271</td><td>228       </td><td>10-Nov-20</td><td>10-Nov</td><td>19</td><td>NA  </td><td>FM9     </td><td>FWC</td><td>⋯</td><td>TATGGTAATT</td><td>CTTGCTCATAAT</td><td>GTGYCAGCMGCCGCGGTAA</td><td>AATGATACGGCGACCACCGAGATCTACACGCTCTTGCTCATAATTATGGTAATTGTGTGYCAGCMGCCGCGGTAA</td><td>0.23963400</td><td>0.07503098</td><td>0.08957204</td><td>0.3896960</td><td>DivNet</td><td>Aitchison</td></tr>\n",
       "\t<tr><td>N268-A180     </td><td>33042</td><td>268</td><td>A180      </td><td>10-Nov-20</td><td>10-Nov</td><td>19</td><td>NA  </td><td>FM19    </td><td>FWC</td><td>⋯</td><td>TATGGTAATT</td><td>CTACAGGGTCTC</td><td>GTGYCAGCMGCCGCGGTAA</td><td>AATGATACGGCGACCACCGAGATCTACACGCTCTACAGGGTCTCTATGGTAATTGTGTGYCAGCMGCCGCGGTAA</td><td>0.23963400</td><td>0.07503098</td><td>0.08957204</td><td>0.3896960</td><td>DivNet</td><td>Aitchison</td></tr>\n",
       "\t<tr><td>N88-Hom-Hea   </td><td>21207</td><td> 88</td><td>Hom_Dis_R1</td><td>31-Oct-20</td><td>31-Oct</td><td> 9</td><td>NA  </td><td>NA      </td><td>NA </td><td>⋯</td><td>TATGGTAATT</td><td>CTACAGGGTCTC</td><td>GTGYCAGCMGCCGCGGTAA</td><td>AATGATACGGCGACCACCGAGATCTACACGCTCTACAGGGTCTCTATGGTAATTGTGTGYCAGCMGCCGCGGTAA</td><td>        NA</td><td>        NA</td><td>        NA</td><td>       NA</td><td>NA    </td><td>NA       </td></tr>\n",
       "\t<tr><td>N88-Hom-Hea-R2</td><td>35515</td><td> 88</td><td>Hom_Dis_R2</td><td>31-Oct-20</td><td>31-Oct</td><td> 9</td><td>NA  </td><td>NA      </td><td>NA </td><td>⋯</td><td>TATGGTAATT</td><td>TTAAGTTAAGTT</td><td>GTGYCAGCMGCCGCGGTAA</td><td>AATGATACGGCGACCACCGAGATCTACACGCTTTAAGTTAAGTTTATGGTAATTGTGTGYCAGCMGCCGCGGTAA</td><td>        NA</td><td>        NA</td><td>        NA</td><td>       NA</td><td>NA    </td><td>NA       </td></tr>\n",
       "\t<tr><td>N1-Hom_       </td><td>48625</td><td>  1</td><td>Hom_R1    </td><td>NA       </td><td>NA    </td><td>NA</td><td>NA  </td><td>NA      </td><td>NA </td><td>⋯</td><td>TATGGTAATT</td><td>CTACAGGGTCTC</td><td>GTGYCAGCMGCCGCGGTAA</td><td>AATGATACGGCGACCACCGAGATCTACACGCTCTACAGGGTCTCTATGGTAATTGTGTGYCAGCMGCCGCGGTAA</td><td>        NA</td><td>        NA</td><td>        NA</td><td>       NA</td><td>NA    </td><td>NA       </td></tr>\n",
       "\t<tr><td>N3-Hom        </td><td>16005</td><td>  3</td><td>Hom_3_R1  </td><td>NA       </td><td>NA    </td><td>NA</td><td>NA  </td><td>NA      </td><td>NA </td><td>⋯</td><td>TATGGTAATT</td><td>CTACAGGGTCTC</td><td>GTGYCAGCMGCCGCGGTAA</td><td>AATGATACGGCGACCACCGAGATCTACACGCTCTACAGGGTCTCTATGGTAATTGTGTGYCAGCMGCCGCGGTAA</td><td>        NA</td><td>        NA</td><td>        NA</td><td>       NA</td><td>NA    </td><td>NA       </td></tr>\n",
       "</tbody>\n",
       "</table>\n"
      ],
      "text/latex": [
       "A data.frame: 284 × 50\n",
       "\\begin{tabular}{lllllllllllllllllllll}\n",
       " sample\\_names & featurecounts & Initial\\_sample\\_ID & Tag & Date\\_Collected & Date & TimePoint & Replicate & Genotype & Nursery & ⋯ & Forward\\_Primer\\_Pad & Golay\\_Barcode & X515FB\\_Forward\\_Primer & Primer\\_For\\_PCR & estimate & error & lower & upper & name & model\\\\\n",
       " <chr> & <int> & <int> & <chr> & <chr> & <chr> & <int> & <chr> & <chr> & <chr> & ⋯ & <chr> & <chr> & <chr> & <chr> & <dbl> & <dbl> & <dbl> & <dbl> & <chr> & <chr>\\\\\n",
       "\\hline\n",
       "\t N13-A038  & 26888 &  13 & A038 & 26-Oct-20 & 26-Oct &  5 & NA   & Cooper-9 & UM  & ⋯ & TATGGTAATT & CTACAGGGTCTC & GTGYCAGCMGCCGCGGTAA & AATGATACGGCGACCACCGAGATCTACACGCTCTACAGGGTCTCTATGGTAATTGTGTGYCAGCMGCCGCGGTAA & 0.23963400 & 0.07503098 & 0.08957204 & 0.3896960 & DivNet & Aitchison\\\\\n",
       "\t N14-A040  & 38951 &  14 & A040 & 28-Oct-20 & 28-Oct &  6 & NA   & Acerv2   & UM  & ⋯ & TATGGTAATT & TTGAACAAGCCA & GTGYCAGCMGCCGCGGTAA & AATGATACGGCGACCACCGAGATCTACACGCTTTGAACAAGCCATATGGTAATTGTGTGYCAGCMGCCGCGGTAA & 0.23963400 & 0.07503098 & 0.08957204 & 0.3896960 & DivNet & Aitchison\\\\\n",
       "\t N23-A166  & 16954 &  23 & A166 & 30-Oct-20 & 30-Oct &  8 & NA   & K2       & CRF & ⋯ & TATGGTAATT & AGCCTTCGTCGC & GTGYCAGCMGCCGCGGTAA & AATGATACGGCGACCACCGAGATCTACACGCTAGCCTTCGTCGCTATGGTAATTGTGTGYCAGCMGCCGCGGTAA &         NA &         NA &         NA &        NA & NA     & NA       \\\\\n",
       "\t N22-A121  & 67201 &  22 & A121 & 30-Oct-20 & 30-Oct &  8 & NA   & U44      & CRF & ⋯ & TATGGTAATT & AGCCTTCGTCGC & GTGYCAGCMGCCGCGGTAA & AATGATACGGCGACCACCGAGATCTACACGCTAGCCTTCGTCGCTATGGTAATTGTGTGYCAGCMGCCGCGGTAA &         NA &         NA &         NA &        NA & NA     & NA       \\\\\n",
       "\t N266-A104 & 29691 & 266 & A104 & 10-Nov-20 & 10-Nov & 19 & NA   & U44      & CRF & ⋯ & TATGGTAATT & CTACAGGGTCTC & GTGYCAGCMGCCGCGGTAA & AATGATACGGCGACCACCGAGATCTACACGCTCTACAGGGTCTCTATGGTAATTGTGTGYCAGCMGCCGCGGTAA & 0.23963400 & 0.07503098 & 0.08957204 & 0.3896960 & DivNet & Aitchison\\\\\n",
       "\t N267-A110 & 32445 & 267 & A110 & 10-Nov-20 & 10-Nov & 19 & NA   & U41      & CRF & ⋯ & TATGGTAATT & CTACAGGGTCTC & GTGYCAGCMGCCGCGGTAA & AATGATACGGCGACCACCGAGATCTACACGCTCTACAGGGTCTCTATGGTAATTGTGTGYCAGCMGCCGCGGTAA &         NA &         NA &         NA &        NA & NA     & NA       \\\\\n",
       "\t N28-A027  & 44848 &  28 & A027 & 30-Oct-20 & 30-Oct &  8 & NA   & Cooper-9 & UM  & ⋯ & TATGGTAATT & AGCCTTCGTCGC & GTGYCAGCMGCCGCGGTAA & AATGATACGGCGACCACCGAGATCTACACGCTAGCCTTCGTCGCTATGGTAATTGTGTGYCAGCMGCCGCGGTAA &         NA &         NA &         NA &        NA & NA     & NA       \\\\\n",
       "\t N29-A041  & 31284 &  29 & A041 & 30-Oct-20 & 30-Oct &  8 & NA   & Acerv2   & UM  & ⋯ & TATGGTAATT & AGCCTTCGTCGC & GTGYCAGCMGCCGCGGTAA & AATGATACGGCGACCACCGAGATCTACACGCTAGCCTTCGTCGCTATGGTAATTGTGTGYCAGCMGCCGCGGTAA &         NA &         NA &         NA &        NA & NA     & NA       \\\\\n",
       "\t N27-283   & 16502 &  27 & 283  & 30-Oct-20 & 30-Oct &  8 & NA   & FM14     & FWC & ⋯ & TATGGTAATT & AGCCTTCGTCGC & GTGYCAGCMGCCGCGGTAA & AATGATACGGCGACCACCGAGATCTACACGCTAGCCTTCGTCGCTATGGTAATTGTGTGYCAGCMGCCGCGGTAA &         NA &         NA &         NA &        NA & NA     & NA       \\\\\n",
       "\t N25-208   & 42616 &  25 & 208  & 30-Oct-20 & 30-Oct &  8 & NA   & FM9      & FWC & ⋯ & TATGGTAATT & AGCCTTCGTCGC & GTGYCAGCMGCCGCGGTAA & AATGATACGGCGACCACCGAGATCTACACGCTAGCCTTCGTCGCTATGGTAATTGTGTGYCAGCMGCCGCGGTAA &         NA &         NA &         NA &        NA & NA     & NA       \\\\\n",
       "\t N26-243   & 21453 &  26 & 243  & 30-Oct-20 & 30-Oct &  8 & NA   & FM6      & FWC & ⋯ & TATGGTAATT & AGCCTTCGTCGC & GTGYCAGCMGCCGCGGTAA & AATGATACGGCGACCACCGAGATCTACACGCTAGCCTTCGTCGCTATGGTAATTGTGTGYCAGCMGCCGCGGTAA &         NA &         NA &         NA &        NA & NA     & NA       \\\\\n",
       "\t N272-230  & 38362 & 272 & 230  & 10-Nov-20 & 10-Nov & 19 & NA   & FM6      & FWC & ⋯ & TATGGTAATT & GGTAGTTCATAG & GTGYCAGCMGCCGCGGTAA & AATGATACGGCGACCACCGAGATCTACACGCTGGTAGTTCATAGTATGGTAATTGTGTGYCAGCMGCCGCGGTAA & 0.23963400 & 0.07503098 & 0.08957204 & 0.3896960 & DivNet & Aitchison\\\\\n",
       "\t N24-A182  & 27495 &  24 & A182 & 30-Oct-20 & 30-Oct &  8 & NA   & FM19     & FWC & ⋯ & TATGGTAATT & AGCCTTCGTCGC & GTGYCAGCMGCCGCGGTAA & AATGATACGGCGACCACCGAGATCTACACGCTAGCCTTCGTCGCTATGGTAATTGTGTGYCAGCMGCCGCGGTAA &         NA &         NA &         NA &        NA & NA     & NA       \\\\\n",
       "\t N269-A181 & 27899 & 269 & A181 & 10-Nov-20 & 10-Nov & 19 & NA   & FM19     & FWC & ⋯ & TATGGTAATT & TAGTTCGGTGAC & GTGYCAGCMGCCGCGGTAA & AATGATACGGCGACCACCGAGATCTACACGCTTAGTTCGGTGACTATGGTAATTGTGTGYCAGCMGCCGCGGTAA & 0.23963400 & 0.07503098 & 0.08957204 & 0.3896960 & DivNet & Aitchison\\\\\n",
       "\t N270-A182 & 32166 & 270 & A182 & 10-Nov-20 & 10-Nov & 19 & NA   & FM19     & FWC & ⋯ & TATGGTAATT & ACTAAAGCAAAC & GTGYCAGCMGCCGCGGTAA & AATGATACGGCGACCACCGAGATCTACACGCTACTAAAGCAAACTATGGTAATTGTGTGYCAGCMGCCGCGGTAA & 0.23963400 & 0.07503098 & 0.08957204 & 0.3896960 & DivNet & Aitchison\\\\\n",
       "\t N273-358  & 35454 & 273 & 358  & 10-Nov-20 & 10-Nov & 19 & NA   & FM19     & FWC & ⋯ & TATGGTAATT & CTACAGGGTCTC & GTGYCAGCMGCCGCGGTAA & AATGATACGGCGACCACCGAGATCTACACGCTCTACAGGGTCTCTATGGTAATTGTGTGYCAGCMGCCGCGGTAA & 0.23963400 & 0.07503098 & 0.08957204 & 0.3896960 & DivNet & Aitchison\\\\\n",
       "\t N18-A016  & 29746 &  18 & A016 & 30-Oct-20 & 30-Oct &  8 & NA   & Cooper-9 & UM  & ⋯ & TATGGTAATT & AGCCTTCGTCGC & GTGYCAGCMGCCGCGGTAA & AATGATACGGCGACCACCGAGATCTACACGCTAGCCTTCGTCGCTATGGTAATTGTGTGYCAGCMGCCGCGGTAA &         NA &         NA &         NA &        NA & NA     & NA       \\\\\n",
       "\t N21-A095  & 31271 &  21 & A095 & 30-Oct-20 & 30-Oct &  8 & NA   & Kelsey-1 & UM  & ⋯ & TATGGTAATT & AGCCTTCGTCGC & GTGYCAGCMGCCGCGGTAA & AATGATACGGCGACCACCGAGATCTACACGCTAGCCTTCGTCGCTATGGTAATTGTGTGYCAGCMGCCGCGGTAA &         NA &         NA &         NA &        NA & NA     & NA       \\\\\n",
       "\t N19-A053  & 23549 &  19 & A053 & 30-Oct-20 & 30-Oct &  8 & NA   & Acerv2   & UM  & ⋯ & TATGGTAATT & AGCCTTCGTCGC & GTGYCAGCMGCCGCGGTAA & AATGATACGGCGACCACCGAGATCTACACGCTAGCCTTCGTCGCTATGGTAATTGTGTGYCAGCMGCCGCGGTAA &         NA &         NA &         NA &        NA & NA     & NA       \\\\\n",
       "\t N86-A052  & 34109 &  86 & A052 & 3-Nov-20  & 3-Nov  & 12 & r1\\_w & Acerv2   & UM  & ⋯ & TATGGTAATT & AGCCTTCGTCGC & GTGYCAGCMGCCGCGGTAA & AATGATACGGCGACCACCGAGATCTACACGCTAGCCTTCGTCGCTATGGTAATTGTGTGYCAGCMGCCGCGGTAA & 0.08049877 & 0.02574797 & 0.02900283 & 0.1319947 & DivNet & Aitchison\\\\\n",
       "\t N106-A051 & 28128 & 106 & A051 & 5-Nov-20  & 5-Nov  & 14 & r1\\_w & Acerv2   & UM  & ⋯ & TATGGTAATT & AGCCTTCGTCGC & GTGYCAGCMGCCGCGGTAA & AATGATACGGCGACCACCGAGATCTACACGCTAGCCTTCGTCGCTATGGTAATTGTGTGYCAGCMGCCGCGGTAA & 0.08049877 & 0.02574797 & 0.02900283 & 0.1319947 & DivNet & Aitchison\\\\\n",
       "\t N128-A052 & 27263 & 128 & A052 & 6-Nov-20  & 6-Nov  & 15 & r2\\_w & Acerv2   & UM  & ⋯ & TATGGTAATT & TCATGGCCTCCG & GTGYCAGCMGCCGCGGTAA & AATGATACGGCGACCACCGAGATCTACACGCTTCATGGCCTCCGTATGGTAATTGTGTGYCAGCMGCCGCGGTAA & 0.08049877 & 0.02574797 & 0.02900283 & 0.1319947 & DivNet & Aitchison\\\\\n",
       "\t N8-A060   & 25759 &   8 & A060 & 24-Oct-20 & 24-Oct &  3 & NA   & Acerv2   & UM  & ⋯ & TATGGTAATT & GTTTGAAACACG & GTGYCAGCMGCCGCGGTAA & AATGATACGGCGACCACCGAGATCTACACGCTGTTTGAAACACGTATGGTAATTGTGTGYCAGCMGCCGCGGTAA & 0.08049877 & 0.02574797 & 0.02900283 & 0.1319947 & DivNet & Aitchison\\\\\n",
       "\t N9-A048   & 45982 &   9 & A048 & 25-Oct-20 & 25-Oct &  4 & NA   & Acerv2   & UM  & ⋯ & TATGGTAATT & CTACAGGGTCTC & GTGYCAGCMGCCGCGGTAA & AATGATACGGCGACCACCGAGATCTACACGCTCTACAGGGTCTCTATGGTAATTGTGTGYCAGCMGCCGCGGTAA & 0.08049877 & 0.02574797 & 0.02900283 & 0.1319947 & DivNet & Aitchison\\\\\n",
       "\t N60-A056  & 75497 &  60 & A056 & 30-Oct-20 & 30-Oct &  8 & NA   & Acerv2   & UM  & ⋯ & TATGGTAATT & AGCCTTCGTCGC & GTGYCAGCMGCCGCGGTAA & AATGATACGGCGACCACCGAGATCTACACGCTAGCCTTCGTCGCTATGGTAATTGTGTGYCAGCMGCCGCGGTAA &         NA &         NA &         NA &        NA & NA     & NA       \\\\\n",
       "\t N11-A153  & 27631 &  11 & A153 & 26-Oct-20 & 26-Oct &  5 & NA   & Kelsey-1 & UM  & ⋯ & TATGGTAATT & CTACAGGGTCTC & GTGYCAGCMGCCGCGGTAA & AATGATACGGCGACCACCGAGATCTACACGCTCTACAGGGTCTCTATGGTAATTGTGTGYCAGCMGCCGCGGTAA & 0.23963400 & 0.07503098 & 0.08957204 & 0.3896960 & DivNet & Aitchison\\\\\n",
       "\t N17-A002  & 31376 &  17 & A002 & 29-Oct-20 & 29-Oct &  7 & NA   & Kelsey-1 & UM  & ⋯ & TATGGTAATT & CTACAGGGTCTC & GTGYCAGCMGCCGCGGTAA & AATGATACGGCGACCACCGAGATCTACACGCTCTACAGGGTCTCTATGGTAATTGTGTGYCAGCMGCCGCGGTAA & 0.23963400 & 0.07503098 & 0.08957204 & 0.3896960 & DivNet & Aitchison\\\\\n",
       "\t N70-A052  & 24607 &  70 & A052 & 30-Oct-20 & 30-Oct &  8 & NA   & Acerv2   & UM  & ⋯ & TATGGTAATT & AGCCTTCGTCGC & GTGYCAGCMGCCGCGGTAA & AATGATACGGCGACCACCGAGATCTACACGCTAGCCTTCGTCGCTATGGTAATTGTGTGYCAGCMGCCGCGGTAA &         NA &         NA &         NA &        NA & NA     & NA       \\\\\n",
       "\t N139-A014 & 22795 & 139 & A014 & 6-Nov-20  & 6-Nov  & 15 & NA   & Kelsey-1 & UM  & ⋯ & TATGGTAATT & TAAACCTGGACA & GTGYCAGCMGCCGCGGTAA & AATGATACGGCGACCACCGAGATCTACACGCTTAAACCTGGACATATGGTAATTGTGTGYCAGCMGCCGCGGTAA & 0.08049877 & 0.02574797 & 0.02900283 & 0.1319947 & DivNet & Aitchison\\\\\n",
       "\t N31-A097  & 35470 &  31 & A097 & 30-Oct-20 & 30-Oct &  8 & NA   & Kelsey-1 & UM  & ⋯ & TATGGTAATT & AGCCTTCGTCGC & GTGYCAGCMGCCGCGGTAA & AATGATACGGCGACCACCGAGATCTACACGCTAGCCTTCGTCGCTATGGTAATTGTGTGYCAGCMGCCGCGGTAA &         NA &         NA &         NA &        NA & NA     & NA       \\\\\n",
       "\t ⋮ & ⋮ & ⋮ & ⋮ & ⋮ & ⋮ & ⋮ & ⋮ & ⋮ & ⋮ & ⋱ & ⋮ & ⋮ & ⋮ & ⋮ & ⋮ & ⋮ & ⋮ & ⋮ & ⋮ & ⋮\\\\\n",
       "\t N117-163       & 43137 & 117 & 163        & 5-Nov-20  & 5-Nov  & 14 & NA   & K2       & CRF & ⋯ & TATGGTAATT & CTACAGGGTCTC & GTGYCAGCMGCCGCGGTAA & AATGATACGGCGACCACCGAGATCTACACGCTCTACAGGGTCTCTATGGTAATTGTGTGYCAGCMGCCGCGGTAA & 0.23963400 & 0.07503098 & 0.08957204 & 0.3896960 & DivNet & Aitchison\\\\\n",
       "\t N97-205        & 37212 &  97 & 205        & 4-Nov-20  & 4-Nov  & 13 & NA   & FM9      & FWC & ⋯ & TATGGTAATT & AGCCTTCGTCGC & GTGYCAGCMGCCGCGGTAA & AATGATACGGCGACCACCGAGATCTACACGCTAGCCTTCGTCGCTATGGTAATTGTGTGYCAGCMGCCGCGGTAA & 0.23963400 & 0.07503098 & 0.08957204 & 0.3896960 & DivNet & Aitchison\\\\\n",
       "\t N136-A161      & 38303 & 136 & A161       & 6-Nov-20  & 6-Nov  & 15 & NA   & K2       & CRF & ⋯ & TATGGTAATT & CAATCATAGGTG & GTGYCAGCMGCCGCGGTAA & AATGATACGGCGACCACCGAGATCTACACGCTCAATCATAGGTGTATGGTAATTGTGTGYCAGCMGCCGCGGTAA & 0.23963400 & 0.07503098 & 0.08957204 & 0.3896960 & DivNet & Aitchison\\\\\n",
       "\t N159-202       & 32701 & 159 & 202        & 6-Nov-20  & 6-Nov  & 15 & NA   & FM9      & FWC & ⋯ & TATGGTAATT & CTACAGGGTCTC & GTGYCAGCMGCCGCGGTAA & AATGATACGGCGACCACCGAGATCTACACGCTCTACAGGGTCTCTATGGTAATTGTGTGYCAGCMGCCGCGGTAA & 0.23963400 & 0.07503098 & 0.08957204 & 0.3896960 & DivNet & Aitchison\\\\\n",
       "\t N112-A005      & 42758 & 112 & A005       & 5-Nov-20  & 5-Nov  & 14 & NA   & Kelsey-1 & UM  & ⋯ & TATGGTAATT & AGCCTTCGTCGC & GTGYCAGCMGCCGCGGTAA & AATGATACGGCGACCACCGAGATCTACACGCTAGCCTTCGTCGCTATGGTAATTGTGTGYCAGCMGCCGCGGTAA & 0.23963400 & 0.07503098 & 0.08957204 & 0.3896960 & DivNet & Aitchison\\\\\n",
       "\t N173-A095      & 45816 & 173 & A095       & 7-Nov-20  & 7-Nov  & 16 & NA   & Kelsey-1 & UM  & ⋯ & TATGGTAATT & CTACAGGGTCTC & GTGYCAGCMGCCGCGGTAA & AATGATACGGCGACCACCGAGATCTACACGCTCTACAGGGTCTCTATGGTAATTGTGTGYCAGCMGCCGCGGTAA & 0.23963400 & 0.07503098 & 0.08957204 & 0.3896960 & DivNet & Aitchison\\\\\n",
       "\t N89-A053       & 25245 &  89 & A053       & 3-Nov-20  & 3-Nov  & 12 & NA   & Acerv2   & UM  & ⋯ & TATGGTAATT & AGCCTTCGTCGC & GTGYCAGCMGCCGCGGTAA & AATGATACGGCGACCACCGAGATCTACACGCTAGCCTTCGTCGCTATGGTAATTGTGTGYCAGCMGCCGCGGTAA & 0.23963400 & 0.07503098 & 0.08957204 & 0.3896960 & DivNet & Aitchison\\\\\n",
       "\t N134-A049      & 41241 & 134 & A049       & 6-Nov-20  & 6-Nov  & 15 & NA   & Acerv2   & UM  & ⋯ & TATGGTAATT & CTACAGGGTCTC & GTGYCAGCMGCCGCGGTAA & AATGATACGGCGACCACCGAGATCTACACGCTCTACAGGGTCTCTATGGTAATTGTGTGYCAGCMGCCGCGGTAA & 0.23963400 & 0.07503098 & 0.08957204 & 0.3896960 & DivNet & Aitchison\\\\\n",
       "\t N154-A087      & 34955 & 154 & A087       & 6-Nov-20  & 6-Nov  & 15 & NA   & Elkhorn  & UM  & ⋯ & TATGGTAATT & TGCGGCGTCAGG & GTGYCAGCMGCCGCGGTAA & AATGATACGGCGACCACCGAGATCTACACGCTTGCGGCGTCAGGTATGGTAATTGTGTGYCAGCMGCCGCGGTAA & 0.23963400 & 0.07503098 & 0.08957204 & 0.3896960 & DivNet & Aitchison\\\\\n",
       "\t N185-A088      & 36439 & 185 & A088       & 8-Nov-20  & 8-Nov  & 17 & r1\\_m & Elkhorn  & UM  & ⋯ & TATGGTAATT & GTCCGTCCTGGT & GTGYCAGCMGCCGCGGTAA & AATGATACGGCGACCACCGAGATCTACACGCTGTCCGTCCTGGTTATGGTAATTGTGTGYCAGCMGCCGCGGTAA & 0.23963400 & 0.07503098 & 0.08957204 & 0.3896960 & DivNet & Aitchison\\\\\n",
       "\t N185-A088-R2   & 34179 & 185 & A088       & 8-Nov-20  & 8-Nov  & 17 & r2\\_m & Elkhorn  & UM  & ⋯ & TATGGTAATT & CTACAGGGTCTC & GTGYCAGCMGCCGCGGTAA & AATGATACGGCGACCACCGAGATCTACACGCTCTACAGGGTCTCTATGGTAATTGTGTGYCAGCMGCCGCGGTAA &         NA &         NA &         NA &        NA & NA     & NA       \\\\\n",
       "\t N192-A057      & 32787 & 192 & A057       & 9-Nov-20  & 9-Nov  & 18 & NA   & Acerv2   & UM  & ⋯ & TATGGTAATT & CACACAAAGTCA & GTGYCAGCMGCCGCGGTAA & AATGATACGGCGACCACCGAGATCTACACGCTCACACAAAGTCATATGGTAATTGTGTGYCAGCMGCCGCGGTAA & 0.23963400 & 0.07503098 & 0.08957204 & 0.3896960 & DivNet & Aitchison\\\\\n",
       "\t N101-A118      & 37571 & 101 & A118       & 4-Nov-20  & 4-Nov  & 13 & NA   & U41      & CRF & ⋯ & TATGGTAATT & AGCCTTCGTCGC & GTGYCAGCMGCCGCGGTAA & AATGATACGGCGACCACCGAGATCTACACGCTAGCCTTCGTCGCTATGGTAATTGTGTGYCAGCMGCCGCGGTAA &         NA &         NA &         NA &        NA & NA     & NA       \\\\\n",
       "\t N119-A107      & 40509 & 119 & A107       & 5-Nov-20  & 5-Nov  & 14 & NA   & U41      & CRF & ⋯ & TATGGTAATT & CTACAGGGTCTC & GTGYCAGCMGCCGCGGTAA & AATGATACGGCGACCACCGAGATCTACACGCTCTACAGGGTCTCTATGGTAATTGTGTGYCAGCMGCCGCGGTAA &         NA &         NA &         NA &        NA & NA     & NA       \\\\\n",
       "\t N184-A051      & 29572 & 184 & A051       & 8-Nov-20  & 8-Nov  & 17 & r2\\_w & Acerv2   & UM  & ⋯ & TATGGTAATT & TCAAGTCCGCAC & GTGYCAGCMGCCGCGGTAA & AATGATACGGCGACCACCGAGATCTACACGCTTCAAGTCCGCACTATGGTAATTGTGTGYCAGCMGCCGCGGTAA & 0.08049877 & 0.02574797 & 0.02900283 & 0.1319947 & DivNet & Aitchison\\\\\n",
       "\t N181-A102      & 42994 & 181 & A102       & 7-Nov-20  & 7-Nov  & 16 & NA   & U44      & CRF & ⋯ & TATGGTAATT & CTACAGGGTCTC & GTGYCAGCMGCCGCGGTAA & AATGATACGGCGACCACCGAGATCTACACGCTCTACAGGGTCTCTATGGTAATTGTGTGYCAGCMGCCGCGGTAA & 0.23963400 & 0.07503098 & 0.08957204 & 0.3896960 & DivNet & Aitchison\\\\\n",
       "\t N116-A058      & 50041 & 116 & A058       & 5-Nov-20  & 5-Nov  & 14 & NA   & Acerv2   & UM  & ⋯ & TATGGTAATT & CTACAGGGTCTC & GTGYCAGCMGCCGCGGTAA & AATGATACGGCGACCACCGAGATCTACACGCTCTACAGGGTCTCTATGGTAATTGTGTGYCAGCMGCCGCGGTAA & 0.23963400 & 0.07503098 & 0.08957204 & 0.3896960 & DivNet & Aitchison\\\\\n",
       "\t N131-200       &   650 & 131 & 200        & 6-Nov-20  & 6-Nov  & 15 & NA   & FM9      & FWC & ⋯ & TATGGTAATT & CGCCGTACTTGC & GTGYCAGCMGCCGCGGTAA & AATGATACGGCGACCACCGAGATCTACACGCTCGCCGTACTTGCTATGGTAATTGTGTGYCAGCMGCCGCGGTAA & 0.23963400 & 0.07503098 & 0.08957204 & 0.3896960 & DivNet & Aitchison\\\\\n",
       "\t N115-247       & 24933 & 115 & 247        & 5-Nov-20  & 5-Nov  & 14 & NA   & FM6      & FWC & ⋯ & TATGGTAATT & TCAGACCAACTG & GTGYCAGCMGCCGCGGTAA & AATGATACGGCGACCACCGAGATCTACACGCTTCAGACCAACTGTATGGTAATTGTGTGYCAGCMGCCGCGGTAA & 0.23963400 & 0.07503098 & 0.08957204 & 0.3896960 & DivNet & Aitchison\\\\\n",
       "\t N132-A031      & 57619 & 132 & A031       & 6-Nov-20  & 6-Nov  & 15 & NA   & Cooper-9 & UM  & ⋯ & TATGGTAATT & CTACAGGGTCTC & GTGYCAGCMGCCGCGGTAA & AATGATACGGCGACCACCGAGATCTACACGCTCTACAGGGTCTCTATGGTAATTGTGTGYCAGCMGCCGCGGTAA & 0.23963400 & 0.07503098 & 0.08957204 & 0.3896960 & DivNet & Aitchison\\\\\n",
       "\t N92-A007       & 35656 &  92 & A007       & 4-Nov-20  & 4-Nov  & 13 & NA   & Kelsey-1 & UM  & ⋯ & TATGGTAATT & AGCCTTCGTCGC & GTGYCAGCMGCCGCGGTAA & AATGATACGGCGACCACCGAGATCTACACGCTAGCCTTCGTCGCTATGGTAATTGTGTGYCAGCMGCCGCGGTAA & 0.08049877 & 0.02574797 & 0.02900283 & 0.1319947 & DivNet & Aitchison\\\\\n",
       "\t N83-A046       & 41686 &  83 & A046       & 3-Nov-20  & 3-Nov  & 12 & NA   & Acerv2   & UM  & ⋯ & TATGGTAATT & AGCCTTCGTCGC & GTGYCAGCMGCCGCGGTAA & AATGATACGGCGACCACCGAGATCTACACGCTAGCCTTCGTCGCTATGGTAATTGTGTGYCAGCMGCCGCGGTAA & 0.23963400 & 0.07503098 & 0.08957204 & 0.3896960 & DivNet & Aitchison\\\\\n",
       "\t N84-A030       & 23551 &  84 & A030       & 3-Nov-20  & 3-Nov  & 12 & NA   & Cooper-9 & UM  & ⋯ & TATGGTAATT & AGCCTTCGTCGC & GTGYCAGCMGCCGCGGTAA & AATGATACGGCGACCACCGAGATCTACACGCTAGCCTTCGTCGCTATGGTAATTGTGTGYCAGCMGCCGCGGTAA & 0.23963400 & 0.07503098 & 0.08957204 & 0.3896960 & DivNet & Aitchison\\\\\n",
       "\t N12-A008       & 48424 &  12 & A008       & 26-Oct-20 & 26-Oct &  5 & NA   & Kelsey-1 & UM  & ⋯ & TATGGTAATT & CTACAGGGTCTC & GTGYCAGCMGCCGCGGTAA & AATGATACGGCGACCACCGAGATCTACACGCTCTACAGGGTCTCTATGGTAATTGTGTGYCAGCMGCCGCGGTAA & 0.08049877 & 0.02574797 & 0.02900283 & 0.1319947 & DivNet & Aitchison\\\\\n",
       "\t N271-228       & 26944 & 271 & 228        & 10-Nov-20 & 10-Nov & 19 & NA   & FM9      & FWC & ⋯ & TATGGTAATT & CTTGCTCATAAT & GTGYCAGCMGCCGCGGTAA & AATGATACGGCGACCACCGAGATCTACACGCTCTTGCTCATAATTATGGTAATTGTGTGYCAGCMGCCGCGGTAA & 0.23963400 & 0.07503098 & 0.08957204 & 0.3896960 & DivNet & Aitchison\\\\\n",
       "\t N268-A180      & 33042 & 268 & A180       & 10-Nov-20 & 10-Nov & 19 & NA   & FM19     & FWC & ⋯ & TATGGTAATT & CTACAGGGTCTC & GTGYCAGCMGCCGCGGTAA & AATGATACGGCGACCACCGAGATCTACACGCTCTACAGGGTCTCTATGGTAATTGTGTGYCAGCMGCCGCGGTAA & 0.23963400 & 0.07503098 & 0.08957204 & 0.3896960 & DivNet & Aitchison\\\\\n",
       "\t N88-Hom-Hea    & 21207 &  88 & Hom\\_Dis\\_R1 & 31-Oct-20 & 31-Oct &  9 & NA   & NA       & NA  & ⋯ & TATGGTAATT & CTACAGGGTCTC & GTGYCAGCMGCCGCGGTAA & AATGATACGGCGACCACCGAGATCTACACGCTCTACAGGGTCTCTATGGTAATTGTGTGYCAGCMGCCGCGGTAA &         NA &         NA &         NA &        NA & NA     & NA       \\\\\n",
       "\t N88-Hom-Hea-R2 & 35515 &  88 & Hom\\_Dis\\_R2 & 31-Oct-20 & 31-Oct &  9 & NA   & NA       & NA  & ⋯ & TATGGTAATT & TTAAGTTAAGTT & GTGYCAGCMGCCGCGGTAA & AATGATACGGCGACCACCGAGATCTACACGCTTTAAGTTAAGTTTATGGTAATTGTGTGYCAGCMGCCGCGGTAA &         NA &         NA &         NA &        NA & NA     & NA       \\\\\n",
       "\t N1-Hom\\_        & 48625 &   1 & Hom\\_R1     & NA        & NA     & NA & NA   & NA       & NA  & ⋯ & TATGGTAATT & CTACAGGGTCTC & GTGYCAGCMGCCGCGGTAA & AATGATACGGCGACCACCGAGATCTACACGCTCTACAGGGTCTCTATGGTAATTGTGTGYCAGCMGCCGCGGTAA &         NA &         NA &         NA &        NA & NA     & NA       \\\\\n",
       "\t N3-Hom         & 16005 &   3 & Hom\\_3\\_R1   & NA        & NA     & NA & NA   & NA       & NA  & ⋯ & TATGGTAATT & CTACAGGGTCTC & GTGYCAGCMGCCGCGGTAA & AATGATACGGCGACCACCGAGATCTACACGCTCTACAGGGTCTCTATGGTAATTGTGTGYCAGCMGCCGCGGTAA &         NA &         NA &         NA &        NA & NA     & NA       \\\\\n",
       "\\end{tabular}\n"
      ],
      "text/markdown": [
       "\n",
       "A data.frame: 284 × 50\n",
       "\n",
       "| sample_names &lt;chr&gt; | featurecounts &lt;int&gt; | Initial_sample_ID &lt;int&gt; | Tag &lt;chr&gt; | Date_Collected &lt;chr&gt; | Date &lt;chr&gt; | TimePoint &lt;int&gt; | Replicate &lt;chr&gt; | Genotype &lt;chr&gt; | Nursery &lt;chr&gt; | ⋯ ⋯ | Forward_Primer_Pad &lt;chr&gt; | Golay_Barcode &lt;chr&gt; | X515FB_Forward_Primer &lt;chr&gt; | Primer_For_PCR &lt;chr&gt; | estimate &lt;dbl&gt; | error &lt;dbl&gt; | lower &lt;dbl&gt; | upper &lt;dbl&gt; | name &lt;chr&gt; | model &lt;chr&gt; |\n",
       "|---|---|---|---|---|---|---|---|---|---|---|---|---|---|---|---|---|---|---|---|---|\n",
       "| N13-A038  | 26888 |  13 | A038 | 26-Oct-20 | 26-Oct |  5 | NA   | Cooper-9 | UM  | ⋯ | TATGGTAATT | CTACAGGGTCTC | GTGYCAGCMGCCGCGGTAA | AATGATACGGCGACCACCGAGATCTACACGCTCTACAGGGTCTCTATGGTAATTGTGTGYCAGCMGCCGCGGTAA | 0.23963400 | 0.07503098 | 0.08957204 | 0.3896960 | DivNet | Aitchison |\n",
       "| N14-A040  | 38951 |  14 | A040 | 28-Oct-20 | 28-Oct |  6 | NA   | Acerv2   | UM  | ⋯ | TATGGTAATT | TTGAACAAGCCA | GTGYCAGCMGCCGCGGTAA | AATGATACGGCGACCACCGAGATCTACACGCTTTGAACAAGCCATATGGTAATTGTGTGYCAGCMGCCGCGGTAA | 0.23963400 | 0.07503098 | 0.08957204 | 0.3896960 | DivNet | Aitchison |\n",
       "| N23-A166  | 16954 |  23 | A166 | 30-Oct-20 | 30-Oct |  8 | NA   | K2       | CRF | ⋯ | TATGGTAATT | AGCCTTCGTCGC | GTGYCAGCMGCCGCGGTAA | AATGATACGGCGACCACCGAGATCTACACGCTAGCCTTCGTCGCTATGGTAATTGTGTGYCAGCMGCCGCGGTAA |         NA |         NA |         NA |        NA | NA     | NA        |\n",
       "| N22-A121  | 67201 |  22 | A121 | 30-Oct-20 | 30-Oct |  8 | NA   | U44      | CRF | ⋯ | TATGGTAATT | AGCCTTCGTCGC | GTGYCAGCMGCCGCGGTAA | AATGATACGGCGACCACCGAGATCTACACGCTAGCCTTCGTCGCTATGGTAATTGTGTGYCAGCMGCCGCGGTAA |         NA |         NA |         NA |        NA | NA     | NA        |\n",
       "| N266-A104 | 29691 | 266 | A104 | 10-Nov-20 | 10-Nov | 19 | NA   | U44      | CRF | ⋯ | TATGGTAATT | CTACAGGGTCTC | GTGYCAGCMGCCGCGGTAA | AATGATACGGCGACCACCGAGATCTACACGCTCTACAGGGTCTCTATGGTAATTGTGTGYCAGCMGCCGCGGTAA | 0.23963400 | 0.07503098 | 0.08957204 | 0.3896960 | DivNet | Aitchison |\n",
       "| N267-A110 | 32445 | 267 | A110 | 10-Nov-20 | 10-Nov | 19 | NA   | U41      | CRF | ⋯ | TATGGTAATT | CTACAGGGTCTC | GTGYCAGCMGCCGCGGTAA | AATGATACGGCGACCACCGAGATCTACACGCTCTACAGGGTCTCTATGGTAATTGTGTGYCAGCMGCCGCGGTAA |         NA |         NA |         NA |        NA | NA     | NA        |\n",
       "| N28-A027  | 44848 |  28 | A027 | 30-Oct-20 | 30-Oct |  8 | NA   | Cooper-9 | UM  | ⋯ | TATGGTAATT | AGCCTTCGTCGC | GTGYCAGCMGCCGCGGTAA | AATGATACGGCGACCACCGAGATCTACACGCTAGCCTTCGTCGCTATGGTAATTGTGTGYCAGCMGCCGCGGTAA |         NA |         NA |         NA |        NA | NA     | NA        |\n",
       "| N29-A041  | 31284 |  29 | A041 | 30-Oct-20 | 30-Oct |  8 | NA   | Acerv2   | UM  | ⋯ | TATGGTAATT | AGCCTTCGTCGC | GTGYCAGCMGCCGCGGTAA | AATGATACGGCGACCACCGAGATCTACACGCTAGCCTTCGTCGCTATGGTAATTGTGTGYCAGCMGCCGCGGTAA |         NA |         NA |         NA |        NA | NA     | NA        |\n",
       "| N27-283   | 16502 |  27 | 283  | 30-Oct-20 | 30-Oct |  8 | NA   | FM14     | FWC | ⋯ | TATGGTAATT | AGCCTTCGTCGC | GTGYCAGCMGCCGCGGTAA | AATGATACGGCGACCACCGAGATCTACACGCTAGCCTTCGTCGCTATGGTAATTGTGTGYCAGCMGCCGCGGTAA |         NA |         NA |         NA |        NA | NA     | NA        |\n",
       "| N25-208   | 42616 |  25 | 208  | 30-Oct-20 | 30-Oct |  8 | NA   | FM9      | FWC | ⋯ | TATGGTAATT | AGCCTTCGTCGC | GTGYCAGCMGCCGCGGTAA | AATGATACGGCGACCACCGAGATCTACACGCTAGCCTTCGTCGCTATGGTAATTGTGTGYCAGCMGCCGCGGTAA |         NA |         NA |         NA |        NA | NA     | NA        |\n",
       "| N26-243   | 21453 |  26 | 243  | 30-Oct-20 | 30-Oct |  8 | NA   | FM6      | FWC | ⋯ | TATGGTAATT | AGCCTTCGTCGC | GTGYCAGCMGCCGCGGTAA | AATGATACGGCGACCACCGAGATCTACACGCTAGCCTTCGTCGCTATGGTAATTGTGTGYCAGCMGCCGCGGTAA |         NA |         NA |         NA |        NA | NA     | NA        |\n",
       "| N272-230  | 38362 | 272 | 230  | 10-Nov-20 | 10-Nov | 19 | NA   | FM6      | FWC | ⋯ | TATGGTAATT | GGTAGTTCATAG | GTGYCAGCMGCCGCGGTAA | AATGATACGGCGACCACCGAGATCTACACGCTGGTAGTTCATAGTATGGTAATTGTGTGYCAGCMGCCGCGGTAA | 0.23963400 | 0.07503098 | 0.08957204 | 0.3896960 | DivNet | Aitchison |\n",
       "| N24-A182  | 27495 |  24 | A182 | 30-Oct-20 | 30-Oct |  8 | NA   | FM19     | FWC | ⋯ | TATGGTAATT | AGCCTTCGTCGC | GTGYCAGCMGCCGCGGTAA | AATGATACGGCGACCACCGAGATCTACACGCTAGCCTTCGTCGCTATGGTAATTGTGTGYCAGCMGCCGCGGTAA |         NA |         NA |         NA |        NA | NA     | NA        |\n",
       "| N269-A181 | 27899 | 269 | A181 | 10-Nov-20 | 10-Nov | 19 | NA   | FM19     | FWC | ⋯ | TATGGTAATT | TAGTTCGGTGAC | GTGYCAGCMGCCGCGGTAA | AATGATACGGCGACCACCGAGATCTACACGCTTAGTTCGGTGACTATGGTAATTGTGTGYCAGCMGCCGCGGTAA | 0.23963400 | 0.07503098 | 0.08957204 | 0.3896960 | DivNet | Aitchison |\n",
       "| N270-A182 | 32166 | 270 | A182 | 10-Nov-20 | 10-Nov | 19 | NA   | FM19     | FWC | ⋯ | TATGGTAATT | ACTAAAGCAAAC | GTGYCAGCMGCCGCGGTAA | AATGATACGGCGACCACCGAGATCTACACGCTACTAAAGCAAACTATGGTAATTGTGTGYCAGCMGCCGCGGTAA | 0.23963400 | 0.07503098 | 0.08957204 | 0.3896960 | DivNet | Aitchison |\n",
       "| N273-358  | 35454 | 273 | 358  | 10-Nov-20 | 10-Nov | 19 | NA   | FM19     | FWC | ⋯ | TATGGTAATT | CTACAGGGTCTC | GTGYCAGCMGCCGCGGTAA | AATGATACGGCGACCACCGAGATCTACACGCTCTACAGGGTCTCTATGGTAATTGTGTGYCAGCMGCCGCGGTAA | 0.23963400 | 0.07503098 | 0.08957204 | 0.3896960 | DivNet | Aitchison |\n",
       "| N18-A016  | 29746 |  18 | A016 | 30-Oct-20 | 30-Oct |  8 | NA   | Cooper-9 | UM  | ⋯ | TATGGTAATT | AGCCTTCGTCGC | GTGYCAGCMGCCGCGGTAA | AATGATACGGCGACCACCGAGATCTACACGCTAGCCTTCGTCGCTATGGTAATTGTGTGYCAGCMGCCGCGGTAA |         NA |         NA |         NA |        NA | NA     | NA        |\n",
       "| N21-A095  | 31271 |  21 | A095 | 30-Oct-20 | 30-Oct |  8 | NA   | Kelsey-1 | UM  | ⋯ | TATGGTAATT | AGCCTTCGTCGC | GTGYCAGCMGCCGCGGTAA | AATGATACGGCGACCACCGAGATCTACACGCTAGCCTTCGTCGCTATGGTAATTGTGTGYCAGCMGCCGCGGTAA |         NA |         NA |         NA |        NA | NA     | NA        |\n",
       "| N19-A053  | 23549 |  19 | A053 | 30-Oct-20 | 30-Oct |  8 | NA   | Acerv2   | UM  | ⋯ | TATGGTAATT | AGCCTTCGTCGC | GTGYCAGCMGCCGCGGTAA | AATGATACGGCGACCACCGAGATCTACACGCTAGCCTTCGTCGCTATGGTAATTGTGTGYCAGCMGCCGCGGTAA |         NA |         NA |         NA |        NA | NA     | NA        |\n",
       "| N86-A052  | 34109 |  86 | A052 | 3-Nov-20  | 3-Nov  | 12 | r1_w | Acerv2   | UM  | ⋯ | TATGGTAATT | AGCCTTCGTCGC | GTGYCAGCMGCCGCGGTAA | AATGATACGGCGACCACCGAGATCTACACGCTAGCCTTCGTCGCTATGGTAATTGTGTGYCAGCMGCCGCGGTAA | 0.08049877 | 0.02574797 | 0.02900283 | 0.1319947 | DivNet | Aitchison |\n",
       "| N106-A051 | 28128 | 106 | A051 | 5-Nov-20  | 5-Nov  | 14 | r1_w | Acerv2   | UM  | ⋯ | TATGGTAATT | AGCCTTCGTCGC | GTGYCAGCMGCCGCGGTAA | AATGATACGGCGACCACCGAGATCTACACGCTAGCCTTCGTCGCTATGGTAATTGTGTGYCAGCMGCCGCGGTAA | 0.08049877 | 0.02574797 | 0.02900283 | 0.1319947 | DivNet | Aitchison |\n",
       "| N128-A052 | 27263 | 128 | A052 | 6-Nov-20  | 6-Nov  | 15 | r2_w | Acerv2   | UM  | ⋯ | TATGGTAATT | TCATGGCCTCCG | GTGYCAGCMGCCGCGGTAA | AATGATACGGCGACCACCGAGATCTACACGCTTCATGGCCTCCGTATGGTAATTGTGTGYCAGCMGCCGCGGTAA | 0.08049877 | 0.02574797 | 0.02900283 | 0.1319947 | DivNet | Aitchison |\n",
       "| N8-A060   | 25759 |   8 | A060 | 24-Oct-20 | 24-Oct |  3 | NA   | Acerv2   | UM  | ⋯ | TATGGTAATT | GTTTGAAACACG | GTGYCAGCMGCCGCGGTAA | AATGATACGGCGACCACCGAGATCTACACGCTGTTTGAAACACGTATGGTAATTGTGTGYCAGCMGCCGCGGTAA | 0.08049877 | 0.02574797 | 0.02900283 | 0.1319947 | DivNet | Aitchison |\n",
       "| N9-A048   | 45982 |   9 | A048 | 25-Oct-20 | 25-Oct |  4 | NA   | Acerv2   | UM  | ⋯ | TATGGTAATT | CTACAGGGTCTC | GTGYCAGCMGCCGCGGTAA | AATGATACGGCGACCACCGAGATCTACACGCTCTACAGGGTCTCTATGGTAATTGTGTGYCAGCMGCCGCGGTAA | 0.08049877 | 0.02574797 | 0.02900283 | 0.1319947 | DivNet | Aitchison |\n",
       "| N60-A056  | 75497 |  60 | A056 | 30-Oct-20 | 30-Oct |  8 | NA   | Acerv2   | UM  | ⋯ | TATGGTAATT | AGCCTTCGTCGC | GTGYCAGCMGCCGCGGTAA | AATGATACGGCGACCACCGAGATCTACACGCTAGCCTTCGTCGCTATGGTAATTGTGTGYCAGCMGCCGCGGTAA |         NA |         NA |         NA |        NA | NA     | NA        |\n",
       "| N11-A153  | 27631 |  11 | A153 | 26-Oct-20 | 26-Oct |  5 | NA   | Kelsey-1 | UM  | ⋯ | TATGGTAATT | CTACAGGGTCTC | GTGYCAGCMGCCGCGGTAA | AATGATACGGCGACCACCGAGATCTACACGCTCTACAGGGTCTCTATGGTAATTGTGTGYCAGCMGCCGCGGTAA | 0.23963400 | 0.07503098 | 0.08957204 | 0.3896960 | DivNet | Aitchison |\n",
       "| N17-A002  | 31376 |  17 | A002 | 29-Oct-20 | 29-Oct |  7 | NA   | Kelsey-1 | UM  | ⋯ | TATGGTAATT | CTACAGGGTCTC | GTGYCAGCMGCCGCGGTAA | AATGATACGGCGACCACCGAGATCTACACGCTCTACAGGGTCTCTATGGTAATTGTGTGYCAGCMGCCGCGGTAA | 0.23963400 | 0.07503098 | 0.08957204 | 0.3896960 | DivNet | Aitchison |\n",
       "| N70-A052  | 24607 |  70 | A052 | 30-Oct-20 | 30-Oct |  8 | NA   | Acerv2   | UM  | ⋯ | TATGGTAATT | AGCCTTCGTCGC | GTGYCAGCMGCCGCGGTAA | AATGATACGGCGACCACCGAGATCTACACGCTAGCCTTCGTCGCTATGGTAATTGTGTGYCAGCMGCCGCGGTAA |         NA |         NA |         NA |        NA | NA     | NA        |\n",
       "| N139-A014 | 22795 | 139 | A014 | 6-Nov-20  | 6-Nov  | 15 | NA   | Kelsey-1 | UM  | ⋯ | TATGGTAATT | TAAACCTGGACA | GTGYCAGCMGCCGCGGTAA | AATGATACGGCGACCACCGAGATCTACACGCTTAAACCTGGACATATGGTAATTGTGTGYCAGCMGCCGCGGTAA | 0.08049877 | 0.02574797 | 0.02900283 | 0.1319947 | DivNet | Aitchison |\n",
       "| N31-A097  | 35470 |  31 | A097 | 30-Oct-20 | 30-Oct |  8 | NA   | Kelsey-1 | UM  | ⋯ | TATGGTAATT | AGCCTTCGTCGC | GTGYCAGCMGCCGCGGTAA | AATGATACGGCGACCACCGAGATCTACACGCTAGCCTTCGTCGCTATGGTAATTGTGTGYCAGCMGCCGCGGTAA |         NA |         NA |         NA |        NA | NA     | NA        |\n",
       "| ⋮ | ⋮ | ⋮ | ⋮ | ⋮ | ⋮ | ⋮ | ⋮ | ⋮ | ⋮ | ⋱ | ⋮ | ⋮ | ⋮ | ⋮ | ⋮ | ⋮ | ⋮ | ⋮ | ⋮ | ⋮ |\n",
       "| N117-163       | 43137 | 117 | 163        | 5-Nov-20  | 5-Nov  | 14 | NA   | K2       | CRF | ⋯ | TATGGTAATT | CTACAGGGTCTC | GTGYCAGCMGCCGCGGTAA | AATGATACGGCGACCACCGAGATCTACACGCTCTACAGGGTCTCTATGGTAATTGTGTGYCAGCMGCCGCGGTAA | 0.23963400 | 0.07503098 | 0.08957204 | 0.3896960 | DivNet | Aitchison |\n",
       "| N97-205        | 37212 |  97 | 205        | 4-Nov-20  | 4-Nov  | 13 | NA   | FM9      | FWC | ⋯ | TATGGTAATT | AGCCTTCGTCGC | GTGYCAGCMGCCGCGGTAA | AATGATACGGCGACCACCGAGATCTACACGCTAGCCTTCGTCGCTATGGTAATTGTGTGYCAGCMGCCGCGGTAA | 0.23963400 | 0.07503098 | 0.08957204 | 0.3896960 | DivNet | Aitchison |\n",
       "| N136-A161      | 38303 | 136 | A161       | 6-Nov-20  | 6-Nov  | 15 | NA   | K2       | CRF | ⋯ | TATGGTAATT | CAATCATAGGTG | GTGYCAGCMGCCGCGGTAA | AATGATACGGCGACCACCGAGATCTACACGCTCAATCATAGGTGTATGGTAATTGTGTGYCAGCMGCCGCGGTAA | 0.23963400 | 0.07503098 | 0.08957204 | 0.3896960 | DivNet | Aitchison |\n",
       "| N159-202       | 32701 | 159 | 202        | 6-Nov-20  | 6-Nov  | 15 | NA   | FM9      | FWC | ⋯ | TATGGTAATT | CTACAGGGTCTC | GTGYCAGCMGCCGCGGTAA | AATGATACGGCGACCACCGAGATCTACACGCTCTACAGGGTCTCTATGGTAATTGTGTGYCAGCMGCCGCGGTAA | 0.23963400 | 0.07503098 | 0.08957204 | 0.3896960 | DivNet | Aitchison |\n",
       "| N112-A005      | 42758 | 112 | A005       | 5-Nov-20  | 5-Nov  | 14 | NA   | Kelsey-1 | UM  | ⋯ | TATGGTAATT | AGCCTTCGTCGC | GTGYCAGCMGCCGCGGTAA | AATGATACGGCGACCACCGAGATCTACACGCTAGCCTTCGTCGCTATGGTAATTGTGTGYCAGCMGCCGCGGTAA | 0.23963400 | 0.07503098 | 0.08957204 | 0.3896960 | DivNet | Aitchison |\n",
       "| N173-A095      | 45816 | 173 | A095       | 7-Nov-20  | 7-Nov  | 16 | NA   | Kelsey-1 | UM  | ⋯ | TATGGTAATT | CTACAGGGTCTC | GTGYCAGCMGCCGCGGTAA | AATGATACGGCGACCACCGAGATCTACACGCTCTACAGGGTCTCTATGGTAATTGTGTGYCAGCMGCCGCGGTAA | 0.23963400 | 0.07503098 | 0.08957204 | 0.3896960 | DivNet | Aitchison |\n",
       "| N89-A053       | 25245 |  89 | A053       | 3-Nov-20  | 3-Nov  | 12 | NA   | Acerv2   | UM  | ⋯ | TATGGTAATT | AGCCTTCGTCGC | GTGYCAGCMGCCGCGGTAA | AATGATACGGCGACCACCGAGATCTACACGCTAGCCTTCGTCGCTATGGTAATTGTGTGYCAGCMGCCGCGGTAA | 0.23963400 | 0.07503098 | 0.08957204 | 0.3896960 | DivNet | Aitchison |\n",
       "| N134-A049      | 41241 | 134 | A049       | 6-Nov-20  | 6-Nov  | 15 | NA   | Acerv2   | UM  | ⋯ | TATGGTAATT | CTACAGGGTCTC | GTGYCAGCMGCCGCGGTAA | AATGATACGGCGACCACCGAGATCTACACGCTCTACAGGGTCTCTATGGTAATTGTGTGYCAGCMGCCGCGGTAA | 0.23963400 | 0.07503098 | 0.08957204 | 0.3896960 | DivNet | Aitchison |\n",
       "| N154-A087      | 34955 | 154 | A087       | 6-Nov-20  | 6-Nov  | 15 | NA   | Elkhorn  | UM  | ⋯ | TATGGTAATT | TGCGGCGTCAGG | GTGYCAGCMGCCGCGGTAA | AATGATACGGCGACCACCGAGATCTACACGCTTGCGGCGTCAGGTATGGTAATTGTGTGYCAGCMGCCGCGGTAA | 0.23963400 | 0.07503098 | 0.08957204 | 0.3896960 | DivNet | Aitchison |\n",
       "| N185-A088      | 36439 | 185 | A088       | 8-Nov-20  | 8-Nov  | 17 | r1_m | Elkhorn  | UM  | ⋯ | TATGGTAATT | GTCCGTCCTGGT | GTGYCAGCMGCCGCGGTAA | AATGATACGGCGACCACCGAGATCTACACGCTGTCCGTCCTGGTTATGGTAATTGTGTGYCAGCMGCCGCGGTAA | 0.23963400 | 0.07503098 | 0.08957204 | 0.3896960 | DivNet | Aitchison |\n",
       "| N185-A088-R2   | 34179 | 185 | A088       | 8-Nov-20  | 8-Nov  | 17 | r2_m | Elkhorn  | UM  | ⋯ | TATGGTAATT | CTACAGGGTCTC | GTGYCAGCMGCCGCGGTAA | AATGATACGGCGACCACCGAGATCTACACGCTCTACAGGGTCTCTATGGTAATTGTGTGYCAGCMGCCGCGGTAA |         NA |         NA |         NA |        NA | NA     | NA        |\n",
       "| N192-A057      | 32787 | 192 | A057       | 9-Nov-20  | 9-Nov  | 18 | NA   | Acerv2   | UM  | ⋯ | TATGGTAATT | CACACAAAGTCA | GTGYCAGCMGCCGCGGTAA | AATGATACGGCGACCACCGAGATCTACACGCTCACACAAAGTCATATGGTAATTGTGTGYCAGCMGCCGCGGTAA | 0.23963400 | 0.07503098 | 0.08957204 | 0.3896960 | DivNet | Aitchison |\n",
       "| N101-A118      | 37571 | 101 | A118       | 4-Nov-20  | 4-Nov  | 13 | NA   | U41      | CRF | ⋯ | TATGGTAATT | AGCCTTCGTCGC | GTGYCAGCMGCCGCGGTAA | AATGATACGGCGACCACCGAGATCTACACGCTAGCCTTCGTCGCTATGGTAATTGTGTGYCAGCMGCCGCGGTAA |         NA |         NA |         NA |        NA | NA     | NA        |\n",
       "| N119-A107      | 40509 | 119 | A107       | 5-Nov-20  | 5-Nov  | 14 | NA   | U41      | CRF | ⋯ | TATGGTAATT | CTACAGGGTCTC | GTGYCAGCMGCCGCGGTAA | AATGATACGGCGACCACCGAGATCTACACGCTCTACAGGGTCTCTATGGTAATTGTGTGYCAGCMGCCGCGGTAA |         NA |         NA |         NA |        NA | NA     | NA        |\n",
       "| N184-A051      | 29572 | 184 | A051       | 8-Nov-20  | 8-Nov  | 17 | r2_w | Acerv2   | UM  | ⋯ | TATGGTAATT | TCAAGTCCGCAC | GTGYCAGCMGCCGCGGTAA | AATGATACGGCGACCACCGAGATCTACACGCTTCAAGTCCGCACTATGGTAATTGTGTGYCAGCMGCCGCGGTAA | 0.08049877 | 0.02574797 | 0.02900283 | 0.1319947 | DivNet | Aitchison |\n",
       "| N181-A102      | 42994 | 181 | A102       | 7-Nov-20  | 7-Nov  | 16 | NA   | U44      | CRF | ⋯ | TATGGTAATT | CTACAGGGTCTC | GTGYCAGCMGCCGCGGTAA | AATGATACGGCGACCACCGAGATCTACACGCTCTACAGGGTCTCTATGGTAATTGTGTGYCAGCMGCCGCGGTAA | 0.23963400 | 0.07503098 | 0.08957204 | 0.3896960 | DivNet | Aitchison |\n",
       "| N116-A058      | 50041 | 116 | A058       | 5-Nov-20  | 5-Nov  | 14 | NA   | Acerv2   | UM  | ⋯ | TATGGTAATT | CTACAGGGTCTC | GTGYCAGCMGCCGCGGTAA | AATGATACGGCGACCACCGAGATCTACACGCTCTACAGGGTCTCTATGGTAATTGTGTGYCAGCMGCCGCGGTAA | 0.23963400 | 0.07503098 | 0.08957204 | 0.3896960 | DivNet | Aitchison |\n",
       "| N131-200       |   650 | 131 | 200        | 6-Nov-20  | 6-Nov  | 15 | NA   | FM9      | FWC | ⋯ | TATGGTAATT | CGCCGTACTTGC | GTGYCAGCMGCCGCGGTAA | AATGATACGGCGACCACCGAGATCTACACGCTCGCCGTACTTGCTATGGTAATTGTGTGYCAGCMGCCGCGGTAA | 0.23963400 | 0.07503098 | 0.08957204 | 0.3896960 | DivNet | Aitchison |\n",
       "| N115-247       | 24933 | 115 | 247        | 5-Nov-20  | 5-Nov  | 14 | NA   | FM6      | FWC | ⋯ | TATGGTAATT | TCAGACCAACTG | GTGYCAGCMGCCGCGGTAA | AATGATACGGCGACCACCGAGATCTACACGCTTCAGACCAACTGTATGGTAATTGTGTGYCAGCMGCCGCGGTAA | 0.23963400 | 0.07503098 | 0.08957204 | 0.3896960 | DivNet | Aitchison |\n",
       "| N132-A031      | 57619 | 132 | A031       | 6-Nov-20  | 6-Nov  | 15 | NA   | Cooper-9 | UM  | ⋯ | TATGGTAATT | CTACAGGGTCTC | GTGYCAGCMGCCGCGGTAA | AATGATACGGCGACCACCGAGATCTACACGCTCTACAGGGTCTCTATGGTAATTGTGTGYCAGCMGCCGCGGTAA | 0.23963400 | 0.07503098 | 0.08957204 | 0.3896960 | DivNet | Aitchison |\n",
       "| N92-A007       | 35656 |  92 | A007       | 4-Nov-20  | 4-Nov  | 13 | NA   | Kelsey-1 | UM  | ⋯ | TATGGTAATT | AGCCTTCGTCGC | GTGYCAGCMGCCGCGGTAA | AATGATACGGCGACCACCGAGATCTACACGCTAGCCTTCGTCGCTATGGTAATTGTGTGYCAGCMGCCGCGGTAA | 0.08049877 | 0.02574797 | 0.02900283 | 0.1319947 | DivNet | Aitchison |\n",
       "| N83-A046       | 41686 |  83 | A046       | 3-Nov-20  | 3-Nov  | 12 | NA   | Acerv2   | UM  | ⋯ | TATGGTAATT | AGCCTTCGTCGC | GTGYCAGCMGCCGCGGTAA | AATGATACGGCGACCACCGAGATCTACACGCTAGCCTTCGTCGCTATGGTAATTGTGTGYCAGCMGCCGCGGTAA | 0.23963400 | 0.07503098 | 0.08957204 | 0.3896960 | DivNet | Aitchison |\n",
       "| N84-A030       | 23551 |  84 | A030       | 3-Nov-20  | 3-Nov  | 12 | NA   | Cooper-9 | UM  | ⋯ | TATGGTAATT | AGCCTTCGTCGC | GTGYCAGCMGCCGCGGTAA | AATGATACGGCGACCACCGAGATCTACACGCTAGCCTTCGTCGCTATGGTAATTGTGTGYCAGCMGCCGCGGTAA | 0.23963400 | 0.07503098 | 0.08957204 | 0.3896960 | DivNet | Aitchison |\n",
       "| N12-A008       | 48424 |  12 | A008       | 26-Oct-20 | 26-Oct |  5 | NA   | Kelsey-1 | UM  | ⋯ | TATGGTAATT | CTACAGGGTCTC | GTGYCAGCMGCCGCGGTAA | AATGATACGGCGACCACCGAGATCTACACGCTCTACAGGGTCTCTATGGTAATTGTGTGYCAGCMGCCGCGGTAA | 0.08049877 | 0.02574797 | 0.02900283 | 0.1319947 | DivNet | Aitchison |\n",
       "| N271-228       | 26944 | 271 | 228        | 10-Nov-20 | 10-Nov | 19 | NA   | FM9      | FWC | ⋯ | TATGGTAATT | CTTGCTCATAAT | GTGYCAGCMGCCGCGGTAA | AATGATACGGCGACCACCGAGATCTACACGCTCTTGCTCATAATTATGGTAATTGTGTGYCAGCMGCCGCGGTAA | 0.23963400 | 0.07503098 | 0.08957204 | 0.3896960 | DivNet | Aitchison |\n",
       "| N268-A180      | 33042 | 268 | A180       | 10-Nov-20 | 10-Nov | 19 | NA   | FM19     | FWC | ⋯ | TATGGTAATT | CTACAGGGTCTC | GTGYCAGCMGCCGCGGTAA | AATGATACGGCGACCACCGAGATCTACACGCTCTACAGGGTCTCTATGGTAATTGTGTGYCAGCMGCCGCGGTAA | 0.23963400 | 0.07503098 | 0.08957204 | 0.3896960 | DivNet | Aitchison |\n",
       "| N88-Hom-Hea    | 21207 |  88 | Hom_Dis_R1 | 31-Oct-20 | 31-Oct |  9 | NA   | NA       | NA  | ⋯ | TATGGTAATT | CTACAGGGTCTC | GTGYCAGCMGCCGCGGTAA | AATGATACGGCGACCACCGAGATCTACACGCTCTACAGGGTCTCTATGGTAATTGTGTGYCAGCMGCCGCGGTAA |         NA |         NA |         NA |        NA | NA     | NA        |\n",
       "| N88-Hom-Hea-R2 | 35515 |  88 | Hom_Dis_R2 | 31-Oct-20 | 31-Oct |  9 | NA   | NA       | NA  | ⋯ | TATGGTAATT | TTAAGTTAAGTT | GTGYCAGCMGCCGCGGTAA | AATGATACGGCGACCACCGAGATCTACACGCTTTAAGTTAAGTTTATGGTAATTGTGTGYCAGCMGCCGCGGTAA |         NA |         NA |         NA |        NA | NA     | NA        |\n",
       "| N1-Hom_        | 48625 |   1 | Hom_R1     | NA        | NA     | NA | NA   | NA       | NA  | ⋯ | TATGGTAATT | CTACAGGGTCTC | GTGYCAGCMGCCGCGGTAA | AATGATACGGCGACCACCGAGATCTACACGCTCTACAGGGTCTCTATGGTAATTGTGTGYCAGCMGCCGCGGTAA |         NA |         NA |         NA |        NA | NA     | NA        |\n",
       "| N3-Hom         | 16005 |   3 | Hom_3_R1   | NA        | NA     | NA | NA   | NA       | NA  | ⋯ | TATGGTAATT | CTACAGGGTCTC | GTGYCAGCMGCCGCGGTAA | AATGATACGGCGACCACCGAGATCTACACGCTCTACAGGGTCTCTATGGTAATTGTGTGYCAGCMGCCGCGGTAA |         NA |         NA |         NA |        NA | NA     | NA        |\n",
       "\n"
      ],
      "text/plain": [
       "    sample_names   featurecounts Initial_sample_ID Tag        Date_Collected\n",
       "1   N13-A038       26888          13               A038       26-Oct-20     \n",
       "2   N14-A040       38951          14               A040       28-Oct-20     \n",
       "3   N23-A166       16954          23               A166       30-Oct-20     \n",
       "4   N22-A121       67201          22               A121       30-Oct-20     \n",
       "5   N266-A104      29691         266               A104       10-Nov-20     \n",
       "6   N267-A110      32445         267               A110       10-Nov-20     \n",
       "7   N28-A027       44848          28               A027       30-Oct-20     \n",
       "8   N29-A041       31284          29               A041       30-Oct-20     \n",
       "9   N27-283        16502          27               283        30-Oct-20     \n",
       "10  N25-208        42616          25               208        30-Oct-20     \n",
       "11  N26-243        21453          26               243        30-Oct-20     \n",
       "12  N272-230       38362         272               230        10-Nov-20     \n",
       "13  N24-A182       27495          24               A182       30-Oct-20     \n",
       "14  N269-A181      27899         269               A181       10-Nov-20     \n",
       "15  N270-A182      32166         270               A182       10-Nov-20     \n",
       "16  N273-358       35454         273               358        10-Nov-20     \n",
       "17  N18-A016       29746          18               A016       30-Oct-20     \n",
       "18  N21-A095       31271          21               A095       30-Oct-20     \n",
       "19  N19-A053       23549          19               A053       30-Oct-20     \n",
       "20  N86-A052       34109          86               A052       3-Nov-20      \n",
       "21  N106-A051      28128         106               A051       5-Nov-20      \n",
       "22  N128-A052      27263         128               A052       6-Nov-20      \n",
       "23  N8-A060        25759           8               A060       24-Oct-20     \n",
       "24  N9-A048        45982           9               A048       25-Oct-20     \n",
       "25  N60-A056       75497          60               A056       30-Oct-20     \n",
       "26  N11-A153       27631          11               A153       26-Oct-20     \n",
       "27  N17-A002       31376          17               A002       29-Oct-20     \n",
       "28  N70-A052       24607          70               A052       30-Oct-20     \n",
       "29  N139-A014      22795         139               A014       6-Nov-20      \n",
       "30  N31-A097       35470          31               A097       30-Oct-20     \n",
       "⋮   ⋮              ⋮             ⋮                 ⋮          ⋮             \n",
       "255 N117-163       43137         117               163        5-Nov-20      \n",
       "256 N97-205        37212          97               205        4-Nov-20      \n",
       "257 N136-A161      38303         136               A161       6-Nov-20      \n",
       "258 N159-202       32701         159               202        6-Nov-20      \n",
       "259 N112-A005      42758         112               A005       5-Nov-20      \n",
       "260 N173-A095      45816         173               A095       7-Nov-20      \n",
       "261 N89-A053       25245          89               A053       3-Nov-20      \n",
       "262 N134-A049      41241         134               A049       6-Nov-20      \n",
       "263 N154-A087      34955         154               A087       6-Nov-20      \n",
       "264 N185-A088      36439         185               A088       8-Nov-20      \n",
       "265 N185-A088-R2   34179         185               A088       8-Nov-20      \n",
       "266 N192-A057      32787         192               A057       9-Nov-20      \n",
       "267 N101-A118      37571         101               A118       4-Nov-20      \n",
       "268 N119-A107      40509         119               A107       5-Nov-20      \n",
       "269 N184-A051      29572         184               A051       8-Nov-20      \n",
       "270 N181-A102      42994         181               A102       7-Nov-20      \n",
       "271 N116-A058      50041         116               A058       5-Nov-20      \n",
       "272 N131-200         650         131               200        6-Nov-20      \n",
       "273 N115-247       24933         115               247        5-Nov-20      \n",
       "274 N132-A031      57619         132               A031       6-Nov-20      \n",
       "275 N92-A007       35656          92               A007       4-Nov-20      \n",
       "276 N83-A046       41686          83               A046       3-Nov-20      \n",
       "277 N84-A030       23551          84               A030       3-Nov-20      \n",
       "278 N12-A008       48424          12               A008       26-Oct-20     \n",
       "279 N271-228       26944         271               228        10-Nov-20     \n",
       "280 N268-A180      33042         268               A180       10-Nov-20     \n",
       "281 N88-Hom-Hea    21207          88               Hom_Dis_R1 31-Oct-20     \n",
       "282 N88-Hom-Hea-R2 35515          88               Hom_Dis_R2 31-Oct-20     \n",
       "283 N1-Hom_        48625           1               Hom_R1     NA            \n",
       "284 N3-Hom         16005           3               Hom_3_R1   NA            \n",
       "    Date   TimePoint Replicate Genotype Nursery ⋯ Forward_Primer_Pad\n",
       "1   26-Oct  5        NA        Cooper-9 UM      ⋯ TATGGTAATT        \n",
       "2   28-Oct  6        NA        Acerv2   UM      ⋯ TATGGTAATT        \n",
       "3   30-Oct  8        NA        K2       CRF     ⋯ TATGGTAATT        \n",
       "4   30-Oct  8        NA        U44      CRF     ⋯ TATGGTAATT        \n",
       "5   10-Nov 19        NA        U44      CRF     ⋯ TATGGTAATT        \n",
       "6   10-Nov 19        NA        U41      CRF     ⋯ TATGGTAATT        \n",
       "7   30-Oct  8        NA        Cooper-9 UM      ⋯ TATGGTAATT        \n",
       "8   30-Oct  8        NA        Acerv2   UM      ⋯ TATGGTAATT        \n",
       "9   30-Oct  8        NA        FM14     FWC     ⋯ TATGGTAATT        \n",
       "10  30-Oct  8        NA        FM9      FWC     ⋯ TATGGTAATT        \n",
       "11  30-Oct  8        NA        FM6      FWC     ⋯ TATGGTAATT        \n",
       "12  10-Nov 19        NA        FM6      FWC     ⋯ TATGGTAATT        \n",
       "13  30-Oct  8        NA        FM19     FWC     ⋯ TATGGTAATT        \n",
       "14  10-Nov 19        NA        FM19     FWC     ⋯ TATGGTAATT        \n",
       "15  10-Nov 19        NA        FM19     FWC     ⋯ TATGGTAATT        \n",
       "16  10-Nov 19        NA        FM19     FWC     ⋯ TATGGTAATT        \n",
       "17  30-Oct  8        NA        Cooper-9 UM      ⋯ TATGGTAATT        \n",
       "18  30-Oct  8        NA        Kelsey-1 UM      ⋯ TATGGTAATT        \n",
       "19  30-Oct  8        NA        Acerv2   UM      ⋯ TATGGTAATT        \n",
       "20  3-Nov  12        r1_w      Acerv2   UM      ⋯ TATGGTAATT        \n",
       "21  5-Nov  14        r1_w      Acerv2   UM      ⋯ TATGGTAATT        \n",
       "22  6-Nov  15        r2_w      Acerv2   UM      ⋯ TATGGTAATT        \n",
       "23  24-Oct  3        NA        Acerv2   UM      ⋯ TATGGTAATT        \n",
       "24  25-Oct  4        NA        Acerv2   UM      ⋯ TATGGTAATT        \n",
       "25  30-Oct  8        NA        Acerv2   UM      ⋯ TATGGTAATT        \n",
       "26  26-Oct  5        NA        Kelsey-1 UM      ⋯ TATGGTAATT        \n",
       "27  29-Oct  7        NA        Kelsey-1 UM      ⋯ TATGGTAATT        \n",
       "28  30-Oct  8        NA        Acerv2   UM      ⋯ TATGGTAATT        \n",
       "29  6-Nov  15        NA        Kelsey-1 UM      ⋯ TATGGTAATT        \n",
       "30  30-Oct  8        NA        Kelsey-1 UM      ⋯ TATGGTAATT        \n",
       "⋮   ⋮      ⋮         ⋮         ⋮        ⋮       ⋱ ⋮                 \n",
       "255 5-Nov  14        NA        K2       CRF     ⋯ TATGGTAATT        \n",
       "256 4-Nov  13        NA        FM9      FWC     ⋯ TATGGTAATT        \n",
       "257 6-Nov  15        NA        K2       CRF     ⋯ TATGGTAATT        \n",
       "258 6-Nov  15        NA        FM9      FWC     ⋯ TATGGTAATT        \n",
       "259 5-Nov  14        NA        Kelsey-1 UM      ⋯ TATGGTAATT        \n",
       "260 7-Nov  16        NA        Kelsey-1 UM      ⋯ TATGGTAATT        \n",
       "261 3-Nov  12        NA        Acerv2   UM      ⋯ TATGGTAATT        \n",
       "262 6-Nov  15        NA        Acerv2   UM      ⋯ TATGGTAATT        \n",
       "263 6-Nov  15        NA        Elkhorn  UM      ⋯ TATGGTAATT        \n",
       "264 8-Nov  17        r1_m      Elkhorn  UM      ⋯ TATGGTAATT        \n",
       "265 8-Nov  17        r2_m      Elkhorn  UM      ⋯ TATGGTAATT        \n",
       "266 9-Nov  18        NA        Acerv2   UM      ⋯ TATGGTAATT        \n",
       "267 4-Nov  13        NA        U41      CRF     ⋯ TATGGTAATT        \n",
       "268 5-Nov  14        NA        U41      CRF     ⋯ TATGGTAATT        \n",
       "269 8-Nov  17        r2_w      Acerv2   UM      ⋯ TATGGTAATT        \n",
       "270 7-Nov  16        NA        U44      CRF     ⋯ TATGGTAATT        \n",
       "271 5-Nov  14        NA        Acerv2   UM      ⋯ TATGGTAATT        \n",
       "272 6-Nov  15        NA        FM9      FWC     ⋯ TATGGTAATT        \n",
       "273 5-Nov  14        NA        FM6      FWC     ⋯ TATGGTAATT        \n",
       "274 6-Nov  15        NA        Cooper-9 UM      ⋯ TATGGTAATT        \n",
       "275 4-Nov  13        NA        Kelsey-1 UM      ⋯ TATGGTAATT        \n",
       "276 3-Nov  12        NA        Acerv2   UM      ⋯ TATGGTAATT        \n",
       "277 3-Nov  12        NA        Cooper-9 UM      ⋯ TATGGTAATT        \n",
       "278 26-Oct  5        NA        Kelsey-1 UM      ⋯ TATGGTAATT        \n",
       "279 10-Nov 19        NA        FM9      FWC     ⋯ TATGGTAATT        \n",
       "280 10-Nov 19        NA        FM19     FWC     ⋯ TATGGTAATT        \n",
       "281 31-Oct  9        NA        NA       NA      ⋯ TATGGTAATT        \n",
       "282 31-Oct  9        NA        NA       NA      ⋯ TATGGTAATT        \n",
       "283 NA     NA        NA        NA       NA      ⋯ TATGGTAATT        \n",
       "284 NA     NA        NA        NA       NA      ⋯ TATGGTAATT        \n",
       "    Golay_Barcode X515FB_Forward_Primer\n",
       "1   CTACAGGGTCTC  GTGYCAGCMGCCGCGGTAA  \n",
       "2   TTGAACAAGCCA  GTGYCAGCMGCCGCGGTAA  \n",
       "3   AGCCTTCGTCGC  GTGYCAGCMGCCGCGGTAA  \n",
       "4   AGCCTTCGTCGC  GTGYCAGCMGCCGCGGTAA  \n",
       "5   CTACAGGGTCTC  GTGYCAGCMGCCGCGGTAA  \n",
       "6   CTACAGGGTCTC  GTGYCAGCMGCCGCGGTAA  \n",
       "7   AGCCTTCGTCGC  GTGYCAGCMGCCGCGGTAA  \n",
       "8   AGCCTTCGTCGC  GTGYCAGCMGCCGCGGTAA  \n",
       "9   AGCCTTCGTCGC  GTGYCAGCMGCCGCGGTAA  \n",
       "10  AGCCTTCGTCGC  GTGYCAGCMGCCGCGGTAA  \n",
       "11  AGCCTTCGTCGC  GTGYCAGCMGCCGCGGTAA  \n",
       "12  GGTAGTTCATAG  GTGYCAGCMGCCGCGGTAA  \n",
       "13  AGCCTTCGTCGC  GTGYCAGCMGCCGCGGTAA  \n",
       "14  TAGTTCGGTGAC  GTGYCAGCMGCCGCGGTAA  \n",
       "15  ACTAAAGCAAAC  GTGYCAGCMGCCGCGGTAA  \n",
       "16  CTACAGGGTCTC  GTGYCAGCMGCCGCGGTAA  \n",
       "17  AGCCTTCGTCGC  GTGYCAGCMGCCGCGGTAA  \n",
       "18  AGCCTTCGTCGC  GTGYCAGCMGCCGCGGTAA  \n",
       "19  AGCCTTCGTCGC  GTGYCAGCMGCCGCGGTAA  \n",
       "20  AGCCTTCGTCGC  GTGYCAGCMGCCGCGGTAA  \n",
       "21  AGCCTTCGTCGC  GTGYCAGCMGCCGCGGTAA  \n",
       "22  TCATGGCCTCCG  GTGYCAGCMGCCGCGGTAA  \n",
       "23  GTTTGAAACACG  GTGYCAGCMGCCGCGGTAA  \n",
       "24  CTACAGGGTCTC  GTGYCAGCMGCCGCGGTAA  \n",
       "25  AGCCTTCGTCGC  GTGYCAGCMGCCGCGGTAA  \n",
       "26  CTACAGGGTCTC  GTGYCAGCMGCCGCGGTAA  \n",
       "27  CTACAGGGTCTC  GTGYCAGCMGCCGCGGTAA  \n",
       "28  AGCCTTCGTCGC  GTGYCAGCMGCCGCGGTAA  \n",
       "29  TAAACCTGGACA  GTGYCAGCMGCCGCGGTAA  \n",
       "30  AGCCTTCGTCGC  GTGYCAGCMGCCGCGGTAA  \n",
       "⋮   ⋮             ⋮                    \n",
       "255 CTACAGGGTCTC  GTGYCAGCMGCCGCGGTAA  \n",
       "256 AGCCTTCGTCGC  GTGYCAGCMGCCGCGGTAA  \n",
       "257 CAATCATAGGTG  GTGYCAGCMGCCGCGGTAA  \n",
       "258 CTACAGGGTCTC  GTGYCAGCMGCCGCGGTAA  \n",
       "259 AGCCTTCGTCGC  GTGYCAGCMGCCGCGGTAA  \n",
       "260 CTACAGGGTCTC  GTGYCAGCMGCCGCGGTAA  \n",
       "261 AGCCTTCGTCGC  GTGYCAGCMGCCGCGGTAA  \n",
       "262 CTACAGGGTCTC  GTGYCAGCMGCCGCGGTAA  \n",
       "263 TGCGGCGTCAGG  GTGYCAGCMGCCGCGGTAA  \n",
       "264 GTCCGTCCTGGT  GTGYCAGCMGCCGCGGTAA  \n",
       "265 CTACAGGGTCTC  GTGYCAGCMGCCGCGGTAA  \n",
       "266 CACACAAAGTCA  GTGYCAGCMGCCGCGGTAA  \n",
       "267 AGCCTTCGTCGC  GTGYCAGCMGCCGCGGTAA  \n",
       "268 CTACAGGGTCTC  GTGYCAGCMGCCGCGGTAA  \n",
       "269 TCAAGTCCGCAC  GTGYCAGCMGCCGCGGTAA  \n",
       "270 CTACAGGGTCTC  GTGYCAGCMGCCGCGGTAA  \n",
       "271 CTACAGGGTCTC  GTGYCAGCMGCCGCGGTAA  \n",
       "272 CGCCGTACTTGC  GTGYCAGCMGCCGCGGTAA  \n",
       "273 TCAGACCAACTG  GTGYCAGCMGCCGCGGTAA  \n",
       "274 CTACAGGGTCTC  GTGYCAGCMGCCGCGGTAA  \n",
       "275 AGCCTTCGTCGC  GTGYCAGCMGCCGCGGTAA  \n",
       "276 AGCCTTCGTCGC  GTGYCAGCMGCCGCGGTAA  \n",
       "277 AGCCTTCGTCGC  GTGYCAGCMGCCGCGGTAA  \n",
       "278 CTACAGGGTCTC  GTGYCAGCMGCCGCGGTAA  \n",
       "279 CTTGCTCATAAT  GTGYCAGCMGCCGCGGTAA  \n",
       "280 CTACAGGGTCTC  GTGYCAGCMGCCGCGGTAA  \n",
       "281 CTACAGGGTCTC  GTGYCAGCMGCCGCGGTAA  \n",
       "282 TTAAGTTAAGTT  GTGYCAGCMGCCGCGGTAA  \n",
       "283 CTACAGGGTCTC  GTGYCAGCMGCCGCGGTAA  \n",
       "284 CTACAGGGTCTC  GTGYCAGCMGCCGCGGTAA  \n",
       "    Primer_For_PCR                                                             \n",
       "1   AATGATACGGCGACCACCGAGATCTACACGCTCTACAGGGTCTCTATGGTAATTGTGTGYCAGCMGCCGCGGTAA\n",
       "2   AATGATACGGCGACCACCGAGATCTACACGCTTTGAACAAGCCATATGGTAATTGTGTGYCAGCMGCCGCGGTAA\n",
       "3   AATGATACGGCGACCACCGAGATCTACACGCTAGCCTTCGTCGCTATGGTAATTGTGTGYCAGCMGCCGCGGTAA\n",
       "4   AATGATACGGCGACCACCGAGATCTACACGCTAGCCTTCGTCGCTATGGTAATTGTGTGYCAGCMGCCGCGGTAA\n",
       "5   AATGATACGGCGACCACCGAGATCTACACGCTCTACAGGGTCTCTATGGTAATTGTGTGYCAGCMGCCGCGGTAA\n",
       "6   AATGATACGGCGACCACCGAGATCTACACGCTCTACAGGGTCTCTATGGTAATTGTGTGYCAGCMGCCGCGGTAA\n",
       "7   AATGATACGGCGACCACCGAGATCTACACGCTAGCCTTCGTCGCTATGGTAATTGTGTGYCAGCMGCCGCGGTAA\n",
       "8   AATGATACGGCGACCACCGAGATCTACACGCTAGCCTTCGTCGCTATGGTAATTGTGTGYCAGCMGCCGCGGTAA\n",
       "9   AATGATACGGCGACCACCGAGATCTACACGCTAGCCTTCGTCGCTATGGTAATTGTGTGYCAGCMGCCGCGGTAA\n",
       "10  AATGATACGGCGACCACCGAGATCTACACGCTAGCCTTCGTCGCTATGGTAATTGTGTGYCAGCMGCCGCGGTAA\n",
       "11  AATGATACGGCGACCACCGAGATCTACACGCTAGCCTTCGTCGCTATGGTAATTGTGTGYCAGCMGCCGCGGTAA\n",
       "12  AATGATACGGCGACCACCGAGATCTACACGCTGGTAGTTCATAGTATGGTAATTGTGTGYCAGCMGCCGCGGTAA\n",
       "13  AATGATACGGCGACCACCGAGATCTACACGCTAGCCTTCGTCGCTATGGTAATTGTGTGYCAGCMGCCGCGGTAA\n",
       "14  AATGATACGGCGACCACCGAGATCTACACGCTTAGTTCGGTGACTATGGTAATTGTGTGYCAGCMGCCGCGGTAA\n",
       "15  AATGATACGGCGACCACCGAGATCTACACGCTACTAAAGCAAACTATGGTAATTGTGTGYCAGCMGCCGCGGTAA\n",
       "16  AATGATACGGCGACCACCGAGATCTACACGCTCTACAGGGTCTCTATGGTAATTGTGTGYCAGCMGCCGCGGTAA\n",
       "17  AATGATACGGCGACCACCGAGATCTACACGCTAGCCTTCGTCGCTATGGTAATTGTGTGYCAGCMGCCGCGGTAA\n",
       "18  AATGATACGGCGACCACCGAGATCTACACGCTAGCCTTCGTCGCTATGGTAATTGTGTGYCAGCMGCCGCGGTAA\n",
       "19  AATGATACGGCGACCACCGAGATCTACACGCTAGCCTTCGTCGCTATGGTAATTGTGTGYCAGCMGCCGCGGTAA\n",
       "20  AATGATACGGCGACCACCGAGATCTACACGCTAGCCTTCGTCGCTATGGTAATTGTGTGYCAGCMGCCGCGGTAA\n",
       "21  AATGATACGGCGACCACCGAGATCTACACGCTAGCCTTCGTCGCTATGGTAATTGTGTGYCAGCMGCCGCGGTAA\n",
       "22  AATGATACGGCGACCACCGAGATCTACACGCTTCATGGCCTCCGTATGGTAATTGTGTGYCAGCMGCCGCGGTAA\n",
       "23  AATGATACGGCGACCACCGAGATCTACACGCTGTTTGAAACACGTATGGTAATTGTGTGYCAGCMGCCGCGGTAA\n",
       "24  AATGATACGGCGACCACCGAGATCTACACGCTCTACAGGGTCTCTATGGTAATTGTGTGYCAGCMGCCGCGGTAA\n",
       "25  AATGATACGGCGACCACCGAGATCTACACGCTAGCCTTCGTCGCTATGGTAATTGTGTGYCAGCMGCCGCGGTAA\n",
       "26  AATGATACGGCGACCACCGAGATCTACACGCTCTACAGGGTCTCTATGGTAATTGTGTGYCAGCMGCCGCGGTAA\n",
       "27  AATGATACGGCGACCACCGAGATCTACACGCTCTACAGGGTCTCTATGGTAATTGTGTGYCAGCMGCCGCGGTAA\n",
       "28  AATGATACGGCGACCACCGAGATCTACACGCTAGCCTTCGTCGCTATGGTAATTGTGTGYCAGCMGCCGCGGTAA\n",
       "29  AATGATACGGCGACCACCGAGATCTACACGCTTAAACCTGGACATATGGTAATTGTGTGYCAGCMGCCGCGGTAA\n",
       "30  AATGATACGGCGACCACCGAGATCTACACGCTAGCCTTCGTCGCTATGGTAATTGTGTGYCAGCMGCCGCGGTAA\n",
       "⋮   ⋮                                                                          \n",
       "255 AATGATACGGCGACCACCGAGATCTACACGCTCTACAGGGTCTCTATGGTAATTGTGTGYCAGCMGCCGCGGTAA\n",
       "256 AATGATACGGCGACCACCGAGATCTACACGCTAGCCTTCGTCGCTATGGTAATTGTGTGYCAGCMGCCGCGGTAA\n",
       "257 AATGATACGGCGACCACCGAGATCTACACGCTCAATCATAGGTGTATGGTAATTGTGTGYCAGCMGCCGCGGTAA\n",
       "258 AATGATACGGCGACCACCGAGATCTACACGCTCTACAGGGTCTCTATGGTAATTGTGTGYCAGCMGCCGCGGTAA\n",
       "259 AATGATACGGCGACCACCGAGATCTACACGCTAGCCTTCGTCGCTATGGTAATTGTGTGYCAGCMGCCGCGGTAA\n",
       "260 AATGATACGGCGACCACCGAGATCTACACGCTCTACAGGGTCTCTATGGTAATTGTGTGYCAGCMGCCGCGGTAA\n",
       "261 AATGATACGGCGACCACCGAGATCTACACGCTAGCCTTCGTCGCTATGGTAATTGTGTGYCAGCMGCCGCGGTAA\n",
       "262 AATGATACGGCGACCACCGAGATCTACACGCTCTACAGGGTCTCTATGGTAATTGTGTGYCAGCMGCCGCGGTAA\n",
       "263 AATGATACGGCGACCACCGAGATCTACACGCTTGCGGCGTCAGGTATGGTAATTGTGTGYCAGCMGCCGCGGTAA\n",
       "264 AATGATACGGCGACCACCGAGATCTACACGCTGTCCGTCCTGGTTATGGTAATTGTGTGYCAGCMGCCGCGGTAA\n",
       "265 AATGATACGGCGACCACCGAGATCTACACGCTCTACAGGGTCTCTATGGTAATTGTGTGYCAGCMGCCGCGGTAA\n",
       "266 AATGATACGGCGACCACCGAGATCTACACGCTCACACAAAGTCATATGGTAATTGTGTGYCAGCMGCCGCGGTAA\n",
       "267 AATGATACGGCGACCACCGAGATCTACACGCTAGCCTTCGTCGCTATGGTAATTGTGTGYCAGCMGCCGCGGTAA\n",
       "268 AATGATACGGCGACCACCGAGATCTACACGCTCTACAGGGTCTCTATGGTAATTGTGTGYCAGCMGCCGCGGTAA\n",
       "269 AATGATACGGCGACCACCGAGATCTACACGCTTCAAGTCCGCACTATGGTAATTGTGTGYCAGCMGCCGCGGTAA\n",
       "270 AATGATACGGCGACCACCGAGATCTACACGCTCTACAGGGTCTCTATGGTAATTGTGTGYCAGCMGCCGCGGTAA\n",
       "271 AATGATACGGCGACCACCGAGATCTACACGCTCTACAGGGTCTCTATGGTAATTGTGTGYCAGCMGCCGCGGTAA\n",
       "272 AATGATACGGCGACCACCGAGATCTACACGCTCGCCGTACTTGCTATGGTAATTGTGTGYCAGCMGCCGCGGTAA\n",
       "273 AATGATACGGCGACCACCGAGATCTACACGCTTCAGACCAACTGTATGGTAATTGTGTGYCAGCMGCCGCGGTAA\n",
       "274 AATGATACGGCGACCACCGAGATCTACACGCTCTACAGGGTCTCTATGGTAATTGTGTGYCAGCMGCCGCGGTAA\n",
       "275 AATGATACGGCGACCACCGAGATCTACACGCTAGCCTTCGTCGCTATGGTAATTGTGTGYCAGCMGCCGCGGTAA\n",
       "276 AATGATACGGCGACCACCGAGATCTACACGCTAGCCTTCGTCGCTATGGTAATTGTGTGYCAGCMGCCGCGGTAA\n",
       "277 AATGATACGGCGACCACCGAGATCTACACGCTAGCCTTCGTCGCTATGGTAATTGTGTGYCAGCMGCCGCGGTAA\n",
       "278 AATGATACGGCGACCACCGAGATCTACACGCTCTACAGGGTCTCTATGGTAATTGTGTGYCAGCMGCCGCGGTAA\n",
       "279 AATGATACGGCGACCACCGAGATCTACACGCTCTTGCTCATAATTATGGTAATTGTGTGYCAGCMGCCGCGGTAA\n",
       "280 AATGATACGGCGACCACCGAGATCTACACGCTCTACAGGGTCTCTATGGTAATTGTGTGYCAGCMGCCGCGGTAA\n",
       "281 AATGATACGGCGACCACCGAGATCTACACGCTCTACAGGGTCTCTATGGTAATTGTGTGYCAGCMGCCGCGGTAA\n",
       "282 AATGATACGGCGACCACCGAGATCTACACGCTTTAAGTTAAGTTTATGGTAATTGTGTGYCAGCMGCCGCGGTAA\n",
       "283 AATGATACGGCGACCACCGAGATCTACACGCTCTACAGGGTCTCTATGGTAATTGTGTGYCAGCMGCCGCGGTAA\n",
       "284 AATGATACGGCGACCACCGAGATCTACACGCTCTACAGGGTCTCTATGGTAATTGTGTGYCAGCMGCCGCGGTAA\n",
       "    estimate   error      lower      upper     name   model    \n",
       "1   0.23963400 0.07503098 0.08957204 0.3896960 DivNet Aitchison\n",
       "2   0.23963400 0.07503098 0.08957204 0.3896960 DivNet Aitchison\n",
       "3           NA         NA         NA        NA NA     NA       \n",
       "4           NA         NA         NA        NA NA     NA       \n",
       "5   0.23963400 0.07503098 0.08957204 0.3896960 DivNet Aitchison\n",
       "6           NA         NA         NA        NA NA     NA       \n",
       "7           NA         NA         NA        NA NA     NA       \n",
       "8           NA         NA         NA        NA NA     NA       \n",
       "9           NA         NA         NA        NA NA     NA       \n",
       "10          NA         NA         NA        NA NA     NA       \n",
       "11          NA         NA         NA        NA NA     NA       \n",
       "12  0.23963400 0.07503098 0.08957204 0.3896960 DivNet Aitchison\n",
       "13          NA         NA         NA        NA NA     NA       \n",
       "14  0.23963400 0.07503098 0.08957204 0.3896960 DivNet Aitchison\n",
       "15  0.23963400 0.07503098 0.08957204 0.3896960 DivNet Aitchison\n",
       "16  0.23963400 0.07503098 0.08957204 0.3896960 DivNet Aitchison\n",
       "17          NA         NA         NA        NA NA     NA       \n",
       "18          NA         NA         NA        NA NA     NA       \n",
       "19          NA         NA         NA        NA NA     NA       \n",
       "20  0.08049877 0.02574797 0.02900283 0.1319947 DivNet Aitchison\n",
       "21  0.08049877 0.02574797 0.02900283 0.1319947 DivNet Aitchison\n",
       "22  0.08049877 0.02574797 0.02900283 0.1319947 DivNet Aitchison\n",
       "23  0.08049877 0.02574797 0.02900283 0.1319947 DivNet Aitchison\n",
       "24  0.08049877 0.02574797 0.02900283 0.1319947 DivNet Aitchison\n",
       "25          NA         NA         NA        NA NA     NA       \n",
       "26  0.23963400 0.07503098 0.08957204 0.3896960 DivNet Aitchison\n",
       "27  0.23963400 0.07503098 0.08957204 0.3896960 DivNet Aitchison\n",
       "28          NA         NA         NA        NA NA     NA       \n",
       "29  0.08049877 0.02574797 0.02900283 0.1319947 DivNet Aitchison\n",
       "30          NA         NA         NA        NA NA     NA       \n",
       "⋮   ⋮          ⋮          ⋮          ⋮         ⋮      ⋮        \n",
       "255 0.23963400 0.07503098 0.08957204 0.3896960 DivNet Aitchison\n",
       "256 0.23963400 0.07503098 0.08957204 0.3896960 DivNet Aitchison\n",
       "257 0.23963400 0.07503098 0.08957204 0.3896960 DivNet Aitchison\n",
       "258 0.23963400 0.07503098 0.08957204 0.3896960 DivNet Aitchison\n",
       "259 0.23963400 0.07503098 0.08957204 0.3896960 DivNet Aitchison\n",
       "260 0.23963400 0.07503098 0.08957204 0.3896960 DivNet Aitchison\n",
       "261 0.23963400 0.07503098 0.08957204 0.3896960 DivNet Aitchison\n",
       "262 0.23963400 0.07503098 0.08957204 0.3896960 DivNet Aitchison\n",
       "263 0.23963400 0.07503098 0.08957204 0.3896960 DivNet Aitchison\n",
       "264 0.23963400 0.07503098 0.08957204 0.3896960 DivNet Aitchison\n",
       "265         NA         NA         NA        NA NA     NA       \n",
       "266 0.23963400 0.07503098 0.08957204 0.3896960 DivNet Aitchison\n",
       "267         NA         NA         NA        NA NA     NA       \n",
       "268         NA         NA         NA        NA NA     NA       \n",
       "269 0.08049877 0.02574797 0.02900283 0.1319947 DivNet Aitchison\n",
       "270 0.23963400 0.07503098 0.08957204 0.3896960 DivNet Aitchison\n",
       "271 0.23963400 0.07503098 0.08957204 0.3896960 DivNet Aitchison\n",
       "272 0.23963400 0.07503098 0.08957204 0.3896960 DivNet Aitchison\n",
       "273 0.23963400 0.07503098 0.08957204 0.3896960 DivNet Aitchison\n",
       "274 0.23963400 0.07503098 0.08957204 0.3896960 DivNet Aitchison\n",
       "275 0.08049877 0.02574797 0.02900283 0.1319947 DivNet Aitchison\n",
       "276 0.23963400 0.07503098 0.08957204 0.3896960 DivNet Aitchison\n",
       "277 0.23963400 0.07503098 0.08957204 0.3896960 DivNet Aitchison\n",
       "278 0.08049877 0.02574797 0.02900283 0.1319947 DivNet Aitchison\n",
       "279 0.23963400 0.07503098 0.08957204 0.3896960 DivNet Aitchison\n",
       "280 0.23963400 0.07503098 0.08957204 0.3896960 DivNet Aitchison\n",
       "281         NA         NA         NA        NA NA     NA       \n",
       "282         NA         NA         NA        NA NA     NA       \n",
       "283         NA         NA         NA        NA NA     NA       \n",
       "284         NA         NA         NA        NA NA     NA       "
      ]
     },
     "metadata": {},
     "output_type": "display_data"
    }
   ],
   "source": [
    "combined_shannon <- meta %>%\n",
    "  left_join(divnet_phylum_char$shannon %>% summary,\n",
    "            by = \"sample_names\")\n",
    "combined_shannon"
   ]
  },
  {
   "cell_type": "code",
   "execution_count": 28,
   "id": "d5f8c6f9",
   "metadata": {},
   "outputs": [],
   "source": [
    "#write.csv(combined_shannon, \n",
    " #         \"/Users/stephanie.rosales/Documents/omics_projects/Resitada/combined_shannon.csv\")"
   ]
  },
  {
   "cell_type": "code",
   "execution_count": 2,
   "id": "3f1a9072",
   "metadata": {},
   "outputs": [
    {
     "data": {
      "text/html": [
       "<style>\n",
       ".list-inline {list-style: none; margin:0; padding: 0}\n",
       ".list-inline>li {display: inline-block}\n",
       ".list-inline>li:not(:last-child)::after {content: \"\\00b7\"; padding: 0 .5ex}\n",
       "</style>\n",
       "<ol class=list-inline><li>284</li><li>51</li></ol>\n"
      ],
      "text/latex": [
       "\\begin{enumerate*}\n",
       "\\item 284\n",
       "\\item 51\n",
       "\\end{enumerate*}\n"
      ],
      "text/markdown": [
       "1. 284\n",
       "2. 51\n",
       "\n",
       "\n"
      ],
      "text/plain": [
       "[1] 284  51"
      ]
     },
     "metadata": {},
     "output_type": "display_data"
    }
   ],
   "source": [
    "meta = read.csv(\"/Users/stephanie.rosales/Documents/omics_projects/Resitada/metadata_RESISTADA.csv\", \n",
    "                header = T, row.names = 1,\n",
    "na.strings = c(\"\", \"NA\"))\n",
    "dim(meta)"
   ]
  },
  {
   "cell_type": "code",
   "execution_count": 62,
   "id": "abe690df",
   "metadata": {},
   "outputs": [
    {
     "data": {
      "text/html": [
       "<style>\n",
       ".list-inline {list-style: none; margin:0; padding: 0}\n",
       ".list-inline>li {display: inline-block}\n",
       ".list-inline>li:not(:last-child)::after {content: \"\\00b7\"; padding: 0 .5ex}\n",
       "</style>\n",
       "<ol class=list-inline><li>192</li><li>51</li></ol>\n"
      ],
      "text/latex": [
       "\\begin{enumerate*}\n",
       "\\item 192\n",
       "\\item 51\n",
       "\\end{enumerate*}\n"
      ],
      "text/markdown": [
       "1. 192\n",
       "2. 51\n",
       "\n",
       "\n"
      ],
      "text/plain": [
       "[1] 192  51"
      ]
     },
     "metadata": {},
     "output_type": "display_data"
    }
   ],
   "source": [
    "meta1 = meta %>%\n",
    "filter(estimate>0)\n",
    "dim(meta1)"
   ]
  },
  {
   "cell_type": "code",
   "execution_count": 63,
   "id": "22c1be6c",
   "metadata": {},
   "outputs": [
    {
     "data": {
      "text/html": [
       "<style>\n",
       ".list-inline {list-style: none; margin:0; padding: 0}\n",
       ".list-inline>li {display: inline-block}\n",
       ".list-inline>li:not(:last-child)::after {content: \"\\00b7\"; padding: 0 .5ex}\n",
       "</style>\n",
       "<ol class=list-inline><li>42</li><li>51</li></ol>\n"
      ],
      "text/latex": [
       "\\begin{enumerate*}\n",
       "\\item 42\n",
       "\\item 51\n",
       "\\end{enumerate*}\n"
      ],
      "text/markdown": [
       "1. 42\n",
       "2. 51\n",
       "\n",
       "\n"
      ],
      "text/plain": [
       "[1] 42 51"
      ]
     },
     "metadata": {},
     "output_type": "display_data"
    }
   ],
   "source": [
    "ambient_PL= meta1 %>%\n",
    "filter(Nutrients == \"Ambient\", Diseased==\"Placebo\", )\n",
    "\n",
    "dim(ambient_PL)"
   ]
  },
  {
   "cell_type": "code",
   "execution_count": 97,
   "id": "efc4f955",
   "metadata": {},
   "outputs": [
    {
     "name": "stderr",
     "output_type": "stream",
     "text": [
      "Warning message in checkConv(attr(opt, \"derivs\"), opt$par, ctrl = control$checkConv, :\n",
      "“Model failed to converge with max|grad| = 1.46806 (tol = 0.002, component 1)”\n",
      "Warning message in checkConv(attr(opt, \"derivs\"), opt$par, ctrl = control$checkConv, :\n",
      "“Model is nearly unidentifiable: very large eigenvalue\n",
      " - Rescale variables?”\n"
     ]
    },
    {
     "data": {
      "text/plain": [
       "Linear mixed model fit by REML ['lmerMod']\n",
       "Formula: estimate ~ -1 + Genotype + (1 | Tag)\n",
       "   Data: ambient_PL\n",
       "\n",
       "REML criterion at convergence: -2434.8\n",
       "\n",
       "Scaled residuals: \n",
       "   Min     1Q Median     3Q    Max \n",
       "-2.434  0.000  0.000  0.000  0.000 \n",
       "\n",
       "Random effects:\n",
       " Groups   Name        Variance  Std.Dev. \n",
       " Tag      (Intercept) 2.019e-36 1.421e-18\n",
       " Residual             3.250e-35 5.700e-18\n",
       "Number of obs: 42, groups:  Tag, 28\n",
       "\n",
       "Fixed effects:\n",
       "                  Estimate Std. Error   t value\n",
       "GenotypeAcerv2   8.050e-02  2.468e-18 3.262e+16\n",
       "GenotypeCooper-9 8.050e-02  2.687e-18 2.995e+16\n",
       "GenotypeElkhorn  8.050e-02  3.456e-18 2.329e+16\n",
       "GenotypeFM14     8.050e-02  2.979e-18 2.702e+16\n",
       "GenotypeFM19     8.050e-02  3.392e-18 2.373e+16\n",
       "GenotypeFM6      8.050e-02  3.392e-18 2.373e+16\n",
       "GenotypeFM9      8.050e-02  3.392e-18 2.373e+16\n",
       "GenotypeK2       8.050e-02  3.022e-18 2.664e+16\n",
       "GenotypeKelsey-1 8.050e-02  2.687e-18 2.995e+16\n",
       "GenotypeU44      8.050e-02  2.468e-18 3.262e+16\n",
       "\n",
       "Correlation of Fixed Effects:\n",
       "            GntyA2 GntC-9 GntypE GnFM14 GnFM19 GntFM6 GntFM9 GntyK2 GntK-1\n",
       "GentypCpr-9 0.000                                                         \n",
       "GntypElkhrn 0.000  0.000                                                  \n",
       "GenotypFM14 0.000  0.000  0.000                                           \n",
       "GenotypFM19 0.000  0.000  0.000  0.000                                    \n",
       "GenotypeFM6 0.000  0.000  0.000  0.000  0.000                             \n",
       "GenotypeFM9 0.000  0.000  0.000  0.000  0.000  0.000                      \n",
       "GenotypeK2  0.000  0.000  0.000  0.000  0.000  0.000  0.000               \n",
       "GntypKlsy-1 0.000  0.000  0.000  0.000  0.000  0.000  0.000  0.000        \n",
       "GenotypeU44 0.000  0.000  0.000  0.000  0.000  0.000  0.000  0.000  0.000 \n",
       "optimizer (nloptwrap) convergence code: 0 (OK)\n",
       "Model failed to converge with max|grad| = 1.46806 (tol = 0.002, component 1)\n",
       "Model is nearly unidentifiable: very large eigenvalue\n",
       " - Rescale variables?\n"
      ]
     },
     "metadata": {},
     "output_type": "display_data"
    },
    {
     "data": {
      "text/plain": [
       "$emmeans\n",
       " Genotype emmean       SE   df lower.CL upper.CL\n",
       " Acerv2   0.0805 2.47e-18 10.4   0.0805   0.0805\n",
       " Cooper-9 0.0805 2.73e-18 13.2   0.0805   0.0805\n",
       " Elkhorn  0.0805 3.52e-18 15.4   0.0805   0.0805\n",
       " FM14     0.0805 3.04e-18 18.8   0.0805   0.0805\n",
       " FM19     0.0805 3.39e-18 29.8   0.0805   0.0805\n",
       " FM6      0.0805 3.39e-18 29.8   0.0805   0.0805\n",
       " FM9      0.0805 3.39e-18 29.8   0.0805   0.0805\n",
       " K2       0.0805 3.02e-18 10.4   0.0805   0.0805\n",
       " Kelsey-1 0.0805 2.73e-18 13.2   0.0805   0.0805\n",
       " U44      0.0805 2.47e-18 10.4   0.0805   0.0805\n",
       "\n",
       "Degrees-of-freedom method: kenward-roger \n",
       "Confidence level used: 0.95 \n",
       "\n",
       "$contrasts\n",
       " contrast                 estimate       SE   df t.ratio p.value\n",
       " Acerv2 - (Cooper-9)      0.00e+00 3.68e-18 11.8   0.000  1.0000\n",
       " Acerv2 - Elkhorn         0.00e+00 4.30e-18 13.5   0.000  1.0000\n",
       " Acerv2 - FM14           -1.39e-17 3.92e-18 14.7  -3.543  0.0645\n",
       " Acerv2 - FM19            0.00e+00 4.19e-18 21.9   0.000  1.0000\n",
       " Acerv2 - FM6             0.00e+00 4.19e-18 21.9   0.000  1.0000\n",
       " Acerv2 - FM9             0.00e+00 4.19e-18 21.9   0.000  1.0000\n",
       " Acerv2 - K2              0.00e+00 3.90e-18 10.4   0.000  1.0000\n",
       " Acerv2 - (Kelsey-1)      0.00e+00 3.68e-18 11.8   0.000  1.0000\n",
       " Acerv2 - U44             0.00e+00 3.49e-18 10.4   0.000  1.0000\n",
       " (Cooper-9) - Elkhorn     0.00e+00 4.45e-18 14.5   0.000  1.0000\n",
       " (Cooper-9) - FM14       -1.39e-17 4.08e-18 16.0  -3.398  0.0780\n",
       " (Cooper-9) - FM19        0.00e+00 4.35e-18 22.9   0.000  1.0000\n",
       " (Cooper-9) - FM6         0.00e+00 4.35e-18 22.9   0.000  1.0000\n",
       " (Cooper-9) - FM9         0.00e+00 4.35e-18 22.9   0.000  1.0000\n",
       " (Cooper-9) - K2          0.00e+00 4.07e-18 11.5   0.000  1.0000\n",
       " (Cooper-9) - (Kelsey-1)  0.00e+00 3.85e-18 13.2   0.000  1.0000\n",
       " (Cooper-9) - U44         0.00e+00 3.68e-18 11.8   0.000  1.0000\n",
       " Elkhorn - FM14          -1.39e-17 4.65e-18 16.8  -2.982  0.1574\n",
       " Elkhorn - FM19           0.00e+00 4.89e-18 22.2   0.000  1.0000\n",
       " Elkhorn - FM6            0.00e+00 4.89e-18 22.2   0.000  1.0000\n",
       " Elkhorn - FM9            0.00e+00 4.89e-18 22.2   0.000  1.0000\n",
       " Elkhorn - K2             0.00e+00 4.64e-18 13.0   0.000  1.0000\n",
       " Elkhorn - (Kelsey-1)     0.00e+00 4.45e-18 14.5   0.000  1.0000\n",
       " Elkhorn - U44            0.00e+00 4.30e-18 13.5   0.000  1.0000\n",
       " FM14 - FM19              1.39e-17 4.56e-18 25.2   3.046  0.1188\n",
       " FM14 - FM6               1.39e-17 4.56e-18 25.2   3.046  0.1188\n",
       " FM14 - FM9               1.39e-17 4.56e-18 25.2   3.046  0.1188\n",
       " FM14 - K2                1.39e-17 4.29e-18 13.8   3.237  0.1135\n",
       " FM14 - (Kelsey-1)        1.39e-17 4.08e-18 16.0   3.398  0.0780\n",
       " FM14 - U44               1.39e-17 3.92e-18 14.7   3.543  0.0645\n",
       " FM19 - FM6               0.00e+00 4.80e-18 29.8   0.000  1.0000\n",
       " FM19 - FM9               0.00e+00 4.80e-18 29.8   0.000  1.0000\n",
       " FM19 - K2                0.00e+00 4.54e-18 19.7   0.000  1.0000\n",
       " FM19 - (Kelsey-1)        0.00e+00 4.35e-18 22.9   0.000  1.0000\n",
       " FM19 - U44               0.00e+00 4.19e-18 21.9   0.000  1.0000\n",
       " FM6 - FM9                0.00e+00 4.80e-18 29.8   0.000  1.0000\n",
       " FM6 - K2                 0.00e+00 4.54e-18 19.7   0.000  1.0000\n",
       " FM6 - (Kelsey-1)         0.00e+00 4.35e-18 22.9   0.000  1.0000\n",
       " FM6 - U44                0.00e+00 4.19e-18 21.9   0.000  1.0000\n",
       " FM9 - K2                 0.00e+00 4.54e-18 19.7   0.000  1.0000\n",
       " FM9 - (Kelsey-1)         0.00e+00 4.35e-18 22.9   0.000  1.0000\n",
       " FM9 - U44                0.00e+00 4.19e-18 21.9   0.000  1.0000\n",
       " K2 - (Kelsey-1)          0.00e+00 4.07e-18 11.5   0.000  1.0000\n",
       " K2 - U44                 0.00e+00 3.90e-18 10.4   0.000  1.0000\n",
       " (Kelsey-1) - U44         0.00e+00 3.68e-18 11.8   0.000  1.0000\n",
       "\n",
       "Degrees-of-freedom method: kenward-roger \n",
       "P value adjustment: tukey method for comparing a family of 10 estimates \n"
      ]
     },
     "metadata": {},
     "output_type": "display_data"
    }
   ],
   "source": [
    "mixed.lmer_geno <- lmer(estimate ~ -1 + Genotype + (1|Tag) , data =ambient_PL)\n",
    "summary(mixed.lmer_geno)\n",
    "\n",
    "emmeans(mixed.lmer_geno, pairwise ~ -1 + Genotype, adjust=\"tukey\")"
   ]
  },
  {
   "cell_type": "code",
   "execution_count": 98,
   "id": "cf37dd6c",
   "metadata": {},
   "outputs": [
    {
     "data": {
      "text/html": [
       "<style>\n",
       ".list-inline {list-style: none; margin:0; padding: 0}\n",
       ".list-inline>li {display: inline-block}\n",
       ".list-inline>li:not(:last-child)::after {content: \"\\00b7\"; padding: 0 .5ex}\n",
       "</style>\n",
       "<ol class=list-inline><li>106</li><li>51</li></ol>\n"
      ],
      "text/latex": [
       "\\begin{enumerate*}\n",
       "\\item 106\n",
       "\\item 51\n",
       "\\end{enumerate*}\n"
      ],
      "text/markdown": [
       "1. 106\n",
       "2. 51\n",
       "\n",
       "\n"
      ],
      "text/plain": [
       "[1] 106  51"
      ]
     },
     "metadata": {},
     "output_type": "display_data"
    },
    {
     "data": {
      "text/html": [
       "<style>\n",
       ".list-inline {list-style: none; margin:0; padding: 0}\n",
       ".list-inline>li {display: inline-block}\n",
       ".list-inline>li:not(:last-child)::after {content: \"\\00b7\"; padding: 0 .5ex}\n",
       "</style>\n",
       "<ol class=list-inline><li>'NH4_Placebo'</li><li>'Ambient_Placebo'</li><li>'Ambient_Placebo'</li><li>'Ambient_Placebo'</li><li>'NH4_Placebo'</li><li>'NH4_Placebo'</li><li>'NH4_Placebo'</li><li>'NH4_Placebo'</li><li>'NH4_Placebo'</li><li>'NH4_Placebo'</li><li>'NH4_Placebo'</li><li>'NH4_Placebo'</li><li>'Ambient_Placebo'</li><li>'Ambient_Placebo'</li><li>'Ambient_Placebo'</li><li>'Ambient_Placebo'</li><li>'Ambient_Placebo'</li><li>'Ambient_Placebo'</li><li>'NH4_Placebo'</li><li>'NH4_Placebo'</li><li>'NH4_Placebo'</li><li>'NH4_Placebo'</li><li>'Ambient_Placebo'</li><li>'Ambient_Placebo'</li><li>'NH4_Placebo'</li><li>'NH4_Placebo'</li><li>'NH4_Placebo'</li><li>'NH4_Placebo'</li><li>'NH4_Placebo'</li><li>'NH4_Placebo'</li><li>'NH4_Placebo'</li><li>'Ambient_Placebo'</li><li>'Ambient_Placebo'</li><li>'Ambient_Placebo'</li><li>'Ambient_Placebo'</li><li>'NH4_Placebo'</li><li>'Ambient_Placebo'</li><li>'NH4_Placebo'</li><li>'Ambient_Placebo'</li><li>'NH4_Placebo'</li><li>'Ambient_Placebo'</li><li>'NH4_Placebo'</li><li>'NH4_Placebo'</li><li>'NH4_Placebo'</li><li>'Ambient_Placebo'</li><li>'Ambient_Placebo'</li><li>'NH4_Placebo'</li><li>'Ambient_Placebo'</li><li>'Ambient_Placebo'</li><li>'NH4_Placebo'</li><li>'Ambient_Placebo'</li><li>'Ambient_Placebo'</li><li>'Ambient_Placebo'</li><li>'Ambient_Placebo'</li><li>'Ambient_Placebo'</li><li>'Ambient_Placebo'</li><li>'Ambient_Placebo'</li><li>'Ambient_Placebo'</li><li>'Ambient_Placebo'</li><li>'Ambient_Placebo'</li><li>'Ambient_Placebo'</li><li>'Ambient_Placebo'</li><li>'Ambient_Placebo'</li><li>'Ambient_Placebo'</li><li>'Ambient_Placebo'</li><li>'Ambient_Placebo'</li><li>'Ambient_Placebo'</li><li>'Ambient_Placebo'</li><li>'NH4_Placebo'</li><li>'NH4_Placebo'</li><li>'NH4_Placebo'</li><li>'NH4_Placebo'</li><li>'NH4_Placebo'</li><li>'NH4_Placebo'</li><li>'NH4_Placebo'</li><li>'NH4_Placebo'</li><li>'NH4_Placebo'</li><li>'NH4_Placebo'</li><li>'NH4_Placebo'</li><li>'NH4_Placebo'</li><li>'NH4_Placebo'</li><li>'NH4_Placebo'</li><li>'NH4_Placebo'</li><li>'NH4_Placebo'</li><li>'NH4_Placebo'</li><li>'NH4_Placebo'</li><li>'NH4_Placebo'</li><li>'NH4_Placebo'</li><li>'NH4_Placebo'</li><li>'NH4_Placebo'</li><li>'NH4_Placebo'</li><li>'NH4_Placebo'</li><li>'NH4_Placebo'</li><li>'NH4_Placebo'</li><li>'NH4_Placebo'</li><li>'NH4_Placebo'</li><li>'NH4_Placebo'</li><li>'NH4_Placebo'</li><li>'Ambient_Placebo'</li><li>'NH4_Placebo'</li><li>'NH4_Placebo'</li><li>'NH4_Placebo'</li><li>'Ambient_Placebo'</li><li>'NH4_Placebo'</li><li>'NH4_Placebo'</li><li>'NH4_Placebo'</li></ol>\n"
      ],
      "text/latex": [
       "\\begin{enumerate*}\n",
       "\\item 'NH4\\_Placebo'\n",
       "\\item 'Ambient\\_Placebo'\n",
       "\\item 'Ambient\\_Placebo'\n",
       "\\item 'Ambient\\_Placebo'\n",
       "\\item 'NH4\\_Placebo'\n",
       "\\item 'NH4\\_Placebo'\n",
       "\\item 'NH4\\_Placebo'\n",
       "\\item 'NH4\\_Placebo'\n",
       "\\item 'NH4\\_Placebo'\n",
       "\\item 'NH4\\_Placebo'\n",
       "\\item 'NH4\\_Placebo'\n",
       "\\item 'NH4\\_Placebo'\n",
       "\\item 'Ambient\\_Placebo'\n",
       "\\item 'Ambient\\_Placebo'\n",
       "\\item 'Ambient\\_Placebo'\n",
       "\\item 'Ambient\\_Placebo'\n",
       "\\item 'Ambient\\_Placebo'\n",
       "\\item 'Ambient\\_Placebo'\n",
       "\\item 'NH4\\_Placebo'\n",
       "\\item 'NH4\\_Placebo'\n",
       "\\item 'NH4\\_Placebo'\n",
       "\\item 'NH4\\_Placebo'\n",
       "\\item 'Ambient\\_Placebo'\n",
       "\\item 'Ambient\\_Placebo'\n",
       "\\item 'NH4\\_Placebo'\n",
       "\\item 'NH4\\_Placebo'\n",
       "\\item 'NH4\\_Placebo'\n",
       "\\item 'NH4\\_Placebo'\n",
       "\\item 'NH4\\_Placebo'\n",
       "\\item 'NH4\\_Placebo'\n",
       "\\item 'NH4\\_Placebo'\n",
       "\\item 'Ambient\\_Placebo'\n",
       "\\item 'Ambient\\_Placebo'\n",
       "\\item 'Ambient\\_Placebo'\n",
       "\\item 'Ambient\\_Placebo'\n",
       "\\item 'NH4\\_Placebo'\n",
       "\\item 'Ambient\\_Placebo'\n",
       "\\item 'NH4\\_Placebo'\n",
       "\\item 'Ambient\\_Placebo'\n",
       "\\item 'NH4\\_Placebo'\n",
       "\\item 'Ambient\\_Placebo'\n",
       "\\item 'NH4\\_Placebo'\n",
       "\\item 'NH4\\_Placebo'\n",
       "\\item 'NH4\\_Placebo'\n",
       "\\item 'Ambient\\_Placebo'\n",
       "\\item 'Ambient\\_Placebo'\n",
       "\\item 'NH4\\_Placebo'\n",
       "\\item 'Ambient\\_Placebo'\n",
       "\\item 'Ambient\\_Placebo'\n",
       "\\item 'NH4\\_Placebo'\n",
       "\\item 'Ambient\\_Placebo'\n",
       "\\item 'Ambient\\_Placebo'\n",
       "\\item 'Ambient\\_Placebo'\n",
       "\\item 'Ambient\\_Placebo'\n",
       "\\item 'Ambient\\_Placebo'\n",
       "\\item 'Ambient\\_Placebo'\n",
       "\\item 'Ambient\\_Placebo'\n",
       "\\item 'Ambient\\_Placebo'\n",
       "\\item 'Ambient\\_Placebo'\n",
       "\\item 'Ambient\\_Placebo'\n",
       "\\item 'Ambient\\_Placebo'\n",
       "\\item 'Ambient\\_Placebo'\n",
       "\\item 'Ambient\\_Placebo'\n",
       "\\item 'Ambient\\_Placebo'\n",
       "\\item 'Ambient\\_Placebo'\n",
       "\\item 'Ambient\\_Placebo'\n",
       "\\item 'Ambient\\_Placebo'\n",
       "\\item 'Ambient\\_Placebo'\n",
       "\\item 'NH4\\_Placebo'\n",
       "\\item 'NH4\\_Placebo'\n",
       "\\item 'NH4\\_Placebo'\n",
       "\\item 'NH4\\_Placebo'\n",
       "\\item 'NH4\\_Placebo'\n",
       "\\item 'NH4\\_Placebo'\n",
       "\\item 'NH4\\_Placebo'\n",
       "\\item 'NH4\\_Placebo'\n",
       "\\item 'NH4\\_Placebo'\n",
       "\\item 'NH4\\_Placebo'\n",
       "\\item 'NH4\\_Placebo'\n",
       "\\item 'NH4\\_Placebo'\n",
       "\\item 'NH4\\_Placebo'\n",
       "\\item 'NH4\\_Placebo'\n",
       "\\item 'NH4\\_Placebo'\n",
       "\\item 'NH4\\_Placebo'\n",
       "\\item 'NH4\\_Placebo'\n",
       "\\item 'NH4\\_Placebo'\n",
       "\\item 'NH4\\_Placebo'\n",
       "\\item 'NH4\\_Placebo'\n",
       "\\item 'NH4\\_Placebo'\n",
       "\\item 'NH4\\_Placebo'\n",
       "\\item 'NH4\\_Placebo'\n",
       "\\item 'NH4\\_Placebo'\n",
       "\\item 'NH4\\_Placebo'\n",
       "\\item 'NH4\\_Placebo'\n",
       "\\item 'NH4\\_Placebo'\n",
       "\\item 'NH4\\_Placebo'\n",
       "\\item 'NH4\\_Placebo'\n",
       "\\item 'NH4\\_Placebo'\n",
       "\\item 'Ambient\\_Placebo'\n",
       "\\item 'NH4\\_Placebo'\n",
       "\\item 'NH4\\_Placebo'\n",
       "\\item 'NH4\\_Placebo'\n",
       "\\item 'Ambient\\_Placebo'\n",
       "\\item 'NH4\\_Placebo'\n",
       "\\item 'NH4\\_Placebo'\n",
       "\\item 'NH4\\_Placebo'\n",
       "\\end{enumerate*}\n"
      ],
      "text/markdown": [
       "1. 'NH4_Placebo'\n",
       "2. 'Ambient_Placebo'\n",
       "3. 'Ambient_Placebo'\n",
       "4. 'Ambient_Placebo'\n",
       "5. 'NH4_Placebo'\n",
       "6. 'NH4_Placebo'\n",
       "7. 'NH4_Placebo'\n",
       "8. 'NH4_Placebo'\n",
       "9. 'NH4_Placebo'\n",
       "10. 'NH4_Placebo'\n",
       "11. 'NH4_Placebo'\n",
       "12. 'NH4_Placebo'\n",
       "13. 'Ambient_Placebo'\n",
       "14. 'Ambient_Placebo'\n",
       "15. 'Ambient_Placebo'\n",
       "16. 'Ambient_Placebo'\n",
       "17. 'Ambient_Placebo'\n",
       "18. 'Ambient_Placebo'\n",
       "19. 'NH4_Placebo'\n",
       "20. 'NH4_Placebo'\n",
       "21. 'NH4_Placebo'\n",
       "22. 'NH4_Placebo'\n",
       "23. 'Ambient_Placebo'\n",
       "24. 'Ambient_Placebo'\n",
       "25. 'NH4_Placebo'\n",
       "26. 'NH4_Placebo'\n",
       "27. 'NH4_Placebo'\n",
       "28. 'NH4_Placebo'\n",
       "29. 'NH4_Placebo'\n",
       "30. 'NH4_Placebo'\n",
       "31. 'NH4_Placebo'\n",
       "32. 'Ambient_Placebo'\n",
       "33. 'Ambient_Placebo'\n",
       "34. 'Ambient_Placebo'\n",
       "35. 'Ambient_Placebo'\n",
       "36. 'NH4_Placebo'\n",
       "37. 'Ambient_Placebo'\n",
       "38. 'NH4_Placebo'\n",
       "39. 'Ambient_Placebo'\n",
       "40. 'NH4_Placebo'\n",
       "41. 'Ambient_Placebo'\n",
       "42. 'NH4_Placebo'\n",
       "43. 'NH4_Placebo'\n",
       "44. 'NH4_Placebo'\n",
       "45. 'Ambient_Placebo'\n",
       "46. 'Ambient_Placebo'\n",
       "47. 'NH4_Placebo'\n",
       "48. 'Ambient_Placebo'\n",
       "49. 'Ambient_Placebo'\n",
       "50. 'NH4_Placebo'\n",
       "51. 'Ambient_Placebo'\n",
       "52. 'Ambient_Placebo'\n",
       "53. 'Ambient_Placebo'\n",
       "54. 'Ambient_Placebo'\n",
       "55. 'Ambient_Placebo'\n",
       "56. 'Ambient_Placebo'\n",
       "57. 'Ambient_Placebo'\n",
       "58. 'Ambient_Placebo'\n",
       "59. 'Ambient_Placebo'\n",
       "60. 'Ambient_Placebo'\n",
       "61. 'Ambient_Placebo'\n",
       "62. 'Ambient_Placebo'\n",
       "63. 'Ambient_Placebo'\n",
       "64. 'Ambient_Placebo'\n",
       "65. 'Ambient_Placebo'\n",
       "66. 'Ambient_Placebo'\n",
       "67. 'Ambient_Placebo'\n",
       "68. 'Ambient_Placebo'\n",
       "69. 'NH4_Placebo'\n",
       "70. 'NH4_Placebo'\n",
       "71. 'NH4_Placebo'\n",
       "72. 'NH4_Placebo'\n",
       "73. 'NH4_Placebo'\n",
       "74. 'NH4_Placebo'\n",
       "75. 'NH4_Placebo'\n",
       "76. 'NH4_Placebo'\n",
       "77. 'NH4_Placebo'\n",
       "78. 'NH4_Placebo'\n",
       "79. 'NH4_Placebo'\n",
       "80. 'NH4_Placebo'\n",
       "81. 'NH4_Placebo'\n",
       "82. 'NH4_Placebo'\n",
       "83. 'NH4_Placebo'\n",
       "84. 'NH4_Placebo'\n",
       "85. 'NH4_Placebo'\n",
       "86. 'NH4_Placebo'\n",
       "87. 'NH4_Placebo'\n",
       "88. 'NH4_Placebo'\n",
       "89. 'NH4_Placebo'\n",
       "90. 'NH4_Placebo'\n",
       "91. 'NH4_Placebo'\n",
       "92. 'NH4_Placebo'\n",
       "93. 'NH4_Placebo'\n",
       "94. 'NH4_Placebo'\n",
       "95. 'NH4_Placebo'\n",
       "96. 'NH4_Placebo'\n",
       "97. 'NH4_Placebo'\n",
       "98. 'NH4_Placebo'\n",
       "99. 'Ambient_Placebo'\n",
       "100. 'NH4_Placebo'\n",
       "101. 'NH4_Placebo'\n",
       "102. 'NH4_Placebo'\n",
       "103. 'Ambient_Placebo'\n",
       "104. 'NH4_Placebo'\n",
       "105. 'NH4_Placebo'\n",
       "106. 'NH4_Placebo'\n",
       "\n",
       "\n"
      ],
      "text/plain": [
       "  [1] \"NH4_Placebo\"     \"Ambient_Placebo\" \"Ambient_Placebo\" \"Ambient_Placebo\"\n",
       "  [5] \"NH4_Placebo\"     \"NH4_Placebo\"     \"NH4_Placebo\"     \"NH4_Placebo\"    \n",
       "  [9] \"NH4_Placebo\"     \"NH4_Placebo\"     \"NH4_Placebo\"     \"NH4_Placebo\"    \n",
       " [13] \"Ambient_Placebo\" \"Ambient_Placebo\" \"Ambient_Placebo\" \"Ambient_Placebo\"\n",
       " [17] \"Ambient_Placebo\" \"Ambient_Placebo\" \"NH4_Placebo\"     \"NH4_Placebo\"    \n",
       " [21] \"NH4_Placebo\"     \"NH4_Placebo\"     \"Ambient_Placebo\" \"Ambient_Placebo\"\n",
       " [25] \"NH4_Placebo\"     \"NH4_Placebo\"     \"NH4_Placebo\"     \"NH4_Placebo\"    \n",
       " [29] \"NH4_Placebo\"     \"NH4_Placebo\"     \"NH4_Placebo\"     \"Ambient_Placebo\"\n",
       " [33] \"Ambient_Placebo\" \"Ambient_Placebo\" \"Ambient_Placebo\" \"NH4_Placebo\"    \n",
       " [37] \"Ambient_Placebo\" \"NH4_Placebo\"     \"Ambient_Placebo\" \"NH4_Placebo\"    \n",
       " [41] \"Ambient_Placebo\" \"NH4_Placebo\"     \"NH4_Placebo\"     \"NH4_Placebo\"    \n",
       " [45] \"Ambient_Placebo\" \"Ambient_Placebo\" \"NH4_Placebo\"     \"Ambient_Placebo\"\n",
       " [49] \"Ambient_Placebo\" \"NH4_Placebo\"     \"Ambient_Placebo\" \"Ambient_Placebo\"\n",
       " [53] \"Ambient_Placebo\" \"Ambient_Placebo\" \"Ambient_Placebo\" \"Ambient_Placebo\"\n",
       " [57] \"Ambient_Placebo\" \"Ambient_Placebo\" \"Ambient_Placebo\" \"Ambient_Placebo\"\n",
       " [61] \"Ambient_Placebo\" \"Ambient_Placebo\" \"Ambient_Placebo\" \"Ambient_Placebo\"\n",
       " [65] \"Ambient_Placebo\" \"Ambient_Placebo\" \"Ambient_Placebo\" \"Ambient_Placebo\"\n",
       " [69] \"NH4_Placebo\"     \"NH4_Placebo\"     \"NH4_Placebo\"     \"NH4_Placebo\"    \n",
       " [73] \"NH4_Placebo\"     \"NH4_Placebo\"     \"NH4_Placebo\"     \"NH4_Placebo\"    \n",
       " [77] \"NH4_Placebo\"     \"NH4_Placebo\"     \"NH4_Placebo\"     \"NH4_Placebo\"    \n",
       " [81] \"NH4_Placebo\"     \"NH4_Placebo\"     \"NH4_Placebo\"     \"NH4_Placebo\"    \n",
       " [85] \"NH4_Placebo\"     \"NH4_Placebo\"     \"NH4_Placebo\"     \"NH4_Placebo\"    \n",
       " [89] \"NH4_Placebo\"     \"NH4_Placebo\"     \"NH4_Placebo\"     \"NH4_Placebo\"    \n",
       " [93] \"NH4_Placebo\"     \"NH4_Placebo\"     \"NH4_Placebo\"     \"NH4_Placebo\"    \n",
       " [97] \"NH4_Placebo\"     \"NH4_Placebo\"     \"Ambient_Placebo\" \"NH4_Placebo\"    \n",
       "[101] \"NH4_Placebo\"     \"NH4_Placebo\"     \"Ambient_Placebo\" \"NH4_Placebo\"    \n",
       "[105] \"NH4_Placebo\"     \"NH4_Placebo\"    "
      ]
     },
     "metadata": {},
     "output_type": "display_data"
    }
   ],
   "source": [
    "PLac= meta1 %>%\n",
    "filter(Diseased==\"Placebo\")\n",
    "\n",
    "dim(PLac)\n",
    "\n",
    "PLac$Combo"
   ]
  },
  {
   "cell_type": "code",
   "execution_count": 99,
   "id": "b983d8bc",
   "metadata": {},
   "outputs": [
    {
     "name": "stderr",
     "output_type": "stream",
     "text": [
      "boundary (singular) fit: see help('isSingular')\n",
      "\n"
     ]
    },
    {
     "data": {
      "text/plain": [
       "Linear mixed model fit by REML ['lmerMod']\n",
       "Formula: estimate ~ Nutrients + (1 | Tag:Genotype)\n",
       "   Data: PLac\n",
       "\n",
       "REML criterion at convergence: -7354.2\n",
       "\n",
       "Scaled residuals: \n",
       "   Min     1Q Median     3Q    Max \n",
       "-1.215 -1.215 -0.810 -0.810 -0.810 \n",
       "\n",
       "Random effects:\n",
       " Groups       Name        Variance  Std.Dev. \n",
       " Tag:Genotype (Intercept) 3.715e-42 1.927e-21\n",
       " Residual                 1.057e-32 1.028e-16\n",
       "Number of obs: 106, groups:  Tag:Genotype, 82\n",
       "\n",
       "Fixed effects:\n",
       "               Estimate Std. Error    t value\n",
       "(Intercept)   8.050e-02  1.586e-17  5.075e+15\n",
       "NutrientsNH4 -3.502e-17  2.041e-17 -1.716e+00\n",
       "\n",
       "Correlation of Fixed Effects:\n",
       "            (Intr)\n",
       "NutrintsNH4 -0.777\n",
       "optimizer (nloptwrap) convergence code: 0 (OK)\n",
       "boundary (singular) fit: see help('isSingular')\n"
      ]
     },
     "metadata": {},
     "output_type": "display_data"
    },
    {
     "data": {
      "text/plain": [
       "$emmeans\n",
       " Nutrients emmean      SE   df lower.CL upper.CL\n",
       " Ambient   0.0805 1.6e-17 51.5   0.0805   0.0805\n",
       " NH4       0.0805 1.3e-17 84.5   0.0805   0.0805\n",
       "\n",
       "Degrees-of-freedom method: kenward-roger \n",
       "Confidence level used: 0.95 \n",
       "\n",
       "$contrasts\n",
       " contrast      estimate       SE   df t.ratio p.value\n",
       " Ambient - NH4  3.5e-17 2.06e-17 63.4   1.700  0.0941\n",
       "\n",
       "Degrees-of-freedom method: kenward-roger \n"
      ]
     },
     "metadata": {},
     "output_type": "display_data"
    }
   ],
   "source": [
    "mixed.lmer_TT <- lmer(estimate~ Nutrients + (1|Tag:Genotype), data =PLac)\n",
    "summary(mixed.lmer_TT)\n",
    "emmeans(mixed.lmer_TT, pairwise ~ -1 + Nutrients, adjust=\"tukey\")"
   ]
  },
  {
   "cell_type": "code",
   "execution_count": 16,
   "id": "2bd9b180",
   "metadata": {},
   "outputs": [
    {
     "data": {
      "text/html": [
       "<style>\n",
       ".list-inline {list-style: none; margin:0; padding: 0}\n",
       ".list-inline>li {display: inline-block}\n",
       ".list-inline>li:not(:last-child)::after {content: \"\\00b7\"; padding: 0 .5ex}\n",
       "</style>\n",
       "<ol class=list-inline><li>135</li><li>51</li></ol>\n"
      ],
      "text/latex": [
       "\\begin{enumerate*}\n",
       "\\item 135\n",
       "\\item 51\n",
       "\\end{enumerate*}\n"
      ],
      "text/markdown": [
       "1. 135\n",
       "2. 51\n",
       "\n",
       "\n"
      ],
      "text/plain": [
       "[1] 135  51"
      ]
     },
     "metadata": {},
     "output_type": "display_data"
    },
    {
     "data": {
      "text/html": [
       "<style>\n",
       ".list-inline {list-style: none; margin:0; padding: 0}\n",
       ".list-inline>li {display: inline-block}\n",
       ".list-inline>li:not(:last-child)::after {content: \"\\00b7\"; padding: 0 .5ex}\n",
       "</style>\n",
       "<ol class=list-inline><li>'paired'</li><li>'paired'</li><li>'paired'</li><li>'paired'</li><li>'paired'</li><li>'paired'</li><li>'paired'</li><li>'paired'</li><li>'paired'</li><li>'paired'</li><li>'paired'</li><li>'paired'</li><li>'paired'</li><li>'paired'</li><li>'paired'</li><li>'paired'</li><li>'paired'</li><li>'paired'</li><li>'paired'</li><li>'paired'</li><li>'paired'</li><li>'paired'</li><li>'paired'</li><li>'paired'</li><li>'paired'</li><li>'paired'</li><li>'paired'</li><li>'paired'</li><li>'paired'</li><li>'paired'</li><li>'paired'</li><li>'paired'</li><li>'paired'</li><li>'paired'</li><li>'paired'</li><li>'paired'</li><li>'paired'</li><li>'paired'</li><li>'paired'</li><li>'paired'</li><li>'paired'</li><li>'paired'</li><li>'paired'</li><li>'paired'</li><li>'paired'</li><li>'paired'</li><li>'paired'</li><li>'paired'</li><li>'paired'</li><li>'paired'</li><li>'paired'</li><li>'paired'</li><li>'paired'</li><li>'paired'</li><li>'paired'</li><li>'paired'</li><li>'paired'</li><li>'paired'</li><li>'paired'</li><li>'paired'</li><li>'paired'</li><li>'paired'</li><li>'paired'</li><li>'paired'</li><li>'paired'</li><li>'paired'</li><li>'paired'</li><li>'paired'</li><li>'paired'</li><li>'paired'</li><li>'paired'</li><li>'paired'</li><li>'paired'</li><li>'paired'</li><li>'paired'</li><li>'paired'</li><li>'paired'</li><li>'paired'</li><li>'paired'</li><li>'paired'</li><li>'paired'</li><li>'paired'</li><li>'paired'</li><li>'paired'</li><li>'paired'</li><li>'paired'</li><li>'paired'</li><li>'paired'</li><li>'paired'</li><li>'paired'</li><li>'paired'</li><li>'paired'</li><li>'paired'</li><li>'paired'</li><li>'paired'</li><li>'paired'</li><li>'paired'</li><li>'paired'</li><li>'paired'</li><li>'paired'</li><li>'paired'</li><li>'paired'</li><li>'paired'</li><li>'paired'</li><li>'paired'</li><li>'paired'</li><li>'paired'</li><li>'paired'</li><li>'paired'</li><li>'paired'</li><li>'paired'</li><li>'paired'</li><li>'paired'</li><li>'paired'</li><li>'paired'</li><li>'paired'</li><li>'paired'</li><li>'paired'</li><li>'paired'</li><li>'paired'</li><li>'paired'</li><li>'paired'</li><li>'paired'</li><li>'paired'</li><li>'paired'</li><li>'paired'</li><li>'paired'</li><li>'paired'</li><li>'paired'</li><li>'paired'</li><li>'paired'</li><li>'paired'</li><li>'paired'</li><li>'paired'</li><li>'paired'</li></ol>\n"
      ],
      "text/latex": [
       "\\begin{enumerate*}\n",
       "\\item 'paired'\n",
       "\\item 'paired'\n",
       "\\item 'paired'\n",
       "\\item 'paired'\n",
       "\\item 'paired'\n",
       "\\item 'paired'\n",
       "\\item 'paired'\n",
       "\\item 'paired'\n",
       "\\item 'paired'\n",
       "\\item 'paired'\n",
       "\\item 'paired'\n",
       "\\item 'paired'\n",
       "\\item 'paired'\n",
       "\\item 'paired'\n",
       "\\item 'paired'\n",
       "\\item 'paired'\n",
       "\\item 'paired'\n",
       "\\item 'paired'\n",
       "\\item 'paired'\n",
       "\\item 'paired'\n",
       "\\item 'paired'\n",
       "\\item 'paired'\n",
       "\\item 'paired'\n",
       "\\item 'paired'\n",
       "\\item 'paired'\n",
       "\\item 'paired'\n",
       "\\item 'paired'\n",
       "\\item 'paired'\n",
       "\\item 'paired'\n",
       "\\item 'paired'\n",
       "\\item 'paired'\n",
       "\\item 'paired'\n",
       "\\item 'paired'\n",
       "\\item 'paired'\n",
       "\\item 'paired'\n",
       "\\item 'paired'\n",
       "\\item 'paired'\n",
       "\\item 'paired'\n",
       "\\item 'paired'\n",
       "\\item 'paired'\n",
       "\\item 'paired'\n",
       "\\item 'paired'\n",
       "\\item 'paired'\n",
       "\\item 'paired'\n",
       "\\item 'paired'\n",
       "\\item 'paired'\n",
       "\\item 'paired'\n",
       "\\item 'paired'\n",
       "\\item 'paired'\n",
       "\\item 'paired'\n",
       "\\item 'paired'\n",
       "\\item 'paired'\n",
       "\\item 'paired'\n",
       "\\item 'paired'\n",
       "\\item 'paired'\n",
       "\\item 'paired'\n",
       "\\item 'paired'\n",
       "\\item 'paired'\n",
       "\\item 'paired'\n",
       "\\item 'paired'\n",
       "\\item 'paired'\n",
       "\\item 'paired'\n",
       "\\item 'paired'\n",
       "\\item 'paired'\n",
       "\\item 'paired'\n",
       "\\item 'paired'\n",
       "\\item 'paired'\n",
       "\\item 'paired'\n",
       "\\item 'paired'\n",
       "\\item 'paired'\n",
       "\\item 'paired'\n",
       "\\item 'paired'\n",
       "\\item 'paired'\n",
       "\\item 'paired'\n",
       "\\item 'paired'\n",
       "\\item 'paired'\n",
       "\\item 'paired'\n",
       "\\item 'paired'\n",
       "\\item 'paired'\n",
       "\\item 'paired'\n",
       "\\item 'paired'\n",
       "\\item 'paired'\n",
       "\\item 'paired'\n",
       "\\item 'paired'\n",
       "\\item 'paired'\n",
       "\\item 'paired'\n",
       "\\item 'paired'\n",
       "\\item 'paired'\n",
       "\\item 'paired'\n",
       "\\item 'paired'\n",
       "\\item 'paired'\n",
       "\\item 'paired'\n",
       "\\item 'paired'\n",
       "\\item 'paired'\n",
       "\\item 'paired'\n",
       "\\item 'paired'\n",
       "\\item 'paired'\n",
       "\\item 'paired'\n",
       "\\item 'paired'\n",
       "\\item 'paired'\n",
       "\\item 'paired'\n",
       "\\item 'paired'\n",
       "\\item 'paired'\n",
       "\\item 'paired'\n",
       "\\item 'paired'\n",
       "\\item 'paired'\n",
       "\\item 'paired'\n",
       "\\item 'paired'\n",
       "\\item 'paired'\n",
       "\\item 'paired'\n",
       "\\item 'paired'\n",
       "\\item 'paired'\n",
       "\\item 'paired'\n",
       "\\item 'paired'\n",
       "\\item 'paired'\n",
       "\\item 'paired'\n",
       "\\item 'paired'\n",
       "\\item 'paired'\n",
       "\\item 'paired'\n",
       "\\item 'paired'\n",
       "\\item 'paired'\n",
       "\\item 'paired'\n",
       "\\item 'paired'\n",
       "\\item 'paired'\n",
       "\\item 'paired'\n",
       "\\item 'paired'\n",
       "\\item 'paired'\n",
       "\\item 'paired'\n",
       "\\item 'paired'\n",
       "\\item 'paired'\n",
       "\\item 'paired'\n",
       "\\item 'paired'\n",
       "\\item 'paired'\n",
       "\\item 'paired'\n",
       "\\item 'paired'\n",
       "\\end{enumerate*}\n"
      ],
      "text/markdown": [
       "1. 'paired'\n",
       "2. 'paired'\n",
       "3. 'paired'\n",
       "4. 'paired'\n",
       "5. 'paired'\n",
       "6. 'paired'\n",
       "7. 'paired'\n",
       "8. 'paired'\n",
       "9. 'paired'\n",
       "10. 'paired'\n",
       "11. 'paired'\n",
       "12. 'paired'\n",
       "13. 'paired'\n",
       "14. 'paired'\n",
       "15. 'paired'\n",
       "16. 'paired'\n",
       "17. 'paired'\n",
       "18. 'paired'\n",
       "19. 'paired'\n",
       "20. 'paired'\n",
       "21. 'paired'\n",
       "22. 'paired'\n",
       "23. 'paired'\n",
       "24. 'paired'\n",
       "25. 'paired'\n",
       "26. 'paired'\n",
       "27. 'paired'\n",
       "28. 'paired'\n",
       "29. 'paired'\n",
       "30. 'paired'\n",
       "31. 'paired'\n",
       "32. 'paired'\n",
       "33. 'paired'\n",
       "34. 'paired'\n",
       "35. 'paired'\n",
       "36. 'paired'\n",
       "37. 'paired'\n",
       "38. 'paired'\n",
       "39. 'paired'\n",
       "40. 'paired'\n",
       "41. 'paired'\n",
       "42. 'paired'\n",
       "43. 'paired'\n",
       "44. 'paired'\n",
       "45. 'paired'\n",
       "46. 'paired'\n",
       "47. 'paired'\n",
       "48. 'paired'\n",
       "49. 'paired'\n",
       "50. 'paired'\n",
       "51. 'paired'\n",
       "52. 'paired'\n",
       "53. 'paired'\n",
       "54. 'paired'\n",
       "55. 'paired'\n",
       "56. 'paired'\n",
       "57. 'paired'\n",
       "58. 'paired'\n",
       "59. 'paired'\n",
       "60. 'paired'\n",
       "61. 'paired'\n",
       "62. 'paired'\n",
       "63. 'paired'\n",
       "64. 'paired'\n",
       "65. 'paired'\n",
       "66. 'paired'\n",
       "67. 'paired'\n",
       "68. 'paired'\n",
       "69. 'paired'\n",
       "70. 'paired'\n",
       "71. 'paired'\n",
       "72. 'paired'\n",
       "73. 'paired'\n",
       "74. 'paired'\n",
       "75. 'paired'\n",
       "76. 'paired'\n",
       "77. 'paired'\n",
       "78. 'paired'\n",
       "79. 'paired'\n",
       "80. 'paired'\n",
       "81. 'paired'\n",
       "82. 'paired'\n",
       "83. 'paired'\n",
       "84. 'paired'\n",
       "85. 'paired'\n",
       "86. 'paired'\n",
       "87. 'paired'\n",
       "88. 'paired'\n",
       "89. 'paired'\n",
       "90. 'paired'\n",
       "91. 'paired'\n",
       "92. 'paired'\n",
       "93. 'paired'\n",
       "94. 'paired'\n",
       "95. 'paired'\n",
       "96. 'paired'\n",
       "97. 'paired'\n",
       "98. 'paired'\n",
       "99. 'paired'\n",
       "100. 'paired'\n",
       "101. 'paired'\n",
       "102. 'paired'\n",
       "103. 'paired'\n",
       "104. 'paired'\n",
       "105. 'paired'\n",
       "106. 'paired'\n",
       "107. 'paired'\n",
       "108. 'paired'\n",
       "109. 'paired'\n",
       "110. 'paired'\n",
       "111. 'paired'\n",
       "112. 'paired'\n",
       "113. 'paired'\n",
       "114. 'paired'\n",
       "115. 'paired'\n",
       "116. 'paired'\n",
       "117. 'paired'\n",
       "118. 'paired'\n",
       "119. 'paired'\n",
       "120. 'paired'\n",
       "121. 'paired'\n",
       "122. 'paired'\n",
       "123. 'paired'\n",
       "124. 'paired'\n",
       "125. 'paired'\n",
       "126. 'paired'\n",
       "127. 'paired'\n",
       "128. 'paired'\n",
       "129. 'paired'\n",
       "130. 'paired'\n",
       "131. 'paired'\n",
       "132. 'paired'\n",
       "133. 'paired'\n",
       "134. 'paired'\n",
       "135. 'paired'\n",
       "\n",
       "\n"
      ],
      "text/plain": [
       "  [1] \"paired\" \"paired\" \"paired\" \"paired\" \"paired\" \"paired\" \"paired\" \"paired\"\n",
       "  [9] \"paired\" \"paired\" \"paired\" \"paired\" \"paired\" \"paired\" \"paired\" \"paired\"\n",
       " [17] \"paired\" \"paired\" \"paired\" \"paired\" \"paired\" \"paired\" \"paired\" \"paired\"\n",
       " [25] \"paired\" \"paired\" \"paired\" \"paired\" \"paired\" \"paired\" \"paired\" \"paired\"\n",
       " [33] \"paired\" \"paired\" \"paired\" \"paired\" \"paired\" \"paired\" \"paired\" \"paired\"\n",
       " [41] \"paired\" \"paired\" \"paired\" \"paired\" \"paired\" \"paired\" \"paired\" \"paired\"\n",
       " [49] \"paired\" \"paired\" \"paired\" \"paired\" \"paired\" \"paired\" \"paired\" \"paired\"\n",
       " [57] \"paired\" \"paired\" \"paired\" \"paired\" \"paired\" \"paired\" \"paired\" \"paired\"\n",
       " [65] \"paired\" \"paired\" \"paired\" \"paired\" \"paired\" \"paired\" \"paired\" \"paired\"\n",
       " [73] \"paired\" \"paired\" \"paired\" \"paired\" \"paired\" \"paired\" \"paired\" \"paired\"\n",
       " [81] \"paired\" \"paired\" \"paired\" \"paired\" \"paired\" \"paired\" \"paired\" \"paired\"\n",
       " [89] \"paired\" \"paired\" \"paired\" \"paired\" \"paired\" \"paired\" \"paired\" \"paired\"\n",
       " [97] \"paired\" \"paired\" \"paired\" \"paired\" \"paired\" \"paired\" \"paired\" \"paired\"\n",
       "[105] \"paired\" \"paired\" \"paired\" \"paired\" \"paired\" \"paired\" \"paired\" \"paired\"\n",
       "[113] \"paired\" \"paired\" \"paired\" \"paired\" \"paired\" \"paired\" \"paired\" \"paired\"\n",
       "[121] \"paired\" \"paired\" \"paired\" \"paired\" \"paired\" \"paired\" \"paired\" \"paired\"\n",
       "[129] \"paired\" \"paired\" \"paired\" \"paired\" \"paired\" \"paired\" \"paired\""
      ]
     },
     "metadata": {},
     "output_type": "display_data"
    }
   ],
   "source": [
    "paired_df= meta1 %>%\n",
    "filter(Pairs==\"paired\")\n",
    "\n",
    "dim(paired_df)\n",
    "paired_df$Pairs"
   ]
  },
  {
   "cell_type": "code",
   "execution_count": 93,
   "id": "4681530b",
   "metadata": {},
   "outputs": [
    {
     "name": "stderr",
     "output_type": "stream",
     "text": [
      "Warning message in checkConv(attr(opt, \"derivs\"), opt$par, ctrl = control$checkConv, :\n",
      "“Model failed to converge with max|grad| = 1.72894 (tol = 0.002, component 1)”\n",
      "Warning message in checkConv(attr(opt, \"derivs\"), opt$par, ctrl = control$checkConv, :\n",
      "“Model is nearly unidentifiable: very large eigenvalue\n",
      " - Rescale variables?”\n"
     ]
    },
    {
     "data": {
      "text/plain": [
       "Linear mixed model fit by REML ['lmerMod']\n",
       "Formula: estimate ~ Combo + (1 | Tag:Genotype)\n",
       "   Data: paired_df\n",
       "\n",
       "REML criterion at convergence: -9301.3\n",
       "\n",
       "Scaled residuals: \n",
       "    Min      1Q  Median      3Q     Max \n",
       "-0.8685 -0.4343 -0.4343 -0.2171  0.8685 \n",
       "\n",
       "Random effects:\n",
       " Groups       Name        Variance  Std.Dev. \n",
       " Tag:Genotype (Intercept) 4.010e-33 6.333e-17\n",
       " Residual                 4.085e-33 6.391e-17\n",
       "Number of obs: 135, groups:  Tag:Genotype, 112\n",
       "\n",
       "Fixed effects:\n",
       "                       Estimate Std. Error    t value\n",
       "(Intercept)           2.396e-01  1.765e-17  1.358e+16\n",
       "ComboAmbient_Placebo -1.591e-01  2.464e-17 -6.459e+15\n",
       "ComboNH4_Pathogen     2.050e-16  2.376e-17  8.631e+00\n",
       "ComboNH4_Placebo     -1.591e-01  2.338e-17 -6.805e+15\n",
       "\n",
       "Correlation of Fixed Effects:\n",
       "            (Intr) CmbA_P CmbNH4_Pt\n",
       "CmbAmbnt_Pl -0.716                 \n",
       "CmbNH4_Pthg -0.743  0.532          \n",
       "CmbNH4_Plcb -0.755  0.540  0.560   \n",
       "optimizer (nloptwrap) convergence code: 0 (OK)\n",
       "Model failed to converge with max|grad| = 1.72894 (tol = 0.002, component 1)\n",
       "Model is nearly unidentifiable: very large eigenvalue\n",
       " - Rescale variables?\n"
      ]
     },
     "metadata": {},
     "output_type": "display_data"
    },
    {
     "data": {
      "text/plain": [
       "$emmeans\n",
       " Combo            emmean       SE    df lower.CL upper.CL\n",
       " Ambient_Pathogen 0.2396 1.76e-17 121.5   0.2396   0.2396\n",
       " Ambient_Placebo  0.0805 1.72e-17  81.0   0.0805   0.0805\n",
       " NH4_Pathogen     0.2396 1.59e-17 121.5   0.2396   0.2396\n",
       " NH4_Placebo      0.0805 1.54e-17  97.2   0.0805   0.0805\n",
       "\n",
       "Degrees-of-freedom method: kenward-roger \n",
       "Confidence level used: 0.95 \n",
       "\n",
       "$contrasts\n",
       " contrast                           estimate       SE  df               t.ratio\n",
       " Ambient_Pathogen - Ambient_Placebo    0.159 2.47e-17 103  6452379014266199.000\n",
       " Ambient_Pathogen - NH4_Pathogen       0.000 2.38e-17 121                -9.000\n",
       " Ambient_Pathogen - NH4_Placebo        0.159 2.34e-17 112  6798315930484525.000\n",
       " Ambient_Placebo - NH4_Pathogen       -0.159 2.34e-17 100 -6786251728791907.000\n",
       " Ambient_Placebo - NH4_Placebo         0.000 2.31e-17  88                -1.000\n",
       " NH4_Pathogen - NH4_Placebo            0.159 2.21e-17 111  7192247765998283.000\n",
       " p.value\n",
       "  <.0001\n",
       "  <.0001\n",
       "  <.0001\n",
       "  <.0001\n",
       "  0.6274\n",
       "  <.0001\n",
       "\n",
       "Degrees-of-freedom method: kenward-roger \n",
       "P value adjustment: tukey method for comparing a family of 4 estimates \n"
      ]
     },
     "metadata": {},
     "output_type": "display_data"
    }
   ],
   "source": [
    "mixed.lmer_TT <- lmer(estimate~Combo + (1|Tag:Genotype), data =paired_df)\n",
    "summary(mixed.lmer_TT)\n",
    "emmeans(mixed.lmer_TT, pairwise ~ -1 + Combo, adjust=\"tukey\")"
   ]
  },
  {
   "cell_type": "code",
   "execution_count": 94,
   "id": "286ef1f6",
   "metadata": {},
   "outputs": [
    {
     "data": {
      "text/plain": [
       "Linear mixed model fit by REML ['lmerMod']\n",
       "Formula: estimate ~ Health + (1 | Tag:Genotype)\n",
       "   Data: paired_df\n",
       "\n",
       "REML criterion at convergence: -468.6\n",
       "\n",
       "Scaled residuals: \n",
       "    Min      1Q  Median      3Q     Max \n",
       "-3.6927 -0.1004 -0.1004  0.1688  2.8737 \n",
       "\n",
       "Random effects:\n",
       " Groups       Name        Variance  Std.Dev.\n",
       " Tag:Genotype (Intercept) 0.0016421 0.04052 \n",
       " Residual                 0.0003414 0.01848 \n",
       "Number of obs: 135, groups:  Tag:Genotype, 112\n",
       "\n",
       "Fixed effects:\n",
       "            Estimate Std. Error t value\n",
       "(Intercept) 0.100191   0.005791   17.30\n",
       "HealthDL    0.121321   0.007977   15.21\n",
       "\n",
       "Correlation of Fixed Effects:\n",
       "         (Intr)\n",
       "HealthDL -0.694"
      ]
     },
     "metadata": {},
     "output_type": "display_data"
    },
    {
     "data": {
      "text/plain": [
       "$emmeans\n",
       " Health emmean      SE  df lower.CL upper.CL\n",
       " AH      0.100 0.00582 115   0.0887    0.112\n",
       " DL      0.222 0.00577 123   0.2101    0.233\n",
       "\n",
       "Degrees-of-freedom method: kenward-roger \n",
       "Confidence level used: 0.95 \n",
       "\n",
       "$contrasts\n",
       " contrast estimate      SE  df t.ratio p.value\n",
       " AH - DL    -0.121 0.00805 127 -15.074  <.0001\n",
       "\n",
       "Degrees-of-freedom method: kenward-roger \n"
      ]
     },
     "metadata": {},
     "output_type": "display_data"
    }
   ],
   "source": [
    "mixed.lmer_TT <- lmer(estimate~Health + (1|Tag:Genotype), data =paired_df)\n",
    "summary(mixed.lmer_TT)\n",
    "emmeans(mixed.lmer_TT, pairwise ~ -1 + Health, adjust=\"tukey\")"
   ]
  },
  {
   "cell_type": "code",
   "execution_count": 58,
   "id": "5a4af5f4",
   "metadata": {},
   "outputs": [
    {
     "data": {
      "image/png": "[encoded data removed]",
      "text/plain": [
       "plot without title"
      ]
     },
     "metadata": {
      "image/png": {
       "height": 420,
       "width": 420
      }
     },
     "output_type": "display_data"
    }
   ],
   "source": [
    "paired_df  %>%\n",
    "gather(key = metric, value = value, c(\"name\")) %>%\n",
    "  mutate(metric = factor(metric, levels = c(\"name\"))) %>%\n",
    "  ggplot(aes(x = Combo, y = estimate)) +\n",
    "  geom_boxplot(outlier.color = NA) +\n",
    "  geom_jitter(aes(color = Combo), height = 0, width = .2) +\n",
    "  labs(x = \"\", y = \"\") +\n",
    " geom_errorbar(aes(ymin = lower - error, \n",
    "ymax = upper + error)) +\n",
    "  #facet_wrap(~ metric, scales = \"free\") +\n",
    "  theme(legend.position=\"none\")"
   ]
  },
  {
   "cell_type": "code",
   "execution_count": 40,
   "id": "0f3d6556",
   "metadata": {},
   "outputs": [
    {
     "name": "stderr",
     "output_type": "stream",
     "text": [
      "`set.seed(123)` was used to initialize repeatable random subsampling.\n",
      "\n",
      "Please record this for your records so others can reproduce.\n",
      "\n",
      "Try `set.seed(123); .Random.seed` for the full vector\n",
      "\n",
      "...\n",
      "\n",
      "5499OTUs were removed because they are no longer \n",
      "present in any sample after random subsampling\n",
      "\n",
      "\n",
      "...\n",
      "\n"
     ]
    },
    {
     "data": {
      "text/plain": [
       "phyloseq-class experiment-level object\n",
       "otu_table()   OTU Table:         [ 3993 taxa and 192 samples ]\n",
       "sample_data() Sample Data:       [ 192 samples by 51 sample variables ]\n",
       "tax_table()   Taxonomy Table:    [ 3993 taxa by 8 taxonomic ranks ]\n",
       "phy_tree()    Phylogenetic Tree: [ 3993 tips and 3538 internal nodes ]"
      ]
     },
     "metadata": {},
     "output_type": "display_data"
    }
   ],
   "source": [
    "(ps_rare <- phyloseq::rarefy_even_depth(ps_Clipped, rngseed = 123, replace = FALSE))             \n"
   ]
  },
  {
   "cell_type": "code",
   "execution_count": 82,
   "id": "77d9ec68",
   "metadata": {},
   "outputs": [
    {
     "data": {
      "text/html": [
       "<table class=\"dataframe\">\n",
       "<caption>A data.frame: 6 × 4</caption>\n",
       "<thead>\n",
       "\t<tr><th></th><th scope=col>sample_names</th><th scope=col>Simpson</th><th scope=col>Shannon</th><th scope=col>Combo</th></tr>\n",
       "\t<tr><th></th><th scope=col>&lt;chr&gt;</th><th scope=col>&lt;dbl&gt;</th><th scope=col>&lt;dbl&gt;</th><th scope=col>&lt;chr&gt;</th></tr>\n",
       "</thead>\n",
       "<tbody>\n",
       "\t<tr><th scope=row>1</th><td>N10-A019</td><td>0.9165302</td><td>2.688475</td><td>NH4_Placebo </td></tr>\n",
       "\t<tr><th scope=row>2</th><td>N11-A153</td><td>0.8911621</td><td>2.303332</td><td>NH4_Pathogen</td></tr>\n",
       "\t<tr><th scope=row>3</th><td>N115-247</td><td>0.9810130</td><td>4.232491</td><td>NH4_Pathogen</td></tr>\n",
       "\t<tr><th scope=row>4</th><td>N12-A008</td><td>0.8919527</td><td>2.338363</td><td>NH4_Placebo </td></tr>\n",
       "\t<tr><th scope=row>5</th><td>N13-A038</td><td>0.9083314</td><td>2.573971</td><td>NH4_Pathogen</td></tr>\n",
       "\t<tr><th scope=row>6</th><td>N14-A040</td><td>0.8875314</td><td>2.226630</td><td>NH4_Pathogen</td></tr>\n",
       "</tbody>\n",
       "</table>\n"
      ],
      "text/latex": [
       "A data.frame: 6 × 4\n",
       "\\begin{tabular}{r|llll}\n",
       "  & sample\\_names & Simpson & Shannon & Combo\\\\\n",
       "  & <chr> & <dbl> & <dbl> & <chr>\\\\\n",
       "\\hline\n",
       "\t1 & N10-A019 & 0.9165302 & 2.688475 & NH4\\_Placebo \\\\\n",
       "\t2 & N11-A153 & 0.8911621 & 2.303332 & NH4\\_Pathogen\\\\\n",
       "\t3 & N115-247 & 0.9810130 & 4.232491 & NH4\\_Pathogen\\\\\n",
       "\t4 & N12-A008 & 0.8919527 & 2.338363 & NH4\\_Placebo \\\\\n",
       "\t5 & N13-A038 & 0.9083314 & 2.573971 & NH4\\_Pathogen\\\\\n",
       "\t6 & N14-A040 & 0.8875314 & 2.226630 & NH4\\_Pathogen\\\\\n",
       "\\end{tabular}\n"
      ],
      "text/markdown": [
       "\n",
       "A data.frame: 6 × 4\n",
       "\n",
       "| <!--/--> | sample_names &lt;chr&gt; | Simpson &lt;dbl&gt; | Shannon &lt;dbl&gt; | Combo &lt;chr&gt; |\n",
       "|---|---|---|---|---|\n",
       "| 1 | N10-A019 | 0.9165302 | 2.688475 | NH4_Placebo  |\n",
       "| 2 | N11-A153 | 0.8911621 | 2.303332 | NH4_Pathogen |\n",
       "| 3 | N115-247 | 0.9810130 | 4.232491 | NH4_Pathogen |\n",
       "| 4 | N12-A008 | 0.8919527 | 2.338363 | NH4_Placebo  |\n",
       "| 5 | N13-A038 | 0.9083314 | 2.573971 | NH4_Pathogen |\n",
       "| 6 | N14-A040 | 0.8875314 | 2.226630 | NH4_Pathogen |\n",
       "\n"
      ],
      "text/plain": [
       "  sample_names Simpson   Shannon  Combo       \n",
       "1 N10-A019     0.9165302 2.688475 NH4_Placebo \n",
       "2 N11-A153     0.8911621 2.303332 NH4_Pathogen\n",
       "3 N115-247     0.9810130 4.232491 NH4_Pathogen\n",
       "4 N12-A008     0.8919527 2.338363 NH4_Placebo \n",
       "5 N13-A038     0.9083314 2.573971 NH4_Pathogen\n",
       "6 N14-A040     0.8875314 2.226630 NH4_Pathogen"
      ]
     },
     "metadata": {},
     "output_type": "display_data"
    }
   ],
   "source": [
    "adiv <- data.frame(\n",
    "  \"Simpson\" = phyloseq::estimate_richness(ps_rare, measures = \"Simpson\"),\n",
    "  \"Shannon\" = phyloseq::estimate_richness(ps_rare, measures = \"Shannon\"),\n",
    "  \"Combo\" = phyloseq::sample_data(ps_rare)$Combo) %>% rownames_to_column(\"sample_names\")\n",
    "head(adiv)"
   ]
  },
  {
   "cell_type": "code",
   "execution_count": 55,
   "id": "e765ff4d",
   "metadata": {},
   "outputs": [
    {
     "data": {
      "image/png": "[encoded data removed]",
      "text/plain": [
       "plot without title"
      ]
     },
     "metadata": {
      "image/png": {
       "height": 420,
       "width": 420
      }
     },
     "output_type": "display_data"
    }
   ],
   "source": [
    "adiv %>%\n",
    "  gather(key = metric, value = value, c(\"Simpson\", \"Shannon\")) %>%\n",
    "  mutate(metric = factor(metric, levels = c(\"Simpson\", \"Shannon\"))) %>%\n",
    "  ggplot(aes(x = Combo, y = value) +\n",
    "  g\n",
    "  geom_boxplot(outlier.color = NA) +\n",
    "  geom_jitter(aes(color = Combo), height = 0, width = .2) +\n",
    "  labs(x = \"\", y = \"\") +\n",
    "  facet_wrap(~ metric, scales = \"free\") +\n",
    "  theme(legend.position=\"none\")"
   ]
  },
  {
   "cell_type": "code",
   "execution_count": 86,
   "id": "46385268",
   "metadata": {},
   "outputs": [
    {
     "data": {
      "text/html": [
       "<table class=\"dataframe\">\n",
       "<caption>A data.frame: 6 × 4</caption>\n",
       "<thead>\n",
       "\t<tr><th></th><th scope=col>sample_names</th><th scope=col>Simpson</th><th scope=col>Shannon</th><th scope=col>Combo</th></tr>\n",
       "\t<tr><th></th><th scope=col>&lt;chr&gt;</th><th scope=col>&lt;dbl&gt;</th><th scope=col>&lt;dbl&gt;</th><th scope=col>&lt;chr&gt;</th></tr>\n",
       "</thead>\n",
       "<tbody>\n",
       "\t<tr><th scope=row>1</th><td>N10-A019</td><td>0.9165302</td><td>2.688475</td><td>NH4_Placebo </td></tr>\n",
       "\t<tr><th scope=row>2</th><td>N11-A153</td><td>0.8911621</td><td>2.303332</td><td>NH4_Pathogen</td></tr>\n",
       "\t<tr><th scope=row>3</th><td>N115-247</td><td>0.9810130</td><td>4.232491</td><td>NH4_Pathogen</td></tr>\n",
       "\t<tr><th scope=row>4</th><td>N12-A008</td><td>0.8919527</td><td>2.338363</td><td>NH4_Placebo </td></tr>\n",
       "\t<tr><th scope=row>5</th><td>N13-A038</td><td>0.9083314</td><td>2.573971</td><td>NH4_Pathogen</td></tr>\n",
       "\t<tr><th scope=row>6</th><td>N14-A040</td><td>0.8875314</td><td>2.226630</td><td>NH4_Pathogen</td></tr>\n",
       "</tbody>\n",
       "</table>\n"
      ],
      "text/latex": [
       "A data.frame: 6 × 4\n",
       "\\begin{tabular}{r|llll}\n",
       "  & sample\\_names & Simpson & Shannon & Combo\\\\\n",
       "  & <chr> & <dbl> & <dbl> & <chr>\\\\\n",
       "\\hline\n",
       "\t1 & N10-A019 & 0.9165302 & 2.688475 & NH4\\_Placebo \\\\\n",
       "\t2 & N11-A153 & 0.8911621 & 2.303332 & NH4\\_Pathogen\\\\\n",
       "\t3 & N115-247 & 0.9810130 & 4.232491 & NH4\\_Pathogen\\\\\n",
       "\t4 & N12-A008 & 0.8919527 & 2.338363 & NH4\\_Placebo \\\\\n",
       "\t5 & N13-A038 & 0.9083314 & 2.573971 & NH4\\_Pathogen\\\\\n",
       "\t6 & N14-A040 & 0.8875314 & 2.226630 & NH4\\_Pathogen\\\\\n",
       "\\end{tabular}\n"
      ],
      "text/markdown": [
       "\n",
       "A data.frame: 6 × 4\n",
       "\n",
       "| <!--/--> | sample_names &lt;chr&gt; | Simpson &lt;dbl&gt; | Shannon &lt;dbl&gt; | Combo &lt;chr&gt; |\n",
       "|---|---|---|---|---|\n",
       "| 1 | N10-A019 | 0.9165302 | 2.688475 | NH4_Placebo  |\n",
       "| 2 | N11-A153 | 0.8911621 | 2.303332 | NH4_Pathogen |\n",
       "| 3 | N115-247 | 0.9810130 | 4.232491 | NH4_Pathogen |\n",
       "| 4 | N12-A008 | 0.8919527 | 2.338363 | NH4_Placebo  |\n",
       "| 5 | N13-A038 | 0.9083314 | 2.573971 | NH4_Pathogen |\n",
       "| 6 | N14-A040 | 0.8875314 | 2.226630 | NH4_Pathogen |\n",
       "\n"
      ],
      "text/plain": [
       "  sample_names Simpson   Shannon  Combo       \n",
       "1 N10-A019     0.9165302 2.688475 NH4_Placebo \n",
       "2 N11-A153     0.8911621 2.303332 NH4_Pathogen\n",
       "3 N115-247     0.9810130 4.232491 NH4_Pathogen\n",
       "4 N12-A008     0.8919527 2.338363 NH4_Placebo \n",
       "5 N13-A038     0.9083314 2.573971 NH4_Pathogen\n",
       "6 N14-A040     0.8875314 2.226630 NH4_Pathogen"
      ]
     },
     "metadata": {},
     "output_type": "display_data"
    }
   ],
   "source": [
    "head(adiv)"
   ]
  },
  {
   "cell_type": "code",
   "execution_count": 85,
   "id": "394bbed5",
   "metadata": {},
   "outputs": [
    {
     "data": {
      "text/html": [
       "<table class=\"dataframe\">\n",
       "<caption>A data.frame: 6 × 51</caption>\n",
       "<thead>\n",
       "\t<tr><th></th><th scope=col>sample_names</th><th scope=col>featurecounts</th><th scope=col>Initial_sample_ID</th><th scope=col>Tag</th><th scope=col>Date_Collected</th><th scope=col>Date</th><th scope=col>TimePoint</th><th scope=col>Replicate</th><th scope=col>Genotype</th><th scope=col>Nursery</th><th scope=col>⋯</th><th scope=col>Golay_Barcode</th><th scope=col>X515FB_Forward_Primer</th><th scope=col>Primer_For_PCR</th><th scope=col>X</th><th scope=col>estimate</th><th scope=col>error</th><th scope=col>lower</th><th scope=col>upper</th><th scope=col>name</th><th scope=col>model</th></tr>\n",
       "\t<tr><th></th><th scope=col>&lt;chr&gt;</th><th scope=col>&lt;int&gt;</th><th scope=col>&lt;int&gt;</th><th scope=col>&lt;chr&gt;</th><th scope=col>&lt;chr&gt;</th><th scope=col>&lt;chr&gt;</th><th scope=col>&lt;int&gt;</th><th scope=col>&lt;chr&gt;</th><th scope=col>&lt;chr&gt;</th><th scope=col>&lt;chr&gt;</th><th scope=col>⋯</th><th scope=col>&lt;chr&gt;</th><th scope=col>&lt;chr&gt;</th><th scope=col>&lt;chr&gt;</th><th scope=col>&lt;lgl&gt;</th><th scope=col>&lt;dbl&gt;</th><th scope=col>&lt;dbl&gt;</th><th scope=col>&lt;dbl&gt;</th><th scope=col>&lt;dbl&gt;</th><th scope=col>&lt;chr&gt;</th><th scope=col>&lt;chr&gt;</th></tr>\n",
       "</thead>\n",
       "<tbody>\n",
       "\t<tr><th scope=row>N10-A019</th><td>N10-A019 </td><td>23078</td><td> 10</td><td>A019</td><td>25-Oct-20</td><td>25-Oct</td><td> 4</td><td>NA  </td><td>Cooper-9</td><td>UM </td><td>⋯</td><td>CTACAGGGTCTC</td><td>GTGYCAGCMGCCGCGGTAA</td><td>AATGATACGGCGACCACCGAGATCTACACGCTCTACAGGGTCTCTATGGTAATTGTGTGYCAGCMGCCGCGGTAA</td><td>NA</td><td>0.08049877</td><td>0.02574797</td><td>0.02900284</td><td>0.1319947</td><td>DivNet</td><td>Aitchison</td></tr>\n",
       "\t<tr><th scope=row>N102-A012</th><td>N102-A012</td><td>13157</td><td>102</td><td>A012</td><td>5-Nov-20 </td><td>5-Nov </td><td>14</td><td>r1_w</td><td>Kelsey-1</td><td>UM </td><td>⋯</td><td>AGCCTTCGTCGC</td><td>GTGYCAGCMGCCGCGGTAA</td><td>AATGATACGGCGACCACCGAGATCTACACGCTAGCCTTCGTCGCTATGGTAATTGTGTGYCAGCMGCCGCGGTAA</td><td>NA</td><td>0.08049877</td><td>0.02574797</td><td>0.02900284</td><td>0.1319947</td><td>DivNet</td><td>Aitchison</td></tr>\n",
       "\t<tr><th scope=row>N103-A028</th><td>N103-A028</td><td>38507</td><td>103</td><td>A028</td><td>5-Nov-20 </td><td>5-Nov </td><td>14</td><td>r1_w</td><td>Cooper-9</td><td>UM </td><td>⋯</td><td>AGCCTTCGTCGC</td><td>GTGYCAGCMGCCGCGGTAA</td><td>AATGATACGGCGACCACCGAGATCTACACGCTAGCCTTCGTCGCTATGGTAATTGTGTGYCAGCMGCCGCGGTAA</td><td>NA</td><td>0.08049877</td><td>0.02574797</td><td>0.02900284</td><td>0.1319947</td><td>DivNet</td><td>Aitchison</td></tr>\n",
       "\t<tr><th scope=row>N104-276</th><td>N104-276 </td><td>20691</td><td>104</td><td>276 </td><td>5-Nov-20 </td><td>5-Nov </td><td>14</td><td>r1_w</td><td>FM14    </td><td>FWC</td><td>⋯</td><td>AGCCTTCGTCGC</td><td>GTGYCAGCMGCCGCGGTAA</td><td>AATGATACGGCGACCACCGAGATCTACACGCTAGCCTTCGTCGCTATGGTAATTGTGTGYCAGCMGCCGCGGTAA</td><td>NA</td><td>0.08049877</td><td>0.02574797</td><td>0.02900284</td><td>0.1319947</td><td>DivNet</td><td>Aitchison</td></tr>\n",
       "\t<tr><th scope=row>N105-258</th><td>N105-258 </td><td>24540</td><td>105</td><td>258 </td><td>5-Nov-20 </td><td>5-Nov </td><td>14</td><td>r1_w</td><td>FM6     </td><td>FWC</td><td>⋯</td><td>AGCCTTCGTCGC</td><td>GTGYCAGCMGCCGCGGTAA</td><td>AATGATACGGCGACCACCGAGATCTACACGCTAGCCTTCGTCGCTATGGTAATTGTGTGYCAGCMGCCGCGGTAA</td><td>NA</td><td>0.08049877</td><td>0.02574797</td><td>0.02900284</td><td>0.1319947</td><td>DivNet</td><td>Aitchison</td></tr>\n",
       "\t<tr><th scope=row>N106-A051</th><td>N106-A051</td><td>28128</td><td>106</td><td>A051</td><td>5-Nov-20 </td><td>5-Nov </td><td>14</td><td>r1_w</td><td>Acerv2  </td><td>UM </td><td>⋯</td><td>AGCCTTCGTCGC</td><td>GTGYCAGCMGCCGCGGTAA</td><td>AATGATACGGCGACCACCGAGATCTACACGCTAGCCTTCGTCGCTATGGTAATTGTGTGYCAGCMGCCGCGGTAA</td><td>NA</td><td>0.08049877</td><td>0.02574797</td><td>0.02900284</td><td>0.1319947</td><td>DivNet</td><td>Aitchison</td></tr>\n",
       "</tbody>\n",
       "</table>\n"
      ],
      "text/latex": [
       "A data.frame: 6 × 51\n",
       "\\begin{tabular}{r|lllllllllllllllllllll}\n",
       "  & sample\\_names & featurecounts & Initial\\_sample\\_ID & Tag & Date\\_Collected & Date & TimePoint & Replicate & Genotype & Nursery & ⋯ & Golay\\_Barcode & X515FB\\_Forward\\_Primer & Primer\\_For\\_PCR & X & estimate & error & lower & upper & name & model\\\\\n",
       "  & <chr> & <int> & <int> & <chr> & <chr> & <chr> & <int> & <chr> & <chr> & <chr> & ⋯ & <chr> & <chr> & <chr> & <lgl> & <dbl> & <dbl> & <dbl> & <dbl> & <chr> & <chr>\\\\\n",
       "\\hline\n",
       "\tN10-A019 & N10-A019  & 23078 &  10 & A019 & 25-Oct-20 & 25-Oct &  4 & NA   & Cooper-9 & UM  & ⋯ & CTACAGGGTCTC & GTGYCAGCMGCCGCGGTAA & AATGATACGGCGACCACCGAGATCTACACGCTCTACAGGGTCTCTATGGTAATTGTGTGYCAGCMGCCGCGGTAA & NA & 0.08049877 & 0.02574797 & 0.02900284 & 0.1319947 & DivNet & Aitchison\\\\\n",
       "\tN102-A012 & N102-A012 & 13157 & 102 & A012 & 5-Nov-20  & 5-Nov  & 14 & r1\\_w & Kelsey-1 & UM  & ⋯ & AGCCTTCGTCGC & GTGYCAGCMGCCGCGGTAA & AATGATACGGCGACCACCGAGATCTACACGCTAGCCTTCGTCGCTATGGTAATTGTGTGYCAGCMGCCGCGGTAA & NA & 0.08049877 & 0.02574797 & 0.02900284 & 0.1319947 & DivNet & Aitchison\\\\\n",
       "\tN103-A028 & N103-A028 & 38507 & 103 & A028 & 5-Nov-20  & 5-Nov  & 14 & r1\\_w & Cooper-9 & UM  & ⋯ & AGCCTTCGTCGC & GTGYCAGCMGCCGCGGTAA & AATGATACGGCGACCACCGAGATCTACACGCTAGCCTTCGTCGCTATGGTAATTGTGTGYCAGCMGCCGCGGTAA & NA & 0.08049877 & 0.02574797 & 0.02900284 & 0.1319947 & DivNet & Aitchison\\\\\n",
       "\tN104-276 & N104-276  & 20691 & 104 & 276  & 5-Nov-20  & 5-Nov  & 14 & r1\\_w & FM14     & FWC & ⋯ & AGCCTTCGTCGC & GTGYCAGCMGCCGCGGTAA & AATGATACGGCGACCACCGAGATCTACACGCTAGCCTTCGTCGCTATGGTAATTGTGTGYCAGCMGCCGCGGTAA & NA & 0.08049877 & 0.02574797 & 0.02900284 & 0.1319947 & DivNet & Aitchison\\\\\n",
       "\tN105-258 & N105-258  & 24540 & 105 & 258  & 5-Nov-20  & 5-Nov  & 14 & r1\\_w & FM6      & FWC & ⋯ & AGCCTTCGTCGC & GTGYCAGCMGCCGCGGTAA & AATGATACGGCGACCACCGAGATCTACACGCTAGCCTTCGTCGCTATGGTAATTGTGTGYCAGCMGCCGCGGTAA & NA & 0.08049877 & 0.02574797 & 0.02900284 & 0.1319947 & DivNet & Aitchison\\\\\n",
       "\tN106-A051 & N106-A051 & 28128 & 106 & A051 & 5-Nov-20  & 5-Nov  & 14 & r1\\_w & Acerv2   & UM  & ⋯ & AGCCTTCGTCGC & GTGYCAGCMGCCGCGGTAA & AATGATACGGCGACCACCGAGATCTACACGCTAGCCTTCGTCGCTATGGTAATTGTGTGYCAGCMGCCGCGGTAA & NA & 0.08049877 & 0.02574797 & 0.02900284 & 0.1319947 & DivNet & Aitchison\\\\\n",
       "\\end{tabular}\n"
      ],
      "text/markdown": [
       "\n",
       "A data.frame: 6 × 51\n",
       "\n",
       "| <!--/--> | sample_names &lt;chr&gt; | featurecounts &lt;int&gt; | Initial_sample_ID &lt;int&gt; | Tag &lt;chr&gt; | Date_Collected &lt;chr&gt; | Date &lt;chr&gt; | TimePoint &lt;int&gt; | Replicate &lt;chr&gt; | Genotype &lt;chr&gt; | Nursery &lt;chr&gt; | ⋯ ⋯ | Golay_Barcode &lt;chr&gt; | X515FB_Forward_Primer &lt;chr&gt; | Primer_For_PCR &lt;chr&gt; | X &lt;lgl&gt; | estimate &lt;dbl&gt; | error &lt;dbl&gt; | lower &lt;dbl&gt; | upper &lt;dbl&gt; | name &lt;chr&gt; | model &lt;chr&gt; |\n",
       "|---|---|---|---|---|---|---|---|---|---|---|---|---|---|---|---|---|---|---|---|---|---|\n",
       "| N10-A019 | N10-A019  | 23078 |  10 | A019 | 25-Oct-20 | 25-Oct |  4 | NA   | Cooper-9 | UM  | ⋯ | CTACAGGGTCTC | GTGYCAGCMGCCGCGGTAA | AATGATACGGCGACCACCGAGATCTACACGCTCTACAGGGTCTCTATGGTAATTGTGTGYCAGCMGCCGCGGTAA | NA | 0.08049877 | 0.02574797 | 0.02900284 | 0.1319947 | DivNet | Aitchison |\n",
       "| N102-A012 | N102-A012 | 13157 | 102 | A012 | 5-Nov-20  | 5-Nov  | 14 | r1_w | Kelsey-1 | UM  | ⋯ | AGCCTTCGTCGC | GTGYCAGCMGCCGCGGTAA | AATGATACGGCGACCACCGAGATCTACACGCTAGCCTTCGTCGCTATGGTAATTGTGTGYCAGCMGCCGCGGTAA | NA | 0.08049877 | 0.02574797 | 0.02900284 | 0.1319947 | DivNet | Aitchison |\n",
       "| N103-A028 | N103-A028 | 38507 | 103 | A028 | 5-Nov-20  | 5-Nov  | 14 | r1_w | Cooper-9 | UM  | ⋯ | AGCCTTCGTCGC | GTGYCAGCMGCCGCGGTAA | AATGATACGGCGACCACCGAGATCTACACGCTAGCCTTCGTCGCTATGGTAATTGTGTGYCAGCMGCCGCGGTAA | NA | 0.08049877 | 0.02574797 | 0.02900284 | 0.1319947 | DivNet | Aitchison |\n",
       "| N104-276 | N104-276  | 20691 | 104 | 276  | 5-Nov-20  | 5-Nov  | 14 | r1_w | FM14     | FWC | ⋯ | AGCCTTCGTCGC | GTGYCAGCMGCCGCGGTAA | AATGATACGGCGACCACCGAGATCTACACGCTAGCCTTCGTCGCTATGGTAATTGTGTGYCAGCMGCCGCGGTAA | NA | 0.08049877 | 0.02574797 | 0.02900284 | 0.1319947 | DivNet | Aitchison |\n",
       "| N105-258 | N105-258  | 24540 | 105 | 258  | 5-Nov-20  | 5-Nov  | 14 | r1_w | FM6      | FWC | ⋯ | AGCCTTCGTCGC | GTGYCAGCMGCCGCGGTAA | AATGATACGGCGACCACCGAGATCTACACGCTAGCCTTCGTCGCTATGGTAATTGTGTGYCAGCMGCCGCGGTAA | NA | 0.08049877 | 0.02574797 | 0.02900284 | 0.1319947 | DivNet | Aitchison |\n",
       "| N106-A051 | N106-A051 | 28128 | 106 | A051 | 5-Nov-20  | 5-Nov  | 14 | r1_w | Acerv2   | UM  | ⋯ | AGCCTTCGTCGC | GTGYCAGCMGCCGCGGTAA | AATGATACGGCGACCACCGAGATCTACACGCTAGCCTTCGTCGCTATGGTAATTGTGTGYCAGCMGCCGCGGTAA | NA | 0.08049877 | 0.02574797 | 0.02900284 | 0.1319947 | DivNet | Aitchison |\n",
       "\n"
      ],
      "text/plain": [
       "          sample_names featurecounts Initial_sample_ID Tag  Date_Collected\n",
       "N10-A019  N10-A019     23078          10               A019 25-Oct-20     \n",
       "N102-A012 N102-A012    13157         102               A012 5-Nov-20      \n",
       "N103-A028 N103-A028    38507         103               A028 5-Nov-20      \n",
       "N104-276  N104-276     20691         104               276  5-Nov-20      \n",
       "N105-258  N105-258     24540         105               258  5-Nov-20      \n",
       "N106-A051 N106-A051    28128         106               A051 5-Nov-20      \n",
       "          Date   TimePoint Replicate Genotype Nursery ⋯ Golay_Barcode\n",
       "N10-A019  25-Oct  4        NA        Cooper-9 UM      ⋯ CTACAGGGTCTC \n",
       "N102-A012 5-Nov  14        r1_w      Kelsey-1 UM      ⋯ AGCCTTCGTCGC \n",
       "N103-A028 5-Nov  14        r1_w      Cooper-9 UM      ⋯ AGCCTTCGTCGC \n",
       "N104-276  5-Nov  14        r1_w      FM14     FWC     ⋯ AGCCTTCGTCGC \n",
       "N105-258  5-Nov  14        r1_w      FM6      FWC     ⋯ AGCCTTCGTCGC \n",
       "N106-A051 5-Nov  14        r1_w      Acerv2   UM      ⋯ AGCCTTCGTCGC \n",
       "          X515FB_Forward_Primer\n",
       "N10-A019  GTGYCAGCMGCCGCGGTAA  \n",
       "N102-A012 GTGYCAGCMGCCGCGGTAA  \n",
       "N103-A028 GTGYCAGCMGCCGCGGTAA  \n",
       "N104-276  GTGYCAGCMGCCGCGGTAA  \n",
       "N105-258  GTGYCAGCMGCCGCGGTAA  \n",
       "N106-A051 GTGYCAGCMGCCGCGGTAA  \n",
       "          Primer_For_PCR                                                             \n",
       "N10-A019  AATGATACGGCGACCACCGAGATCTACACGCTCTACAGGGTCTCTATGGTAATTGTGTGYCAGCMGCCGCGGTAA\n",
       "N102-A012 AATGATACGGCGACCACCGAGATCTACACGCTAGCCTTCGTCGCTATGGTAATTGTGTGYCAGCMGCCGCGGTAA\n",
       "N103-A028 AATGATACGGCGACCACCGAGATCTACACGCTAGCCTTCGTCGCTATGGTAATTGTGTGYCAGCMGCCGCGGTAA\n",
       "N104-276  AATGATACGGCGACCACCGAGATCTACACGCTAGCCTTCGTCGCTATGGTAATTGTGTGYCAGCMGCCGCGGTAA\n",
       "N105-258  AATGATACGGCGACCACCGAGATCTACACGCTAGCCTTCGTCGCTATGGTAATTGTGTGYCAGCMGCCGCGGTAA\n",
       "N106-A051 AATGATACGGCGACCACCGAGATCTACACGCTAGCCTTCGTCGCTATGGTAATTGTGTGYCAGCMGCCGCGGTAA\n",
       "          X  estimate   error      lower      upper     name   model    \n",
       "N10-A019  NA 0.08049877 0.02574797 0.02900284 0.1319947 DivNet Aitchison\n",
       "N102-A012 NA 0.08049877 0.02574797 0.02900284 0.1319947 DivNet Aitchison\n",
       "N103-A028 NA 0.08049877 0.02574797 0.02900284 0.1319947 DivNet Aitchison\n",
       "N104-276  NA 0.08049877 0.02574797 0.02900284 0.1319947 DivNet Aitchison\n",
       "N105-258  NA 0.08049877 0.02574797 0.02900284 0.1319947 DivNet Aitchison\n",
       "N106-A051 NA 0.08049877 0.02574797 0.02900284 0.1319947 DivNet Aitchison"
      ]
     },
     "metadata": {},
     "output_type": "display_data"
    }
   ],
   "source": [
    "head(meta)"
   ]
  },
  {
   "cell_type": "code",
   "execution_count": 89,
   "id": "b999bcd6",
   "metadata": {},
   "outputs": [
    {
     "data": {
      "text/html": [
       "<table class=\"dataframe\">\n",
       "<caption>A data.frame: 284 × 54</caption>\n",
       "<thead>\n",
       "\t<tr><th scope=col>sample_names</th><th scope=col>featurecounts</th><th scope=col>Initial_sample_ID</th><th scope=col>Tag</th><th scope=col>Date_Collected</th><th scope=col>Date</th><th scope=col>TimePoint</th><th scope=col>Replicate</th><th scope=col>Genotype</th><th scope=col>Nursery</th><th scope=col>⋯</th><th scope=col>X</th><th scope=col>estimate</th><th scope=col>error</th><th scope=col>lower</th><th scope=col>upper</th><th scope=col>name</th><th scope=col>model</th><th scope=col>Simpson</th><th scope=col>Shannon</th><th scope=col>Combo.y</th></tr>\n",
       "\t<tr><th scope=col>&lt;chr&gt;</th><th scope=col>&lt;int&gt;</th><th scope=col>&lt;int&gt;</th><th scope=col>&lt;chr&gt;</th><th scope=col>&lt;chr&gt;</th><th scope=col>&lt;chr&gt;</th><th scope=col>&lt;int&gt;</th><th scope=col>&lt;chr&gt;</th><th scope=col>&lt;chr&gt;</th><th scope=col>&lt;chr&gt;</th><th scope=col>⋯</th><th scope=col>&lt;lgl&gt;</th><th scope=col>&lt;dbl&gt;</th><th scope=col>&lt;dbl&gt;</th><th scope=col>&lt;dbl&gt;</th><th scope=col>&lt;dbl&gt;</th><th scope=col>&lt;chr&gt;</th><th scope=col>&lt;chr&gt;</th><th scope=col>&lt;dbl&gt;</th><th scope=col>&lt;dbl&gt;</th><th scope=col>&lt;chr&gt;</th></tr>\n",
       "</thead>\n",
       "<tbody>\n",
       "\t<tr><td>N10-A019 </td><td>23078</td><td> 10</td><td>A019</td><td>25-Oct-20</td><td>25-Oct</td><td> 4</td><td>NA  </td><td>Cooper-9</td><td>UM </td><td>⋯</td><td>NA</td><td>0.08049877</td><td>0.02574797</td><td>0.02900284</td><td>0.1319947</td><td>DivNet</td><td>Aitchison</td><td>0.9165302</td><td>2.688475</td><td>NH4_Placebo    </td></tr>\n",
       "\t<tr><td>N102-A012</td><td>13157</td><td>102</td><td>A012</td><td>5-Nov-20 </td><td>5-Nov </td><td>14</td><td>r1_w</td><td>Kelsey-1</td><td>UM </td><td>⋯</td><td>NA</td><td>0.08049877</td><td>0.02574797</td><td>0.02900284</td><td>0.1319947</td><td>DivNet</td><td>Aitchison</td><td>0.8581586</td><td>2.012614</td><td>Ambient_Placebo</td></tr>\n",
       "\t<tr><td>N103-A028</td><td>38507</td><td>103</td><td>A028</td><td>5-Nov-20 </td><td>5-Nov </td><td>14</td><td>r1_w</td><td>Cooper-9</td><td>UM </td><td>⋯</td><td>NA</td><td>0.08049877</td><td>0.02574797</td><td>0.02900284</td><td>0.1319947</td><td>DivNet</td><td>Aitchison</td><td>0.8661112</td><td>2.138554</td><td>Ambient_Placebo</td></tr>\n",
       "\t<tr><td>N104-276 </td><td>20691</td><td>104</td><td>276 </td><td>5-Nov-20 </td><td>5-Nov </td><td>14</td><td>r1_w</td><td>FM14    </td><td>FWC</td><td>⋯</td><td>NA</td><td>0.08049877</td><td>0.02574797</td><td>0.02900284</td><td>0.1319947</td><td>DivNet</td><td>Aitchison</td><td>0.8564308</td><td>2.007093</td><td>Ambient_Placebo</td></tr>\n",
       "\t<tr><td>N105-258 </td><td>24540</td><td>105</td><td>258 </td><td>5-Nov-20 </td><td>5-Nov </td><td>14</td><td>r1_w</td><td>FM6     </td><td>FWC</td><td>⋯</td><td>NA</td><td>0.08049877</td><td>0.02574797</td><td>0.02900284</td><td>0.1319947</td><td>DivNet</td><td>Aitchison</td><td>0.8528757</td><td>1.994060</td><td>NH4_Placebo    </td></tr>\n",
       "\t<tr><td>N106-A051</td><td>28128</td><td>106</td><td>A051</td><td>5-Nov-20 </td><td>5-Nov </td><td>14</td><td>r1_w</td><td>Acerv2  </td><td>UM </td><td>⋯</td><td>NA</td><td>0.08049877</td><td>0.02574797</td><td>0.02900284</td><td>0.1319947</td><td>DivNet</td><td>Aitchison</td><td>0.8614911</td><td>2.069874</td><td>NH4_Placebo    </td></tr>\n",
       "\t<tr><td>N107-162 </td><td>56431</td><td>107</td><td>162 </td><td>5-Nov-20 </td><td>5-Nov </td><td>14</td><td>NA  </td><td>K2      </td><td>CRF</td><td>⋯</td><td>NA</td><td>0.08049877</td><td>0.02574797</td><td>0.02900284</td><td>0.1319947</td><td>DivNet</td><td>Aitchison</td><td>0.8641231</td><td>2.106718</td><td>NH4_Placebo    </td></tr>\n",
       "\t<tr><td>N108-A188</td><td>44424</td><td>108</td><td>A188</td><td>5-Nov-20 </td><td>5-Nov </td><td>14</td><td>NA  </td><td>FM19    </td><td>FWC</td><td>⋯</td><td>NA</td><td>0.08049877</td><td>0.02574797</td><td>0.02900284</td><td>0.1319947</td><td>DivNet</td><td>Aitchison</td><td>0.8670722</td><td>2.182338</td><td>NH4_Placebo    </td></tr>\n",
       "\t<tr><td>N109-A101</td><td>35834</td><td>109</td><td>A101</td><td>5-Nov-20 </td><td>5-Nov </td><td>14</td><td>NA  </td><td>Kelsey-1</td><td>UM </td><td>⋯</td><td>NA</td><td>0.08049877</td><td>0.02574797</td><td>0.02900284</td><td>0.1319947</td><td>DivNet</td><td>Aitchison</td><td>0.8772497</td><td>2.305193</td><td>NH4_Placebo    </td></tr>\n",
       "\t<tr><td>N110-A045</td><td>39551</td><td>110</td><td>A045</td><td>5-Nov-20 </td><td>5-Nov </td><td>14</td><td>NA  </td><td>Acerv2  </td><td>UM </td><td>⋯</td><td>NA</td><td>0.08049877</td><td>0.02574797</td><td>0.02900284</td><td>0.1319947</td><td>DivNet</td><td>Aitchison</td><td>0.8710343</td><td>2.209817</td><td>NH4_Placebo    </td></tr>\n",
       "\t<tr><td>N111-A010</td><td>34346</td><td>111</td><td>A010</td><td>5-Nov-20 </td><td>5-Nov </td><td>14</td><td>NA  </td><td>Kelsey-1</td><td>UM </td><td>⋯</td><td>NA</td><td>0.08049877</td><td>0.02574797</td><td>0.02900284</td><td>0.1319947</td><td>DivNet</td><td>Aitchison</td><td>0.8738840</td><td>2.262411</td><td>NH4_Placebo    </td></tr>\n",
       "\t<tr><td>N12-A008 </td><td>48424</td><td> 12</td><td>A008</td><td>26-Oct-20</td><td>26-Oct</td><td> 5</td><td>NA  </td><td>Kelsey-1</td><td>UM </td><td>⋯</td><td>NA</td><td>0.08049877</td><td>0.02574797</td><td>0.02900284</td><td>0.1319947</td><td>DivNet</td><td>Aitchison</td><td>0.8919527</td><td>2.338363</td><td>NH4_Placebo    </td></tr>\n",
       "\t<tr><td>N121-A160</td><td>29131</td><td>121</td><td>A160</td><td>5-Nov-20 </td><td>5-Nov </td><td>14</td><td>r1_w</td><td>K2      </td><td>CRF</td><td>⋯</td><td>NA</td><td>0.08049877</td><td>0.02574797</td><td>0.02900284</td><td>0.1319947</td><td>DivNet</td><td>Aitchison</td><td>0.8608994</td><td>2.027796</td><td>Ambient_Placebo</td></tr>\n",
       "\t<tr><td>N123-268 </td><td>26094</td><td>123</td><td>268 </td><td>6-Nov-20 </td><td>6-Nov </td><td>15</td><td>NA  </td><td>FM14    </td><td>FWC</td><td>⋯</td><td>NA</td><td>0.08049877</td><td>0.02574797</td><td>0.02900284</td><td>0.1319947</td><td>DivNet</td><td>Aitchison</td><td>0.8626888</td><td>2.108032</td><td>Ambient_Placebo</td></tr>\n",
       "\t<tr><td>N124-218 </td><td>21315</td><td>124</td><td>218 </td><td>6-Nov-20 </td><td>6-Nov </td><td>15</td><td>NA  </td><td>FM9     </td><td>FWC</td><td>⋯</td><td>NA</td><td>0.08049877</td><td>0.02574797</td><td>0.02900284</td><td>0.1319947</td><td>DivNet</td><td>Aitchison</td><td>0.8734675</td><td>2.213540</td><td>Ambient_Placebo</td></tr>\n",
       "\t<tr><td>N125-A033</td><td>22031</td><td>125</td><td>A033</td><td>6-Nov-20 </td><td>6-Nov </td><td>15</td><td>r1_w</td><td>Cooper-9</td><td>UM </td><td>⋯</td><td>NA</td><td>0.08049877</td><td>0.02574797</td><td>0.02900284</td><td>0.1319947</td><td>DivNet</td><td>Aitchison</td><td>0.8794083</td><td>2.240352</td><td>Ambient_Placebo</td></tr>\n",
       "\t<tr><td>N126-A154</td><td>32407</td><td>126</td><td>A154</td><td>6-Nov-20 </td><td>6-Nov </td><td>15</td><td>r1_w</td><td>K2      </td><td>CRF</td><td>⋯</td><td>NA</td><td>0.08049877</td><td>0.02574797</td><td>0.02900284</td><td>0.1319947</td><td>DivNet</td><td>Aitchison</td><td>0.8591953</td><td>2.034485</td><td>Ambient_Placebo</td></tr>\n",
       "\t<tr><td>N127-A047</td><td>24293</td><td>127</td><td>A047</td><td>6-Nov-20 </td><td>6-Nov </td><td>15</td><td>r1_w</td><td>Acerv2  </td><td>UM </td><td>⋯</td><td>NA</td><td>0.08049877</td><td>0.02574797</td><td>0.02900284</td><td>0.1319947</td><td>DivNet</td><td>Aitchison</td><td>0.8769562</td><td>2.257091</td><td>Ambient_Placebo</td></tr>\n",
       "\t<tr><td>N128-A052</td><td>27263</td><td>128</td><td>A052</td><td>6-Nov-20 </td><td>6-Nov </td><td>15</td><td>r2_w</td><td>Acerv2  </td><td>UM </td><td>⋯</td><td>NA</td><td>0.08049877</td><td>0.02574797</td><td>0.02900284</td><td>0.1319947</td><td>DivNet</td><td>Aitchison</td><td>0.8604781</td><td>2.046631</td><td>NH4_Placebo    </td></tr>\n",
       "\t<tr><td>N129-165 </td><td>27829</td><td>129</td><td>165 </td><td>6-Nov-20 </td><td>6-Nov </td><td>15</td><td>NA  </td><td>K2      </td><td>CRF</td><td>⋯</td><td>NA</td><td>0.08049877</td><td>0.02574797</td><td>0.02900284</td><td>0.1319947</td><td>DivNet</td><td>Aitchison</td><td>0.8546840</td><td>1.970259</td><td>NH4_Placebo    </td></tr>\n",
       "\t<tr><td>N135-A190</td><td>29717</td><td>135</td><td>A190</td><td>6-Nov-20 </td><td>6-Nov </td><td>15</td><td>NA  </td><td>FM19    </td><td>FWC</td><td>⋯</td><td>NA</td><td>0.08049877</td><td>0.02574797</td><td>0.02900284</td><td>0.1319947</td><td>DivNet</td><td>Aitchison</td><td>0.8628781</td><td>2.118849</td><td>NH4_Placebo    </td></tr>\n",
       "\t<tr><td>N139-A014</td><td>22795</td><td>139</td><td>A014</td><td>6-Nov-20 </td><td>6-Nov </td><td>15</td><td>NA  </td><td>Kelsey-1</td><td>UM </td><td>⋯</td><td>NA</td><td>0.08049877</td><td>0.02574797</td><td>0.02900284</td><td>0.1319947</td><td>DivNet</td><td>Aitchison</td><td>0.8597018</td><td>2.015341</td><td>NH4_Placebo    </td></tr>\n",
       "\t<tr><td>N140-A086</td><td>37881</td><td>140</td><td>A086</td><td>6-Nov-20 </td><td>6-Nov </td><td>15</td><td>NA  </td><td>Elkhorn </td><td>UM </td><td>⋯</td><td>NA</td><td>0.08049877</td><td>0.02574797</td><td>0.02900284</td><td>0.1319947</td><td>DivNet</td><td>Aitchison</td><td>0.9651030</td><td>4.183327</td><td>Ambient_Placebo</td></tr>\n",
       "\t<tr><td>N141-A103</td><td>23261</td><td>141</td><td>A103</td><td>6-Nov-20 </td><td>6-Nov </td><td>15</td><td>NA  </td><td>Kelsey-1</td><td>UM </td><td>⋯</td><td>NA</td><td>0.08049877</td><td>0.02574797</td><td>0.02900284</td><td>0.1319947</td><td>DivNet</td><td>Aitchison</td><td>0.8522556</td><td>1.970599</td><td>Ambient_Placebo</td></tr>\n",
       "\t<tr><td>N142-204 </td><td>37861</td><td>142</td><td>204 </td><td>6-Nov-20 </td><td>6-Nov </td><td>15</td><td>NA  </td><td>FM9     </td><td>FWC</td><td>⋯</td><td>NA</td><td>0.08049877</td><td>0.02574797</td><td>0.02900284</td><td>0.1319947</td><td>DivNet</td><td>Aitchison</td><td>0.8689136</td><td>2.198239</td><td>NH4_Placebo    </td></tr>\n",
       "\t<tr><td>N143-A105</td><td>51669</td><td>143</td><td>A105</td><td>6-Nov-20 </td><td>6-Nov </td><td>15</td><td>r1_w</td><td>U44     </td><td>CRF</td><td>⋯</td><td>NA</td><td>0.08049877</td><td>0.02574797</td><td>0.02900284</td><td>0.1319947</td><td>DivNet</td><td>Aitchison</td><td>0.9819361</td><td>4.521814</td><td>NH4_Placebo    </td></tr>\n",
       "\t<tr><td>N144-A131</td><td>46015</td><td>144</td><td>A131</td><td>6-Nov-20 </td><td>6-Nov </td><td>15</td><td>NA  </td><td>U44     </td><td>CRF</td><td>⋯</td><td>NA</td><td>0.08049877</td><td>0.02574797</td><td>0.02900284</td><td>0.1319947</td><td>DivNet</td><td>Aitchison</td><td>0.9661917</td><td>3.763989</td><td>NH4_Placebo    </td></tr>\n",
       "\t<tr><td>N145-A072</td><td>32993</td><td>145</td><td>A072</td><td>6-Nov-20 </td><td>6-Nov </td><td>15</td><td>NA  </td><td>Elkhorn </td><td>UM </td><td>⋯</td><td>NA</td><td>0.08049877</td><td>0.02574797</td><td>0.02900284</td><td>0.1319947</td><td>DivNet</td><td>Aitchison</td><td>0.8543432</td><td>1.971120</td><td>NH4_Placebo    </td></tr>\n",
       "\t<tr><td>N146-A106</td><td>65919</td><td>146</td><td>A106</td><td>6-Nov-20 </td><td>6-Nov </td><td>15</td><td>r1_w</td><td>U44     </td><td>CRF</td><td>⋯</td><td>NA</td><td>0.08049877</td><td>0.02574797</td><td>0.02900284</td><td>0.1319947</td><td>DivNet</td><td>Aitchison</td><td>0.9883598</td><td>4.720199</td><td>NH4_Placebo    </td></tr>\n",
       "\t<tr><td>N147-269 </td><td>31930</td><td>147</td><td>269 </td><td>6-Nov-20 </td><td>6-Nov </td><td>15</td><td>r1_w</td><td>FM14    </td><td>FWC</td><td>⋯</td><td>NA</td><td>0.08049877</td><td>0.02574797</td><td>0.02900284</td><td>0.1319947</td><td>DivNet</td><td>Aitchison</td><td>0.8592710</td><td>2.043522</td><td>NH4_Placebo    </td></tr>\n",
       "\t<tr><td>⋮</td><td>⋮</td><td>⋮</td><td>⋮</td><td>⋮</td><td>⋮</td><td>⋮</td><td>⋮</td><td>⋮</td><td>⋮</td><td>⋱</td><td>⋮</td><td>⋮</td><td>⋮</td><td>⋮</td><td>⋮</td><td>⋮</td><td>⋮</td><td>⋮</td><td>⋮</td><td>⋮</td></tr>\n",
       "\t<tr><td>N58-A014      </td><td>13454</td><td>58</td><td>A014      </td><td>30-Oct-20</td><td>30-Oct</td><td> 8</td><td>NA</td><td>Kelsey-1</td><td>UM </td><td>⋯</td><td>NA</td><td>0</td><td>0</td><td>0</td><td>0</td><td>NA</td><td>NA</td><td>NA</td><td>NA</td><td>NA</td></tr>\n",
       "\t<tr><td>N59-A018      </td><td>29767</td><td>59</td><td>A018      </td><td>30-Oct-20</td><td>30-Oct</td><td> 8</td><td>NA</td><td>Cooper-9</td><td>UM </td><td>⋯</td><td>NA</td><td>0</td><td>0</td><td>0</td><td>0</td><td>NA</td><td>NA</td><td>NA</td><td>NA</td><td>NA</td></tr>\n",
       "\t<tr><td>N60-A056      </td><td>75497</td><td>60</td><td>A056      </td><td>30-Oct-20</td><td>30-Oct</td><td> 8</td><td>NA</td><td>Acerv2  </td><td>UM </td><td>⋯</td><td>NA</td><td>0</td><td>0</td><td>0</td><td>0</td><td>NA</td><td>NA</td><td>NA</td><td>NA</td><td>NA</td></tr>\n",
       "\t<tr><td>N61-A077      </td><td>17626</td><td>61</td><td>A077      </td><td>30-Oct-20</td><td>30-Oct</td><td> 8</td><td>NA</td><td>Elkhorn </td><td>UM </td><td>⋯</td><td>NA</td><td>0</td><td>0</td><td>0</td><td>0</td><td>NA</td><td>NA</td><td>NA</td><td>NA</td><td>NA</td></tr>\n",
       "\t<tr><td>N62-A127      </td><td>59333</td><td>62</td><td>A127      </td><td>30-Oct-20</td><td>30-Oct</td><td> 8</td><td>NA</td><td>U44     </td><td>CRF</td><td>⋯</td><td>NA</td><td>0</td><td>0</td><td>0</td><td>0</td><td>NA</td><td>NA</td><td>NA</td><td>NA</td><td>NA</td></tr>\n",
       "\t<tr><td>N63-A159      </td><td>31755</td><td>63</td><td>A159      </td><td>30-Oct-20</td><td>30-Oct</td><td> 8</td><td>NA</td><td>K2      </td><td>CRF</td><td>⋯</td><td>NA</td><td>0</td><td>0</td><td>0</td><td>0</td><td>NA</td><td>NA</td><td>NA</td><td>NA</td><td>NA</td></tr>\n",
       "\t<tr><td>N64-A192      </td><td>20283</td><td>64</td><td>A192      </td><td>30-Oct-20</td><td>30-Oct</td><td> 8</td><td>NA</td><td>FM19    </td><td>FWC</td><td>⋯</td><td>NA</td><td>0</td><td>0</td><td>0</td><td>0</td><td>NA</td><td>NA</td><td>NA</td><td>NA</td><td>NA</td></tr>\n",
       "\t<tr><td>N65-220       </td><td>22440</td><td>65</td><td>220       </td><td>30-Oct-20</td><td>30-Oct</td><td> 8</td><td>NA</td><td>FM9     </td><td>FWC</td><td>⋯</td><td>NA</td><td>0</td><td>0</td><td>0</td><td>0</td><td>NA</td><td>NA</td><td>NA</td><td>NA</td><td>NA</td></tr>\n",
       "\t<tr><td>N66-254       </td><td> 9559</td><td>66</td><td>254       </td><td>30-Oct-20</td><td>30-Oct</td><td> 8</td><td>NA</td><td>FM6     </td><td>FWC</td><td>⋯</td><td>NA</td><td>0</td><td>0</td><td>0</td><td>0</td><td>NA</td><td>NA</td><td>NA</td><td>NA</td><td>NA</td></tr>\n",
       "\t<tr><td>N67-262       </td><td>26391</td><td>67</td><td>262       </td><td>30-Oct-20</td><td>30-Oct</td><td> 8</td><td>NA</td><td>FM14    </td><td>FWC</td><td>⋯</td><td>NA</td><td>0</td><td>0</td><td>0</td><td>0</td><td>NA</td><td>NA</td><td>NA</td><td>NA</td><td>NA</td></tr>\n",
       "\t<tr><td>N68-A010      </td><td>27246</td><td>68</td><td>A010      </td><td>30-Oct-20</td><td>30-Oct</td><td> 8</td><td>NA</td><td>Kelsey-1</td><td>UM </td><td>⋯</td><td>NA</td><td>0</td><td>0</td><td>0</td><td>0</td><td>NA</td><td>NA</td><td>NA</td><td>NA</td><td>NA</td></tr>\n",
       "\t<tr><td>N69-A034      </td><td>22408</td><td>69</td><td>A034      </td><td>30-Oct-20</td><td>30-Oct</td><td> 8</td><td>NA</td><td>Cooper-9</td><td>UM </td><td>⋯</td><td>NA</td><td>0</td><td>0</td><td>0</td><td>0</td><td>NA</td><td>NA</td><td>NA</td><td>NA</td><td>NA</td></tr>\n",
       "\t<tr><td>N7-A114       </td><td>18525</td><td> 7</td><td>A114      </td><td>21-Oct-20</td><td>21-Oct</td><td> 2</td><td>NA</td><td>U41     </td><td>CRF</td><td>⋯</td><td>NA</td><td>0</td><td>0</td><td>0</td><td>0</td><td>NA</td><td>NA</td><td>NA</td><td>NA</td><td>NA</td></tr>\n",
       "\t<tr><td>N70-A052      </td><td>24607</td><td>70</td><td>A052      </td><td>30-Oct-20</td><td>30-Oct</td><td> 8</td><td>NA</td><td>Acerv2  </td><td>UM </td><td>⋯</td><td>NA</td><td>0</td><td>0</td><td>0</td><td>0</td><td>NA</td><td>NA</td><td>NA</td><td>NA</td><td>NA</td></tr>\n",
       "\t<tr><td>N71-A068      </td><td>34875</td><td>71</td><td>A068      </td><td>30-Oct-20</td><td>30-Oct</td><td> 8</td><td>NA</td><td>Elkhorn </td><td>UM </td><td>⋯</td><td>NA</td><td>0</td><td>0</td><td>0</td><td>0</td><td>NA</td><td>NA</td><td>NA</td><td>NA</td><td>NA</td></tr>\n",
       "\t<tr><td>N72-A071      </td><td>47386</td><td>72</td><td>A071      </td><td>30-Oct-20</td><td>30-Oct</td><td> 8</td><td>NA</td><td>U44     </td><td>CRF</td><td>⋯</td><td>NA</td><td>0</td><td>0</td><td>0</td><td>0</td><td>NA</td><td>NA</td><td>NA</td><td>NA</td><td>NA</td></tr>\n",
       "\t<tr><td>N73-A155      </td><td>40260</td><td>73</td><td>A155      </td><td>30-Oct-20</td><td>30-Oct</td><td> 8</td><td>NA</td><td>K2      </td><td>CRF</td><td>⋯</td><td>NA</td><td>0</td><td>0</td><td>0</td><td>0</td><td>NA</td><td>NA</td><td>NA</td><td>NA</td><td>NA</td></tr>\n",
       "\t<tr><td>N74-A198      </td><td>28410</td><td>74</td><td>A198      </td><td>30-Oct-20</td><td>30-Oct</td><td> 8</td><td>NA</td><td>FM19    </td><td>FWC</td><td>⋯</td><td>NA</td><td>0</td><td>0</td><td>0</td><td>0</td><td>NA</td><td>NA</td><td>NA</td><td>NA</td><td>NA</td></tr>\n",
       "\t<tr><td>N75-211       </td><td>30336</td><td>75</td><td>211       </td><td>30-Oct-20</td><td>30-Oct</td><td> 8</td><td>NA</td><td>FM9     </td><td>FWC</td><td>⋯</td><td>NA</td><td>0</td><td>0</td><td>0</td><td>0</td><td>NA</td><td>NA</td><td>NA</td><td>NA</td><td>NA</td></tr>\n",
       "\t<tr><td>N76-266       </td><td>26780</td><td>76</td><td>266       </td><td>30-Oct-20</td><td>30-Oct</td><td> 8</td><td>NA</td><td>FM6     </td><td>FWC</td><td>⋯</td><td>NA</td><td>0</td><td>0</td><td>0</td><td>0</td><td>NA</td><td>NA</td><td>NA</td><td>NA</td><td>NA</td></tr>\n",
       "\t<tr><td>N77-282       </td><td>33935</td><td>77</td><td>282       </td><td>30-Oct-20</td><td>30-Oct</td><td> 8</td><td>NA</td><td>FM14    </td><td>FWC</td><td>⋯</td><td>NA</td><td>0</td><td>0</td><td>0</td><td>0</td><td>NA</td><td>NA</td><td>NA</td><td>NA</td><td>NA</td></tr>\n",
       "\t<tr><td>N87-Hom-Dis   </td><td>17882</td><td>87</td><td>Hom_Hea   </td><td>31-Oct-20</td><td>31-Oct</td><td> 9</td><td>NA</td><td>NA      </td><td>NA </td><td>⋯</td><td>NA</td><td>0</td><td>0</td><td>0</td><td>0</td><td>NA</td><td>NA</td><td>NA</td><td>NA</td><td>NA</td></tr>\n",
       "\t<tr><td>N87-Hom-Dis-R2</td><td>75651</td><td>87</td><td>Hom_Hea   </td><td>31-Oct-20</td><td>31-Oct</td><td> 9</td><td>NA</td><td>NA      </td><td>NA </td><td>⋯</td><td>NA</td><td>0</td><td>0</td><td>0</td><td>0</td><td>NA</td><td>NA</td><td>NA</td><td>NA</td><td>NA</td></tr>\n",
       "\t<tr><td>N88-Hom-Hea   </td><td>21207</td><td>88</td><td>Hom_Dis_R1</td><td>31-Oct-20</td><td>31-Oct</td><td> 9</td><td>NA</td><td>NA      </td><td>NA </td><td>⋯</td><td>NA</td><td>0</td><td>0</td><td>0</td><td>0</td><td>NA</td><td>NA</td><td>NA</td><td>NA</td><td>NA</td></tr>\n",
       "\t<tr><td>N88-Hom-Hea-R2</td><td>35515</td><td>88</td><td>Hom_Dis_R2</td><td>31-Oct-20</td><td>31-Oct</td><td> 9</td><td>NA</td><td>NA      </td><td>NA </td><td>⋯</td><td>NA</td><td>0</td><td>0</td><td>0</td><td>0</td><td>NA</td><td>NA</td><td>NA</td><td>NA</td><td>NA</td></tr>\n",
       "\t<tr><td>NEC           </td><td>32359</td><td>NA</td><td>NA        </td><td>NA       </td><td>NA    </td><td>NA</td><td>NA</td><td>NTC     </td><td>NA </td><td>⋯</td><td>NA</td><td>0</td><td>0</td><td>0</td><td>0</td><td>NA</td><td>NA</td><td>NA</td><td>NA</td><td>NA</td></tr>\n",
       "\t<tr><td>NTC-1         </td><td> 2054</td><td>NA</td><td>NA        </td><td>NA       </td><td>NA    </td><td>NA</td><td>NA</td><td>NTC     </td><td>NA </td><td>⋯</td><td>NA</td><td>0</td><td>0</td><td>0</td><td>0</td><td>NA</td><td>NA</td><td>NA</td><td>NA</td><td>NA</td></tr>\n",
       "\t<tr><td>NTC-2         </td><td> 2892</td><td>NA</td><td>NA        </td><td>NA       </td><td>NA    </td><td>NA</td><td>NA</td><td>NTC     </td><td>NA </td><td>⋯</td><td>NA</td><td>0</td><td>0</td><td>0</td><td>0</td><td>NA</td><td>NA</td><td>NA</td><td>NA</td><td>NA</td></tr>\n",
       "\t<tr><td>NTC-PCR1      </td><td>22555</td><td>NA</td><td>NA        </td><td>NA       </td><td>NA    </td><td>NA</td><td>NA</td><td>NTC     </td><td>NA </td><td>⋯</td><td>NA</td><td>0</td><td>0</td><td>0</td><td>0</td><td>NA</td><td>NA</td><td>NA</td><td>NA</td><td>NA</td></tr>\n",
       "\t<tr><td>NTC-PCR2      </td><td>17711</td><td>NA</td><td>NA        </td><td>NA       </td><td>NA    </td><td>NA</td><td>NA</td><td>NTC     </td><td>NA </td><td>⋯</td><td>NA</td><td>0</td><td>0</td><td>0</td><td>0</td><td>NA</td><td>NA</td><td>NA</td><td>NA</td><td>NA</td></tr>\n",
       "</tbody>\n",
       "</table>\n"
      ],
      "text/latex": [
       "A data.frame: 284 × 54\n",
       "\\begin{tabular}{lllllllllllllllllllll}\n",
       " sample\\_names & featurecounts & Initial\\_sample\\_ID & Tag & Date\\_Collected & Date & TimePoint & Replicate & Genotype & Nursery & ⋯ & X & estimate & error & lower & upper & name & model & Simpson & Shannon & Combo.y\\\\\n",
       " <chr> & <int> & <int> & <chr> & <chr> & <chr> & <int> & <chr> & <chr> & <chr> & ⋯ & <lgl> & <dbl> & <dbl> & <dbl> & <dbl> & <chr> & <chr> & <dbl> & <dbl> & <chr>\\\\\n",
       "\\hline\n",
       "\t N10-A019  & 23078 &  10 & A019 & 25-Oct-20 & 25-Oct &  4 & NA   & Cooper-9 & UM  & ⋯ & NA & 0.08049877 & 0.02574797 & 0.02900284 & 0.1319947 & DivNet & Aitchison & 0.9165302 & 2.688475 & NH4\\_Placebo    \\\\\n",
       "\t N102-A012 & 13157 & 102 & A012 & 5-Nov-20  & 5-Nov  & 14 & r1\\_w & Kelsey-1 & UM  & ⋯ & NA & 0.08049877 & 0.02574797 & 0.02900284 & 0.1319947 & DivNet & Aitchison & 0.8581586 & 2.012614 & Ambient\\_Placebo\\\\\n",
       "\t N103-A028 & 38507 & 103 & A028 & 5-Nov-20  & 5-Nov  & 14 & r1\\_w & Cooper-9 & UM  & ⋯ & NA & 0.08049877 & 0.02574797 & 0.02900284 & 0.1319947 & DivNet & Aitchison & 0.8661112 & 2.138554 & Ambient\\_Placebo\\\\\n",
       "\t N104-276  & 20691 & 104 & 276  & 5-Nov-20  & 5-Nov  & 14 & r1\\_w & FM14     & FWC & ⋯ & NA & 0.08049877 & 0.02574797 & 0.02900284 & 0.1319947 & DivNet & Aitchison & 0.8564308 & 2.007093 & Ambient\\_Placebo\\\\\n",
       "\t N105-258  & 24540 & 105 & 258  & 5-Nov-20  & 5-Nov  & 14 & r1\\_w & FM6      & FWC & ⋯ & NA & 0.08049877 & 0.02574797 & 0.02900284 & 0.1319947 & DivNet & Aitchison & 0.8528757 & 1.994060 & NH4\\_Placebo    \\\\\n",
       "\t N106-A051 & 28128 & 106 & A051 & 5-Nov-20  & 5-Nov  & 14 & r1\\_w & Acerv2   & UM  & ⋯ & NA & 0.08049877 & 0.02574797 & 0.02900284 & 0.1319947 & DivNet & Aitchison & 0.8614911 & 2.069874 & NH4\\_Placebo    \\\\\n",
       "\t N107-162  & 56431 & 107 & 162  & 5-Nov-20  & 5-Nov  & 14 & NA   & K2       & CRF & ⋯ & NA & 0.08049877 & 0.02574797 & 0.02900284 & 0.1319947 & DivNet & Aitchison & 0.8641231 & 2.106718 & NH4\\_Placebo    \\\\\n",
       "\t N108-A188 & 44424 & 108 & A188 & 5-Nov-20  & 5-Nov  & 14 & NA   & FM19     & FWC & ⋯ & NA & 0.08049877 & 0.02574797 & 0.02900284 & 0.1319947 & DivNet & Aitchison & 0.8670722 & 2.182338 & NH4\\_Placebo    \\\\\n",
       "\t N109-A101 & 35834 & 109 & A101 & 5-Nov-20  & 5-Nov  & 14 & NA   & Kelsey-1 & UM  & ⋯ & NA & 0.08049877 & 0.02574797 & 0.02900284 & 0.1319947 & DivNet & Aitchison & 0.8772497 & 2.305193 & NH4\\_Placebo    \\\\\n",
       "\t N110-A045 & 39551 & 110 & A045 & 5-Nov-20  & 5-Nov  & 14 & NA   & Acerv2   & UM  & ⋯ & NA & 0.08049877 & 0.02574797 & 0.02900284 & 0.1319947 & DivNet & Aitchison & 0.8710343 & 2.209817 & NH4\\_Placebo    \\\\\n",
       "\t N111-A010 & 34346 & 111 & A010 & 5-Nov-20  & 5-Nov  & 14 & NA   & Kelsey-1 & UM  & ⋯ & NA & 0.08049877 & 0.02574797 & 0.02900284 & 0.1319947 & DivNet & Aitchison & 0.8738840 & 2.262411 & NH4\\_Placebo    \\\\\n",
       "\t N12-A008  & 48424 &  12 & A008 & 26-Oct-20 & 26-Oct &  5 & NA   & Kelsey-1 & UM  & ⋯ & NA & 0.08049877 & 0.02574797 & 0.02900284 & 0.1319947 & DivNet & Aitchison & 0.8919527 & 2.338363 & NH4\\_Placebo    \\\\\n",
       "\t N121-A160 & 29131 & 121 & A160 & 5-Nov-20  & 5-Nov  & 14 & r1\\_w & K2       & CRF & ⋯ & NA & 0.08049877 & 0.02574797 & 0.02900284 & 0.1319947 & DivNet & Aitchison & 0.8608994 & 2.027796 & Ambient\\_Placebo\\\\\n",
       "\t N123-268  & 26094 & 123 & 268  & 6-Nov-20  & 6-Nov  & 15 & NA   & FM14     & FWC & ⋯ & NA & 0.08049877 & 0.02574797 & 0.02900284 & 0.1319947 & DivNet & Aitchison & 0.8626888 & 2.108032 & Ambient\\_Placebo\\\\\n",
       "\t N124-218  & 21315 & 124 & 218  & 6-Nov-20  & 6-Nov  & 15 & NA   & FM9      & FWC & ⋯ & NA & 0.08049877 & 0.02574797 & 0.02900284 & 0.1319947 & DivNet & Aitchison & 0.8734675 & 2.213540 & Ambient\\_Placebo\\\\\n",
       "\t N125-A033 & 22031 & 125 & A033 & 6-Nov-20  & 6-Nov  & 15 & r1\\_w & Cooper-9 & UM  & ⋯ & NA & 0.08049877 & 0.02574797 & 0.02900284 & 0.1319947 & DivNet & Aitchison & 0.8794083 & 2.240352 & Ambient\\_Placebo\\\\\n",
       "\t N126-A154 & 32407 & 126 & A154 & 6-Nov-20  & 6-Nov  & 15 & r1\\_w & K2       & CRF & ⋯ & NA & 0.08049877 & 0.02574797 & 0.02900284 & 0.1319947 & DivNet & Aitchison & 0.8591953 & 2.034485 & Ambient\\_Placebo\\\\\n",
       "\t N127-A047 & 24293 & 127 & A047 & 6-Nov-20  & 6-Nov  & 15 & r1\\_w & Acerv2   & UM  & ⋯ & NA & 0.08049877 & 0.02574797 & 0.02900284 & 0.1319947 & DivNet & Aitchison & 0.8769562 & 2.257091 & Ambient\\_Placebo\\\\\n",
       "\t N128-A052 & 27263 & 128 & A052 & 6-Nov-20  & 6-Nov  & 15 & r2\\_w & Acerv2   & UM  & ⋯ & NA & 0.08049877 & 0.02574797 & 0.02900284 & 0.1319947 & DivNet & Aitchison & 0.8604781 & 2.046631 & NH4\\_Placebo    \\\\\n",
       "\t N129-165  & 27829 & 129 & 165  & 6-Nov-20  & 6-Nov  & 15 & NA   & K2       & CRF & ⋯ & NA & 0.08049877 & 0.02574797 & 0.02900284 & 0.1319947 & DivNet & Aitchison & 0.8546840 & 1.970259 & NH4\\_Placebo    \\\\\n",
       "\t N135-A190 & 29717 & 135 & A190 & 6-Nov-20  & 6-Nov  & 15 & NA   & FM19     & FWC & ⋯ & NA & 0.08049877 & 0.02574797 & 0.02900284 & 0.1319947 & DivNet & Aitchison & 0.8628781 & 2.118849 & NH4\\_Placebo    \\\\\n",
       "\t N139-A014 & 22795 & 139 & A014 & 6-Nov-20  & 6-Nov  & 15 & NA   & Kelsey-1 & UM  & ⋯ & NA & 0.08049877 & 0.02574797 & 0.02900284 & 0.1319947 & DivNet & Aitchison & 0.8597018 & 2.015341 & NH4\\_Placebo    \\\\\n",
       "\t N140-A086 & 37881 & 140 & A086 & 6-Nov-20  & 6-Nov  & 15 & NA   & Elkhorn  & UM  & ⋯ & NA & 0.08049877 & 0.02574797 & 0.02900284 & 0.1319947 & DivNet & Aitchison & 0.9651030 & 4.183327 & Ambient\\_Placebo\\\\\n",
       "\t N141-A103 & 23261 & 141 & A103 & 6-Nov-20  & 6-Nov  & 15 & NA   & Kelsey-1 & UM  & ⋯ & NA & 0.08049877 & 0.02574797 & 0.02900284 & 0.1319947 & DivNet & Aitchison & 0.8522556 & 1.970599 & Ambient\\_Placebo\\\\\n",
       "\t N142-204  & 37861 & 142 & 204  & 6-Nov-20  & 6-Nov  & 15 & NA   & FM9      & FWC & ⋯ & NA & 0.08049877 & 0.02574797 & 0.02900284 & 0.1319947 & DivNet & Aitchison & 0.8689136 & 2.198239 & NH4\\_Placebo    \\\\\n",
       "\t N143-A105 & 51669 & 143 & A105 & 6-Nov-20  & 6-Nov  & 15 & r1\\_w & U44      & CRF & ⋯ & NA & 0.08049877 & 0.02574797 & 0.02900284 & 0.1319947 & DivNet & Aitchison & 0.9819361 & 4.521814 & NH4\\_Placebo    \\\\\n",
       "\t N144-A131 & 46015 & 144 & A131 & 6-Nov-20  & 6-Nov  & 15 & NA   & U44      & CRF & ⋯ & NA & 0.08049877 & 0.02574797 & 0.02900284 & 0.1319947 & DivNet & Aitchison & 0.9661917 & 3.763989 & NH4\\_Placebo    \\\\\n",
       "\t N145-A072 & 32993 & 145 & A072 & 6-Nov-20  & 6-Nov  & 15 & NA   & Elkhorn  & UM  & ⋯ & NA & 0.08049877 & 0.02574797 & 0.02900284 & 0.1319947 & DivNet & Aitchison & 0.8543432 & 1.971120 & NH4\\_Placebo    \\\\\n",
       "\t N146-A106 & 65919 & 146 & A106 & 6-Nov-20  & 6-Nov  & 15 & r1\\_w & U44      & CRF & ⋯ & NA & 0.08049877 & 0.02574797 & 0.02900284 & 0.1319947 & DivNet & Aitchison & 0.9883598 & 4.720199 & NH4\\_Placebo    \\\\\n",
       "\t N147-269  & 31930 & 147 & 269  & 6-Nov-20  & 6-Nov  & 15 & r1\\_w & FM14     & FWC & ⋯ & NA & 0.08049877 & 0.02574797 & 0.02900284 & 0.1319947 & DivNet & Aitchison & 0.8592710 & 2.043522 & NH4\\_Placebo    \\\\\n",
       "\t ⋮ & ⋮ & ⋮ & ⋮ & ⋮ & ⋮ & ⋮ & ⋮ & ⋮ & ⋮ & ⋱ & ⋮ & ⋮ & ⋮ & ⋮ & ⋮ & ⋮ & ⋮ & ⋮ & ⋮ & ⋮\\\\\n",
       "\t N58-A014       & 13454 & 58 & A014       & 30-Oct-20 & 30-Oct &  8 & NA & Kelsey-1 & UM  & ⋯ & NA & 0 & 0 & 0 & 0 & NA & NA & NA & NA & NA\\\\\n",
       "\t N59-A018       & 29767 & 59 & A018       & 30-Oct-20 & 30-Oct &  8 & NA & Cooper-9 & UM  & ⋯ & NA & 0 & 0 & 0 & 0 & NA & NA & NA & NA & NA\\\\\n",
       "\t N60-A056       & 75497 & 60 & A056       & 30-Oct-20 & 30-Oct &  8 & NA & Acerv2   & UM  & ⋯ & NA & 0 & 0 & 0 & 0 & NA & NA & NA & NA & NA\\\\\n",
       "\t N61-A077       & 17626 & 61 & A077       & 30-Oct-20 & 30-Oct &  8 & NA & Elkhorn  & UM  & ⋯ & NA & 0 & 0 & 0 & 0 & NA & NA & NA & NA & NA\\\\\n",
       "\t N62-A127       & 59333 & 62 & A127       & 30-Oct-20 & 30-Oct &  8 & NA & U44      & CRF & ⋯ & NA & 0 & 0 & 0 & 0 & NA & NA & NA & NA & NA\\\\\n",
       "\t N63-A159       & 31755 & 63 & A159       & 30-Oct-20 & 30-Oct &  8 & NA & K2       & CRF & ⋯ & NA & 0 & 0 & 0 & 0 & NA & NA & NA & NA & NA\\\\\n",
       "\t N64-A192       & 20283 & 64 & A192       & 30-Oct-20 & 30-Oct &  8 & NA & FM19     & FWC & ⋯ & NA & 0 & 0 & 0 & 0 & NA & NA & NA & NA & NA\\\\\n",
       "\t N65-220        & 22440 & 65 & 220        & 30-Oct-20 & 30-Oct &  8 & NA & FM9      & FWC & ⋯ & NA & 0 & 0 & 0 & 0 & NA & NA & NA & NA & NA\\\\\n",
       "\t N66-254        &  9559 & 66 & 254        & 30-Oct-20 & 30-Oct &  8 & NA & FM6      & FWC & ⋯ & NA & 0 & 0 & 0 & 0 & NA & NA & NA & NA & NA\\\\\n",
       "\t N67-262        & 26391 & 67 & 262        & 30-Oct-20 & 30-Oct &  8 & NA & FM14     & FWC & ⋯ & NA & 0 & 0 & 0 & 0 & NA & NA & NA & NA & NA\\\\\n",
       "\t N68-A010       & 27246 & 68 & A010       & 30-Oct-20 & 30-Oct &  8 & NA & Kelsey-1 & UM  & ⋯ & NA & 0 & 0 & 0 & 0 & NA & NA & NA & NA & NA\\\\\n",
       "\t N69-A034       & 22408 & 69 & A034       & 30-Oct-20 & 30-Oct &  8 & NA & Cooper-9 & UM  & ⋯ & NA & 0 & 0 & 0 & 0 & NA & NA & NA & NA & NA\\\\\n",
       "\t N7-A114        & 18525 &  7 & A114       & 21-Oct-20 & 21-Oct &  2 & NA & U41      & CRF & ⋯ & NA & 0 & 0 & 0 & 0 & NA & NA & NA & NA & NA\\\\\n",
       "\t N70-A052       & 24607 & 70 & A052       & 30-Oct-20 & 30-Oct &  8 & NA & Acerv2   & UM  & ⋯ & NA & 0 & 0 & 0 & 0 & NA & NA & NA & NA & NA\\\\\n",
       "\t N71-A068       & 34875 & 71 & A068       & 30-Oct-20 & 30-Oct &  8 & NA & Elkhorn  & UM  & ⋯ & NA & 0 & 0 & 0 & 0 & NA & NA & NA & NA & NA\\\\\n",
       "\t N72-A071       & 47386 & 72 & A071       & 30-Oct-20 & 30-Oct &  8 & NA & U44      & CRF & ⋯ & NA & 0 & 0 & 0 & 0 & NA & NA & NA & NA & NA\\\\\n",
       "\t N73-A155       & 40260 & 73 & A155       & 30-Oct-20 & 30-Oct &  8 & NA & K2       & CRF & ⋯ & NA & 0 & 0 & 0 & 0 & NA & NA & NA & NA & NA\\\\\n",
       "\t N74-A198       & 28410 & 74 & A198       & 30-Oct-20 & 30-Oct &  8 & NA & FM19     & FWC & ⋯ & NA & 0 & 0 & 0 & 0 & NA & NA & NA & NA & NA\\\\\n",
       "\t N75-211        & 30336 & 75 & 211        & 30-Oct-20 & 30-Oct &  8 & NA & FM9      & FWC & ⋯ & NA & 0 & 0 & 0 & 0 & NA & NA & NA & NA & NA\\\\\n",
       "\t N76-266        & 26780 & 76 & 266        & 30-Oct-20 & 30-Oct &  8 & NA & FM6      & FWC & ⋯ & NA & 0 & 0 & 0 & 0 & NA & NA & NA & NA & NA\\\\\n",
       "\t N77-282        & 33935 & 77 & 282        & 30-Oct-20 & 30-Oct &  8 & NA & FM14     & FWC & ⋯ & NA & 0 & 0 & 0 & 0 & NA & NA & NA & NA & NA\\\\\n",
       "\t N87-Hom-Dis    & 17882 & 87 & Hom\\_Hea    & 31-Oct-20 & 31-Oct &  9 & NA & NA       & NA  & ⋯ & NA & 0 & 0 & 0 & 0 & NA & NA & NA & NA & NA\\\\\n",
       "\t N87-Hom-Dis-R2 & 75651 & 87 & Hom\\_Hea    & 31-Oct-20 & 31-Oct &  9 & NA & NA       & NA  & ⋯ & NA & 0 & 0 & 0 & 0 & NA & NA & NA & NA & NA\\\\\n",
       "\t N88-Hom-Hea    & 21207 & 88 & Hom\\_Dis\\_R1 & 31-Oct-20 & 31-Oct &  9 & NA & NA       & NA  & ⋯ & NA & 0 & 0 & 0 & 0 & NA & NA & NA & NA & NA\\\\\n",
       "\t N88-Hom-Hea-R2 & 35515 & 88 & Hom\\_Dis\\_R2 & 31-Oct-20 & 31-Oct &  9 & NA & NA       & NA  & ⋯ & NA & 0 & 0 & 0 & 0 & NA & NA & NA & NA & NA\\\\\n",
       "\t NEC            & 32359 & NA & NA         & NA        & NA     & NA & NA & NTC      & NA  & ⋯ & NA & 0 & 0 & 0 & 0 & NA & NA & NA & NA & NA\\\\\n",
       "\t NTC-1          &  2054 & NA & NA         & NA        & NA     & NA & NA & NTC      & NA  & ⋯ & NA & 0 & 0 & 0 & 0 & NA & NA & NA & NA & NA\\\\\n",
       "\t NTC-2          &  2892 & NA & NA         & NA        & NA     & NA & NA & NTC      & NA  & ⋯ & NA & 0 & 0 & 0 & 0 & NA & NA & NA & NA & NA\\\\\n",
       "\t NTC-PCR1       & 22555 & NA & NA         & NA        & NA     & NA & NA & NTC      & NA  & ⋯ & NA & 0 & 0 & 0 & 0 & NA & NA & NA & NA & NA\\\\\n",
       "\t NTC-PCR2       & 17711 & NA & NA         & NA        & NA     & NA & NA & NTC      & NA  & ⋯ & NA & 0 & 0 & 0 & 0 & NA & NA & NA & NA & NA\\\\\n",
       "\\end{tabular}\n"
      ],
      "text/markdown": [
       "\n",
       "A data.frame: 284 × 54\n",
       "\n",
       "| sample_names &lt;chr&gt; | featurecounts &lt;int&gt; | Initial_sample_ID &lt;int&gt; | Tag &lt;chr&gt; | Date_Collected &lt;chr&gt; | Date &lt;chr&gt; | TimePoint &lt;int&gt; | Replicate &lt;chr&gt; | Genotype &lt;chr&gt; | Nursery &lt;chr&gt; | ⋯ ⋯ | X &lt;lgl&gt; | estimate &lt;dbl&gt; | error &lt;dbl&gt; | lower &lt;dbl&gt; | upper &lt;dbl&gt; | name &lt;chr&gt; | model &lt;chr&gt; | Simpson &lt;dbl&gt; | Shannon &lt;dbl&gt; | Combo.y &lt;chr&gt; |\n",
       "|---|---|---|---|---|---|---|---|---|---|---|---|---|---|---|---|---|---|---|---|---|\n",
       "| N10-A019  | 23078 |  10 | A019 | 25-Oct-20 | 25-Oct |  4 | NA   | Cooper-9 | UM  | ⋯ | NA | 0.08049877 | 0.02574797 | 0.02900284 | 0.1319947 | DivNet | Aitchison | 0.9165302 | 2.688475 | NH4_Placebo     |\n",
       "| N102-A012 | 13157 | 102 | A012 | 5-Nov-20  | 5-Nov  | 14 | r1_w | Kelsey-1 | UM  | ⋯ | NA | 0.08049877 | 0.02574797 | 0.02900284 | 0.1319947 | DivNet | Aitchison | 0.8581586 | 2.012614 | Ambient_Placebo |\n",
       "| N103-A028 | 38507 | 103 | A028 | 5-Nov-20  | 5-Nov  | 14 | r1_w | Cooper-9 | UM  | ⋯ | NA | 0.08049877 | 0.02574797 | 0.02900284 | 0.1319947 | DivNet | Aitchison | 0.8661112 | 2.138554 | Ambient_Placebo |\n",
       "| N104-276  | 20691 | 104 | 276  | 5-Nov-20  | 5-Nov  | 14 | r1_w | FM14     | FWC | ⋯ | NA | 0.08049877 | 0.02574797 | 0.02900284 | 0.1319947 | DivNet | Aitchison | 0.8564308 | 2.007093 | Ambient_Placebo |\n",
       "| N105-258  | 24540 | 105 | 258  | 5-Nov-20  | 5-Nov  | 14 | r1_w | FM6      | FWC | ⋯ | NA | 0.08049877 | 0.02574797 | 0.02900284 | 0.1319947 | DivNet | Aitchison | 0.8528757 | 1.994060 | NH4_Placebo     |\n",
       "| N106-A051 | 28128 | 106 | A051 | 5-Nov-20  | 5-Nov  | 14 | r1_w | Acerv2   | UM  | ⋯ | NA | 0.08049877 | 0.02574797 | 0.02900284 | 0.1319947 | DivNet | Aitchison | 0.8614911 | 2.069874 | NH4_Placebo     |\n",
       "| N107-162  | 56431 | 107 | 162  | 5-Nov-20  | 5-Nov  | 14 | NA   | K2       | CRF | ⋯ | NA | 0.08049877 | 0.02574797 | 0.02900284 | 0.1319947 | DivNet | Aitchison | 0.8641231 | 2.106718 | NH4_Placebo     |\n",
       "| N108-A188 | 44424 | 108 | A188 | 5-Nov-20  | 5-Nov  | 14 | NA   | FM19     | FWC | ⋯ | NA | 0.08049877 | 0.02574797 | 0.02900284 | 0.1319947 | DivNet | Aitchison | 0.8670722 | 2.182338 | NH4_Placebo     |\n",
       "| N109-A101 | 35834 | 109 | A101 | 5-Nov-20  | 5-Nov  | 14 | NA   | Kelsey-1 | UM  | ⋯ | NA | 0.08049877 | 0.02574797 | 0.02900284 | 0.1319947 | DivNet | Aitchison | 0.8772497 | 2.305193 | NH4_Placebo     |\n",
       "| N110-A045 | 39551 | 110 | A045 | 5-Nov-20  | 5-Nov  | 14 | NA   | Acerv2   | UM  | ⋯ | NA | 0.08049877 | 0.02574797 | 0.02900284 | 0.1319947 | DivNet | Aitchison | 0.8710343 | 2.209817 | NH4_Placebo     |\n",
       "| N111-A010 | 34346 | 111 | A010 | 5-Nov-20  | 5-Nov  | 14 | NA   | Kelsey-1 | UM  | ⋯ | NA | 0.08049877 | 0.02574797 | 0.02900284 | 0.1319947 | DivNet | Aitchison | 0.8738840 | 2.262411 | NH4_Placebo     |\n",
       "| N12-A008  | 48424 |  12 | A008 | 26-Oct-20 | 26-Oct |  5 | NA   | Kelsey-1 | UM  | ⋯ | NA | 0.08049877 | 0.02574797 | 0.02900284 | 0.1319947 | DivNet | Aitchison | 0.8919527 | 2.338363 | NH4_Placebo     |\n",
       "| N121-A160 | 29131 | 121 | A160 | 5-Nov-20  | 5-Nov  | 14 | r1_w | K2       | CRF | ⋯ | NA | 0.08049877 | 0.02574797 | 0.02900284 | 0.1319947 | DivNet | Aitchison | 0.8608994 | 2.027796 | Ambient_Placebo |\n",
       "| N123-268  | 26094 | 123 | 268  | 6-Nov-20  | 6-Nov  | 15 | NA   | FM14     | FWC | ⋯ | NA | 0.08049877 | 0.02574797 | 0.02900284 | 0.1319947 | DivNet | Aitchison | 0.8626888 | 2.108032 | Ambient_Placebo |\n",
       "| N124-218  | 21315 | 124 | 218  | 6-Nov-20  | 6-Nov  | 15 | NA   | FM9      | FWC | ⋯ | NA | 0.08049877 | 0.02574797 | 0.02900284 | 0.1319947 | DivNet | Aitchison | 0.8734675 | 2.213540 | Ambient_Placebo |\n",
       "| N125-A033 | 22031 | 125 | A033 | 6-Nov-20  | 6-Nov  | 15 | r1_w | Cooper-9 | UM  | ⋯ | NA | 0.08049877 | 0.02574797 | 0.02900284 | 0.1319947 | DivNet | Aitchison | 0.8794083 | 2.240352 | Ambient_Placebo |\n",
       "| N126-A154 | 32407 | 126 | A154 | 6-Nov-20  | 6-Nov  | 15 | r1_w | K2       | CRF | ⋯ | NA | 0.08049877 | 0.02574797 | 0.02900284 | 0.1319947 | DivNet | Aitchison | 0.8591953 | 2.034485 | Ambient_Placebo |\n",
       "| N127-A047 | 24293 | 127 | A047 | 6-Nov-20  | 6-Nov  | 15 | r1_w | Acerv2   | UM  | ⋯ | NA | 0.08049877 | 0.02574797 | 0.02900284 | 0.1319947 | DivNet | Aitchison | 0.8769562 | 2.257091 | Ambient_Placebo |\n",
       "| N128-A052 | 27263 | 128 | A052 | 6-Nov-20  | 6-Nov  | 15 | r2_w | Acerv2   | UM  | ⋯ | NA | 0.08049877 | 0.02574797 | 0.02900284 | 0.1319947 | DivNet | Aitchison | 0.8604781 | 2.046631 | NH4_Placebo     |\n",
       "| N129-165  | 27829 | 129 | 165  | 6-Nov-20  | 6-Nov  | 15 | NA   | K2       | CRF | ⋯ | NA | 0.08049877 | 0.02574797 | 0.02900284 | 0.1319947 | DivNet | Aitchison | 0.8546840 | 1.970259 | NH4_Placebo     |\n",
       "| N135-A190 | 29717 | 135 | A190 | 6-Nov-20  | 6-Nov  | 15 | NA   | FM19     | FWC | ⋯ | NA | 0.08049877 | 0.02574797 | 0.02900284 | 0.1319947 | DivNet | Aitchison | 0.8628781 | 2.118849 | NH4_Placebo     |\n",
       "| N139-A014 | 22795 | 139 | A014 | 6-Nov-20  | 6-Nov  | 15 | NA   | Kelsey-1 | UM  | ⋯ | NA | 0.08049877 | 0.02574797 | 0.02900284 | 0.1319947 | DivNet | Aitchison | 0.8597018 | 2.015341 | NH4_Placebo     |\n",
       "| N140-A086 | 37881 | 140 | A086 | 6-Nov-20  | 6-Nov  | 15 | NA   | Elkhorn  | UM  | ⋯ | NA | 0.08049877 | 0.02574797 | 0.02900284 | 0.1319947 | DivNet | Aitchison | 0.9651030 | 4.183327 | Ambient_Placebo |\n",
       "| N141-A103 | 23261 | 141 | A103 | 6-Nov-20  | 6-Nov  | 15 | NA   | Kelsey-1 | UM  | ⋯ | NA | 0.08049877 | 0.02574797 | 0.02900284 | 0.1319947 | DivNet | Aitchison | 0.8522556 | 1.970599 | Ambient_Placebo |\n",
       "| N142-204  | 37861 | 142 | 204  | 6-Nov-20  | 6-Nov  | 15 | NA   | FM9      | FWC | ⋯ | NA | 0.08049877 | 0.02574797 | 0.02900284 | 0.1319947 | DivNet | Aitchison | 0.8689136 | 2.198239 | NH4_Placebo     |\n",
       "| N143-A105 | 51669 | 143 | A105 | 6-Nov-20  | 6-Nov  | 15 | r1_w | U44      | CRF | ⋯ | NA | 0.08049877 | 0.02574797 | 0.02900284 | 0.1319947 | DivNet | Aitchison | 0.9819361 | 4.521814 | NH4_Placebo     |\n",
       "| N144-A131 | 46015 | 144 | A131 | 6-Nov-20  | 6-Nov  | 15 | NA   | U44      | CRF | ⋯ | NA | 0.08049877 | 0.02574797 | 0.02900284 | 0.1319947 | DivNet | Aitchison | 0.9661917 | 3.763989 | NH4_Placebo     |\n",
       "| N145-A072 | 32993 | 145 | A072 | 6-Nov-20  | 6-Nov  | 15 | NA   | Elkhorn  | UM  | ⋯ | NA | 0.08049877 | 0.02574797 | 0.02900284 | 0.1319947 | DivNet | Aitchison | 0.8543432 | 1.971120 | NH4_Placebo     |\n",
       "| N146-A106 | 65919 | 146 | A106 | 6-Nov-20  | 6-Nov  | 15 | r1_w | U44      | CRF | ⋯ | NA | 0.08049877 | 0.02574797 | 0.02900284 | 0.1319947 | DivNet | Aitchison | 0.9883598 | 4.720199 | NH4_Placebo     |\n",
       "| N147-269  | 31930 | 147 | 269  | 6-Nov-20  | 6-Nov  | 15 | r1_w | FM14     | FWC | ⋯ | NA | 0.08049877 | 0.02574797 | 0.02900284 | 0.1319947 | DivNet | Aitchison | 0.8592710 | 2.043522 | NH4_Placebo     |\n",
       "| ⋮ | ⋮ | ⋮ | ⋮ | ⋮ | ⋮ | ⋮ | ⋮ | ⋮ | ⋮ | ⋱ | ⋮ | ⋮ | ⋮ | ⋮ | ⋮ | ⋮ | ⋮ | ⋮ | ⋮ | ⋮ |\n",
       "| N58-A014       | 13454 | 58 | A014       | 30-Oct-20 | 30-Oct |  8 | NA | Kelsey-1 | UM  | ⋯ | NA | 0 | 0 | 0 | 0 | NA | NA | NA | NA | NA |\n",
       "| N59-A018       | 29767 | 59 | A018       | 30-Oct-20 | 30-Oct |  8 | NA | Cooper-9 | UM  | ⋯ | NA | 0 | 0 | 0 | 0 | NA | NA | NA | NA | NA |\n",
       "| N60-A056       | 75497 | 60 | A056       | 30-Oct-20 | 30-Oct |  8 | NA | Acerv2   | UM  | ⋯ | NA | 0 | 0 | 0 | 0 | NA | NA | NA | NA | NA |\n",
       "| N61-A077       | 17626 | 61 | A077       | 30-Oct-20 | 30-Oct |  8 | NA | Elkhorn  | UM  | ⋯ | NA | 0 | 0 | 0 | 0 | NA | NA | NA | NA | NA |\n",
       "| N62-A127       | 59333 | 62 | A127       | 30-Oct-20 | 30-Oct |  8 | NA | U44      | CRF | ⋯ | NA | 0 | 0 | 0 | 0 | NA | NA | NA | NA | NA |\n",
       "| N63-A159       | 31755 | 63 | A159       | 30-Oct-20 | 30-Oct |  8 | NA | K2       | CRF | ⋯ | NA | 0 | 0 | 0 | 0 | NA | NA | NA | NA | NA |\n",
       "| N64-A192       | 20283 | 64 | A192       | 30-Oct-20 | 30-Oct |  8 | NA | FM19     | FWC | ⋯ | NA | 0 | 0 | 0 | 0 | NA | NA | NA | NA | NA |\n",
       "| N65-220        | 22440 | 65 | 220        | 30-Oct-20 | 30-Oct |  8 | NA | FM9      | FWC | ⋯ | NA | 0 | 0 | 0 | 0 | NA | NA | NA | NA | NA |\n",
       "| N66-254        |  9559 | 66 | 254        | 30-Oct-20 | 30-Oct |  8 | NA | FM6      | FWC | ⋯ | NA | 0 | 0 | 0 | 0 | NA | NA | NA | NA | NA |\n",
       "| N67-262        | 26391 | 67 | 262        | 30-Oct-20 | 30-Oct |  8 | NA | FM14     | FWC | ⋯ | NA | 0 | 0 | 0 | 0 | NA | NA | NA | NA | NA |\n",
       "| N68-A010       | 27246 | 68 | A010       | 30-Oct-20 | 30-Oct |  8 | NA | Kelsey-1 | UM  | ⋯ | NA | 0 | 0 | 0 | 0 | NA | NA | NA | NA | NA |\n",
       "| N69-A034       | 22408 | 69 | A034       | 30-Oct-20 | 30-Oct |  8 | NA | Cooper-9 | UM  | ⋯ | NA | 0 | 0 | 0 | 0 | NA | NA | NA | NA | NA |\n",
       "| N7-A114        | 18525 |  7 | A114       | 21-Oct-20 | 21-Oct |  2 | NA | U41      | CRF | ⋯ | NA | 0 | 0 | 0 | 0 | NA | NA | NA | NA | NA |\n",
       "| N70-A052       | 24607 | 70 | A052       | 30-Oct-20 | 30-Oct |  8 | NA | Acerv2   | UM  | ⋯ | NA | 0 | 0 | 0 | 0 | NA | NA | NA | NA | NA |\n",
       "| N71-A068       | 34875 | 71 | A068       | 30-Oct-20 | 30-Oct |  8 | NA | Elkhorn  | UM  | ⋯ | NA | 0 | 0 | 0 | 0 | NA | NA | NA | NA | NA |\n",
       "| N72-A071       | 47386 | 72 | A071       | 30-Oct-20 | 30-Oct |  8 | NA | U44      | CRF | ⋯ | NA | 0 | 0 | 0 | 0 | NA | NA | NA | NA | NA |\n",
       "| N73-A155       | 40260 | 73 | A155       | 30-Oct-20 | 30-Oct |  8 | NA | K2       | CRF | ⋯ | NA | 0 | 0 | 0 | 0 | NA | NA | NA | NA | NA |\n",
       "| N74-A198       | 28410 | 74 | A198       | 30-Oct-20 | 30-Oct |  8 | NA | FM19     | FWC | ⋯ | NA | 0 | 0 | 0 | 0 | NA | NA | NA | NA | NA |\n",
       "| N75-211        | 30336 | 75 | 211        | 30-Oct-20 | 30-Oct |  8 | NA | FM9      | FWC | ⋯ | NA | 0 | 0 | 0 | 0 | NA | NA | NA | NA | NA |\n",
       "| N76-266        | 26780 | 76 | 266        | 30-Oct-20 | 30-Oct |  8 | NA | FM6      | FWC | ⋯ | NA | 0 | 0 | 0 | 0 | NA | NA | NA | NA | NA |\n",
       "| N77-282        | 33935 | 77 | 282        | 30-Oct-20 | 30-Oct |  8 | NA | FM14     | FWC | ⋯ | NA | 0 | 0 | 0 | 0 | NA | NA | NA | NA | NA |\n",
       "| N87-Hom-Dis    | 17882 | 87 | Hom_Hea    | 31-Oct-20 | 31-Oct |  9 | NA | NA       | NA  | ⋯ | NA | 0 | 0 | 0 | 0 | NA | NA | NA | NA | NA |\n",
       "| N87-Hom-Dis-R2 | 75651 | 87 | Hom_Hea    | 31-Oct-20 | 31-Oct |  9 | NA | NA       | NA  | ⋯ | NA | 0 | 0 | 0 | 0 | NA | NA | NA | NA | NA |\n",
       "| N88-Hom-Hea    | 21207 | 88 | Hom_Dis_R1 | 31-Oct-20 | 31-Oct |  9 | NA | NA       | NA  | ⋯ | NA | 0 | 0 | 0 | 0 | NA | NA | NA | NA | NA |\n",
       "| N88-Hom-Hea-R2 | 35515 | 88 | Hom_Dis_R2 | 31-Oct-20 | 31-Oct |  9 | NA | NA       | NA  | ⋯ | NA | 0 | 0 | 0 | 0 | NA | NA | NA | NA | NA |\n",
       "| NEC            | 32359 | NA | NA         | NA        | NA     | NA | NA | NTC      | NA  | ⋯ | NA | 0 | 0 | 0 | 0 | NA | NA | NA | NA | NA |\n",
       "| NTC-1          |  2054 | NA | NA         | NA        | NA     | NA | NA | NTC      | NA  | ⋯ | NA | 0 | 0 | 0 | 0 | NA | NA | NA | NA | NA |\n",
       "| NTC-2          |  2892 | NA | NA         | NA        | NA     | NA | NA | NTC      | NA  | ⋯ | NA | 0 | 0 | 0 | 0 | NA | NA | NA | NA | NA |\n",
       "| NTC-PCR1       | 22555 | NA | NA         | NA        | NA     | NA | NA | NTC      | NA  | ⋯ | NA | 0 | 0 | 0 | 0 | NA | NA | NA | NA | NA |\n",
       "| NTC-PCR2       | 17711 | NA | NA         | NA        | NA     | NA | NA | NTC      | NA  | ⋯ | NA | 0 | 0 | 0 | 0 | NA | NA | NA | NA | NA |\n",
       "\n"
      ],
      "text/plain": [
       "    sample_names   featurecounts Initial_sample_ID Tag        Date_Collected\n",
       "1   N10-A019       23078          10               A019       25-Oct-20     \n",
       "2   N102-A012      13157         102               A012       5-Nov-20      \n",
       "3   N103-A028      38507         103               A028       5-Nov-20      \n",
       "4   N104-276       20691         104               276        5-Nov-20      \n",
       "5   N105-258       24540         105               258        5-Nov-20      \n",
       "6   N106-A051      28128         106               A051       5-Nov-20      \n",
       "7   N107-162       56431         107               162        5-Nov-20      \n",
       "8   N108-A188      44424         108               A188       5-Nov-20      \n",
       "9   N109-A101      35834         109               A101       5-Nov-20      \n",
       "10  N110-A045      39551         110               A045       5-Nov-20      \n",
       "11  N111-A010      34346         111               A010       5-Nov-20      \n",
       "12  N12-A008       48424          12               A008       26-Oct-20     \n",
       "13  N121-A160      29131         121               A160       5-Nov-20      \n",
       "14  N123-268       26094         123               268        6-Nov-20      \n",
       "15  N124-218       21315         124               218        6-Nov-20      \n",
       "16  N125-A033      22031         125               A033       6-Nov-20      \n",
       "17  N126-A154      32407         126               A154       6-Nov-20      \n",
       "18  N127-A047      24293         127               A047       6-Nov-20      \n",
       "19  N128-A052      27263         128               A052       6-Nov-20      \n",
       "20  N129-165       27829         129               165        6-Nov-20      \n",
       "21  N135-A190      29717         135               A190       6-Nov-20      \n",
       "22  N139-A014      22795         139               A014       6-Nov-20      \n",
       "23  N140-A086      37881         140               A086       6-Nov-20      \n",
       "24  N141-A103      23261         141               A103       6-Nov-20      \n",
       "25  N142-204       37861         142               204        6-Nov-20      \n",
       "26  N143-A105      51669         143               A105       6-Nov-20      \n",
       "27  N144-A131      46015         144               A131       6-Nov-20      \n",
       "28  N145-A072      32993         145               A072       6-Nov-20      \n",
       "29  N146-A106      65919         146               A106       6-Nov-20      \n",
       "30  N147-269       31930         147               269        6-Nov-20      \n",
       "⋮   ⋮              ⋮             ⋮                 ⋮          ⋮             \n",
       "255 N58-A014       13454         58                A014       30-Oct-20     \n",
       "256 N59-A018       29767         59                A018       30-Oct-20     \n",
       "257 N60-A056       75497         60                A056       30-Oct-20     \n",
       "258 N61-A077       17626         61                A077       30-Oct-20     \n",
       "259 N62-A127       59333         62                A127       30-Oct-20     \n",
       "260 N63-A159       31755         63                A159       30-Oct-20     \n",
       "261 N64-A192       20283         64                A192       30-Oct-20     \n",
       "262 N65-220        22440         65                220        30-Oct-20     \n",
       "263 N66-254         9559         66                254        30-Oct-20     \n",
       "264 N67-262        26391         67                262        30-Oct-20     \n",
       "265 N68-A010       27246         68                A010       30-Oct-20     \n",
       "266 N69-A034       22408         69                A034       30-Oct-20     \n",
       "267 N7-A114        18525          7                A114       21-Oct-20     \n",
       "268 N70-A052       24607         70                A052       30-Oct-20     \n",
       "269 N71-A068       34875         71                A068       30-Oct-20     \n",
       "270 N72-A071       47386         72                A071       30-Oct-20     \n",
       "271 N73-A155       40260         73                A155       30-Oct-20     \n",
       "272 N74-A198       28410         74                A198       30-Oct-20     \n",
       "273 N75-211        30336         75                211        30-Oct-20     \n",
       "274 N76-266        26780         76                266        30-Oct-20     \n",
       "275 N77-282        33935         77                282        30-Oct-20     \n",
       "276 N87-Hom-Dis    17882         87                Hom_Hea    31-Oct-20     \n",
       "277 N87-Hom-Dis-R2 75651         87                Hom_Hea    31-Oct-20     \n",
       "278 N88-Hom-Hea    21207         88                Hom_Dis_R1 31-Oct-20     \n",
       "279 N88-Hom-Hea-R2 35515         88                Hom_Dis_R2 31-Oct-20     \n",
       "280 NEC            32359         NA                NA         NA            \n",
       "281 NTC-1           2054         NA                NA         NA            \n",
       "282 NTC-2           2892         NA                NA         NA            \n",
       "283 NTC-PCR1       22555         NA                NA         NA            \n",
       "284 NTC-PCR2       17711         NA                NA         NA            \n",
       "    Date   TimePoint Replicate Genotype Nursery ⋯ X  estimate   error     \n",
       "1   25-Oct  4        NA        Cooper-9 UM      ⋯ NA 0.08049877 0.02574797\n",
       "2   5-Nov  14        r1_w      Kelsey-1 UM      ⋯ NA 0.08049877 0.02574797\n",
       "3   5-Nov  14        r1_w      Cooper-9 UM      ⋯ NA 0.08049877 0.02574797\n",
       "4   5-Nov  14        r1_w      FM14     FWC     ⋯ NA 0.08049877 0.02574797\n",
       "5   5-Nov  14        r1_w      FM6      FWC     ⋯ NA 0.08049877 0.02574797\n",
       "6   5-Nov  14        r1_w      Acerv2   UM      ⋯ NA 0.08049877 0.02574797\n",
       "7   5-Nov  14        NA        K2       CRF     ⋯ NA 0.08049877 0.02574797\n",
       "8   5-Nov  14        NA        FM19     FWC     ⋯ NA 0.08049877 0.02574797\n",
       "9   5-Nov  14        NA        Kelsey-1 UM      ⋯ NA 0.08049877 0.02574797\n",
       "10  5-Nov  14        NA        Acerv2   UM      ⋯ NA 0.08049877 0.02574797\n",
       "11  5-Nov  14        NA        Kelsey-1 UM      ⋯ NA 0.08049877 0.02574797\n",
       "12  26-Oct  5        NA        Kelsey-1 UM      ⋯ NA 0.08049877 0.02574797\n",
       "13  5-Nov  14        r1_w      K2       CRF     ⋯ NA 0.08049877 0.02574797\n",
       "14  6-Nov  15        NA        FM14     FWC     ⋯ NA 0.08049877 0.02574797\n",
       "15  6-Nov  15        NA        FM9      FWC     ⋯ NA 0.08049877 0.02574797\n",
       "16  6-Nov  15        r1_w      Cooper-9 UM      ⋯ NA 0.08049877 0.02574797\n",
       "17  6-Nov  15        r1_w      K2       CRF     ⋯ NA 0.08049877 0.02574797\n",
       "18  6-Nov  15        r1_w      Acerv2   UM      ⋯ NA 0.08049877 0.02574797\n",
       "19  6-Nov  15        r2_w      Acerv2   UM      ⋯ NA 0.08049877 0.02574797\n",
       "20  6-Nov  15        NA        K2       CRF     ⋯ NA 0.08049877 0.02574797\n",
       "21  6-Nov  15        NA        FM19     FWC     ⋯ NA 0.08049877 0.02574797\n",
       "22  6-Nov  15        NA        Kelsey-1 UM      ⋯ NA 0.08049877 0.02574797\n",
       "23  6-Nov  15        NA        Elkhorn  UM      ⋯ NA 0.08049877 0.02574797\n",
       "24  6-Nov  15        NA        Kelsey-1 UM      ⋯ NA 0.08049877 0.02574797\n",
       "25  6-Nov  15        NA        FM9      FWC     ⋯ NA 0.08049877 0.02574797\n",
       "26  6-Nov  15        r1_w      U44      CRF     ⋯ NA 0.08049877 0.02574797\n",
       "27  6-Nov  15        NA        U44      CRF     ⋯ NA 0.08049877 0.02574797\n",
       "28  6-Nov  15        NA        Elkhorn  UM      ⋯ NA 0.08049877 0.02574797\n",
       "29  6-Nov  15        r1_w      U44      CRF     ⋯ NA 0.08049877 0.02574797\n",
       "30  6-Nov  15        r1_w      FM14     FWC     ⋯ NA 0.08049877 0.02574797\n",
       "⋮   ⋮      ⋮         ⋮         ⋮        ⋮       ⋱ ⋮  ⋮          ⋮         \n",
       "255 30-Oct  8        NA        Kelsey-1 UM      ⋯ NA 0          0         \n",
       "256 30-Oct  8        NA        Cooper-9 UM      ⋯ NA 0          0         \n",
       "257 30-Oct  8        NA        Acerv2   UM      ⋯ NA 0          0         \n",
       "258 30-Oct  8        NA        Elkhorn  UM      ⋯ NA 0          0         \n",
       "259 30-Oct  8        NA        U44      CRF     ⋯ NA 0          0         \n",
       "260 30-Oct  8        NA        K2       CRF     ⋯ NA 0          0         \n",
       "261 30-Oct  8        NA        FM19     FWC     ⋯ NA 0          0         \n",
       "262 30-Oct  8        NA        FM9      FWC     ⋯ NA 0          0         \n",
       "263 30-Oct  8        NA        FM6      FWC     ⋯ NA 0          0         \n",
       "264 30-Oct  8        NA        FM14     FWC     ⋯ NA 0          0         \n",
       "265 30-Oct  8        NA        Kelsey-1 UM      ⋯ NA 0          0         \n",
       "266 30-Oct  8        NA        Cooper-9 UM      ⋯ NA 0          0         \n",
       "267 21-Oct  2        NA        U41      CRF     ⋯ NA 0          0         \n",
       "268 30-Oct  8        NA        Acerv2   UM      ⋯ NA 0          0         \n",
       "269 30-Oct  8        NA        Elkhorn  UM      ⋯ NA 0          0         \n",
       "270 30-Oct  8        NA        U44      CRF     ⋯ NA 0          0         \n",
       "271 30-Oct  8        NA        K2       CRF     ⋯ NA 0          0         \n",
       "272 30-Oct  8        NA        FM19     FWC     ⋯ NA 0          0         \n",
       "273 30-Oct  8        NA        FM9      FWC     ⋯ NA 0          0         \n",
       "274 30-Oct  8        NA        FM6      FWC     ⋯ NA 0          0         \n",
       "275 30-Oct  8        NA        FM14     FWC     ⋯ NA 0          0         \n",
       "276 31-Oct  9        NA        NA       NA      ⋯ NA 0          0         \n",
       "277 31-Oct  9        NA        NA       NA      ⋯ NA 0          0         \n",
       "278 31-Oct  9        NA        NA       NA      ⋯ NA 0          0         \n",
       "279 31-Oct  9        NA        NA       NA      ⋯ NA 0          0         \n",
       "280 NA     NA        NA        NTC      NA      ⋯ NA 0          0         \n",
       "281 NA     NA        NA        NTC      NA      ⋯ NA 0          0         \n",
       "282 NA     NA        NA        NTC      NA      ⋯ NA 0          0         \n",
       "283 NA     NA        NA        NTC      NA      ⋯ NA 0          0         \n",
       "284 NA     NA        NA        NTC      NA      ⋯ NA 0          0         \n",
       "    lower      upper     name   model     Simpson   Shannon  Combo.y        \n",
       "1   0.02900284 0.1319947 DivNet Aitchison 0.9165302 2.688475 NH4_Placebo    \n",
       "2   0.02900284 0.1319947 DivNet Aitchison 0.8581586 2.012614 Ambient_Placebo\n",
       "3   0.02900284 0.1319947 DivNet Aitchison 0.8661112 2.138554 Ambient_Placebo\n",
       "4   0.02900284 0.1319947 DivNet Aitchison 0.8564308 2.007093 Ambient_Placebo\n",
       "5   0.02900284 0.1319947 DivNet Aitchison 0.8528757 1.994060 NH4_Placebo    \n",
       "6   0.02900284 0.1319947 DivNet Aitchison 0.8614911 2.069874 NH4_Placebo    \n",
       "7   0.02900284 0.1319947 DivNet Aitchison 0.8641231 2.106718 NH4_Placebo    \n",
       "8   0.02900284 0.1319947 DivNet Aitchison 0.8670722 2.182338 NH4_Placebo    \n",
       "9   0.02900284 0.1319947 DivNet Aitchison 0.8772497 2.305193 NH4_Placebo    \n",
       "10  0.02900284 0.1319947 DivNet Aitchison 0.8710343 2.209817 NH4_Placebo    \n",
       "11  0.02900284 0.1319947 DivNet Aitchison 0.8738840 2.262411 NH4_Placebo    \n",
       "12  0.02900284 0.1319947 DivNet Aitchison 0.8919527 2.338363 NH4_Placebo    \n",
       "13  0.02900284 0.1319947 DivNet Aitchison 0.8608994 2.027796 Ambient_Placebo\n",
       "14  0.02900284 0.1319947 DivNet Aitchison 0.8626888 2.108032 Ambient_Placebo\n",
       "15  0.02900284 0.1319947 DivNet Aitchison 0.8734675 2.213540 Ambient_Placebo\n",
       "16  0.02900284 0.1319947 DivNet Aitchison 0.8794083 2.240352 Ambient_Placebo\n",
       "17  0.02900284 0.1319947 DivNet Aitchison 0.8591953 2.034485 Ambient_Placebo\n",
       "18  0.02900284 0.1319947 DivNet Aitchison 0.8769562 2.257091 Ambient_Placebo\n",
       "19  0.02900284 0.1319947 DivNet Aitchison 0.8604781 2.046631 NH4_Placebo    \n",
       "20  0.02900284 0.1319947 DivNet Aitchison 0.8546840 1.970259 NH4_Placebo    \n",
       "21  0.02900284 0.1319947 DivNet Aitchison 0.8628781 2.118849 NH4_Placebo    \n",
       "22  0.02900284 0.1319947 DivNet Aitchison 0.8597018 2.015341 NH4_Placebo    \n",
       "23  0.02900284 0.1319947 DivNet Aitchison 0.9651030 4.183327 Ambient_Placebo\n",
       "24  0.02900284 0.1319947 DivNet Aitchison 0.8522556 1.970599 Ambient_Placebo\n",
       "25  0.02900284 0.1319947 DivNet Aitchison 0.8689136 2.198239 NH4_Placebo    \n",
       "26  0.02900284 0.1319947 DivNet Aitchison 0.9819361 4.521814 NH4_Placebo    \n",
       "27  0.02900284 0.1319947 DivNet Aitchison 0.9661917 3.763989 NH4_Placebo    \n",
       "28  0.02900284 0.1319947 DivNet Aitchison 0.8543432 1.971120 NH4_Placebo    \n",
       "29  0.02900284 0.1319947 DivNet Aitchison 0.9883598 4.720199 NH4_Placebo    \n",
       "30  0.02900284 0.1319947 DivNet Aitchison 0.8592710 2.043522 NH4_Placebo    \n",
       "⋮   ⋮          ⋮         ⋮      ⋮         ⋮         ⋮        ⋮              \n",
       "255 0          0         NA     NA        NA        NA       NA             \n",
       "256 0          0         NA     NA        NA        NA       NA             \n",
       "257 0          0         NA     NA        NA        NA       NA             \n",
       "258 0          0         NA     NA        NA        NA       NA             \n",
       "259 0          0         NA     NA        NA        NA       NA             \n",
       "260 0          0         NA     NA        NA        NA       NA             \n",
       "261 0          0         NA     NA        NA        NA       NA             \n",
       "262 0          0         NA     NA        NA        NA       NA             \n",
       "263 0          0         NA     NA        NA        NA       NA             \n",
       "264 0          0         NA     NA        NA        NA       NA             \n",
       "265 0          0         NA     NA        NA        NA       NA             \n",
       "266 0          0         NA     NA        NA        NA       NA             \n",
       "267 0          0         NA     NA        NA        NA       NA             \n",
       "268 0          0         NA     NA        NA        NA       NA             \n",
       "269 0          0         NA     NA        NA        NA       NA             \n",
       "270 0          0         NA     NA        NA        NA       NA             \n",
       "271 0          0         NA     NA        NA        NA       NA             \n",
       "272 0          0         NA     NA        NA        NA       NA             \n",
       "273 0          0         NA     NA        NA        NA       NA             \n",
       "274 0          0         NA     NA        NA        NA       NA             \n",
       "275 0          0         NA     NA        NA        NA       NA             \n",
       "276 0          0         NA     NA        NA        NA       NA             \n",
       "277 0          0         NA     NA        NA        NA       NA             \n",
       "278 0          0         NA     NA        NA        NA       NA             \n",
       "279 0          0         NA     NA        NA        NA       NA             \n",
       "280 0          0         NA     NA        NA        NA       NA             \n",
       "281 0          0         NA     NA        NA        NA       NA             \n",
       "282 0          0         NA     NA        NA        NA       NA             \n",
       "283 0          0         NA     NA        NA        NA       NA             \n",
       "284 0          0         NA     NA        NA        NA       NA             "
      ]
     },
     "metadata": {},
     "output_type": "display_data"
    }
   ],
   "source": [
    "combined_shannon_rare <- meta %>%\n",
    "  left_join(adiv,\n",
    "            by = \"sample_names\")\n",
    "combined_shannon_rare"
   ]
  },
  {
   "cell_type": "code",
   "execution_count": 90,
   "id": "2a3af60e",
   "metadata": {},
   "outputs": [],
   "source": [
    "write.csv(combined_shannon_rare, \n",
    "       \"/Users/stephanie.rosales/Documents/omics_projects/Resitada/combined_shannon_rare.csv\")"
   ]
  },
  {
   "cell_type": "code",
   "execution_count": 91,
   "id": "799dfc07",
   "metadata": {},
   "outputs": [
    {
     "data": {
      "text/html": [
       "<style>\n",
       ".list-inline {list-style: none; margin:0; padding: 0}\n",
       ".list-inline>li {display: inline-block}\n",
       ".list-inline>li:not(:last-child)::after {content: \"\\00b7\"; padding: 0 .5ex}\n",
       "</style>\n",
       "<ol class=list-inline><li>284</li><li>53</li></ol>\n"
      ],
      "text/latex": [
       "\\begin{enumerate*}\n",
       "\\item 284\n",
       "\\item 53\n",
       "\\end{enumerate*}\n"
      ],
      "text/markdown": [
       "1. 284\n",
       "2. 53\n",
       "\n",
       "\n"
      ],
      "text/plain": [
       "[1] 284  53"
      ]
     },
     "metadata": {},
     "output_type": "display_data"
    },
    {
     "data": {
      "text/html": [
       "<style>\n",
       ".list-inline {list-style: none; margin:0; padding: 0}\n",
       ".list-inline>li {display: inline-block}\n",
       ".list-inline>li:not(:last-child)::after {content: \"\\00b7\"; padding: 0 .5ex}\n",
       "</style>\n",
       "<ol class=list-inline><li>192</li><li>53</li></ol>\n"
      ],
      "text/latex": [
       "\\begin{enumerate*}\n",
       "\\item 192\n",
       "\\item 53\n",
       "\\end{enumerate*}\n"
      ],
      "text/markdown": [
       "1. 192\n",
       "2. 53\n",
       "\n",
       "\n"
      ],
      "text/plain": [
       "[1] 192  53"
      ]
     },
     "metadata": {},
     "output_type": "display_data"
    }
   ],
   "source": [
    "meta = read.csv(\"/Users/stephanie.rosales/Documents/omics_projects/Resitada/metadata_RESISTADA.csv\", \n",
    "                header = T, row.names = 1,\n",
    "na.strings = c(\"\", \"NA\"))\n",
    "dim(meta)\n",
    "\n",
    "meta1 = meta %>%\n",
    "filter(estimate>0)\n",
    "dim(meta1)"
   ]
  },
  {
   "cell_type": "code",
   "execution_count": 97,
   "id": "b1bb550e",
   "metadata": {},
   "outputs": [
    {
     "data": {
      "text/html": [
       "<style>\n",
       ".list-inline {list-style: none; margin:0; padding: 0}\n",
       ".list-inline>li {display: inline-block}\n",
       ".list-inline>li:not(:last-child)::after {content: \"\\00b7\"; padding: 0 .5ex}\n",
       "</style>\n",
       "<ol class=list-inline><li>42</li><li>53</li></ol>\n"
      ],
      "text/latex": [
       "\\begin{enumerate*}\n",
       "\\item 42\n",
       "\\item 53\n",
       "\\end{enumerate*}\n"
      ],
      "text/markdown": [
       "1. 42\n",
       "2. 53\n",
       "\n",
       "\n"
      ],
      "text/plain": [
       "[1] 42 53"
      ]
     },
     "metadata": {},
     "output_type": "display_data"
    },
    {
     "data": {
      "text/plain": [
       "Linear mixed model fit by REML ['lmerMod']\n",
       "Formula: Shannon ~ -1 + Genotype + (1 | Tag)\n",
       "   Data: ambient_PL\n",
       "\n",
       "REML criterion at convergence: 72\n",
       "\n",
       "Scaled residuals: \n",
       "     Min       1Q   Median       3Q      Max \n",
       "-1.93147 -0.34144 -0.04795  0.15992  2.01281 \n",
       "\n",
       "Random effects:\n",
       " Groups   Name        Variance Std.Dev.\n",
       " Tag      (Intercept) 0.04976  0.2231  \n",
       " Residual             0.31996  0.5657  \n",
       "Number of obs: 42, groups:  Tag, 28\n",
       "\n",
       "Fixed effects:\n",
       "                 Estimate Std. Error t value\n",
       "GenotypeAcerv2     2.2517     0.2644   8.516\n",
       "GenotypeCooper-9   2.3529     0.2858   8.232\n",
       "GenotypeElkhorn    2.8677     0.3658   7.839\n",
       "GenotypeFM14       2.0729     0.3135   6.613\n",
       "GenotypeFM19       2.2989     0.3511   6.548\n",
       "GenotypeFM6        2.5028     0.3511   7.129\n",
       "GenotypeFM9        2.3127     0.3511   6.588\n",
       "GenotypeK2         2.4676     0.3238   7.620\n",
       "GenotypeKelsey-1   2.4936     0.2858   8.724\n",
       "GenotypeU44        4.1400     0.2644  15.657\n",
       "\n",
       "Correlation of Fixed Effects:\n",
       "            GntyA2 GntC-9 GntypE GnFM14 GnFM19 GntFM6 GntFM9 GntyK2 GntK-1\n",
       "GentypCpr-9 0.000                                                         \n",
       "GntypElkhrn 0.000  0.000                                                  \n",
       "GenotypFM14 0.000  0.000  0.000                                           \n",
       "GenotypFM19 0.000  0.000  0.000  0.000                                    \n",
       "GenotypeFM6 0.000  0.000  0.000  0.000  0.000                             \n",
       "GenotypeFM9 0.000  0.000  0.000  0.000  0.000  0.000                      \n",
       "GenotypeK2  0.000  0.000  0.000  0.000  0.000  0.000  0.000               \n",
       "GntypKlsy-1 0.000  0.000  0.000  0.000  0.000  0.000  0.000  0.000        \n",
       "GenotypeU44 0.000  0.000  0.000  0.000  0.000  0.000  0.000  0.000  0.000 "
      ]
     },
     "metadata": {},
     "output_type": "display_data"
    },
    {
     "data": {
      "text/plain": [
       "$emmeans\n",
       " Genotype emmean    SE   df lower.CL upper.CL\n",
       " Acerv2     2.25 0.264 10.9     1.67     2.83\n",
       " Cooper-9   2.35 0.289 13.7     1.73     2.97\n",
       " Elkhorn    2.87 0.372 15.9     2.08     3.66\n",
       " FM14       2.07 0.319 19.0     1.41     2.74\n",
       " FM19       2.30 0.351 28.8     1.58     3.02\n",
       " FM6        2.50 0.351 28.8     1.78     3.22\n",
       " FM9        2.31 0.351 28.8     1.59     3.03\n",
       " K2         2.47 0.324 10.9     1.75     3.18\n",
       " Kelsey-1   2.49 0.289 13.7     1.87     3.12\n",
       " U44        4.14 0.264 10.9     3.56     4.72\n",
       "\n",
       "Degrees-of-freedom method: kenward-roger \n",
       "Confidence level used: 0.95 \n",
       "\n",
       "$contrasts\n",
       " contrast                estimate    SE   df t.ratio p.value\n",
       " Acerv2 - (Cooper-9)     -0.10114 0.392 12.3  -0.258  1.0000\n",
       " Acerv2 - Elkhorn        -0.61597 0.456 13.9  -1.350  0.9238\n",
       " Acerv2 - FM14            0.17885 0.414 15.0   0.432  1.0000\n",
       " Acerv2 - FM19           -0.04717 0.439 21.1  -0.107  1.0000\n",
       " Acerv2 - FM6            -0.25110 0.439 21.1  -0.571  0.9998\n",
       " Acerv2 - FM9            -0.06100 0.439 21.1  -0.139  1.0000\n",
       " Acerv2 - K2             -0.21591 0.418 10.9  -0.516  0.9999\n",
       " Acerv2 - (Kelsey-1)     -0.24192 0.392 12.3  -0.617  0.9996\n",
       " Acerv2 - U44            -1.88829 0.374 10.9  -5.050  0.0088\n",
       " (Cooper-9) - Elkhorn    -0.51483 0.471 15.0  -1.093  0.9780\n",
       " (Cooper-9) - FM14        0.27999 0.431 16.4   0.650  0.9995\n",
       " (Cooper-9) - FM19        0.05397 0.455 22.3   0.119  1.0000\n",
       " (Cooper-9) - FM6        -0.14996 0.455 22.3  -0.330  1.0000\n",
       " (Cooper-9) - FM9         0.04014 0.455 22.3   0.088  1.0000\n",
       " (Cooper-9) - K2         -0.11477 0.434 12.0  -0.264  1.0000\n",
       " (Cooper-9) - (Kelsey-1) -0.14078 0.409 13.7  -0.344  1.0000\n",
       " (Cooper-9) - U44        -1.78715 0.392 12.3  -4.560  0.0144\n",
       " Elkhorn - FM14           0.79483 0.490 17.1   1.623  0.8205\n",
       " Elkhorn - FM19           0.56881 0.511 21.8   1.112  0.9779\n",
       " Elkhorn - FM6            0.36487 0.511 21.8   0.714  0.9991\n",
       " Elkhorn - FM9            0.55497 0.511 21.8   1.085  0.9812\n",
       " Elkhorn - K2             0.40007 0.493 13.4   0.811  0.9970\n",
       " Elkhorn - (Kelsey-1)     0.37406 0.471 15.0   0.794  0.9976\n",
       " Elkhorn - U44           -1.27232 0.456 13.9  -2.789  0.2288\n",
       " FM14 - FM19             -0.22602 0.474 24.5  -0.477  1.0000\n",
       " FM14 - FM6              -0.42995 0.474 24.5  -0.907  0.9947\n",
       " FM14 - FM9              -0.23985 0.474 24.5  -0.506  0.9999\n",
       " FM14 - K2               -0.39476 0.455 14.2  -0.869  0.9952\n",
       " FM14 - (Kelsey-1)       -0.42077 0.431 16.4  -0.977  0.9898\n",
       " FM14 - U44              -2.06714 0.414 15.0  -4.990  0.0045\n",
       " FM19 - FM6              -0.20393 0.496 28.8  -0.411  1.0000\n",
       " FM19 - FM9              -0.01384 0.496 28.8  -0.028  1.0000\n",
       " FM19 - K2               -0.16874 0.478 19.1  -0.353  1.0000\n",
       " FM19 - (Kelsey-1)       -0.19475 0.455 22.3  -0.428  1.0000\n",
       " FM19 - U44              -1.84112 0.439 21.1  -4.189  0.0118\n",
       " FM6 - FM9                0.19010 0.496 28.8   0.383  1.0000\n",
       " FM6 - K2                 0.03519 0.478 19.1   0.074  1.0000\n",
       " FM6 - (Kelsey-1)         0.00918 0.455 22.3   0.020  1.0000\n",
       " FM6 - U44               -1.63719 0.439 21.1  -3.725  0.0325\n",
       " FM9 - K2                -0.15491 0.478 19.1  -0.324  1.0000\n",
       " FM9 - (Kelsey-1)        -0.18092 0.455 22.3  -0.398  1.0000\n",
       " FM9 - U44               -1.82729 0.439 21.1  -4.158  0.0127\n",
       " K2 - (Kelsey-1)         -0.02601 0.434 12.0  -0.060  1.0000\n",
       " K2 - U44                -1.67238 0.418 10.9  -4.000  0.0422\n",
       " (Kelsey-1) - U44        -1.64637 0.392 12.3  -4.201  0.0259\n",
       "\n",
       "Degrees-of-freedom method: kenward-roger \n",
       "P value adjustment: tukey method for comparing a family of 10 estimates \n"
      ]
     },
     "metadata": {},
     "output_type": "display_data"
    }
   ],
   "source": [
    "ambient_PL= meta1 %>%\n",
    "filter(Nutrients == \"Ambient\", Diseased==\"Placebo\", )\n",
    "\n",
    "dim(ambient_PL)\n",
    "\n",
    "\n",
    "mixed.lmer_geno <- lmer(Shannon ~ -1 + Genotype + (1|Tag) , data =ambient_PL)\n",
    "summary(mixed.lmer_geno)\n",
    "\n",
    "emmeans(mixed.lmer_geno, pairwise ~ -1 + Genotype, adjust=\"tukey\")"
   ]
  },
  {
   "cell_type": "code",
   "execution_count": 98,
   "id": "5a0a74f6",
   "metadata": {},
   "outputs": [
    {
     "data": {
      "text/html": [
       "<style>\n",
       ".list-inline {list-style: none; margin:0; padding: 0}\n",
       ".list-inline>li {display: inline-block}\n",
       ".list-inline>li:not(:last-child)::after {content: \"\\00b7\"; padding: 0 .5ex}\n",
       "</style>\n",
       "<ol class=list-inline><li>106</li><li>53</li></ol>\n"
      ],
      "text/latex": [
       "\\begin{enumerate*}\n",
       "\\item 106\n",
       "\\item 53\n",
       "\\end{enumerate*}\n"
      ],
      "text/markdown": [
       "1. 106\n",
       "2. 53\n",
       "\n",
       "\n"
      ],
      "text/plain": [
       "[1] 106  53"
      ]
     },
     "metadata": {},
     "output_type": "display_data"
    },
    {
     "data": {
      "text/html": [
       "<style>\n",
       ".list-inline {list-style: none; margin:0; padding: 0}\n",
       ".list-inline>li {display: inline-block}\n",
       ".list-inline>li:not(:last-child)::after {content: \"\\00b7\"; padding: 0 .5ex}\n",
       "</style>\n",
       "<ol class=list-inline><li>'Ambient_Placebo'</li><li>'NH4_Placebo'</li><li>'NH4_Placebo'</li><li>'NH4_Placebo'</li><li>'Ambient_Placebo'</li><li>'NH4_Placebo'</li><li>'NH4_Placebo'</li><li>'Ambient_Placebo'</li><li>'Ambient_Placebo'</li><li>'NH4_Placebo'</li><li>'Ambient_Placebo'</li><li>'NH4_Placebo'</li><li>'NH4_Placebo'</li><li>'NH4_Placebo'</li><li>'Ambient_Placebo'</li><li>'NH4_Placebo'</li><li>'Ambient_Placebo'</li><li>'NH4_Placebo'</li><li>'Ambient_Placebo'</li><li>'Ambient_Placebo'</li><li>'NH4_Placebo'</li><li>'Ambient_Placebo'</li><li>'NH4_Placebo'</li><li>'NH4_Placebo'</li><li>'Ambient_Placebo'</li><li>'Ambient_Placebo'</li><li>'NH4_Placebo'</li><li>'Ambient_Placebo'</li><li>'Ambient_Placebo'</li><li>'Ambient_Placebo'</li><li>'Ambient_Placebo'</li><li>'NH4_Placebo'</li><li>'NH4_Placebo'</li><li>'NH4_Placebo'</li><li>'NH4_Placebo'</li><li>'NH4_Placebo'</li><li>'Ambient_Placebo'</li><li>'Ambient_Placebo'</li><li>'Ambient_Placebo'</li><li>'NH4_Placebo'</li><li>'NH4_Placebo'</li><li>'Ambient_Placebo'</li><li>'Ambient_Placebo'</li><li>'NH4_Placebo'</li><li>'Ambient_Placebo'</li><li>'Ambient_Placebo'</li><li>'Ambient_Placebo'</li><li>'NH4_Placebo'</li><li>'NH4_Placebo'</li><li>'NH4_Placebo'</li><li>'NH4_Placebo'</li><li>'NH4_Placebo'</li><li>'NH4_Placebo'</li><li>'NH4_Placebo'</li><li>'Ambient_Placebo'</li><li>'NH4_Placebo'</li><li>'NH4_Placebo'</li><li>'NH4_Placebo'</li><li>'NH4_Placebo'</li><li>'NH4_Placebo'</li><li>'Ambient_Placebo'</li><li>'Ambient_Placebo'</li><li>'NH4_Placebo'</li><li>'NH4_Placebo'</li><li>'NH4_Placebo'</li><li>'NH4_Placebo'</li><li>'NH4_Placebo'</li><li>'NH4_Placebo'</li><li>'Ambient_Placebo'</li><li>'NH4_Placebo'</li><li>'NH4_Placebo'</li><li>'NH4_Placebo'</li><li>'Ambient_Placebo'</li><li>'NH4_Placebo'</li><li>'NH4_Placebo'</li><li>'NH4_Placebo'</li><li>'Ambient_Placebo'</li><li>'NH4_Placebo'</li><li>'Ambient_Placebo'</li><li>'Ambient_Placebo'</li><li>'Ambient_Placebo'</li><li>'NH4_Placebo'</li><li>'NH4_Placebo'</li><li>'NH4_Placebo'</li><li>'NH4_Placebo'</li><li>'Ambient_Placebo'</li><li>'NH4_Placebo'</li><li>'Ambient_Placebo'</li><li>'Ambient_Placebo'</li><li>'Ambient_Placebo'</li><li>'NH4_Placebo'</li><li>'Ambient_Placebo'</li><li>'Ambient_Placebo'</li><li>'NH4_Placebo'</li><li>'NH4_Placebo'</li><li>'NH4_Placebo'</li><li>'Ambient_Placebo'</li><li>'NH4_Placebo'</li><li>'NH4_Placebo'</li><li>'NH4_Placebo'</li><li>'NH4_Placebo'</li><li>'NH4_Placebo'</li><li>'NH4_Placebo'</li><li>'Ambient_Placebo'</li><li>'Ambient_Placebo'</li><li>'NH4_Placebo'</li></ol>\n"
      ],
      "text/latex": [
       "\\begin{enumerate*}\n",
       "\\item 'Ambient\\_Placebo'\n",
       "\\item 'NH4\\_Placebo'\n",
       "\\item 'NH4\\_Placebo'\n",
       "\\item 'NH4\\_Placebo'\n",
       "\\item 'Ambient\\_Placebo'\n",
       "\\item 'NH4\\_Placebo'\n",
       "\\item 'NH4\\_Placebo'\n",
       "\\item 'Ambient\\_Placebo'\n",
       "\\item 'Ambient\\_Placebo'\n",
       "\\item 'NH4\\_Placebo'\n",
       "\\item 'Ambient\\_Placebo'\n",
       "\\item 'NH4\\_Placebo'\n",
       "\\item 'NH4\\_Placebo'\n",
       "\\item 'NH4\\_Placebo'\n",
       "\\item 'Ambient\\_Placebo'\n",
       "\\item 'NH4\\_Placebo'\n",
       "\\item 'Ambient\\_Placebo'\n",
       "\\item 'NH4\\_Placebo'\n",
       "\\item 'Ambient\\_Placebo'\n",
       "\\item 'Ambient\\_Placebo'\n",
       "\\item 'NH4\\_Placebo'\n",
       "\\item 'Ambient\\_Placebo'\n",
       "\\item 'NH4\\_Placebo'\n",
       "\\item 'NH4\\_Placebo'\n",
       "\\item 'Ambient\\_Placebo'\n",
       "\\item 'Ambient\\_Placebo'\n",
       "\\item 'NH4\\_Placebo'\n",
       "\\item 'Ambient\\_Placebo'\n",
       "\\item 'Ambient\\_Placebo'\n",
       "\\item 'Ambient\\_Placebo'\n",
       "\\item 'Ambient\\_Placebo'\n",
       "\\item 'NH4\\_Placebo'\n",
       "\\item 'NH4\\_Placebo'\n",
       "\\item 'NH4\\_Placebo'\n",
       "\\item 'NH4\\_Placebo'\n",
       "\\item 'NH4\\_Placebo'\n",
       "\\item 'Ambient\\_Placebo'\n",
       "\\item 'Ambient\\_Placebo'\n",
       "\\item 'Ambient\\_Placebo'\n",
       "\\item 'NH4\\_Placebo'\n",
       "\\item 'NH4\\_Placebo'\n",
       "\\item 'Ambient\\_Placebo'\n",
       "\\item 'Ambient\\_Placebo'\n",
       "\\item 'NH4\\_Placebo'\n",
       "\\item 'Ambient\\_Placebo'\n",
       "\\item 'Ambient\\_Placebo'\n",
       "\\item 'Ambient\\_Placebo'\n",
       "\\item 'NH4\\_Placebo'\n",
       "\\item 'NH4\\_Placebo'\n",
       "\\item 'NH4\\_Placebo'\n",
       "\\item 'NH4\\_Placebo'\n",
       "\\item 'NH4\\_Placebo'\n",
       "\\item 'NH4\\_Placebo'\n",
       "\\item 'NH4\\_Placebo'\n",
       "\\item 'Ambient\\_Placebo'\n",
       "\\item 'NH4\\_Placebo'\n",
       "\\item 'NH4\\_Placebo'\n",
       "\\item 'NH4\\_Placebo'\n",
       "\\item 'NH4\\_Placebo'\n",
       "\\item 'NH4\\_Placebo'\n",
       "\\item 'Ambient\\_Placebo'\n",
       "\\item 'Ambient\\_Placebo'\n",
       "\\item 'NH4\\_Placebo'\n",
       "\\item 'NH4\\_Placebo'\n",
       "\\item 'NH4\\_Placebo'\n",
       "\\item 'NH4\\_Placebo'\n",
       "\\item 'NH4\\_Placebo'\n",
       "\\item 'NH4\\_Placebo'\n",
       "\\item 'Ambient\\_Placebo'\n",
       "\\item 'NH4\\_Placebo'\n",
       "\\item 'NH4\\_Placebo'\n",
       "\\item 'NH4\\_Placebo'\n",
       "\\item 'Ambient\\_Placebo'\n",
       "\\item 'NH4\\_Placebo'\n",
       "\\item 'NH4\\_Placebo'\n",
       "\\item 'NH4\\_Placebo'\n",
       "\\item 'Ambient\\_Placebo'\n",
       "\\item 'NH4\\_Placebo'\n",
       "\\item 'Ambient\\_Placebo'\n",
       "\\item 'Ambient\\_Placebo'\n",
       "\\item 'Ambient\\_Placebo'\n",
       "\\item 'NH4\\_Placebo'\n",
       "\\item 'NH4\\_Placebo'\n",
       "\\item 'NH4\\_Placebo'\n",
       "\\item 'NH4\\_Placebo'\n",
       "\\item 'Ambient\\_Placebo'\n",
       "\\item 'NH4\\_Placebo'\n",
       "\\item 'Ambient\\_Placebo'\n",
       "\\item 'Ambient\\_Placebo'\n",
       "\\item 'Ambient\\_Placebo'\n",
       "\\item 'NH4\\_Placebo'\n",
       "\\item 'Ambient\\_Placebo'\n",
       "\\item 'Ambient\\_Placebo'\n",
       "\\item 'NH4\\_Placebo'\n",
       "\\item 'NH4\\_Placebo'\n",
       "\\item 'NH4\\_Placebo'\n",
       "\\item 'Ambient\\_Placebo'\n",
       "\\item 'NH4\\_Placebo'\n",
       "\\item 'NH4\\_Placebo'\n",
       "\\item 'NH4\\_Placebo'\n",
       "\\item 'NH4\\_Placebo'\n",
       "\\item 'NH4\\_Placebo'\n",
       "\\item 'NH4\\_Placebo'\n",
       "\\item 'Ambient\\_Placebo'\n",
       "\\item 'Ambient\\_Placebo'\n",
       "\\item 'NH4\\_Placebo'\n",
       "\\end{enumerate*}\n"
      ],
      "text/markdown": [
       "1. 'Ambient_Placebo'\n",
       "2. 'NH4_Placebo'\n",
       "3. 'NH4_Placebo'\n",
       "4. 'NH4_Placebo'\n",
       "5. 'Ambient_Placebo'\n",
       "6. 'NH4_Placebo'\n",
       "7. 'NH4_Placebo'\n",
       "8. 'Ambient_Placebo'\n",
       "9. 'Ambient_Placebo'\n",
       "10. 'NH4_Placebo'\n",
       "11. 'Ambient_Placebo'\n",
       "12. 'NH4_Placebo'\n",
       "13. 'NH4_Placebo'\n",
       "14. 'NH4_Placebo'\n",
       "15. 'Ambient_Placebo'\n",
       "16. 'NH4_Placebo'\n",
       "17. 'Ambient_Placebo'\n",
       "18. 'NH4_Placebo'\n",
       "19. 'Ambient_Placebo'\n",
       "20. 'Ambient_Placebo'\n",
       "21. 'NH4_Placebo'\n",
       "22. 'Ambient_Placebo'\n",
       "23. 'NH4_Placebo'\n",
       "24. 'NH4_Placebo'\n",
       "25. 'Ambient_Placebo'\n",
       "26. 'Ambient_Placebo'\n",
       "27. 'NH4_Placebo'\n",
       "28. 'Ambient_Placebo'\n",
       "29. 'Ambient_Placebo'\n",
       "30. 'Ambient_Placebo'\n",
       "31. 'Ambient_Placebo'\n",
       "32. 'NH4_Placebo'\n",
       "33. 'NH4_Placebo'\n",
       "34. 'NH4_Placebo'\n",
       "35. 'NH4_Placebo'\n",
       "36. 'NH4_Placebo'\n",
       "37. 'Ambient_Placebo'\n",
       "38. 'Ambient_Placebo'\n",
       "39. 'Ambient_Placebo'\n",
       "40. 'NH4_Placebo'\n",
       "41. 'NH4_Placebo'\n",
       "42. 'Ambient_Placebo'\n",
       "43. 'Ambient_Placebo'\n",
       "44. 'NH4_Placebo'\n",
       "45. 'Ambient_Placebo'\n",
       "46. 'Ambient_Placebo'\n",
       "47. 'Ambient_Placebo'\n",
       "48. 'NH4_Placebo'\n",
       "49. 'NH4_Placebo'\n",
       "50. 'NH4_Placebo'\n",
       "51. 'NH4_Placebo'\n",
       "52. 'NH4_Placebo'\n",
       "53. 'NH4_Placebo'\n",
       "54. 'NH4_Placebo'\n",
       "55. 'Ambient_Placebo'\n",
       "56. 'NH4_Placebo'\n",
       "57. 'NH4_Placebo'\n",
       "58. 'NH4_Placebo'\n",
       "59. 'NH4_Placebo'\n",
       "60. 'NH4_Placebo'\n",
       "61. 'Ambient_Placebo'\n",
       "62. 'Ambient_Placebo'\n",
       "63. 'NH4_Placebo'\n",
       "64. 'NH4_Placebo'\n",
       "65. 'NH4_Placebo'\n",
       "66. 'NH4_Placebo'\n",
       "67. 'NH4_Placebo'\n",
       "68. 'NH4_Placebo'\n",
       "69. 'Ambient_Placebo'\n",
       "70. 'NH4_Placebo'\n",
       "71. 'NH4_Placebo'\n",
       "72. 'NH4_Placebo'\n",
       "73. 'Ambient_Placebo'\n",
       "74. 'NH4_Placebo'\n",
       "75. 'NH4_Placebo'\n",
       "76. 'NH4_Placebo'\n",
       "77. 'Ambient_Placebo'\n",
       "78. 'NH4_Placebo'\n",
       "79. 'Ambient_Placebo'\n",
       "80. 'Ambient_Placebo'\n",
       "81. 'Ambient_Placebo'\n",
       "82. 'NH4_Placebo'\n",
       "83. 'NH4_Placebo'\n",
       "84. 'NH4_Placebo'\n",
       "85. 'NH4_Placebo'\n",
       "86. 'Ambient_Placebo'\n",
       "87. 'NH4_Placebo'\n",
       "88. 'Ambient_Placebo'\n",
       "89. 'Ambient_Placebo'\n",
       "90. 'Ambient_Placebo'\n",
       "91. 'NH4_Placebo'\n",
       "92. 'Ambient_Placebo'\n",
       "93. 'Ambient_Placebo'\n",
       "94. 'NH4_Placebo'\n",
       "95. 'NH4_Placebo'\n",
       "96. 'NH4_Placebo'\n",
       "97. 'Ambient_Placebo'\n",
       "98. 'NH4_Placebo'\n",
       "99. 'NH4_Placebo'\n",
       "100. 'NH4_Placebo'\n",
       "101. 'NH4_Placebo'\n",
       "102. 'NH4_Placebo'\n",
       "103. 'NH4_Placebo'\n",
       "104. 'Ambient_Placebo'\n",
       "105. 'Ambient_Placebo'\n",
       "106. 'NH4_Placebo'\n",
       "\n",
       "\n"
      ],
      "text/plain": [
       "  [1] \"Ambient_Placebo\" \"NH4_Placebo\"     \"NH4_Placebo\"     \"NH4_Placebo\"    \n",
       "  [5] \"Ambient_Placebo\" \"NH4_Placebo\"     \"NH4_Placebo\"     \"Ambient_Placebo\"\n",
       "  [9] \"Ambient_Placebo\" \"NH4_Placebo\"     \"Ambient_Placebo\" \"NH4_Placebo\"    \n",
       " [13] \"NH4_Placebo\"     \"NH4_Placebo\"     \"Ambient_Placebo\" \"NH4_Placebo\"    \n",
       " [17] \"Ambient_Placebo\" \"NH4_Placebo\"     \"Ambient_Placebo\" \"Ambient_Placebo\"\n",
       " [21] \"NH4_Placebo\"     \"Ambient_Placebo\" \"NH4_Placebo\"     \"NH4_Placebo\"    \n",
       " [25] \"Ambient_Placebo\" \"Ambient_Placebo\" \"NH4_Placebo\"     \"Ambient_Placebo\"\n",
       " [29] \"Ambient_Placebo\" \"Ambient_Placebo\" \"Ambient_Placebo\" \"NH4_Placebo\"    \n",
       " [33] \"NH4_Placebo\"     \"NH4_Placebo\"     \"NH4_Placebo\"     \"NH4_Placebo\"    \n",
       " [37] \"Ambient_Placebo\" \"Ambient_Placebo\" \"Ambient_Placebo\" \"NH4_Placebo\"    \n",
       " [41] \"NH4_Placebo\"     \"Ambient_Placebo\" \"Ambient_Placebo\" \"NH4_Placebo\"    \n",
       " [45] \"Ambient_Placebo\" \"Ambient_Placebo\" \"Ambient_Placebo\" \"NH4_Placebo\"    \n",
       " [49] \"NH4_Placebo\"     \"NH4_Placebo\"     \"NH4_Placebo\"     \"NH4_Placebo\"    \n",
       " [53] \"NH4_Placebo\"     \"NH4_Placebo\"     \"Ambient_Placebo\" \"NH4_Placebo\"    \n",
       " [57] \"NH4_Placebo\"     \"NH4_Placebo\"     \"NH4_Placebo\"     \"NH4_Placebo\"    \n",
       " [61] \"Ambient_Placebo\" \"Ambient_Placebo\" \"NH4_Placebo\"     \"NH4_Placebo\"    \n",
       " [65] \"NH4_Placebo\"     \"NH4_Placebo\"     \"NH4_Placebo\"     \"NH4_Placebo\"    \n",
       " [69] \"Ambient_Placebo\" \"NH4_Placebo\"     \"NH4_Placebo\"     \"NH4_Placebo\"    \n",
       " [73] \"Ambient_Placebo\" \"NH4_Placebo\"     \"NH4_Placebo\"     \"NH4_Placebo\"    \n",
       " [77] \"Ambient_Placebo\" \"NH4_Placebo\"     \"Ambient_Placebo\" \"Ambient_Placebo\"\n",
       " [81] \"Ambient_Placebo\" \"NH4_Placebo\"     \"NH4_Placebo\"     \"NH4_Placebo\"    \n",
       " [85] \"NH4_Placebo\"     \"Ambient_Placebo\" \"NH4_Placebo\"     \"Ambient_Placebo\"\n",
       " [89] \"Ambient_Placebo\" \"Ambient_Placebo\" \"NH4_Placebo\"     \"Ambient_Placebo\"\n",
       " [93] \"Ambient_Placebo\" \"NH4_Placebo\"     \"NH4_Placebo\"     \"NH4_Placebo\"    \n",
       " [97] \"Ambient_Placebo\" \"NH4_Placebo\"     \"NH4_Placebo\"     \"NH4_Placebo\"    \n",
       "[101] \"NH4_Placebo\"     \"NH4_Placebo\"     \"NH4_Placebo\"     \"Ambient_Placebo\"\n",
       "[105] \"Ambient_Placebo\" \"NH4_Placebo\"    "
      ]
     },
     "metadata": {},
     "output_type": "display_data"
    },
    {
     "data": {
      "text/plain": [
       "Linear mixed model fit by REML ['lmerMod']\n",
       "Formula: Shannon ~ Nutrients + (1 | Tag:Genotype)\n",
       "   Data: PLac\n",
       "\n",
       "REML criterion at convergence: 250.2\n",
       "\n",
       "Scaled residuals: \n",
       "    Min      1Q  Median      3Q     Max \n",
       "-1.7018 -0.3023 -0.1974  0.0831  2.5950 \n",
       "\n",
       "Random effects:\n",
       " Groups       Name        Variance Std.Dev.\n",
       " Tag:Genotype (Intercept) 0.4979   0.7056  \n",
       " Residual                 0.2098   0.4581  \n",
       "Number of obs: 106, groups:  Tag:Genotype, 82\n",
       "\n",
       "Fixed effects:\n",
       "             Estimate Std. Error t value\n",
       "(Intercept)   2.59733    0.15249  17.033\n",
       "NutrientsNH4  0.02916    0.18961   0.154\n",
       "\n",
       "Correlation of Fixed Effects:\n",
       "            (Intr)\n",
       "NutrintsNH4 -0.804"
      ]
     },
     "metadata": {},
     "output_type": "display_data"
    },
    {
     "data": {
      "text/plain": [
       "$emmeans\n",
       " Nutrients emmean    SE   df lower.CL upper.CL\n",
       " Ambient     2.60 0.153 73.9     2.29     2.90\n",
       " NH4         2.63 0.113 82.5     2.40     2.85\n",
       "\n",
       "Degrees-of-freedom method: kenward-roger \n",
       "Confidence level used: 0.95 \n",
       "\n",
       "$contrasts\n",
       " contrast      estimate   SE   df t.ratio p.value\n",
       " Ambient - NH4  -0.0292 0.19 76.9  -0.154  0.8783\n",
       "\n",
       "Degrees-of-freedom method: kenward-roger \n"
      ]
     },
     "metadata": {},
     "output_type": "display_data"
    }
   ],
   "source": [
    "PLac= meta1 %>%\n",
    "filter(Diseased==\"Placebo\")\n",
    "\n",
    "dim(PLac)\n",
    "\n",
    "PLac$Combo\n",
    "\n",
    "\n",
    "mixed.lmer_TT <- lmer(Shannon~ Nutrients + (1|Tag:Genotype), data =PLac)\n",
    "summary(mixed.lmer_TT)\n",
    "emmeans(mixed.lmer_TT, pairwise ~ -1 + Nutrients, adjust=\"tukey\")"
   ]
  },
  {
   "cell_type": "code",
   "execution_count": 95,
   "id": "320e7e0c",
   "metadata": {},
   "outputs": [
    {
     "data": {
      "text/html": [
       "<style>\n",
       ".list-inline {list-style: none; margin:0; padding: 0}\n",
       ".list-inline>li {display: inline-block}\n",
       ".list-inline>li:not(:last-child)::after {content: \"\\00b7\"; padding: 0 .5ex}\n",
       "</style>\n",
       "<ol class=list-inline><li>135</li><li>53</li></ol>\n"
      ],
      "text/latex": [
       "\\begin{enumerate*}\n",
       "\\item 135\n",
       "\\item 53\n",
       "\\end{enumerate*}\n"
      ],
      "text/markdown": [
       "1. 135\n",
       "2. 53\n",
       "\n",
       "\n"
      ],
      "text/plain": [
       "[1] 135  53"
      ]
     },
     "metadata": {},
     "output_type": "display_data"
    },
    {
     "data": {
      "text/html": [
       "<style>\n",
       ".list-inline {list-style: none; margin:0; padding: 0}\n",
       ".list-inline>li {display: inline-block}\n",
       ".list-inline>li:not(:last-child)::after {content: \"\\00b7\"; padding: 0 .5ex}\n",
       "</style>\n",
       "<ol class=list-inline><li>'paired'</li><li>'paired'</li><li>'paired'</li><li>'paired'</li><li>'paired'</li><li>'paired'</li><li>'paired'</li><li>'paired'</li><li>'paired'</li><li>'paired'</li><li>'paired'</li><li>'paired'</li><li>'paired'</li><li>'paired'</li><li>'paired'</li><li>'paired'</li><li>'paired'</li><li>'paired'</li><li>'paired'</li><li>'paired'</li><li>'paired'</li><li>'paired'</li><li>'paired'</li><li>'paired'</li><li>'paired'</li><li>'paired'</li><li>'paired'</li><li>'paired'</li><li>'paired'</li><li>'paired'</li><li>'paired'</li><li>'paired'</li><li>'paired'</li><li>'paired'</li><li>'paired'</li><li>'paired'</li><li>'paired'</li><li>'paired'</li><li>'paired'</li><li>'paired'</li><li>'paired'</li><li>'paired'</li><li>'paired'</li><li>'paired'</li><li>'paired'</li><li>'paired'</li><li>'paired'</li><li>'paired'</li><li>'paired'</li><li>'paired'</li><li>'paired'</li><li>'paired'</li><li>'paired'</li><li>'paired'</li><li>'paired'</li><li>'paired'</li><li>'paired'</li><li>'paired'</li><li>'paired'</li><li>'paired'</li><li>'paired'</li><li>'paired'</li><li>'paired'</li><li>'paired'</li><li>'paired'</li><li>'paired'</li><li>'paired'</li><li>'paired'</li><li>'paired'</li><li>'paired'</li><li>'paired'</li><li>'paired'</li><li>'paired'</li><li>'paired'</li><li>'paired'</li><li>'paired'</li><li>'paired'</li><li>'paired'</li><li>'paired'</li><li>'paired'</li><li>'paired'</li><li>'paired'</li><li>'paired'</li><li>'paired'</li><li>'paired'</li><li>'paired'</li><li>'paired'</li><li>'paired'</li><li>'paired'</li><li>'paired'</li><li>'paired'</li><li>'paired'</li><li>'paired'</li><li>'paired'</li><li>'paired'</li><li>'paired'</li><li>'paired'</li><li>'paired'</li><li>'paired'</li><li>'paired'</li><li>'paired'</li><li>'paired'</li><li>'paired'</li><li>'paired'</li><li>'paired'</li><li>'paired'</li><li>'paired'</li><li>'paired'</li><li>'paired'</li><li>'paired'</li><li>'paired'</li><li>'paired'</li><li>'paired'</li><li>'paired'</li><li>'paired'</li><li>'paired'</li><li>'paired'</li><li>'paired'</li><li>'paired'</li><li>'paired'</li><li>'paired'</li><li>'paired'</li><li>'paired'</li><li>'paired'</li><li>'paired'</li><li>'paired'</li><li>'paired'</li><li>'paired'</li><li>'paired'</li><li>'paired'</li><li>'paired'</li><li>'paired'</li><li>'paired'</li><li>'paired'</li><li>'paired'</li></ol>\n"
      ],
      "text/latex": [
       "\\begin{enumerate*}\n",
       "\\item 'paired'\n",
       "\\item 'paired'\n",
       "\\item 'paired'\n",
       "\\item 'paired'\n",
       "\\item 'paired'\n",
       "\\item 'paired'\n",
       "\\item 'paired'\n",
       "\\item 'paired'\n",
       "\\item 'paired'\n",
       "\\item 'paired'\n",
       "\\item 'paired'\n",
       "\\item 'paired'\n",
       "\\item 'paired'\n",
       "\\item 'paired'\n",
       "\\item 'paired'\n",
       "\\item 'paired'\n",
       "\\item 'paired'\n",
       "\\item 'paired'\n",
       "\\item 'paired'\n",
       "\\item 'paired'\n",
       "\\item 'paired'\n",
       "\\item 'paired'\n",
       "\\item 'paired'\n",
       "\\item 'paired'\n",
       "\\item 'paired'\n",
       "\\item 'paired'\n",
       "\\item 'paired'\n",
       "\\item 'paired'\n",
       "\\item 'paired'\n",
       "\\item 'paired'\n",
       "\\item 'paired'\n",
       "\\item 'paired'\n",
       "\\item 'paired'\n",
       "\\item 'paired'\n",
       "\\item 'paired'\n",
       "\\item 'paired'\n",
       "\\item 'paired'\n",
       "\\item 'paired'\n",
       "\\item 'paired'\n",
       "\\item 'paired'\n",
       "\\item 'paired'\n",
       "\\item 'paired'\n",
       "\\item 'paired'\n",
       "\\item 'paired'\n",
       "\\item 'paired'\n",
       "\\item 'paired'\n",
       "\\item 'paired'\n",
       "\\item 'paired'\n",
       "\\item 'paired'\n",
       "\\item 'paired'\n",
       "\\item 'paired'\n",
       "\\item 'paired'\n",
       "\\item 'paired'\n",
       "\\item 'paired'\n",
       "\\item 'paired'\n",
       "\\item 'paired'\n",
       "\\item 'paired'\n",
       "\\item 'paired'\n",
       "\\item 'paired'\n",
       "\\item 'paired'\n",
       "\\item 'paired'\n",
       "\\item 'paired'\n",
       "\\item 'paired'\n",
       "\\item 'paired'\n",
       "\\item 'paired'\n",
       "\\item 'paired'\n",
       "\\item 'paired'\n",
       "\\item 'paired'\n",
       "\\item 'paired'\n",
       "\\item 'paired'\n",
       "\\item 'paired'\n",
       "\\item 'paired'\n",
       "\\item 'paired'\n",
       "\\item 'paired'\n",
       "\\item 'paired'\n",
       "\\item 'paired'\n",
       "\\item 'paired'\n",
       "\\item 'paired'\n",
       "\\item 'paired'\n",
       "\\item 'paired'\n",
       "\\item 'paired'\n",
       "\\item 'paired'\n",
       "\\item 'paired'\n",
       "\\item 'paired'\n",
       "\\item 'paired'\n",
       "\\item 'paired'\n",
       "\\item 'paired'\n",
       "\\item 'paired'\n",
       "\\item 'paired'\n",
       "\\item 'paired'\n",
       "\\item 'paired'\n",
       "\\item 'paired'\n",
       "\\item 'paired'\n",
       "\\item 'paired'\n",
       "\\item 'paired'\n",
       "\\item 'paired'\n",
       "\\item 'paired'\n",
       "\\item 'paired'\n",
       "\\item 'paired'\n",
       "\\item 'paired'\n",
       "\\item 'paired'\n",
       "\\item 'paired'\n",
       "\\item 'paired'\n",
       "\\item 'paired'\n",
       "\\item 'paired'\n",
       "\\item 'paired'\n",
       "\\item 'paired'\n",
       "\\item 'paired'\n",
       "\\item 'paired'\n",
       "\\item 'paired'\n",
       "\\item 'paired'\n",
       "\\item 'paired'\n",
       "\\item 'paired'\n",
       "\\item 'paired'\n",
       "\\item 'paired'\n",
       "\\item 'paired'\n",
       "\\item 'paired'\n",
       "\\item 'paired'\n",
       "\\item 'paired'\n",
       "\\item 'paired'\n",
       "\\item 'paired'\n",
       "\\item 'paired'\n",
       "\\item 'paired'\n",
       "\\item 'paired'\n",
       "\\item 'paired'\n",
       "\\item 'paired'\n",
       "\\item 'paired'\n",
       "\\item 'paired'\n",
       "\\item 'paired'\n",
       "\\item 'paired'\n",
       "\\item 'paired'\n",
       "\\item 'paired'\n",
       "\\item 'paired'\n",
       "\\item 'paired'\n",
       "\\item 'paired'\n",
       "\\end{enumerate*}\n"
      ],
      "text/markdown": [
       "1. 'paired'\n",
       "2. 'paired'\n",
       "3. 'paired'\n",
       "4. 'paired'\n",
       "5. 'paired'\n",
       "6. 'paired'\n",
       "7. 'paired'\n",
       "8. 'paired'\n",
       "9. 'paired'\n",
       "10. 'paired'\n",
       "11. 'paired'\n",
       "12. 'paired'\n",
       "13. 'paired'\n",
       "14. 'paired'\n",
       "15. 'paired'\n",
       "16. 'paired'\n",
       "17. 'paired'\n",
       "18. 'paired'\n",
       "19. 'paired'\n",
       "20. 'paired'\n",
       "21. 'paired'\n",
       "22. 'paired'\n",
       "23. 'paired'\n",
       "24. 'paired'\n",
       "25. 'paired'\n",
       "26. 'paired'\n",
       "27. 'paired'\n",
       "28. 'paired'\n",
       "29. 'paired'\n",
       "30. 'paired'\n",
       "31. 'paired'\n",
       "32. 'paired'\n",
       "33. 'paired'\n",
       "34. 'paired'\n",
       "35. 'paired'\n",
       "36. 'paired'\n",
       "37. 'paired'\n",
       "38. 'paired'\n",
       "39. 'paired'\n",
       "40. 'paired'\n",
       "41. 'paired'\n",
       "42. 'paired'\n",
       "43. 'paired'\n",
       "44. 'paired'\n",
       "45. 'paired'\n",
       "46. 'paired'\n",
       "47. 'paired'\n",
       "48. 'paired'\n",
       "49. 'paired'\n",
       "50. 'paired'\n",
       "51. 'paired'\n",
       "52. 'paired'\n",
       "53. 'paired'\n",
       "54. 'paired'\n",
       "55. 'paired'\n",
       "56. 'paired'\n",
       "57. 'paired'\n",
       "58. 'paired'\n",
       "59. 'paired'\n",
       "60. 'paired'\n",
       "61. 'paired'\n",
       "62. 'paired'\n",
       "63. 'paired'\n",
       "64. 'paired'\n",
       "65. 'paired'\n",
       "66. 'paired'\n",
       "67. 'paired'\n",
       "68. 'paired'\n",
       "69. 'paired'\n",
       "70. 'paired'\n",
       "71. 'paired'\n",
       "72. 'paired'\n",
       "73. 'paired'\n",
       "74. 'paired'\n",
       "75. 'paired'\n",
       "76. 'paired'\n",
       "77. 'paired'\n",
       "78. 'paired'\n",
       "79. 'paired'\n",
       "80. 'paired'\n",
       "81. 'paired'\n",
       "82. 'paired'\n",
       "83. 'paired'\n",
       "84. 'paired'\n",
       "85. 'paired'\n",
       "86. 'paired'\n",
       "87. 'paired'\n",
       "88. 'paired'\n",
       "89. 'paired'\n",
       "90. 'paired'\n",
       "91. 'paired'\n",
       "92. 'paired'\n",
       "93. 'paired'\n",
       "94. 'paired'\n",
       "95. 'paired'\n",
       "96. 'paired'\n",
       "97. 'paired'\n",
       "98. 'paired'\n",
       "99. 'paired'\n",
       "100. 'paired'\n",
       "101. 'paired'\n",
       "102. 'paired'\n",
       "103. 'paired'\n",
       "104. 'paired'\n",
       "105. 'paired'\n",
       "106. 'paired'\n",
       "107. 'paired'\n",
       "108. 'paired'\n",
       "109. 'paired'\n",
       "110. 'paired'\n",
       "111. 'paired'\n",
       "112. 'paired'\n",
       "113. 'paired'\n",
       "114. 'paired'\n",
       "115. 'paired'\n",
       "116. 'paired'\n",
       "117. 'paired'\n",
       "118. 'paired'\n",
       "119. 'paired'\n",
       "120. 'paired'\n",
       "121. 'paired'\n",
       "122. 'paired'\n",
       "123. 'paired'\n",
       "124. 'paired'\n",
       "125. 'paired'\n",
       "126. 'paired'\n",
       "127. 'paired'\n",
       "128. 'paired'\n",
       "129. 'paired'\n",
       "130. 'paired'\n",
       "131. 'paired'\n",
       "132. 'paired'\n",
       "133. 'paired'\n",
       "134. 'paired'\n",
       "135. 'paired'\n",
       "\n",
       "\n"
      ],
      "text/plain": [
       "  [1] \"paired\" \"paired\" \"paired\" \"paired\" \"paired\" \"paired\" \"paired\" \"paired\"\n",
       "  [9] \"paired\" \"paired\" \"paired\" \"paired\" \"paired\" \"paired\" \"paired\" \"paired\"\n",
       " [17] \"paired\" \"paired\" \"paired\" \"paired\" \"paired\" \"paired\" \"paired\" \"paired\"\n",
       " [25] \"paired\" \"paired\" \"paired\" \"paired\" \"paired\" \"paired\" \"paired\" \"paired\"\n",
       " [33] \"paired\" \"paired\" \"paired\" \"paired\" \"paired\" \"paired\" \"paired\" \"paired\"\n",
       " [41] \"paired\" \"paired\" \"paired\" \"paired\" \"paired\" \"paired\" \"paired\" \"paired\"\n",
       " [49] \"paired\" \"paired\" \"paired\" \"paired\" \"paired\" \"paired\" \"paired\" \"paired\"\n",
       " [57] \"paired\" \"paired\" \"paired\" \"paired\" \"paired\" \"paired\" \"paired\" \"paired\"\n",
       " [65] \"paired\" \"paired\" \"paired\" \"paired\" \"paired\" \"paired\" \"paired\" \"paired\"\n",
       " [73] \"paired\" \"paired\" \"paired\" \"paired\" \"paired\" \"paired\" \"paired\" \"paired\"\n",
       " [81] \"paired\" \"paired\" \"paired\" \"paired\" \"paired\" \"paired\" \"paired\" \"paired\"\n",
       " [89] \"paired\" \"paired\" \"paired\" \"paired\" \"paired\" \"paired\" \"paired\" \"paired\"\n",
       " [97] \"paired\" \"paired\" \"paired\" \"paired\" \"paired\" \"paired\" \"paired\" \"paired\"\n",
       "[105] \"paired\" \"paired\" \"paired\" \"paired\" \"paired\" \"paired\" \"paired\" \"paired\"\n",
       "[113] \"paired\" \"paired\" \"paired\" \"paired\" \"paired\" \"paired\" \"paired\" \"paired\"\n",
       "[121] \"paired\" \"paired\" \"paired\" \"paired\" \"paired\" \"paired\" \"paired\" \"paired\"\n",
       "[129] \"paired\" \"paired\" \"paired\" \"paired\" \"paired\" \"paired\" \"paired\""
      ]
     },
     "metadata": {},
     "output_type": "display_data"
    }
   ],
   "source": [
    "paired_df= meta1 %>%\n",
    "filter(Pairs==\"paired\")\n",
    "\n",
    "dim(paired_df)\n",
    "paired_df$Pairs"
   ]
  },
  {
   "cell_type": "code",
   "execution_count": 100,
   "id": "b3bce90b",
   "metadata": {},
   "outputs": [
    {
     "data": {
      "text/plain": [
       "Linear mixed model fit by REML ['lmerMod']\n",
       "Formula: Shannon ~ Combo + (1 | Tag:Genotype)\n",
       "   Data: meta1\n",
       "\n",
       "REML criterion at convergence: 485.5\n",
       "\n",
       "Scaled residuals: \n",
       "    Min      1Q  Median      3Q     Max \n",
       "-1.6829 -0.3632 -0.1677  0.1592  2.5024 \n",
       "\n",
       "Random effects:\n",
       " Groups       Name        Variance Std.Dev.\n",
       " Tag:Genotype (Intercept) 0.5706   0.7554  \n",
       " Residual                 0.2166   0.4654  \n",
       "Number of obs: 192, groups:  Tag:Genotype, 168\n",
       "\n",
       "Fixed effects:\n",
       "                     Estimate Std. Error t value\n",
       "(Intercept)            3.2579     0.1620  20.112\n",
       "ComboAmbient_Placebo  -0.6614     0.2286  -2.893\n",
       "ComboNH4_Pathogen     -0.1334     0.2007  -0.664\n",
       "ComboNH4_Placebo      -0.6321     0.2010  -3.145\n",
       "\n",
       "Correlation of Fixed Effects:\n",
       "            (Intr) CmbA_P CmbNH4_Pt\n",
       "CmbAmbnt_Pl -0.708                 \n",
       "CmbNH4_Pthg -0.807  0.572          \n",
       "CmbNH4_Plcb -0.806  0.571  0.650   "
      ]
     },
     "metadata": {},
     "output_type": "display_data"
    },
    {
     "data": {
      "text/plain": [
       "$emmeans\n",
       " Combo            emmean    SE  df lower.CL upper.CL\n",
       " Ambient_Pathogen   3.26 0.162 171     2.94     3.58\n",
       " Ambient_Placebo    2.60 0.161 143     2.28     2.92\n",
       " NH4_Pathogen       3.12 0.119 171     2.89     3.36\n",
       " NH4_Placebo        2.63 0.119 161     2.39     2.86\n",
       "\n",
       "Degrees-of-freedom method: kenward-roger \n",
       "Confidence level used: 0.95 \n",
       "\n",
       "$contrasts\n",
       " contrast                           estimate    SE  df t.ratio p.value\n",
       " Ambient_Pathogen - Ambient_Placebo   0.6614 0.229 158   2.892  0.0225\n",
       " Ambient_Pathogen - NH4_Pathogen      0.1334 0.201 171   0.664  0.9103\n",
       " Ambient_Pathogen - NH4_Placebo       0.6321 0.201 168   3.144  0.0105\n",
       " Ambient_Placebo - NH4_Pathogen      -0.5280 0.200 154  -2.636  0.0452\n",
       " Ambient_Placebo - NH4_Placebo       -0.0293 0.201 150  -0.146  0.9989\n",
       " NH4_Pathogen - NH4_Placebo           0.4987 0.168 166   2.968  0.0179\n",
       "\n",
       "Degrees-of-freedom method: kenward-roger \n",
       "P value adjustment: tukey method for comparing a family of 4 estimates \n"
      ]
     },
     "metadata": {},
     "output_type": "display_data"
    }
   ],
   "source": [
    "mixed.lmer_TT <- lmer(Shannon~Combo + (1|Tag:Genotype), data =meta1)\n",
    "summary(mixed.lmer_TT)\n",
    "emmeans(mixed.lmer_TT, pairwise ~ -1 + Combo, adjust=\"tukey\")"
   ]
  },
  {
   "cell_type": "code",
   "execution_count": 101,
   "id": "aa64dafe",
   "metadata": {},
   "outputs": [
    {
     "data": {
      "text/plain": [
       "Linear mixed model fit by REML ['lmerMod']\n",
       "Formula: Shannon ~ Health + (1 | Tag:Genotype)\n",
       "   Data: paired_df\n",
       "\n",
       "REML criterion at convergence: 331.9\n",
       "\n",
       "Scaled residuals: \n",
       "    Min      1Q  Median      3Q     Max \n",
       "-1.7746 -0.2972 -0.1396  0.2372  2.5751 \n",
       "\n",
       "Random effects:\n",
       " Groups       Name        Variance Std.Dev.\n",
       " Tag:Genotype (Intercept) 0.5704   0.7553  \n",
       " Residual                 0.1970   0.4438  \n",
       "Number of obs: 135, groups:  Tag:Genotype, 112\n",
       "\n",
       "Fixed effects:\n",
       "            Estimate Std. Error t value\n",
       "(Intercept)   2.6046     0.1136  22.920\n",
       "HealthDL      0.8646     0.1586   5.451\n",
       "\n",
       "Correlation of Fixed Effects:\n",
       "         (Intr)\n",
       "HealthDL -0.696"
      ]
     },
     "metadata": {},
     "output_type": "display_data"
    },
    {
     "data": {
      "text/plain": [
       "$emmeans\n",
       " Health emmean    SE  df lower.CL upper.CL\n",
       " AH       2.60 0.114 110     2.38     2.83\n",
       " DL       3.47 0.114 122     3.24     3.70\n",
       "\n",
       "Degrees-of-freedom method: kenward-roger \n",
       "Confidence level used: 0.95 \n",
       "\n",
       "$contrasts\n",
       " contrast estimate   SE  df t.ratio p.value\n",
       " AH - DL    -0.865 0.16 123  -5.416  <.0001\n",
       "\n",
       "Degrees-of-freedom method: kenward-roger \n"
      ]
     },
     "metadata": {},
     "output_type": "display_data"
    }
   ],
   "source": [
    "mixed.lmer_TT <- lmer(Shannon~Health + (1|Tag:Genotype), data =paired_df)\n",
    "summary(mixed.lmer_TT)\n",
    "emmeans(mixed.lmer_TT, pairwise ~ -1 + Health, adjust=\"tukey\")"
   ]
  }
 ],
 "metadata": {
  "kernelspec": {
   "display_name": "R",
   "language": "R",
   "name": "ir"
  },
  "language_info": {
   "codemirror_mode": "r",
   "file_extension": ".r",
   "mimetype": "text/x-r-source",
   "name": "R",
   "pygments_lexer": "r",
   "version": "4.0.5"
  }
 },
 "nbformat": 4,
 "nbformat_minor": 5
}
