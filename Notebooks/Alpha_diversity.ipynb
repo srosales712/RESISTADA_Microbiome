{
 "cells": [
  {
   "cell_type": "code",
   "execution_count": 2,
   "id": "93da4993",
   "metadata": {},
   "outputs": [
    {
     "data": {
      "text/plain": [
       "[1] ‘4.7.9’"
      ]
     },
     "metadata": {},
     "output_type": "display_data"
    }
   ],
   "source": [
    "library(breakaway); packageVersion(\"breakaway\")  \n",
    "library(DivNet)\n",
    "library(qiime2R)\n",
    "library(tidyr)\n",
    "library(tibble)\n",
    "library(ggplot2)\n",
    "library(vegan)\n",
    "library(microbiome)\n",
    "library(phyloseq)\n",
    "library(\"tidyverse\")\n",
    "library(\"dplyr\")\n",
    "library(magrittr)\n",
    "library(lme4)\n",
    "library(lsmeans)"
   ]
  },
  {
   "cell_type": "code",
   "execution_count": 3,
   "id": "24db9abd",
   "metadata": {},
   "outputs": [
    {
     "name": "stderr",
     "output_type": "stream",
     "text": [
      "Warning message:\n",
      "“Expected 7 pieces. Missing pieces filled with `NA` in 5374 rows [3, 6, 9, 11, 12, 14, 15, 16, 17, 18, 22, 23, 27, 31, 36, 38, 42, 45, 49, 51, ...].”\n"
     ]
    }
   ],
   "source": [
    "# Read in the 16S qza files and clean them up for phyloseq\n",
    "ASVs <- read_qza(\"/Users/stephanie.rosales/Documents/omics_projects/Resitada/qiime_output/table-BacArc_resistada.qza\")\n",
    "ASVs <- ASVs$data # Extract the count data from list\n",
    "taxa_16S <- read_qza(\"/Users/stephanie.rosales/Documents/omics_projects/Resitada/qiime_output/taxonomy_resistada.qza\")\n",
    "taxa_16S <- taxa_16S$data %>% as_tibble() %>% separate(Taxon, sep=\";\",\n",
    "c(\"Kingdom\", \"Phylum\", \"Class\", \"Order\", \"Family\", \"Genus\", \"Species\")) %>% \n",
    "# Convert taxonomy info to data frame with correct taxonomy labels\n",
    "#taxa <- taxa_16S[-1,]\n",
    "select(-Confidence) %>% arrange(Feature.ID) %>% mutate(ASV = 1:n()) %>% \n",
    "mutate(newcol = \"ASV\") %>%\n",
    "unite(\"ASVs\", newcol:ASV) %>%\n",
    "filter(Phylum !=\" p__Chlorophyta\") %>%\n",
    "filter(Phylum !=\"NA\")\n",
    "#asv_tab$asv_id <- rownames(asv_tab) # add a new column for ids\n",
    "tree_file <-read_qza(\"/Users/stephanie.rosales/Documents/omics_projects/Resitada/qiime_output/rooted-BacArc_resistada.qza\")$data"
   ]
  },
  {
   "cell_type": "code",
   "execution_count": 4,
   "id": "5d8b997b",
   "metadata": {},
   "outputs": [],
   "source": [
    "meta = read.csv(\"/Users/stephanie.rosales/Documents/omics_projects/Resitada/metadata_RESISTADA.csv\", \n",
    "                header = T, row.names = 1,\n",
    "na.strings = c(\"\", \"NA\"))"
   ]
  },
  {
   "cell_type": "code",
   "execution_count": 5,
   "id": "60dbc5b8",
   "metadata": {},
   "outputs": [
    {
     "data": {
      "text/plain": [
       "phyloseq-class experiment-level object\n",
       "otu_table()   OTU Table:         [ 9492 taxa and 280 samples ]\n",
       "sample_data() Sample Data:       [ 280 samples by 55 sample variables ]\n",
       "tax_table()   Taxonomy Table:    [ 9492 taxa by 8 taxonomic ranks ]\n",
       "phy_tree()    Phylogenetic Tree: [ 9492 tips and 8365 internal nodes ]"
      ]
     },
     "metadata": {},
     "output_type": "display_data"
    },
    {
     "data": {
      "text/plain": [
       "phyloseq-class experiment-level object\n",
       "otu_table()   OTU Table:         [ 9492 taxa and 257 samples ]\n",
       "sample_data() Sample Data:       [ 257 samples by 55 sample variables ]\n",
       "tax_table()   Taxonomy Table:    [ 9492 taxa by 8 taxonomic ranks ]\n",
       "phy_tree()    Phylogenetic Tree: [ 9492 tips and 8365 internal nodes ]"
      ]
     },
     "metadata": {},
     "output_type": "display_data"
    }
   ],
   "source": [
    "ps= phyloseq(otu_table(ASVs, taxa_are_rows= T),\n",
    "tax_table(as.data.frame(taxa_16S) %>% column_to_rownames(\"Feature.ID\") %>%\n",
    "as.matrix()), sample_data(meta), tree_file)\n",
    "ps\n",
    "\n",
    "dups = c(\"N169_256_R2\", \"N157_265_R2\", \"N165_296_R2\", \"N161_A067_R2\", \"N185_A088_R2\",\n",
    "                                 \"N164_A089_R2\",\"N119_A107\",\"N267_A110\",\"N7_A114\", \"N156_A115\",\"N158_A116\",\n",
    "                                 \"N101_A118\",\"N160_A119\",\"N277_A125\")\n",
    "\n",
    "ps = subset_samples(ps, !ID %in% dups & Genotype!=c(\"U41\"))\n",
    "                                                    #,\"U44\")) \n",
    "ps\n"
   ]
  },
  {
   "cell_type": "code",
   "execution_count": 6,
   "id": "1d494829",
   "metadata": {},
   "outputs": [
    {
     "data": {
      "text/plain": [
       "phyloseq-class experiment-level object\n",
       "otu_table()   OTU Table:         [ 9492 taxa and 192 samples ]\n",
       "sample_data() Sample Data:       [ 192 samples by 55 sample variables ]\n",
       "tax_table()   Taxonomy Table:    [ 9492 taxa by 8 taxonomic ranks ]\n",
       "phy_tree()    Phylogenetic Tree: [ 9492 tips and 8365 internal nodes ]"
      ]
     },
     "metadata": {},
     "output_type": "display_data"
    }
   ],
   "source": [
    "ps_Clipped =subset_samples(ps, Type==\"Clipped\")\n",
    "ps_Clipped\n"
   ]
  },
  {
   "cell_type": "code",
   "execution_count": 55,
   "id": "08885662",
   "metadata": {},
   "outputs": [
    {
     "data": {
      "text/plain": [
       "phyloseq-class experiment-level object\n",
       "otu_table()   OTU Table:         [ 9492 taxa and 62 samples ]\n",
       "sample_data() Sample Data:       [ 62 samples by 55 sample variables ]\n",
       "tax_table()   Taxonomy Table:    [ 9492 taxa by 8 taxonomic ranks ]\n",
       "phy_tree()    Phylogenetic Tree: [ 9492 tips and 8365 internal nodes ]"
      ]
     },
     "metadata": {},
     "output_type": "display_data"
    }
   ],
   "source": [
    "ps_Clipped_A_P =subset_samples(ps, Combo==\"Ambient_Placebo\")\n",
    "ps_Clipped_A_P"
   ]
  },
  {
   "cell_type": "code",
   "execution_count": 7,
   "id": "63d9884d",
   "metadata": {},
   "outputs": [],
   "source": [
    "glom_ps_phy =tax_glom(t(ps_Clipped), taxrank=\"Genus\")"
   ]
  },
  {
   "cell_type": "code",
   "execution_count": 13,
   "id": "d7512281",
   "metadata": {},
   "outputs": [
    {
     "data": {
      "text/plain": [
       "phyloseq-class experiment-level object\n",
       "otu_table()   OTU Table:         [ 619 taxa and 192 samples ]\n",
       "sample_data() Sample Data:       [ 192 samples by 44 sample variables ]\n",
       "tax_table()   Taxonomy Table:    [ 619 taxa by 8 taxonomic ranks ]\n",
       "phy_tree()    Phylogenetic Tree: [ 619 tips and 618 internal nodes ]"
      ]
     },
     "metadata": {},
     "output_type": "display_data"
    }
   ],
   "source": [
    "glom_ps_phy"
   ]
  },
  {
   "cell_type": "code",
   "execution_count": 22,
   "id": "a8969eb4",
   "metadata": {},
   "outputs": [
    {
     "name": "stderr",
     "output_type": "stream",
     "text": [
      "Removing absent taxa!\n",
      "\n"
     ]
    },
    {
     "name": "stdout",
     "output_type": "stream",
     "text": [
      "\r",
      "  |                                                                            \r",
      "  |                                                                      |   0%"
     ]
    },
    {
     "name": "stderr",
     "output_type": "stream",
     "text": [
      "Warning message in MCmat(Y = Y_p, W = W, eY = eY, N = N, Q = Q, base = base, sigma = sigma, :\n",
      "“Running in series; one of the packages doParallel, foreach or doSNOW is missing”\n"
     ]
    },
    {
     "name": "stdout",
     "output_type": "stream",
     "text": [
      "\r",
      "  |                                                                            \r",
      "  |============                                                          |  17%"
     ]
    },
    {
     "name": "stderr",
     "output_type": "stream",
     "text": [
      "Warning message in MCmat(Y = Y_p, W = W, eY = eY, N = N, Q = Q, base = base, sigma = sigma, :\n",
      "“Running in series; one of the packages doParallel, foreach or doSNOW is missing”\n"
     ]
    },
    {
     "name": "stdout",
     "output_type": "stream",
     "text": [
      "\r",
      "  |                                                                            \r",
      "  |=======================                                               |  33%"
     ]
    },
    {
     "name": "stderr",
     "output_type": "stream",
     "text": [
      "Warning message in MCmat(Y = Y_p, W = W, eY = eY, N = N, Q = Q, base = base, sigma = sigma, :\n",
      "“Running in series; one of the packages doParallel, foreach or doSNOW is missing”\n"
     ]
    },
    {
     "name": "stdout",
     "output_type": "stream",
     "text": [
      "\r",
      "  |                                                                            \r",
      "  |===================================                                   |  50%"
     ]
    },
    {
     "name": "stderr",
     "output_type": "stream",
     "text": [
      "Warning message in MCmat(Y = Y_p, W = W, eY = eY, N = N, Q = Q, base = base, sigma = sigma, :\n",
      "“Running in series; one of the packages doParallel, foreach or doSNOW is missing”\n"
     ]
    },
    {
     "name": "stdout",
     "output_type": "stream",
     "text": [
      "\r",
      "  |                                                                            \r",
      "  |===============================================                       |  67%"
     ]
    },
    {
     "name": "stderr",
     "output_type": "stream",
     "text": [
      "Warning message in MCmat(Y = Y_p, W = W, eY = eY, N = N, Q = Q, base = base, sigma = sigma, :\n",
      "“Running in series; one of the packages doParallel, foreach or doSNOW is missing”\n"
     ]
    },
    {
     "name": "stdout",
     "output_type": "stream",
     "text": [
      "\r",
      "  |                                                                            \r",
      "  |==========================================================            |  83%"
     ]
    },
    {
     "name": "stderr",
     "output_type": "stream",
     "text": [
      "Warning message in MCmat(Y = Y_p, W = W, eY = eY, N = N, Q = Q, base = base, sigma = sigma, :\n",
      "“Running in series; one of the packages doParallel, foreach or doSNOW is missing”\n"
     ]
    },
    {
     "name": "stdout",
     "output_type": "stream",
     "text": [
      "  |======================================================================| 100%\n",
      "  |                                                                      |   0%"
     ]
    },
    {
     "name": "stderr",
     "output_type": "stream",
     "text": [
      "Warning message in MCmat(Y = Y_p, W = W, eY = eY, N = N, Q = Q, base = base, sigma = sigma, :\n",
      "“Running in series; one of the packages doParallel, foreach or doSNOW is missing”\n"
     ]
    },
    {
     "name": "stdout",
     "output_type": "stream",
     "text": [
      "\r",
      "  |                                                                            \r",
      "  |============                                                          |  17%"
     ]
    },
    {
     "name": "stderr",
     "output_type": "stream",
     "text": [
      "Warning message in MCmat(Y = Y_p, W = W, eY = eY, N = N, Q = Q, base = base, sigma = sigma, :\n",
      "“Running in series; one of the packages doParallel, foreach or doSNOW is missing”\n"
     ]
    },
    {
     "name": "stdout",
     "output_type": "stream",
     "text": [
      "\r",
      "  |                                                                            \r",
      "  |=======================                                               |  33%"
     ]
    },
    {
     "name": "stderr",
     "output_type": "stream",
     "text": [
      "Warning message in MCmat(Y = Y_p, W = W, eY = eY, N = N, Q = Q, base = base, sigma = sigma, :\n",
      "“Running in series; one of the packages doParallel, foreach or doSNOW is missing”\n"
     ]
    },
    {
     "name": "stdout",
     "output_type": "stream",
     "text": [
      "\r",
      "  |                                                                            \r",
      "  |===================================                                   |  50%"
     ]
    },
    {
     "name": "stderr",
     "output_type": "stream",
     "text": [
      "Warning message in MCmat(Y = Y_p, W = W, eY = eY, N = N, Q = Q, base = base, sigma = sigma, :\n",
      "“Running in series; one of the packages doParallel, foreach or doSNOW is missing”\n"
     ]
    },
    {
     "name": "stdout",
     "output_type": "stream",
     "text": [
      "\r",
      "  |                                                                            \r",
      "  |===============================================                       |  67%"
     ]
    },
    {
     "name": "stderr",
     "output_type": "stream",
     "text": [
      "Warning message in MCmat(Y = Y_p, W = W, eY = eY, N = N, Q = Q, base = base, sigma = sigma, :\n",
      "“Running in series; one of the packages doParallel, foreach or doSNOW is missing”\n"
     ]
    },
    {
     "name": "stdout",
     "output_type": "stream",
     "text": [
      "\r",
      "  |                                                                            \r",
      "  |==========================================================            |  83%"
     ]
    },
    {
     "name": "stderr",
     "output_type": "stream",
     "text": [
      "Warning message in MCmat(Y = Y_p, W = W, eY = eY, N = N, Q = Q, base = base, sigma = sigma, :\n",
      "“Running in series; one of the packages doParallel, foreach or doSNOW is missing”\n"
     ]
    },
    {
     "name": "stdout",
     "output_type": "stream",
     "text": [
      "  |======================================================================| 100%\n",
      "  |                                                                      |   0%"
     ]
    },
    {
     "name": "stderr",
     "output_type": "stream",
     "text": [
      "Warning message in MCmat(Y = Y_p, W = W, eY = eY, N = N, Q = Q, base = base, sigma = sigma, :\n",
      "“Running in series; one of the packages doParallel, foreach or doSNOW is missing”\n"
     ]
    },
    {
     "name": "stdout",
     "output_type": "stream",
     "text": [
      "\r",
      "  |                                                                            \r",
      "  |============                                                          |  17%"
     ]
    },
    {
     "name": "stderr",
     "output_type": "stream",
     "text": [
      "Warning message in MCmat(Y = Y_p, W = W, eY = eY, N = N, Q = Q, base = base, sigma = sigma, :\n",
      "“Running in series; one of the packages doParallel, foreach or doSNOW is missing”\n"
     ]
    },
    {
     "name": "stdout",
     "output_type": "stream",
     "text": [
      "\r",
      "  |                                                                            \r",
      "  |=======================                                               |  33%"
     ]
    },
    {
     "name": "stderr",
     "output_type": "stream",
     "text": [
      "Warning message in MCmat(Y = Y_p, W = W, eY = eY, N = N, Q = Q, base = base, sigma = sigma, :\n",
      "“Running in series; one of the packages doParallel, foreach or doSNOW is missing”\n"
     ]
    },
    {
     "name": "stdout",
     "output_type": "stream",
     "text": [
      "\r",
      "  |                                                                            \r",
      "  |===================================                                   |  50%"
     ]
    },
    {
     "name": "stderr",
     "output_type": "stream",
     "text": [
      "Warning message in MCmat(Y = Y_p, W = W, eY = eY, N = N, Q = Q, base = base, sigma = sigma, :\n",
      "“Running in series; one of the packages doParallel, foreach or doSNOW is missing”\n"
     ]
    },
    {
     "name": "stdout",
     "output_type": "stream",
     "text": [
      "\r",
      "  |                                                                            \r",
      "  |===============================================                       |  67%"
     ]
    },
    {
     "name": "stderr",
     "output_type": "stream",
     "text": [
      "Warning message in MCmat(Y = Y_p, W = W, eY = eY, N = N, Q = Q, base = base, sigma = sigma, :\n",
      "“Running in series; one of the packages doParallel, foreach or doSNOW is missing”\n"
     ]
    },
    {
     "name": "stdout",
     "output_type": "stream",
     "text": [
      "\r",
      "  |                                                                            \r",
      "  |==========================================================            |  83%"
     ]
    },
    {
     "name": "stderr",
     "output_type": "stream",
     "text": [
      "Warning message in MCmat(Y = Y_p, W = W, eY = eY, N = N, Q = Q, base = base, sigma = sigma, :\n",
      "“Running in series; one of the packages doParallel, foreach or doSNOW is missing”\n"
     ]
    },
    {
     "name": "stdout",
     "output_type": "stream",
     "text": [
      "  |======================================================================| 100%\n",
      "  |                                                                      |   0%"
     ]
    },
    {
     "name": "stderr",
     "output_type": "stream",
     "text": [
      "Warning message in MCmat(Y = Y_p, W = W, eY = eY, N = N, Q = Q, base = base, sigma = sigma, :\n",
      "“Running in series; one of the packages doParallel, foreach or doSNOW is missing”\n"
     ]
    },
    {
     "name": "stdout",
     "output_type": "stream",
     "text": [
      "\r",
      "  |                                                                            \r",
      "  |============                                                          |  17%"
     ]
    },
    {
     "name": "stderr",
     "output_type": "stream",
     "text": [
      "Warning message in MCmat(Y = Y_p, W = W, eY = eY, N = N, Q = Q, base = base, sigma = sigma, :\n",
      "“Running in series; one of the packages doParallel, foreach or doSNOW is missing”\n"
     ]
    },
    {
     "name": "stdout",
     "output_type": "stream",
     "text": [
      "\r",
      "  |                                                                            \r",
      "  |=======================                                               |  33%"
     ]
    },
    {
     "name": "stderr",
     "output_type": "stream",
     "text": [
      "Warning message in MCmat(Y = Y_p, W = W, eY = eY, N = N, Q = Q, base = base, sigma = sigma, :\n",
      "“Running in series; one of the packages doParallel, foreach or doSNOW is missing”\n"
     ]
    },
    {
     "name": "stdout",
     "output_type": "stream",
     "text": [
      "\r",
      "  |                                                                            \r",
      "  |===================================                                   |  50%"
     ]
    },
    {
     "name": "stderr",
     "output_type": "stream",
     "text": [
      "Warning message in MCmat(Y = Y_p, W = W, eY = eY, N = N, Q = Q, base = base, sigma = sigma, :\n",
      "“Running in series; one of the packages doParallel, foreach or doSNOW is missing”\n"
     ]
    },
    {
     "name": "stdout",
     "output_type": "stream",
     "text": [
      "\r",
      "  |                                                                            \r",
      "  |===============================================                       |  67%"
     ]
    },
    {
     "name": "stderr",
     "output_type": "stream",
     "text": [
      "Warning message in MCmat(Y = Y_p, W = W, eY = eY, N = N, Q = Q, base = base, sigma = sigma, :\n",
      "“Running in series; one of the packages doParallel, foreach or doSNOW is missing”\n"
     ]
    },
    {
     "name": "stdout",
     "output_type": "stream",
     "text": [
      "\r",
      "  |                                                                            \r",
      "  |==========================================================            |  83%"
     ]
    },
    {
     "name": "stderr",
     "output_type": "stream",
     "text": [
      "Warning message in MCmat(Y = Y_p, W = W, eY = eY, N = N, Q = Q, base = base, sigma = sigma, :\n",
      "“Running in series; one of the packages doParallel, foreach or doSNOW is missing”\n"
     ]
    },
    {
     "name": "stdout",
     "output_type": "stream",
     "text": [
      "  |======================================================================| 100%\n",
      "  |                                                                      |   0%"
     ]
    },
    {
     "name": "stderr",
     "output_type": "stream",
     "text": [
      "Warning message in MCmat(Y = Y_p, W = W, eY = eY, N = N, Q = Q, base = base, sigma = sigma, :\n",
      "“Running in series; one of the packages doParallel, foreach or doSNOW is missing”\n"
     ]
    },
    {
     "name": "stdout",
     "output_type": "stream",
     "text": [
      "\r",
      "  |                                                                            \r",
      "  |============                                                          |  17%"
     ]
    },
    {
     "name": "stderr",
     "output_type": "stream",
     "text": [
      "Warning message in MCmat(Y = Y_p, W = W, eY = eY, N = N, Q = Q, base = base, sigma = sigma, :\n",
      "“Running in series; one of the packages doParallel, foreach or doSNOW is missing”\n"
     ]
    },
    {
     "name": "stdout",
     "output_type": "stream",
     "text": [
      "\r",
      "  |                                                                            \r",
      "  |=======================                                               |  33%"
     ]
    },
    {
     "name": "stderr",
     "output_type": "stream",
     "text": [
      "Warning message in MCmat(Y = Y_p, W = W, eY = eY, N = N, Q = Q, base = base, sigma = sigma, :\n",
      "“Running in series; one of the packages doParallel, foreach or doSNOW is missing”\n"
     ]
    },
    {
     "name": "stdout",
     "output_type": "stream",
     "text": [
      "\r",
      "  |                                                                            \r",
      "  |===================================                                   |  50%"
     ]
    },
    {
     "name": "stderr",
     "output_type": "stream",
     "text": [
      "Warning message in MCmat(Y = Y_p, W = W, eY = eY, N = N, Q = Q, base = base, sigma = sigma, :\n",
      "“Running in series; one of the packages doParallel, foreach or doSNOW is missing”\n"
     ]
    },
    {
     "name": "stdout",
     "output_type": "stream",
     "text": [
      "\r",
      "  |                                                                            \r",
      "  |===============================================                       |  67%"
     ]
    },
    {
     "name": "stderr",
     "output_type": "stream",
     "text": [
      "Warning message in MCmat(Y = Y_p, W = W, eY = eY, N = N, Q = Q, base = base, sigma = sigma, :\n",
      "“Running in series; one of the packages doParallel, foreach or doSNOW is missing”\n"
     ]
    },
    {
     "name": "stdout",
     "output_type": "stream",
     "text": [
      "\r",
      "  |                                                                            \r",
      "  |==========================================================            |  83%"
     ]
    },
    {
     "name": "stderr",
     "output_type": "stream",
     "text": [
      "Warning message in MCmat(Y = Y_p, W = W, eY = eY, N = N, Q = Q, base = base, sigma = sigma, :\n",
      "“Running in series; one of the packages doParallel, foreach or doSNOW is missing”\n"
     ]
    },
    {
     "name": "stdout",
     "output_type": "stream",
     "text": [
      "  |======================================================================| 100%\n",
      "  |                                                                      |   0%"
     ]
    },
    {
     "name": "stderr",
     "output_type": "stream",
     "text": [
      "Warning message in MCmat(Y = Y_p, W = W, eY = eY, N = N, Q = Q, base = base, sigma = sigma, :\n",
      "“Running in series; one of the packages doParallel, foreach or doSNOW is missing”\n"
     ]
    },
    {
     "name": "stdout",
     "output_type": "stream",
     "text": [
      "\r",
      "  |                                                                            \r",
      "  |============                                                          |  17%"
     ]
    },
    {
     "name": "stderr",
     "output_type": "stream",
     "text": [
      "Warning message in MCmat(Y = Y_p, W = W, eY = eY, N = N, Q = Q, base = base, sigma = sigma, :\n",
      "“Running in series; one of the packages doParallel, foreach or doSNOW is missing”\n"
     ]
    },
    {
     "name": "stdout",
     "output_type": "stream",
     "text": [
      "\r",
      "  |                                                                            \r",
      "  |=======================                                               |  33%"
     ]
    },
    {
     "name": "stderr",
     "output_type": "stream",
     "text": [
      "Warning message in MCmat(Y = Y_p, W = W, eY = eY, N = N, Q = Q, base = base, sigma = sigma, :\n",
      "“Running in series; one of the packages doParallel, foreach or doSNOW is missing”\n"
     ]
    },
    {
     "name": "stdout",
     "output_type": "stream",
     "text": [
      "\r",
      "  |                                                                            \r",
      "  |===================================                                   |  50%"
     ]
    },
    {
     "name": "stderr",
     "output_type": "stream",
     "text": [
      "Warning message in MCmat(Y = Y_p, W = W, eY = eY, N = N, Q = Q, base = base, sigma = sigma, :\n",
      "“Running in series; one of the packages doParallel, foreach or doSNOW is missing”\n"
     ]
    },
    {
     "name": "stdout",
     "output_type": "stream",
     "text": [
      "\r",
      "  |                                                                            \r",
      "  |===============================================                       |  67%"
     ]
    },
    {
     "name": "stderr",
     "output_type": "stream",
     "text": [
      "Warning message in MCmat(Y = Y_p, W = W, eY = eY, N = N, Q = Q, base = base, sigma = sigma, :\n",
      "“Running in series; one of the packages doParallel, foreach or doSNOW is missing”\n"
     ]
    },
    {
     "name": "stdout",
     "output_type": "stream",
     "text": [
      "\r",
      "  |                                                                            \r",
      "  |==========================================================            |  83%"
     ]
    },
    {
     "name": "stderr",
     "output_type": "stream",
     "text": [
      "Warning message in MCmat(Y = Y_p, W = W, eY = eY, N = N, Q = Q, base = base, sigma = sigma, :\n",
      "“Running in series; one of the packages doParallel, foreach or doSNOW is missing”\n"
     ]
    },
    {
     "name": "stdout",
     "output_type": "stream",
     "text": [
      "  |======================================================================| 100%\n"
     ]
    }
   ],
   "source": [
    "divnet_phylum_char <- glom_ps_phy %>%\n",
    "  divnet(ncores = 4, base = \"ff3e7637bd5aac86cff3b72f9ee78f47\", X = NULL)"
   ]
  },
  {
   "cell_type": "code",
   "execution_count": 18,
   "id": "1b2abe3d",
   "metadata": {},
   "outputs": [
    {
     "name": "stdout",
     "output_type": "stream",
     "text": [
      "Hypothesis testing:\n",
      "  p-value for global test: 0 \n"
     ]
    },
    {
     "data": {
      "text/html": [
       "<table class=\"dataframe\">\n",
       "<caption>A matrix: 2 × 3 of type dbl</caption>\n",
       "<thead>\n",
       "\t<tr><th></th><th scope=col>Estimates</th><th scope=col>Standard Errors</th><th scope=col>p-values</th></tr>\n",
       "</thead>\n",
       "<tbody>\n",
       "\t<tr><th scope=row>(Intercept)</th><td> 0.2396340</td><td>0.002389326</td><td>0</td></tr>\n",
       "\t<tr><th scope=row>predictorsPlacebo</th><td>-0.1591352</td><td>0.002500864</td><td>0</td></tr>\n",
       "</tbody>\n",
       "</table>\n"
      ],
      "text/latex": [
       "A matrix: 2 × 3 of type dbl\n",
       "\\begin{tabular}{r|lll}\n",
       "  & Estimates & Standard Errors & p-values\\\\\n",
       "\\hline\n",
       "\t(Intercept) &  0.2396340 & 0.002389326 & 0\\\\\n",
       "\tpredictorsPlacebo & -0.1591352 & 0.002500864 & 0\\\\\n",
       "\\end{tabular}\n"
      ],
      "text/markdown": [
       "\n",
       "A matrix: 2 × 3 of type dbl\n",
       "\n",
       "| <!--/--> | Estimates | Standard Errors | p-values |\n",
       "|---|---|---|---|\n",
       "| (Intercept) |  0.2396340 | 0.002389326 | 0 |\n",
       "| predictorsPlacebo | -0.1591352 | 0.002500864 | 0 |\n",
       "\n"
      ],
      "text/plain": [
       "                  Estimates  Standard Errors p-values\n",
       "(Intercept)        0.2396340 0.002389326     0       \n",
       "predictorsPlacebo -0.1591352 0.002500864     0       "
      ]
     },
     "metadata": {},
     "output_type": "display_data"
    }
   ],
   "source": [
    "testDiversity(divnet_phylum_char)"
   ]
  },
  {
   "cell_type": "code",
   "execution_count": 23,
   "id": "c1732fd8",
   "metadata": {},
   "outputs": [
    {
     "data": {
      "text/html": [
       "<table class=\"dataframe\">\n",
       "<caption>A tibble: 6 × 7</caption>\n",
       "<thead>\n",
       "\t<tr><th scope=col>estimate</th><th scope=col>error</th><th scope=col>lower</th><th scope=col>upper</th><th scope=col>sample_names</th><th scope=col>name</th><th scope=col>model</th></tr>\n",
       "\t<tr><th scope=col>&lt;dbl&gt;</th><th scope=col>&lt;dbl&gt;</th><th scope=col>&lt;dbl&gt;</th><th scope=col>&lt;dbl&gt;</th><th scope=col>&lt;chr&gt;</th><th scope=col>&lt;chr&gt;</th><th scope=col>&lt;chr&gt;</th></tr>\n",
       "</thead>\n",
       "<tbody>\n",
       "\t<tr><td>0.62626964</td><td>0.008075949</td><td>0.61011774</td><td>0.64242154</td><td>N10-A019</td><td>DivNet</td><td>Aitchison</td></tr>\n",
       "\t<tr><td>0.09857572</td><td>0.005534877</td><td>0.08750596</td><td>0.10964547</td><td>N11-A153</td><td>DivNet</td><td>Aitchison</td></tr>\n",
       "\t<tr><td>2.34831058</td><td>0.004809826</td><td>2.33869093</td><td>2.35793023</td><td>N115-247</td><td>DivNet</td><td>Aitchison</td></tr>\n",
       "\t<tr><td>0.14014873</td><td>0.004882255</td><td>0.13038422</td><td>0.14991324</td><td>N12-A008</td><td>DivNet</td><td>Aitchison</td></tr>\n",
       "\t<tr><td>0.44885416</td><td>0.008915596</td><td>0.43102297</td><td>0.46668536</td><td>N13-A038</td><td>DivNet</td><td>Aitchison</td></tr>\n",
       "\t<tr><td>0.04024386</td><td>0.001394025</td><td>0.03745581</td><td>0.04303191</td><td>N14-A040</td><td>DivNet</td><td>Aitchison</td></tr>\n",
       "</tbody>\n",
       "</table>\n"
      ],
      "text/latex": [
       "A tibble: 6 × 7\n",
       "\\begin{tabular}{lllllll}\n",
       " estimate & error & lower & upper & sample\\_names & name & model\\\\\n",
       " <dbl> & <dbl> & <dbl> & <dbl> & <chr> & <chr> & <chr>\\\\\n",
       "\\hline\n",
       "\t 0.62626964 & 0.008075949 & 0.61011774 & 0.64242154 & N10-A019 & DivNet & Aitchison\\\\\n",
       "\t 0.09857572 & 0.005534877 & 0.08750596 & 0.10964547 & N11-A153 & DivNet & Aitchison\\\\\n",
       "\t 2.34831058 & 0.004809826 & 2.33869093 & 2.35793023 & N115-247 & DivNet & Aitchison\\\\\n",
       "\t 0.14014873 & 0.004882255 & 0.13038422 & 0.14991324 & N12-A008 & DivNet & Aitchison\\\\\n",
       "\t 0.44885416 & 0.008915596 & 0.43102297 & 0.46668536 & N13-A038 & DivNet & Aitchison\\\\\n",
       "\t 0.04024386 & 0.001394025 & 0.03745581 & 0.04303191 & N14-A040 & DivNet & Aitchison\\\\\n",
       "\\end{tabular}\n"
      ],
      "text/markdown": [
       "\n",
       "A tibble: 6 × 7\n",
       "\n",
       "| estimate &lt;dbl&gt; | error &lt;dbl&gt; | lower &lt;dbl&gt; | upper &lt;dbl&gt; | sample_names &lt;chr&gt; | name &lt;chr&gt; | model &lt;chr&gt; |\n",
       "|---|---|---|---|---|---|---|\n",
       "| 0.62626964 | 0.008075949 | 0.61011774 | 0.64242154 | N10-A019 | DivNet | Aitchison |\n",
       "| 0.09857572 | 0.005534877 | 0.08750596 | 0.10964547 | N11-A153 | DivNet | Aitchison |\n",
       "| 2.34831058 | 0.004809826 | 2.33869093 | 2.35793023 | N115-247 | DivNet | Aitchison |\n",
       "| 0.14014873 | 0.004882255 | 0.13038422 | 0.14991324 | N12-A008 | DivNet | Aitchison |\n",
       "| 0.44885416 | 0.008915596 | 0.43102297 | 0.46668536 | N13-A038 | DivNet | Aitchison |\n",
       "| 0.04024386 | 0.001394025 | 0.03745581 | 0.04303191 | N14-A040 | DivNet | Aitchison |\n",
       "\n"
      ],
      "text/plain": [
       "  estimate   error       lower      upper      sample_names name   model    \n",
       "1 0.62626964 0.008075949 0.61011774 0.64242154 N10-A019     DivNet Aitchison\n",
       "2 0.09857572 0.005534877 0.08750596 0.10964547 N11-A153     DivNet Aitchison\n",
       "3 2.34831058 0.004809826 2.33869093 2.35793023 N115-247     DivNet Aitchison\n",
       "4 0.14014873 0.004882255 0.13038422 0.14991324 N12-A008     DivNet Aitchison\n",
       "5 0.44885416 0.008915596 0.43102297 0.46668536 N13-A038     DivNet Aitchison\n",
       "6 0.04024386 0.001394025 0.03745581 0.04303191 N14-A040     DivNet Aitchison"
      ]
     },
     "metadata": {},
     "output_type": "display_data"
    }
   ],
   "source": [
    "head(divnet_phylum_char$shannon %>% summary)"
   ]
  },
  {
   "cell_type": "code",
   "execution_count": 19,
   "id": "eb472875",
   "metadata": {},
   "outputs": [
    {
     "data": {
      "text/html": [
       "<table class=\"dataframe\">\n",
       "<caption>A data.frame: 284 × 50</caption>\n",
       "<thead>\n",
       "\t<tr><th scope=col>sample_names</th><th scope=col>featurecounts</th><th scope=col>Initial_sample_ID</th><th scope=col>Tag</th><th scope=col>Date_Collected</th><th scope=col>Date</th><th scope=col>TimePoint</th><th scope=col>Replicate</th><th scope=col>Genotype</th><th scope=col>Nursery</th><th scope=col>⋯</th><th scope=col>Forward_Primer_Pad</th><th scope=col>Golay_Barcode</th><th scope=col>X515FB_Forward_Primer</th><th scope=col>Primer_For_PCR</th><th scope=col>estimate</th><th scope=col>error</th><th scope=col>lower</th><th scope=col>upper</th><th scope=col>name</th><th scope=col>model</th></tr>\n",
       "\t<tr><th scope=col>&lt;chr&gt;</th><th scope=col>&lt;int&gt;</th><th scope=col>&lt;int&gt;</th><th scope=col>&lt;chr&gt;</th><th scope=col>&lt;chr&gt;</th><th scope=col>&lt;chr&gt;</th><th scope=col>&lt;int&gt;</th><th scope=col>&lt;chr&gt;</th><th scope=col>&lt;chr&gt;</th><th scope=col>&lt;chr&gt;</th><th scope=col>⋯</th><th scope=col>&lt;chr&gt;</th><th scope=col>&lt;chr&gt;</th><th scope=col>&lt;chr&gt;</th><th scope=col>&lt;chr&gt;</th><th scope=col>&lt;dbl&gt;</th><th scope=col>&lt;dbl&gt;</th><th scope=col>&lt;dbl&gt;</th><th scope=col>&lt;dbl&gt;</th><th scope=col>&lt;chr&gt;</th><th scope=col>&lt;chr&gt;</th></tr>\n",
       "</thead>\n",
       "<tbody>\n",
       "\t<tr><td>N13-A038 </td><td>26888</td><td> 13</td><td>A038</td><td>26-Oct-20</td><td>26-Oct</td><td> 5</td><td>NA  </td><td>Cooper-9</td><td>UM </td><td>⋯</td><td>TATGGTAATT</td><td>CTACAGGGTCTC</td><td>GTGYCAGCMGCCGCGGTAA</td><td>AATGATACGGCGACCACCGAGATCTACACGCTCTACAGGGTCTCTATGGTAATTGTGTGYCAGCMGCCGCGGTAA</td><td>0.23963400</td><td>0.07503098</td><td>0.08957204</td><td>0.3896960</td><td>DivNet</td><td>Aitchison</td></tr>\n",
       "\t<tr><td>N14-A040 </td><td>38951</td><td> 14</td><td>A040</td><td>28-Oct-20</td><td>28-Oct</td><td> 6</td><td>NA  </td><td>Acerv2  </td><td>UM </td><td>⋯</td><td>TATGGTAATT</td><td>TTGAACAAGCCA</td><td>GTGYCAGCMGCCGCGGTAA</td><td>AATGATACGGCGACCACCGAGATCTACACGCTTTGAACAAGCCATATGGTAATTGTGTGYCAGCMGCCGCGGTAA</td><td>0.23963400</td><td>0.07503098</td><td>0.08957204</td><td>0.3896960</td><td>DivNet</td><td>Aitchison</td></tr>\n",
       "\t<tr><td>N23-A166 </td><td>16954</td><td> 23</td><td>A166</td><td>30-Oct-20</td><td>30-Oct</td><td> 8</td><td>NA  </td><td>K2      </td><td>CRF</td><td>⋯</td><td>TATGGTAATT</td><td>AGCCTTCGTCGC</td><td>GTGYCAGCMGCCGCGGTAA</td><td>AATGATACGGCGACCACCGAGATCTACACGCTAGCCTTCGTCGCTATGGTAATTGTGTGYCAGCMGCCGCGGTAA</td><td>        NA</td><td>        NA</td><td>        NA</td><td>       NA</td><td>NA    </td><td>NA       </td></tr>\n",
       "\t<tr><td>N22-A121 </td><td>67201</td><td> 22</td><td>A121</td><td>30-Oct-20</td><td>30-Oct</td><td> 8</td><td>NA  </td><td>U44     </td><td>CRF</td><td>⋯</td><td>TATGGTAATT</td><td>AGCCTTCGTCGC</td><td>GTGYCAGCMGCCGCGGTAA</td><td>AATGATACGGCGACCACCGAGATCTACACGCTAGCCTTCGTCGCTATGGTAATTGTGTGYCAGCMGCCGCGGTAA</td><td>        NA</td><td>        NA</td><td>        NA</td><td>       NA</td><td>NA    </td><td>NA       </td></tr>\n",
       "\t<tr><td>N266-A104</td><td>29691</td><td>266</td><td>A104</td><td>10-Nov-20</td><td>10-Nov</td><td>19</td><td>NA  </td><td>U44     </td><td>CRF</td><td>⋯</td><td>TATGGTAATT</td><td>CTACAGGGTCTC</td><td>GTGYCAGCMGCCGCGGTAA</td><td>AATGATACGGCGACCACCGAGATCTACACGCTCTACAGGGTCTCTATGGTAATTGTGTGYCAGCMGCCGCGGTAA</td><td>0.23963400</td><td>0.07503098</td><td>0.08957204</td><td>0.3896960</td><td>DivNet</td><td>Aitchison</td></tr>\n",
       "\t<tr><td>N267-A110</td><td>32445</td><td>267</td><td>A110</td><td>10-Nov-20</td><td>10-Nov</td><td>19</td><td>NA  </td><td>U41     </td><td>CRF</td><td>⋯</td><td>TATGGTAATT</td><td>CTACAGGGTCTC</td><td>GTGYCAGCMGCCGCGGTAA</td><td>AATGATACGGCGACCACCGAGATCTACACGCTCTACAGGGTCTCTATGGTAATTGTGTGYCAGCMGCCGCGGTAA</td><td>        NA</td><td>        NA</td><td>        NA</td><td>       NA</td><td>NA    </td><td>NA       </td></tr>\n",
       "\t<tr><td>N28-A027 </td><td>44848</td><td> 28</td><td>A027</td><td>30-Oct-20</td><td>30-Oct</td><td> 8</td><td>NA  </td><td>Cooper-9</td><td>UM </td><td>⋯</td><td>TATGGTAATT</td><td>AGCCTTCGTCGC</td><td>GTGYCAGCMGCCGCGGTAA</td><td>AATGATACGGCGACCACCGAGATCTACACGCTAGCCTTCGTCGCTATGGTAATTGTGTGYCAGCMGCCGCGGTAA</td><td>        NA</td><td>        NA</td><td>        NA</td><td>       NA</td><td>NA    </td><td>NA       </td></tr>\n",
       "\t<tr><td>N29-A041 </td><td>31284</td><td> 29</td><td>A041</td><td>30-Oct-20</td><td>30-Oct</td><td> 8</td><td>NA  </td><td>Acerv2  </td><td>UM </td><td>⋯</td><td>TATGGTAATT</td><td>AGCCTTCGTCGC</td><td>GTGYCAGCMGCCGCGGTAA</td><td>AATGATACGGCGACCACCGAGATCTACACGCTAGCCTTCGTCGCTATGGTAATTGTGTGYCAGCMGCCGCGGTAA</td><td>        NA</td><td>        NA</td><td>        NA</td><td>       NA</td><td>NA    </td><td>NA       </td></tr>\n",
       "\t<tr><td>N27-283  </td><td>16502</td><td> 27</td><td>283 </td><td>30-Oct-20</td><td>30-Oct</td><td> 8</td><td>NA  </td><td>FM14    </td><td>FWC</td><td>⋯</td><td>TATGGTAATT</td><td>AGCCTTCGTCGC</td><td>GTGYCAGCMGCCGCGGTAA</td><td>AATGATACGGCGACCACCGAGATCTACACGCTAGCCTTCGTCGCTATGGTAATTGTGTGYCAGCMGCCGCGGTAA</td><td>        NA</td><td>        NA</td><td>        NA</td><td>       NA</td><td>NA    </td><td>NA       </td></tr>\n",
       "\t<tr><td>N25-208  </td><td>42616</td><td> 25</td><td>208 </td><td>30-Oct-20</td><td>30-Oct</td><td> 8</td><td>NA  </td><td>FM9     </td><td>FWC</td><td>⋯</td><td>TATGGTAATT</td><td>AGCCTTCGTCGC</td><td>GTGYCAGCMGCCGCGGTAA</td><td>AATGATACGGCGACCACCGAGATCTACACGCTAGCCTTCGTCGCTATGGTAATTGTGTGYCAGCMGCCGCGGTAA</td><td>        NA</td><td>        NA</td><td>        NA</td><td>       NA</td><td>NA    </td><td>NA       </td></tr>\n",
       "\t<tr><td>N26-243  </td><td>21453</td><td> 26</td><td>243 </td><td>30-Oct-20</td><td>30-Oct</td><td> 8</td><td>NA  </td><td>FM6     </td><td>FWC</td><td>⋯</td><td>TATGGTAATT</td><td>AGCCTTCGTCGC</td><td>GTGYCAGCMGCCGCGGTAA</td><td>AATGATACGGCGACCACCGAGATCTACACGCTAGCCTTCGTCGCTATGGTAATTGTGTGYCAGCMGCCGCGGTAA</td><td>        NA</td><td>        NA</td><td>        NA</td><td>       NA</td><td>NA    </td><td>NA       </td></tr>\n",
       "\t<tr><td>N272-230 </td><td>38362</td><td>272</td><td>230 </td><td>10-Nov-20</td><td>10-Nov</td><td>19</td><td>NA  </td><td>FM6     </td><td>FWC</td><td>⋯</td><td>TATGGTAATT</td><td>GGTAGTTCATAG</td><td>GTGYCAGCMGCCGCGGTAA</td><td>AATGATACGGCGACCACCGAGATCTACACGCTGGTAGTTCATAGTATGGTAATTGTGTGYCAGCMGCCGCGGTAA</td><td>0.23963400</td><td>0.07503098</td><td>0.08957204</td><td>0.3896960</td><td>DivNet</td><td>Aitchison</td></tr>\n",
       "\t<tr><td>N24-A182 </td><td>27495</td><td> 24</td><td>A182</td><td>30-Oct-20</td><td>30-Oct</td><td> 8</td><td>NA  </td><td>FM19    </td><td>FWC</td><td>⋯</td><td>TATGGTAATT</td><td>AGCCTTCGTCGC</td><td>GTGYCAGCMGCCGCGGTAA</td><td>AATGATACGGCGACCACCGAGATCTACACGCTAGCCTTCGTCGCTATGGTAATTGTGTGYCAGCMGCCGCGGTAA</td><td>        NA</td><td>        NA</td><td>        NA</td><td>       NA</td><td>NA    </td><td>NA       </td></tr>\n",
       "\t<tr><td>N269-A181</td><td>27899</td><td>269</td><td>A181</td><td>10-Nov-20</td><td>10-Nov</td><td>19</td><td>NA  </td><td>FM19    </td><td>FWC</td><td>⋯</td><td>TATGGTAATT</td><td>TAGTTCGGTGAC</td><td>GTGYCAGCMGCCGCGGTAA</td><td>AATGATACGGCGACCACCGAGATCTACACGCTTAGTTCGGTGACTATGGTAATTGTGTGYCAGCMGCCGCGGTAA</td><td>0.23963400</td><td>0.07503098</td><td>0.08957204</td><td>0.3896960</td><td>DivNet</td><td>Aitchison</td></tr>\n",
       "\t<tr><td>N270-A182</td><td>32166</td><td>270</td><td>A182</td><td>10-Nov-20</td><td>10-Nov</td><td>19</td><td>NA  </td><td>FM19    </td><td>FWC</td><td>⋯</td><td>TATGGTAATT</td><td>ACTAAAGCAAAC</td><td>GTGYCAGCMGCCGCGGTAA</td><td>AATGATACGGCGACCACCGAGATCTACACGCTACTAAAGCAAACTATGGTAATTGTGTGYCAGCMGCCGCGGTAA</td><td>0.23963400</td><td>0.07503098</td><td>0.08957204</td><td>0.3896960</td><td>DivNet</td><td>Aitchison</td></tr>\n",
       "\t<tr><td>N273-358 </td><td>35454</td><td>273</td><td>358 </td><td>10-Nov-20</td><td>10-Nov</td><td>19</td><td>NA  </td><td>FM19    </td><td>FWC</td><td>⋯</td><td>TATGGTAATT</td><td>CTACAGGGTCTC</td><td>GTGYCAGCMGCCGCGGTAA</td><td>AATGATACGGCGACCACCGAGATCTACACGCTCTACAGGGTCTCTATGGTAATTGTGTGYCAGCMGCCGCGGTAA</td><td>0.23963400</td><td>0.07503098</td><td>0.08957204</td><td>0.3896960</td><td>DivNet</td><td>Aitchison</td></tr>\n",
       "\t<tr><td>N18-A016 </td><td>29746</td><td> 18</td><td>A016</td><td>30-Oct-20</td><td>30-Oct</td><td> 8</td><td>NA  </td><td>Cooper-9</td><td>UM </td><td>⋯</td><td>TATGGTAATT</td><td>AGCCTTCGTCGC</td><td>GTGYCAGCMGCCGCGGTAA</td><td>AATGATACGGCGACCACCGAGATCTACACGCTAGCCTTCGTCGCTATGGTAATTGTGTGYCAGCMGCCGCGGTAA</td><td>        NA</td><td>        NA</td><td>        NA</td><td>       NA</td><td>NA    </td><td>NA       </td></tr>\n",
       "\t<tr><td>N21-A095 </td><td>31271</td><td> 21</td><td>A095</td><td>30-Oct-20</td><td>30-Oct</td><td> 8</td><td>NA  </td><td>Kelsey-1</td><td>UM </td><td>⋯</td><td>TATGGTAATT</td><td>AGCCTTCGTCGC</td><td>GTGYCAGCMGCCGCGGTAA</td><td>AATGATACGGCGACCACCGAGATCTACACGCTAGCCTTCGTCGCTATGGTAATTGTGTGYCAGCMGCCGCGGTAA</td><td>        NA</td><td>        NA</td><td>        NA</td><td>       NA</td><td>NA    </td><td>NA       </td></tr>\n",
       "\t<tr><td>N19-A053 </td><td>23549</td><td> 19</td><td>A053</td><td>30-Oct-20</td><td>30-Oct</td><td> 8</td><td>NA  </td><td>Acerv2  </td><td>UM </td><td>⋯</td><td>TATGGTAATT</td><td>AGCCTTCGTCGC</td><td>GTGYCAGCMGCCGCGGTAA</td><td>AATGATACGGCGACCACCGAGATCTACACGCTAGCCTTCGTCGCTATGGTAATTGTGTGYCAGCMGCCGCGGTAA</td><td>        NA</td><td>        NA</td><td>        NA</td><td>       NA</td><td>NA    </td><td>NA       </td></tr>\n",
       "\t<tr><td>N86-A052 </td><td>34109</td><td> 86</td><td>A052</td><td>3-Nov-20 </td><td>3-Nov </td><td>12</td><td>r1_w</td><td>Acerv2  </td><td>UM </td><td>⋯</td><td>TATGGTAATT</td><td>AGCCTTCGTCGC</td><td>GTGYCAGCMGCCGCGGTAA</td><td>AATGATACGGCGACCACCGAGATCTACACGCTAGCCTTCGTCGCTATGGTAATTGTGTGYCAGCMGCCGCGGTAA</td><td>0.08049877</td><td>0.02574797</td><td>0.02900283</td><td>0.1319947</td><td>DivNet</td><td>Aitchison</td></tr>\n",
       "\t<tr><td>N106-A051</td><td>28128</td><td>106</td><td>A051</td><td>5-Nov-20 </td><td>5-Nov </td><td>14</td><td>r1_w</td><td>Acerv2  </td><td>UM </td><td>⋯</td><td>TATGGTAATT</td><td>AGCCTTCGTCGC</td><td>GTGYCAGCMGCCGCGGTAA</td><td>AATGATACGGCGACCACCGAGATCTACACGCTAGCCTTCGTCGCTATGGTAATTGTGTGYCAGCMGCCGCGGTAA</td><td>0.08049877</td><td>0.02574797</td><td>0.02900283</td><td>0.1319947</td><td>DivNet</td><td>Aitchison</td></tr>\n",
       "\t<tr><td>N128-A052</td><td>27263</td><td>128</td><td>A052</td><td>6-Nov-20 </td><td>6-Nov </td><td>15</td><td>r2_w</td><td>Acerv2  </td><td>UM </td><td>⋯</td><td>TATGGTAATT</td><td>TCATGGCCTCCG</td><td>GTGYCAGCMGCCGCGGTAA</td><td>AATGATACGGCGACCACCGAGATCTACACGCTTCATGGCCTCCGTATGGTAATTGTGTGYCAGCMGCCGCGGTAA</td><td>0.08049877</td><td>0.02574797</td><td>0.02900283</td><td>0.1319947</td><td>DivNet</td><td>Aitchison</td></tr>\n",
       "\t<tr><td>N8-A060  </td><td>25759</td><td>  8</td><td>A060</td><td>24-Oct-20</td><td>24-Oct</td><td> 3</td><td>NA  </td><td>Acerv2  </td><td>UM </td><td>⋯</td><td>TATGGTAATT</td><td>GTTTGAAACACG</td><td>GTGYCAGCMGCCGCGGTAA</td><td>AATGATACGGCGACCACCGAGATCTACACGCTGTTTGAAACACGTATGGTAATTGTGTGYCAGCMGCCGCGGTAA</td><td>0.08049877</td><td>0.02574797</td><td>0.02900283</td><td>0.1319947</td><td>DivNet</td><td>Aitchison</td></tr>\n",
       "\t<tr><td>N9-A048  </td><td>45982</td><td>  9</td><td>A048</td><td>25-Oct-20</td><td>25-Oct</td><td> 4</td><td>NA  </td><td>Acerv2  </td><td>UM </td><td>⋯</td><td>TATGGTAATT</td><td>CTACAGGGTCTC</td><td>GTGYCAGCMGCCGCGGTAA</td><td>AATGATACGGCGACCACCGAGATCTACACGCTCTACAGGGTCTCTATGGTAATTGTGTGYCAGCMGCCGCGGTAA</td><td>0.08049877</td><td>0.02574797</td><td>0.02900283</td><td>0.1319947</td><td>DivNet</td><td>Aitchison</td></tr>\n",
       "\t<tr><td>N60-A056 </td><td>75497</td><td> 60</td><td>A056</td><td>30-Oct-20</td><td>30-Oct</td><td> 8</td><td>NA  </td><td>Acerv2  </td><td>UM </td><td>⋯</td><td>TATGGTAATT</td><td>AGCCTTCGTCGC</td><td>GTGYCAGCMGCCGCGGTAA</td><td>AATGATACGGCGACCACCGAGATCTACACGCTAGCCTTCGTCGCTATGGTAATTGTGTGYCAGCMGCCGCGGTAA</td><td>        NA</td><td>        NA</td><td>        NA</td><td>       NA</td><td>NA    </td><td>NA       </td></tr>\n",
       "\t<tr><td>N11-A153 </td><td>27631</td><td> 11</td><td>A153</td><td>26-Oct-20</td><td>26-Oct</td><td> 5</td><td>NA  </td><td>Kelsey-1</td><td>UM </td><td>⋯</td><td>TATGGTAATT</td><td>CTACAGGGTCTC</td><td>GTGYCAGCMGCCGCGGTAA</td><td>AATGATACGGCGACCACCGAGATCTACACGCTCTACAGGGTCTCTATGGTAATTGTGTGYCAGCMGCCGCGGTAA</td><td>0.23963400</td><td>0.07503098</td><td>0.08957204</td><td>0.3896960</td><td>DivNet</td><td>Aitchison</td></tr>\n",
       "\t<tr><td>N17-A002 </td><td>31376</td><td> 17</td><td>A002</td><td>29-Oct-20</td><td>29-Oct</td><td> 7</td><td>NA  </td><td>Kelsey-1</td><td>UM </td><td>⋯</td><td>TATGGTAATT</td><td>CTACAGGGTCTC</td><td>GTGYCAGCMGCCGCGGTAA</td><td>AATGATACGGCGACCACCGAGATCTACACGCTCTACAGGGTCTCTATGGTAATTGTGTGYCAGCMGCCGCGGTAA</td><td>0.23963400</td><td>0.07503098</td><td>0.08957204</td><td>0.3896960</td><td>DivNet</td><td>Aitchison</td></tr>\n",
       "\t<tr><td>N70-A052 </td><td>24607</td><td> 70</td><td>A052</td><td>30-Oct-20</td><td>30-Oct</td><td> 8</td><td>NA  </td><td>Acerv2  </td><td>UM </td><td>⋯</td><td>TATGGTAATT</td><td>AGCCTTCGTCGC</td><td>GTGYCAGCMGCCGCGGTAA</td><td>AATGATACGGCGACCACCGAGATCTACACGCTAGCCTTCGTCGCTATGGTAATTGTGTGYCAGCMGCCGCGGTAA</td><td>        NA</td><td>        NA</td><td>        NA</td><td>       NA</td><td>NA    </td><td>NA       </td></tr>\n",
       "\t<tr><td>N139-A014</td><td>22795</td><td>139</td><td>A014</td><td>6-Nov-20 </td><td>6-Nov </td><td>15</td><td>NA  </td><td>Kelsey-1</td><td>UM </td><td>⋯</td><td>TATGGTAATT</td><td>TAAACCTGGACA</td><td>GTGYCAGCMGCCGCGGTAA</td><td>AATGATACGGCGACCACCGAGATCTACACGCTTAAACCTGGACATATGGTAATTGTGTGYCAGCMGCCGCGGTAA</td><td>0.08049877</td><td>0.02574797</td><td>0.02900283</td><td>0.1319947</td><td>DivNet</td><td>Aitchison</td></tr>\n",
       "\t<tr><td>N31-A097 </td><td>35470</td><td> 31</td><td>A097</td><td>30-Oct-20</td><td>30-Oct</td><td> 8</td><td>NA  </td><td>Kelsey-1</td><td>UM </td><td>⋯</td><td>TATGGTAATT</td><td>AGCCTTCGTCGC</td><td>GTGYCAGCMGCCGCGGTAA</td><td>AATGATACGGCGACCACCGAGATCTACACGCTAGCCTTCGTCGCTATGGTAATTGTGTGYCAGCMGCCGCGGTAA</td><td>        NA</td><td>        NA</td><td>        NA</td><td>       NA</td><td>NA    </td><td>NA       </td></tr>\n",
       "\t<tr><td>⋮</td><td>⋮</td><td>⋮</td><td>⋮</td><td>⋮</td><td>⋮</td><td>⋮</td><td>⋮</td><td>⋮</td><td>⋮</td><td>⋱</td><td>⋮</td><td>⋮</td><td>⋮</td><td>⋮</td><td>⋮</td><td>⋮</td><td>⋮</td><td>⋮</td><td>⋮</td><td>⋮</td></tr>\n",
       "\t<tr><td>N117-163      </td><td>43137</td><td>117</td><td>163       </td><td>5-Nov-20 </td><td>5-Nov </td><td>14</td><td>NA  </td><td>K2      </td><td>CRF</td><td>⋯</td><td>TATGGTAATT</td><td>CTACAGGGTCTC</td><td>GTGYCAGCMGCCGCGGTAA</td><td>AATGATACGGCGACCACCGAGATCTACACGCTCTACAGGGTCTCTATGGTAATTGTGTGYCAGCMGCCGCGGTAA</td><td>0.23963400</td><td>0.07503098</td><td>0.08957204</td><td>0.3896960</td><td>DivNet</td><td>Aitchison</td></tr>\n",
       "\t<tr><td>N97-205       </td><td>37212</td><td> 97</td><td>205       </td><td>4-Nov-20 </td><td>4-Nov </td><td>13</td><td>NA  </td><td>FM9     </td><td>FWC</td><td>⋯</td><td>TATGGTAATT</td><td>AGCCTTCGTCGC</td><td>GTGYCAGCMGCCGCGGTAA</td><td>AATGATACGGCGACCACCGAGATCTACACGCTAGCCTTCGTCGCTATGGTAATTGTGTGYCAGCMGCCGCGGTAA</td><td>0.23963400</td><td>0.07503098</td><td>0.08957204</td><td>0.3896960</td><td>DivNet</td><td>Aitchison</td></tr>\n",
       "\t<tr><td>N136-A161     </td><td>38303</td><td>136</td><td>A161      </td><td>6-Nov-20 </td><td>6-Nov </td><td>15</td><td>NA  </td><td>K2      </td><td>CRF</td><td>⋯</td><td>TATGGTAATT</td><td>CAATCATAGGTG</td><td>GTGYCAGCMGCCGCGGTAA</td><td>AATGATACGGCGACCACCGAGATCTACACGCTCAATCATAGGTGTATGGTAATTGTGTGYCAGCMGCCGCGGTAA</td><td>0.23963400</td><td>0.07503098</td><td>0.08957204</td><td>0.3896960</td><td>DivNet</td><td>Aitchison</td></tr>\n",
       "\t<tr><td>N159-202      </td><td>32701</td><td>159</td><td>202       </td><td>6-Nov-20 </td><td>6-Nov </td><td>15</td><td>NA  </td><td>FM9     </td><td>FWC</td><td>⋯</td><td>TATGGTAATT</td><td>CTACAGGGTCTC</td><td>GTGYCAGCMGCCGCGGTAA</td><td>AATGATACGGCGACCACCGAGATCTACACGCTCTACAGGGTCTCTATGGTAATTGTGTGYCAGCMGCCGCGGTAA</td><td>0.23963400</td><td>0.07503098</td><td>0.08957204</td><td>0.3896960</td><td>DivNet</td><td>Aitchison</td></tr>\n",
       "\t<tr><td>N112-A005     </td><td>42758</td><td>112</td><td>A005      </td><td>5-Nov-20 </td><td>5-Nov </td><td>14</td><td>NA  </td><td>Kelsey-1</td><td>UM </td><td>⋯</td><td>TATGGTAATT</td><td>AGCCTTCGTCGC</td><td>GTGYCAGCMGCCGCGGTAA</td><td>AATGATACGGCGACCACCGAGATCTACACGCTAGCCTTCGTCGCTATGGTAATTGTGTGYCAGCMGCCGCGGTAA</td><td>0.23963400</td><td>0.07503098</td><td>0.08957204</td><td>0.3896960</td><td>DivNet</td><td>Aitchison</td></tr>\n",
       "\t<tr><td>N173-A095     </td><td>45816</td><td>173</td><td>A095      </td><td>7-Nov-20 </td><td>7-Nov </td><td>16</td><td>NA  </td><td>Kelsey-1</td><td>UM </td><td>⋯</td><td>TATGGTAATT</td><td>CTACAGGGTCTC</td><td>GTGYCAGCMGCCGCGGTAA</td><td>AATGATACGGCGACCACCGAGATCTACACGCTCTACAGGGTCTCTATGGTAATTGTGTGYCAGCMGCCGCGGTAA</td><td>0.23963400</td><td>0.07503098</td><td>0.08957204</td><td>0.3896960</td><td>DivNet</td><td>Aitchison</td></tr>\n",
       "\t<tr><td>N89-A053      </td><td>25245</td><td> 89</td><td>A053      </td><td>3-Nov-20 </td><td>3-Nov </td><td>12</td><td>NA  </td><td>Acerv2  </td><td>UM </td><td>⋯</td><td>TATGGTAATT</td><td>AGCCTTCGTCGC</td><td>GTGYCAGCMGCCGCGGTAA</td><td>AATGATACGGCGACCACCGAGATCTACACGCTAGCCTTCGTCGCTATGGTAATTGTGTGYCAGCMGCCGCGGTAA</td><td>0.23963400</td><td>0.07503098</td><td>0.08957204</td><td>0.3896960</td><td>DivNet</td><td>Aitchison</td></tr>\n",
       "\t<tr><td>N134-A049     </td><td>41241</td><td>134</td><td>A049      </td><td>6-Nov-20 </td><td>6-Nov </td><td>15</td><td>NA  </td><td>Acerv2  </td><td>UM </td><td>⋯</td><td>TATGGTAATT</td><td>CTACAGGGTCTC</td><td>GTGYCAGCMGCCGCGGTAA</td><td>AATGATACGGCGACCACCGAGATCTACACGCTCTACAGGGTCTCTATGGTAATTGTGTGYCAGCMGCCGCGGTAA</td><td>0.23963400</td><td>0.07503098</td><td>0.08957204</td><td>0.3896960</td><td>DivNet</td><td>Aitchison</td></tr>\n",
       "\t<tr><td>N154-A087     </td><td>34955</td><td>154</td><td>A087      </td><td>6-Nov-20 </td><td>6-Nov </td><td>15</td><td>NA  </td><td>Elkhorn </td><td>UM </td><td>⋯</td><td>TATGGTAATT</td><td>TGCGGCGTCAGG</td><td>GTGYCAGCMGCCGCGGTAA</td><td>AATGATACGGCGACCACCGAGATCTACACGCTTGCGGCGTCAGGTATGGTAATTGTGTGYCAGCMGCCGCGGTAA</td><td>0.23963400</td><td>0.07503098</td><td>0.08957204</td><td>0.3896960</td><td>DivNet</td><td>Aitchison</td></tr>\n",
       "\t<tr><td>N185-A088     </td><td>36439</td><td>185</td><td>A088      </td><td>8-Nov-20 </td><td>8-Nov </td><td>17</td><td>r1_m</td><td>Elkhorn </td><td>UM </td><td>⋯</td><td>TATGGTAATT</td><td>GTCCGTCCTGGT</td><td>GTGYCAGCMGCCGCGGTAA</td><td>AATGATACGGCGACCACCGAGATCTACACGCTGTCCGTCCTGGTTATGGTAATTGTGTGYCAGCMGCCGCGGTAA</td><td>0.23963400</td><td>0.07503098</td><td>0.08957204</td><td>0.3896960</td><td>DivNet</td><td>Aitchison</td></tr>\n",
       "\t<tr><td>N185-A088-R2  </td><td>34179</td><td>185</td><td>A088      </td><td>8-Nov-20 </td><td>8-Nov </td><td>17</td><td>r2_m</td><td>Elkhorn </td><td>UM </td><td>⋯</td><td>TATGGTAATT</td><td>CTACAGGGTCTC</td><td>GTGYCAGCMGCCGCGGTAA</td><td>AATGATACGGCGACCACCGAGATCTACACGCTCTACAGGGTCTCTATGGTAATTGTGTGYCAGCMGCCGCGGTAA</td><td>        NA</td><td>        NA</td><td>        NA</td><td>       NA</td><td>NA    </td><td>NA       </td></tr>\n",
       "\t<tr><td>N192-A057     </td><td>32787</td><td>192</td><td>A057      </td><td>9-Nov-20 </td><td>9-Nov </td><td>18</td><td>NA  </td><td>Acerv2  </td><td>UM </td><td>⋯</td><td>TATGGTAATT</td><td>CACACAAAGTCA</td><td>GTGYCAGCMGCCGCGGTAA</td><td>AATGATACGGCGACCACCGAGATCTACACGCTCACACAAAGTCATATGGTAATTGTGTGYCAGCMGCCGCGGTAA</td><td>0.23963400</td><td>0.07503098</td><td>0.08957204</td><td>0.3896960</td><td>DivNet</td><td>Aitchison</td></tr>\n",
       "\t<tr><td>N101-A118     </td><td>37571</td><td>101</td><td>A118      </td><td>4-Nov-20 </td><td>4-Nov </td><td>13</td><td>NA  </td><td>U41     </td><td>CRF</td><td>⋯</td><td>TATGGTAATT</td><td>AGCCTTCGTCGC</td><td>GTGYCAGCMGCCGCGGTAA</td><td>AATGATACGGCGACCACCGAGATCTACACGCTAGCCTTCGTCGCTATGGTAATTGTGTGYCAGCMGCCGCGGTAA</td><td>        NA</td><td>        NA</td><td>        NA</td><td>       NA</td><td>NA    </td><td>NA       </td></tr>\n",
       "\t<tr><td>N119-A107     </td><td>40509</td><td>119</td><td>A107      </td><td>5-Nov-20 </td><td>5-Nov </td><td>14</td><td>NA  </td><td>U41     </td><td>CRF</td><td>⋯</td><td>TATGGTAATT</td><td>CTACAGGGTCTC</td><td>GTGYCAGCMGCCGCGGTAA</td><td>AATGATACGGCGACCACCGAGATCTACACGCTCTACAGGGTCTCTATGGTAATTGTGTGYCAGCMGCCGCGGTAA</td><td>        NA</td><td>        NA</td><td>        NA</td><td>       NA</td><td>NA    </td><td>NA       </td></tr>\n",
       "\t<tr><td>N184-A051     </td><td>29572</td><td>184</td><td>A051      </td><td>8-Nov-20 </td><td>8-Nov </td><td>17</td><td>r2_w</td><td>Acerv2  </td><td>UM </td><td>⋯</td><td>TATGGTAATT</td><td>TCAAGTCCGCAC</td><td>GTGYCAGCMGCCGCGGTAA</td><td>AATGATACGGCGACCACCGAGATCTACACGCTTCAAGTCCGCACTATGGTAATTGTGTGYCAGCMGCCGCGGTAA</td><td>0.08049877</td><td>0.02574797</td><td>0.02900283</td><td>0.1319947</td><td>DivNet</td><td>Aitchison</td></tr>\n",
       "\t<tr><td>N181-A102     </td><td>42994</td><td>181</td><td>A102      </td><td>7-Nov-20 </td><td>7-Nov </td><td>16</td><td>NA  </td><td>U44     </td><td>CRF</td><td>⋯</td><td>TATGGTAATT</td><td>CTACAGGGTCTC</td><td>GTGYCAGCMGCCGCGGTAA</td><td>AATGATACGGCGACCACCGAGATCTACACGCTCTACAGGGTCTCTATGGTAATTGTGTGYCAGCMGCCGCGGTAA</td><td>0.23963400</td><td>0.07503098</td><td>0.08957204</td><td>0.3896960</td><td>DivNet</td><td>Aitchison</td></tr>\n",
       "\t<tr><td>N116-A058     </td><td>50041</td><td>116</td><td>A058      </td><td>5-Nov-20 </td><td>5-Nov </td><td>14</td><td>NA  </td><td>Acerv2  </td><td>UM </td><td>⋯</td><td>TATGGTAATT</td><td>CTACAGGGTCTC</td><td>GTGYCAGCMGCCGCGGTAA</td><td>AATGATACGGCGACCACCGAGATCTACACGCTCTACAGGGTCTCTATGGTAATTGTGTGYCAGCMGCCGCGGTAA</td><td>0.23963400</td><td>0.07503098</td><td>0.08957204</td><td>0.3896960</td><td>DivNet</td><td>Aitchison</td></tr>\n",
       "\t<tr><td>N131-200      </td><td>  650</td><td>131</td><td>200       </td><td>6-Nov-20 </td><td>6-Nov </td><td>15</td><td>NA  </td><td>FM9     </td><td>FWC</td><td>⋯</td><td>TATGGTAATT</td><td>CGCCGTACTTGC</td><td>GTGYCAGCMGCCGCGGTAA</td><td>AATGATACGGCGACCACCGAGATCTACACGCTCGCCGTACTTGCTATGGTAATTGTGTGYCAGCMGCCGCGGTAA</td><td>0.23963400</td><td>0.07503098</td><td>0.08957204</td><td>0.3896960</td><td>DivNet</td><td>Aitchison</td></tr>\n",
       "\t<tr><td>N115-247      </td><td>24933</td><td>115</td><td>247       </td><td>5-Nov-20 </td><td>5-Nov </td><td>14</td><td>NA  </td><td>FM6     </td><td>FWC</td><td>⋯</td><td>TATGGTAATT</td><td>TCAGACCAACTG</td><td>GTGYCAGCMGCCGCGGTAA</td><td>AATGATACGGCGACCACCGAGATCTACACGCTTCAGACCAACTGTATGGTAATTGTGTGYCAGCMGCCGCGGTAA</td><td>0.23963400</td><td>0.07503098</td><td>0.08957204</td><td>0.3896960</td><td>DivNet</td><td>Aitchison</td></tr>\n",
       "\t<tr><td>N132-A031     </td><td>57619</td><td>132</td><td>A031      </td><td>6-Nov-20 </td><td>6-Nov </td><td>15</td><td>NA  </td><td>Cooper-9</td><td>UM </td><td>⋯</td><td>TATGGTAATT</td><td>CTACAGGGTCTC</td><td>GTGYCAGCMGCCGCGGTAA</td><td>AATGATACGGCGACCACCGAGATCTACACGCTCTACAGGGTCTCTATGGTAATTGTGTGYCAGCMGCCGCGGTAA</td><td>0.23963400</td><td>0.07503098</td><td>0.08957204</td><td>0.3896960</td><td>DivNet</td><td>Aitchison</td></tr>\n",
       "\t<tr><td>N92-A007      </td><td>35656</td><td> 92</td><td>A007      </td><td>4-Nov-20 </td><td>4-Nov </td><td>13</td><td>NA  </td><td>Kelsey-1</td><td>UM </td><td>⋯</td><td>TATGGTAATT</td><td>AGCCTTCGTCGC</td><td>GTGYCAGCMGCCGCGGTAA</td><td>AATGATACGGCGACCACCGAGATCTACACGCTAGCCTTCGTCGCTATGGTAATTGTGTGYCAGCMGCCGCGGTAA</td><td>0.08049877</td><td>0.02574797</td><td>0.02900283</td><td>0.1319947</td><td>DivNet</td><td>Aitchison</td></tr>\n",
       "\t<tr><td>N83-A046      </td><td>41686</td><td> 83</td><td>A046      </td><td>3-Nov-20 </td><td>3-Nov </td><td>12</td><td>NA  </td><td>Acerv2  </td><td>UM </td><td>⋯</td><td>TATGGTAATT</td><td>AGCCTTCGTCGC</td><td>GTGYCAGCMGCCGCGGTAA</td><td>AATGATACGGCGACCACCGAGATCTACACGCTAGCCTTCGTCGCTATGGTAATTGTGTGYCAGCMGCCGCGGTAA</td><td>0.23963400</td><td>0.07503098</td><td>0.08957204</td><td>0.3896960</td><td>DivNet</td><td>Aitchison</td></tr>\n",
       "\t<tr><td>N84-A030      </td><td>23551</td><td> 84</td><td>A030      </td><td>3-Nov-20 </td><td>3-Nov </td><td>12</td><td>NA  </td><td>Cooper-9</td><td>UM </td><td>⋯</td><td>TATGGTAATT</td><td>AGCCTTCGTCGC</td><td>GTGYCAGCMGCCGCGGTAA</td><td>AATGATACGGCGACCACCGAGATCTACACGCTAGCCTTCGTCGCTATGGTAATTGTGTGYCAGCMGCCGCGGTAA</td><td>0.23963400</td><td>0.07503098</td><td>0.08957204</td><td>0.3896960</td><td>DivNet</td><td>Aitchison</td></tr>\n",
       "\t<tr><td>N12-A008      </td><td>48424</td><td> 12</td><td>A008      </td><td>26-Oct-20</td><td>26-Oct</td><td> 5</td><td>NA  </td><td>Kelsey-1</td><td>UM </td><td>⋯</td><td>TATGGTAATT</td><td>CTACAGGGTCTC</td><td>GTGYCAGCMGCCGCGGTAA</td><td>AATGATACGGCGACCACCGAGATCTACACGCTCTACAGGGTCTCTATGGTAATTGTGTGYCAGCMGCCGCGGTAA</td><td>0.08049877</td><td>0.02574797</td><td>0.02900283</td><td>0.1319947</td><td>DivNet</td><td>Aitchison</td></tr>\n",
       "\t<tr><td>N271-228      </td><td>26944</td><td>271</td><td>228       </td><td>10-Nov-20</td><td>10-Nov</td><td>19</td><td>NA  </td><td>FM9     </td><td>FWC</td><td>⋯</td><td>TATGGTAATT</td><td>CTTGCTCATAAT</td><td>GTGYCAGCMGCCGCGGTAA</td><td>AATGATACGGCGACCACCGAGATCTACACGCTCTTGCTCATAATTATGGTAATTGTGTGYCAGCMGCCGCGGTAA</td><td>0.23963400</td><td>0.07503098</td><td>0.08957204</td><td>0.3896960</td><td>DivNet</td><td>Aitchison</td></tr>\n",
       "\t<tr><td>N268-A180     </td><td>33042</td><td>268</td><td>A180      </td><td>10-Nov-20</td><td>10-Nov</td><td>19</td><td>NA  </td><td>FM19    </td><td>FWC</td><td>⋯</td><td>TATGGTAATT</td><td>CTACAGGGTCTC</td><td>GTGYCAGCMGCCGCGGTAA</td><td>AATGATACGGCGACCACCGAGATCTACACGCTCTACAGGGTCTCTATGGTAATTGTGTGYCAGCMGCCGCGGTAA</td><td>0.23963400</td><td>0.07503098</td><td>0.08957204</td><td>0.3896960</td><td>DivNet</td><td>Aitchison</td></tr>\n",
       "\t<tr><td>N88-Hom-Hea   </td><td>21207</td><td> 88</td><td>Hom_Dis_R1</td><td>31-Oct-20</td><td>31-Oct</td><td> 9</td><td>NA  </td><td>NA      </td><td>NA </td><td>⋯</td><td>TATGGTAATT</td><td>CTACAGGGTCTC</td><td>GTGYCAGCMGCCGCGGTAA</td><td>AATGATACGGCGACCACCGAGATCTACACGCTCTACAGGGTCTCTATGGTAATTGTGTGYCAGCMGCCGCGGTAA</td><td>        NA</td><td>        NA</td><td>        NA</td><td>       NA</td><td>NA    </td><td>NA       </td></tr>\n",
       "\t<tr><td>N88-Hom-Hea-R2</td><td>35515</td><td> 88</td><td>Hom_Dis_R2</td><td>31-Oct-20</td><td>31-Oct</td><td> 9</td><td>NA  </td><td>NA      </td><td>NA </td><td>⋯</td><td>TATGGTAATT</td><td>TTAAGTTAAGTT</td><td>GTGYCAGCMGCCGCGGTAA</td><td>AATGATACGGCGACCACCGAGATCTACACGCTTTAAGTTAAGTTTATGGTAATTGTGTGYCAGCMGCCGCGGTAA</td><td>        NA</td><td>        NA</td><td>        NA</td><td>       NA</td><td>NA    </td><td>NA       </td></tr>\n",
       "\t<tr><td>N1-Hom_       </td><td>48625</td><td>  1</td><td>Hom_R1    </td><td>NA       </td><td>NA    </td><td>NA</td><td>NA  </td><td>NA      </td><td>NA </td><td>⋯</td><td>TATGGTAATT</td><td>CTACAGGGTCTC</td><td>GTGYCAGCMGCCGCGGTAA</td><td>AATGATACGGCGACCACCGAGATCTACACGCTCTACAGGGTCTCTATGGTAATTGTGTGYCAGCMGCCGCGGTAA</td><td>        NA</td><td>        NA</td><td>        NA</td><td>       NA</td><td>NA    </td><td>NA       </td></tr>\n",
       "\t<tr><td>N3-Hom        </td><td>16005</td><td>  3</td><td>Hom_3_R1  </td><td>NA       </td><td>NA    </td><td>NA</td><td>NA  </td><td>NA      </td><td>NA </td><td>⋯</td><td>TATGGTAATT</td><td>CTACAGGGTCTC</td><td>GTGYCAGCMGCCGCGGTAA</td><td>AATGATACGGCGACCACCGAGATCTACACGCTCTACAGGGTCTCTATGGTAATTGTGTGYCAGCMGCCGCGGTAA</td><td>        NA</td><td>        NA</td><td>        NA</td><td>       NA</td><td>NA    </td><td>NA       </td></tr>\n",
       "</tbody>\n",
       "</table>\n"
      ],
      "text/latex": [
       "A data.frame: 284 × 50\n",
       "\\begin{tabular}{lllllllllllllllllllll}\n",
       " sample\\_names & featurecounts & Initial\\_sample\\_ID & Tag & Date\\_Collected & Date & TimePoint & Replicate & Genotype & Nursery & ⋯ & Forward\\_Primer\\_Pad & Golay\\_Barcode & X515FB\\_Forward\\_Primer & Primer\\_For\\_PCR & estimate & error & lower & upper & name & model\\\\\n",
       " <chr> & <int> & <int> & <chr> & <chr> & <chr> & <int> & <chr> & <chr> & <chr> & ⋯ & <chr> & <chr> & <chr> & <chr> & <dbl> & <dbl> & <dbl> & <dbl> & <chr> & <chr>\\\\\n",
       "\\hline\n",
       "\t N13-A038  & 26888 &  13 & A038 & 26-Oct-20 & 26-Oct &  5 & NA   & Cooper-9 & UM  & ⋯ & TATGGTAATT & CTACAGGGTCTC & GTGYCAGCMGCCGCGGTAA & AATGATACGGCGACCACCGAGATCTACACGCTCTACAGGGTCTCTATGGTAATTGTGTGYCAGCMGCCGCGGTAA & 0.23963400 & 0.07503098 & 0.08957204 & 0.3896960 & DivNet & Aitchison\\\\\n",
       "\t N14-A040  & 38951 &  14 & A040 & 28-Oct-20 & 28-Oct &  6 & NA   & Acerv2   & UM  & ⋯ & TATGGTAATT & TTGAACAAGCCA & GTGYCAGCMGCCGCGGTAA & AATGATACGGCGACCACCGAGATCTACACGCTTTGAACAAGCCATATGGTAATTGTGTGYCAGCMGCCGCGGTAA & 0.23963400 & 0.07503098 & 0.08957204 & 0.3896960 & DivNet & Aitchison\\\\\n",
       "\t N23-A166  & 16954 &  23 & A166 & 30-Oct-20 & 30-Oct &  8 & NA   & K2       & CRF & ⋯ & TATGGTAATT & AGCCTTCGTCGC & GTGYCAGCMGCCGCGGTAA & AATGATACGGCGACCACCGAGATCTACACGCTAGCCTTCGTCGCTATGGTAATTGTGTGYCAGCMGCCGCGGTAA &         NA &         NA &         NA &        NA & NA     & NA       \\\\\n",
       "\t N22-A121  & 67201 &  22 & A121 & 30-Oct-20 & 30-Oct &  8 & NA   & U44      & CRF & ⋯ & TATGGTAATT & AGCCTTCGTCGC & GTGYCAGCMGCCGCGGTAA & AATGATACGGCGACCACCGAGATCTACACGCTAGCCTTCGTCGCTATGGTAATTGTGTGYCAGCMGCCGCGGTAA &         NA &         NA &         NA &        NA & NA     & NA       \\\\\n",
       "\t N266-A104 & 29691 & 266 & A104 & 10-Nov-20 & 10-Nov & 19 & NA   & U44      & CRF & ⋯ & TATGGTAATT & CTACAGGGTCTC & GTGYCAGCMGCCGCGGTAA & AATGATACGGCGACCACCGAGATCTACACGCTCTACAGGGTCTCTATGGTAATTGTGTGYCAGCMGCCGCGGTAA & 0.23963400 & 0.07503098 & 0.08957204 & 0.3896960 & DivNet & Aitchison\\\\\n",
       "\t N267-A110 & 32445 & 267 & A110 & 10-Nov-20 & 10-Nov & 19 & NA   & U41      & CRF & ⋯ & TATGGTAATT & CTACAGGGTCTC & GTGYCAGCMGCCGCGGTAA & AATGATACGGCGACCACCGAGATCTACACGCTCTACAGGGTCTCTATGGTAATTGTGTGYCAGCMGCCGCGGTAA &         NA &         NA &         NA &        NA & NA     & NA       \\\\\n",
       "\t N28-A027  & 44848 &  28 & A027 & 30-Oct-20 & 30-Oct &  8 & NA   & Cooper-9 & UM  & ⋯ & TATGGTAATT & AGCCTTCGTCGC & GTGYCAGCMGCCGCGGTAA & AATGATACGGCGACCACCGAGATCTACACGCTAGCCTTCGTCGCTATGGTAATTGTGTGYCAGCMGCCGCGGTAA &         NA &         NA &         NA &        NA & NA     & NA       \\\\\n",
       "\t N29-A041  & 31284 &  29 & A041 & 30-Oct-20 & 30-Oct &  8 & NA   & Acerv2   & UM  & ⋯ & TATGGTAATT & AGCCTTCGTCGC & GTGYCAGCMGCCGCGGTAA & AATGATACGGCGACCACCGAGATCTACACGCTAGCCTTCGTCGCTATGGTAATTGTGTGYCAGCMGCCGCGGTAA &         NA &         NA &         NA &        NA & NA     & NA       \\\\\n",
       "\t N27-283   & 16502 &  27 & 283  & 30-Oct-20 & 30-Oct &  8 & NA   & FM14     & FWC & ⋯ & TATGGTAATT & AGCCTTCGTCGC & GTGYCAGCMGCCGCGGTAA & AATGATACGGCGACCACCGAGATCTACACGCTAGCCTTCGTCGCTATGGTAATTGTGTGYCAGCMGCCGCGGTAA &         NA &         NA &         NA &        NA & NA     & NA       \\\\\n",
       "\t N25-208   & 42616 &  25 & 208  & 30-Oct-20 & 30-Oct &  8 & NA   & FM9      & FWC & ⋯ & TATGGTAATT & AGCCTTCGTCGC & GTGYCAGCMGCCGCGGTAA & AATGATACGGCGACCACCGAGATCTACACGCTAGCCTTCGTCGCTATGGTAATTGTGTGYCAGCMGCCGCGGTAA &         NA &         NA &         NA &        NA & NA     & NA       \\\\\n",
       "\t N26-243   & 21453 &  26 & 243  & 30-Oct-20 & 30-Oct &  8 & NA   & FM6      & FWC & ⋯ & TATGGTAATT & AGCCTTCGTCGC & GTGYCAGCMGCCGCGGTAA & AATGATACGGCGACCACCGAGATCTACACGCTAGCCTTCGTCGCTATGGTAATTGTGTGYCAGCMGCCGCGGTAA &         NA &         NA &         NA &        NA & NA     & NA       \\\\\n",
       "\t N272-230  & 38362 & 272 & 230  & 10-Nov-20 & 10-Nov & 19 & NA   & FM6      & FWC & ⋯ & TATGGTAATT & GGTAGTTCATAG & GTGYCAGCMGCCGCGGTAA & AATGATACGGCGACCACCGAGATCTACACGCTGGTAGTTCATAGTATGGTAATTGTGTGYCAGCMGCCGCGGTAA & 0.23963400 & 0.07503098 & 0.08957204 & 0.3896960 & DivNet & Aitchison\\\\\n",
       "\t N24-A182  & 27495 &  24 & A182 & 30-Oct-20 & 30-Oct &  8 & NA   & FM19     & FWC & ⋯ & TATGGTAATT & AGCCTTCGTCGC & GTGYCAGCMGCCGCGGTAA & AATGATACGGCGACCACCGAGATCTACACGCTAGCCTTCGTCGCTATGGTAATTGTGTGYCAGCMGCCGCGGTAA &         NA &         NA &         NA &        NA & NA     & NA       \\\\\n",
       "\t N269-A181 & 27899 & 269 & A181 & 10-Nov-20 & 10-Nov & 19 & NA   & FM19     & FWC & ⋯ & TATGGTAATT & TAGTTCGGTGAC & GTGYCAGCMGCCGCGGTAA & AATGATACGGCGACCACCGAGATCTACACGCTTAGTTCGGTGACTATGGTAATTGTGTGYCAGCMGCCGCGGTAA & 0.23963400 & 0.07503098 & 0.08957204 & 0.3896960 & DivNet & Aitchison\\\\\n",
       "\t N270-A182 & 32166 & 270 & A182 & 10-Nov-20 & 10-Nov & 19 & NA   & FM19     & FWC & ⋯ & TATGGTAATT & ACTAAAGCAAAC & GTGYCAGCMGCCGCGGTAA & AATGATACGGCGACCACCGAGATCTACACGCTACTAAAGCAAACTATGGTAATTGTGTGYCAGCMGCCGCGGTAA & 0.23963400 & 0.07503098 & 0.08957204 & 0.3896960 & DivNet & Aitchison\\\\\n",
       "\t N273-358  & 35454 & 273 & 358  & 10-Nov-20 & 10-Nov & 19 & NA   & FM19     & FWC & ⋯ & TATGGTAATT & CTACAGGGTCTC & GTGYCAGCMGCCGCGGTAA & AATGATACGGCGACCACCGAGATCTACACGCTCTACAGGGTCTCTATGGTAATTGTGTGYCAGCMGCCGCGGTAA & 0.23963400 & 0.07503098 & 0.08957204 & 0.3896960 & DivNet & Aitchison\\\\\n",
       "\t N18-A016  & 29746 &  18 & A016 & 30-Oct-20 & 30-Oct &  8 & NA   & Cooper-9 & UM  & ⋯ & TATGGTAATT & AGCCTTCGTCGC & GTGYCAGCMGCCGCGGTAA & AATGATACGGCGACCACCGAGATCTACACGCTAGCCTTCGTCGCTATGGTAATTGTGTGYCAGCMGCCGCGGTAA &         NA &         NA &         NA &        NA & NA     & NA       \\\\\n",
       "\t N21-A095  & 31271 &  21 & A095 & 30-Oct-20 & 30-Oct &  8 & NA   & Kelsey-1 & UM  & ⋯ & TATGGTAATT & AGCCTTCGTCGC & GTGYCAGCMGCCGCGGTAA & AATGATACGGCGACCACCGAGATCTACACGCTAGCCTTCGTCGCTATGGTAATTGTGTGYCAGCMGCCGCGGTAA &         NA &         NA &         NA &        NA & NA     & NA       \\\\\n",
       "\t N19-A053  & 23549 &  19 & A053 & 30-Oct-20 & 30-Oct &  8 & NA   & Acerv2   & UM  & ⋯ & TATGGTAATT & AGCCTTCGTCGC & GTGYCAGCMGCCGCGGTAA & AATGATACGGCGACCACCGAGATCTACACGCTAGCCTTCGTCGCTATGGTAATTGTGTGYCAGCMGCCGCGGTAA &         NA &         NA &         NA &        NA & NA     & NA       \\\\\n",
       "\t N86-A052  & 34109 &  86 & A052 & 3-Nov-20  & 3-Nov  & 12 & r1\\_w & Acerv2   & UM  & ⋯ & TATGGTAATT & AGCCTTCGTCGC & GTGYCAGCMGCCGCGGTAA & AATGATACGGCGACCACCGAGATCTACACGCTAGCCTTCGTCGCTATGGTAATTGTGTGYCAGCMGCCGCGGTAA & 0.08049877 & 0.02574797 & 0.02900283 & 0.1319947 & DivNet & Aitchison\\\\\n",
       "\t N106-A051 & 28128 & 106 & A051 & 5-Nov-20  & 5-Nov  & 14 & r1\\_w & Acerv2   & UM  & ⋯ & TATGGTAATT & AGCCTTCGTCGC & GTGYCAGCMGCCGCGGTAA & AATGATACGGCGACCACCGAGATCTACACGCTAGCCTTCGTCGCTATGGTAATTGTGTGYCAGCMGCCGCGGTAA & 0.08049877 & 0.02574797 & 0.02900283 & 0.1319947 & DivNet & Aitchison\\\\\n",
       "\t N128-A052 & 27263 & 128 & A052 & 6-Nov-20  & 6-Nov  & 15 & r2\\_w & Acerv2   & UM  & ⋯ & TATGGTAATT & TCATGGCCTCCG & GTGYCAGCMGCCGCGGTAA & AATGATACGGCGACCACCGAGATCTACACGCTTCATGGCCTCCGTATGGTAATTGTGTGYCAGCMGCCGCGGTAA & 0.08049877 & 0.02574797 & 0.02900283 & 0.1319947 & DivNet & Aitchison\\\\\n",
       "\t N8-A060   & 25759 &   8 & A060 & 24-Oct-20 & 24-Oct &  3 & NA   & Acerv2   & UM  & ⋯ & TATGGTAATT & GTTTGAAACACG & GTGYCAGCMGCCGCGGTAA & AATGATACGGCGACCACCGAGATCTACACGCTGTTTGAAACACGTATGGTAATTGTGTGYCAGCMGCCGCGGTAA & 0.08049877 & 0.02574797 & 0.02900283 & 0.1319947 & DivNet & Aitchison\\\\\n",
       "\t N9-A048   & 45982 &   9 & A048 & 25-Oct-20 & 25-Oct &  4 & NA   & Acerv2   & UM  & ⋯ & TATGGTAATT & CTACAGGGTCTC & GTGYCAGCMGCCGCGGTAA & AATGATACGGCGACCACCGAGATCTACACGCTCTACAGGGTCTCTATGGTAATTGTGTGYCAGCMGCCGCGGTAA & 0.08049877 & 0.02574797 & 0.02900283 & 0.1319947 & DivNet & Aitchison\\\\\n",
       "\t N60-A056  & 75497 &  60 & A056 & 30-Oct-20 & 30-Oct &  8 & NA   & Acerv2   & UM  & ⋯ & TATGGTAATT & AGCCTTCGTCGC & GTGYCAGCMGCCGCGGTAA & AATGATACGGCGACCACCGAGATCTACACGCTAGCCTTCGTCGCTATGGTAATTGTGTGYCAGCMGCCGCGGTAA &         NA &         NA &         NA &        NA & NA     & NA       \\\\\n",
       "\t N11-A153  & 27631 &  11 & A153 & 26-Oct-20 & 26-Oct &  5 & NA   & Kelsey-1 & UM  & ⋯ & TATGGTAATT & CTACAGGGTCTC & GTGYCAGCMGCCGCGGTAA & AATGATACGGCGACCACCGAGATCTACACGCTCTACAGGGTCTCTATGGTAATTGTGTGYCAGCMGCCGCGGTAA & 0.23963400 & 0.07503098 & 0.08957204 & 0.3896960 & DivNet & Aitchison\\\\\n",
       "\t N17-A002  & 31376 &  17 & A002 & 29-Oct-20 & 29-Oct &  7 & NA   & Kelsey-1 & UM  & ⋯ & TATGGTAATT & CTACAGGGTCTC & GTGYCAGCMGCCGCGGTAA & AATGATACGGCGACCACCGAGATCTACACGCTCTACAGGGTCTCTATGGTAATTGTGTGYCAGCMGCCGCGGTAA & 0.23963400 & 0.07503098 & 0.08957204 & 0.3896960 & DivNet & Aitchison\\\\\n",
       "\t N70-A052  & 24607 &  70 & A052 & 30-Oct-20 & 30-Oct &  8 & NA   & Acerv2   & UM  & ⋯ & TATGGTAATT & AGCCTTCGTCGC & GTGYCAGCMGCCGCGGTAA & AATGATACGGCGACCACCGAGATCTACACGCTAGCCTTCGTCGCTATGGTAATTGTGTGYCAGCMGCCGCGGTAA &         NA &         NA &         NA &        NA & NA     & NA       \\\\\n",
       "\t N139-A014 & 22795 & 139 & A014 & 6-Nov-20  & 6-Nov  & 15 & NA   & Kelsey-1 & UM  & ⋯ & TATGGTAATT & TAAACCTGGACA & GTGYCAGCMGCCGCGGTAA & AATGATACGGCGACCACCGAGATCTACACGCTTAAACCTGGACATATGGTAATTGTGTGYCAGCMGCCGCGGTAA & 0.08049877 & 0.02574797 & 0.02900283 & 0.1319947 & DivNet & Aitchison\\\\\n",
       "\t N31-A097  & 35470 &  31 & A097 & 30-Oct-20 & 30-Oct &  8 & NA   & Kelsey-1 & UM  & ⋯ & TATGGTAATT & AGCCTTCGTCGC & GTGYCAGCMGCCGCGGTAA & AATGATACGGCGACCACCGAGATCTACACGCTAGCCTTCGTCGCTATGGTAATTGTGTGYCAGCMGCCGCGGTAA &         NA &         NA &         NA &        NA & NA     & NA       \\\\\n",
       "\t ⋮ & ⋮ & ⋮ & ⋮ & ⋮ & ⋮ & ⋮ & ⋮ & ⋮ & ⋮ & ⋱ & ⋮ & ⋮ & ⋮ & ⋮ & ⋮ & ⋮ & ⋮ & ⋮ & ⋮ & ⋮\\\\\n",
       "\t N117-163       & 43137 & 117 & 163        & 5-Nov-20  & 5-Nov  & 14 & NA   & K2       & CRF & ⋯ & TATGGTAATT & CTACAGGGTCTC & GTGYCAGCMGCCGCGGTAA & AATGATACGGCGACCACCGAGATCTACACGCTCTACAGGGTCTCTATGGTAATTGTGTGYCAGCMGCCGCGGTAA & 0.23963400 & 0.07503098 & 0.08957204 & 0.3896960 & DivNet & Aitchison\\\\\n",
       "\t N97-205        & 37212 &  97 & 205        & 4-Nov-20  & 4-Nov  & 13 & NA   & FM9      & FWC & ⋯ & TATGGTAATT & AGCCTTCGTCGC & GTGYCAGCMGCCGCGGTAA & AATGATACGGCGACCACCGAGATCTACACGCTAGCCTTCGTCGCTATGGTAATTGTGTGYCAGCMGCCGCGGTAA & 0.23963400 & 0.07503098 & 0.08957204 & 0.3896960 & DivNet & Aitchison\\\\\n",
       "\t N136-A161      & 38303 & 136 & A161       & 6-Nov-20  & 6-Nov  & 15 & NA   & K2       & CRF & ⋯ & TATGGTAATT & CAATCATAGGTG & GTGYCAGCMGCCGCGGTAA & AATGATACGGCGACCACCGAGATCTACACGCTCAATCATAGGTGTATGGTAATTGTGTGYCAGCMGCCGCGGTAA & 0.23963400 & 0.07503098 & 0.08957204 & 0.3896960 & DivNet & Aitchison\\\\\n",
       "\t N159-202       & 32701 & 159 & 202        & 6-Nov-20  & 6-Nov  & 15 & NA   & FM9      & FWC & ⋯ & TATGGTAATT & CTACAGGGTCTC & GTGYCAGCMGCCGCGGTAA & AATGATACGGCGACCACCGAGATCTACACGCTCTACAGGGTCTCTATGGTAATTGTGTGYCAGCMGCCGCGGTAA & 0.23963400 & 0.07503098 & 0.08957204 & 0.3896960 & DivNet & Aitchison\\\\\n",
       "\t N112-A005      & 42758 & 112 & A005       & 5-Nov-20  & 5-Nov  & 14 & NA   & Kelsey-1 & UM  & ⋯ & TATGGTAATT & AGCCTTCGTCGC & GTGYCAGCMGCCGCGGTAA & AATGATACGGCGACCACCGAGATCTACACGCTAGCCTTCGTCGCTATGGTAATTGTGTGYCAGCMGCCGCGGTAA & 0.23963400 & 0.07503098 & 0.08957204 & 0.3896960 & DivNet & Aitchison\\\\\n",
       "\t N173-A095      & 45816 & 173 & A095       & 7-Nov-20  & 7-Nov  & 16 & NA   & Kelsey-1 & UM  & ⋯ & TATGGTAATT & CTACAGGGTCTC & GTGYCAGCMGCCGCGGTAA & AATGATACGGCGACCACCGAGATCTACACGCTCTACAGGGTCTCTATGGTAATTGTGTGYCAGCMGCCGCGGTAA & 0.23963400 & 0.07503098 & 0.08957204 & 0.3896960 & DivNet & Aitchison\\\\\n",
       "\t N89-A053       & 25245 &  89 & A053       & 3-Nov-20  & 3-Nov  & 12 & NA   & Acerv2   & UM  & ⋯ & TATGGTAATT & AGCCTTCGTCGC & GTGYCAGCMGCCGCGGTAA & AATGATACGGCGACCACCGAGATCTACACGCTAGCCTTCGTCGCTATGGTAATTGTGTGYCAGCMGCCGCGGTAA & 0.23963400 & 0.07503098 & 0.08957204 & 0.3896960 & DivNet & Aitchison\\\\\n",
       "\t N134-A049      & 41241 & 134 & A049       & 6-Nov-20  & 6-Nov  & 15 & NA   & Acerv2   & UM  & ⋯ & TATGGTAATT & CTACAGGGTCTC & GTGYCAGCMGCCGCGGTAA & AATGATACGGCGACCACCGAGATCTACACGCTCTACAGGGTCTCTATGGTAATTGTGTGYCAGCMGCCGCGGTAA & 0.23963400 & 0.07503098 & 0.08957204 & 0.3896960 & DivNet & Aitchison\\\\\n",
       "\t N154-A087      & 34955 & 154 & A087       & 6-Nov-20  & 6-Nov  & 15 & NA   & Elkhorn  & UM  & ⋯ & TATGGTAATT & TGCGGCGTCAGG & GTGYCAGCMGCCGCGGTAA & AATGATACGGCGACCACCGAGATCTACACGCTTGCGGCGTCAGGTATGGTAATTGTGTGYCAGCMGCCGCGGTAA & 0.23963400 & 0.07503098 & 0.08957204 & 0.3896960 & DivNet & Aitchison\\\\\n",
       "\t N185-A088      & 36439 & 185 & A088       & 8-Nov-20  & 8-Nov  & 17 & r1\\_m & Elkhorn  & UM  & ⋯ & TATGGTAATT & GTCCGTCCTGGT & GTGYCAGCMGCCGCGGTAA & AATGATACGGCGACCACCGAGATCTACACGCTGTCCGTCCTGGTTATGGTAATTGTGTGYCAGCMGCCGCGGTAA & 0.23963400 & 0.07503098 & 0.08957204 & 0.3896960 & DivNet & Aitchison\\\\\n",
       "\t N185-A088-R2   & 34179 & 185 & A088       & 8-Nov-20  & 8-Nov  & 17 & r2\\_m & Elkhorn  & UM  & ⋯ & TATGGTAATT & CTACAGGGTCTC & GTGYCAGCMGCCGCGGTAA & AATGATACGGCGACCACCGAGATCTACACGCTCTACAGGGTCTCTATGGTAATTGTGTGYCAGCMGCCGCGGTAA &         NA &         NA &         NA &        NA & NA     & NA       \\\\\n",
       "\t N192-A057      & 32787 & 192 & A057       & 9-Nov-20  & 9-Nov  & 18 & NA   & Acerv2   & UM  & ⋯ & TATGGTAATT & CACACAAAGTCA & GTGYCAGCMGCCGCGGTAA & AATGATACGGCGACCACCGAGATCTACACGCTCACACAAAGTCATATGGTAATTGTGTGYCAGCMGCCGCGGTAA & 0.23963400 & 0.07503098 & 0.08957204 & 0.3896960 & DivNet & Aitchison\\\\\n",
       "\t N101-A118      & 37571 & 101 & A118       & 4-Nov-20  & 4-Nov  & 13 & NA   & U41      & CRF & ⋯ & TATGGTAATT & AGCCTTCGTCGC & GTGYCAGCMGCCGCGGTAA & AATGATACGGCGACCACCGAGATCTACACGCTAGCCTTCGTCGCTATGGTAATTGTGTGYCAGCMGCCGCGGTAA &         NA &         NA &         NA &        NA & NA     & NA       \\\\\n",
       "\t N119-A107      & 40509 & 119 & A107       & 5-Nov-20  & 5-Nov  & 14 & NA   & U41      & CRF & ⋯ & TATGGTAATT & CTACAGGGTCTC & GTGYCAGCMGCCGCGGTAA & AATGATACGGCGACCACCGAGATCTACACGCTCTACAGGGTCTCTATGGTAATTGTGTGYCAGCMGCCGCGGTAA &         NA &         NA &         NA &        NA & NA     & NA       \\\\\n",
       "\t N184-A051      & 29572 & 184 & A051       & 8-Nov-20  & 8-Nov  & 17 & r2\\_w & Acerv2   & UM  & ⋯ & TATGGTAATT & TCAAGTCCGCAC & GTGYCAGCMGCCGCGGTAA & AATGATACGGCGACCACCGAGATCTACACGCTTCAAGTCCGCACTATGGTAATTGTGTGYCAGCMGCCGCGGTAA & 0.08049877 & 0.02574797 & 0.02900283 & 0.1319947 & DivNet & Aitchison\\\\\n",
       "\t N181-A102      & 42994 & 181 & A102       & 7-Nov-20  & 7-Nov  & 16 & NA   & U44      & CRF & ⋯ & TATGGTAATT & CTACAGGGTCTC & GTGYCAGCMGCCGCGGTAA & AATGATACGGCGACCACCGAGATCTACACGCTCTACAGGGTCTCTATGGTAATTGTGTGYCAGCMGCCGCGGTAA & 0.23963400 & 0.07503098 & 0.08957204 & 0.3896960 & DivNet & Aitchison\\\\\n",
       "\t N116-A058      & 50041 & 116 & A058       & 5-Nov-20  & 5-Nov  & 14 & NA   & Acerv2   & UM  & ⋯ & TATGGTAATT & CTACAGGGTCTC & GTGYCAGCMGCCGCGGTAA & AATGATACGGCGACCACCGAGATCTACACGCTCTACAGGGTCTCTATGGTAATTGTGTGYCAGCMGCCGCGGTAA & 0.23963400 & 0.07503098 & 0.08957204 & 0.3896960 & DivNet & Aitchison\\\\\n",
       "\t N131-200       &   650 & 131 & 200        & 6-Nov-20  & 6-Nov  & 15 & NA   & FM9      & FWC & ⋯ & TATGGTAATT & CGCCGTACTTGC & GTGYCAGCMGCCGCGGTAA & AATGATACGGCGACCACCGAGATCTACACGCTCGCCGTACTTGCTATGGTAATTGTGTGYCAGCMGCCGCGGTAA & 0.23963400 & 0.07503098 & 0.08957204 & 0.3896960 & DivNet & Aitchison\\\\\n",
       "\t N115-247       & 24933 & 115 & 247        & 5-Nov-20  & 5-Nov  & 14 & NA   & FM6      & FWC & ⋯ & TATGGTAATT & TCAGACCAACTG & GTGYCAGCMGCCGCGGTAA & AATGATACGGCGACCACCGAGATCTACACGCTTCAGACCAACTGTATGGTAATTGTGTGYCAGCMGCCGCGGTAA & 0.23963400 & 0.07503098 & 0.08957204 & 0.3896960 & DivNet & Aitchison\\\\\n",
       "\t N132-A031      & 57619 & 132 & A031       & 6-Nov-20  & 6-Nov  & 15 & NA   & Cooper-9 & UM  & ⋯ & TATGGTAATT & CTACAGGGTCTC & GTGYCAGCMGCCGCGGTAA & AATGATACGGCGACCACCGAGATCTACACGCTCTACAGGGTCTCTATGGTAATTGTGTGYCAGCMGCCGCGGTAA & 0.23963400 & 0.07503098 & 0.08957204 & 0.3896960 & DivNet & Aitchison\\\\\n",
       "\t N92-A007       & 35656 &  92 & A007       & 4-Nov-20  & 4-Nov  & 13 & NA   & Kelsey-1 & UM  & ⋯ & TATGGTAATT & AGCCTTCGTCGC & GTGYCAGCMGCCGCGGTAA & AATGATACGGCGACCACCGAGATCTACACGCTAGCCTTCGTCGCTATGGTAATTGTGTGYCAGCMGCCGCGGTAA & 0.08049877 & 0.02574797 & 0.02900283 & 0.1319947 & DivNet & Aitchison\\\\\n",
       "\t N83-A046       & 41686 &  83 & A046       & 3-Nov-20  & 3-Nov  & 12 & NA   & Acerv2   & UM  & ⋯ & TATGGTAATT & AGCCTTCGTCGC & GTGYCAGCMGCCGCGGTAA & AATGATACGGCGACCACCGAGATCTACACGCTAGCCTTCGTCGCTATGGTAATTGTGTGYCAGCMGCCGCGGTAA & 0.23963400 & 0.07503098 & 0.08957204 & 0.3896960 & DivNet & Aitchison\\\\\n",
       "\t N84-A030       & 23551 &  84 & A030       & 3-Nov-20  & 3-Nov  & 12 & NA   & Cooper-9 & UM  & ⋯ & TATGGTAATT & AGCCTTCGTCGC & GTGYCAGCMGCCGCGGTAA & AATGATACGGCGACCACCGAGATCTACACGCTAGCCTTCGTCGCTATGGTAATTGTGTGYCAGCMGCCGCGGTAA & 0.23963400 & 0.07503098 & 0.08957204 & 0.3896960 & DivNet & Aitchison\\\\\n",
       "\t N12-A008       & 48424 &  12 & A008       & 26-Oct-20 & 26-Oct &  5 & NA   & Kelsey-1 & UM  & ⋯ & TATGGTAATT & CTACAGGGTCTC & GTGYCAGCMGCCGCGGTAA & AATGATACGGCGACCACCGAGATCTACACGCTCTACAGGGTCTCTATGGTAATTGTGTGYCAGCMGCCGCGGTAA & 0.08049877 & 0.02574797 & 0.02900283 & 0.1319947 & DivNet & Aitchison\\\\\n",
       "\t N271-228       & 26944 & 271 & 228        & 10-Nov-20 & 10-Nov & 19 & NA   & FM9      & FWC & ⋯ & TATGGTAATT & CTTGCTCATAAT & GTGYCAGCMGCCGCGGTAA & AATGATACGGCGACCACCGAGATCTACACGCTCTTGCTCATAATTATGGTAATTGTGTGYCAGCMGCCGCGGTAA & 0.23963400 & 0.07503098 & 0.08957204 & 0.3896960 & DivNet & Aitchison\\\\\n",
       "\t N268-A180      & 33042 & 268 & A180       & 10-Nov-20 & 10-Nov & 19 & NA   & FM19     & FWC & ⋯ & TATGGTAATT & CTACAGGGTCTC & GTGYCAGCMGCCGCGGTAA & AATGATACGGCGACCACCGAGATCTACACGCTCTACAGGGTCTCTATGGTAATTGTGTGYCAGCMGCCGCGGTAA & 0.23963400 & 0.07503098 & 0.08957204 & 0.3896960 & DivNet & Aitchison\\\\\n",
       "\t N88-Hom-Hea    & 21207 &  88 & Hom\\_Dis\\_R1 & 31-Oct-20 & 31-Oct &  9 & NA   & NA       & NA  & ⋯ & TATGGTAATT & CTACAGGGTCTC & GTGYCAGCMGCCGCGGTAA & AATGATACGGCGACCACCGAGATCTACACGCTCTACAGGGTCTCTATGGTAATTGTGTGYCAGCMGCCGCGGTAA &         NA &         NA &         NA &        NA & NA     & NA       \\\\\n",
       "\t N88-Hom-Hea-R2 & 35515 &  88 & Hom\\_Dis\\_R2 & 31-Oct-20 & 31-Oct &  9 & NA   & NA       & NA  & ⋯ & TATGGTAATT & TTAAGTTAAGTT & GTGYCAGCMGCCGCGGTAA & AATGATACGGCGACCACCGAGATCTACACGCTTTAAGTTAAGTTTATGGTAATTGTGTGYCAGCMGCCGCGGTAA &         NA &         NA &         NA &        NA & NA     & NA       \\\\\n",
       "\t N1-Hom\\_        & 48625 &   1 & Hom\\_R1     & NA        & NA     & NA & NA   & NA       & NA  & ⋯ & TATGGTAATT & CTACAGGGTCTC & GTGYCAGCMGCCGCGGTAA & AATGATACGGCGACCACCGAGATCTACACGCTCTACAGGGTCTCTATGGTAATTGTGTGYCAGCMGCCGCGGTAA &         NA &         NA &         NA &        NA & NA     & NA       \\\\\n",
       "\t N3-Hom         & 16005 &   3 & Hom\\_3\\_R1   & NA        & NA     & NA & NA   & NA       & NA  & ⋯ & TATGGTAATT & CTACAGGGTCTC & GTGYCAGCMGCCGCGGTAA & AATGATACGGCGACCACCGAGATCTACACGCTCTACAGGGTCTCTATGGTAATTGTGTGYCAGCMGCCGCGGTAA &         NA &         NA &         NA &        NA & NA     & NA       \\\\\n",
       "\\end{tabular}\n"
      ],
      "text/markdown": [
       "\n",
       "A data.frame: 284 × 50\n",
       "\n",
       "| sample_names &lt;chr&gt; | featurecounts &lt;int&gt; | Initial_sample_ID &lt;int&gt; | Tag &lt;chr&gt; | Date_Collected &lt;chr&gt; | Date &lt;chr&gt; | TimePoint &lt;int&gt; | Replicate &lt;chr&gt; | Genotype &lt;chr&gt; | Nursery &lt;chr&gt; | ⋯ ⋯ | Forward_Primer_Pad &lt;chr&gt; | Golay_Barcode &lt;chr&gt; | X515FB_Forward_Primer &lt;chr&gt; | Primer_For_PCR &lt;chr&gt; | estimate &lt;dbl&gt; | error &lt;dbl&gt; | lower &lt;dbl&gt; | upper &lt;dbl&gt; | name &lt;chr&gt; | model &lt;chr&gt; |\n",
       "|---|---|---|---|---|---|---|---|---|---|---|---|---|---|---|---|---|---|---|---|---|\n",
       "| N13-A038  | 26888 |  13 | A038 | 26-Oct-20 | 26-Oct |  5 | NA   | Cooper-9 | UM  | ⋯ | TATGGTAATT | CTACAGGGTCTC | GTGYCAGCMGCCGCGGTAA | AATGATACGGCGACCACCGAGATCTACACGCTCTACAGGGTCTCTATGGTAATTGTGTGYCAGCMGCCGCGGTAA | 0.23963400 | 0.07503098 | 0.08957204 | 0.3896960 | DivNet | Aitchison |\n",
       "| N14-A040  | 38951 |  14 | A040 | 28-Oct-20 | 28-Oct |  6 | NA   | Acerv2   | UM  | ⋯ | TATGGTAATT | TTGAACAAGCCA | GTGYCAGCMGCCGCGGTAA | AATGATACGGCGACCACCGAGATCTACACGCTTTGAACAAGCCATATGGTAATTGTGTGYCAGCMGCCGCGGTAA | 0.23963400 | 0.07503098 | 0.08957204 | 0.3896960 | DivNet | Aitchison |\n",
       "| N23-A166  | 16954 |  23 | A166 | 30-Oct-20 | 30-Oct |  8 | NA   | K2       | CRF | ⋯ | TATGGTAATT | AGCCTTCGTCGC | GTGYCAGCMGCCGCGGTAA | AATGATACGGCGACCACCGAGATCTACACGCTAGCCTTCGTCGCTATGGTAATTGTGTGYCAGCMGCCGCGGTAA |         NA |         NA |         NA |        NA | NA     | NA        |\n",
       "| N22-A121  | 67201 |  22 | A121 | 30-Oct-20 | 30-Oct |  8 | NA   | U44      | CRF | ⋯ | TATGGTAATT | AGCCTTCGTCGC | GTGYCAGCMGCCGCGGTAA | AATGATACGGCGACCACCGAGATCTACACGCTAGCCTTCGTCGCTATGGTAATTGTGTGYCAGCMGCCGCGGTAA |         NA |         NA |         NA |        NA | NA     | NA        |\n",
       "| N266-A104 | 29691 | 266 | A104 | 10-Nov-20 | 10-Nov | 19 | NA   | U44      | CRF | ⋯ | TATGGTAATT | CTACAGGGTCTC | GTGYCAGCMGCCGCGGTAA | AATGATACGGCGACCACCGAGATCTACACGCTCTACAGGGTCTCTATGGTAATTGTGTGYCAGCMGCCGCGGTAA | 0.23963400 | 0.07503098 | 0.08957204 | 0.3896960 | DivNet | Aitchison |\n",
       "| N267-A110 | 32445 | 267 | A110 | 10-Nov-20 | 10-Nov | 19 | NA   | U41      | CRF | ⋯ | TATGGTAATT | CTACAGGGTCTC | GTGYCAGCMGCCGCGGTAA | AATGATACGGCGACCACCGAGATCTACACGCTCTACAGGGTCTCTATGGTAATTGTGTGYCAGCMGCCGCGGTAA |         NA |         NA |         NA |        NA | NA     | NA        |\n",
       "| N28-A027  | 44848 |  28 | A027 | 30-Oct-20 | 30-Oct |  8 | NA   | Cooper-9 | UM  | ⋯ | TATGGTAATT | AGCCTTCGTCGC | GTGYCAGCMGCCGCGGTAA | AATGATACGGCGACCACCGAGATCTACACGCTAGCCTTCGTCGCTATGGTAATTGTGTGYCAGCMGCCGCGGTAA |         NA |         NA |         NA |        NA | NA     | NA        |\n",
       "| N29-A041  | 31284 |  29 | A041 | 30-Oct-20 | 30-Oct |  8 | NA   | Acerv2   | UM  | ⋯ | TATGGTAATT | AGCCTTCGTCGC | GTGYCAGCMGCCGCGGTAA | AATGATACGGCGACCACCGAGATCTACACGCTAGCCTTCGTCGCTATGGTAATTGTGTGYCAGCMGCCGCGGTAA |         NA |         NA |         NA |        NA | NA     | NA        |\n",
       "| N27-283   | 16502 |  27 | 283  | 30-Oct-20 | 30-Oct |  8 | NA   | FM14     | FWC | ⋯ | TATGGTAATT | AGCCTTCGTCGC | GTGYCAGCMGCCGCGGTAA | AATGATACGGCGACCACCGAGATCTACACGCTAGCCTTCGTCGCTATGGTAATTGTGTGYCAGCMGCCGCGGTAA |         NA |         NA |         NA |        NA | NA     | NA        |\n",
       "| N25-208   | 42616 |  25 | 208  | 30-Oct-20 | 30-Oct |  8 | NA   | FM9      | FWC | ⋯ | TATGGTAATT | AGCCTTCGTCGC | GTGYCAGCMGCCGCGGTAA | AATGATACGGCGACCACCGAGATCTACACGCTAGCCTTCGTCGCTATGGTAATTGTGTGYCAGCMGCCGCGGTAA |         NA |         NA |         NA |        NA | NA     | NA        |\n",
       "| N26-243   | 21453 |  26 | 243  | 30-Oct-20 | 30-Oct |  8 | NA   | FM6      | FWC | ⋯ | TATGGTAATT | AGCCTTCGTCGC | GTGYCAGCMGCCGCGGTAA | AATGATACGGCGACCACCGAGATCTACACGCTAGCCTTCGTCGCTATGGTAATTGTGTGYCAGCMGCCGCGGTAA |         NA |         NA |         NA |        NA | NA     | NA        |\n",
       "| N272-230  | 38362 | 272 | 230  | 10-Nov-20 | 10-Nov | 19 | NA   | FM6      | FWC | ⋯ | TATGGTAATT | GGTAGTTCATAG | GTGYCAGCMGCCGCGGTAA | AATGATACGGCGACCACCGAGATCTACACGCTGGTAGTTCATAGTATGGTAATTGTGTGYCAGCMGCCGCGGTAA | 0.23963400 | 0.07503098 | 0.08957204 | 0.3896960 | DivNet | Aitchison |\n",
       "| N24-A182  | 27495 |  24 | A182 | 30-Oct-20 | 30-Oct |  8 | NA   | FM19     | FWC | ⋯ | TATGGTAATT | AGCCTTCGTCGC | GTGYCAGCMGCCGCGGTAA | AATGATACGGCGACCACCGAGATCTACACGCTAGCCTTCGTCGCTATGGTAATTGTGTGYCAGCMGCCGCGGTAA |         NA |         NA |         NA |        NA | NA     | NA        |\n",
       "| N269-A181 | 27899 | 269 | A181 | 10-Nov-20 | 10-Nov | 19 | NA   | FM19     | FWC | ⋯ | TATGGTAATT | TAGTTCGGTGAC | GTGYCAGCMGCCGCGGTAA | AATGATACGGCGACCACCGAGATCTACACGCTTAGTTCGGTGACTATGGTAATTGTGTGYCAGCMGCCGCGGTAA | 0.23963400 | 0.07503098 | 0.08957204 | 0.3896960 | DivNet | Aitchison |\n",
       "| N270-A182 | 32166 | 270 | A182 | 10-Nov-20 | 10-Nov | 19 | NA   | FM19     | FWC | ⋯ | TATGGTAATT | ACTAAAGCAAAC | GTGYCAGCMGCCGCGGTAA | AATGATACGGCGACCACCGAGATCTACACGCTACTAAAGCAAACTATGGTAATTGTGTGYCAGCMGCCGCGGTAA | 0.23963400 | 0.07503098 | 0.08957204 | 0.3896960 | DivNet | Aitchison |\n",
       "| N273-358  | 35454 | 273 | 358  | 10-Nov-20 | 10-Nov | 19 | NA   | FM19     | FWC | ⋯ | TATGGTAATT | CTACAGGGTCTC | GTGYCAGCMGCCGCGGTAA | AATGATACGGCGACCACCGAGATCTACACGCTCTACAGGGTCTCTATGGTAATTGTGTGYCAGCMGCCGCGGTAA | 0.23963400 | 0.07503098 | 0.08957204 | 0.3896960 | DivNet | Aitchison |\n",
       "| N18-A016  | 29746 |  18 | A016 | 30-Oct-20 | 30-Oct |  8 | NA   | Cooper-9 | UM  | ⋯ | TATGGTAATT | AGCCTTCGTCGC | GTGYCAGCMGCCGCGGTAA | AATGATACGGCGACCACCGAGATCTACACGCTAGCCTTCGTCGCTATGGTAATTGTGTGYCAGCMGCCGCGGTAA |         NA |         NA |         NA |        NA | NA     | NA        |\n",
       "| N21-A095  | 31271 |  21 | A095 | 30-Oct-20 | 30-Oct |  8 | NA   | Kelsey-1 | UM  | ⋯ | TATGGTAATT | AGCCTTCGTCGC | GTGYCAGCMGCCGCGGTAA | AATGATACGGCGACCACCGAGATCTACACGCTAGCCTTCGTCGCTATGGTAATTGTGTGYCAGCMGCCGCGGTAA |         NA |         NA |         NA |        NA | NA     | NA        |\n",
       "| N19-A053  | 23549 |  19 | A053 | 30-Oct-20 | 30-Oct |  8 | NA   | Acerv2   | UM  | ⋯ | TATGGTAATT | AGCCTTCGTCGC | GTGYCAGCMGCCGCGGTAA | AATGATACGGCGACCACCGAGATCTACACGCTAGCCTTCGTCGCTATGGTAATTGTGTGYCAGCMGCCGCGGTAA |         NA |         NA |         NA |        NA | NA     | NA        |\n",
       "| N86-A052  | 34109 |  86 | A052 | 3-Nov-20  | 3-Nov  | 12 | r1_w | Acerv2   | UM  | ⋯ | TATGGTAATT | AGCCTTCGTCGC | GTGYCAGCMGCCGCGGTAA | AATGATACGGCGACCACCGAGATCTACACGCTAGCCTTCGTCGCTATGGTAATTGTGTGYCAGCMGCCGCGGTAA | 0.08049877 | 0.02574797 | 0.02900283 | 0.1319947 | DivNet | Aitchison |\n",
       "| N106-A051 | 28128 | 106 | A051 | 5-Nov-20  | 5-Nov  | 14 | r1_w | Acerv2   | UM  | ⋯ | TATGGTAATT | AGCCTTCGTCGC | GTGYCAGCMGCCGCGGTAA | AATGATACGGCGACCACCGAGATCTACACGCTAGCCTTCGTCGCTATGGTAATTGTGTGYCAGCMGCCGCGGTAA | 0.08049877 | 0.02574797 | 0.02900283 | 0.1319947 | DivNet | Aitchison |\n",
       "| N128-A052 | 27263 | 128 | A052 | 6-Nov-20  | 6-Nov  | 15 | r2_w | Acerv2   | UM  | ⋯ | TATGGTAATT | TCATGGCCTCCG | GTGYCAGCMGCCGCGGTAA | AATGATACGGCGACCACCGAGATCTACACGCTTCATGGCCTCCGTATGGTAATTGTGTGYCAGCMGCCGCGGTAA | 0.08049877 | 0.02574797 | 0.02900283 | 0.1319947 | DivNet | Aitchison |\n",
       "| N8-A060   | 25759 |   8 | A060 | 24-Oct-20 | 24-Oct |  3 | NA   | Acerv2   | UM  | ⋯ | TATGGTAATT | GTTTGAAACACG | GTGYCAGCMGCCGCGGTAA | AATGATACGGCGACCACCGAGATCTACACGCTGTTTGAAACACGTATGGTAATTGTGTGYCAGCMGCCGCGGTAA | 0.08049877 | 0.02574797 | 0.02900283 | 0.1319947 | DivNet | Aitchison |\n",
       "| N9-A048   | 45982 |   9 | A048 | 25-Oct-20 | 25-Oct |  4 | NA   | Acerv2   | UM  | ⋯ | TATGGTAATT | CTACAGGGTCTC | GTGYCAGCMGCCGCGGTAA | AATGATACGGCGACCACCGAGATCTACACGCTCTACAGGGTCTCTATGGTAATTGTGTGYCAGCMGCCGCGGTAA | 0.08049877 | 0.02574797 | 0.02900283 | 0.1319947 | DivNet | Aitchison |\n",
       "| N60-A056  | 75497 |  60 | A056 | 30-Oct-20 | 30-Oct |  8 | NA   | Acerv2   | UM  | ⋯ | TATGGTAATT | AGCCTTCGTCGC | GTGYCAGCMGCCGCGGTAA | AATGATACGGCGACCACCGAGATCTACACGCTAGCCTTCGTCGCTATGGTAATTGTGTGYCAGCMGCCGCGGTAA |         NA |         NA |         NA |        NA | NA     | NA        |\n",
       "| N11-A153  | 27631 |  11 | A153 | 26-Oct-20 | 26-Oct |  5 | NA   | Kelsey-1 | UM  | ⋯ | TATGGTAATT | CTACAGGGTCTC | GTGYCAGCMGCCGCGGTAA | AATGATACGGCGACCACCGAGATCTACACGCTCTACAGGGTCTCTATGGTAATTGTGTGYCAGCMGCCGCGGTAA | 0.23963400 | 0.07503098 | 0.08957204 | 0.3896960 | DivNet | Aitchison |\n",
       "| N17-A002  | 31376 |  17 | A002 | 29-Oct-20 | 29-Oct |  7 | NA   | Kelsey-1 | UM  | ⋯ | TATGGTAATT | CTACAGGGTCTC | GTGYCAGCMGCCGCGGTAA | AATGATACGGCGACCACCGAGATCTACACGCTCTACAGGGTCTCTATGGTAATTGTGTGYCAGCMGCCGCGGTAA | 0.23963400 | 0.07503098 | 0.08957204 | 0.3896960 | DivNet | Aitchison |\n",
       "| N70-A052  | 24607 |  70 | A052 | 30-Oct-20 | 30-Oct |  8 | NA   | Acerv2   | UM  | ⋯ | TATGGTAATT | AGCCTTCGTCGC | GTGYCAGCMGCCGCGGTAA | AATGATACGGCGACCACCGAGATCTACACGCTAGCCTTCGTCGCTATGGTAATTGTGTGYCAGCMGCCGCGGTAA |         NA |         NA |         NA |        NA | NA     | NA        |\n",
       "| N139-A014 | 22795 | 139 | A014 | 6-Nov-20  | 6-Nov  | 15 | NA   | Kelsey-1 | UM  | ⋯ | TATGGTAATT | TAAACCTGGACA | GTGYCAGCMGCCGCGGTAA | AATGATACGGCGACCACCGAGATCTACACGCTTAAACCTGGACATATGGTAATTGTGTGYCAGCMGCCGCGGTAA | 0.08049877 | 0.02574797 | 0.02900283 | 0.1319947 | DivNet | Aitchison |\n",
       "| N31-A097  | 35470 |  31 | A097 | 30-Oct-20 | 30-Oct |  8 | NA   | Kelsey-1 | UM  | ⋯ | TATGGTAATT | AGCCTTCGTCGC | GTGYCAGCMGCCGCGGTAA | AATGATACGGCGACCACCGAGATCTACACGCTAGCCTTCGTCGCTATGGTAATTGTGTGYCAGCMGCCGCGGTAA |         NA |         NA |         NA |        NA | NA     | NA        |\n",
       "| ⋮ | ⋮ | ⋮ | ⋮ | ⋮ | ⋮ | ⋮ | ⋮ | ⋮ | ⋮ | ⋱ | ⋮ | ⋮ | ⋮ | ⋮ | ⋮ | ⋮ | ⋮ | ⋮ | ⋮ | ⋮ |\n",
       "| N117-163       | 43137 | 117 | 163        | 5-Nov-20  | 5-Nov  | 14 | NA   | K2       | CRF | ⋯ | TATGGTAATT | CTACAGGGTCTC | GTGYCAGCMGCCGCGGTAA | AATGATACGGCGACCACCGAGATCTACACGCTCTACAGGGTCTCTATGGTAATTGTGTGYCAGCMGCCGCGGTAA | 0.23963400 | 0.07503098 | 0.08957204 | 0.3896960 | DivNet | Aitchison |\n",
       "| N97-205        | 37212 |  97 | 205        | 4-Nov-20  | 4-Nov  | 13 | NA   | FM9      | FWC | ⋯ | TATGGTAATT | AGCCTTCGTCGC | GTGYCAGCMGCCGCGGTAA | AATGATACGGCGACCACCGAGATCTACACGCTAGCCTTCGTCGCTATGGTAATTGTGTGYCAGCMGCCGCGGTAA | 0.23963400 | 0.07503098 | 0.08957204 | 0.3896960 | DivNet | Aitchison |\n",
       "| N136-A161      | 38303 | 136 | A161       | 6-Nov-20  | 6-Nov  | 15 | NA   | K2       | CRF | ⋯ | TATGGTAATT | CAATCATAGGTG | GTGYCAGCMGCCGCGGTAA | AATGATACGGCGACCACCGAGATCTACACGCTCAATCATAGGTGTATGGTAATTGTGTGYCAGCMGCCGCGGTAA | 0.23963400 | 0.07503098 | 0.08957204 | 0.3896960 | DivNet | Aitchison |\n",
       "| N159-202       | 32701 | 159 | 202        | 6-Nov-20  | 6-Nov  | 15 | NA   | FM9      | FWC | ⋯ | TATGGTAATT | CTACAGGGTCTC | GTGYCAGCMGCCGCGGTAA | AATGATACGGCGACCACCGAGATCTACACGCTCTACAGGGTCTCTATGGTAATTGTGTGYCAGCMGCCGCGGTAA | 0.23963400 | 0.07503098 | 0.08957204 | 0.3896960 | DivNet | Aitchison |\n",
       "| N112-A005      | 42758 | 112 | A005       | 5-Nov-20  | 5-Nov  | 14 | NA   | Kelsey-1 | UM  | ⋯ | TATGGTAATT | AGCCTTCGTCGC | GTGYCAGCMGCCGCGGTAA | AATGATACGGCGACCACCGAGATCTACACGCTAGCCTTCGTCGCTATGGTAATTGTGTGYCAGCMGCCGCGGTAA | 0.23963400 | 0.07503098 | 0.08957204 | 0.3896960 | DivNet | Aitchison |\n",
       "| N173-A095      | 45816 | 173 | A095       | 7-Nov-20  | 7-Nov  | 16 | NA   | Kelsey-1 | UM  | ⋯ | TATGGTAATT | CTACAGGGTCTC | GTGYCAGCMGCCGCGGTAA | AATGATACGGCGACCACCGAGATCTACACGCTCTACAGGGTCTCTATGGTAATTGTGTGYCAGCMGCCGCGGTAA | 0.23963400 | 0.07503098 | 0.08957204 | 0.3896960 | DivNet | Aitchison |\n",
       "| N89-A053       | 25245 |  89 | A053       | 3-Nov-20  | 3-Nov  | 12 | NA   | Acerv2   | UM  | ⋯ | TATGGTAATT | AGCCTTCGTCGC | GTGYCAGCMGCCGCGGTAA | AATGATACGGCGACCACCGAGATCTACACGCTAGCCTTCGTCGCTATGGTAATTGTGTGYCAGCMGCCGCGGTAA | 0.23963400 | 0.07503098 | 0.08957204 | 0.3896960 | DivNet | Aitchison |\n",
       "| N134-A049      | 41241 | 134 | A049       | 6-Nov-20  | 6-Nov  | 15 | NA   | Acerv2   | UM  | ⋯ | TATGGTAATT | CTACAGGGTCTC | GTGYCAGCMGCCGCGGTAA | AATGATACGGCGACCACCGAGATCTACACGCTCTACAGGGTCTCTATGGTAATTGTGTGYCAGCMGCCGCGGTAA | 0.23963400 | 0.07503098 | 0.08957204 | 0.3896960 | DivNet | Aitchison |\n",
       "| N154-A087      | 34955 | 154 | A087       | 6-Nov-20  | 6-Nov  | 15 | NA   | Elkhorn  | UM  | ⋯ | TATGGTAATT | TGCGGCGTCAGG | GTGYCAGCMGCCGCGGTAA | AATGATACGGCGACCACCGAGATCTACACGCTTGCGGCGTCAGGTATGGTAATTGTGTGYCAGCMGCCGCGGTAA | 0.23963400 | 0.07503098 | 0.08957204 | 0.3896960 | DivNet | Aitchison |\n",
       "| N185-A088      | 36439 | 185 | A088       | 8-Nov-20  | 8-Nov  | 17 | r1_m | Elkhorn  | UM  | ⋯ | TATGGTAATT | GTCCGTCCTGGT | GTGYCAGCMGCCGCGGTAA | AATGATACGGCGACCACCGAGATCTACACGCTGTCCGTCCTGGTTATGGTAATTGTGTGYCAGCMGCCGCGGTAA | 0.23963400 | 0.07503098 | 0.08957204 | 0.3896960 | DivNet | Aitchison |\n",
       "| N185-A088-R2   | 34179 | 185 | A088       | 8-Nov-20  | 8-Nov  | 17 | r2_m | Elkhorn  | UM  | ⋯ | TATGGTAATT | CTACAGGGTCTC | GTGYCAGCMGCCGCGGTAA | AATGATACGGCGACCACCGAGATCTACACGCTCTACAGGGTCTCTATGGTAATTGTGTGYCAGCMGCCGCGGTAA |         NA |         NA |         NA |        NA | NA     | NA        |\n",
       "| N192-A057      | 32787 | 192 | A057       | 9-Nov-20  | 9-Nov  | 18 | NA   | Acerv2   | UM  | ⋯ | TATGGTAATT | CACACAAAGTCA | GTGYCAGCMGCCGCGGTAA | AATGATACGGCGACCACCGAGATCTACACGCTCACACAAAGTCATATGGTAATTGTGTGYCAGCMGCCGCGGTAA | 0.23963400 | 0.07503098 | 0.08957204 | 0.3896960 | DivNet | Aitchison |\n",
       "| N101-A118      | 37571 | 101 | A118       | 4-Nov-20  | 4-Nov  | 13 | NA   | U41      | CRF | ⋯ | TATGGTAATT | AGCCTTCGTCGC | GTGYCAGCMGCCGCGGTAA | AATGATACGGCGACCACCGAGATCTACACGCTAGCCTTCGTCGCTATGGTAATTGTGTGYCAGCMGCCGCGGTAA |         NA |         NA |         NA |        NA | NA     | NA        |\n",
       "| N119-A107      | 40509 | 119 | A107       | 5-Nov-20  | 5-Nov  | 14 | NA   | U41      | CRF | ⋯ | TATGGTAATT | CTACAGGGTCTC | GTGYCAGCMGCCGCGGTAA | AATGATACGGCGACCACCGAGATCTACACGCTCTACAGGGTCTCTATGGTAATTGTGTGYCAGCMGCCGCGGTAA |         NA |         NA |         NA |        NA | NA     | NA        |\n",
       "| N184-A051      | 29572 | 184 | A051       | 8-Nov-20  | 8-Nov  | 17 | r2_w | Acerv2   | UM  | ⋯ | TATGGTAATT | TCAAGTCCGCAC | GTGYCAGCMGCCGCGGTAA | AATGATACGGCGACCACCGAGATCTACACGCTTCAAGTCCGCACTATGGTAATTGTGTGYCAGCMGCCGCGGTAA | 0.08049877 | 0.02574797 | 0.02900283 | 0.1319947 | DivNet | Aitchison |\n",
       "| N181-A102      | 42994 | 181 | A102       | 7-Nov-20  | 7-Nov  | 16 | NA   | U44      | CRF | ⋯ | TATGGTAATT | CTACAGGGTCTC | GTGYCAGCMGCCGCGGTAA | AATGATACGGCGACCACCGAGATCTACACGCTCTACAGGGTCTCTATGGTAATTGTGTGYCAGCMGCCGCGGTAA | 0.23963400 | 0.07503098 | 0.08957204 | 0.3896960 | DivNet | Aitchison |\n",
       "| N116-A058      | 50041 | 116 | A058       | 5-Nov-20  | 5-Nov  | 14 | NA   | Acerv2   | UM  | ⋯ | TATGGTAATT | CTACAGGGTCTC | GTGYCAGCMGCCGCGGTAA | AATGATACGGCGACCACCGAGATCTACACGCTCTACAGGGTCTCTATGGTAATTGTGTGYCAGCMGCCGCGGTAA | 0.23963400 | 0.07503098 | 0.08957204 | 0.3896960 | DivNet | Aitchison |\n",
       "| N131-200       |   650 | 131 | 200        | 6-Nov-20  | 6-Nov  | 15 | NA   | FM9      | FWC | ⋯ | TATGGTAATT | CGCCGTACTTGC | GTGYCAGCMGCCGCGGTAA | AATGATACGGCGACCACCGAGATCTACACGCTCGCCGTACTTGCTATGGTAATTGTGTGYCAGCMGCCGCGGTAA | 0.23963400 | 0.07503098 | 0.08957204 | 0.3896960 | DivNet | Aitchison |\n",
       "| N115-247       | 24933 | 115 | 247        | 5-Nov-20  | 5-Nov  | 14 | NA   | FM6      | FWC | ⋯ | TATGGTAATT | TCAGACCAACTG | GTGYCAGCMGCCGCGGTAA | AATGATACGGCGACCACCGAGATCTACACGCTTCAGACCAACTGTATGGTAATTGTGTGYCAGCMGCCGCGGTAA | 0.23963400 | 0.07503098 | 0.08957204 | 0.3896960 | DivNet | Aitchison |\n",
       "| N132-A031      | 57619 | 132 | A031       | 6-Nov-20  | 6-Nov  | 15 | NA   | Cooper-9 | UM  | ⋯ | TATGGTAATT | CTACAGGGTCTC | GTGYCAGCMGCCGCGGTAA | AATGATACGGCGACCACCGAGATCTACACGCTCTACAGGGTCTCTATGGTAATTGTGTGYCAGCMGCCGCGGTAA | 0.23963400 | 0.07503098 | 0.08957204 | 0.3896960 | DivNet | Aitchison |\n",
       "| N92-A007       | 35656 |  92 | A007       | 4-Nov-20  | 4-Nov  | 13 | NA   | Kelsey-1 | UM  | ⋯ | TATGGTAATT | AGCCTTCGTCGC | GTGYCAGCMGCCGCGGTAA | AATGATACGGCGACCACCGAGATCTACACGCTAGCCTTCGTCGCTATGGTAATTGTGTGYCAGCMGCCGCGGTAA | 0.08049877 | 0.02574797 | 0.02900283 | 0.1319947 | DivNet | Aitchison |\n",
       "| N83-A046       | 41686 |  83 | A046       | 3-Nov-20  | 3-Nov  | 12 | NA   | Acerv2   | UM  | ⋯ | TATGGTAATT | AGCCTTCGTCGC | GTGYCAGCMGCCGCGGTAA | AATGATACGGCGACCACCGAGATCTACACGCTAGCCTTCGTCGCTATGGTAATTGTGTGYCAGCMGCCGCGGTAA | 0.23963400 | 0.07503098 | 0.08957204 | 0.3896960 | DivNet | Aitchison |\n",
       "| N84-A030       | 23551 |  84 | A030       | 3-Nov-20  | 3-Nov  | 12 | NA   | Cooper-9 | UM  | ⋯ | TATGGTAATT | AGCCTTCGTCGC | GTGYCAGCMGCCGCGGTAA | AATGATACGGCGACCACCGAGATCTACACGCTAGCCTTCGTCGCTATGGTAATTGTGTGYCAGCMGCCGCGGTAA | 0.23963400 | 0.07503098 | 0.08957204 | 0.3896960 | DivNet | Aitchison |\n",
       "| N12-A008       | 48424 |  12 | A008       | 26-Oct-20 | 26-Oct |  5 | NA   | Kelsey-1 | UM  | ⋯ | TATGGTAATT | CTACAGGGTCTC | GTGYCAGCMGCCGCGGTAA | AATGATACGGCGACCACCGAGATCTACACGCTCTACAGGGTCTCTATGGTAATTGTGTGYCAGCMGCCGCGGTAA | 0.08049877 | 0.02574797 | 0.02900283 | 0.1319947 | DivNet | Aitchison |\n",
       "| N271-228       | 26944 | 271 | 228        | 10-Nov-20 | 10-Nov | 19 | NA   | FM9      | FWC | ⋯ | TATGGTAATT | CTTGCTCATAAT | GTGYCAGCMGCCGCGGTAA | AATGATACGGCGACCACCGAGATCTACACGCTCTTGCTCATAATTATGGTAATTGTGTGYCAGCMGCCGCGGTAA | 0.23963400 | 0.07503098 | 0.08957204 | 0.3896960 | DivNet | Aitchison |\n",
       "| N268-A180      | 33042 | 268 | A180       | 10-Nov-20 | 10-Nov | 19 | NA   | FM19     | FWC | ⋯ | TATGGTAATT | CTACAGGGTCTC | GTGYCAGCMGCCGCGGTAA | AATGATACGGCGACCACCGAGATCTACACGCTCTACAGGGTCTCTATGGTAATTGTGTGYCAGCMGCCGCGGTAA | 0.23963400 | 0.07503098 | 0.08957204 | 0.3896960 | DivNet | Aitchison |\n",
       "| N88-Hom-Hea    | 21207 |  88 | Hom_Dis_R1 | 31-Oct-20 | 31-Oct |  9 | NA   | NA       | NA  | ⋯ | TATGGTAATT | CTACAGGGTCTC | GTGYCAGCMGCCGCGGTAA | AATGATACGGCGACCACCGAGATCTACACGCTCTACAGGGTCTCTATGGTAATTGTGTGYCAGCMGCCGCGGTAA |         NA |         NA |         NA |        NA | NA     | NA        |\n",
       "| N88-Hom-Hea-R2 | 35515 |  88 | Hom_Dis_R2 | 31-Oct-20 | 31-Oct |  9 | NA   | NA       | NA  | ⋯ | TATGGTAATT | TTAAGTTAAGTT | GTGYCAGCMGCCGCGGTAA | AATGATACGGCGACCACCGAGATCTACACGCTTTAAGTTAAGTTTATGGTAATTGTGTGYCAGCMGCCGCGGTAA |         NA |         NA |         NA |        NA | NA     | NA        |\n",
       "| N1-Hom_        | 48625 |   1 | Hom_R1     | NA        | NA     | NA | NA   | NA       | NA  | ⋯ | TATGGTAATT | CTACAGGGTCTC | GTGYCAGCMGCCGCGGTAA | AATGATACGGCGACCACCGAGATCTACACGCTCTACAGGGTCTCTATGGTAATTGTGTGYCAGCMGCCGCGGTAA |         NA |         NA |         NA |        NA | NA     | NA        |\n",
       "| N3-Hom         | 16005 |   3 | Hom_3_R1   | NA        | NA     | NA | NA   | NA       | NA  | ⋯ | TATGGTAATT | CTACAGGGTCTC | GTGYCAGCMGCCGCGGTAA | AATGATACGGCGACCACCGAGATCTACACGCTCTACAGGGTCTCTATGGTAATTGTGTGYCAGCMGCCGCGGTAA |         NA |         NA |         NA |        NA | NA     | NA        |\n",
       "\n"
      ],
      "text/plain": [
       "    sample_names   featurecounts Initial_sample_ID Tag        Date_Collected\n",
       "1   N13-A038       26888          13               A038       26-Oct-20     \n",
       "2   N14-A040       38951          14               A040       28-Oct-20     \n",
       "3   N23-A166       16954          23               A166       30-Oct-20     \n",
       "4   N22-A121       67201          22               A121       30-Oct-20     \n",
       "5   N266-A104      29691         266               A104       10-Nov-20     \n",
       "6   N267-A110      32445         267               A110       10-Nov-20     \n",
       "7   N28-A027       44848          28               A027       30-Oct-20     \n",
       "8   N29-A041       31284          29               A041       30-Oct-20     \n",
       "9   N27-283        16502          27               283        30-Oct-20     \n",
       "10  N25-208        42616          25               208        30-Oct-20     \n",
       "11  N26-243        21453          26               243        30-Oct-20     \n",
       "12  N272-230       38362         272               230        10-Nov-20     \n",
       "13  N24-A182       27495          24               A182       30-Oct-20     \n",
       "14  N269-A181      27899         269               A181       10-Nov-20     \n",
       "15  N270-A182      32166         270               A182       10-Nov-20     \n",
       "16  N273-358       35454         273               358        10-Nov-20     \n",
       "17  N18-A016       29746          18               A016       30-Oct-20     \n",
       "18  N21-A095       31271          21               A095       30-Oct-20     \n",
       "19  N19-A053       23549          19               A053       30-Oct-20     \n",
       "20  N86-A052       34109          86               A052       3-Nov-20      \n",
       "21  N106-A051      28128         106               A051       5-Nov-20      \n",
       "22  N128-A052      27263         128               A052       6-Nov-20      \n",
       "23  N8-A060        25759           8               A060       24-Oct-20     \n",
       "24  N9-A048        45982           9               A048       25-Oct-20     \n",
       "25  N60-A056       75497          60               A056       30-Oct-20     \n",
       "26  N11-A153       27631          11               A153       26-Oct-20     \n",
       "27  N17-A002       31376          17               A002       29-Oct-20     \n",
       "28  N70-A052       24607          70               A052       30-Oct-20     \n",
       "29  N139-A014      22795         139               A014       6-Nov-20      \n",
       "30  N31-A097       35470          31               A097       30-Oct-20     \n",
       "⋮   ⋮              ⋮             ⋮                 ⋮          ⋮             \n",
       "255 N117-163       43137         117               163        5-Nov-20      \n",
       "256 N97-205        37212          97               205        4-Nov-20      \n",
       "257 N136-A161      38303         136               A161       6-Nov-20      \n",
       "258 N159-202       32701         159               202        6-Nov-20      \n",
       "259 N112-A005      42758         112               A005       5-Nov-20      \n",
       "260 N173-A095      45816         173               A095       7-Nov-20      \n",
       "261 N89-A053       25245          89               A053       3-Nov-20      \n",
       "262 N134-A049      41241         134               A049       6-Nov-20      \n",
       "263 N154-A087      34955         154               A087       6-Nov-20      \n",
       "264 N185-A088      36439         185               A088       8-Nov-20      \n",
       "265 N185-A088-R2   34179         185               A088       8-Nov-20      \n",
       "266 N192-A057      32787         192               A057       9-Nov-20      \n",
       "267 N101-A118      37571         101               A118       4-Nov-20      \n",
       "268 N119-A107      40509         119               A107       5-Nov-20      \n",
       "269 N184-A051      29572         184               A051       8-Nov-20      \n",
       "270 N181-A102      42994         181               A102       7-Nov-20      \n",
       "271 N116-A058      50041         116               A058       5-Nov-20      \n",
       "272 N131-200         650         131               200        6-Nov-20      \n",
       "273 N115-247       24933         115               247        5-Nov-20      \n",
       "274 N132-A031      57619         132               A031       6-Nov-20      \n",
       "275 N92-A007       35656          92               A007       4-Nov-20      \n",
       "276 N83-A046       41686          83               A046       3-Nov-20      \n",
       "277 N84-A030       23551          84               A030       3-Nov-20      \n",
       "278 N12-A008       48424          12               A008       26-Oct-20     \n",
       "279 N271-228       26944         271               228        10-Nov-20     \n",
       "280 N268-A180      33042         268               A180       10-Nov-20     \n",
       "281 N88-Hom-Hea    21207          88               Hom_Dis_R1 31-Oct-20     \n",
       "282 N88-Hom-Hea-R2 35515          88               Hom_Dis_R2 31-Oct-20     \n",
       "283 N1-Hom_        48625           1               Hom_R1     NA            \n",
       "284 N3-Hom         16005           3               Hom_3_R1   NA            \n",
       "    Date   TimePoint Replicate Genotype Nursery ⋯ Forward_Primer_Pad\n",
       "1   26-Oct  5        NA        Cooper-9 UM      ⋯ TATGGTAATT        \n",
       "2   28-Oct  6        NA        Acerv2   UM      ⋯ TATGGTAATT        \n",
       "3   30-Oct  8        NA        K2       CRF     ⋯ TATGGTAATT        \n",
       "4   30-Oct  8        NA        U44      CRF     ⋯ TATGGTAATT        \n",
       "5   10-Nov 19        NA        U44      CRF     ⋯ TATGGTAATT        \n",
       "6   10-Nov 19        NA        U41      CRF     ⋯ TATGGTAATT        \n",
       "7   30-Oct  8        NA        Cooper-9 UM      ⋯ TATGGTAATT        \n",
       "8   30-Oct  8        NA        Acerv2   UM      ⋯ TATGGTAATT        \n",
       "9   30-Oct  8        NA        FM14     FWC     ⋯ TATGGTAATT        \n",
       "10  30-Oct  8        NA        FM9      FWC     ⋯ TATGGTAATT        \n",
       "11  30-Oct  8        NA        FM6      FWC     ⋯ TATGGTAATT        \n",
       "12  10-Nov 19        NA        FM6      FWC     ⋯ TATGGTAATT        \n",
       "13  30-Oct  8        NA        FM19     FWC     ⋯ TATGGTAATT        \n",
       "14  10-Nov 19        NA        FM19     FWC     ⋯ TATGGTAATT        \n",
       "15  10-Nov 19        NA        FM19     FWC     ⋯ TATGGTAATT        \n",
       "16  10-Nov 19        NA        FM19     FWC     ⋯ TATGGTAATT        \n",
       "17  30-Oct  8        NA        Cooper-9 UM      ⋯ TATGGTAATT        \n",
       "18  30-Oct  8        NA        Kelsey-1 UM      ⋯ TATGGTAATT        \n",
       "19  30-Oct  8        NA        Acerv2   UM      ⋯ TATGGTAATT        \n",
       "20  3-Nov  12        r1_w      Acerv2   UM      ⋯ TATGGTAATT        \n",
       "21  5-Nov  14        r1_w      Acerv2   UM      ⋯ TATGGTAATT        \n",
       "22  6-Nov  15        r2_w      Acerv2   UM      ⋯ TATGGTAATT        \n",
       "23  24-Oct  3        NA        Acerv2   UM      ⋯ TATGGTAATT        \n",
       "24  25-Oct  4        NA        Acerv2   UM      ⋯ TATGGTAATT        \n",
       "25  30-Oct  8        NA        Acerv2   UM      ⋯ TATGGTAATT        \n",
       "26  26-Oct  5        NA        Kelsey-1 UM      ⋯ TATGGTAATT        \n",
       "27  29-Oct  7        NA        Kelsey-1 UM      ⋯ TATGGTAATT        \n",
       "28  30-Oct  8        NA        Acerv2   UM      ⋯ TATGGTAATT        \n",
       "29  6-Nov  15        NA        Kelsey-1 UM      ⋯ TATGGTAATT        \n",
       "30  30-Oct  8        NA        Kelsey-1 UM      ⋯ TATGGTAATT        \n",
       "⋮   ⋮      ⋮         ⋮         ⋮        ⋮       ⋱ ⋮                 \n",
       "255 5-Nov  14        NA        K2       CRF     ⋯ TATGGTAATT        \n",
       "256 4-Nov  13        NA        FM9      FWC     ⋯ TATGGTAATT        \n",
       "257 6-Nov  15        NA        K2       CRF     ⋯ TATGGTAATT        \n",
       "258 6-Nov  15        NA        FM9      FWC     ⋯ TATGGTAATT        \n",
       "259 5-Nov  14        NA        Kelsey-1 UM      ⋯ TATGGTAATT        \n",
       "260 7-Nov  16        NA        Kelsey-1 UM      ⋯ TATGGTAATT        \n",
       "261 3-Nov  12        NA        Acerv2   UM      ⋯ TATGGTAATT        \n",
       "262 6-Nov  15        NA        Acerv2   UM      ⋯ TATGGTAATT        \n",
       "263 6-Nov  15        NA        Elkhorn  UM      ⋯ TATGGTAATT        \n",
       "264 8-Nov  17        r1_m      Elkhorn  UM      ⋯ TATGGTAATT        \n",
       "265 8-Nov  17        r2_m      Elkhorn  UM      ⋯ TATGGTAATT        \n",
       "266 9-Nov  18        NA        Acerv2   UM      ⋯ TATGGTAATT        \n",
       "267 4-Nov  13        NA        U41      CRF     ⋯ TATGGTAATT        \n",
       "268 5-Nov  14        NA        U41      CRF     ⋯ TATGGTAATT        \n",
       "269 8-Nov  17        r2_w      Acerv2   UM      ⋯ TATGGTAATT        \n",
       "270 7-Nov  16        NA        U44      CRF     ⋯ TATGGTAATT        \n",
       "271 5-Nov  14        NA        Acerv2   UM      ⋯ TATGGTAATT        \n",
       "272 6-Nov  15        NA        FM9      FWC     ⋯ TATGGTAATT        \n",
       "273 5-Nov  14        NA        FM6      FWC     ⋯ TATGGTAATT        \n",
       "274 6-Nov  15        NA        Cooper-9 UM      ⋯ TATGGTAATT        \n",
       "275 4-Nov  13        NA        Kelsey-1 UM      ⋯ TATGGTAATT        \n",
       "276 3-Nov  12        NA        Acerv2   UM      ⋯ TATGGTAATT        \n",
       "277 3-Nov  12        NA        Cooper-9 UM      ⋯ TATGGTAATT        \n",
       "278 26-Oct  5        NA        Kelsey-1 UM      ⋯ TATGGTAATT        \n",
       "279 10-Nov 19        NA        FM9      FWC     ⋯ TATGGTAATT        \n",
       "280 10-Nov 19        NA        FM19     FWC     ⋯ TATGGTAATT        \n",
       "281 31-Oct  9        NA        NA       NA      ⋯ TATGGTAATT        \n",
       "282 31-Oct  9        NA        NA       NA      ⋯ TATGGTAATT        \n",
       "283 NA     NA        NA        NA       NA      ⋯ TATGGTAATT        \n",
       "284 NA     NA        NA        NA       NA      ⋯ TATGGTAATT        \n",
       "    Golay_Barcode X515FB_Forward_Primer\n",
       "1   CTACAGGGTCTC  GTGYCAGCMGCCGCGGTAA  \n",
       "2   TTGAACAAGCCA  GTGYCAGCMGCCGCGGTAA  \n",
       "3   AGCCTTCGTCGC  GTGYCAGCMGCCGCGGTAA  \n",
       "4   AGCCTTCGTCGC  GTGYCAGCMGCCGCGGTAA  \n",
       "5   CTACAGGGTCTC  GTGYCAGCMGCCGCGGTAA  \n",
       "6   CTACAGGGTCTC  GTGYCAGCMGCCGCGGTAA  \n",
       "7   AGCCTTCGTCGC  GTGYCAGCMGCCGCGGTAA  \n",
       "8   AGCCTTCGTCGC  GTGYCAGCMGCCGCGGTAA  \n",
       "9   AGCCTTCGTCGC  GTGYCAGCMGCCGCGGTAA  \n",
       "10  AGCCTTCGTCGC  GTGYCAGCMGCCGCGGTAA  \n",
       "11  AGCCTTCGTCGC  GTGYCAGCMGCCGCGGTAA  \n",
       "12  GGTAGTTCATAG  GTGYCAGCMGCCGCGGTAA  \n",
       "13  AGCCTTCGTCGC  GTGYCAGCMGCCGCGGTAA  \n",
       "14  TAGTTCGGTGAC  GTGYCAGCMGCCGCGGTAA  \n",
       "15  ACTAAAGCAAAC  GTGYCAGCMGCCGCGGTAA  \n",
       "16  CTACAGGGTCTC  GTGYCAGCMGCCGCGGTAA  \n",
       "17  AGCCTTCGTCGC  GTGYCAGCMGCCGCGGTAA  \n",
       "18  AGCCTTCGTCGC  GTGYCAGCMGCCGCGGTAA  \n",
       "19  AGCCTTCGTCGC  GTGYCAGCMGCCGCGGTAA  \n",
       "20  AGCCTTCGTCGC  GTGYCAGCMGCCGCGGTAA  \n",
       "21  AGCCTTCGTCGC  GTGYCAGCMGCCGCGGTAA  \n",
       "22  TCATGGCCTCCG  GTGYCAGCMGCCGCGGTAA  \n",
       "23  GTTTGAAACACG  GTGYCAGCMGCCGCGGTAA  \n",
       "24  CTACAGGGTCTC  GTGYCAGCMGCCGCGGTAA  \n",
       "25  AGCCTTCGTCGC  GTGYCAGCMGCCGCGGTAA  \n",
       "26  CTACAGGGTCTC  GTGYCAGCMGCCGCGGTAA  \n",
       "27  CTACAGGGTCTC  GTGYCAGCMGCCGCGGTAA  \n",
       "28  AGCCTTCGTCGC  GTGYCAGCMGCCGCGGTAA  \n",
       "29  TAAACCTGGACA  GTGYCAGCMGCCGCGGTAA  \n",
       "30  AGCCTTCGTCGC  GTGYCAGCMGCCGCGGTAA  \n",
       "⋮   ⋮             ⋮                    \n",
       "255 CTACAGGGTCTC  GTGYCAGCMGCCGCGGTAA  \n",
       "256 AGCCTTCGTCGC  GTGYCAGCMGCCGCGGTAA  \n",
       "257 CAATCATAGGTG  GTGYCAGCMGCCGCGGTAA  \n",
       "258 CTACAGGGTCTC  GTGYCAGCMGCCGCGGTAA  \n",
       "259 AGCCTTCGTCGC  GTGYCAGCMGCCGCGGTAA  \n",
       "260 CTACAGGGTCTC  GTGYCAGCMGCCGCGGTAA  \n",
       "261 AGCCTTCGTCGC  GTGYCAGCMGCCGCGGTAA  \n",
       "262 CTACAGGGTCTC  GTGYCAGCMGCCGCGGTAA  \n",
       "263 TGCGGCGTCAGG  GTGYCAGCMGCCGCGGTAA  \n",
       "264 GTCCGTCCTGGT  GTGYCAGCMGCCGCGGTAA  \n",
       "265 CTACAGGGTCTC  GTGYCAGCMGCCGCGGTAA  \n",
       "266 CACACAAAGTCA  GTGYCAGCMGCCGCGGTAA  \n",
       "267 AGCCTTCGTCGC  GTGYCAGCMGCCGCGGTAA  \n",
       "268 CTACAGGGTCTC  GTGYCAGCMGCCGCGGTAA  \n",
       "269 TCAAGTCCGCAC  GTGYCAGCMGCCGCGGTAA  \n",
       "270 CTACAGGGTCTC  GTGYCAGCMGCCGCGGTAA  \n",
       "271 CTACAGGGTCTC  GTGYCAGCMGCCGCGGTAA  \n",
       "272 CGCCGTACTTGC  GTGYCAGCMGCCGCGGTAA  \n",
       "273 TCAGACCAACTG  GTGYCAGCMGCCGCGGTAA  \n",
       "274 CTACAGGGTCTC  GTGYCAGCMGCCGCGGTAA  \n",
       "275 AGCCTTCGTCGC  GTGYCAGCMGCCGCGGTAA  \n",
       "276 AGCCTTCGTCGC  GTGYCAGCMGCCGCGGTAA  \n",
       "277 AGCCTTCGTCGC  GTGYCAGCMGCCGCGGTAA  \n",
       "278 CTACAGGGTCTC  GTGYCAGCMGCCGCGGTAA  \n",
       "279 CTTGCTCATAAT  GTGYCAGCMGCCGCGGTAA  \n",
       "280 CTACAGGGTCTC  GTGYCAGCMGCCGCGGTAA  \n",
       "281 CTACAGGGTCTC  GTGYCAGCMGCCGCGGTAA  \n",
       "282 TTAAGTTAAGTT  GTGYCAGCMGCCGCGGTAA  \n",
       "283 CTACAGGGTCTC  GTGYCAGCMGCCGCGGTAA  \n",
       "284 CTACAGGGTCTC  GTGYCAGCMGCCGCGGTAA  \n",
       "    Primer_For_PCR                                                             \n",
       "1   AATGATACGGCGACCACCGAGATCTACACGCTCTACAGGGTCTCTATGGTAATTGTGTGYCAGCMGCCGCGGTAA\n",
       "2   AATGATACGGCGACCACCGAGATCTACACGCTTTGAACAAGCCATATGGTAATTGTGTGYCAGCMGCCGCGGTAA\n",
       "3   AATGATACGGCGACCACCGAGATCTACACGCTAGCCTTCGTCGCTATGGTAATTGTGTGYCAGCMGCCGCGGTAA\n",
       "4   AATGATACGGCGACCACCGAGATCTACACGCTAGCCTTCGTCGCTATGGTAATTGTGTGYCAGCMGCCGCGGTAA\n",
       "5   AATGATACGGCGACCACCGAGATCTACACGCTCTACAGGGTCTCTATGGTAATTGTGTGYCAGCMGCCGCGGTAA\n",
       "6   AATGATACGGCGACCACCGAGATCTACACGCTCTACAGGGTCTCTATGGTAATTGTGTGYCAGCMGCCGCGGTAA\n",
       "7   AATGATACGGCGACCACCGAGATCTACACGCTAGCCTTCGTCGCTATGGTAATTGTGTGYCAGCMGCCGCGGTAA\n",
       "8   AATGATACGGCGACCACCGAGATCTACACGCTAGCCTTCGTCGCTATGGTAATTGTGTGYCAGCMGCCGCGGTAA\n",
       "9   AATGATACGGCGACCACCGAGATCTACACGCTAGCCTTCGTCGCTATGGTAATTGTGTGYCAGCMGCCGCGGTAA\n",
       "10  AATGATACGGCGACCACCGAGATCTACACGCTAGCCTTCGTCGCTATGGTAATTGTGTGYCAGCMGCCGCGGTAA\n",
       "11  AATGATACGGCGACCACCGAGATCTACACGCTAGCCTTCGTCGCTATGGTAATTGTGTGYCAGCMGCCGCGGTAA\n",
       "12  AATGATACGGCGACCACCGAGATCTACACGCTGGTAGTTCATAGTATGGTAATTGTGTGYCAGCMGCCGCGGTAA\n",
       "13  AATGATACGGCGACCACCGAGATCTACACGCTAGCCTTCGTCGCTATGGTAATTGTGTGYCAGCMGCCGCGGTAA\n",
       "14  AATGATACGGCGACCACCGAGATCTACACGCTTAGTTCGGTGACTATGGTAATTGTGTGYCAGCMGCCGCGGTAA\n",
       "15  AATGATACGGCGACCACCGAGATCTACACGCTACTAAAGCAAACTATGGTAATTGTGTGYCAGCMGCCGCGGTAA\n",
       "16  AATGATACGGCGACCACCGAGATCTACACGCTCTACAGGGTCTCTATGGTAATTGTGTGYCAGCMGCCGCGGTAA\n",
       "17  AATGATACGGCGACCACCGAGATCTACACGCTAGCCTTCGTCGCTATGGTAATTGTGTGYCAGCMGCCGCGGTAA\n",
       "18  AATGATACGGCGACCACCGAGATCTACACGCTAGCCTTCGTCGCTATGGTAATTGTGTGYCAGCMGCCGCGGTAA\n",
       "19  AATGATACGGCGACCACCGAGATCTACACGCTAGCCTTCGTCGCTATGGTAATTGTGTGYCAGCMGCCGCGGTAA\n",
       "20  AATGATACGGCGACCACCGAGATCTACACGCTAGCCTTCGTCGCTATGGTAATTGTGTGYCAGCMGCCGCGGTAA\n",
       "21  AATGATACGGCGACCACCGAGATCTACACGCTAGCCTTCGTCGCTATGGTAATTGTGTGYCAGCMGCCGCGGTAA\n",
       "22  AATGATACGGCGACCACCGAGATCTACACGCTTCATGGCCTCCGTATGGTAATTGTGTGYCAGCMGCCGCGGTAA\n",
       "23  AATGATACGGCGACCACCGAGATCTACACGCTGTTTGAAACACGTATGGTAATTGTGTGYCAGCMGCCGCGGTAA\n",
       "24  AATGATACGGCGACCACCGAGATCTACACGCTCTACAGGGTCTCTATGGTAATTGTGTGYCAGCMGCCGCGGTAA\n",
       "25  AATGATACGGCGACCACCGAGATCTACACGCTAGCCTTCGTCGCTATGGTAATTGTGTGYCAGCMGCCGCGGTAA\n",
       "26  AATGATACGGCGACCACCGAGATCTACACGCTCTACAGGGTCTCTATGGTAATTGTGTGYCAGCMGCCGCGGTAA\n",
       "27  AATGATACGGCGACCACCGAGATCTACACGCTCTACAGGGTCTCTATGGTAATTGTGTGYCAGCMGCCGCGGTAA\n",
       "28  AATGATACGGCGACCACCGAGATCTACACGCTAGCCTTCGTCGCTATGGTAATTGTGTGYCAGCMGCCGCGGTAA\n",
       "29  AATGATACGGCGACCACCGAGATCTACACGCTTAAACCTGGACATATGGTAATTGTGTGYCAGCMGCCGCGGTAA\n",
       "30  AATGATACGGCGACCACCGAGATCTACACGCTAGCCTTCGTCGCTATGGTAATTGTGTGYCAGCMGCCGCGGTAA\n",
       "⋮   ⋮                                                                          \n",
       "255 AATGATACGGCGACCACCGAGATCTACACGCTCTACAGGGTCTCTATGGTAATTGTGTGYCAGCMGCCGCGGTAA\n",
       "256 AATGATACGGCGACCACCGAGATCTACACGCTAGCCTTCGTCGCTATGGTAATTGTGTGYCAGCMGCCGCGGTAA\n",
       "257 AATGATACGGCGACCACCGAGATCTACACGCTCAATCATAGGTGTATGGTAATTGTGTGYCAGCMGCCGCGGTAA\n",
       "258 AATGATACGGCGACCACCGAGATCTACACGCTCTACAGGGTCTCTATGGTAATTGTGTGYCAGCMGCCGCGGTAA\n",
       "259 AATGATACGGCGACCACCGAGATCTACACGCTAGCCTTCGTCGCTATGGTAATTGTGTGYCAGCMGCCGCGGTAA\n",
       "260 AATGATACGGCGACCACCGAGATCTACACGCTCTACAGGGTCTCTATGGTAATTGTGTGYCAGCMGCCGCGGTAA\n",
       "261 AATGATACGGCGACCACCGAGATCTACACGCTAGCCTTCGTCGCTATGGTAATTGTGTGYCAGCMGCCGCGGTAA\n",
       "262 AATGATACGGCGACCACCGAGATCTACACGCTCTACAGGGTCTCTATGGTAATTGTGTGYCAGCMGCCGCGGTAA\n",
       "263 AATGATACGGCGACCACCGAGATCTACACGCTTGCGGCGTCAGGTATGGTAATTGTGTGYCAGCMGCCGCGGTAA\n",
       "264 AATGATACGGCGACCACCGAGATCTACACGCTGTCCGTCCTGGTTATGGTAATTGTGTGYCAGCMGCCGCGGTAA\n",
       "265 AATGATACGGCGACCACCGAGATCTACACGCTCTACAGGGTCTCTATGGTAATTGTGTGYCAGCMGCCGCGGTAA\n",
       "266 AATGATACGGCGACCACCGAGATCTACACGCTCACACAAAGTCATATGGTAATTGTGTGYCAGCMGCCGCGGTAA\n",
       "267 AATGATACGGCGACCACCGAGATCTACACGCTAGCCTTCGTCGCTATGGTAATTGTGTGYCAGCMGCCGCGGTAA\n",
       "268 AATGATACGGCGACCACCGAGATCTACACGCTCTACAGGGTCTCTATGGTAATTGTGTGYCAGCMGCCGCGGTAA\n",
       "269 AATGATACGGCGACCACCGAGATCTACACGCTTCAAGTCCGCACTATGGTAATTGTGTGYCAGCMGCCGCGGTAA\n",
       "270 AATGATACGGCGACCACCGAGATCTACACGCTCTACAGGGTCTCTATGGTAATTGTGTGYCAGCMGCCGCGGTAA\n",
       "271 AATGATACGGCGACCACCGAGATCTACACGCTCTACAGGGTCTCTATGGTAATTGTGTGYCAGCMGCCGCGGTAA\n",
       "272 AATGATACGGCGACCACCGAGATCTACACGCTCGCCGTACTTGCTATGGTAATTGTGTGYCAGCMGCCGCGGTAA\n",
       "273 AATGATACGGCGACCACCGAGATCTACACGCTTCAGACCAACTGTATGGTAATTGTGTGYCAGCMGCCGCGGTAA\n",
       "274 AATGATACGGCGACCACCGAGATCTACACGCTCTACAGGGTCTCTATGGTAATTGTGTGYCAGCMGCCGCGGTAA\n",
       "275 AATGATACGGCGACCACCGAGATCTACACGCTAGCCTTCGTCGCTATGGTAATTGTGTGYCAGCMGCCGCGGTAA\n",
       "276 AATGATACGGCGACCACCGAGATCTACACGCTAGCCTTCGTCGCTATGGTAATTGTGTGYCAGCMGCCGCGGTAA\n",
       "277 AATGATACGGCGACCACCGAGATCTACACGCTAGCCTTCGTCGCTATGGTAATTGTGTGYCAGCMGCCGCGGTAA\n",
       "278 AATGATACGGCGACCACCGAGATCTACACGCTCTACAGGGTCTCTATGGTAATTGTGTGYCAGCMGCCGCGGTAA\n",
       "279 AATGATACGGCGACCACCGAGATCTACACGCTCTTGCTCATAATTATGGTAATTGTGTGYCAGCMGCCGCGGTAA\n",
       "280 AATGATACGGCGACCACCGAGATCTACACGCTCTACAGGGTCTCTATGGTAATTGTGTGYCAGCMGCCGCGGTAA\n",
       "281 AATGATACGGCGACCACCGAGATCTACACGCTCTACAGGGTCTCTATGGTAATTGTGTGYCAGCMGCCGCGGTAA\n",
       "282 AATGATACGGCGACCACCGAGATCTACACGCTTTAAGTTAAGTTTATGGTAATTGTGTGYCAGCMGCCGCGGTAA\n",
       "283 AATGATACGGCGACCACCGAGATCTACACGCTCTACAGGGTCTCTATGGTAATTGTGTGYCAGCMGCCGCGGTAA\n",
       "284 AATGATACGGCGACCACCGAGATCTACACGCTCTACAGGGTCTCTATGGTAATTGTGTGYCAGCMGCCGCGGTAA\n",
       "    estimate   error      lower      upper     name   model    \n",
       "1   0.23963400 0.07503098 0.08957204 0.3896960 DivNet Aitchison\n",
       "2   0.23963400 0.07503098 0.08957204 0.3896960 DivNet Aitchison\n",
       "3           NA         NA         NA        NA NA     NA       \n",
       "4           NA         NA         NA        NA NA     NA       \n",
       "5   0.23963400 0.07503098 0.08957204 0.3896960 DivNet Aitchison\n",
       "6           NA         NA         NA        NA NA     NA       \n",
       "7           NA         NA         NA        NA NA     NA       \n",
       "8           NA         NA         NA        NA NA     NA       \n",
       "9           NA         NA         NA        NA NA     NA       \n",
       "10          NA         NA         NA        NA NA     NA       \n",
       "11          NA         NA         NA        NA NA     NA       \n",
       "12  0.23963400 0.07503098 0.08957204 0.3896960 DivNet Aitchison\n",
       "13          NA         NA         NA        NA NA     NA       \n",
       "14  0.23963400 0.07503098 0.08957204 0.3896960 DivNet Aitchison\n",
       "15  0.23963400 0.07503098 0.08957204 0.3896960 DivNet Aitchison\n",
       "16  0.23963400 0.07503098 0.08957204 0.3896960 DivNet Aitchison\n",
       "17          NA         NA         NA        NA NA     NA       \n",
       "18          NA         NA         NA        NA NA     NA       \n",
       "19          NA         NA         NA        NA NA     NA       \n",
       "20  0.08049877 0.02574797 0.02900283 0.1319947 DivNet Aitchison\n",
       "21  0.08049877 0.02574797 0.02900283 0.1319947 DivNet Aitchison\n",
       "22  0.08049877 0.02574797 0.02900283 0.1319947 DivNet Aitchison\n",
       "23  0.08049877 0.02574797 0.02900283 0.1319947 DivNet Aitchison\n",
       "24  0.08049877 0.02574797 0.02900283 0.1319947 DivNet Aitchison\n",
       "25          NA         NA         NA        NA NA     NA       \n",
       "26  0.23963400 0.07503098 0.08957204 0.3896960 DivNet Aitchison\n",
       "27  0.23963400 0.07503098 0.08957204 0.3896960 DivNet Aitchison\n",
       "28          NA         NA         NA        NA NA     NA       \n",
       "29  0.08049877 0.02574797 0.02900283 0.1319947 DivNet Aitchison\n",
       "30          NA         NA         NA        NA NA     NA       \n",
       "⋮   ⋮          ⋮          ⋮          ⋮         ⋮      ⋮        \n",
       "255 0.23963400 0.07503098 0.08957204 0.3896960 DivNet Aitchison\n",
       "256 0.23963400 0.07503098 0.08957204 0.3896960 DivNet Aitchison\n",
       "257 0.23963400 0.07503098 0.08957204 0.3896960 DivNet Aitchison\n",
       "258 0.23963400 0.07503098 0.08957204 0.3896960 DivNet Aitchison\n",
       "259 0.23963400 0.07503098 0.08957204 0.3896960 DivNet Aitchison\n",
       "260 0.23963400 0.07503098 0.08957204 0.3896960 DivNet Aitchison\n",
       "261 0.23963400 0.07503098 0.08957204 0.3896960 DivNet Aitchison\n",
       "262 0.23963400 0.07503098 0.08957204 0.3896960 DivNet Aitchison\n",
       "263 0.23963400 0.07503098 0.08957204 0.3896960 DivNet Aitchison\n",
       "264 0.23963400 0.07503098 0.08957204 0.3896960 DivNet Aitchison\n",
       "265         NA         NA         NA        NA NA     NA       \n",
       "266 0.23963400 0.07503098 0.08957204 0.3896960 DivNet Aitchison\n",
       "267         NA         NA         NA        NA NA     NA       \n",
       "268         NA         NA         NA        NA NA     NA       \n",
       "269 0.08049877 0.02574797 0.02900283 0.1319947 DivNet Aitchison\n",
       "270 0.23963400 0.07503098 0.08957204 0.3896960 DivNet Aitchison\n",
       "271 0.23963400 0.07503098 0.08957204 0.3896960 DivNet Aitchison\n",
       "272 0.23963400 0.07503098 0.08957204 0.3896960 DivNet Aitchison\n",
       "273 0.23963400 0.07503098 0.08957204 0.3896960 DivNet Aitchison\n",
       "274 0.23963400 0.07503098 0.08957204 0.3896960 DivNet Aitchison\n",
       "275 0.08049877 0.02574797 0.02900283 0.1319947 DivNet Aitchison\n",
       "276 0.23963400 0.07503098 0.08957204 0.3896960 DivNet Aitchison\n",
       "277 0.23963400 0.07503098 0.08957204 0.3896960 DivNet Aitchison\n",
       "278 0.08049877 0.02574797 0.02900283 0.1319947 DivNet Aitchison\n",
       "279 0.23963400 0.07503098 0.08957204 0.3896960 DivNet Aitchison\n",
       "280 0.23963400 0.07503098 0.08957204 0.3896960 DivNet Aitchison\n",
       "281         NA         NA         NA        NA NA     NA       \n",
       "282         NA         NA         NA        NA NA     NA       \n",
       "283         NA         NA         NA        NA NA     NA       \n",
       "284         NA         NA         NA        NA NA     NA       "
      ]
     },
     "metadata": {},
     "output_type": "display_data"
    }
   ],
   "source": [
    "combined_shannon <- meta %>%\n",
    "  left_join(divnet_phylum_char$shannon %>% summary,\n",
    "            by = \"sample_names\")\n",
    "combined_shannon"
   ]
  },
  {
   "cell_type": "code",
   "execution_count": 28,
   "id": "d5f8c6f9",
   "metadata": {},
   "outputs": [],
   "source": [
    "#write.csv(combined_shannon, \n",
    " #         \"/Users/stephanie.rosales/Documents/omics_projects/Resitada/combined_shannon.csv\")"
   ]
  },
  {
   "cell_type": "code",
   "execution_count": 2,
   "id": "3f1a9072",
   "metadata": {},
   "outputs": [
    {
     "data": {
      "text/html": [
       "<style>\n",
       ".list-inline {list-style: none; margin:0; padding: 0}\n",
       ".list-inline>li {display: inline-block}\n",
       ".list-inline>li:not(:last-child)::after {content: \"\\00b7\"; padding: 0 .5ex}\n",
       "</style>\n",
       "<ol class=list-inline><li>284</li><li>51</li></ol>\n"
      ],
      "text/latex": [
       "\\begin{enumerate*}\n",
       "\\item 284\n",
       "\\item 51\n",
       "\\end{enumerate*}\n"
      ],
      "text/markdown": [
       "1. 284\n",
       "2. 51\n",
       "\n",
       "\n"
      ],
      "text/plain": [
       "[1] 284  51"
      ]
     },
     "metadata": {},
     "output_type": "display_data"
    }
   ],
   "source": [
    "meta = read.csv(\"/Users/stephanie.rosales/Documents/omics_projects/Resitada/metadata_RESISTADA.csv\", \n",
    "                header = T, row.names = 1,\n",
    "na.strings = c(\"\", \"NA\"))\n",
    "dim(meta)"
   ]
  },
  {
   "cell_type": "code",
   "execution_count": 62,
   "id": "abe690df",
   "metadata": {},
   "outputs": [
    {
     "data": {
      "text/html": [
       "<style>\n",
       ".list-inline {list-style: none; margin:0; padding: 0}\n",
       ".list-inline>li {display: inline-block}\n",
       ".list-inline>li:not(:last-child)::after {content: \"\\00b7\"; padding: 0 .5ex}\n",
       "</style>\n",
       "<ol class=list-inline><li>192</li><li>51</li></ol>\n"
      ],
      "text/latex": [
       "\\begin{enumerate*}\n",
       "\\item 192\n",
       "\\item 51\n",
       "\\end{enumerate*}\n"
      ],
      "text/markdown": [
       "1. 192\n",
       "2. 51\n",
       "\n",
       "\n"
      ],
      "text/plain": [
       "[1] 192  51"
      ]
     },
     "metadata": {},
     "output_type": "display_data"
    }
   ],
   "source": [
    "meta1 = meta %>%\n",
    "filter(estimate>0)\n",
    "dim(meta1)"
   ]
  },
  {
   "cell_type": "code",
   "execution_count": 63,
   "id": "22c1be6c",
   "metadata": {},
   "outputs": [
    {
     "data": {
      "text/html": [
       "<style>\n",
       ".list-inline {list-style: none; margin:0; padding: 0}\n",
       ".list-inline>li {display: inline-block}\n",
       ".list-inline>li:not(:last-child)::after {content: \"\\00b7\"; padding: 0 .5ex}\n",
       "</style>\n",
       "<ol class=list-inline><li>42</li><li>51</li></ol>\n"
      ],
      "text/latex": [
       "\\begin{enumerate*}\n",
       "\\item 42\n",
       "\\item 51\n",
       "\\end{enumerate*}\n"
      ],
      "text/markdown": [
       "1. 42\n",
       "2. 51\n",
       "\n",
       "\n"
      ],
      "text/plain": [
       "[1] 42 51"
      ]
     },
     "metadata": {},
     "output_type": "display_data"
    }
   ],
   "source": [
    "ambient_PL= meta1 %>%\n",
    "filter(Nutrients == \"Ambient\", Diseased==\"Placebo\", )\n",
    "\n",
    "dim(ambient_PL)"
   ]
  },
  {
   "cell_type": "code",
   "execution_count": 97,
   "id": "efc4f955",
   "metadata": {},
   "outputs": [
    {
     "name": "stderr",
     "output_type": "stream",
     "text": [
      "Warning message in checkConv(attr(opt, \"derivs\"), opt$par, ctrl = control$checkConv, :\n",
      "“Model failed to converge with max|grad| = 1.46806 (tol = 0.002, component 1)”\n",
      "Warning message in checkConv(attr(opt, \"derivs\"), opt$par, ctrl = control$checkConv, :\n",
      "“Model is nearly unidentifiable: very large eigenvalue\n",
      " - Rescale variables?”\n"
     ]
    },
    {
     "data": {
      "text/plain": [
       "Linear mixed model fit by REML ['lmerMod']\n",
       "Formula: estimate ~ -1 + Genotype + (1 | Tag)\n",
       "   Data: ambient_PL\n",
       "\n",
       "REML criterion at convergence: -2434.8\n",
       "\n",
       "Scaled residuals: \n",
       "   Min     1Q Median     3Q    Max \n",
       "-2.434  0.000  0.000  0.000  0.000 \n",
       "\n",
       "Random effects:\n",
       " Groups   Name        Variance  Std.Dev. \n",
       " Tag      (Intercept) 2.019e-36 1.421e-18\n",
       " Residual             3.250e-35 5.700e-18\n",
       "Number of obs: 42, groups:  Tag, 28\n",
       "\n",
       "Fixed effects:\n",
       "                  Estimate Std. Error   t value\n",
       "GenotypeAcerv2   8.050e-02  2.468e-18 3.262e+16\n",
       "GenotypeCooper-9 8.050e-02  2.687e-18 2.995e+16\n",
       "GenotypeElkhorn  8.050e-02  3.456e-18 2.329e+16\n",
       "GenotypeFM14     8.050e-02  2.979e-18 2.702e+16\n",
       "GenotypeFM19     8.050e-02  3.392e-18 2.373e+16\n",
       "GenotypeFM6      8.050e-02  3.392e-18 2.373e+16\n",
       "GenotypeFM9      8.050e-02  3.392e-18 2.373e+16\n",
       "GenotypeK2       8.050e-02  3.022e-18 2.664e+16\n",
       "GenotypeKelsey-1 8.050e-02  2.687e-18 2.995e+16\n",
       "GenotypeU44      8.050e-02  2.468e-18 3.262e+16\n",
       "\n",
       "Correlation of Fixed Effects:\n",
       "            GntyA2 GntC-9 GntypE GnFM14 GnFM19 GntFM6 GntFM9 GntyK2 GntK-1\n",
       "GentypCpr-9 0.000                                                         \n",
       "GntypElkhrn 0.000  0.000                                                  \n",
       "GenotypFM14 0.000  0.000  0.000                                           \n",
       "GenotypFM19 0.000  0.000  0.000  0.000                                    \n",
       "GenotypeFM6 0.000  0.000  0.000  0.000  0.000                             \n",
       "GenotypeFM9 0.000  0.000  0.000  0.000  0.000  0.000                      \n",
       "GenotypeK2  0.000  0.000  0.000  0.000  0.000  0.000  0.000               \n",
       "GntypKlsy-1 0.000  0.000  0.000  0.000  0.000  0.000  0.000  0.000        \n",
       "GenotypeU44 0.000  0.000  0.000  0.000  0.000  0.000  0.000  0.000  0.000 \n",
       "optimizer (nloptwrap) convergence code: 0 (OK)\n",
       "Model failed to converge with max|grad| = 1.46806 (tol = 0.002, component 1)\n",
       "Model is nearly unidentifiable: very large eigenvalue\n",
       " - Rescale variables?\n"
      ]
     },
     "metadata": {},
     "output_type": "display_data"
    },
    {
     "data": {
      "text/plain": [
       "$emmeans\n",
       " Genotype emmean       SE   df lower.CL upper.CL\n",
       " Acerv2   0.0805 2.47e-18 10.4   0.0805   0.0805\n",
       " Cooper-9 0.0805 2.73e-18 13.2   0.0805   0.0805\n",
       " Elkhorn  0.0805 3.52e-18 15.4   0.0805   0.0805\n",
       " FM14     0.0805 3.04e-18 18.8   0.0805   0.0805\n",
       " FM19     0.0805 3.39e-18 29.8   0.0805   0.0805\n",
       " FM6      0.0805 3.39e-18 29.8   0.0805   0.0805\n",
       " FM9      0.0805 3.39e-18 29.8   0.0805   0.0805\n",
       " K2       0.0805 3.02e-18 10.4   0.0805   0.0805\n",
       " Kelsey-1 0.0805 2.73e-18 13.2   0.0805   0.0805\n",
       " U44      0.0805 2.47e-18 10.4   0.0805   0.0805\n",
       "\n",
       "Degrees-of-freedom method: kenward-roger \n",
       "Confidence level used: 0.95 \n",
       "\n",
       "$contrasts\n",
       " contrast                 estimate       SE   df t.ratio p.value\n",
       " Acerv2 - (Cooper-9)      0.00e+00 3.68e-18 11.8   0.000  1.0000\n",
       " Acerv2 - Elkhorn         0.00e+00 4.30e-18 13.5   0.000  1.0000\n",
       " Acerv2 - FM14           -1.39e-17 3.92e-18 14.7  -3.543  0.0645\n",
       " Acerv2 - FM19            0.00e+00 4.19e-18 21.9   0.000  1.0000\n",
       " Acerv2 - FM6             0.00e+00 4.19e-18 21.9   0.000  1.0000\n",
       " Acerv2 - FM9             0.00e+00 4.19e-18 21.9   0.000  1.0000\n",
       " Acerv2 - K2              0.00e+00 3.90e-18 10.4   0.000  1.0000\n",
       " Acerv2 - (Kelsey-1)      0.00e+00 3.68e-18 11.8   0.000  1.0000\n",
       " Acerv2 - U44             0.00e+00 3.49e-18 10.4   0.000  1.0000\n",
       " (Cooper-9) - Elkhorn     0.00e+00 4.45e-18 14.5   0.000  1.0000\n",
       " (Cooper-9) - FM14       -1.39e-17 4.08e-18 16.0  -3.398  0.0780\n",
       " (Cooper-9) - FM19        0.00e+00 4.35e-18 22.9   0.000  1.0000\n",
       " (Cooper-9) - FM6         0.00e+00 4.35e-18 22.9   0.000  1.0000\n",
       " (Cooper-9) - FM9         0.00e+00 4.35e-18 22.9   0.000  1.0000\n",
       " (Cooper-9) - K2          0.00e+00 4.07e-18 11.5   0.000  1.0000\n",
       " (Cooper-9) - (Kelsey-1)  0.00e+00 3.85e-18 13.2   0.000  1.0000\n",
       " (Cooper-9) - U44         0.00e+00 3.68e-18 11.8   0.000  1.0000\n",
       " Elkhorn - FM14          -1.39e-17 4.65e-18 16.8  -2.982  0.1574\n",
       " Elkhorn - FM19           0.00e+00 4.89e-18 22.2   0.000  1.0000\n",
       " Elkhorn - FM6            0.00e+00 4.89e-18 22.2   0.000  1.0000\n",
       " Elkhorn - FM9            0.00e+00 4.89e-18 22.2   0.000  1.0000\n",
       " Elkhorn - K2             0.00e+00 4.64e-18 13.0   0.000  1.0000\n",
       " Elkhorn - (Kelsey-1)     0.00e+00 4.45e-18 14.5   0.000  1.0000\n",
       " Elkhorn - U44            0.00e+00 4.30e-18 13.5   0.000  1.0000\n",
       " FM14 - FM19              1.39e-17 4.56e-18 25.2   3.046  0.1188\n",
       " FM14 - FM6               1.39e-17 4.56e-18 25.2   3.046  0.1188\n",
       " FM14 - FM9               1.39e-17 4.56e-18 25.2   3.046  0.1188\n",
       " FM14 - K2                1.39e-17 4.29e-18 13.8   3.237  0.1135\n",
       " FM14 - (Kelsey-1)        1.39e-17 4.08e-18 16.0   3.398  0.0780\n",
       " FM14 - U44               1.39e-17 3.92e-18 14.7   3.543  0.0645\n",
       " FM19 - FM6               0.00e+00 4.80e-18 29.8   0.000  1.0000\n",
       " FM19 - FM9               0.00e+00 4.80e-18 29.8   0.000  1.0000\n",
       " FM19 - K2                0.00e+00 4.54e-18 19.7   0.000  1.0000\n",
       " FM19 - (Kelsey-1)        0.00e+00 4.35e-18 22.9   0.000  1.0000\n",
       " FM19 - U44               0.00e+00 4.19e-18 21.9   0.000  1.0000\n",
       " FM6 - FM9                0.00e+00 4.80e-18 29.8   0.000  1.0000\n",
       " FM6 - K2                 0.00e+00 4.54e-18 19.7   0.000  1.0000\n",
       " FM6 - (Kelsey-1)         0.00e+00 4.35e-18 22.9   0.000  1.0000\n",
       " FM6 - U44                0.00e+00 4.19e-18 21.9   0.000  1.0000\n",
       " FM9 - K2                 0.00e+00 4.54e-18 19.7   0.000  1.0000\n",
       " FM9 - (Kelsey-1)         0.00e+00 4.35e-18 22.9   0.000  1.0000\n",
       " FM9 - U44                0.00e+00 4.19e-18 21.9   0.000  1.0000\n",
       " K2 - (Kelsey-1)          0.00e+00 4.07e-18 11.5   0.000  1.0000\n",
       " K2 - U44                 0.00e+00 3.90e-18 10.4   0.000  1.0000\n",
       " (Kelsey-1) - U44         0.00e+00 3.68e-18 11.8   0.000  1.0000\n",
       "\n",
       "Degrees-of-freedom method: kenward-roger \n",
       "P value adjustment: tukey method for comparing a family of 10 estimates \n"
      ]
     },
     "metadata": {},
     "output_type": "display_data"
    }
   ],
   "source": [
    "mixed.lmer_geno <- lmer(estimate ~ -1 + Genotype + (1|Tag) , data =ambient_PL)\n",
    "summary(mixed.lmer_geno)\n",
    "\n",
    "emmeans(mixed.lmer_geno, pairwise ~ -1 + Genotype, adjust=\"tukey\")"
   ]
  },
  {
   "cell_type": "code",
   "execution_count": 98,
   "id": "cf37dd6c",
   "metadata": {},
   "outputs": [
    {
     "data": {
      "text/html": [
       "<style>\n",
       ".list-inline {list-style: none; margin:0; padding: 0}\n",
       ".list-inline>li {display: inline-block}\n",
       ".list-inline>li:not(:last-child)::after {content: \"\\00b7\"; padding: 0 .5ex}\n",
       "</style>\n",
       "<ol class=list-inline><li>106</li><li>51</li></ol>\n"
      ],
      "text/latex": [
       "\\begin{enumerate*}\n",
       "\\item 106\n",
       "\\item 51\n",
       "\\end{enumerate*}\n"
      ],
      "text/markdown": [
       "1. 106\n",
       "2. 51\n",
       "\n",
       "\n"
      ],
      "text/plain": [
       "[1] 106  51"
      ]
     },
     "metadata": {},
     "output_type": "display_data"
    },
    {
     "data": {
      "text/html": [
       "<style>\n",
       ".list-inline {list-style: none; margin:0; padding: 0}\n",
       ".list-inline>li {display: inline-block}\n",
       ".list-inline>li:not(:last-child)::after {content: \"\\00b7\"; padding: 0 .5ex}\n",
       "</style>\n",
       "<ol class=list-inline><li>'NH4_Placebo'</li><li>'Ambient_Placebo'</li><li>'Ambient_Placebo'</li><li>'Ambient_Placebo'</li><li>'NH4_Placebo'</li><li>'NH4_Placebo'</li><li>'NH4_Placebo'</li><li>'NH4_Placebo'</li><li>'NH4_Placebo'</li><li>'NH4_Placebo'</li><li>'NH4_Placebo'</li><li>'NH4_Placebo'</li><li>'Ambient_Placebo'</li><li>'Ambient_Placebo'</li><li>'Ambient_Placebo'</li><li>'Ambient_Placebo'</li><li>'Ambient_Placebo'</li><li>'Ambient_Placebo'</li><li>'NH4_Placebo'</li><li>'NH4_Placebo'</li><li>'NH4_Placebo'</li><li>'NH4_Placebo'</li><li>'Ambient_Placebo'</li><li>'Ambient_Placebo'</li><li>'NH4_Placebo'</li><li>'NH4_Placebo'</li><li>'NH4_Placebo'</li><li>'NH4_Placebo'</li><li>'NH4_Placebo'</li><li>'NH4_Placebo'</li><li>'NH4_Placebo'</li><li>'Ambient_Placebo'</li><li>'Ambient_Placebo'</li><li>'Ambient_Placebo'</li><li>'Ambient_Placebo'</li><li>'NH4_Placebo'</li><li>'Ambient_Placebo'</li><li>'NH4_Placebo'</li><li>'Ambient_Placebo'</li><li>'NH4_Placebo'</li><li>'Ambient_Placebo'</li><li>'NH4_Placebo'</li><li>'NH4_Placebo'</li><li>'NH4_Placebo'</li><li>'Ambient_Placebo'</li><li>'Ambient_Placebo'</li><li>'NH4_Placebo'</li><li>'Ambient_Placebo'</li><li>'Ambient_Placebo'</li><li>'NH4_Placebo'</li><li>'Ambient_Placebo'</li><li>'Ambient_Placebo'</li><li>'Ambient_Placebo'</li><li>'Ambient_Placebo'</li><li>'Ambient_Placebo'</li><li>'Ambient_Placebo'</li><li>'Ambient_Placebo'</li><li>'Ambient_Placebo'</li><li>'Ambient_Placebo'</li><li>'Ambient_Placebo'</li><li>'Ambient_Placebo'</li><li>'Ambient_Placebo'</li><li>'Ambient_Placebo'</li><li>'Ambient_Placebo'</li><li>'Ambient_Placebo'</li><li>'Ambient_Placebo'</li><li>'Ambient_Placebo'</li><li>'Ambient_Placebo'</li><li>'NH4_Placebo'</li><li>'NH4_Placebo'</li><li>'NH4_Placebo'</li><li>'NH4_Placebo'</li><li>'NH4_Placebo'</li><li>'NH4_Placebo'</li><li>'NH4_Placebo'</li><li>'NH4_Placebo'</li><li>'NH4_Placebo'</li><li>'NH4_Placebo'</li><li>'NH4_Placebo'</li><li>'NH4_Placebo'</li><li>'NH4_Placebo'</li><li>'NH4_Placebo'</li><li>'NH4_Placebo'</li><li>'NH4_Placebo'</li><li>'NH4_Placebo'</li><li>'NH4_Placebo'</li><li>'NH4_Placebo'</li><li>'NH4_Placebo'</li><li>'NH4_Placebo'</li><li>'NH4_Placebo'</li><li>'NH4_Placebo'</li><li>'NH4_Placebo'</li><li>'NH4_Placebo'</li><li>'NH4_Placebo'</li><li>'NH4_Placebo'</li><li>'NH4_Placebo'</li><li>'NH4_Placebo'</li><li>'NH4_Placebo'</li><li>'Ambient_Placebo'</li><li>'NH4_Placebo'</li><li>'NH4_Placebo'</li><li>'NH4_Placebo'</li><li>'Ambient_Placebo'</li><li>'NH4_Placebo'</li><li>'NH4_Placebo'</li><li>'NH4_Placebo'</li></ol>\n"
      ],
      "text/latex": [
       "\\begin{enumerate*}\n",
       "\\item 'NH4\\_Placebo'\n",
       "\\item 'Ambient\\_Placebo'\n",
       "\\item 'Ambient\\_Placebo'\n",
       "\\item 'Ambient\\_Placebo'\n",
       "\\item 'NH4\\_Placebo'\n",
       "\\item 'NH4\\_Placebo'\n",
       "\\item 'NH4\\_Placebo'\n",
       "\\item 'NH4\\_Placebo'\n",
       "\\item 'NH4\\_Placebo'\n",
       "\\item 'NH4\\_Placebo'\n",
       "\\item 'NH4\\_Placebo'\n",
       "\\item 'NH4\\_Placebo'\n",
       "\\item 'Ambient\\_Placebo'\n",
       "\\item 'Ambient\\_Placebo'\n",
       "\\item 'Ambient\\_Placebo'\n",
       "\\item 'Ambient\\_Placebo'\n",
       "\\item 'Ambient\\_Placebo'\n",
       "\\item 'Ambient\\_Placebo'\n",
       "\\item 'NH4\\_Placebo'\n",
       "\\item 'NH4\\_Placebo'\n",
       "\\item 'NH4\\_Placebo'\n",
       "\\item 'NH4\\_Placebo'\n",
       "\\item 'Ambient\\_Placebo'\n",
       "\\item 'Ambient\\_Placebo'\n",
       "\\item 'NH4\\_Placebo'\n",
       "\\item 'NH4\\_Placebo'\n",
       "\\item 'NH4\\_Placebo'\n",
       "\\item 'NH4\\_Placebo'\n",
       "\\item 'NH4\\_Placebo'\n",
       "\\item 'NH4\\_Placebo'\n",
       "\\item 'NH4\\_Placebo'\n",
       "\\item 'Ambient\\_Placebo'\n",
       "\\item 'Ambient\\_Placebo'\n",
       "\\item 'Ambient\\_Placebo'\n",
       "\\item 'Ambient\\_Placebo'\n",
       "\\item 'NH4\\_Placebo'\n",
       "\\item 'Ambient\\_Placebo'\n",
       "\\item 'NH4\\_Placebo'\n",
       "\\item 'Ambient\\_Placebo'\n",
       "\\item 'NH4\\_Placebo'\n",
       "\\item 'Ambient\\_Placebo'\n",
       "\\item 'NH4\\_Placebo'\n",
       "\\item 'NH4\\_Placebo'\n",
       "\\item 'NH4\\_Placebo'\n",
       "\\item 'Ambient\\_Placebo'\n",
       "\\item 'Ambient\\_Placebo'\n",
       "\\item 'NH4\\_Placebo'\n",
       "\\item 'Ambient\\_Placebo'\n",
       "\\item 'Ambient\\_Placebo'\n",
       "\\item 'NH4\\_Placebo'\n",
       "\\item 'Ambient\\_Placebo'\n",
       "\\item 'Ambient\\_Placebo'\n",
       "\\item 'Ambient\\_Placebo'\n",
       "\\item 'Ambient\\_Placebo'\n",
       "\\item 'Ambient\\_Placebo'\n",
       "\\item 'Ambient\\_Placebo'\n",
       "\\item 'Ambient\\_Placebo'\n",
       "\\item 'Ambient\\_Placebo'\n",
       "\\item 'Ambient\\_Placebo'\n",
       "\\item 'Ambient\\_Placebo'\n",
       "\\item 'Ambient\\_Placebo'\n",
       "\\item 'Ambient\\_Placebo'\n",
       "\\item 'Ambient\\_Placebo'\n",
       "\\item 'Ambient\\_Placebo'\n",
       "\\item 'Ambient\\_Placebo'\n",
       "\\item 'Ambient\\_Placebo'\n",
       "\\item 'Ambient\\_Placebo'\n",
       "\\item 'Ambient\\_Placebo'\n",
       "\\item 'NH4\\_Placebo'\n",
       "\\item 'NH4\\_Placebo'\n",
       "\\item 'NH4\\_Placebo'\n",
       "\\item 'NH4\\_Placebo'\n",
       "\\item 'NH4\\_Placebo'\n",
       "\\item 'NH4\\_Placebo'\n",
       "\\item 'NH4\\_Placebo'\n",
       "\\item 'NH4\\_Placebo'\n",
       "\\item 'NH4\\_Placebo'\n",
       "\\item 'NH4\\_Placebo'\n",
       "\\item 'NH4\\_Placebo'\n",
       "\\item 'NH4\\_Placebo'\n",
       "\\item 'NH4\\_Placebo'\n",
       "\\item 'NH4\\_Placebo'\n",
       "\\item 'NH4\\_Placebo'\n",
       "\\item 'NH4\\_Placebo'\n",
       "\\item 'NH4\\_Placebo'\n",
       "\\item 'NH4\\_Placebo'\n",
       "\\item 'NH4\\_Placebo'\n",
       "\\item 'NH4\\_Placebo'\n",
       "\\item 'NH4\\_Placebo'\n",
       "\\item 'NH4\\_Placebo'\n",
       "\\item 'NH4\\_Placebo'\n",
       "\\item 'NH4\\_Placebo'\n",
       "\\item 'NH4\\_Placebo'\n",
       "\\item 'NH4\\_Placebo'\n",
       "\\item 'NH4\\_Placebo'\n",
       "\\item 'NH4\\_Placebo'\n",
       "\\item 'NH4\\_Placebo'\n",
       "\\item 'NH4\\_Placebo'\n",
       "\\item 'Ambient\\_Placebo'\n",
       "\\item 'NH4\\_Placebo'\n",
       "\\item 'NH4\\_Placebo'\n",
       "\\item 'NH4\\_Placebo'\n",
       "\\item 'Ambient\\_Placebo'\n",
       "\\item 'NH4\\_Placebo'\n",
       "\\item 'NH4\\_Placebo'\n",
       "\\item 'NH4\\_Placebo'\n",
       "\\end{enumerate*}\n"
      ],
      "text/markdown": [
       "1. 'NH4_Placebo'\n",
       "2. 'Ambient_Placebo'\n",
       "3. 'Ambient_Placebo'\n",
       "4. 'Ambient_Placebo'\n",
       "5. 'NH4_Placebo'\n",
       "6. 'NH4_Placebo'\n",
       "7. 'NH4_Placebo'\n",
       "8. 'NH4_Placebo'\n",
       "9. 'NH4_Placebo'\n",
       "10. 'NH4_Placebo'\n",
       "11. 'NH4_Placebo'\n",
       "12. 'NH4_Placebo'\n",
       "13. 'Ambient_Placebo'\n",
       "14. 'Ambient_Placebo'\n",
       "15. 'Ambient_Placebo'\n",
       "16. 'Ambient_Placebo'\n",
       "17. 'Ambient_Placebo'\n",
       "18. 'Ambient_Placebo'\n",
       "19. 'NH4_Placebo'\n",
       "20. 'NH4_Placebo'\n",
       "21. 'NH4_Placebo'\n",
       "22. 'NH4_Placebo'\n",
       "23. 'Ambient_Placebo'\n",
       "24. 'Ambient_Placebo'\n",
       "25. 'NH4_Placebo'\n",
       "26. 'NH4_Placebo'\n",
       "27. 'NH4_Placebo'\n",
       "28. 'NH4_Placebo'\n",
       "29. 'NH4_Placebo'\n",
       "30. 'NH4_Placebo'\n",
       "31. 'NH4_Placebo'\n",
       "32. 'Ambient_Placebo'\n",
       "33. 'Ambient_Placebo'\n",
       "34. 'Ambient_Placebo'\n",
       "35. 'Ambient_Placebo'\n",
       "36. 'NH4_Placebo'\n",
       "37. 'Ambient_Placebo'\n",
       "38. 'NH4_Placebo'\n",
       "39. 'Ambient_Placebo'\n",
       "40. 'NH4_Placebo'\n",
       "41. 'Ambient_Placebo'\n",
       "42. 'NH4_Placebo'\n",
       "43. 'NH4_Placebo'\n",
       "44. 'NH4_Placebo'\n",
       "45. 'Ambient_Placebo'\n",
       "46. 'Ambient_Placebo'\n",
       "47. 'NH4_Placebo'\n",
       "48. 'Ambient_Placebo'\n",
       "49. 'Ambient_Placebo'\n",
       "50. 'NH4_Placebo'\n",
       "51. 'Ambient_Placebo'\n",
       "52. 'Ambient_Placebo'\n",
       "53. 'Ambient_Placebo'\n",
       "54. 'Ambient_Placebo'\n",
       "55. 'Ambient_Placebo'\n",
       "56. 'Ambient_Placebo'\n",
       "57. 'Ambient_Placebo'\n",
       "58. 'Ambient_Placebo'\n",
       "59. 'Ambient_Placebo'\n",
       "60. 'Ambient_Placebo'\n",
       "61. 'Ambient_Placebo'\n",
       "62. 'Ambient_Placebo'\n",
       "63. 'Ambient_Placebo'\n",
       "64. 'Ambient_Placebo'\n",
       "65. 'Ambient_Placebo'\n",
       "66. 'Ambient_Placebo'\n",
       "67. 'Ambient_Placebo'\n",
       "68. 'Ambient_Placebo'\n",
       "69. 'NH4_Placebo'\n",
       "70. 'NH4_Placebo'\n",
       "71. 'NH4_Placebo'\n",
       "72. 'NH4_Placebo'\n",
       "73. 'NH4_Placebo'\n",
       "74. 'NH4_Placebo'\n",
       "75. 'NH4_Placebo'\n",
       "76. 'NH4_Placebo'\n",
       "77. 'NH4_Placebo'\n",
       "78. 'NH4_Placebo'\n",
       "79. 'NH4_Placebo'\n",
       "80. 'NH4_Placebo'\n",
       "81. 'NH4_Placebo'\n",
       "82. 'NH4_Placebo'\n",
       "83. 'NH4_Placebo'\n",
       "84. 'NH4_Placebo'\n",
       "85. 'NH4_Placebo'\n",
       "86. 'NH4_Placebo'\n",
       "87. 'NH4_Placebo'\n",
       "88. 'NH4_Placebo'\n",
       "89. 'NH4_Placebo'\n",
       "90. 'NH4_Placebo'\n",
       "91. 'NH4_Placebo'\n",
       "92. 'NH4_Placebo'\n",
       "93. 'NH4_Placebo'\n",
       "94. 'NH4_Placebo'\n",
       "95. 'NH4_Placebo'\n",
       "96. 'NH4_Placebo'\n",
       "97. 'NH4_Placebo'\n",
       "98. 'NH4_Placebo'\n",
       "99. 'Ambient_Placebo'\n",
       "100. 'NH4_Placebo'\n",
       "101. 'NH4_Placebo'\n",
       "102. 'NH4_Placebo'\n",
       "103. 'Ambient_Placebo'\n",
       "104. 'NH4_Placebo'\n",
       "105. 'NH4_Placebo'\n",
       "106. 'NH4_Placebo'\n",
       "\n",
       "\n"
      ],
      "text/plain": [
       "  [1] \"NH4_Placebo\"     \"Ambient_Placebo\" \"Ambient_Placebo\" \"Ambient_Placebo\"\n",
       "  [5] \"NH4_Placebo\"     \"NH4_Placebo\"     \"NH4_Placebo\"     \"NH4_Placebo\"    \n",
       "  [9] \"NH4_Placebo\"     \"NH4_Placebo\"     \"NH4_Placebo\"     \"NH4_Placebo\"    \n",
       " [13] \"Ambient_Placebo\" \"Ambient_Placebo\" \"Ambient_Placebo\" \"Ambient_Placebo\"\n",
       " [17] \"Ambient_Placebo\" \"Ambient_Placebo\" \"NH4_Placebo\"     \"NH4_Placebo\"    \n",
       " [21] \"NH4_Placebo\"     \"NH4_Placebo\"     \"Ambient_Placebo\" \"Ambient_Placebo\"\n",
       " [25] \"NH4_Placebo\"     \"NH4_Placebo\"     \"NH4_Placebo\"     \"NH4_Placebo\"    \n",
       " [29] \"NH4_Placebo\"     \"NH4_Placebo\"     \"NH4_Placebo\"     \"Ambient_Placebo\"\n",
       " [33] \"Ambient_Placebo\" \"Ambient_Placebo\" \"Ambient_Placebo\" \"NH4_Placebo\"    \n",
       " [37] \"Ambient_Placebo\" \"NH4_Placebo\"     \"Ambient_Placebo\" \"NH4_Placebo\"    \n",
       " [41] \"Ambient_Placebo\" \"NH4_Placebo\"     \"NH4_Placebo\"     \"NH4_Placebo\"    \n",
       " [45] \"Ambient_Placebo\" \"Ambient_Placebo\" \"NH4_Placebo\"     \"Ambient_Placebo\"\n",
       " [49] \"Ambient_Placebo\" \"NH4_Placebo\"     \"Ambient_Placebo\" \"Ambient_Placebo\"\n",
       " [53] \"Ambient_Placebo\" \"Ambient_Placebo\" \"Ambient_Placebo\" \"Ambient_Placebo\"\n",
       " [57] \"Ambient_Placebo\" \"Ambient_Placebo\" \"Ambient_Placebo\" \"Ambient_Placebo\"\n",
       " [61] \"Ambient_Placebo\" \"Ambient_Placebo\" \"Ambient_Placebo\" \"Ambient_Placebo\"\n",
       " [65] \"Ambient_Placebo\" \"Ambient_Placebo\" \"Ambient_Placebo\" \"Ambient_Placebo\"\n",
       " [69] \"NH4_Placebo\"     \"NH4_Placebo\"     \"NH4_Placebo\"     \"NH4_Placebo\"    \n",
       " [73] \"NH4_Placebo\"     \"NH4_Placebo\"     \"NH4_Placebo\"     \"NH4_Placebo\"    \n",
       " [77] \"NH4_Placebo\"     \"NH4_Placebo\"     \"NH4_Placebo\"     \"NH4_Placebo\"    \n",
       " [81] \"NH4_Placebo\"     \"NH4_Placebo\"     \"NH4_Placebo\"     \"NH4_Placebo\"    \n",
       " [85] \"NH4_Placebo\"     \"NH4_Placebo\"     \"NH4_Placebo\"     \"NH4_Placebo\"    \n",
       " [89] \"NH4_Placebo\"     \"NH4_Placebo\"     \"NH4_Placebo\"     \"NH4_Placebo\"    \n",
       " [93] \"NH4_Placebo\"     \"NH4_Placebo\"     \"NH4_Placebo\"     \"NH4_Placebo\"    \n",
       " [97] \"NH4_Placebo\"     \"NH4_Placebo\"     \"Ambient_Placebo\" \"NH4_Placebo\"    \n",
       "[101] \"NH4_Placebo\"     \"NH4_Placebo\"     \"Ambient_Placebo\" \"NH4_Placebo\"    \n",
       "[105] \"NH4_Placebo\"     \"NH4_Placebo\"    "
      ]
     },
     "metadata": {},
     "output_type": "display_data"
    }
   ],
   "source": [
    "PLac= meta1 %>%\n",
    "filter(Diseased==\"Placebo\")\n",
    "\n",
    "dim(PLac)\n",
    "\n",
    "PLac$Combo"
   ]
  },
  {
   "cell_type": "code",
   "execution_count": 99,
   "id": "b983d8bc",
   "metadata": {},
   "outputs": [
    {
     "name": "stderr",
     "output_type": "stream",
     "text": [
      "boundary (singular) fit: see help('isSingular')\n",
      "\n"
     ]
    },
    {
     "data": {
      "text/plain": [
       "Linear mixed model fit by REML ['lmerMod']\n",
       "Formula: estimate ~ Nutrients + (1 | Tag:Genotype)\n",
       "   Data: PLac\n",
       "\n",
       "REML criterion at convergence: -7354.2\n",
       "\n",
       "Scaled residuals: \n",
       "   Min     1Q Median     3Q    Max \n",
       "-1.215 -1.215 -0.810 -0.810 -0.810 \n",
       "\n",
       "Random effects:\n",
       " Groups       Name        Variance  Std.Dev. \n",
       " Tag:Genotype (Intercept) 3.715e-42 1.927e-21\n",
       " Residual                 1.057e-32 1.028e-16\n",
       "Number of obs: 106, groups:  Tag:Genotype, 82\n",
       "\n",
       "Fixed effects:\n",
       "               Estimate Std. Error    t value\n",
       "(Intercept)   8.050e-02  1.586e-17  5.075e+15\n",
       "NutrientsNH4 -3.502e-17  2.041e-17 -1.716e+00\n",
       "\n",
       "Correlation of Fixed Effects:\n",
       "            (Intr)\n",
       "NutrintsNH4 -0.777\n",
       "optimizer (nloptwrap) convergence code: 0 (OK)\n",
       "boundary (singular) fit: see help('isSingular')\n"
      ]
     },
     "metadata": {},
     "output_type": "display_data"
    },
    {
     "data": {
      "text/plain": [
       "$emmeans\n",
       " Nutrients emmean      SE   df lower.CL upper.CL\n",
       " Ambient   0.0805 1.6e-17 51.5   0.0805   0.0805\n",
       " NH4       0.0805 1.3e-17 84.5   0.0805   0.0805\n",
       "\n",
       "Degrees-of-freedom method: kenward-roger \n",
       "Confidence level used: 0.95 \n",
       "\n",
       "$contrasts\n",
       " contrast      estimate       SE   df t.ratio p.value\n",
       " Ambient - NH4  3.5e-17 2.06e-17 63.4   1.700  0.0941\n",
       "\n",
       "Degrees-of-freedom method: kenward-roger \n"
      ]
     },
     "metadata": {},
     "output_type": "display_data"
    }
   ],
   "source": [
    "mixed.lmer_TT <- lmer(estimate~ Nutrients + (1|Tag:Genotype), data =PLac)\n",
    "summary(mixed.lmer_TT)\n",
    "emmeans(mixed.lmer_TT, pairwise ~ -1 + Nutrients, adjust=\"tukey\")"
   ]
  },
  {
   "cell_type": "code",
   "execution_count": 16,
   "id": "2bd9b180",
   "metadata": {},
   "outputs": [
    {
     "data": {
      "text/html": [
       "<style>\n",
       ".list-inline {list-style: none; margin:0; padding: 0}\n",
       ".list-inline>li {display: inline-block}\n",
       ".list-inline>li:not(:last-child)::after {content: \"\\00b7\"; padding: 0 .5ex}\n",
       "</style>\n",
       "<ol class=list-inline><li>135</li><li>51</li></ol>\n"
      ],
      "text/latex": [
       "\\begin{enumerate*}\n",
       "\\item 135\n",
       "\\item 51\n",
       "\\end{enumerate*}\n"
      ],
      "text/markdown": [
       "1. 135\n",
       "2. 51\n",
       "\n",
       "\n"
      ],
      "text/plain": [
       "[1] 135  51"
      ]
     },
     "metadata": {},
     "output_type": "display_data"
    },
    {
     "data": {
      "text/html": [
       "<style>\n",
       ".list-inline {list-style: none; margin:0; padding: 0}\n",
       ".list-inline>li {display: inline-block}\n",
       ".list-inline>li:not(:last-child)::after {content: \"\\00b7\"; padding: 0 .5ex}\n",
       "</style>\n",
       "<ol class=list-inline><li>'paired'</li><li>'paired'</li><li>'paired'</li><li>'paired'</li><li>'paired'</li><li>'paired'</li><li>'paired'</li><li>'paired'</li><li>'paired'</li><li>'paired'</li><li>'paired'</li><li>'paired'</li><li>'paired'</li><li>'paired'</li><li>'paired'</li><li>'paired'</li><li>'paired'</li><li>'paired'</li><li>'paired'</li><li>'paired'</li><li>'paired'</li><li>'paired'</li><li>'paired'</li><li>'paired'</li><li>'paired'</li><li>'paired'</li><li>'paired'</li><li>'paired'</li><li>'paired'</li><li>'paired'</li><li>'paired'</li><li>'paired'</li><li>'paired'</li><li>'paired'</li><li>'paired'</li><li>'paired'</li><li>'paired'</li><li>'paired'</li><li>'paired'</li><li>'paired'</li><li>'paired'</li><li>'paired'</li><li>'paired'</li><li>'paired'</li><li>'paired'</li><li>'paired'</li><li>'paired'</li><li>'paired'</li><li>'paired'</li><li>'paired'</li><li>'paired'</li><li>'paired'</li><li>'paired'</li><li>'paired'</li><li>'paired'</li><li>'paired'</li><li>'paired'</li><li>'paired'</li><li>'paired'</li><li>'paired'</li><li>'paired'</li><li>'paired'</li><li>'paired'</li><li>'paired'</li><li>'paired'</li><li>'paired'</li><li>'paired'</li><li>'paired'</li><li>'paired'</li><li>'paired'</li><li>'paired'</li><li>'paired'</li><li>'paired'</li><li>'paired'</li><li>'paired'</li><li>'paired'</li><li>'paired'</li><li>'paired'</li><li>'paired'</li><li>'paired'</li><li>'paired'</li><li>'paired'</li><li>'paired'</li><li>'paired'</li><li>'paired'</li><li>'paired'</li><li>'paired'</li><li>'paired'</li><li>'paired'</li><li>'paired'</li><li>'paired'</li><li>'paired'</li><li>'paired'</li><li>'paired'</li><li>'paired'</li><li>'paired'</li><li>'paired'</li><li>'paired'</li><li>'paired'</li><li>'paired'</li><li>'paired'</li><li>'paired'</li><li>'paired'</li><li>'paired'</li><li>'paired'</li><li>'paired'</li><li>'paired'</li><li>'paired'</li><li>'paired'</li><li>'paired'</li><li>'paired'</li><li>'paired'</li><li>'paired'</li><li>'paired'</li><li>'paired'</li><li>'paired'</li><li>'paired'</li><li>'paired'</li><li>'paired'</li><li>'paired'</li><li>'paired'</li><li>'paired'</li><li>'paired'</li><li>'paired'</li><li>'paired'</li><li>'paired'</li><li>'paired'</li><li>'paired'</li><li>'paired'</li><li>'paired'</li><li>'paired'</li><li>'paired'</li><li>'paired'</li><li>'paired'</li><li>'paired'</li></ol>\n"
      ],
      "text/latex": [
       "\\begin{enumerate*}\n",
       "\\item 'paired'\n",
       "\\item 'paired'\n",
       "\\item 'paired'\n",
       "\\item 'paired'\n",
       "\\item 'paired'\n",
       "\\item 'paired'\n",
       "\\item 'paired'\n",
       "\\item 'paired'\n",
       "\\item 'paired'\n",
       "\\item 'paired'\n",
       "\\item 'paired'\n",
       "\\item 'paired'\n",
       "\\item 'paired'\n",
       "\\item 'paired'\n",
       "\\item 'paired'\n",
       "\\item 'paired'\n",
       "\\item 'paired'\n",
       "\\item 'paired'\n",
       "\\item 'paired'\n",
       "\\item 'paired'\n",
       "\\item 'paired'\n",
       "\\item 'paired'\n",
       "\\item 'paired'\n",
       "\\item 'paired'\n",
       "\\item 'paired'\n",
       "\\item 'paired'\n",
       "\\item 'paired'\n",
       "\\item 'paired'\n",
       "\\item 'paired'\n",
       "\\item 'paired'\n",
       "\\item 'paired'\n",
       "\\item 'paired'\n",
       "\\item 'paired'\n",
       "\\item 'paired'\n",
       "\\item 'paired'\n",
       "\\item 'paired'\n",
       "\\item 'paired'\n",
       "\\item 'paired'\n",
       "\\item 'paired'\n",
       "\\item 'paired'\n",
       "\\item 'paired'\n",
       "\\item 'paired'\n",
       "\\item 'paired'\n",
       "\\item 'paired'\n",
       "\\item 'paired'\n",
       "\\item 'paired'\n",
       "\\item 'paired'\n",
       "\\item 'paired'\n",
       "\\item 'paired'\n",
       "\\item 'paired'\n",
       "\\item 'paired'\n",
       "\\item 'paired'\n",
       "\\item 'paired'\n",
       "\\item 'paired'\n",
       "\\item 'paired'\n",
       "\\item 'paired'\n",
       "\\item 'paired'\n",
       "\\item 'paired'\n",
       "\\item 'paired'\n",
       "\\item 'paired'\n",
       "\\item 'paired'\n",
       "\\item 'paired'\n",
       "\\item 'paired'\n",
       "\\item 'paired'\n",
       "\\item 'paired'\n",
       "\\item 'paired'\n",
       "\\item 'paired'\n",
       "\\item 'paired'\n",
       "\\item 'paired'\n",
       "\\item 'paired'\n",
       "\\item 'paired'\n",
       "\\item 'paired'\n",
       "\\item 'paired'\n",
       "\\item 'paired'\n",
       "\\item 'paired'\n",
       "\\item 'paired'\n",
       "\\item 'paired'\n",
       "\\item 'paired'\n",
       "\\item 'paired'\n",
       "\\item 'paired'\n",
       "\\item 'paired'\n",
       "\\item 'paired'\n",
       "\\item 'paired'\n",
       "\\item 'paired'\n",
       "\\item 'paired'\n",
       "\\item 'paired'\n",
       "\\item 'paired'\n",
       "\\item 'paired'\n",
       "\\item 'paired'\n",
       "\\item 'paired'\n",
       "\\item 'paired'\n",
       "\\item 'paired'\n",
       "\\item 'paired'\n",
       "\\item 'paired'\n",
       "\\item 'paired'\n",
       "\\item 'paired'\n",
       "\\item 'paired'\n",
       "\\item 'paired'\n",
       "\\item 'paired'\n",
       "\\item 'paired'\n",
       "\\item 'paired'\n",
       "\\item 'paired'\n",
       "\\item 'paired'\n",
       "\\item 'paired'\n",
       "\\item 'paired'\n",
       "\\item 'paired'\n",
       "\\item 'paired'\n",
       "\\item 'paired'\n",
       "\\item 'paired'\n",
       "\\item 'paired'\n",
       "\\item 'paired'\n",
       "\\item 'paired'\n",
       "\\item 'paired'\n",
       "\\item 'paired'\n",
       "\\item 'paired'\n",
       "\\item 'paired'\n",
       "\\item 'paired'\n",
       "\\item 'paired'\n",
       "\\item 'paired'\n",
       "\\item 'paired'\n",
       "\\item 'paired'\n",
       "\\item 'paired'\n",
       "\\item 'paired'\n",
       "\\item 'paired'\n",
       "\\item 'paired'\n",
       "\\item 'paired'\n",
       "\\item 'paired'\n",
       "\\item 'paired'\n",
       "\\item 'paired'\n",
       "\\item 'paired'\n",
       "\\item 'paired'\n",
       "\\item 'paired'\n",
       "\\item 'paired'\n",
       "\\item 'paired'\n",
       "\\item 'paired'\n",
       "\\end{enumerate*}\n"
      ],
      "text/markdown": [
       "1. 'paired'\n",
       "2. 'paired'\n",
       "3. 'paired'\n",
       "4. 'paired'\n",
       "5. 'paired'\n",
       "6. 'paired'\n",
       "7. 'paired'\n",
       "8. 'paired'\n",
       "9. 'paired'\n",
       "10. 'paired'\n",
       "11. 'paired'\n",
       "12. 'paired'\n",
       "13. 'paired'\n",
       "14. 'paired'\n",
       "15. 'paired'\n",
       "16. 'paired'\n",
       "17. 'paired'\n",
       "18. 'paired'\n",
       "19. 'paired'\n",
       "20. 'paired'\n",
       "21. 'paired'\n",
       "22. 'paired'\n",
       "23. 'paired'\n",
       "24. 'paired'\n",
       "25. 'paired'\n",
       "26. 'paired'\n",
       "27. 'paired'\n",
       "28. 'paired'\n",
       "29. 'paired'\n",
       "30. 'paired'\n",
       "31. 'paired'\n",
       "32. 'paired'\n",
       "33. 'paired'\n",
       "34. 'paired'\n",
       "35. 'paired'\n",
       "36. 'paired'\n",
       "37. 'paired'\n",
       "38. 'paired'\n",
       "39. 'paired'\n",
       "40. 'paired'\n",
       "41. 'paired'\n",
       "42. 'paired'\n",
       "43. 'paired'\n",
       "44. 'paired'\n",
       "45. 'paired'\n",
       "46. 'paired'\n",
       "47. 'paired'\n",
       "48. 'paired'\n",
       "49. 'paired'\n",
       "50. 'paired'\n",
       "51. 'paired'\n",
       "52. 'paired'\n",
       "53. 'paired'\n",
       "54. 'paired'\n",
       "55. 'paired'\n",
       "56. 'paired'\n",
       "57. 'paired'\n",
       "58. 'paired'\n",
       "59. 'paired'\n",
       "60. 'paired'\n",
       "61. 'paired'\n",
       "62. 'paired'\n",
       "63. 'paired'\n",
       "64. 'paired'\n",
       "65. 'paired'\n",
       "66. 'paired'\n",
       "67. 'paired'\n",
       "68. 'paired'\n",
       "69. 'paired'\n",
       "70. 'paired'\n",
       "71. 'paired'\n",
       "72. 'paired'\n",
       "73. 'paired'\n",
       "74. 'paired'\n",
       "75. 'paired'\n",
       "76. 'paired'\n",
       "77. 'paired'\n",
       "78. 'paired'\n",
       "79. 'paired'\n",
       "80. 'paired'\n",
       "81. 'paired'\n",
       "82. 'paired'\n",
       "83. 'paired'\n",
       "84. 'paired'\n",
       "85. 'paired'\n",
       "86. 'paired'\n",
       "87. 'paired'\n",
       "88. 'paired'\n",
       "89. 'paired'\n",
       "90. 'paired'\n",
       "91. 'paired'\n",
       "92. 'paired'\n",
       "93. 'paired'\n",
       "94. 'paired'\n",
       "95. 'paired'\n",
       "96. 'paired'\n",
       "97. 'paired'\n",
       "98. 'paired'\n",
       "99. 'paired'\n",
       "100. 'paired'\n",
       "101. 'paired'\n",
       "102. 'paired'\n",
       "103. 'paired'\n",
       "104. 'paired'\n",
       "105. 'paired'\n",
       "106. 'paired'\n",
       "107. 'paired'\n",
       "108. 'paired'\n",
       "109. 'paired'\n",
       "110. 'paired'\n",
       "111. 'paired'\n",
       "112. 'paired'\n",
       "113. 'paired'\n",
       "114. 'paired'\n",
       "115. 'paired'\n",
       "116. 'paired'\n",
       "117. 'paired'\n",
       "118. 'paired'\n",
       "119. 'paired'\n",
       "120. 'paired'\n",
       "121. 'paired'\n",
       "122. 'paired'\n",
       "123. 'paired'\n",
       "124. 'paired'\n",
       "125. 'paired'\n",
       "126. 'paired'\n",
       "127. 'paired'\n",
       "128. 'paired'\n",
       "129. 'paired'\n",
       "130. 'paired'\n",
       "131. 'paired'\n",
       "132. 'paired'\n",
       "133. 'paired'\n",
       "134. 'paired'\n",
       "135. 'paired'\n",
       "\n",
       "\n"
      ],
      "text/plain": [
       "  [1] \"paired\" \"paired\" \"paired\" \"paired\" \"paired\" \"paired\" \"paired\" \"paired\"\n",
       "  [9] \"paired\" \"paired\" \"paired\" \"paired\" \"paired\" \"paired\" \"paired\" \"paired\"\n",
       " [17] \"paired\" \"paired\" \"paired\" \"paired\" \"paired\" \"paired\" \"paired\" \"paired\"\n",
       " [25] \"paired\" \"paired\" \"paired\" \"paired\" \"paired\" \"paired\" \"paired\" \"paired\"\n",
       " [33] \"paired\" \"paired\" \"paired\" \"paired\" \"paired\" \"paired\" \"paired\" \"paired\"\n",
       " [41] \"paired\" \"paired\" \"paired\" \"paired\" \"paired\" \"paired\" \"paired\" \"paired\"\n",
       " [49] \"paired\" \"paired\" \"paired\" \"paired\" \"paired\" \"paired\" \"paired\" \"paired\"\n",
       " [57] \"paired\" \"paired\" \"paired\" \"paired\" \"paired\" \"paired\" \"paired\" \"paired\"\n",
       " [65] \"paired\" \"paired\" \"paired\" \"paired\" \"paired\" \"paired\" \"paired\" \"paired\"\n",
       " [73] \"paired\" \"paired\" \"paired\" \"paired\" \"paired\" \"paired\" \"paired\" \"paired\"\n",
       " [81] \"paired\" \"paired\" \"paired\" \"paired\" \"paired\" \"paired\" \"paired\" \"paired\"\n",
       " [89] \"paired\" \"paired\" \"paired\" \"paired\" \"paired\" \"paired\" \"paired\" \"paired\"\n",
       " [97] \"paired\" \"paired\" \"paired\" \"paired\" \"paired\" \"paired\" \"paired\" \"paired\"\n",
       "[105] \"paired\" \"paired\" \"paired\" \"paired\" \"paired\" \"paired\" \"paired\" \"paired\"\n",
       "[113] \"paired\" \"paired\" \"paired\" \"paired\" \"paired\" \"paired\" \"paired\" \"paired\"\n",
       "[121] \"paired\" \"paired\" \"paired\" \"paired\" \"paired\" \"paired\" \"paired\" \"paired\"\n",
       "[129] \"paired\" \"paired\" \"paired\" \"paired\" \"paired\" \"paired\" \"paired\""
      ]
     },
     "metadata": {},
     "output_type": "display_data"
    }
   ],
   "source": [
    "paired_df= meta1 %>%\n",
    "filter(Pairs==\"paired\")\n",
    "\n",
    "dim(paired_df)\n",
    "paired_df$Pairs"
   ]
  },
  {
   "cell_type": "code",
   "execution_count": 93,
   "id": "4681530b",
   "metadata": {},
   "outputs": [
    {
     "name": "stderr",
     "output_type": "stream",
     "text": [
      "Warning message in checkConv(attr(opt, \"derivs\"), opt$par, ctrl = control$checkConv, :\n",
      "“Model failed to converge with max|grad| = 1.72894 (tol = 0.002, component 1)”\n",
      "Warning message in checkConv(attr(opt, \"derivs\"), opt$par, ctrl = control$checkConv, :\n",
      "“Model is nearly unidentifiable: very large eigenvalue\n",
      " - Rescale variables?”\n"
     ]
    },
    {
     "data": {
      "text/plain": [
       "Linear mixed model fit by REML ['lmerMod']\n",
       "Formula: estimate ~ Combo + (1 | Tag:Genotype)\n",
       "   Data: paired_df\n",
       "\n",
       "REML criterion at convergence: -9301.3\n",
       "\n",
       "Scaled residuals: \n",
       "    Min      1Q  Median      3Q     Max \n",
       "-0.8685 -0.4343 -0.4343 -0.2171  0.8685 \n",
       "\n",
       "Random effects:\n",
       " Groups       Name        Variance  Std.Dev. \n",
       " Tag:Genotype (Intercept) 4.010e-33 6.333e-17\n",
       " Residual                 4.085e-33 6.391e-17\n",
       "Number of obs: 135, groups:  Tag:Genotype, 112\n",
       "\n",
       "Fixed effects:\n",
       "                       Estimate Std. Error    t value\n",
       "(Intercept)           2.396e-01  1.765e-17  1.358e+16\n",
       "ComboAmbient_Placebo -1.591e-01  2.464e-17 -6.459e+15\n",
       "ComboNH4_Pathogen     2.050e-16  2.376e-17  8.631e+00\n",
       "ComboNH4_Placebo     -1.591e-01  2.338e-17 -6.805e+15\n",
       "\n",
       "Correlation of Fixed Effects:\n",
       "            (Intr) CmbA_P CmbNH4_Pt\n",
       "CmbAmbnt_Pl -0.716                 \n",
       "CmbNH4_Pthg -0.743  0.532          \n",
       "CmbNH4_Plcb -0.755  0.540  0.560   \n",
       "optimizer (nloptwrap) convergence code: 0 (OK)\n",
       "Model failed to converge with max|grad| = 1.72894 (tol = 0.002, component 1)\n",
       "Model is nearly unidentifiable: very large eigenvalue\n",
       " - Rescale variables?\n"
      ]
     },
     "metadata": {},
     "output_type": "display_data"
    },
    {
     "data": {
      "text/plain": [
       "$emmeans\n",
       " Combo            emmean       SE    df lower.CL upper.CL\n",
       " Ambient_Pathogen 0.2396 1.76e-17 121.5   0.2396   0.2396\n",
       " Ambient_Placebo  0.0805 1.72e-17  81.0   0.0805   0.0805\n",
       " NH4_Pathogen     0.2396 1.59e-17 121.5   0.2396   0.2396\n",
       " NH4_Placebo      0.0805 1.54e-17  97.2   0.0805   0.0805\n",
       "\n",
       "Degrees-of-freedom method: kenward-roger \n",
       "Confidence level used: 0.95 \n",
       "\n",
       "$contrasts\n",
       " contrast                           estimate       SE  df               t.ratio\n",
       " Ambient_Pathogen - Ambient_Placebo    0.159 2.47e-17 103  6452379014266199.000\n",
       " Ambient_Pathogen - NH4_Pathogen       0.000 2.38e-17 121                -9.000\n",
       " Ambient_Pathogen - NH4_Placebo        0.159 2.34e-17 112  6798315930484525.000\n",
       " Ambient_Placebo - NH4_Pathogen       -0.159 2.34e-17 100 -6786251728791907.000\n",
       " Ambient_Placebo - NH4_Placebo         0.000 2.31e-17  88                -1.000\n",
       " NH4_Pathogen - NH4_Placebo            0.159 2.21e-17 111  7192247765998283.000\n",
       " p.value\n",
       "  <.0001\n",
       "  <.0001\n",
       "  <.0001\n",
       "  <.0001\n",
       "  0.6274\n",
       "  <.0001\n",
       "\n",
       "Degrees-of-freedom method: kenward-roger \n",
       "P value adjustment: tukey method for comparing a family of 4 estimates \n"
      ]
     },
     "metadata": {},
     "output_type": "display_data"
    }
   ],
   "source": [
    "mixed.lmer_TT <- lmer(estimate~Combo + (1|Tag:Genotype), data =paired_df)\n",
    "summary(mixed.lmer_TT)\n",
    "emmeans(mixed.lmer_TT, pairwise ~ -1 + Combo, adjust=\"tukey\")"
   ]
  },
  {
   "cell_type": "code",
   "execution_count": 94,
   "id": "286ef1f6",
   "metadata": {},
   "outputs": [
    {
     "data": {
      "text/plain": [
       "Linear mixed model fit by REML ['lmerMod']\n",
       "Formula: estimate ~ Health + (1 | Tag:Genotype)\n",
       "   Data: paired_df\n",
       "\n",
       "REML criterion at convergence: -468.6\n",
       "\n",
       "Scaled residuals: \n",
       "    Min      1Q  Median      3Q     Max \n",
       "-3.6927 -0.1004 -0.1004  0.1688  2.8737 \n",
       "\n",
       "Random effects:\n",
       " Groups       Name        Variance  Std.Dev.\n",
       " Tag:Genotype (Intercept) 0.0016421 0.04052 \n",
       " Residual                 0.0003414 0.01848 \n",
       "Number of obs: 135, groups:  Tag:Genotype, 112\n",
       "\n",
       "Fixed effects:\n",
       "            Estimate Std. Error t value\n",
       "(Intercept) 0.100191   0.005791   17.30\n",
       "HealthDL    0.121321   0.007977   15.21\n",
       "\n",
       "Correlation of Fixed Effects:\n",
       "         (Intr)\n",
       "HealthDL -0.694"
      ]
     },
     "metadata": {},
     "output_type": "display_data"
    },
    {
     "data": {
      "text/plain": [
       "$emmeans\n",
       " Health emmean      SE  df lower.CL upper.CL\n",
       " AH      0.100 0.00582 115   0.0887    0.112\n",
       " DL      0.222 0.00577 123   0.2101    0.233\n",
       "\n",
       "Degrees-of-freedom method: kenward-roger \n",
       "Confidence level used: 0.95 \n",
       "\n",
       "$contrasts\n",
       " contrast estimate      SE  df t.ratio p.value\n",
       " AH - DL    -0.121 0.00805 127 -15.074  <.0001\n",
       "\n",
       "Degrees-of-freedom method: kenward-roger \n"
      ]
     },
     "metadata": {},
     "output_type": "display_data"
    }
   ],
   "source": [
    "mixed.lmer_TT <- lmer(estimate~Health + (1|Tag:Genotype), data =paired_df)\n",
    "summary(mixed.lmer_TT)\n",
    "emmeans(mixed.lmer_TT, pairwise ~ -1 + Health, adjust=\"tukey\")"
   ]
  },
  {
   "cell_type": "code",
   "execution_count": 58,
   "id": "5a4af5f4",
   "metadata": {},
   "outputs": [
    {
     "data": {
      "image/png": "[encoded data removed]",
      "text/plain": [
       "plot without title"
      ]
     },
     "metadata": {
      "image/png": {
       "height": 420,
       "width": 420
      }
     },
     "output_type": "display_data"
    }
   ],
   "source": [
    "paired_df  %>%\n",
    "gather(key = metric, value = value, c(\"name\")) %>%\n",
    "  mutate(metric = factor(metric, levels = c(\"name\"))) %>%\n",
    "  ggplot(aes(x = Combo, y = estimate)) +\n",
    "  geom_boxplot(outlier.color = NA) +\n",
    "  geom_jitter(aes(color = Combo), height = 0, width = .2) +\n",
    "  labs(x = \"\", y = \"\") +\n",
    " geom_errorbar(aes(ymin = lower - error, \n",
    "ymax = upper + error)) +\n",
    "  #facet_wrap(~ metric, scales = \"free\") +\n",
    "  theme(legend.position=\"none\")"
   ]
  },
  {
   "cell_type": "code",
   "execution_count": 56,
   "id": "218264d9",
   "metadata": {},
   "outputs": [
    {
     "data": {
      "text/plain": [
       "phyloseq-class experiment-level object\n",
       "otu_table()   OTU Table:         [ 7559 taxa and 192 samples ]\n",
       "sample_data() Sample Data:       [ 192 samples by 55 sample variables ]\n",
       "tax_table()   Taxonomy Table:    [ 7559 taxa by 8 taxonomic ranks ]\n",
       "phy_tree()    Phylogenetic Tree: [ 7559 tips and 6704 internal nodes ]"
      ]
     },
     "metadata": {},
     "output_type": "display_data"
    },
    {
     "data": {
      "text/plain": [
       "phyloseq-class experiment-level object\n",
       "otu_table()   OTU Table:         [ 2426 taxa and 62 samples ]\n",
       "sample_data() Sample Data:       [ 62 samples by 55 sample variables ]\n",
       "tax_table()   Taxonomy Table:    [ 2426 taxa by 8 taxonomic ranks ]\n",
       "phy_tree()    Phylogenetic Tree: [ 2426 tips and 2316 internal nodes ]"
      ]
     },
     "metadata": {},
     "output_type": "display_data"
    }
   ],
   "source": [
    "ps_Clipped_fil = filter_taxa(ps_Clipped, function(x) sum(x > 0) > (0.0*length(x)), TRUE)\n",
    "ps_Clipped_fil\n",
    "                             \n",
    "\n",
    "                             \n",
    "ps_Clipped_A_P_fil = filter_taxa(ps_Clipped_A_P, function(x) sum(x > 0) > (0.0*length(x)), TRUE)\n",
    "ps_Clipped_A_P_fil                           "
   ]
  },
  {
   "cell_type": "code",
   "execution_count": 57,
   "id": "774d1815",
   "metadata": {},
   "outputs": [
    {
     "name": "stderr",
     "output_type": "stream",
     "text": [
      "`set.seed(123)` was used to initialize repeatable random subsampling.\n",
      "\n",
      "Please record this for your records so others can reproduce.\n",
      "\n",
      "Try `set.seed(123); .Random.seed` for the full vector\n",
      "\n",
      "...\n",
      "\n",
      "1 samples removedbecause they contained fewer reads than `sample.size`.\n",
      "\n",
      "Up to first five removed samples are: \n",
      "\n",
      "\n",
      "N52-A122\n",
      "\n",
      "...\n",
      "\n",
      "150OTUs were removed because they are no longer \n",
      "present in any sample after random subsampling\n",
      "\n",
      "\n",
      "...\n",
      "\n"
     ]
    },
    {
     "data": {
      "text/plain": [
       "phyloseq-class experiment-level object\n",
       "otu_table()   OTU Table:         [ 2276 taxa and 61 samples ]\n",
       "sample_data() Sample Data:       [ 61 samples by 55 sample variables ]\n",
       "tax_table()   Taxonomy Table:    [ 2276 taxa by 8 taxonomic ranks ]\n",
       "phy_tree()    Phylogenetic Tree: [ 2276 tips and 2177 internal nodes ]"
      ]
     },
     "metadata": {},
     "output_type": "display_data"
    }
   ],
   "source": [
    "(ps_rare_A_P_fil <- phyloseq::rarefy_even_depth(ps_Clipped_A_P_fil, rngseed = 123, replace = FALSE, sample.size=9559))             \n"
   ]
  },
  {
   "cell_type": "code",
   "execution_count": 16,
   "id": "0f3d6556",
   "metadata": {},
   "outputs": [
    {
     "name": "stderr",
     "output_type": "stream",
     "text": [
      "`set.seed(123)` was used to initialize repeatable random subsampling.\n",
      "\n",
      "Please record this for your records so others can reproduce.\n",
      "\n",
      "Try `set.seed(123); .Random.seed` for the full vector\n",
      "\n",
      "...\n",
      "\n",
      "1 samples removedbecause they contained fewer reads than `sample.size`.\n",
      "\n",
      "Up to first five removed samples are: \n",
      "\n",
      "\n",
      "N131-200\n",
      "\n",
      "...\n",
      "\n",
      "320OTUs were removed because they are no longer \n",
      "present in any sample after random subsampling\n",
      "\n",
      "\n",
      "...\n",
      "\n"
     ]
    },
    {
     "data": {
      "text/plain": [
       "phyloseq-class experiment-level object\n",
       "otu_table()   OTU Table:         [ 7239 taxa and 191 samples ]\n",
       "sample_data() Sample Data:       [ 191 samples by 55 sample variables ]\n",
       "tax_table()   Taxonomy Table:    [ 7239 taxa by 8 taxonomic ranks ]\n",
       "phy_tree()    Phylogenetic Tree: [ 7239 tips and 6406 internal nodes ]"
      ]
     },
     "metadata": {},
     "output_type": "display_data"
    }
   ],
   "source": [
    "(ps_rare <- phyloseq::rarefy_even_depth(ps_Clipped_fil, rngseed = 123, replace = FALSE, sample.size=9559))             \n"
   ]
  },
  {
   "cell_type": "code",
   "execution_count": 65,
   "id": "77d9ec68",
   "metadata": {},
   "outputs": [
    {
     "data": {
      "text/html": [
       "<table class=\"dataframe\">\n",
       "<caption>A data.frame: 6 × 4</caption>\n",
       "<thead>\n",
       "\t<tr><th></th><th scope=col>sample_names</th><th scope=col>Simpson</th><th scope=col>Shannon</th><th scope=col>Combo</th></tr>\n",
       "\t<tr><th></th><th scope=col>&lt;chr&gt;</th><th scope=col>&lt;dbl&gt;</th><th scope=col>&lt;dbl&gt;</th><th scope=col>&lt;chr&gt;</th></tr>\n",
       "</thead>\n",
       "<tbody>\n",
       "\t<tr><th scope=row>1</th><td>N10-A019</td><td>0.9135963</td><td>2.664783</td><td>NH4_Placebo </td></tr>\n",
       "\t<tr><th scope=row>2</th><td>N11-A153</td><td>0.8907308</td><td>2.299126</td><td>NH4_Pathogen</td></tr>\n",
       "\t<tr><th scope=row>3</th><td>N115-247</td><td>0.9827419</td><td>4.326770</td><td>NH4_Pathogen</td></tr>\n",
       "\t<tr><th scope=row>4</th><td>N12-A008</td><td>0.8939510</td><td>2.362627</td><td>NH4_Placebo </td></tr>\n",
       "\t<tr><th scope=row>5</th><td>N13-A038</td><td>0.9065046</td><td>2.581688</td><td>NH4_Pathogen</td></tr>\n",
       "\t<tr><th scope=row>6</th><td>N14-A040</td><td>0.8887609</td><td>2.244660</td><td>NH4_Pathogen</td></tr>\n",
       "</tbody>\n",
       "</table>\n"
      ],
      "text/latex": [
       "A data.frame: 6 × 4\n",
       "\\begin{tabular}{r|llll}\n",
       "  & sample\\_names & Simpson & Shannon & Combo\\\\\n",
       "  & <chr> & <dbl> & <dbl> & <chr>\\\\\n",
       "\\hline\n",
       "\t1 & N10-A019 & 0.9135963 & 2.664783 & NH4\\_Placebo \\\\\n",
       "\t2 & N11-A153 & 0.8907308 & 2.299126 & NH4\\_Pathogen\\\\\n",
       "\t3 & N115-247 & 0.9827419 & 4.326770 & NH4\\_Pathogen\\\\\n",
       "\t4 & N12-A008 & 0.8939510 & 2.362627 & NH4\\_Placebo \\\\\n",
       "\t5 & N13-A038 & 0.9065046 & 2.581688 & NH4\\_Pathogen\\\\\n",
       "\t6 & N14-A040 & 0.8887609 & 2.244660 & NH4\\_Pathogen\\\\\n",
       "\\end{tabular}\n"
      ],
      "text/markdown": [
       "\n",
       "A data.frame: 6 × 4\n",
       "\n",
       "| <!--/--> | sample_names &lt;chr&gt; | Simpson &lt;dbl&gt; | Shannon &lt;dbl&gt; | Combo &lt;chr&gt; |\n",
       "|---|---|---|---|---|\n",
       "| 1 | N10-A019 | 0.9135963 | 2.664783 | NH4_Placebo  |\n",
       "| 2 | N11-A153 | 0.8907308 | 2.299126 | NH4_Pathogen |\n",
       "| 3 | N115-247 | 0.9827419 | 4.326770 | NH4_Pathogen |\n",
       "| 4 | N12-A008 | 0.8939510 | 2.362627 | NH4_Placebo  |\n",
       "| 5 | N13-A038 | 0.9065046 | 2.581688 | NH4_Pathogen |\n",
       "| 6 | N14-A040 | 0.8887609 | 2.244660 | NH4_Pathogen |\n",
       "\n"
      ],
      "text/plain": [
       "  sample_names Simpson   Shannon  Combo       \n",
       "1 N10-A019     0.9135963 2.664783 NH4_Placebo \n",
       "2 N11-A153     0.8907308 2.299126 NH4_Pathogen\n",
       "3 N115-247     0.9827419 4.326770 NH4_Pathogen\n",
       "4 N12-A008     0.8939510 2.362627 NH4_Placebo \n",
       "5 N13-A038     0.9065046 2.581688 NH4_Pathogen\n",
       "6 N14-A040     0.8887609 2.244660 NH4_Pathogen"
      ]
     },
     "metadata": {},
     "output_type": "display_data"
    },
    {
     "data": {
      "text/html": [
       "<table class=\"dataframe\">\n",
       "<caption>A data.frame: 6 × 4</caption>\n",
       "<thead>\n",
       "\t<tr><th></th><th scope=col>sample_names</th><th scope=col>Simpson</th><th scope=col>Shannon</th><th scope=col>Genotype</th></tr>\n",
       "\t<tr><th></th><th scope=col>&lt;chr&gt;</th><th scope=col>&lt;dbl&gt;</th><th scope=col>&lt;dbl&gt;</th><th scope=col>&lt;chr&gt;</th></tr>\n",
       "</thead>\n",
       "<tbody>\n",
       "\t<tr><th scope=row>1</th><td>N15-A017 </td><td>0.9074177</td><td>2.629992</td><td>Cooper-9</td></tr>\n",
       "\t<tr><th scope=row>2</th><td>N211-A191</td><td>0.8923923</td><td>2.351179</td><td>FM19    </td></tr>\n",
       "\t<tr><th scope=row>3</th><td>N215-250 </td><td>0.9023808</td><td>2.566670</td><td>FM6     </td></tr>\n",
       "\t<tr><th scope=row>4</th><td>N220-334 </td><td>0.8898962</td><td>2.281687</td><td>FM9     </td></tr>\n",
       "\t<tr><th scope=row>5</th><td>N102-A012</td><td>0.8598386</td><td>2.025269</td><td>Kelsey-1</td></tr>\n",
       "\t<tr><th scope=row>6</th><td>N103-A028</td><td>0.8675551</td><td>2.168387</td><td>Cooper-9</td></tr>\n",
       "</tbody>\n",
       "</table>\n"
      ],
      "text/latex": [
       "A data.frame: 6 × 4\n",
       "\\begin{tabular}{r|llll}\n",
       "  & sample\\_names & Simpson & Shannon & Genotype\\\\\n",
       "  & <chr> & <dbl> & <dbl> & <chr>\\\\\n",
       "\\hline\n",
       "\t1 & N15-A017  & 0.9074177 & 2.629992 & Cooper-9\\\\\n",
       "\t2 & N211-A191 & 0.8923923 & 2.351179 & FM19    \\\\\n",
       "\t3 & N215-250  & 0.9023808 & 2.566670 & FM6     \\\\\n",
       "\t4 & N220-334  & 0.8898962 & 2.281687 & FM9     \\\\\n",
       "\t5 & N102-A012 & 0.8598386 & 2.025269 & Kelsey-1\\\\\n",
       "\t6 & N103-A028 & 0.8675551 & 2.168387 & Cooper-9\\\\\n",
       "\\end{tabular}\n"
      ],
      "text/markdown": [
       "\n",
       "A data.frame: 6 × 4\n",
       "\n",
       "| <!--/--> | sample_names &lt;chr&gt; | Simpson &lt;dbl&gt; | Shannon &lt;dbl&gt; | Genotype &lt;chr&gt; |\n",
       "|---|---|---|---|---|\n",
       "| 1 | N15-A017  | 0.9074177 | 2.629992 | Cooper-9 |\n",
       "| 2 | N211-A191 | 0.8923923 | 2.351179 | FM19     |\n",
       "| 3 | N215-250  | 0.9023808 | 2.566670 | FM6      |\n",
       "| 4 | N220-334  | 0.8898962 | 2.281687 | FM9      |\n",
       "| 5 | N102-A012 | 0.8598386 | 2.025269 | Kelsey-1 |\n",
       "| 6 | N103-A028 | 0.8675551 | 2.168387 | Cooper-9 |\n",
       "\n"
      ],
      "text/plain": [
       "  sample_names Simpson   Shannon  Genotype\n",
       "1 N15-A017     0.9074177 2.629992 Cooper-9\n",
       "2 N211-A191    0.8923923 2.351179 FM19    \n",
       "3 N215-250     0.9023808 2.566670 FM6     \n",
       "4 N220-334     0.8898962 2.281687 FM9     \n",
       "5 N102-A012    0.8598386 2.025269 Kelsey-1\n",
       "6 N103-A028    0.8675551 2.168387 Cooper-9"
      ]
     },
     "metadata": {},
     "output_type": "display_data"
    }
   ],
   "source": [
    "adiv <- data.frame(\n",
    "  \"Simpson\" = phyloseq::estimate_richness(ps_rare, measures = \"Simpson\"),\n",
    "  \"Shannon\" = phyloseq::estimate_richness(ps_rare, measures = \"Shannon\"),\n",
    "  \"Combo\" = phyloseq::sample_data(ps_rare)$Combo) %>% rownames_to_column(\"sample_names\")\n",
    "head(adiv)\n",
    "\n",
    "\n",
    "adiv_AP <- data.frame(\n",
    "  \"Simpson\" = phyloseq::estimate_richness(ps_rare_A_P_fil, measures = \"Simpson\"),\n",
    "  \"Shannon\" = phyloseq::estimate_richness(ps_rare_A_P_fil, measures = \"Shannon\"),\n",
    "  \"Genotype\" = phyloseq::sample_data(ps_rare_A_P_fil)$Genotype) %>% rownames_to_column(\"sample_names\")\n",
    "head(adiv_AP)"
   ]
  },
  {
   "cell_type": "code",
   "execution_count": 59,
   "id": "80539e83",
   "metadata": {},
   "outputs": [],
   "source": [
    "adiv_trans =adiv_AP %>%\n",
    "mutate(Shannon_trans = log2(Shannon))"
   ]
  },
  {
   "cell_type": "code",
   "execution_count": 60,
   "id": "f3fae42f",
   "metadata": {},
   "outputs": [
    {
     "data": {
      "image/png": "[encoded data removed]",
      "text/plain": [
       "Plot with title “shannon”"
      ]
     },
     "metadata": {
      "image/png": {
       "height": 420,
       "width": 420
      }
     },
     "output_type": "display_data"
    },
    {
     "data": {
      "text/plain": [
       "\n",
       "\tShapiro-Wilk normality test\n",
       "\n",
       "data:  adiv_trans$Shannon_trans\n",
       "W = 0.71746, p-value = 1.589e-09\n"
      ]
     },
     "metadata": {},
     "output_type": "display_data"
    },
    {
     "data": {
      "image/png": "[encoded data removed]",
      "text/plain": [
       "Plot with title “Normal Q-Q Plot”"
      ]
     },
     "metadata": {
      "image/png": {
       "height": 420,
       "width": 420
      }
     },
     "output_type": "display_data"
    }
   ],
   "source": [
    "hist(adiv_trans$Shannon_trans, col='steelblue', main='shannon')\n",
    "qqnorm(adiv_trans$Shannon_trans)\n",
    "qqline(adiv_trans$Shannon_trans)\n",
    "shapiro.test(adiv_trans$Shannon_trans)"
   ]
  },
  {
   "cell_type": "code",
   "execution_count": 21,
   "id": "e765ff4d",
   "metadata": {},
   "outputs": [
    {
     "data": {
      "image/png": "[encoded data removed]",
      "text/plain": [
       "plot without title"
      ]
     },
     "metadata": {
      "image/png": {
       "height": 420,
       "width": 420
      }
     },
     "output_type": "display_data"
    }
   ],
   "source": [
    "adiv %>%\n",
    "  gather(key = metric, value = value, c(\"Simpson\", \"Shannon\")) %>%\n",
    "  mutate(metric = factor(metric, levels = c(\"Simpson\", \"Shannon\"))) %>%\n",
    "  ggplot(aes(x = Combo, y = value)) +\n",
    "  geom_boxplot(outlier.color = NA) +\n",
    "  geom_jitter(aes(color = Combo), height = 0, width = .2) +\n",
    "  labs(x = \"\", y = \"\") +\n",
    "  facet_wrap(~ metric, scales = \"free\") +\n",
    "  theme(legend.position=\"none\")"
   ]
  },
  {
   "cell_type": "code",
   "execution_count": 68,
   "id": "abccfbce",
   "metadata": {},
   "outputs": [
    {
     "data": {
      "image/png": "[encoded data removed]",
      "text/plain": [
       "plot without title"
      ]
     },
     "metadata": {
      "image/png": {
       "height": 420,
       "width": 420
      }
     },
     "output_type": "display_data"
    }
   ],
   "source": [
    "adiv_AP %>%\n",
    "  gather(key = metric, value = value, c(\"Simpson\", \"Shannon\")) %>%\n",
    "  mutate(metric = factor(metric, levels = c(\"Simpson\", \"Shannon\"))) %>%\n",
    "  ggplot(aes(x = Genotype, y = value)) +\n",
    "  geom_boxplot(outlier.color = NA) +\n",
    "  geom_jitter(aes(color = Genotype), height = 0, width = .2) +\n",
    "  labs(x = \"\", y = \"\") +\n",
    "  facet_wrap(~ metric, scales = \"free\") +\n",
    "  theme(legend.position=\"none\")"
   ]
  },
  {
   "cell_type": "code",
   "execution_count": 22,
   "id": "46385268",
   "metadata": {},
   "outputs": [
    {
     "data": {
      "text/html": [
       "<table class=\"dataframe\">\n",
       "<caption>A data.frame: 6 × 4</caption>\n",
       "<thead>\n",
       "\t<tr><th></th><th scope=col>sample_names</th><th scope=col>Simpson</th><th scope=col>Shannon</th><th scope=col>Combo</th></tr>\n",
       "\t<tr><th></th><th scope=col>&lt;chr&gt;</th><th scope=col>&lt;dbl&gt;</th><th scope=col>&lt;dbl&gt;</th><th scope=col>&lt;chr&gt;</th></tr>\n",
       "</thead>\n",
       "<tbody>\n",
       "\t<tr><th scope=row>1</th><td>N10-A019</td><td>0.9135963</td><td>2.664783</td><td>NH4_Placebo </td></tr>\n",
       "\t<tr><th scope=row>2</th><td>N11-A153</td><td>0.8907308</td><td>2.299126</td><td>NH4_Pathogen</td></tr>\n",
       "\t<tr><th scope=row>3</th><td>N115-247</td><td>0.9827419</td><td>4.326770</td><td>NH4_Pathogen</td></tr>\n",
       "\t<tr><th scope=row>4</th><td>N12-A008</td><td>0.8939510</td><td>2.362627</td><td>NH4_Placebo </td></tr>\n",
       "\t<tr><th scope=row>5</th><td>N13-A038</td><td>0.9065046</td><td>2.581688</td><td>NH4_Pathogen</td></tr>\n",
       "\t<tr><th scope=row>6</th><td>N14-A040</td><td>0.8887609</td><td>2.244660</td><td>NH4_Pathogen</td></tr>\n",
       "</tbody>\n",
       "</table>\n"
      ],
      "text/latex": [
       "A data.frame: 6 × 4\n",
       "\\begin{tabular}{r|llll}\n",
       "  & sample\\_names & Simpson & Shannon & Combo\\\\\n",
       "  & <chr> & <dbl> & <dbl> & <chr>\\\\\n",
       "\\hline\n",
       "\t1 & N10-A019 & 0.9135963 & 2.664783 & NH4\\_Placebo \\\\\n",
       "\t2 & N11-A153 & 0.8907308 & 2.299126 & NH4\\_Pathogen\\\\\n",
       "\t3 & N115-247 & 0.9827419 & 4.326770 & NH4\\_Pathogen\\\\\n",
       "\t4 & N12-A008 & 0.8939510 & 2.362627 & NH4\\_Placebo \\\\\n",
       "\t5 & N13-A038 & 0.9065046 & 2.581688 & NH4\\_Pathogen\\\\\n",
       "\t6 & N14-A040 & 0.8887609 & 2.244660 & NH4\\_Pathogen\\\\\n",
       "\\end{tabular}\n"
      ],
      "text/markdown": [
       "\n",
       "A data.frame: 6 × 4\n",
       "\n",
       "| <!--/--> | sample_names &lt;chr&gt; | Simpson &lt;dbl&gt; | Shannon &lt;dbl&gt; | Combo &lt;chr&gt; |\n",
       "|---|---|---|---|---|\n",
       "| 1 | N10-A019 | 0.9135963 | 2.664783 | NH4_Placebo  |\n",
       "| 2 | N11-A153 | 0.8907308 | 2.299126 | NH4_Pathogen |\n",
       "| 3 | N115-247 | 0.9827419 | 4.326770 | NH4_Pathogen |\n",
       "| 4 | N12-A008 | 0.8939510 | 2.362627 | NH4_Placebo  |\n",
       "| 5 | N13-A038 | 0.9065046 | 2.581688 | NH4_Pathogen |\n",
       "| 6 | N14-A040 | 0.8887609 | 2.244660 | NH4_Pathogen |\n",
       "\n"
      ],
      "text/plain": [
       "  sample_names Simpson   Shannon  Combo       \n",
       "1 N10-A019     0.9135963 2.664783 NH4_Placebo \n",
       "2 N11-A153     0.8907308 2.299126 NH4_Pathogen\n",
       "3 N115-247     0.9827419 4.326770 NH4_Pathogen\n",
       "4 N12-A008     0.8939510 2.362627 NH4_Placebo \n",
       "5 N13-A038     0.9065046 2.581688 NH4_Pathogen\n",
       "6 N14-A040     0.8887609 2.244660 NH4_Pathogen"
      ]
     },
     "metadata": {},
     "output_type": "display_data"
    }
   ],
   "source": [
    "head(adiv)"
   ]
  },
  {
   "cell_type": "code",
   "execution_count": 23,
   "id": "394bbed5",
   "metadata": {},
   "outputs": [
    {
     "data": {
      "text/html": [
       "<table class=\"dataframe\">\n",
       "<caption>A data.frame: 6 × 55</caption>\n",
       "<thead>\n",
       "\t<tr><th></th><th scope=col>sample_names</th><th scope=col>featurecounts</th><th scope=col>Initial_sample_ID</th><th scope=col>Tag</th><th scope=col>Date_Collected</th><th scope=col>Date</th><th scope=col>TimePoint</th><th scope=col>Replicate</th><th scope=col>Genotype</th><th scope=col>Nursery</th><th scope=col>⋯</th><th scope=col>Primer_For_PCR</th><th scope=col>X</th><th scope=col>estimate</th><th scope=col>error</th><th scope=col>lower</th><th scope=col>upper</th><th scope=col>name</th><th scope=col>model</th><th scope=col>Simpson</th><th scope=col>Shannon</th></tr>\n",
       "\t<tr><th></th><th scope=col>&lt;chr&gt;</th><th scope=col>&lt;int&gt;</th><th scope=col>&lt;int&gt;</th><th scope=col>&lt;chr&gt;</th><th scope=col>&lt;chr&gt;</th><th scope=col>&lt;chr&gt;</th><th scope=col>&lt;int&gt;</th><th scope=col>&lt;chr&gt;</th><th scope=col>&lt;chr&gt;</th><th scope=col>&lt;chr&gt;</th><th scope=col>⋯</th><th scope=col>&lt;chr&gt;</th><th scope=col>&lt;lgl&gt;</th><th scope=col>&lt;dbl&gt;</th><th scope=col>&lt;dbl&gt;</th><th scope=col>&lt;dbl&gt;</th><th scope=col>&lt;dbl&gt;</th><th scope=col>&lt;chr&gt;</th><th scope=col>&lt;chr&gt;</th><th scope=col>&lt;dbl&gt;</th><th scope=col>&lt;dbl&gt;</th></tr>\n",
       "</thead>\n",
       "<tbody>\n",
       "\t<tr><th scope=row>N1-Hom_</th><td>N1-Hom-H </td><td>48625</td><td>  1</td><td>Hom_R1</td><td>NA       </td><td>NA    </td><td>NA</td><td>NA  </td><td>NA      </td><td>NA </td><td>⋯</td><td>AATGATACGGCGACCACCGAGATCTACACGCTCTACAGGGTCTCTATGGTAATTGTGTGYCAGCMGCCGCGGTAA</td><td>NA</td><td>0.00000000</td><td>0.00000000</td><td>0.00000000</td><td>0.0000000</td><td>NA    </td><td>NA       </td><td>0.0000000</td><td>0.000000</td></tr>\n",
       "\t<tr><th scope=row>N10-A019</th><td>N10-A019 </td><td>23078</td><td> 10</td><td>A019  </td><td>25-Oct-20</td><td>25-Oct</td><td> 4</td><td>NA  </td><td>Cooper-9</td><td>UM </td><td>⋯</td><td>AATGATACGGCGACCACCGAGATCTACACGCTCTACAGGGTCTCTATGGTAATTGTGTGYCAGCMGCCGCGGTAA</td><td>NA</td><td>0.08049877</td><td>0.02574797</td><td>0.02900284</td><td>0.1319947</td><td>DivNet</td><td>Aitchison</td><td>0.9165302</td><td>2.688475</td></tr>\n",
       "\t<tr><th scope=row>N100-A027</th><td>N100-A027</td><td>46139</td><td>100</td><td>A027  </td><td>4-Nov-20 </td><td>4-Nov </td><td>13</td><td>NA  </td><td>Cooper-9</td><td>UM </td><td>⋯</td><td>AATGATACGGCGACCACCGAGATCTACACGCTAGCCTTCGTCGCTATGGTAATTGTGTGYCAGCMGCCGCGGTAA</td><td>NA</td><td>0.23963400</td><td>0.07503098</td><td>0.08957204</td><td>0.3896960</td><td>DivNet</td><td>Aitchison</td><td>0.9926911</td><td>5.172919</td></tr>\n",
       "\t<tr><th scope=row>N101-A118</th><td>N101-A118</td><td>37571</td><td>101</td><td>A118  </td><td>4-Nov-20 </td><td>4-Nov </td><td>13</td><td>NA  </td><td>U41     </td><td>CRF</td><td>⋯</td><td>AATGATACGGCGACCACCGAGATCTACACGCTAGCCTTCGTCGCTATGGTAATTGTGTGYCAGCMGCCGCGGTAA</td><td>NA</td><td>0.00000000</td><td>0.00000000</td><td>0.00000000</td><td>0.0000000</td><td>NA    </td><td>NA       </td><td>0.0000000</td><td>0.000000</td></tr>\n",
       "\t<tr><th scope=row>N127-A047</th><td>N127-A047</td><td>24293</td><td>127</td><td>A047  </td><td>6-Nov-20 </td><td>6-Nov </td><td>15</td><td>r1_w</td><td>Acerv2  </td><td>UM </td><td>⋯</td><td>AATGATACGGCGACCACCGAGATCTACACGCTCTACAGGGTCTCTATGGTAATTGTGTGYCAGCMGCCGCGGTAA</td><td>NA</td><td>0.08049877</td><td>0.02574797</td><td>0.02900284</td><td>0.1319947</td><td>DivNet</td><td>Aitchison</td><td>0.8769562</td><td>2.257091</td></tr>\n",
       "\t<tr><th scope=row>N189-A062</th><td>N189-A062</td><td>33094</td><td>189</td><td>A062  </td><td>9-Nov-20 </td><td>9-Nov </td><td>18</td><td>r1_w</td><td>Acerv2  </td><td>UM </td><td>⋯</td><td>AATGATACGGCGACCACCGAGATCTACACGCTCTACAGGGTCTCTATGGTAATTGTGTGYCAGCMGCCGCGGTAA</td><td>NA</td><td>0.08049877</td><td>0.02574797</td><td>0.02900284</td><td>0.1319947</td><td>DivNet</td><td>Aitchison</td><td>0.8647953</td><td>2.130399</td></tr>\n",
       "</tbody>\n",
       "</table>\n"
      ],
      "text/latex": [
       "A data.frame: 6 × 55\n",
       "\\begin{tabular}{r|lllllllllllllllllllll}\n",
       "  & sample\\_names & featurecounts & Initial\\_sample\\_ID & Tag & Date\\_Collected & Date & TimePoint & Replicate & Genotype & Nursery & ⋯ & Primer\\_For\\_PCR & X & estimate & error & lower & upper & name & model & Simpson & Shannon\\\\\n",
       "  & <chr> & <int> & <int> & <chr> & <chr> & <chr> & <int> & <chr> & <chr> & <chr> & ⋯ & <chr> & <lgl> & <dbl> & <dbl> & <dbl> & <dbl> & <chr> & <chr> & <dbl> & <dbl>\\\\\n",
       "\\hline\n",
       "\tN1-Hom\\_ & N1-Hom-H  & 48625 &   1 & Hom\\_R1 & NA        & NA     & NA & NA   & NA       & NA  & ⋯ & AATGATACGGCGACCACCGAGATCTACACGCTCTACAGGGTCTCTATGGTAATTGTGTGYCAGCMGCCGCGGTAA & NA & 0.00000000 & 0.00000000 & 0.00000000 & 0.0000000 & NA     & NA        & 0.0000000 & 0.000000\\\\\n",
       "\tN10-A019 & N10-A019  & 23078 &  10 & A019   & 25-Oct-20 & 25-Oct &  4 & NA   & Cooper-9 & UM  & ⋯ & AATGATACGGCGACCACCGAGATCTACACGCTCTACAGGGTCTCTATGGTAATTGTGTGYCAGCMGCCGCGGTAA & NA & 0.08049877 & 0.02574797 & 0.02900284 & 0.1319947 & DivNet & Aitchison & 0.9165302 & 2.688475\\\\\n",
       "\tN100-A027 & N100-A027 & 46139 & 100 & A027   & 4-Nov-20  & 4-Nov  & 13 & NA   & Cooper-9 & UM  & ⋯ & AATGATACGGCGACCACCGAGATCTACACGCTAGCCTTCGTCGCTATGGTAATTGTGTGYCAGCMGCCGCGGTAA & NA & 0.23963400 & 0.07503098 & 0.08957204 & 0.3896960 & DivNet & Aitchison & 0.9926911 & 5.172919\\\\\n",
       "\tN101-A118 & N101-A118 & 37571 & 101 & A118   & 4-Nov-20  & 4-Nov  & 13 & NA   & U41      & CRF & ⋯ & AATGATACGGCGACCACCGAGATCTACACGCTAGCCTTCGTCGCTATGGTAATTGTGTGYCAGCMGCCGCGGTAA & NA & 0.00000000 & 0.00000000 & 0.00000000 & 0.0000000 & NA     & NA        & 0.0000000 & 0.000000\\\\\n",
       "\tN127-A047 & N127-A047 & 24293 & 127 & A047   & 6-Nov-20  & 6-Nov  & 15 & r1\\_w & Acerv2   & UM  & ⋯ & AATGATACGGCGACCACCGAGATCTACACGCTCTACAGGGTCTCTATGGTAATTGTGTGYCAGCMGCCGCGGTAA & NA & 0.08049877 & 0.02574797 & 0.02900284 & 0.1319947 & DivNet & Aitchison & 0.8769562 & 2.257091\\\\\n",
       "\tN189-A062 & N189-A062 & 33094 & 189 & A062   & 9-Nov-20  & 9-Nov  & 18 & r1\\_w & Acerv2   & UM  & ⋯ & AATGATACGGCGACCACCGAGATCTACACGCTCTACAGGGTCTCTATGGTAATTGTGTGYCAGCMGCCGCGGTAA & NA & 0.08049877 & 0.02574797 & 0.02900284 & 0.1319947 & DivNet & Aitchison & 0.8647953 & 2.130399\\\\\n",
       "\\end{tabular}\n"
      ],
      "text/markdown": [
       "\n",
       "A data.frame: 6 × 55\n",
       "\n",
       "| <!--/--> | sample_names &lt;chr&gt; | featurecounts &lt;int&gt; | Initial_sample_ID &lt;int&gt; | Tag &lt;chr&gt; | Date_Collected &lt;chr&gt; | Date &lt;chr&gt; | TimePoint &lt;int&gt; | Replicate &lt;chr&gt; | Genotype &lt;chr&gt; | Nursery &lt;chr&gt; | ⋯ ⋯ | Primer_For_PCR &lt;chr&gt; | X &lt;lgl&gt; | estimate &lt;dbl&gt; | error &lt;dbl&gt; | lower &lt;dbl&gt; | upper &lt;dbl&gt; | name &lt;chr&gt; | model &lt;chr&gt; | Simpson &lt;dbl&gt; | Shannon &lt;dbl&gt; |\n",
       "|---|---|---|---|---|---|---|---|---|---|---|---|---|---|---|---|---|---|---|---|---|---|\n",
       "| N1-Hom_ | N1-Hom-H  | 48625 |   1 | Hom_R1 | NA        | NA     | NA | NA   | NA       | NA  | ⋯ | AATGATACGGCGACCACCGAGATCTACACGCTCTACAGGGTCTCTATGGTAATTGTGTGYCAGCMGCCGCGGTAA | NA | 0.00000000 | 0.00000000 | 0.00000000 | 0.0000000 | NA     | NA        | 0.0000000 | 0.000000 |\n",
       "| N10-A019 | N10-A019  | 23078 |  10 | A019   | 25-Oct-20 | 25-Oct |  4 | NA   | Cooper-9 | UM  | ⋯ | AATGATACGGCGACCACCGAGATCTACACGCTCTACAGGGTCTCTATGGTAATTGTGTGYCAGCMGCCGCGGTAA | NA | 0.08049877 | 0.02574797 | 0.02900284 | 0.1319947 | DivNet | Aitchison | 0.9165302 | 2.688475 |\n",
       "| N100-A027 | N100-A027 | 46139 | 100 | A027   | 4-Nov-20  | 4-Nov  | 13 | NA   | Cooper-9 | UM  | ⋯ | AATGATACGGCGACCACCGAGATCTACACGCTAGCCTTCGTCGCTATGGTAATTGTGTGYCAGCMGCCGCGGTAA | NA | 0.23963400 | 0.07503098 | 0.08957204 | 0.3896960 | DivNet | Aitchison | 0.9926911 | 5.172919 |\n",
       "| N101-A118 | N101-A118 | 37571 | 101 | A118   | 4-Nov-20  | 4-Nov  | 13 | NA   | U41      | CRF | ⋯ | AATGATACGGCGACCACCGAGATCTACACGCTAGCCTTCGTCGCTATGGTAATTGTGTGYCAGCMGCCGCGGTAA | NA | 0.00000000 | 0.00000000 | 0.00000000 | 0.0000000 | NA     | NA        | 0.0000000 | 0.000000 |\n",
       "| N127-A047 | N127-A047 | 24293 | 127 | A047   | 6-Nov-20  | 6-Nov  | 15 | r1_w | Acerv2   | UM  | ⋯ | AATGATACGGCGACCACCGAGATCTACACGCTCTACAGGGTCTCTATGGTAATTGTGTGYCAGCMGCCGCGGTAA | NA | 0.08049877 | 0.02574797 | 0.02900284 | 0.1319947 | DivNet | Aitchison | 0.8769562 | 2.257091 |\n",
       "| N189-A062 | N189-A062 | 33094 | 189 | A062   | 9-Nov-20  | 9-Nov  | 18 | r1_w | Acerv2   | UM  | ⋯ | AATGATACGGCGACCACCGAGATCTACACGCTCTACAGGGTCTCTATGGTAATTGTGTGYCAGCMGCCGCGGTAA | NA | 0.08049877 | 0.02574797 | 0.02900284 | 0.1319947 | DivNet | Aitchison | 0.8647953 | 2.130399 |\n",
       "\n"
      ],
      "text/plain": [
       "          sample_names featurecounts Initial_sample_ID Tag    Date_Collected\n",
       "N1-Hom_   N1-Hom-H     48625           1               Hom_R1 NA            \n",
       "N10-A019  N10-A019     23078          10               A019   25-Oct-20     \n",
       "N100-A027 N100-A027    46139         100               A027   4-Nov-20      \n",
       "N101-A118 N101-A118    37571         101               A118   4-Nov-20      \n",
       "N127-A047 N127-A047    24293         127               A047   6-Nov-20      \n",
       "N189-A062 N189-A062    33094         189               A062   9-Nov-20      \n",
       "          Date   TimePoint Replicate Genotype Nursery ⋯\n",
       "N1-Hom_   NA     NA        NA        NA       NA      ⋯\n",
       "N10-A019  25-Oct  4        NA        Cooper-9 UM      ⋯\n",
       "N100-A027 4-Nov  13        NA        Cooper-9 UM      ⋯\n",
       "N101-A118 4-Nov  13        NA        U41      CRF     ⋯\n",
       "N127-A047 6-Nov  15        r1_w      Acerv2   UM      ⋯\n",
       "N189-A062 9-Nov  18        r1_w      Acerv2   UM      ⋯\n",
       "          Primer_For_PCR                                                             \n",
       "N1-Hom_   AATGATACGGCGACCACCGAGATCTACACGCTCTACAGGGTCTCTATGGTAATTGTGTGYCAGCMGCCGCGGTAA\n",
       "N10-A019  AATGATACGGCGACCACCGAGATCTACACGCTCTACAGGGTCTCTATGGTAATTGTGTGYCAGCMGCCGCGGTAA\n",
       "N100-A027 AATGATACGGCGACCACCGAGATCTACACGCTAGCCTTCGTCGCTATGGTAATTGTGTGYCAGCMGCCGCGGTAA\n",
       "N101-A118 AATGATACGGCGACCACCGAGATCTACACGCTAGCCTTCGTCGCTATGGTAATTGTGTGYCAGCMGCCGCGGTAA\n",
       "N127-A047 AATGATACGGCGACCACCGAGATCTACACGCTCTACAGGGTCTCTATGGTAATTGTGTGYCAGCMGCCGCGGTAA\n",
       "N189-A062 AATGATACGGCGACCACCGAGATCTACACGCTCTACAGGGTCTCTATGGTAATTGTGTGYCAGCMGCCGCGGTAA\n",
       "          X  estimate   error      lower      upper     name   model    \n",
       "N1-Hom_   NA 0.00000000 0.00000000 0.00000000 0.0000000 NA     NA       \n",
       "N10-A019  NA 0.08049877 0.02574797 0.02900284 0.1319947 DivNet Aitchison\n",
       "N100-A027 NA 0.23963400 0.07503098 0.08957204 0.3896960 DivNet Aitchison\n",
       "N101-A118 NA 0.00000000 0.00000000 0.00000000 0.0000000 NA     NA       \n",
       "N127-A047 NA 0.08049877 0.02574797 0.02900284 0.1319947 DivNet Aitchison\n",
       "N189-A062 NA 0.08049877 0.02574797 0.02900284 0.1319947 DivNet Aitchison\n",
       "          Simpson   Shannon \n",
       "N1-Hom_   0.0000000 0.000000\n",
       "N10-A019  0.9165302 2.688475\n",
       "N100-A027 0.9926911 5.172919\n",
       "N101-A118 0.0000000 0.000000\n",
       "N127-A047 0.8769562 2.257091\n",
       "N189-A062 0.8647953 2.130399"
      ]
     },
     "metadata": {},
     "output_type": "display_data"
    }
   ],
   "source": [
    "head(meta)"
   ]
  },
  {
   "cell_type": "code",
   "execution_count": 69,
   "id": "b999bcd6",
   "metadata": {},
   "outputs": [
    {
     "data": {
      "text/html": [
       "<table class=\"dataframe\">\n",
       "<caption>A data.frame: 284 × 58</caption>\n",
       "<thead>\n",
       "\t<tr><th scope=col>sample_names</th><th scope=col>featurecounts</th><th scope=col>Initial_sample_ID</th><th scope=col>Tag</th><th scope=col>Date_Collected</th><th scope=col>Date</th><th scope=col>TimePoint</th><th scope=col>Replicate</th><th scope=col>Genotype.x</th><th scope=col>Nursery</th><th scope=col>⋯</th><th scope=col>error</th><th scope=col>lower</th><th scope=col>upper</th><th scope=col>name</th><th scope=col>model</th><th scope=col>Simpson.x</th><th scope=col>Shannon.x</th><th scope=col>Simpson.y</th><th scope=col>Shannon.y</th><th scope=col>Genotype.y</th></tr>\n",
       "\t<tr><th scope=col>&lt;chr&gt;</th><th scope=col>&lt;int&gt;</th><th scope=col>&lt;int&gt;</th><th scope=col>&lt;chr&gt;</th><th scope=col>&lt;chr&gt;</th><th scope=col>&lt;chr&gt;</th><th scope=col>&lt;int&gt;</th><th scope=col>&lt;chr&gt;</th><th scope=col>&lt;chr&gt;</th><th scope=col>&lt;chr&gt;</th><th scope=col>⋯</th><th scope=col>&lt;dbl&gt;</th><th scope=col>&lt;dbl&gt;</th><th scope=col>&lt;dbl&gt;</th><th scope=col>&lt;chr&gt;</th><th scope=col>&lt;chr&gt;</th><th scope=col>&lt;dbl&gt;</th><th scope=col>&lt;dbl&gt;</th><th scope=col>&lt;dbl&gt;</th><th scope=col>&lt;dbl&gt;</th><th scope=col>&lt;chr&gt;</th></tr>\n",
       "</thead>\n",
       "<tbody>\n",
       "\t<tr><td>N1-Hom-H </td><td>48625</td><td>  1</td><td>Hom_R1</td><td>NA       </td><td>NA    </td><td>NA</td><td>NA  </td><td>NA      </td><td>NA </td><td>⋯</td><td>0.00000000</td><td>0.00000000</td><td>0.0000000</td><td>NA    </td><td>NA       </td><td>0.0000000</td><td>0.000000</td><td>       NA</td><td>      NA</td><td>NA    </td></tr>\n",
       "\t<tr><td>N10-A019 </td><td>23078</td><td> 10</td><td>A019  </td><td>25-Oct-20</td><td>25-Oct</td><td> 4</td><td>NA  </td><td>Cooper-9</td><td>UM </td><td>⋯</td><td>0.02574797</td><td>0.02900284</td><td>0.1319947</td><td>DivNet</td><td>Aitchison</td><td>0.9165302</td><td>2.688475</td><td>       NA</td><td>      NA</td><td>NA    </td></tr>\n",
       "\t<tr><td>N100-A027</td><td>46139</td><td>100</td><td>A027  </td><td>4-Nov-20 </td><td>4-Nov </td><td>13</td><td>NA  </td><td>Cooper-9</td><td>UM </td><td>⋯</td><td>0.07503098</td><td>0.08957204</td><td>0.3896960</td><td>DivNet</td><td>Aitchison</td><td>0.9926911</td><td>5.172919</td><td>       NA</td><td>      NA</td><td>NA    </td></tr>\n",
       "\t<tr><td>N101-A118</td><td>37571</td><td>101</td><td>A118  </td><td>4-Nov-20 </td><td>4-Nov </td><td>13</td><td>NA  </td><td>U41     </td><td>CRF</td><td>⋯</td><td>0.00000000</td><td>0.00000000</td><td>0.0000000</td><td>NA    </td><td>NA       </td><td>0.0000000</td><td>0.000000</td><td>       NA</td><td>      NA</td><td>NA    </td></tr>\n",
       "\t<tr><td>N127-A047</td><td>24293</td><td>127</td><td>A047  </td><td>6-Nov-20 </td><td>6-Nov </td><td>15</td><td>r1_w</td><td>Acerv2  </td><td>UM </td><td>⋯</td><td>0.02574797</td><td>0.02900284</td><td>0.1319947</td><td>DivNet</td><td>Aitchison</td><td>0.8769562</td><td>2.257091</td><td>0.8744701</td><td>2.253047</td><td>Acerv2</td></tr>\n",
       "\t<tr><td>N189-A062</td><td>33094</td><td>189</td><td>A062  </td><td>9-Nov-20 </td><td>9-Nov </td><td>18</td><td>r1_w</td><td>Acerv2  </td><td>UM </td><td>⋯</td><td>0.02574797</td><td>0.02900284</td><td>0.1319947</td><td>DivNet</td><td>Aitchison</td><td>0.8647953</td><td>2.130399</td><td>0.8640481</td><td>2.112938</td><td>Acerv2</td></tr>\n",
       "\t<tr><td>N198-A047</td><td>34081</td><td>198</td><td>A047  </td><td>10-Nov-20</td><td>10-Nov</td><td>19</td><td>r2_w</td><td>Acerv2  </td><td>UM </td><td>⋯</td><td>0.02574797</td><td>0.02900284</td><td>0.1319947</td><td>DivNet</td><td>Aitchison</td><td>0.8660828</td><td>2.122986</td><td>0.8682949</td><td>2.151514</td><td>Acerv2</td></tr>\n",
       "\t<tr><td>N105-258 </td><td>24540</td><td>105</td><td>258   </td><td>5-Nov-20 </td><td>5-Nov </td><td>14</td><td>r1_w</td><td>FM6     </td><td>FWC</td><td>⋯</td><td>0.02574797</td><td>0.02900284</td><td>0.1319947</td><td>DivNet</td><td>Aitchison</td><td>0.8528757</td><td>1.994060</td><td>       NA</td><td>      NA</td><td>NA    </td></tr>\n",
       "\t<tr><td>N106-A051</td><td>28128</td><td>106</td><td>A051  </td><td>5-Nov-20 </td><td>5-Nov </td><td>14</td><td>r1_w</td><td>Acerv2  </td><td>UM </td><td>⋯</td><td>0.02574797</td><td>0.02900284</td><td>0.1319947</td><td>DivNet</td><td>Aitchison</td><td>0.8614911</td><td>2.069874</td><td>       NA</td><td>      NA</td><td>NA    </td></tr>\n",
       "\t<tr><td>N107-162 </td><td>56431</td><td>107</td><td>162   </td><td>5-Nov-20 </td><td>5-Nov </td><td>14</td><td>NA  </td><td>K2      </td><td>CRF</td><td>⋯</td><td>0.02574797</td><td>0.02900284</td><td>0.1319947</td><td>DivNet</td><td>Aitchison</td><td>0.8641231</td><td>2.106718</td><td>       NA</td><td>      NA</td><td>NA    </td></tr>\n",
       "\t<tr><td>N108-A188</td><td>44424</td><td>108</td><td>A188  </td><td>5-Nov-20 </td><td>5-Nov </td><td>14</td><td>NA  </td><td>FM19    </td><td>FWC</td><td>⋯</td><td>0.02574797</td><td>0.02900284</td><td>0.1319947</td><td>DivNet</td><td>Aitchison</td><td>0.8670722</td><td>2.182338</td><td>       NA</td><td>      NA</td><td>NA    </td></tr>\n",
       "\t<tr><td>N109-A101</td><td>35834</td><td>109</td><td>A101  </td><td>5-Nov-20 </td><td>5-Nov </td><td>14</td><td>NA  </td><td>Kelsey-1</td><td>UM </td><td>⋯</td><td>0.02574797</td><td>0.02900284</td><td>0.1319947</td><td>DivNet</td><td>Aitchison</td><td>0.8772497</td><td>2.305193</td><td>       NA</td><td>      NA</td><td>NA    </td></tr>\n",
       "\t<tr><td>N11-A153 </td><td>27631</td><td> 11</td><td>A153  </td><td>26-Oct-20</td><td>26-Oct</td><td> 5</td><td>NA  </td><td>Kelsey-1</td><td>UM </td><td>⋯</td><td>0.07503098</td><td>0.08957204</td><td>0.3896960</td><td>DivNet</td><td>Aitchison</td><td>0.8911621</td><td>2.303332</td><td>       NA</td><td>      NA</td><td>NA    </td></tr>\n",
       "\t<tr><td>N110-A045</td><td>39551</td><td>110</td><td>A045  </td><td>5-Nov-20 </td><td>5-Nov </td><td>14</td><td>NA  </td><td>Acerv2  </td><td>UM </td><td>⋯</td><td>0.02574797</td><td>0.02900284</td><td>0.1319947</td><td>DivNet</td><td>Aitchison</td><td>0.8710343</td><td>2.209817</td><td>       NA</td><td>      NA</td><td>NA    </td></tr>\n",
       "\t<tr><td>N111-A010</td><td>34346</td><td>111</td><td>A010  </td><td>5-Nov-20 </td><td>5-Nov </td><td>14</td><td>NA  </td><td>Kelsey-1</td><td>UM </td><td>⋯</td><td>0.02574797</td><td>0.02900284</td><td>0.1319947</td><td>DivNet</td><td>Aitchison</td><td>0.8738840</td><td>2.262411</td><td>       NA</td><td>      NA</td><td>NA    </td></tr>\n",
       "\t<tr><td>N112-A005</td><td>42758</td><td>112</td><td>A005  </td><td>5-Nov-20 </td><td>5-Nov </td><td>14</td><td>NA  </td><td>Kelsey-1</td><td>UM </td><td>⋯</td><td>0.07503098</td><td>0.08957204</td><td>0.3896960</td><td>DivNet</td><td>Aitchison</td><td>0.8871195</td><td>2.582657</td><td>       NA</td><td>      NA</td><td>NA    </td></tr>\n",
       "\t<tr><td>N113-A016</td><td>30839</td><td>113</td><td>A016  </td><td>5-Nov-20 </td><td>5-Nov </td><td>14</td><td>NA  </td><td>Cooper-9</td><td>UM </td><td>⋯</td><td>0.07503098</td><td>0.08957204</td><td>0.3896960</td><td>DivNet</td><td>Aitchison</td><td>0.9260071</td><td>3.229251</td><td>       NA</td><td>      NA</td><td>NA    </td></tr>\n",
       "\t<tr><td>N114-281 </td><td>35338</td><td>114</td><td>281   </td><td>5-Nov-20 </td><td>5-Nov </td><td>14</td><td>NA  </td><td>FM14    </td><td>FWC</td><td>⋯</td><td>0.07503098</td><td>0.08957204</td><td>0.3896960</td><td>DivNet</td><td>Aitchison</td><td>0.9323077</td><td>3.244866</td><td>       NA</td><td>      NA</td><td>NA    </td></tr>\n",
       "\t<tr><td>N115-247 </td><td>24933</td><td>115</td><td>247   </td><td>5-Nov-20 </td><td>5-Nov </td><td>14</td><td>NA  </td><td>FM6     </td><td>FWC</td><td>⋯</td><td>0.07503098</td><td>0.08957204</td><td>0.3896960</td><td>DivNet</td><td>Aitchison</td><td>0.9810130</td><td>4.232491</td><td>       NA</td><td>      NA</td><td>NA    </td></tr>\n",
       "\t<tr><td>N116-A058</td><td>50041</td><td>116</td><td>A058  </td><td>5-Nov-20 </td><td>5-Nov </td><td>14</td><td>NA  </td><td>Acerv2  </td><td>UM </td><td>⋯</td><td>0.07503098</td><td>0.08957204</td><td>0.3896960</td><td>DivNet</td><td>Aitchison</td><td>0.9155598</td><td>2.994778</td><td>       NA</td><td>      NA</td><td>NA    </td></tr>\n",
       "\t<tr><td>N117-163 </td><td>43137</td><td>117</td><td>163   </td><td>5-Nov-20 </td><td>5-Nov </td><td>14</td><td>NA  </td><td>K2      </td><td>CRF</td><td>⋯</td><td>0.07503098</td><td>0.08957204</td><td>0.3896960</td><td>DivNet</td><td>Aitchison</td><td>0.9689988</td><td>4.008343</td><td>       NA</td><td>      NA</td><td>NA    </td></tr>\n",
       "\t<tr><td>N118-176 </td><td>37625</td><td>118</td><td>176   </td><td>5-Nov-20 </td><td>5-Nov </td><td>14</td><td>NA  </td><td>FM19    </td><td>FWC</td><td>⋯</td><td>0.07503098</td><td>0.08957204</td><td>0.3896960</td><td>DivNet</td><td>Aitchison</td><td>0.9746604</td><td>4.094977</td><td>       NA</td><td>      NA</td><td>NA    </td></tr>\n",
       "\t<tr><td>N119-A107</td><td>40509</td><td>119</td><td>A107  </td><td>5-Nov-20 </td><td>5-Nov </td><td>14</td><td>NA  </td><td>U41     </td><td>CRF</td><td>⋯</td><td>0.00000000</td><td>0.00000000</td><td>0.0000000</td><td>NA    </td><td>NA       </td><td>0.0000000</td><td>0.000000</td><td>       NA</td><td>      NA</td><td>NA    </td></tr>\n",
       "\t<tr><td>N12-A008 </td><td>48424</td><td> 12</td><td>A008  </td><td>26-Oct-20</td><td>26-Oct</td><td> 5</td><td>NA  </td><td>Kelsey-1</td><td>UM </td><td>⋯</td><td>0.02574797</td><td>0.02900284</td><td>0.1319947</td><td>DivNet</td><td>Aitchison</td><td>0.8919527</td><td>2.338363</td><td>       NA</td><td>      NA</td><td>NA    </td></tr>\n",
       "\t<tr><td>N120-183 </td><td>30622</td><td>120</td><td>183   </td><td>5-Nov-20 </td><td>5-Nov </td><td>14</td><td>NA  </td><td>FM19    </td><td>FWC</td><td>⋯</td><td>0.07503098</td><td>0.08957204</td><td>0.3896960</td><td>DivNet</td><td>Aitchison</td><td>0.9441515</td><td>3.163739</td><td>       NA</td><td>      NA</td><td>NA    </td></tr>\n",
       "\t<tr><td>N199-A055</td><td>24762</td><td>199</td><td>A055  </td><td>10-Nov-20</td><td>10-Nov</td><td>19</td><td>r2_w</td><td>Acerv2  </td><td>UM </td><td>⋯</td><td>0.02574797</td><td>0.02900284</td><td>0.1319947</td><td>DivNet</td><td>Aitchison</td><td>0.9013112</td><td>2.680170</td><td>0.9045050</td><td>2.775550</td><td>Acerv2</td></tr>\n",
       "\t<tr><td>N122-A170</td><td>39148</td><td>122</td><td>A170  </td><td>5-Nov-20 </td><td>5-Nov </td><td>14</td><td>NA  </td><td>K2      </td><td>CRF</td><td>⋯</td><td>0.07503098</td><td>0.08957204</td><td>0.3896960</td><td>DivNet</td><td>Aitchison</td><td>0.9424331</td><td>3.430595</td><td>       NA</td><td>      NA</td><td>NA    </td></tr>\n",
       "\t<tr><td>N200-A062</td><td>35489</td><td>200</td><td>A062  </td><td>10-Nov-20</td><td>10-Nov</td><td>19</td><td>r2_w</td><td>Acerv2  </td><td>UM </td><td>⋯</td><td>0.02574797</td><td>0.02900284</td><td>0.1319947</td><td>DivNet</td><td>Aitchison</td><td>0.8730935</td><td>2.267805</td><td>0.8736782</td><td>2.271398</td><td>Acerv2</td></tr>\n",
       "\t<tr><td>N40-A055 </td><td>33440</td><td> 40</td><td>A055  </td><td>30-Oct-20</td><td>30-Oct</td><td> 8</td><td>NA  </td><td>Acerv2  </td><td>UM </td><td>⋯</td><td>0.00000000</td><td>0.00000000</td><td>0.0000000</td><td>NA    </td><td>NA       </td><td>0.0000000</td><td>0.000000</td><td>0.8629048</td><td>2.096746</td><td>Acerv2</td></tr>\n",
       "\t<tr><td>N50-A043 </td><td>23483</td><td> 50</td><td>A043  </td><td>30-Oct-20</td><td>30-Oct</td><td> 8</td><td>NA  </td><td>Acerv2  </td><td>UM </td><td>⋯</td><td>0.00000000</td><td>0.00000000</td><td>0.0000000</td><td>NA    </td><td>NA       </td><td>0.0000000</td><td>0.000000</td><td>0.8607804</td><td>2.055303</td><td>Acerv2</td></tr>\n",
       "\t<tr><td>⋮</td><td>⋮</td><td>⋮</td><td>⋮</td><td>⋮</td><td>⋮</td><td>⋮</td><td>⋮</td><td>⋮</td><td>⋮</td><td>⋱</td><td>⋮</td><td>⋮</td><td>⋮</td><td>⋮</td><td>⋮</td><td>⋮</td><td>⋮</td><td>⋮</td><td>⋮</td><td>⋮</td></tr>\n",
       "\t<tr><td>N79-A097    </td><td>32654</td><td>79</td><td>A097      </td><td>31-Oct-20</td><td>31-Oct</td><td> 9</td><td>NA  </td><td>Kelsey-1</td><td>UM </td><td>⋯</td><td>0.07503098</td><td>0.08957204</td><td>0.3896960</td><td>DivNet</td><td>Aitchison</td><td>0.8935811</td><td>2.565693</td><td>       NA</td><td>      NA</td><td>NA </td></tr>\n",
       "\t<tr><td>N8-A060     </td><td>25759</td><td> 8</td><td>A060      </td><td>24-Oct-20</td><td>24-Oct</td><td> 3</td><td>NA  </td><td>Acerv2  </td><td>UM </td><td>⋯</td><td>0.02574797</td><td>0.02900284</td><td>0.1319947</td><td>DivNet</td><td>Aitchison</td><td>0.9701775</td><td>4.163794</td><td>       NA</td><td>      NA</td><td>NA </td></tr>\n",
       "\t<tr><td>N80-A022    </td><td>34118</td><td>80</td><td>A022      </td><td>31-Oct-20</td><td>31-Oct</td><td> 9</td><td>NA  </td><td>Cooper-9</td><td>UM </td><td>⋯</td><td>0.07503098</td><td>0.08957204</td><td>0.3896960</td><td>DivNet</td><td>Aitchison</td><td>0.9473041</td><td>3.245691</td><td>       NA</td><td>      NA</td><td>NA </td></tr>\n",
       "\t<tr><td>N81-A021    </td><td>42489</td><td>81</td><td>A021      </td><td>1-Nov-20 </td><td>1-Nov </td><td>10</td><td>NA  </td><td>Cooper-9</td><td>UM </td><td>⋯</td><td>0.07503098</td><td>0.08957204</td><td>0.3896960</td><td>DivNet</td><td>Aitchison</td><td>0.9834178</td><td>4.537948</td><td>       NA</td><td>      NA</td><td>NA </td></tr>\n",
       "\t<tr><td>N82-A056    </td><td>43725</td><td>82</td><td>A056      </td><td>2-Nov-20 </td><td>2-Nov </td><td>11</td><td>NA  </td><td>Acerv2  </td><td>UM </td><td>⋯</td><td>0.02574797</td><td>0.02900284</td><td>0.1319947</td><td>DivNet</td><td>Aitchison</td><td>0.9857846</td><td>4.605077</td><td>       NA</td><td>      NA</td><td>NA </td></tr>\n",
       "\t<tr><td>N83-A046    </td><td>41686</td><td>83</td><td>A046      </td><td>3-Nov-20 </td><td>3-Nov </td><td>12</td><td>NA  </td><td>Acerv2  </td><td>UM </td><td>⋯</td><td>0.07503098</td><td>0.08957204</td><td>0.3896960</td><td>DivNet</td><td>Aitchison</td><td>0.9442272</td><td>3.440185</td><td>       NA</td><td>      NA</td><td>NA </td></tr>\n",
       "\t<tr><td>N84-A030    </td><td>23551</td><td>84</td><td>A030      </td><td>3-Nov-20 </td><td>3-Nov </td><td>12</td><td>NA  </td><td>Cooper-9</td><td>UM </td><td>⋯</td><td>0.07503098</td><td>0.08957204</td><td>0.3896960</td><td>DivNet</td><td>Aitchison</td><td>0.9888142</td><td>4.696333</td><td>       NA</td><td>      NA</td><td>NA </td></tr>\n",
       "\t<tr><td>N52-A122    </td><td>45464</td><td>52</td><td>A122      </td><td>30-Oct-20</td><td>30-Oct</td><td> 8</td><td>NA  </td><td>U44     </td><td>CRF</td><td>⋯</td><td>0.00000000</td><td>0.00000000</td><td>0.0000000</td><td>NA    </td><td>NA       </td><td>0.0000000</td><td>0.000000</td><td>       NA</td><td>      NA</td><td>NA </td></tr>\n",
       "\t<tr><td>N86-A052    </td><td>34109</td><td>86</td><td>A052      </td><td>3-Nov-20 </td><td>3-Nov </td><td>12</td><td>r1_w</td><td>Acerv2  </td><td>UM </td><td>⋯</td><td>0.02574797</td><td>0.02900284</td><td>0.1319947</td><td>DivNet</td><td>Aitchison</td><td>0.8597444</td><td>2.087074</td><td>       NA</td><td>      NA</td><td>NA </td></tr>\n",
       "\t<tr><td>N88-Hom-H   </td><td>17882</td><td>87</td><td>Hom_Hea   </td><td>31-Oct-20</td><td>31-Oct</td><td> 9</td><td>NA  </td><td>NA      </td><td>NA </td><td>⋯</td><td>0.00000000</td><td>0.00000000</td><td>0.0000000</td><td>NA    </td><td>NA       </td><td>0.0000000</td><td>0.000000</td><td>       NA</td><td>      NA</td><td>NA </td></tr>\n",
       "\t<tr><td>N88-Hom-H-R2</td><td>75651</td><td>87</td><td>Hom_Hea   </td><td>31-Oct-20</td><td>31-Oct</td><td> 9</td><td>NA  </td><td>NA      </td><td>NA </td><td>⋯</td><td>0.00000000</td><td>0.00000000</td><td>0.0000000</td><td>NA    </td><td>NA       </td><td>0.0000000</td><td>0.000000</td><td>       NA</td><td>      NA</td><td>NA </td></tr>\n",
       "\t<tr><td>N87-Hom-D   </td><td>21207</td><td>88</td><td>Hom_Dis_R1</td><td>31-Oct-20</td><td>31-Oct</td><td> 9</td><td>NA  </td><td>NA      </td><td>NA </td><td>⋯</td><td>0.00000000</td><td>0.00000000</td><td>0.0000000</td><td>NA    </td><td>NA       </td><td>0.0000000</td><td>0.000000</td><td>       NA</td><td>      NA</td><td>NA </td></tr>\n",
       "\t<tr><td>N87-Hom-D-R2</td><td>35515</td><td>88</td><td>Hom_Dis_R2</td><td>31-Oct-20</td><td>31-Oct</td><td> 9</td><td>NA  </td><td>NA      </td><td>NA </td><td>⋯</td><td>0.00000000</td><td>0.00000000</td><td>0.0000000</td><td>NA    </td><td>NA       </td><td>0.0000000</td><td>0.000000</td><td>       NA</td><td>      NA</td><td>NA </td></tr>\n",
       "\t<tr><td>N89-A053    </td><td>25245</td><td>89</td><td>A053      </td><td>3-Nov-20 </td><td>3-Nov </td><td>12</td><td>NA  </td><td>Acerv2  </td><td>UM </td><td>⋯</td><td>0.07503098</td><td>0.08957204</td><td>0.3896960</td><td>DivNet</td><td>Aitchison</td><td>0.8822580</td><td>2.382149</td><td>       NA</td><td>      NA</td><td>NA </td></tr>\n",
       "\t<tr><td>N9-A048     </td><td>45982</td><td> 9</td><td>A048      </td><td>25-Oct-20</td><td>25-Oct</td><td> 4</td><td>NA  </td><td>Acerv2  </td><td>UM </td><td>⋯</td><td>0.02574797</td><td>0.02900284</td><td>0.1319947</td><td>DivNet</td><td>Aitchison</td><td>0.8899929</td><td>2.310967</td><td>       NA</td><td>      NA</td><td>NA </td></tr>\n",
       "\t<tr><td>N90-A039    </td><td>32331</td><td>90</td><td>A039      </td><td>3-Nov-20 </td><td>3-Nov </td><td>12</td><td>NA  </td><td>Acerv2  </td><td>UM </td><td>⋯</td><td>0.07503098</td><td>0.08957204</td><td>0.3896960</td><td>DivNet</td><td>Aitchison</td><td>0.9255148</td><td>2.993135</td><td>       NA</td><td>      NA</td><td>NA </td></tr>\n",
       "\t<tr><td>N91-A041    </td><td>39874</td><td>91</td><td>A041      </td><td>3-Nov-20 </td><td>3-Nov </td><td>12</td><td>NA  </td><td>Acerv2  </td><td>UM </td><td>⋯</td><td>0.07503098</td><td>0.08957204</td><td>0.3896960</td><td>DivNet</td><td>Aitchison</td><td>0.8722367</td><td>2.243221</td><td>       NA</td><td>      NA</td><td>NA </td></tr>\n",
       "\t<tr><td>N92-A007    </td><td>35656</td><td>92</td><td>A007      </td><td>4-Nov-20 </td><td>4-Nov </td><td>13</td><td>NA  </td><td>Kelsey-1</td><td>UM </td><td>⋯</td><td>0.02574797</td><td>0.02900284</td><td>0.1319947</td><td>DivNet</td><td>Aitchison</td><td>0.9693917</td><td>3.949222</td><td>       NA</td><td>      NA</td><td>NA </td></tr>\n",
       "\t<tr><td>N93-A121    </td><td>44416</td><td>93</td><td>A121      </td><td>4-Nov-20 </td><td>4-Nov </td><td>13</td><td>NA  </td><td>U44     </td><td>CRF</td><td>⋯</td><td>0.07503098</td><td>0.08957204</td><td>0.3896960</td><td>DivNet</td><td>Aitchison</td><td>0.9856757</td><td>4.605271</td><td>       NA</td><td>      NA</td><td>NA </td></tr>\n",
       "\t<tr><td>N94-A091    </td><td>78835</td><td>94</td><td>A091      </td><td>4-Nov-20 </td><td>4-Nov </td><td>13</td><td>r1_w</td><td>U44     </td><td>CRF</td><td>⋯</td><td>0.02574797</td><td>0.02900284</td><td>0.1319947</td><td>DivNet</td><td>Aitchison</td><td>0.9806817</td><td>4.401609</td><td>0.9817737</td><td>4.577481</td><td>U44</td></tr>\n",
       "\t<tr><td>N95-215     </td><td>26442</td><td>95</td><td>215       </td><td>4-Nov-20 </td><td>4-Nov </td><td>13</td><td>r1_w</td><td>FM9     </td><td>FWC</td><td>⋯</td><td>0.02574797</td><td>0.02900284</td><td>0.1319947</td><td>DivNet</td><td>Aitchison</td><td>0.8765775</td><td>2.276747</td><td>       NA</td><td>      NA</td><td>NA </td></tr>\n",
       "\t<tr><td>N96-231     </td><td>36569</td><td>96</td><td>231       </td><td>4-Nov-20 </td><td>4-Nov </td><td>13</td><td>NA  </td><td>FM6     </td><td>FWC</td><td>⋯</td><td>0.02574797</td><td>0.02900284</td><td>0.1319947</td><td>DivNet</td><td>Aitchison</td><td>0.8600947</td><td>2.030041</td><td>       NA</td><td>      NA</td><td>NA </td></tr>\n",
       "\t<tr><td>N97-205     </td><td>37212</td><td>97</td><td>205       </td><td>4-Nov-20 </td><td>4-Nov </td><td>13</td><td>NA  </td><td>FM9     </td><td>FWC</td><td>⋯</td><td>0.07503098</td><td>0.08957204</td><td>0.3896960</td><td>DivNet</td><td>Aitchison</td><td>0.9201420</td><td>3.113018</td><td>       NA</td><td>      NA</td><td>NA </td></tr>\n",
       "\t<tr><td>N98-253     </td><td>34127</td><td>98</td><td>253       </td><td>4-Nov-20 </td><td>4-Nov </td><td>13</td><td>NA  </td><td>FM6     </td><td>FWC</td><td>⋯</td><td>0.07503098</td><td>0.08957204</td><td>0.3896960</td><td>DivNet</td><td>Aitchison</td><td>0.9623337</td><td>3.747277</td><td>       NA</td><td>      NA</td><td>NA </td></tr>\n",
       "\t<tr><td>N99-A036    </td><td>75575</td><td>99</td><td>A036      </td><td>4-Nov-20 </td><td>4-Nov </td><td>13</td><td>NA  </td><td>Cooper-9</td><td>UM </td><td>⋯</td><td>0.02574797</td><td>0.02900284</td><td>0.1319947</td><td>DivNet</td><td>Aitchison</td><td>0.9905988</td><td>4.968097</td><td>       NA</td><td>      NA</td><td>NA </td></tr>\n",
       "\t<tr><td>NEC         </td><td>32359</td><td>NA</td><td>NA        </td><td>NA       </td><td>NA    </td><td>NA</td><td>NA  </td><td>NTC     </td><td>NA </td><td>⋯</td><td>0.00000000</td><td>0.00000000</td><td>0.0000000</td><td>NA    </td><td>NA       </td><td>0.0000000</td><td>0.000000</td><td>       NA</td><td>      NA</td><td>NA </td></tr>\n",
       "\t<tr><td>NTC-1       </td><td> 2054</td><td>NA</td><td>NA        </td><td>NA       </td><td>NA    </td><td>NA</td><td>NA  </td><td>NTC     </td><td>NA </td><td>⋯</td><td>0.00000000</td><td>0.00000000</td><td>0.0000000</td><td>NA    </td><td>NA       </td><td>0.0000000</td><td>0.000000</td><td>       NA</td><td>      NA</td><td>NA </td></tr>\n",
       "\t<tr><td>NTC-2       </td><td> 2892</td><td>NA</td><td>NA        </td><td>NA       </td><td>NA    </td><td>NA</td><td>NA  </td><td>NTC     </td><td>NA </td><td>⋯</td><td>0.00000000</td><td>0.00000000</td><td>0.0000000</td><td>NA    </td><td>NA       </td><td>0.0000000</td><td>0.000000</td><td>       NA</td><td>      NA</td><td>NA </td></tr>\n",
       "\t<tr><td>NTC-PCR1    </td><td>22555</td><td>NA</td><td>NA        </td><td>NA       </td><td>NA    </td><td>NA</td><td>NA  </td><td>NTC     </td><td>NA </td><td>⋯</td><td>0.00000000</td><td>0.00000000</td><td>0.0000000</td><td>NA    </td><td>NA       </td><td>0.0000000</td><td>0.000000</td><td>       NA</td><td>      NA</td><td>NA </td></tr>\n",
       "\t<tr><td>NTC-PCR2    </td><td>17711</td><td>NA</td><td>NA        </td><td>NA       </td><td>NA    </td><td>NA</td><td>NA  </td><td>NTC     </td><td>NA </td><td>⋯</td><td>0.00000000</td><td>0.00000000</td><td>0.0000000</td><td>NA    </td><td>NA       </td><td>0.0000000</td><td>0.000000</td><td>       NA</td><td>      NA</td><td>NA </td></tr>\n",
       "</tbody>\n",
       "</table>\n"
      ],
      "text/latex": [
       "A data.frame: 284 × 58\n",
       "\\begin{tabular}{lllllllllllllllllllll}\n",
       " sample\\_names & featurecounts & Initial\\_sample\\_ID & Tag & Date\\_Collected & Date & TimePoint & Replicate & Genotype.x & Nursery & ⋯ & error & lower & upper & name & model & Simpson.x & Shannon.x & Simpson.y & Shannon.y & Genotype.y\\\\\n",
       " <chr> & <int> & <int> & <chr> & <chr> & <chr> & <int> & <chr> & <chr> & <chr> & ⋯ & <dbl> & <dbl> & <dbl> & <chr> & <chr> & <dbl> & <dbl> & <dbl> & <dbl> & <chr>\\\\\n",
       "\\hline\n",
       "\t N1-Hom-H  & 48625 &   1 & Hom\\_R1 & NA        & NA     & NA & NA   & NA       & NA  & ⋯ & 0.00000000 & 0.00000000 & 0.0000000 & NA     & NA        & 0.0000000 & 0.000000 &        NA &       NA & NA    \\\\\n",
       "\t N10-A019  & 23078 &  10 & A019   & 25-Oct-20 & 25-Oct &  4 & NA   & Cooper-9 & UM  & ⋯ & 0.02574797 & 0.02900284 & 0.1319947 & DivNet & Aitchison & 0.9165302 & 2.688475 &        NA &       NA & NA    \\\\\n",
       "\t N100-A027 & 46139 & 100 & A027   & 4-Nov-20  & 4-Nov  & 13 & NA   & Cooper-9 & UM  & ⋯ & 0.07503098 & 0.08957204 & 0.3896960 & DivNet & Aitchison & 0.9926911 & 5.172919 &        NA &       NA & NA    \\\\\n",
       "\t N101-A118 & 37571 & 101 & A118   & 4-Nov-20  & 4-Nov  & 13 & NA   & U41      & CRF & ⋯ & 0.00000000 & 0.00000000 & 0.0000000 & NA     & NA        & 0.0000000 & 0.000000 &        NA &       NA & NA    \\\\\n",
       "\t N127-A047 & 24293 & 127 & A047   & 6-Nov-20  & 6-Nov  & 15 & r1\\_w & Acerv2   & UM  & ⋯ & 0.02574797 & 0.02900284 & 0.1319947 & DivNet & Aitchison & 0.8769562 & 2.257091 & 0.8744701 & 2.253047 & Acerv2\\\\\n",
       "\t N189-A062 & 33094 & 189 & A062   & 9-Nov-20  & 9-Nov  & 18 & r1\\_w & Acerv2   & UM  & ⋯ & 0.02574797 & 0.02900284 & 0.1319947 & DivNet & Aitchison & 0.8647953 & 2.130399 & 0.8640481 & 2.112938 & Acerv2\\\\\n",
       "\t N198-A047 & 34081 & 198 & A047   & 10-Nov-20 & 10-Nov & 19 & r2\\_w & Acerv2   & UM  & ⋯ & 0.02574797 & 0.02900284 & 0.1319947 & DivNet & Aitchison & 0.8660828 & 2.122986 & 0.8682949 & 2.151514 & Acerv2\\\\\n",
       "\t N105-258  & 24540 & 105 & 258    & 5-Nov-20  & 5-Nov  & 14 & r1\\_w & FM6      & FWC & ⋯ & 0.02574797 & 0.02900284 & 0.1319947 & DivNet & Aitchison & 0.8528757 & 1.994060 &        NA &       NA & NA    \\\\\n",
       "\t N106-A051 & 28128 & 106 & A051   & 5-Nov-20  & 5-Nov  & 14 & r1\\_w & Acerv2   & UM  & ⋯ & 0.02574797 & 0.02900284 & 0.1319947 & DivNet & Aitchison & 0.8614911 & 2.069874 &        NA &       NA & NA    \\\\\n",
       "\t N107-162  & 56431 & 107 & 162    & 5-Nov-20  & 5-Nov  & 14 & NA   & K2       & CRF & ⋯ & 0.02574797 & 0.02900284 & 0.1319947 & DivNet & Aitchison & 0.8641231 & 2.106718 &        NA &       NA & NA    \\\\\n",
       "\t N108-A188 & 44424 & 108 & A188   & 5-Nov-20  & 5-Nov  & 14 & NA   & FM19     & FWC & ⋯ & 0.02574797 & 0.02900284 & 0.1319947 & DivNet & Aitchison & 0.8670722 & 2.182338 &        NA &       NA & NA    \\\\\n",
       "\t N109-A101 & 35834 & 109 & A101   & 5-Nov-20  & 5-Nov  & 14 & NA   & Kelsey-1 & UM  & ⋯ & 0.02574797 & 0.02900284 & 0.1319947 & DivNet & Aitchison & 0.8772497 & 2.305193 &        NA &       NA & NA    \\\\\n",
       "\t N11-A153  & 27631 &  11 & A153   & 26-Oct-20 & 26-Oct &  5 & NA   & Kelsey-1 & UM  & ⋯ & 0.07503098 & 0.08957204 & 0.3896960 & DivNet & Aitchison & 0.8911621 & 2.303332 &        NA &       NA & NA    \\\\\n",
       "\t N110-A045 & 39551 & 110 & A045   & 5-Nov-20  & 5-Nov  & 14 & NA   & Acerv2   & UM  & ⋯ & 0.02574797 & 0.02900284 & 0.1319947 & DivNet & Aitchison & 0.8710343 & 2.209817 &        NA &       NA & NA    \\\\\n",
       "\t N111-A010 & 34346 & 111 & A010   & 5-Nov-20  & 5-Nov  & 14 & NA   & Kelsey-1 & UM  & ⋯ & 0.02574797 & 0.02900284 & 0.1319947 & DivNet & Aitchison & 0.8738840 & 2.262411 &        NA &       NA & NA    \\\\\n",
       "\t N112-A005 & 42758 & 112 & A005   & 5-Nov-20  & 5-Nov  & 14 & NA   & Kelsey-1 & UM  & ⋯ & 0.07503098 & 0.08957204 & 0.3896960 & DivNet & Aitchison & 0.8871195 & 2.582657 &        NA &       NA & NA    \\\\\n",
       "\t N113-A016 & 30839 & 113 & A016   & 5-Nov-20  & 5-Nov  & 14 & NA   & Cooper-9 & UM  & ⋯ & 0.07503098 & 0.08957204 & 0.3896960 & DivNet & Aitchison & 0.9260071 & 3.229251 &        NA &       NA & NA    \\\\\n",
       "\t N114-281  & 35338 & 114 & 281    & 5-Nov-20  & 5-Nov  & 14 & NA   & FM14     & FWC & ⋯ & 0.07503098 & 0.08957204 & 0.3896960 & DivNet & Aitchison & 0.9323077 & 3.244866 &        NA &       NA & NA    \\\\\n",
       "\t N115-247  & 24933 & 115 & 247    & 5-Nov-20  & 5-Nov  & 14 & NA   & FM6      & FWC & ⋯ & 0.07503098 & 0.08957204 & 0.3896960 & DivNet & Aitchison & 0.9810130 & 4.232491 &        NA &       NA & NA    \\\\\n",
       "\t N116-A058 & 50041 & 116 & A058   & 5-Nov-20  & 5-Nov  & 14 & NA   & Acerv2   & UM  & ⋯ & 0.07503098 & 0.08957204 & 0.3896960 & DivNet & Aitchison & 0.9155598 & 2.994778 &        NA &       NA & NA    \\\\\n",
       "\t N117-163  & 43137 & 117 & 163    & 5-Nov-20  & 5-Nov  & 14 & NA   & K2       & CRF & ⋯ & 0.07503098 & 0.08957204 & 0.3896960 & DivNet & Aitchison & 0.9689988 & 4.008343 &        NA &       NA & NA    \\\\\n",
       "\t N118-176  & 37625 & 118 & 176    & 5-Nov-20  & 5-Nov  & 14 & NA   & FM19     & FWC & ⋯ & 0.07503098 & 0.08957204 & 0.3896960 & DivNet & Aitchison & 0.9746604 & 4.094977 &        NA &       NA & NA    \\\\\n",
       "\t N119-A107 & 40509 & 119 & A107   & 5-Nov-20  & 5-Nov  & 14 & NA   & U41      & CRF & ⋯ & 0.00000000 & 0.00000000 & 0.0000000 & NA     & NA        & 0.0000000 & 0.000000 &        NA &       NA & NA    \\\\\n",
       "\t N12-A008  & 48424 &  12 & A008   & 26-Oct-20 & 26-Oct &  5 & NA   & Kelsey-1 & UM  & ⋯ & 0.02574797 & 0.02900284 & 0.1319947 & DivNet & Aitchison & 0.8919527 & 2.338363 &        NA &       NA & NA    \\\\\n",
       "\t N120-183  & 30622 & 120 & 183    & 5-Nov-20  & 5-Nov  & 14 & NA   & FM19     & FWC & ⋯ & 0.07503098 & 0.08957204 & 0.3896960 & DivNet & Aitchison & 0.9441515 & 3.163739 &        NA &       NA & NA    \\\\\n",
       "\t N199-A055 & 24762 & 199 & A055   & 10-Nov-20 & 10-Nov & 19 & r2\\_w & Acerv2   & UM  & ⋯ & 0.02574797 & 0.02900284 & 0.1319947 & DivNet & Aitchison & 0.9013112 & 2.680170 & 0.9045050 & 2.775550 & Acerv2\\\\\n",
       "\t N122-A170 & 39148 & 122 & A170   & 5-Nov-20  & 5-Nov  & 14 & NA   & K2       & CRF & ⋯ & 0.07503098 & 0.08957204 & 0.3896960 & DivNet & Aitchison & 0.9424331 & 3.430595 &        NA &       NA & NA    \\\\\n",
       "\t N200-A062 & 35489 & 200 & A062   & 10-Nov-20 & 10-Nov & 19 & r2\\_w & Acerv2   & UM  & ⋯ & 0.02574797 & 0.02900284 & 0.1319947 & DivNet & Aitchison & 0.8730935 & 2.267805 & 0.8736782 & 2.271398 & Acerv2\\\\\n",
       "\t N40-A055  & 33440 &  40 & A055   & 30-Oct-20 & 30-Oct &  8 & NA   & Acerv2   & UM  & ⋯ & 0.00000000 & 0.00000000 & 0.0000000 & NA     & NA        & 0.0000000 & 0.000000 & 0.8629048 & 2.096746 & Acerv2\\\\\n",
       "\t N50-A043  & 23483 &  50 & A043   & 30-Oct-20 & 30-Oct &  8 & NA   & Acerv2   & UM  & ⋯ & 0.00000000 & 0.00000000 & 0.0000000 & NA     & NA        & 0.0000000 & 0.000000 & 0.8607804 & 2.055303 & Acerv2\\\\\n",
       "\t ⋮ & ⋮ & ⋮ & ⋮ & ⋮ & ⋮ & ⋮ & ⋮ & ⋮ & ⋮ & ⋱ & ⋮ & ⋮ & ⋮ & ⋮ & ⋮ & ⋮ & ⋮ & ⋮ & ⋮ & ⋮\\\\\n",
       "\t N79-A097     & 32654 & 79 & A097       & 31-Oct-20 & 31-Oct &  9 & NA   & Kelsey-1 & UM  & ⋯ & 0.07503098 & 0.08957204 & 0.3896960 & DivNet & Aitchison & 0.8935811 & 2.565693 &        NA &       NA & NA \\\\\n",
       "\t N8-A060      & 25759 &  8 & A060       & 24-Oct-20 & 24-Oct &  3 & NA   & Acerv2   & UM  & ⋯ & 0.02574797 & 0.02900284 & 0.1319947 & DivNet & Aitchison & 0.9701775 & 4.163794 &        NA &       NA & NA \\\\\n",
       "\t N80-A022     & 34118 & 80 & A022       & 31-Oct-20 & 31-Oct &  9 & NA   & Cooper-9 & UM  & ⋯ & 0.07503098 & 0.08957204 & 0.3896960 & DivNet & Aitchison & 0.9473041 & 3.245691 &        NA &       NA & NA \\\\\n",
       "\t N81-A021     & 42489 & 81 & A021       & 1-Nov-20  & 1-Nov  & 10 & NA   & Cooper-9 & UM  & ⋯ & 0.07503098 & 0.08957204 & 0.3896960 & DivNet & Aitchison & 0.9834178 & 4.537948 &        NA &       NA & NA \\\\\n",
       "\t N82-A056     & 43725 & 82 & A056       & 2-Nov-20  & 2-Nov  & 11 & NA   & Acerv2   & UM  & ⋯ & 0.02574797 & 0.02900284 & 0.1319947 & DivNet & Aitchison & 0.9857846 & 4.605077 &        NA &       NA & NA \\\\\n",
       "\t N83-A046     & 41686 & 83 & A046       & 3-Nov-20  & 3-Nov  & 12 & NA   & Acerv2   & UM  & ⋯ & 0.07503098 & 0.08957204 & 0.3896960 & DivNet & Aitchison & 0.9442272 & 3.440185 &        NA &       NA & NA \\\\\n",
       "\t N84-A030     & 23551 & 84 & A030       & 3-Nov-20  & 3-Nov  & 12 & NA   & Cooper-9 & UM  & ⋯ & 0.07503098 & 0.08957204 & 0.3896960 & DivNet & Aitchison & 0.9888142 & 4.696333 &        NA &       NA & NA \\\\\n",
       "\t N52-A122     & 45464 & 52 & A122       & 30-Oct-20 & 30-Oct &  8 & NA   & U44      & CRF & ⋯ & 0.00000000 & 0.00000000 & 0.0000000 & NA     & NA        & 0.0000000 & 0.000000 &        NA &       NA & NA \\\\\n",
       "\t N86-A052     & 34109 & 86 & A052       & 3-Nov-20  & 3-Nov  & 12 & r1\\_w & Acerv2   & UM  & ⋯ & 0.02574797 & 0.02900284 & 0.1319947 & DivNet & Aitchison & 0.8597444 & 2.087074 &        NA &       NA & NA \\\\\n",
       "\t N88-Hom-H    & 17882 & 87 & Hom\\_Hea    & 31-Oct-20 & 31-Oct &  9 & NA   & NA       & NA  & ⋯ & 0.00000000 & 0.00000000 & 0.0000000 & NA     & NA        & 0.0000000 & 0.000000 &        NA &       NA & NA \\\\\n",
       "\t N88-Hom-H-R2 & 75651 & 87 & Hom\\_Hea    & 31-Oct-20 & 31-Oct &  9 & NA   & NA       & NA  & ⋯ & 0.00000000 & 0.00000000 & 0.0000000 & NA     & NA        & 0.0000000 & 0.000000 &        NA &       NA & NA \\\\\n",
       "\t N87-Hom-D    & 21207 & 88 & Hom\\_Dis\\_R1 & 31-Oct-20 & 31-Oct &  9 & NA   & NA       & NA  & ⋯ & 0.00000000 & 0.00000000 & 0.0000000 & NA     & NA        & 0.0000000 & 0.000000 &        NA &       NA & NA \\\\\n",
       "\t N87-Hom-D-R2 & 35515 & 88 & Hom\\_Dis\\_R2 & 31-Oct-20 & 31-Oct &  9 & NA   & NA       & NA  & ⋯ & 0.00000000 & 0.00000000 & 0.0000000 & NA     & NA        & 0.0000000 & 0.000000 &        NA &       NA & NA \\\\\n",
       "\t N89-A053     & 25245 & 89 & A053       & 3-Nov-20  & 3-Nov  & 12 & NA   & Acerv2   & UM  & ⋯ & 0.07503098 & 0.08957204 & 0.3896960 & DivNet & Aitchison & 0.8822580 & 2.382149 &        NA &       NA & NA \\\\\n",
       "\t N9-A048      & 45982 &  9 & A048       & 25-Oct-20 & 25-Oct &  4 & NA   & Acerv2   & UM  & ⋯ & 0.02574797 & 0.02900284 & 0.1319947 & DivNet & Aitchison & 0.8899929 & 2.310967 &        NA &       NA & NA \\\\\n",
       "\t N90-A039     & 32331 & 90 & A039       & 3-Nov-20  & 3-Nov  & 12 & NA   & Acerv2   & UM  & ⋯ & 0.07503098 & 0.08957204 & 0.3896960 & DivNet & Aitchison & 0.9255148 & 2.993135 &        NA &       NA & NA \\\\\n",
       "\t N91-A041     & 39874 & 91 & A041       & 3-Nov-20  & 3-Nov  & 12 & NA   & Acerv2   & UM  & ⋯ & 0.07503098 & 0.08957204 & 0.3896960 & DivNet & Aitchison & 0.8722367 & 2.243221 &        NA &       NA & NA \\\\\n",
       "\t N92-A007     & 35656 & 92 & A007       & 4-Nov-20  & 4-Nov  & 13 & NA   & Kelsey-1 & UM  & ⋯ & 0.02574797 & 0.02900284 & 0.1319947 & DivNet & Aitchison & 0.9693917 & 3.949222 &        NA &       NA & NA \\\\\n",
       "\t N93-A121     & 44416 & 93 & A121       & 4-Nov-20  & 4-Nov  & 13 & NA   & U44      & CRF & ⋯ & 0.07503098 & 0.08957204 & 0.3896960 & DivNet & Aitchison & 0.9856757 & 4.605271 &        NA &       NA & NA \\\\\n",
       "\t N94-A091     & 78835 & 94 & A091       & 4-Nov-20  & 4-Nov  & 13 & r1\\_w & U44      & CRF & ⋯ & 0.02574797 & 0.02900284 & 0.1319947 & DivNet & Aitchison & 0.9806817 & 4.401609 & 0.9817737 & 4.577481 & U44\\\\\n",
       "\t N95-215      & 26442 & 95 & 215        & 4-Nov-20  & 4-Nov  & 13 & r1\\_w & FM9      & FWC & ⋯ & 0.02574797 & 0.02900284 & 0.1319947 & DivNet & Aitchison & 0.8765775 & 2.276747 &        NA &       NA & NA \\\\\n",
       "\t N96-231      & 36569 & 96 & 231        & 4-Nov-20  & 4-Nov  & 13 & NA   & FM6      & FWC & ⋯ & 0.02574797 & 0.02900284 & 0.1319947 & DivNet & Aitchison & 0.8600947 & 2.030041 &        NA &       NA & NA \\\\\n",
       "\t N97-205      & 37212 & 97 & 205        & 4-Nov-20  & 4-Nov  & 13 & NA   & FM9      & FWC & ⋯ & 0.07503098 & 0.08957204 & 0.3896960 & DivNet & Aitchison & 0.9201420 & 3.113018 &        NA &       NA & NA \\\\\n",
       "\t N98-253      & 34127 & 98 & 253        & 4-Nov-20  & 4-Nov  & 13 & NA   & FM6      & FWC & ⋯ & 0.07503098 & 0.08957204 & 0.3896960 & DivNet & Aitchison & 0.9623337 & 3.747277 &        NA &       NA & NA \\\\\n",
       "\t N99-A036     & 75575 & 99 & A036       & 4-Nov-20  & 4-Nov  & 13 & NA   & Cooper-9 & UM  & ⋯ & 0.02574797 & 0.02900284 & 0.1319947 & DivNet & Aitchison & 0.9905988 & 4.968097 &        NA &       NA & NA \\\\\n",
       "\t NEC          & 32359 & NA & NA         & NA        & NA     & NA & NA   & NTC      & NA  & ⋯ & 0.00000000 & 0.00000000 & 0.0000000 & NA     & NA        & 0.0000000 & 0.000000 &        NA &       NA & NA \\\\\n",
       "\t NTC-1        &  2054 & NA & NA         & NA        & NA     & NA & NA   & NTC      & NA  & ⋯ & 0.00000000 & 0.00000000 & 0.0000000 & NA     & NA        & 0.0000000 & 0.000000 &        NA &       NA & NA \\\\\n",
       "\t NTC-2        &  2892 & NA & NA         & NA        & NA     & NA & NA   & NTC      & NA  & ⋯ & 0.00000000 & 0.00000000 & 0.0000000 & NA     & NA        & 0.0000000 & 0.000000 &        NA &       NA & NA \\\\\n",
       "\t NTC-PCR1     & 22555 & NA & NA         & NA        & NA     & NA & NA   & NTC      & NA  & ⋯ & 0.00000000 & 0.00000000 & 0.0000000 & NA     & NA        & 0.0000000 & 0.000000 &        NA &       NA & NA \\\\\n",
       "\t NTC-PCR2     & 17711 & NA & NA         & NA        & NA     & NA & NA   & NTC      & NA  & ⋯ & 0.00000000 & 0.00000000 & 0.0000000 & NA     & NA        & 0.0000000 & 0.000000 &        NA &       NA & NA \\\\\n",
       "\\end{tabular}\n"
      ],
      "text/markdown": [
       "\n",
       "A data.frame: 284 × 58\n",
       "\n",
       "| sample_names &lt;chr&gt; | featurecounts &lt;int&gt; | Initial_sample_ID &lt;int&gt; | Tag &lt;chr&gt; | Date_Collected &lt;chr&gt; | Date &lt;chr&gt; | TimePoint &lt;int&gt; | Replicate &lt;chr&gt; | Genotype.x &lt;chr&gt; | Nursery &lt;chr&gt; | ⋯ ⋯ | error &lt;dbl&gt; | lower &lt;dbl&gt; | upper &lt;dbl&gt; | name &lt;chr&gt; | model &lt;chr&gt; | Simpson.x &lt;dbl&gt; | Shannon.x &lt;dbl&gt; | Simpson.y &lt;dbl&gt; | Shannon.y &lt;dbl&gt; | Genotype.y &lt;chr&gt; |\n",
       "|---|---|---|---|---|---|---|---|---|---|---|---|---|---|---|---|---|---|---|---|---|\n",
       "| N1-Hom-H  | 48625 |   1 | Hom_R1 | NA        | NA     | NA | NA   | NA       | NA  | ⋯ | 0.00000000 | 0.00000000 | 0.0000000 | NA     | NA        | 0.0000000 | 0.000000 |        NA |       NA | NA     |\n",
       "| N10-A019  | 23078 |  10 | A019   | 25-Oct-20 | 25-Oct |  4 | NA   | Cooper-9 | UM  | ⋯ | 0.02574797 | 0.02900284 | 0.1319947 | DivNet | Aitchison | 0.9165302 | 2.688475 |        NA |       NA | NA     |\n",
       "| N100-A027 | 46139 | 100 | A027   | 4-Nov-20  | 4-Nov  | 13 | NA   | Cooper-9 | UM  | ⋯ | 0.07503098 | 0.08957204 | 0.3896960 | DivNet | Aitchison | 0.9926911 | 5.172919 |        NA |       NA | NA     |\n",
       "| N101-A118 | 37571 | 101 | A118   | 4-Nov-20  | 4-Nov  | 13 | NA   | U41      | CRF | ⋯ | 0.00000000 | 0.00000000 | 0.0000000 | NA     | NA        | 0.0000000 | 0.000000 |        NA |       NA | NA     |\n",
       "| N127-A047 | 24293 | 127 | A047   | 6-Nov-20  | 6-Nov  | 15 | r1_w | Acerv2   | UM  | ⋯ | 0.02574797 | 0.02900284 | 0.1319947 | DivNet | Aitchison | 0.8769562 | 2.257091 | 0.8744701 | 2.253047 | Acerv2 |\n",
       "| N189-A062 | 33094 | 189 | A062   | 9-Nov-20  | 9-Nov  | 18 | r1_w | Acerv2   | UM  | ⋯ | 0.02574797 | 0.02900284 | 0.1319947 | DivNet | Aitchison | 0.8647953 | 2.130399 | 0.8640481 | 2.112938 | Acerv2 |\n",
       "| N198-A047 | 34081 | 198 | A047   | 10-Nov-20 | 10-Nov | 19 | r2_w | Acerv2   | UM  | ⋯ | 0.02574797 | 0.02900284 | 0.1319947 | DivNet | Aitchison | 0.8660828 | 2.122986 | 0.8682949 | 2.151514 | Acerv2 |\n",
       "| N105-258  | 24540 | 105 | 258    | 5-Nov-20  | 5-Nov  | 14 | r1_w | FM6      | FWC | ⋯ | 0.02574797 | 0.02900284 | 0.1319947 | DivNet | Aitchison | 0.8528757 | 1.994060 |        NA |       NA | NA     |\n",
       "| N106-A051 | 28128 | 106 | A051   | 5-Nov-20  | 5-Nov  | 14 | r1_w | Acerv2   | UM  | ⋯ | 0.02574797 | 0.02900284 | 0.1319947 | DivNet | Aitchison | 0.8614911 | 2.069874 |        NA |       NA | NA     |\n",
       "| N107-162  | 56431 | 107 | 162    | 5-Nov-20  | 5-Nov  | 14 | NA   | K2       | CRF | ⋯ | 0.02574797 | 0.02900284 | 0.1319947 | DivNet | Aitchison | 0.8641231 | 2.106718 |        NA |       NA | NA     |\n",
       "| N108-A188 | 44424 | 108 | A188   | 5-Nov-20  | 5-Nov  | 14 | NA   | FM19     | FWC | ⋯ | 0.02574797 | 0.02900284 | 0.1319947 | DivNet | Aitchison | 0.8670722 | 2.182338 |        NA |       NA | NA     |\n",
       "| N109-A101 | 35834 | 109 | A101   | 5-Nov-20  | 5-Nov  | 14 | NA   | Kelsey-1 | UM  | ⋯ | 0.02574797 | 0.02900284 | 0.1319947 | DivNet | Aitchison | 0.8772497 | 2.305193 |        NA |       NA | NA     |\n",
       "| N11-A153  | 27631 |  11 | A153   | 26-Oct-20 | 26-Oct |  5 | NA   | Kelsey-1 | UM  | ⋯ | 0.07503098 | 0.08957204 | 0.3896960 | DivNet | Aitchison | 0.8911621 | 2.303332 |        NA |       NA | NA     |\n",
       "| N110-A045 | 39551 | 110 | A045   | 5-Nov-20  | 5-Nov  | 14 | NA   | Acerv2   | UM  | ⋯ | 0.02574797 | 0.02900284 | 0.1319947 | DivNet | Aitchison | 0.8710343 | 2.209817 |        NA |       NA | NA     |\n",
       "| N111-A010 | 34346 | 111 | A010   | 5-Nov-20  | 5-Nov  | 14 | NA   | Kelsey-1 | UM  | ⋯ | 0.02574797 | 0.02900284 | 0.1319947 | DivNet | Aitchison | 0.8738840 | 2.262411 |        NA |       NA | NA     |\n",
       "| N112-A005 | 42758 | 112 | A005   | 5-Nov-20  | 5-Nov  | 14 | NA   | Kelsey-1 | UM  | ⋯ | 0.07503098 | 0.08957204 | 0.3896960 | DivNet | Aitchison | 0.8871195 | 2.582657 |        NA |       NA | NA     |\n",
       "| N113-A016 | 30839 | 113 | A016   | 5-Nov-20  | 5-Nov  | 14 | NA   | Cooper-9 | UM  | ⋯ | 0.07503098 | 0.08957204 | 0.3896960 | DivNet | Aitchison | 0.9260071 | 3.229251 |        NA |       NA | NA     |\n",
       "| N114-281  | 35338 | 114 | 281    | 5-Nov-20  | 5-Nov  | 14 | NA   | FM14     | FWC | ⋯ | 0.07503098 | 0.08957204 | 0.3896960 | DivNet | Aitchison | 0.9323077 | 3.244866 |        NA |       NA | NA     |\n",
       "| N115-247  | 24933 | 115 | 247    | 5-Nov-20  | 5-Nov  | 14 | NA   | FM6      | FWC | ⋯ | 0.07503098 | 0.08957204 | 0.3896960 | DivNet | Aitchison | 0.9810130 | 4.232491 |        NA |       NA | NA     |\n",
       "| N116-A058 | 50041 | 116 | A058   | 5-Nov-20  | 5-Nov  | 14 | NA   | Acerv2   | UM  | ⋯ | 0.07503098 | 0.08957204 | 0.3896960 | DivNet | Aitchison | 0.9155598 | 2.994778 |        NA |       NA | NA     |\n",
       "| N117-163  | 43137 | 117 | 163    | 5-Nov-20  | 5-Nov  | 14 | NA   | K2       | CRF | ⋯ | 0.07503098 | 0.08957204 | 0.3896960 | DivNet | Aitchison | 0.9689988 | 4.008343 |        NA |       NA | NA     |\n",
       "| N118-176  | 37625 | 118 | 176    | 5-Nov-20  | 5-Nov  | 14 | NA   | FM19     | FWC | ⋯ | 0.07503098 | 0.08957204 | 0.3896960 | DivNet | Aitchison | 0.9746604 | 4.094977 |        NA |       NA | NA     |\n",
       "| N119-A107 | 40509 | 119 | A107   | 5-Nov-20  | 5-Nov  | 14 | NA   | U41      | CRF | ⋯ | 0.00000000 | 0.00000000 | 0.0000000 | NA     | NA        | 0.0000000 | 0.000000 |        NA |       NA | NA     |\n",
       "| N12-A008  | 48424 |  12 | A008   | 26-Oct-20 | 26-Oct |  5 | NA   | Kelsey-1 | UM  | ⋯ | 0.02574797 | 0.02900284 | 0.1319947 | DivNet | Aitchison | 0.8919527 | 2.338363 |        NA |       NA | NA     |\n",
       "| N120-183  | 30622 | 120 | 183    | 5-Nov-20  | 5-Nov  | 14 | NA   | FM19     | FWC | ⋯ | 0.07503098 | 0.08957204 | 0.3896960 | DivNet | Aitchison | 0.9441515 | 3.163739 |        NA |       NA | NA     |\n",
       "| N199-A055 | 24762 | 199 | A055   | 10-Nov-20 | 10-Nov | 19 | r2_w | Acerv2   | UM  | ⋯ | 0.02574797 | 0.02900284 | 0.1319947 | DivNet | Aitchison | 0.9013112 | 2.680170 | 0.9045050 | 2.775550 | Acerv2 |\n",
       "| N122-A170 | 39148 | 122 | A170   | 5-Nov-20  | 5-Nov  | 14 | NA   | K2       | CRF | ⋯ | 0.07503098 | 0.08957204 | 0.3896960 | DivNet | Aitchison | 0.9424331 | 3.430595 |        NA |       NA | NA     |\n",
       "| N200-A062 | 35489 | 200 | A062   | 10-Nov-20 | 10-Nov | 19 | r2_w | Acerv2   | UM  | ⋯ | 0.02574797 | 0.02900284 | 0.1319947 | DivNet | Aitchison | 0.8730935 | 2.267805 | 0.8736782 | 2.271398 | Acerv2 |\n",
       "| N40-A055  | 33440 |  40 | A055   | 30-Oct-20 | 30-Oct |  8 | NA   | Acerv2   | UM  | ⋯ | 0.00000000 | 0.00000000 | 0.0000000 | NA     | NA        | 0.0000000 | 0.000000 | 0.8629048 | 2.096746 | Acerv2 |\n",
       "| N50-A043  | 23483 |  50 | A043   | 30-Oct-20 | 30-Oct |  8 | NA   | Acerv2   | UM  | ⋯ | 0.00000000 | 0.00000000 | 0.0000000 | NA     | NA        | 0.0000000 | 0.000000 | 0.8607804 | 2.055303 | Acerv2 |\n",
       "| ⋮ | ⋮ | ⋮ | ⋮ | ⋮ | ⋮ | ⋮ | ⋮ | ⋮ | ⋮ | ⋱ | ⋮ | ⋮ | ⋮ | ⋮ | ⋮ | ⋮ | ⋮ | ⋮ | ⋮ | ⋮ |\n",
       "| N79-A097     | 32654 | 79 | A097       | 31-Oct-20 | 31-Oct |  9 | NA   | Kelsey-1 | UM  | ⋯ | 0.07503098 | 0.08957204 | 0.3896960 | DivNet | Aitchison | 0.8935811 | 2.565693 |        NA |       NA | NA  |\n",
       "| N8-A060      | 25759 |  8 | A060       | 24-Oct-20 | 24-Oct |  3 | NA   | Acerv2   | UM  | ⋯ | 0.02574797 | 0.02900284 | 0.1319947 | DivNet | Aitchison | 0.9701775 | 4.163794 |        NA |       NA | NA  |\n",
       "| N80-A022     | 34118 | 80 | A022       | 31-Oct-20 | 31-Oct |  9 | NA   | Cooper-9 | UM  | ⋯ | 0.07503098 | 0.08957204 | 0.3896960 | DivNet | Aitchison | 0.9473041 | 3.245691 |        NA |       NA | NA  |\n",
       "| N81-A021     | 42489 | 81 | A021       | 1-Nov-20  | 1-Nov  | 10 | NA   | Cooper-9 | UM  | ⋯ | 0.07503098 | 0.08957204 | 0.3896960 | DivNet | Aitchison | 0.9834178 | 4.537948 |        NA |       NA | NA  |\n",
       "| N82-A056     | 43725 | 82 | A056       | 2-Nov-20  | 2-Nov  | 11 | NA   | Acerv2   | UM  | ⋯ | 0.02574797 | 0.02900284 | 0.1319947 | DivNet | Aitchison | 0.9857846 | 4.605077 |        NA |       NA | NA  |\n",
       "| N83-A046     | 41686 | 83 | A046       | 3-Nov-20  | 3-Nov  | 12 | NA   | Acerv2   | UM  | ⋯ | 0.07503098 | 0.08957204 | 0.3896960 | DivNet | Aitchison | 0.9442272 | 3.440185 |        NA |       NA | NA  |\n",
       "| N84-A030     | 23551 | 84 | A030       | 3-Nov-20  | 3-Nov  | 12 | NA   | Cooper-9 | UM  | ⋯ | 0.07503098 | 0.08957204 | 0.3896960 | DivNet | Aitchison | 0.9888142 | 4.696333 |        NA |       NA | NA  |\n",
       "| N52-A122     | 45464 | 52 | A122       | 30-Oct-20 | 30-Oct |  8 | NA   | U44      | CRF | ⋯ | 0.00000000 | 0.00000000 | 0.0000000 | NA     | NA        | 0.0000000 | 0.000000 |        NA |       NA | NA  |\n",
       "| N86-A052     | 34109 | 86 | A052       | 3-Nov-20  | 3-Nov  | 12 | r1_w | Acerv2   | UM  | ⋯ | 0.02574797 | 0.02900284 | 0.1319947 | DivNet | Aitchison | 0.8597444 | 2.087074 |        NA |       NA | NA  |\n",
       "| N88-Hom-H    | 17882 | 87 | Hom_Hea    | 31-Oct-20 | 31-Oct |  9 | NA   | NA       | NA  | ⋯ | 0.00000000 | 0.00000000 | 0.0000000 | NA     | NA        | 0.0000000 | 0.000000 |        NA |       NA | NA  |\n",
       "| N88-Hom-H-R2 | 75651 | 87 | Hom_Hea    | 31-Oct-20 | 31-Oct |  9 | NA   | NA       | NA  | ⋯ | 0.00000000 | 0.00000000 | 0.0000000 | NA     | NA        | 0.0000000 | 0.000000 |        NA |       NA | NA  |\n",
       "| N87-Hom-D    | 21207 | 88 | Hom_Dis_R1 | 31-Oct-20 | 31-Oct |  9 | NA   | NA       | NA  | ⋯ | 0.00000000 | 0.00000000 | 0.0000000 | NA     | NA        | 0.0000000 | 0.000000 |        NA |       NA | NA  |\n",
       "| N87-Hom-D-R2 | 35515 | 88 | Hom_Dis_R2 | 31-Oct-20 | 31-Oct |  9 | NA   | NA       | NA  | ⋯ | 0.00000000 | 0.00000000 | 0.0000000 | NA     | NA        | 0.0000000 | 0.000000 |        NA |       NA | NA  |\n",
       "| N89-A053     | 25245 | 89 | A053       | 3-Nov-20  | 3-Nov  | 12 | NA   | Acerv2   | UM  | ⋯ | 0.07503098 | 0.08957204 | 0.3896960 | DivNet | Aitchison | 0.8822580 | 2.382149 |        NA |       NA | NA  |\n",
       "| N9-A048      | 45982 |  9 | A048       | 25-Oct-20 | 25-Oct |  4 | NA   | Acerv2   | UM  | ⋯ | 0.02574797 | 0.02900284 | 0.1319947 | DivNet | Aitchison | 0.8899929 | 2.310967 |        NA |       NA | NA  |\n",
       "| N90-A039     | 32331 | 90 | A039       | 3-Nov-20  | 3-Nov  | 12 | NA   | Acerv2   | UM  | ⋯ | 0.07503098 | 0.08957204 | 0.3896960 | DivNet | Aitchison | 0.9255148 | 2.993135 |        NA |       NA | NA  |\n",
       "| N91-A041     | 39874 | 91 | A041       | 3-Nov-20  | 3-Nov  | 12 | NA   | Acerv2   | UM  | ⋯ | 0.07503098 | 0.08957204 | 0.3896960 | DivNet | Aitchison | 0.8722367 | 2.243221 |        NA |       NA | NA  |\n",
       "| N92-A007     | 35656 | 92 | A007       | 4-Nov-20  | 4-Nov  | 13 | NA   | Kelsey-1 | UM  | ⋯ | 0.02574797 | 0.02900284 | 0.1319947 | DivNet | Aitchison | 0.9693917 | 3.949222 |        NA |       NA | NA  |\n",
       "| N93-A121     | 44416 | 93 | A121       | 4-Nov-20  | 4-Nov  | 13 | NA   | U44      | CRF | ⋯ | 0.07503098 | 0.08957204 | 0.3896960 | DivNet | Aitchison | 0.9856757 | 4.605271 |        NA |       NA | NA  |\n",
       "| N94-A091     | 78835 | 94 | A091       | 4-Nov-20  | 4-Nov  | 13 | r1_w | U44      | CRF | ⋯ | 0.02574797 | 0.02900284 | 0.1319947 | DivNet | Aitchison | 0.9806817 | 4.401609 | 0.9817737 | 4.577481 | U44 |\n",
       "| N95-215      | 26442 | 95 | 215        | 4-Nov-20  | 4-Nov  | 13 | r1_w | FM9      | FWC | ⋯ | 0.02574797 | 0.02900284 | 0.1319947 | DivNet | Aitchison | 0.8765775 | 2.276747 |        NA |       NA | NA  |\n",
       "| N96-231      | 36569 | 96 | 231        | 4-Nov-20  | 4-Nov  | 13 | NA   | FM6      | FWC | ⋯ | 0.02574797 | 0.02900284 | 0.1319947 | DivNet | Aitchison | 0.8600947 | 2.030041 |        NA |       NA | NA  |\n",
       "| N97-205      | 37212 | 97 | 205        | 4-Nov-20  | 4-Nov  | 13 | NA   | FM9      | FWC | ⋯ | 0.07503098 | 0.08957204 | 0.3896960 | DivNet | Aitchison | 0.9201420 | 3.113018 |        NA |       NA | NA  |\n",
       "| N98-253      | 34127 | 98 | 253        | 4-Nov-20  | 4-Nov  | 13 | NA   | FM6      | FWC | ⋯ | 0.07503098 | 0.08957204 | 0.3896960 | DivNet | Aitchison | 0.9623337 | 3.747277 |        NA |       NA | NA  |\n",
       "| N99-A036     | 75575 | 99 | A036       | 4-Nov-20  | 4-Nov  | 13 | NA   | Cooper-9 | UM  | ⋯ | 0.02574797 | 0.02900284 | 0.1319947 | DivNet | Aitchison | 0.9905988 | 4.968097 |        NA |       NA | NA  |\n",
       "| NEC          | 32359 | NA | NA         | NA        | NA     | NA | NA   | NTC      | NA  | ⋯ | 0.00000000 | 0.00000000 | 0.0000000 | NA     | NA        | 0.0000000 | 0.000000 |        NA |       NA | NA  |\n",
       "| NTC-1        |  2054 | NA | NA         | NA        | NA     | NA | NA   | NTC      | NA  | ⋯ | 0.00000000 | 0.00000000 | 0.0000000 | NA     | NA        | 0.0000000 | 0.000000 |        NA |       NA | NA  |\n",
       "| NTC-2        |  2892 | NA | NA         | NA        | NA     | NA | NA   | NTC      | NA  | ⋯ | 0.00000000 | 0.00000000 | 0.0000000 | NA     | NA        | 0.0000000 | 0.000000 |        NA |       NA | NA  |\n",
       "| NTC-PCR1     | 22555 | NA | NA         | NA        | NA     | NA | NA   | NTC      | NA  | ⋯ | 0.00000000 | 0.00000000 | 0.0000000 | NA     | NA        | 0.0000000 | 0.000000 |        NA |       NA | NA  |\n",
       "| NTC-PCR2     | 17711 | NA | NA         | NA        | NA     | NA | NA   | NTC      | NA  | ⋯ | 0.00000000 | 0.00000000 | 0.0000000 | NA     | NA        | 0.0000000 | 0.000000 |        NA |       NA | NA  |\n",
       "\n"
      ],
      "text/plain": [
       "    sample_names featurecounts Initial_sample_ID Tag        Date_Collected\n",
       "1   N1-Hom-H     48625           1               Hom_R1     NA            \n",
       "2   N10-A019     23078          10               A019       25-Oct-20     \n",
       "3   N100-A027    46139         100               A027       4-Nov-20      \n",
       "4   N101-A118    37571         101               A118       4-Nov-20      \n",
       "5   N127-A047    24293         127               A047       6-Nov-20      \n",
       "6   N189-A062    33094         189               A062       9-Nov-20      \n",
       "7   N198-A047    34081         198               A047       10-Nov-20     \n",
       "8   N105-258     24540         105               258        5-Nov-20      \n",
       "9   N106-A051    28128         106               A051       5-Nov-20      \n",
       "10  N107-162     56431         107               162        5-Nov-20      \n",
       "11  N108-A188    44424         108               A188       5-Nov-20      \n",
       "12  N109-A101    35834         109               A101       5-Nov-20      \n",
       "13  N11-A153     27631          11               A153       26-Oct-20     \n",
       "14  N110-A045    39551         110               A045       5-Nov-20      \n",
       "15  N111-A010    34346         111               A010       5-Nov-20      \n",
       "16  N112-A005    42758         112               A005       5-Nov-20      \n",
       "17  N113-A016    30839         113               A016       5-Nov-20      \n",
       "18  N114-281     35338         114               281        5-Nov-20      \n",
       "19  N115-247     24933         115               247        5-Nov-20      \n",
       "20  N116-A058    50041         116               A058       5-Nov-20      \n",
       "21  N117-163     43137         117               163        5-Nov-20      \n",
       "22  N118-176     37625         118               176        5-Nov-20      \n",
       "23  N119-A107    40509         119               A107       5-Nov-20      \n",
       "24  N12-A008     48424          12               A008       26-Oct-20     \n",
       "25  N120-183     30622         120               183        5-Nov-20      \n",
       "26  N199-A055    24762         199               A055       10-Nov-20     \n",
       "27  N122-A170    39148         122               A170       5-Nov-20      \n",
       "28  N200-A062    35489         200               A062       10-Nov-20     \n",
       "29  N40-A055     33440          40               A055       30-Oct-20     \n",
       "30  N50-A043     23483          50               A043       30-Oct-20     \n",
       "⋮   ⋮            ⋮             ⋮                 ⋮          ⋮             \n",
       "255 N79-A097     32654         79                A097       31-Oct-20     \n",
       "256 N8-A060      25759          8                A060       24-Oct-20     \n",
       "257 N80-A022     34118         80                A022       31-Oct-20     \n",
       "258 N81-A021     42489         81                A021       1-Nov-20      \n",
       "259 N82-A056     43725         82                A056       2-Nov-20      \n",
       "260 N83-A046     41686         83                A046       3-Nov-20      \n",
       "261 N84-A030     23551         84                A030       3-Nov-20      \n",
       "262 N52-A122     45464         52                A122       30-Oct-20     \n",
       "263 N86-A052     34109         86                A052       3-Nov-20      \n",
       "264 N88-Hom-H    17882         87                Hom_Hea    31-Oct-20     \n",
       "265 N88-Hom-H-R2 75651         87                Hom_Hea    31-Oct-20     \n",
       "266 N87-Hom-D    21207         88                Hom_Dis_R1 31-Oct-20     \n",
       "267 N87-Hom-D-R2 35515         88                Hom_Dis_R2 31-Oct-20     \n",
       "268 N89-A053     25245         89                A053       3-Nov-20      \n",
       "269 N9-A048      45982          9                A048       25-Oct-20     \n",
       "270 N90-A039     32331         90                A039       3-Nov-20      \n",
       "271 N91-A041     39874         91                A041       3-Nov-20      \n",
       "272 N92-A007     35656         92                A007       4-Nov-20      \n",
       "273 N93-A121     44416         93                A121       4-Nov-20      \n",
       "274 N94-A091     78835         94                A091       4-Nov-20      \n",
       "275 N95-215      26442         95                215        4-Nov-20      \n",
       "276 N96-231      36569         96                231        4-Nov-20      \n",
       "277 N97-205      37212         97                205        4-Nov-20      \n",
       "278 N98-253      34127         98                253        4-Nov-20      \n",
       "279 N99-A036     75575         99                A036       4-Nov-20      \n",
       "280 NEC          32359         NA                NA         NA            \n",
       "281 NTC-1         2054         NA                NA         NA            \n",
       "282 NTC-2         2892         NA                NA         NA            \n",
       "283 NTC-PCR1     22555         NA                NA         NA            \n",
       "284 NTC-PCR2     17711         NA                NA         NA            \n",
       "    Date   TimePoint Replicate Genotype.x Nursery ⋯ error      lower     \n",
       "1   NA     NA        NA        NA         NA      ⋯ 0.00000000 0.00000000\n",
       "2   25-Oct  4        NA        Cooper-9   UM      ⋯ 0.02574797 0.02900284\n",
       "3   4-Nov  13        NA        Cooper-9   UM      ⋯ 0.07503098 0.08957204\n",
       "4   4-Nov  13        NA        U41        CRF     ⋯ 0.00000000 0.00000000\n",
       "5   6-Nov  15        r1_w      Acerv2     UM      ⋯ 0.02574797 0.02900284\n",
       "6   9-Nov  18        r1_w      Acerv2     UM      ⋯ 0.02574797 0.02900284\n",
       "7   10-Nov 19        r2_w      Acerv2     UM      ⋯ 0.02574797 0.02900284\n",
       "8   5-Nov  14        r1_w      FM6        FWC     ⋯ 0.02574797 0.02900284\n",
       "9   5-Nov  14        r1_w      Acerv2     UM      ⋯ 0.02574797 0.02900284\n",
       "10  5-Nov  14        NA        K2         CRF     ⋯ 0.02574797 0.02900284\n",
       "11  5-Nov  14        NA        FM19       FWC     ⋯ 0.02574797 0.02900284\n",
       "12  5-Nov  14        NA        Kelsey-1   UM      ⋯ 0.02574797 0.02900284\n",
       "13  26-Oct  5        NA        Kelsey-1   UM      ⋯ 0.07503098 0.08957204\n",
       "14  5-Nov  14        NA        Acerv2     UM      ⋯ 0.02574797 0.02900284\n",
       "15  5-Nov  14        NA        Kelsey-1   UM      ⋯ 0.02574797 0.02900284\n",
       "16  5-Nov  14        NA        Kelsey-1   UM      ⋯ 0.07503098 0.08957204\n",
       "17  5-Nov  14        NA        Cooper-9   UM      ⋯ 0.07503098 0.08957204\n",
       "18  5-Nov  14        NA        FM14       FWC     ⋯ 0.07503098 0.08957204\n",
       "19  5-Nov  14        NA        FM6        FWC     ⋯ 0.07503098 0.08957204\n",
       "20  5-Nov  14        NA        Acerv2     UM      ⋯ 0.07503098 0.08957204\n",
       "21  5-Nov  14        NA        K2         CRF     ⋯ 0.07503098 0.08957204\n",
       "22  5-Nov  14        NA        FM19       FWC     ⋯ 0.07503098 0.08957204\n",
       "23  5-Nov  14        NA        U41        CRF     ⋯ 0.00000000 0.00000000\n",
       "24  26-Oct  5        NA        Kelsey-1   UM      ⋯ 0.02574797 0.02900284\n",
       "25  5-Nov  14        NA        FM19       FWC     ⋯ 0.07503098 0.08957204\n",
       "26  10-Nov 19        r2_w      Acerv2     UM      ⋯ 0.02574797 0.02900284\n",
       "27  5-Nov  14        NA        K2         CRF     ⋯ 0.07503098 0.08957204\n",
       "28  10-Nov 19        r2_w      Acerv2     UM      ⋯ 0.02574797 0.02900284\n",
       "29  30-Oct  8        NA        Acerv2     UM      ⋯ 0.00000000 0.00000000\n",
       "30  30-Oct  8        NA        Acerv2     UM      ⋯ 0.00000000 0.00000000\n",
       "⋮   ⋮      ⋮         ⋮         ⋮          ⋮       ⋱ ⋮          ⋮         \n",
       "255 31-Oct  9        NA        Kelsey-1   UM      ⋯ 0.07503098 0.08957204\n",
       "256 24-Oct  3        NA        Acerv2     UM      ⋯ 0.02574797 0.02900284\n",
       "257 31-Oct  9        NA        Cooper-9   UM      ⋯ 0.07503098 0.08957204\n",
       "258 1-Nov  10        NA        Cooper-9   UM      ⋯ 0.07503098 0.08957204\n",
       "259 2-Nov  11        NA        Acerv2     UM      ⋯ 0.02574797 0.02900284\n",
       "260 3-Nov  12        NA        Acerv2     UM      ⋯ 0.07503098 0.08957204\n",
       "261 3-Nov  12        NA        Cooper-9   UM      ⋯ 0.07503098 0.08957204\n",
       "262 30-Oct  8        NA        U44        CRF     ⋯ 0.00000000 0.00000000\n",
       "263 3-Nov  12        r1_w      Acerv2     UM      ⋯ 0.02574797 0.02900284\n",
       "264 31-Oct  9        NA        NA         NA      ⋯ 0.00000000 0.00000000\n",
       "265 31-Oct  9        NA        NA         NA      ⋯ 0.00000000 0.00000000\n",
       "266 31-Oct  9        NA        NA         NA      ⋯ 0.00000000 0.00000000\n",
       "267 31-Oct  9        NA        NA         NA      ⋯ 0.00000000 0.00000000\n",
       "268 3-Nov  12        NA        Acerv2     UM      ⋯ 0.07503098 0.08957204\n",
       "269 25-Oct  4        NA        Acerv2     UM      ⋯ 0.02574797 0.02900284\n",
       "270 3-Nov  12        NA        Acerv2     UM      ⋯ 0.07503098 0.08957204\n",
       "271 3-Nov  12        NA        Acerv2     UM      ⋯ 0.07503098 0.08957204\n",
       "272 4-Nov  13        NA        Kelsey-1   UM      ⋯ 0.02574797 0.02900284\n",
       "273 4-Nov  13        NA        U44        CRF     ⋯ 0.07503098 0.08957204\n",
       "274 4-Nov  13        r1_w      U44        CRF     ⋯ 0.02574797 0.02900284\n",
       "275 4-Nov  13        r1_w      FM9        FWC     ⋯ 0.02574797 0.02900284\n",
       "276 4-Nov  13        NA        FM6        FWC     ⋯ 0.02574797 0.02900284\n",
       "277 4-Nov  13        NA        FM9        FWC     ⋯ 0.07503098 0.08957204\n",
       "278 4-Nov  13        NA        FM6        FWC     ⋯ 0.07503098 0.08957204\n",
       "279 4-Nov  13        NA        Cooper-9   UM      ⋯ 0.02574797 0.02900284\n",
       "280 NA     NA        NA        NTC        NA      ⋯ 0.00000000 0.00000000\n",
       "281 NA     NA        NA        NTC        NA      ⋯ 0.00000000 0.00000000\n",
       "282 NA     NA        NA        NTC        NA      ⋯ 0.00000000 0.00000000\n",
       "283 NA     NA        NA        NTC        NA      ⋯ 0.00000000 0.00000000\n",
       "284 NA     NA        NA        NTC        NA      ⋯ 0.00000000 0.00000000\n",
       "    upper     name   model     Simpson.x Shannon.x Simpson.y Shannon.y\n",
       "1   0.0000000 NA     NA        0.0000000 0.000000         NA       NA \n",
       "2   0.1319947 DivNet Aitchison 0.9165302 2.688475         NA       NA \n",
       "3   0.3896960 DivNet Aitchison 0.9926911 5.172919         NA       NA \n",
       "4   0.0000000 NA     NA        0.0000000 0.000000         NA       NA \n",
       "5   0.1319947 DivNet Aitchison 0.8769562 2.257091  0.8744701 2.253047 \n",
       "6   0.1319947 DivNet Aitchison 0.8647953 2.130399  0.8640481 2.112938 \n",
       "7   0.1319947 DivNet Aitchison 0.8660828 2.122986  0.8682949 2.151514 \n",
       "8   0.1319947 DivNet Aitchison 0.8528757 1.994060         NA       NA \n",
       "9   0.1319947 DivNet Aitchison 0.8614911 2.069874         NA       NA \n",
       "10  0.1319947 DivNet Aitchison 0.8641231 2.106718         NA       NA \n",
       "11  0.1319947 DivNet Aitchison 0.8670722 2.182338         NA       NA \n",
       "12  0.1319947 DivNet Aitchison 0.8772497 2.305193         NA       NA \n",
       "13  0.3896960 DivNet Aitchison 0.8911621 2.303332         NA       NA \n",
       "14  0.1319947 DivNet Aitchison 0.8710343 2.209817         NA       NA \n",
       "15  0.1319947 DivNet Aitchison 0.8738840 2.262411         NA       NA \n",
       "16  0.3896960 DivNet Aitchison 0.8871195 2.582657         NA       NA \n",
       "17  0.3896960 DivNet Aitchison 0.9260071 3.229251         NA       NA \n",
       "18  0.3896960 DivNet Aitchison 0.9323077 3.244866         NA       NA \n",
       "19  0.3896960 DivNet Aitchison 0.9810130 4.232491         NA       NA \n",
       "20  0.3896960 DivNet Aitchison 0.9155598 2.994778         NA       NA \n",
       "21  0.3896960 DivNet Aitchison 0.9689988 4.008343         NA       NA \n",
       "22  0.3896960 DivNet Aitchison 0.9746604 4.094977         NA       NA \n",
       "23  0.0000000 NA     NA        0.0000000 0.000000         NA       NA \n",
       "24  0.1319947 DivNet Aitchison 0.8919527 2.338363         NA       NA \n",
       "25  0.3896960 DivNet Aitchison 0.9441515 3.163739         NA       NA \n",
       "26  0.1319947 DivNet Aitchison 0.9013112 2.680170  0.9045050 2.775550 \n",
       "27  0.3896960 DivNet Aitchison 0.9424331 3.430595         NA       NA \n",
       "28  0.1319947 DivNet Aitchison 0.8730935 2.267805  0.8736782 2.271398 \n",
       "29  0.0000000 NA     NA        0.0000000 0.000000  0.8629048 2.096746 \n",
       "30  0.0000000 NA     NA        0.0000000 0.000000  0.8607804 2.055303 \n",
       "⋮   ⋮         ⋮      ⋮         ⋮         ⋮         ⋮         ⋮        \n",
       "255 0.3896960 DivNet Aitchison 0.8935811 2.565693         NA       NA \n",
       "256 0.1319947 DivNet Aitchison 0.9701775 4.163794         NA       NA \n",
       "257 0.3896960 DivNet Aitchison 0.9473041 3.245691         NA       NA \n",
       "258 0.3896960 DivNet Aitchison 0.9834178 4.537948         NA       NA \n",
       "259 0.1319947 DivNet Aitchison 0.9857846 4.605077         NA       NA \n",
       "260 0.3896960 DivNet Aitchison 0.9442272 3.440185         NA       NA \n",
       "261 0.3896960 DivNet Aitchison 0.9888142 4.696333         NA       NA \n",
       "262 0.0000000 NA     NA        0.0000000 0.000000         NA       NA \n",
       "263 0.1319947 DivNet Aitchison 0.8597444 2.087074         NA       NA \n",
       "264 0.0000000 NA     NA        0.0000000 0.000000         NA       NA \n",
       "265 0.0000000 NA     NA        0.0000000 0.000000         NA       NA \n",
       "266 0.0000000 NA     NA        0.0000000 0.000000         NA       NA \n",
       "267 0.0000000 NA     NA        0.0000000 0.000000         NA       NA \n",
       "268 0.3896960 DivNet Aitchison 0.8822580 2.382149         NA       NA \n",
       "269 0.1319947 DivNet Aitchison 0.8899929 2.310967         NA       NA \n",
       "270 0.3896960 DivNet Aitchison 0.9255148 2.993135         NA       NA \n",
       "271 0.3896960 DivNet Aitchison 0.8722367 2.243221         NA       NA \n",
       "272 0.1319947 DivNet Aitchison 0.9693917 3.949222         NA       NA \n",
       "273 0.3896960 DivNet Aitchison 0.9856757 4.605271         NA       NA \n",
       "274 0.1319947 DivNet Aitchison 0.9806817 4.401609  0.9817737 4.577481 \n",
       "275 0.1319947 DivNet Aitchison 0.8765775 2.276747         NA       NA \n",
       "276 0.1319947 DivNet Aitchison 0.8600947 2.030041         NA       NA \n",
       "277 0.3896960 DivNet Aitchison 0.9201420 3.113018         NA       NA \n",
       "278 0.3896960 DivNet Aitchison 0.9623337 3.747277         NA       NA \n",
       "279 0.1319947 DivNet Aitchison 0.9905988 4.968097         NA       NA \n",
       "280 0.0000000 NA     NA        0.0000000 0.000000         NA       NA \n",
       "281 0.0000000 NA     NA        0.0000000 0.000000         NA       NA \n",
       "282 0.0000000 NA     NA        0.0000000 0.000000         NA       NA \n",
       "283 0.0000000 NA     NA        0.0000000 0.000000         NA       NA \n",
       "284 0.0000000 NA     NA        0.0000000 0.000000         NA       NA \n",
       "    Genotype.y\n",
       "1   NA        \n",
       "2   NA        \n",
       "3   NA        \n",
       "4   NA        \n",
       "5   Acerv2    \n",
       "6   Acerv2    \n",
       "7   Acerv2    \n",
       "8   NA        \n",
       "9   NA        \n",
       "10  NA        \n",
       "11  NA        \n",
       "12  NA        \n",
       "13  NA        \n",
       "14  NA        \n",
       "15  NA        \n",
       "16  NA        \n",
       "17  NA        \n",
       "18  NA        \n",
       "19  NA        \n",
       "20  NA        \n",
       "21  NA        \n",
       "22  NA        \n",
       "23  NA        \n",
       "24  NA        \n",
       "25  NA        \n",
       "26  Acerv2    \n",
       "27  NA        \n",
       "28  Acerv2    \n",
       "29  Acerv2    \n",
       "30  Acerv2    \n",
       "⋮   ⋮         \n",
       "255 NA        \n",
       "256 NA        \n",
       "257 NA        \n",
       "258 NA        \n",
       "259 NA        \n",
       "260 NA        \n",
       "261 NA        \n",
       "262 NA        \n",
       "263 NA        \n",
       "264 NA        \n",
       "265 NA        \n",
       "266 NA        \n",
       "267 NA        \n",
       "268 NA        \n",
       "269 NA        \n",
       "270 NA        \n",
       "271 NA        \n",
       "272 NA        \n",
       "273 NA        \n",
       "274 U44       \n",
       "275 NA        \n",
       "276 NA        \n",
       "277 NA        \n",
       "278 NA        \n",
       "279 NA        \n",
       "280 NA        \n",
       "281 NA        \n",
       "282 NA        \n",
       "283 NA        \n",
       "284 NA        "
      ]
     },
     "metadata": {},
     "output_type": "display_data"
    }
   ],
   "source": [
    "combined_shannon_rare_AP <- meta %>%\n",
    "  left_join(adiv_AP,\n",
    "            by = \"sample_names\")\n",
    "combined_shannon_rare_AP"
   ]
  },
  {
   "cell_type": "code",
   "execution_count": 71,
   "id": "2a3af60e",
   "metadata": {},
   "outputs": [],
   "source": [
    "write.csv(combined_shannon_rare, \n",
    "       \"/Users/stephanie.rosales/Documents/omics_projects/Resitada/combined_shannon_rare.csv\")\n",
    "\n",
    "write.csv(combined_shannon_rare_AP,\n",
    "       \"/Users/stephanie.rosales/Documents/omics_projects/Resitada/combined_shannon_rare_AP.csv\")"
   ]
  },
  {
   "cell_type": "code",
   "execution_count": 26,
   "id": "799dfc07",
   "metadata": {},
   "outputs": [
    {
     "data": {
      "text/html": [
       "<style>\n",
       ".list-inline {list-style: none; margin:0; padding: 0}\n",
       ".list-inline>li {display: inline-block}\n",
       ".list-inline>li:not(:last-child)::after {content: \"\\00b7\"; padding: 0 .5ex}\n",
       "</style>\n",
       "<ol class=list-inline><li>284</li><li>55</li></ol>\n"
      ],
      "text/latex": [
       "\\begin{enumerate*}\n",
       "\\item 284\n",
       "\\item 55\n",
       "\\end{enumerate*}\n"
      ],
      "text/markdown": [
       "1. 284\n",
       "2. 55\n",
       "\n",
       "\n"
      ],
      "text/plain": [
       "[1] 284  55"
      ]
     },
     "metadata": {},
     "output_type": "display_data"
    },
    {
     "data": {
      "text/html": [
       "<style>\n",
       ".list-inline {list-style: none; margin:0; padding: 0}\n",
       ".list-inline>li {display: inline-block}\n",
       ".list-inline>li:not(:last-child)::after {content: \"\\00b7\"; padding: 0 .5ex}\n",
       "</style>\n",
       "<ol class=list-inline><li>192</li><li>55</li></ol>\n"
      ],
      "text/latex": [
       "\\begin{enumerate*}\n",
       "\\item 192\n",
       "\\item 55\n",
       "\\end{enumerate*}\n"
      ],
      "text/markdown": [
       "1. 192\n",
       "2. 55\n",
       "\n",
       "\n"
      ],
      "text/plain": [
       "[1] 192  55"
      ]
     },
     "metadata": {},
     "output_type": "display_data"
    }
   ],
   "source": [
    "meta = read.csv(\"/Users/stephanie.rosales/Documents/omics_projects/Resitada/metadata_RESISTADA.csv\", \n",
    "                header = T, row.names = 1,\n",
    "na.strings = c(\"\", \"NA\"))\n",
    "dim(meta)\n",
    "\n",
    "meta1 = meta %>%\n",
    "filter(estimate>0)\n",
    "dim(meta1)"
   ]
  },
  {
   "cell_type": "code",
   "execution_count": 72,
   "id": "19c9da37",
   "metadata": {},
   "outputs": [
    {
     "data": {
      "text/html": [
       "<style>\n",
       ".list-inline {list-style: none; margin:0; padding: 0}\n",
       ".list-inline>li {display: inline-block}\n",
       ".list-inline>li:not(:last-child)::after {content: \"\\00b7\"; padding: 0 .5ex}\n",
       "</style>\n",
       "<ol class=list-inline><li>284</li><li>55</li></ol>\n"
      ],
      "text/latex": [
       "\\begin{enumerate*}\n",
       "\\item 284\n",
       "\\item 55\n",
       "\\end{enumerate*}\n"
      ],
      "text/markdown": [
       "1. 284\n",
       "2. 55\n",
       "\n",
       "\n"
      ],
      "text/plain": [
       "[1] 284  55"
      ]
     },
     "metadata": {},
     "output_type": "display_data"
    },
    {
     "data": {
      "text/html": [
       "<style>\n",
       ".list-inline {list-style: none; margin:0; padding: 0}\n",
       ".list-inline>li {display: inline-block}\n",
       ".list-inline>li:not(:last-child)::after {content: \"\\00b7\"; padding: 0 .5ex}\n",
       "</style>\n",
       "<ol class=list-inline><li>192</li><li>55</li></ol>\n"
      ],
      "text/latex": [
       "\\begin{enumerate*}\n",
       "\\item 192\n",
       "\\item 55\n",
       "\\end{enumerate*}\n"
      ],
      "text/markdown": [
       "1. 192\n",
       "2. 55\n",
       "\n",
       "\n"
      ],
      "text/plain": [
       "[1] 192  55"
      ]
     },
     "metadata": {},
     "output_type": "display_data"
    }
   ],
   "source": [
    "meta_AP = read.csv(\"/Users/stephanie.rosales/Documents/omics_projects/Resitada/metadata_RESISTADA.csv\", \n",
    "                header = T, row.names = 1,\n",
    "na.strings = c(\"\", \"NA\"))\n",
    "dim(meta)\n",
    "\n",
    "meta1_AP = meta_AP %>%\n",
    "filter(estimate>0)\n",
    "dim(meta1)"
   ]
  },
  {
   "cell_type": "code",
   "execution_count": 73,
   "id": "b1bb550e",
   "metadata": {},
   "outputs": [
    {
     "data": {
      "text/html": [
       "<style>\n",
       ".list-inline {list-style: none; margin:0; padding: 0}\n",
       ".list-inline>li {display: inline-block}\n",
       ".list-inline>li:not(:last-child)::after {content: \"\\00b7\"; padding: 0 .5ex}\n",
       "</style>\n",
       "<ol class=list-inline><li>42</li><li>55</li></ol>\n"
      ],
      "text/latex": [
       "\\begin{enumerate*}\n",
       "\\item 42\n",
       "\\item 55\n",
       "\\end{enumerate*}\n"
      ],
      "text/markdown": [
       "1. 42\n",
       "2. 55\n",
       "\n",
       "\n"
      ],
      "text/plain": [
       "[1] 42 55"
      ]
     },
     "metadata": {},
     "output_type": "display_data"
    },
    {
     "data": {
      "text/plain": [
       "Linear mixed model fit by REML ['lmerMod']\n",
       "Formula: Shannon ~ -1 + Genotype + (1 | Tag)\n",
       "   Data: ambient_PL\n",
       "\n",
       "REML criterion at convergence: 72\n",
       "\n",
       "Scaled residuals: \n",
       "     Min       1Q   Median       3Q      Max \n",
       "-1.93147 -0.34144 -0.04795  0.15992  2.01281 \n",
       "\n",
       "Random effects:\n",
       " Groups   Name        Variance Std.Dev.\n",
       " Tag      (Intercept) 0.04976  0.2231  \n",
       " Residual             0.31996  0.5657  \n",
       "Number of obs: 42, groups:  Tag, 28\n",
       "\n",
       "Fixed effects:\n",
       "                 Estimate Std. Error t value\n",
       "GenotypeAcerv2     2.2517     0.2644   8.516\n",
       "GenotypeCooper-9   2.3529     0.2858   8.232\n",
       "GenotypeElkhorn    2.8677     0.3658   7.839\n",
       "GenotypeFM14       2.0729     0.3135   6.613\n",
       "GenotypeFM19       2.2989     0.3511   6.548\n",
       "GenotypeFM6        2.5028     0.3511   7.129\n",
       "GenotypeFM9        2.3127     0.3511   6.588\n",
       "GenotypeK2         2.4676     0.3238   7.620\n",
       "GenotypeKelsey-1   2.4936     0.2858   8.724\n",
       "GenotypeU44        4.1400     0.2644  15.657\n",
       "\n",
       "Correlation of Fixed Effects:\n",
       "            GntyA2 GntC-9 GntypE GnFM14 GnFM19 GntFM6 GntFM9 GntyK2 GntK-1\n",
       "GentypCpr-9 0.000                                                         \n",
       "GntypElkhrn 0.000  0.000                                                  \n",
       "GenotypFM14 0.000  0.000  0.000                                           \n",
       "GenotypFM19 0.000  0.000  0.000  0.000                                    \n",
       "GenotypeFM6 0.000  0.000  0.000  0.000  0.000                             \n",
       "GenotypeFM9 0.000  0.000  0.000  0.000  0.000  0.000                      \n",
       "GenotypeK2  0.000  0.000  0.000  0.000  0.000  0.000  0.000               \n",
       "GntypKlsy-1 0.000  0.000  0.000  0.000  0.000  0.000  0.000  0.000        \n",
       "GenotypeU44 0.000  0.000  0.000  0.000  0.000  0.000  0.000  0.000  0.000 "
      ]
     },
     "metadata": {},
     "output_type": "display_data"
    },
    {
     "data": {
      "text/plain": [
       "$emmeans\n",
       " Genotype emmean    SE   df lower.CL upper.CL\n",
       " Acerv2     2.25 0.264 10.9     1.67     2.83\n",
       " Cooper-9   2.35 0.289 13.7     1.73     2.97\n",
       " Elkhorn    2.87 0.372 15.9     2.08     3.66\n",
       " FM14       2.07 0.319 19.0     1.41     2.74\n",
       " FM19       2.30 0.351 28.8     1.58     3.02\n",
       " FM6        2.50 0.351 28.8     1.78     3.22\n",
       " FM9        2.31 0.351 28.8     1.59     3.03\n",
       " K2         2.47 0.324 10.9     1.75     3.18\n",
       " Kelsey-1   2.49 0.289 13.7     1.87     3.12\n",
       " U44        4.14 0.264 10.9     3.56     4.72\n",
       "\n",
       "Degrees-of-freedom method: kenward-roger \n",
       "Confidence level used: 0.95 \n",
       "\n",
       "$contrasts\n",
       " contrast                estimate    SE   df t.ratio p.value\n",
       " Acerv2 - (Cooper-9)     -0.10114 0.392 12.3  -0.258  1.0000\n",
       " Acerv2 - Elkhorn        -0.61597 0.456 13.9  -1.350  0.9238\n",
       " Acerv2 - FM14            0.17885 0.414 15.0   0.432  1.0000\n",
       " Acerv2 - FM19           -0.04717 0.439 21.1  -0.107  1.0000\n",
       " Acerv2 - FM6            -0.25110 0.439 21.1  -0.571  0.9998\n",
       " Acerv2 - FM9            -0.06100 0.439 21.1  -0.139  1.0000\n",
       " Acerv2 - K2             -0.21591 0.418 10.9  -0.516  0.9999\n",
       " Acerv2 - (Kelsey-1)     -0.24192 0.392 12.3  -0.617  0.9996\n",
       " Acerv2 - U44            -1.88829 0.374 10.9  -5.050  0.0088\n",
       " (Cooper-9) - Elkhorn    -0.51483 0.471 15.0  -1.093  0.9780\n",
       " (Cooper-9) - FM14        0.27999 0.431 16.4   0.650  0.9995\n",
       " (Cooper-9) - FM19        0.05397 0.455 22.3   0.119  1.0000\n",
       " (Cooper-9) - FM6        -0.14996 0.455 22.3  -0.330  1.0000\n",
       " (Cooper-9) - FM9         0.04014 0.455 22.3   0.088  1.0000\n",
       " (Cooper-9) - K2         -0.11477 0.434 12.0  -0.264  1.0000\n",
       " (Cooper-9) - (Kelsey-1) -0.14078 0.409 13.7  -0.344  1.0000\n",
       " (Cooper-9) - U44        -1.78715 0.392 12.3  -4.560  0.0144\n",
       " Elkhorn - FM14           0.79483 0.490 17.1   1.623  0.8205\n",
       " Elkhorn - FM19           0.56881 0.511 21.8   1.112  0.9779\n",
       " Elkhorn - FM6            0.36487 0.511 21.8   0.714  0.9991\n",
       " Elkhorn - FM9            0.55497 0.511 21.8   1.085  0.9812\n",
       " Elkhorn - K2             0.40007 0.493 13.4   0.811  0.9970\n",
       " Elkhorn - (Kelsey-1)     0.37406 0.471 15.0   0.794  0.9976\n",
       " Elkhorn - U44           -1.27232 0.456 13.9  -2.789  0.2288\n",
       " FM14 - FM19             -0.22602 0.474 24.5  -0.477  1.0000\n",
       " FM14 - FM6              -0.42995 0.474 24.5  -0.907  0.9947\n",
       " FM14 - FM9              -0.23985 0.474 24.5  -0.506  0.9999\n",
       " FM14 - K2               -0.39476 0.455 14.2  -0.869  0.9952\n",
       " FM14 - (Kelsey-1)       -0.42077 0.431 16.4  -0.977  0.9898\n",
       " FM14 - U44              -2.06714 0.414 15.0  -4.990  0.0045\n",
       " FM19 - FM6              -0.20393 0.496 28.8  -0.411  1.0000\n",
       " FM19 - FM9              -0.01384 0.496 28.8  -0.028  1.0000\n",
       " FM19 - K2               -0.16874 0.478 19.1  -0.353  1.0000\n",
       " FM19 - (Kelsey-1)       -0.19475 0.455 22.3  -0.428  1.0000\n",
       " FM19 - U44              -1.84112 0.439 21.1  -4.189  0.0118\n",
       " FM6 - FM9                0.19010 0.496 28.8   0.383  1.0000\n",
       " FM6 - K2                 0.03519 0.478 19.1   0.074  1.0000\n",
       " FM6 - (Kelsey-1)         0.00918 0.455 22.3   0.020  1.0000\n",
       " FM6 - U44               -1.63719 0.439 21.1  -3.725  0.0325\n",
       " FM9 - K2                -0.15491 0.478 19.1  -0.324  1.0000\n",
       " FM9 - (Kelsey-1)        -0.18092 0.455 22.3  -0.398  1.0000\n",
       " FM9 - U44               -1.82729 0.439 21.1  -4.158  0.0127\n",
       " K2 - (Kelsey-1)         -0.02601 0.434 12.0  -0.060  1.0000\n",
       " K2 - U44                -1.67238 0.418 10.9  -4.000  0.0422\n",
       " (Kelsey-1) - U44        -1.64637 0.392 12.3  -4.201  0.0259\n",
       "\n",
       "Degrees-of-freedom method: kenward-roger \n",
       "P value adjustment: tukey method for comparing a family of 10 estimates \n"
      ]
     },
     "metadata": {},
     "output_type": "display_data"
    }
   ],
   "source": [
    "ambient_PL= meta1_AP %>%\n",
    "filter(Nutrients == \"Ambient\", Diseased==\"Placebo\", )\n",
    "\n",
    "dim(ambient_PL)\n",
    "\n",
    "\n",
    "mixed.lmer_geno <- lmer(Shannon ~ -1 + Genotype + (1|Tag) , data =ambient_PL)\n",
    "summary(mixed.lmer_geno)\n",
    "\n",
    "emmeans(mixed.lmer_geno, pairwise ~ -1 + Genotype, adjust=\"tukey\")"
   ]
  },
  {
   "cell_type": "code",
   "execution_count": 28,
   "id": "5a0a74f6",
   "metadata": {},
   "outputs": [
    {
     "data": {
      "text/html": [
       "<style>\n",
       ".list-inline {list-style: none; margin:0; padding: 0}\n",
       ".list-inline>li {display: inline-block}\n",
       ".list-inline>li:not(:last-child)::after {content: \"\\00b7\"; padding: 0 .5ex}\n",
       "</style>\n",
       "<ol class=list-inline><li>106</li><li>55</li></ol>\n"
      ],
      "text/latex": [
       "\\begin{enumerate*}\n",
       "\\item 106\n",
       "\\item 55\n",
       "\\end{enumerate*}\n"
      ],
      "text/markdown": [
       "1. 106\n",
       "2. 55\n",
       "\n",
       "\n"
      ],
      "text/plain": [
       "[1] 106  55"
      ]
     },
     "metadata": {},
     "output_type": "display_data"
    },
    {
     "data": {
      "text/html": [
       "<style>\n",
       ".list-inline {list-style: none; margin:0; padding: 0}\n",
       ".list-inline>li {display: inline-block}\n",
       ".list-inline>li:not(:last-child)::after {content: \"\\00b7\"; padding: 0 .5ex}\n",
       "</style>\n",
       "<ol class=list-inline><li>'NH4_Placebo'</li><li>'Ambient_Placebo'</li><li>'Ambient_Placebo'</li><li>'Ambient_Placebo'</li><li>'NH4_Placebo'</li><li>'NH4_Placebo'</li><li>'NH4_Placebo'</li><li>'NH4_Placebo'</li><li>'NH4_Placebo'</li><li>'NH4_Placebo'</li><li>'NH4_Placebo'</li><li>'NH4_Placebo'</li><li>'Ambient_Placebo'</li><li>'Ambient_Placebo'</li><li>'Ambient_Placebo'</li><li>'Ambient_Placebo'</li><li>'NH4_Placebo'</li><li>'NH4_Placebo'</li><li>'NH4_Placebo'</li><li>'NH4_Placebo'</li><li>'Ambient_Placebo'</li><li>'Ambient_Placebo'</li><li>'NH4_Placebo'</li><li>'NH4_Placebo'</li><li>'NH4_Placebo'</li><li>'NH4_Placebo'</li><li>'NH4_Placebo'</li><li>'NH4_Placebo'</li><li>'NH4_Placebo'</li><li>'Ambient_Placebo'</li><li>'Ambient_Placebo'</li><li>'NH4_Placebo'</li><li>'Ambient_Placebo'</li><li>'NH4_Placebo'</li><li>'Ambient_Placebo'</li><li>'NH4_Placebo'</li><li>'Ambient_Placebo'</li><li>'NH4_Placebo'</li><li>'NH4_Placebo'</li><li>'NH4_Placebo'</li><li>'NH4_Placebo'</li><li>'Ambient_Placebo'</li><li>'Ambient_Placebo'</li><li>'NH4_Placebo'</li><li>'Ambient_Placebo'</li><li>'Ambient_Placebo'</li><li>'Ambient_Placebo'</li><li>'Ambient_Placebo'</li><li>'Ambient_Placebo'</li><li>'Ambient_Placebo'</li><li>'Ambient_Placebo'</li><li>'Ambient_Placebo'</li><li>'Ambient_Placebo'</li><li>'Ambient_Placebo'</li><li>'Ambient_Placebo'</li><li>'NH4_Placebo'</li><li>'NH4_Placebo'</li><li>'NH4_Placebo'</li><li>'NH4_Placebo'</li><li>'NH4_Placebo'</li><li>'NH4_Placebo'</li><li>'NH4_Placebo'</li><li>'NH4_Placebo'</li><li>'NH4_Placebo'</li><li>'NH4_Placebo'</li><li>'NH4_Placebo'</li><li>'NH4_Placebo'</li><li>'NH4_Placebo'</li><li>'NH4_Placebo'</li><li>'NH4_Placebo'</li><li>'NH4_Placebo'</li><li>'NH4_Placebo'</li><li>'NH4_Placebo'</li><li>'NH4_Placebo'</li><li>'NH4_Placebo'</li><li>'NH4_Placebo'</li><li>'NH4_Placebo'</li><li>'NH4_Placebo'</li><li>'NH4_Placebo'</li><li>'NH4_Placebo'</li><li>'NH4_Placebo'</li><li>'Ambient_Placebo'</li><li>'Ambient_Placebo'</li><li>'Ambient_Placebo'</li><li>'Ambient_Placebo'</li><li>'Ambient_Placebo'</li><li>'Ambient_Placebo'</li><li>'Ambient_Placebo'</li><li>'Ambient_Placebo'</li><li>'Ambient_Placebo'</li><li>'Ambient_Placebo'</li><li>'Ambient_Placebo'</li><li>'Ambient_Placebo'</li><li>'Ambient_Placebo'</li><li>'Ambient_Placebo'</li><li>'NH4_Placebo'</li><li>'NH4_Placebo'</li><li>'NH4_Placebo'</li><li>'NH4_Placebo'</li><li>'NH4_Placebo'</li><li>'NH4_Placebo'</li><li>'NH4_Placebo'</li><li>'Ambient_Placebo'</li><li>'NH4_Placebo'</li><li>'NH4_Placebo'</li><li>'NH4_Placebo'</li></ol>\n"
      ],
      "text/latex": [
       "\\begin{enumerate*}\n",
       "\\item 'NH4\\_Placebo'\n",
       "\\item 'Ambient\\_Placebo'\n",
       "\\item 'Ambient\\_Placebo'\n",
       "\\item 'Ambient\\_Placebo'\n",
       "\\item 'NH4\\_Placebo'\n",
       "\\item 'NH4\\_Placebo'\n",
       "\\item 'NH4\\_Placebo'\n",
       "\\item 'NH4\\_Placebo'\n",
       "\\item 'NH4\\_Placebo'\n",
       "\\item 'NH4\\_Placebo'\n",
       "\\item 'NH4\\_Placebo'\n",
       "\\item 'NH4\\_Placebo'\n",
       "\\item 'Ambient\\_Placebo'\n",
       "\\item 'Ambient\\_Placebo'\n",
       "\\item 'Ambient\\_Placebo'\n",
       "\\item 'Ambient\\_Placebo'\n",
       "\\item 'NH4\\_Placebo'\n",
       "\\item 'NH4\\_Placebo'\n",
       "\\item 'NH4\\_Placebo'\n",
       "\\item 'NH4\\_Placebo'\n",
       "\\item 'Ambient\\_Placebo'\n",
       "\\item 'Ambient\\_Placebo'\n",
       "\\item 'NH4\\_Placebo'\n",
       "\\item 'NH4\\_Placebo'\n",
       "\\item 'NH4\\_Placebo'\n",
       "\\item 'NH4\\_Placebo'\n",
       "\\item 'NH4\\_Placebo'\n",
       "\\item 'NH4\\_Placebo'\n",
       "\\item 'NH4\\_Placebo'\n",
       "\\item 'Ambient\\_Placebo'\n",
       "\\item 'Ambient\\_Placebo'\n",
       "\\item 'NH4\\_Placebo'\n",
       "\\item 'Ambient\\_Placebo'\n",
       "\\item 'NH4\\_Placebo'\n",
       "\\item 'Ambient\\_Placebo'\n",
       "\\item 'NH4\\_Placebo'\n",
       "\\item 'Ambient\\_Placebo'\n",
       "\\item 'NH4\\_Placebo'\n",
       "\\item 'NH4\\_Placebo'\n",
       "\\item 'NH4\\_Placebo'\n",
       "\\item 'NH4\\_Placebo'\n",
       "\\item 'Ambient\\_Placebo'\n",
       "\\item 'Ambient\\_Placebo'\n",
       "\\item 'NH4\\_Placebo'\n",
       "\\item 'Ambient\\_Placebo'\n",
       "\\item 'Ambient\\_Placebo'\n",
       "\\item 'Ambient\\_Placebo'\n",
       "\\item 'Ambient\\_Placebo'\n",
       "\\item 'Ambient\\_Placebo'\n",
       "\\item 'Ambient\\_Placebo'\n",
       "\\item 'Ambient\\_Placebo'\n",
       "\\item 'Ambient\\_Placebo'\n",
       "\\item 'Ambient\\_Placebo'\n",
       "\\item 'Ambient\\_Placebo'\n",
       "\\item 'Ambient\\_Placebo'\n",
       "\\item 'NH4\\_Placebo'\n",
       "\\item 'NH4\\_Placebo'\n",
       "\\item 'NH4\\_Placebo'\n",
       "\\item 'NH4\\_Placebo'\n",
       "\\item 'NH4\\_Placebo'\n",
       "\\item 'NH4\\_Placebo'\n",
       "\\item 'NH4\\_Placebo'\n",
       "\\item 'NH4\\_Placebo'\n",
       "\\item 'NH4\\_Placebo'\n",
       "\\item 'NH4\\_Placebo'\n",
       "\\item 'NH4\\_Placebo'\n",
       "\\item 'NH4\\_Placebo'\n",
       "\\item 'NH4\\_Placebo'\n",
       "\\item 'NH4\\_Placebo'\n",
       "\\item 'NH4\\_Placebo'\n",
       "\\item 'NH4\\_Placebo'\n",
       "\\item 'NH4\\_Placebo'\n",
       "\\item 'NH4\\_Placebo'\n",
       "\\item 'NH4\\_Placebo'\n",
       "\\item 'NH4\\_Placebo'\n",
       "\\item 'NH4\\_Placebo'\n",
       "\\item 'NH4\\_Placebo'\n",
       "\\item 'NH4\\_Placebo'\n",
       "\\item 'NH4\\_Placebo'\n",
       "\\item 'NH4\\_Placebo'\n",
       "\\item 'NH4\\_Placebo'\n",
       "\\item 'Ambient\\_Placebo'\n",
       "\\item 'Ambient\\_Placebo'\n",
       "\\item 'Ambient\\_Placebo'\n",
       "\\item 'Ambient\\_Placebo'\n",
       "\\item 'Ambient\\_Placebo'\n",
       "\\item 'Ambient\\_Placebo'\n",
       "\\item 'Ambient\\_Placebo'\n",
       "\\item 'Ambient\\_Placebo'\n",
       "\\item 'Ambient\\_Placebo'\n",
       "\\item 'Ambient\\_Placebo'\n",
       "\\item 'Ambient\\_Placebo'\n",
       "\\item 'Ambient\\_Placebo'\n",
       "\\item 'Ambient\\_Placebo'\n",
       "\\item 'Ambient\\_Placebo'\n",
       "\\item 'NH4\\_Placebo'\n",
       "\\item 'NH4\\_Placebo'\n",
       "\\item 'NH4\\_Placebo'\n",
       "\\item 'NH4\\_Placebo'\n",
       "\\item 'NH4\\_Placebo'\n",
       "\\item 'NH4\\_Placebo'\n",
       "\\item 'NH4\\_Placebo'\n",
       "\\item 'Ambient\\_Placebo'\n",
       "\\item 'NH4\\_Placebo'\n",
       "\\item 'NH4\\_Placebo'\n",
       "\\item 'NH4\\_Placebo'\n",
       "\\end{enumerate*}\n"
      ],
      "text/markdown": [
       "1. 'NH4_Placebo'\n",
       "2. 'Ambient_Placebo'\n",
       "3. 'Ambient_Placebo'\n",
       "4. 'Ambient_Placebo'\n",
       "5. 'NH4_Placebo'\n",
       "6. 'NH4_Placebo'\n",
       "7. 'NH4_Placebo'\n",
       "8. 'NH4_Placebo'\n",
       "9. 'NH4_Placebo'\n",
       "10. 'NH4_Placebo'\n",
       "11. 'NH4_Placebo'\n",
       "12. 'NH4_Placebo'\n",
       "13. 'Ambient_Placebo'\n",
       "14. 'Ambient_Placebo'\n",
       "15. 'Ambient_Placebo'\n",
       "16. 'Ambient_Placebo'\n",
       "17. 'NH4_Placebo'\n",
       "18. 'NH4_Placebo'\n",
       "19. 'NH4_Placebo'\n",
       "20. 'NH4_Placebo'\n",
       "21. 'Ambient_Placebo'\n",
       "22. 'Ambient_Placebo'\n",
       "23. 'NH4_Placebo'\n",
       "24. 'NH4_Placebo'\n",
       "25. 'NH4_Placebo'\n",
       "26. 'NH4_Placebo'\n",
       "27. 'NH4_Placebo'\n",
       "28. 'NH4_Placebo'\n",
       "29. 'NH4_Placebo'\n",
       "30. 'Ambient_Placebo'\n",
       "31. 'Ambient_Placebo'\n",
       "32. 'NH4_Placebo'\n",
       "33. 'Ambient_Placebo'\n",
       "34. 'NH4_Placebo'\n",
       "35. 'Ambient_Placebo'\n",
       "36. 'NH4_Placebo'\n",
       "37. 'Ambient_Placebo'\n",
       "38. 'NH4_Placebo'\n",
       "39. 'NH4_Placebo'\n",
       "40. 'NH4_Placebo'\n",
       "41. 'NH4_Placebo'\n",
       "42. 'Ambient_Placebo'\n",
       "43. 'Ambient_Placebo'\n",
       "44. 'NH4_Placebo'\n",
       "45. 'Ambient_Placebo'\n",
       "46. 'Ambient_Placebo'\n",
       "47. 'Ambient_Placebo'\n",
       "48. 'Ambient_Placebo'\n",
       "49. 'Ambient_Placebo'\n",
       "50. 'Ambient_Placebo'\n",
       "51. 'Ambient_Placebo'\n",
       "52. 'Ambient_Placebo'\n",
       "53. 'Ambient_Placebo'\n",
       "54. 'Ambient_Placebo'\n",
       "55. 'Ambient_Placebo'\n",
       "56. 'NH4_Placebo'\n",
       "57. 'NH4_Placebo'\n",
       "58. 'NH4_Placebo'\n",
       "59. 'NH4_Placebo'\n",
       "60. 'NH4_Placebo'\n",
       "61. 'NH4_Placebo'\n",
       "62. 'NH4_Placebo'\n",
       "63. 'NH4_Placebo'\n",
       "64. 'NH4_Placebo'\n",
       "65. 'NH4_Placebo'\n",
       "66. 'NH4_Placebo'\n",
       "67. 'NH4_Placebo'\n",
       "68. 'NH4_Placebo'\n",
       "69. 'NH4_Placebo'\n",
       "70. 'NH4_Placebo'\n",
       "71. 'NH4_Placebo'\n",
       "72. 'NH4_Placebo'\n",
       "73. 'NH4_Placebo'\n",
       "74. 'NH4_Placebo'\n",
       "75. 'NH4_Placebo'\n",
       "76. 'NH4_Placebo'\n",
       "77. 'NH4_Placebo'\n",
       "78. 'NH4_Placebo'\n",
       "79. 'NH4_Placebo'\n",
       "80. 'NH4_Placebo'\n",
       "81. 'NH4_Placebo'\n",
       "82. 'Ambient_Placebo'\n",
       "83. 'Ambient_Placebo'\n",
       "84. 'Ambient_Placebo'\n",
       "85. 'Ambient_Placebo'\n",
       "86. 'Ambient_Placebo'\n",
       "87. 'Ambient_Placebo'\n",
       "88. 'Ambient_Placebo'\n",
       "89. 'Ambient_Placebo'\n",
       "90. 'Ambient_Placebo'\n",
       "91. 'Ambient_Placebo'\n",
       "92. 'Ambient_Placebo'\n",
       "93. 'Ambient_Placebo'\n",
       "94. 'Ambient_Placebo'\n",
       "95. 'Ambient_Placebo'\n",
       "96. 'NH4_Placebo'\n",
       "97. 'NH4_Placebo'\n",
       "98. 'NH4_Placebo'\n",
       "99. 'NH4_Placebo'\n",
       "100. 'NH4_Placebo'\n",
       "101. 'NH4_Placebo'\n",
       "102. 'NH4_Placebo'\n",
       "103. 'Ambient_Placebo'\n",
       "104. 'NH4_Placebo'\n",
       "105. 'NH4_Placebo'\n",
       "106. 'NH4_Placebo'\n",
       "\n",
       "\n"
      ],
      "text/plain": [
       "  [1] \"NH4_Placebo\"     \"Ambient_Placebo\" \"Ambient_Placebo\" \"Ambient_Placebo\"\n",
       "  [5] \"NH4_Placebo\"     \"NH4_Placebo\"     \"NH4_Placebo\"     \"NH4_Placebo\"    \n",
       "  [9] \"NH4_Placebo\"     \"NH4_Placebo\"     \"NH4_Placebo\"     \"NH4_Placebo\"    \n",
       " [13] \"Ambient_Placebo\" \"Ambient_Placebo\" \"Ambient_Placebo\" \"Ambient_Placebo\"\n",
       " [17] \"NH4_Placebo\"     \"NH4_Placebo\"     \"NH4_Placebo\"     \"NH4_Placebo\"    \n",
       " [21] \"Ambient_Placebo\" \"Ambient_Placebo\" \"NH4_Placebo\"     \"NH4_Placebo\"    \n",
       " [25] \"NH4_Placebo\"     \"NH4_Placebo\"     \"NH4_Placebo\"     \"NH4_Placebo\"    \n",
       " [29] \"NH4_Placebo\"     \"Ambient_Placebo\" \"Ambient_Placebo\" \"NH4_Placebo\"    \n",
       " [33] \"Ambient_Placebo\" \"NH4_Placebo\"     \"Ambient_Placebo\" \"NH4_Placebo\"    \n",
       " [37] \"Ambient_Placebo\" \"NH4_Placebo\"     \"NH4_Placebo\"     \"NH4_Placebo\"    \n",
       " [41] \"NH4_Placebo\"     \"Ambient_Placebo\" \"Ambient_Placebo\" \"NH4_Placebo\"    \n",
       " [45] \"Ambient_Placebo\" \"Ambient_Placebo\" \"Ambient_Placebo\" \"Ambient_Placebo\"\n",
       " [49] \"Ambient_Placebo\" \"Ambient_Placebo\" \"Ambient_Placebo\" \"Ambient_Placebo\"\n",
       " [53] \"Ambient_Placebo\" \"Ambient_Placebo\" \"Ambient_Placebo\" \"NH4_Placebo\"    \n",
       " [57] \"NH4_Placebo\"     \"NH4_Placebo\"     \"NH4_Placebo\"     \"NH4_Placebo\"    \n",
       " [61] \"NH4_Placebo\"     \"NH4_Placebo\"     \"NH4_Placebo\"     \"NH4_Placebo\"    \n",
       " [65] \"NH4_Placebo\"     \"NH4_Placebo\"     \"NH4_Placebo\"     \"NH4_Placebo\"    \n",
       " [69] \"NH4_Placebo\"     \"NH4_Placebo\"     \"NH4_Placebo\"     \"NH4_Placebo\"    \n",
       " [73] \"NH4_Placebo\"     \"NH4_Placebo\"     \"NH4_Placebo\"     \"NH4_Placebo\"    \n",
       " [77] \"NH4_Placebo\"     \"NH4_Placebo\"     \"NH4_Placebo\"     \"NH4_Placebo\"    \n",
       " [81] \"NH4_Placebo\"     \"Ambient_Placebo\" \"Ambient_Placebo\" \"Ambient_Placebo\"\n",
       " [85] \"Ambient_Placebo\" \"Ambient_Placebo\" \"Ambient_Placebo\" \"Ambient_Placebo\"\n",
       " [89] \"Ambient_Placebo\" \"Ambient_Placebo\" \"Ambient_Placebo\" \"Ambient_Placebo\"\n",
       " [93] \"Ambient_Placebo\" \"Ambient_Placebo\" \"Ambient_Placebo\" \"NH4_Placebo\"    \n",
       " [97] \"NH4_Placebo\"     \"NH4_Placebo\"     \"NH4_Placebo\"     \"NH4_Placebo\"    \n",
       "[101] \"NH4_Placebo\"     \"NH4_Placebo\"     \"Ambient_Placebo\" \"NH4_Placebo\"    \n",
       "[105] \"NH4_Placebo\"     \"NH4_Placebo\"    "
      ]
     },
     "metadata": {},
     "output_type": "display_data"
    },
    {
     "data": {
      "text/plain": [
       "Linear mixed model fit by REML ['lmerMod']\n",
       "Formula: Shannon ~ Nutrients + (1 | Tag:Genotype)\n",
       "   Data: PLac\n",
       "\n",
       "REML criterion at convergence: 250.2\n",
       "\n",
       "Scaled residuals: \n",
       "    Min      1Q  Median      3Q     Max \n",
       "-1.7018 -0.3023 -0.1974  0.0831  2.5950 \n",
       "\n",
       "Random effects:\n",
       " Groups       Name        Variance Std.Dev.\n",
       " Tag:Genotype (Intercept) 0.4979   0.7056  \n",
       " Residual                 0.2098   0.4581  \n",
       "Number of obs: 106, groups:  Tag:Genotype, 82\n",
       "\n",
       "Fixed effects:\n",
       "             Estimate Std. Error t value\n",
       "(Intercept)   2.59733    0.15249  17.033\n",
       "NutrientsNH4  0.02916    0.18961   0.154\n",
       "\n",
       "Correlation of Fixed Effects:\n",
       "            (Intr)\n",
       "NutrintsNH4 -0.804"
      ]
     },
     "metadata": {},
     "output_type": "display_data"
    },
    {
     "data": {
      "text/plain": [
       "$emmeans\n",
       " Nutrients emmean    SE   df lower.CL upper.CL\n",
       " Ambient     2.60 0.153 73.9     2.29     2.90\n",
       " NH4         2.63 0.113 82.5     2.40     2.85\n",
       "\n",
       "Degrees-of-freedom method: kenward-roger \n",
       "Confidence level used: 0.95 \n",
       "\n",
       "$contrasts\n",
       " contrast      estimate   SE   df t.ratio p.value\n",
       " Ambient - NH4  -0.0292 0.19 76.9  -0.154  0.8783\n",
       "\n",
       "Degrees-of-freedom method: kenward-roger \n"
      ]
     },
     "metadata": {},
     "output_type": "display_data"
    }
   ],
   "source": [
    "PLac= meta1 %>%\n",
    "filter(Diseased==\"Placebo\")\n",
    "\n",
    "dim(PLac)\n",
    "\n",
    "PLac$Combo\n",
    "\n",
    "\n",
    "mixed.lmer_TT <- lmer(Shannon~ Nutrients + (1|Tag:Genotype), data =PLac)\n",
    "summary(mixed.lmer_TT)\n",
    "emmeans(mixed.lmer_TT, pairwise ~ -1 + Nutrients, adjust=\"tukey\")"
   ]
  },
  {
   "cell_type": "code",
   "execution_count": 29,
   "id": "320e7e0c",
   "metadata": {},
   "outputs": [
    {
     "data": {
      "text/html": [
       "<style>\n",
       ".list-inline {list-style: none; margin:0; padding: 0}\n",
       ".list-inline>li {display: inline-block}\n",
       ".list-inline>li:not(:last-child)::after {content: \"\\00b7\"; padding: 0 .5ex}\n",
       "</style>\n",
       "<ol class=list-inline><li>135</li><li>55</li></ol>\n"
      ],
      "text/latex": [
       "\\begin{enumerate*}\n",
       "\\item 135\n",
       "\\item 55\n",
       "\\end{enumerate*}\n"
      ],
      "text/markdown": [
       "1. 135\n",
       "2. 55\n",
       "\n",
       "\n"
      ],
      "text/plain": [
       "[1] 135  55"
      ]
     },
     "metadata": {},
     "output_type": "display_data"
    },
    {
     "data": {
      "text/html": [
       "<style>\n",
       ".list-inline {list-style: none; margin:0; padding: 0}\n",
       ".list-inline>li {display: inline-block}\n",
       ".list-inline>li:not(:last-child)::after {content: \"\\00b7\"; padding: 0 .5ex}\n",
       "</style>\n",
       "<ol class=list-inline><li>'paired'</li><li>'paired'</li><li>'paired'</li><li>'paired'</li><li>'paired'</li><li>'paired'</li><li>'paired'</li><li>'paired'</li><li>'paired'</li><li>'paired'</li><li>'paired'</li><li>'paired'</li><li>'paired'</li><li>'paired'</li><li>'paired'</li><li>'paired'</li><li>'paired'</li><li>'paired'</li><li>'paired'</li><li>'paired'</li><li>'paired'</li><li>'paired'</li><li>'paired'</li><li>'paired'</li><li>'paired'</li><li>'paired'</li><li>'paired'</li><li>'paired'</li><li>'paired'</li><li>'paired'</li><li>'paired'</li><li>'paired'</li><li>'paired'</li><li>'paired'</li><li>'paired'</li><li>'paired'</li><li>'paired'</li><li>'paired'</li><li>'paired'</li><li>'paired'</li><li>'paired'</li><li>'paired'</li><li>'paired'</li><li>'paired'</li><li>'paired'</li><li>'paired'</li><li>'paired'</li><li>'paired'</li><li>'paired'</li><li>'paired'</li><li>'paired'</li><li>'paired'</li><li>'paired'</li><li>'paired'</li><li>'paired'</li><li>'paired'</li><li>'paired'</li><li>'paired'</li><li>'paired'</li><li>'paired'</li><li>'paired'</li><li>'paired'</li><li>'paired'</li><li>'paired'</li><li>'paired'</li><li>'paired'</li><li>'paired'</li><li>'paired'</li><li>'paired'</li><li>'paired'</li><li>'paired'</li><li>'paired'</li><li>'paired'</li><li>'paired'</li><li>'paired'</li><li>'paired'</li><li>'paired'</li><li>'paired'</li><li>'paired'</li><li>'paired'</li><li>'paired'</li><li>'paired'</li><li>'paired'</li><li>'paired'</li><li>'paired'</li><li>'paired'</li><li>'paired'</li><li>'paired'</li><li>'paired'</li><li>'paired'</li><li>'paired'</li><li>'paired'</li><li>'paired'</li><li>'paired'</li><li>'paired'</li><li>'paired'</li><li>'paired'</li><li>'paired'</li><li>'paired'</li><li>'paired'</li><li>'paired'</li><li>'paired'</li><li>'paired'</li><li>'paired'</li><li>'paired'</li><li>'paired'</li><li>'paired'</li><li>'paired'</li><li>'paired'</li><li>'paired'</li><li>'paired'</li><li>'paired'</li><li>'paired'</li><li>'paired'</li><li>'paired'</li><li>'paired'</li><li>'paired'</li><li>'paired'</li><li>'paired'</li><li>'paired'</li><li>'paired'</li><li>'paired'</li><li>'paired'</li><li>'paired'</li><li>'paired'</li><li>'paired'</li><li>'paired'</li><li>'paired'</li><li>'paired'</li><li>'paired'</li><li>'paired'</li><li>'paired'</li><li>'paired'</li><li>'paired'</li><li>'paired'</li></ol>\n"
      ],
      "text/latex": [
       "\\begin{enumerate*}\n",
       "\\item 'paired'\n",
       "\\item 'paired'\n",
       "\\item 'paired'\n",
       "\\item 'paired'\n",
       "\\item 'paired'\n",
       "\\item 'paired'\n",
       "\\item 'paired'\n",
       "\\item 'paired'\n",
       "\\item 'paired'\n",
       "\\item 'paired'\n",
       "\\item 'paired'\n",
       "\\item 'paired'\n",
       "\\item 'paired'\n",
       "\\item 'paired'\n",
       "\\item 'paired'\n",
       "\\item 'paired'\n",
       "\\item 'paired'\n",
       "\\item 'paired'\n",
       "\\item 'paired'\n",
       "\\item 'paired'\n",
       "\\item 'paired'\n",
       "\\item 'paired'\n",
       "\\item 'paired'\n",
       "\\item 'paired'\n",
       "\\item 'paired'\n",
       "\\item 'paired'\n",
       "\\item 'paired'\n",
       "\\item 'paired'\n",
       "\\item 'paired'\n",
       "\\item 'paired'\n",
       "\\item 'paired'\n",
       "\\item 'paired'\n",
       "\\item 'paired'\n",
       "\\item 'paired'\n",
       "\\item 'paired'\n",
       "\\item 'paired'\n",
       "\\item 'paired'\n",
       "\\item 'paired'\n",
       "\\item 'paired'\n",
       "\\item 'paired'\n",
       "\\item 'paired'\n",
       "\\item 'paired'\n",
       "\\item 'paired'\n",
       "\\item 'paired'\n",
       "\\item 'paired'\n",
       "\\item 'paired'\n",
       "\\item 'paired'\n",
       "\\item 'paired'\n",
       "\\item 'paired'\n",
       "\\item 'paired'\n",
       "\\item 'paired'\n",
       "\\item 'paired'\n",
       "\\item 'paired'\n",
       "\\item 'paired'\n",
       "\\item 'paired'\n",
       "\\item 'paired'\n",
       "\\item 'paired'\n",
       "\\item 'paired'\n",
       "\\item 'paired'\n",
       "\\item 'paired'\n",
       "\\item 'paired'\n",
       "\\item 'paired'\n",
       "\\item 'paired'\n",
       "\\item 'paired'\n",
       "\\item 'paired'\n",
       "\\item 'paired'\n",
       "\\item 'paired'\n",
       "\\item 'paired'\n",
       "\\item 'paired'\n",
       "\\item 'paired'\n",
       "\\item 'paired'\n",
       "\\item 'paired'\n",
       "\\item 'paired'\n",
       "\\item 'paired'\n",
       "\\item 'paired'\n",
       "\\item 'paired'\n",
       "\\item 'paired'\n",
       "\\item 'paired'\n",
       "\\item 'paired'\n",
       "\\item 'paired'\n",
       "\\item 'paired'\n",
       "\\item 'paired'\n",
       "\\item 'paired'\n",
       "\\item 'paired'\n",
       "\\item 'paired'\n",
       "\\item 'paired'\n",
       "\\item 'paired'\n",
       "\\item 'paired'\n",
       "\\item 'paired'\n",
       "\\item 'paired'\n",
       "\\item 'paired'\n",
       "\\item 'paired'\n",
       "\\item 'paired'\n",
       "\\item 'paired'\n",
       "\\item 'paired'\n",
       "\\item 'paired'\n",
       "\\item 'paired'\n",
       "\\item 'paired'\n",
       "\\item 'paired'\n",
       "\\item 'paired'\n",
       "\\item 'paired'\n",
       "\\item 'paired'\n",
       "\\item 'paired'\n",
       "\\item 'paired'\n",
       "\\item 'paired'\n",
       "\\item 'paired'\n",
       "\\item 'paired'\n",
       "\\item 'paired'\n",
       "\\item 'paired'\n",
       "\\item 'paired'\n",
       "\\item 'paired'\n",
       "\\item 'paired'\n",
       "\\item 'paired'\n",
       "\\item 'paired'\n",
       "\\item 'paired'\n",
       "\\item 'paired'\n",
       "\\item 'paired'\n",
       "\\item 'paired'\n",
       "\\item 'paired'\n",
       "\\item 'paired'\n",
       "\\item 'paired'\n",
       "\\item 'paired'\n",
       "\\item 'paired'\n",
       "\\item 'paired'\n",
       "\\item 'paired'\n",
       "\\item 'paired'\n",
       "\\item 'paired'\n",
       "\\item 'paired'\n",
       "\\item 'paired'\n",
       "\\item 'paired'\n",
       "\\item 'paired'\n",
       "\\item 'paired'\n",
       "\\item 'paired'\n",
       "\\item 'paired'\n",
       "\\item 'paired'\n",
       "\\end{enumerate*}\n"
      ],
      "text/markdown": [
       "1. 'paired'\n",
       "2. 'paired'\n",
       "3. 'paired'\n",
       "4. 'paired'\n",
       "5. 'paired'\n",
       "6. 'paired'\n",
       "7. 'paired'\n",
       "8. 'paired'\n",
       "9. 'paired'\n",
       "10. 'paired'\n",
       "11. 'paired'\n",
       "12. 'paired'\n",
       "13. 'paired'\n",
       "14. 'paired'\n",
       "15. 'paired'\n",
       "16. 'paired'\n",
       "17. 'paired'\n",
       "18. 'paired'\n",
       "19. 'paired'\n",
       "20. 'paired'\n",
       "21. 'paired'\n",
       "22. 'paired'\n",
       "23. 'paired'\n",
       "24. 'paired'\n",
       "25. 'paired'\n",
       "26. 'paired'\n",
       "27. 'paired'\n",
       "28. 'paired'\n",
       "29. 'paired'\n",
       "30. 'paired'\n",
       "31. 'paired'\n",
       "32. 'paired'\n",
       "33. 'paired'\n",
       "34. 'paired'\n",
       "35. 'paired'\n",
       "36. 'paired'\n",
       "37. 'paired'\n",
       "38. 'paired'\n",
       "39. 'paired'\n",
       "40. 'paired'\n",
       "41. 'paired'\n",
       "42. 'paired'\n",
       "43. 'paired'\n",
       "44. 'paired'\n",
       "45. 'paired'\n",
       "46. 'paired'\n",
       "47. 'paired'\n",
       "48. 'paired'\n",
       "49. 'paired'\n",
       "50. 'paired'\n",
       "51. 'paired'\n",
       "52. 'paired'\n",
       "53. 'paired'\n",
       "54. 'paired'\n",
       "55. 'paired'\n",
       "56. 'paired'\n",
       "57. 'paired'\n",
       "58. 'paired'\n",
       "59. 'paired'\n",
       "60. 'paired'\n",
       "61. 'paired'\n",
       "62. 'paired'\n",
       "63. 'paired'\n",
       "64. 'paired'\n",
       "65. 'paired'\n",
       "66. 'paired'\n",
       "67. 'paired'\n",
       "68. 'paired'\n",
       "69. 'paired'\n",
       "70. 'paired'\n",
       "71. 'paired'\n",
       "72. 'paired'\n",
       "73. 'paired'\n",
       "74. 'paired'\n",
       "75. 'paired'\n",
       "76. 'paired'\n",
       "77. 'paired'\n",
       "78. 'paired'\n",
       "79. 'paired'\n",
       "80. 'paired'\n",
       "81. 'paired'\n",
       "82. 'paired'\n",
       "83. 'paired'\n",
       "84. 'paired'\n",
       "85. 'paired'\n",
       "86. 'paired'\n",
       "87. 'paired'\n",
       "88. 'paired'\n",
       "89. 'paired'\n",
       "90. 'paired'\n",
       "91. 'paired'\n",
       "92. 'paired'\n",
       "93. 'paired'\n",
       "94. 'paired'\n",
       "95. 'paired'\n",
       "96. 'paired'\n",
       "97. 'paired'\n",
       "98. 'paired'\n",
       "99. 'paired'\n",
       "100. 'paired'\n",
       "101. 'paired'\n",
       "102. 'paired'\n",
       "103. 'paired'\n",
       "104. 'paired'\n",
       "105. 'paired'\n",
       "106. 'paired'\n",
       "107. 'paired'\n",
       "108. 'paired'\n",
       "109. 'paired'\n",
       "110. 'paired'\n",
       "111. 'paired'\n",
       "112. 'paired'\n",
       "113. 'paired'\n",
       "114. 'paired'\n",
       "115. 'paired'\n",
       "116. 'paired'\n",
       "117. 'paired'\n",
       "118. 'paired'\n",
       "119. 'paired'\n",
       "120. 'paired'\n",
       "121. 'paired'\n",
       "122. 'paired'\n",
       "123. 'paired'\n",
       "124. 'paired'\n",
       "125. 'paired'\n",
       "126. 'paired'\n",
       "127. 'paired'\n",
       "128. 'paired'\n",
       "129. 'paired'\n",
       "130. 'paired'\n",
       "131. 'paired'\n",
       "132. 'paired'\n",
       "133. 'paired'\n",
       "134. 'paired'\n",
       "135. 'paired'\n",
       "\n",
       "\n"
      ],
      "text/plain": [
       "  [1] \"paired\" \"paired\" \"paired\" \"paired\" \"paired\" \"paired\" \"paired\" \"paired\"\n",
       "  [9] \"paired\" \"paired\" \"paired\" \"paired\" \"paired\" \"paired\" \"paired\" \"paired\"\n",
       " [17] \"paired\" \"paired\" \"paired\" \"paired\" \"paired\" \"paired\" \"paired\" \"paired\"\n",
       " [25] \"paired\" \"paired\" \"paired\" \"paired\" \"paired\" \"paired\" \"paired\" \"paired\"\n",
       " [33] \"paired\" \"paired\" \"paired\" \"paired\" \"paired\" \"paired\" \"paired\" \"paired\"\n",
       " [41] \"paired\" \"paired\" \"paired\" \"paired\" \"paired\" \"paired\" \"paired\" \"paired\"\n",
       " [49] \"paired\" \"paired\" \"paired\" \"paired\" \"paired\" \"paired\" \"paired\" \"paired\"\n",
       " [57] \"paired\" \"paired\" \"paired\" \"paired\" \"paired\" \"paired\" \"paired\" \"paired\"\n",
       " [65] \"paired\" \"paired\" \"paired\" \"paired\" \"paired\" \"paired\" \"paired\" \"paired\"\n",
       " [73] \"paired\" \"paired\" \"paired\" \"paired\" \"paired\" \"paired\" \"paired\" \"paired\"\n",
       " [81] \"paired\" \"paired\" \"paired\" \"paired\" \"paired\" \"paired\" \"paired\" \"paired\"\n",
       " [89] \"paired\" \"paired\" \"paired\" \"paired\" \"paired\" \"paired\" \"paired\" \"paired\"\n",
       " [97] \"paired\" \"paired\" \"paired\" \"paired\" \"paired\" \"paired\" \"paired\" \"paired\"\n",
       "[105] \"paired\" \"paired\" \"paired\" \"paired\" \"paired\" \"paired\" \"paired\" \"paired\"\n",
       "[113] \"paired\" \"paired\" \"paired\" \"paired\" \"paired\" \"paired\" \"paired\" \"paired\"\n",
       "[121] \"paired\" \"paired\" \"paired\" \"paired\" \"paired\" \"paired\" \"paired\" \"paired\"\n",
       "[129] \"paired\" \"paired\" \"paired\" \"paired\" \"paired\" \"paired\" \"paired\""
      ]
     },
     "metadata": {},
     "output_type": "display_data"
    }
   ],
   "source": [
    "paired_df= meta1 %>%\n",
    "filter(Pairs==\"paired\")\n",
    "\n",
    "dim(paired_df)\n",
    "paired_df$Pairs"
   ]
  },
  {
   "cell_type": "code",
   "execution_count": 30,
   "id": "b3bce90b",
   "metadata": {},
   "outputs": [
    {
     "data": {
      "text/plain": [
       "Linear mixed model fit by REML ['lmerMod']\n",
       "Formula: Shannon ~ Combo + (1 | Tag:Genotype)\n",
       "   Data: meta1\n",
       "\n",
       "REML criterion at convergence: 485.5\n",
       "\n",
       "Scaled residuals: \n",
       "    Min      1Q  Median      3Q     Max \n",
       "-1.6829 -0.3632 -0.1677  0.1592  2.5024 \n",
       "\n",
       "Random effects:\n",
       " Groups       Name        Variance Std.Dev.\n",
       " Tag:Genotype (Intercept) 0.5706   0.7554  \n",
       " Residual                 0.2166   0.4654  \n",
       "Number of obs: 192, groups:  Tag:Genotype, 168\n",
       "\n",
       "Fixed effects:\n",
       "                     Estimate Std. Error t value\n",
       "(Intercept)            3.2579     0.1620  20.112\n",
       "ComboAmbient_Placebo  -0.6614     0.2286  -2.893\n",
       "ComboNH4_Pathogen     -0.1334     0.2007  -0.664\n",
       "ComboNH4_Placebo      -0.6321     0.2010  -3.145\n",
       "\n",
       "Correlation of Fixed Effects:\n",
       "            (Intr) CmbA_P CmbNH4_Pt\n",
       "CmbAmbnt_Pl -0.708                 \n",
       "CmbNH4_Pthg -0.807  0.572          \n",
       "CmbNH4_Plcb -0.806  0.571  0.650   "
      ]
     },
     "metadata": {},
     "output_type": "display_data"
    },
    {
     "data": {
      "text/plain": [
       "$emmeans\n",
       " Combo            emmean    SE  df lower.CL upper.CL\n",
       " Ambient_Pathogen   3.26 0.162 171     2.94     3.58\n",
       " Ambient_Placebo    2.60 0.161 143     2.28     2.92\n",
       " NH4_Pathogen       3.12 0.119 171     2.89     3.36\n",
       " NH4_Placebo        2.63 0.119 161     2.39     2.86\n",
       "\n",
       "Degrees-of-freedom method: kenward-roger \n",
       "Confidence level used: 0.95 \n",
       "\n",
       "$contrasts\n",
       " contrast                           estimate    SE  df t.ratio p.value\n",
       " Ambient_Pathogen - Ambient_Placebo   0.6614 0.229 158   2.892  0.0225\n",
       " Ambient_Pathogen - NH4_Pathogen      0.1334 0.201 171   0.664  0.9103\n",
       " Ambient_Pathogen - NH4_Placebo       0.6321 0.201 168   3.144  0.0105\n",
       " Ambient_Placebo - NH4_Pathogen      -0.5280 0.200 154  -2.636  0.0452\n",
       " Ambient_Placebo - NH4_Placebo       -0.0293 0.201 150  -0.146  0.9989\n",
       " NH4_Pathogen - NH4_Placebo           0.4987 0.168 166   2.968  0.0179\n",
       "\n",
       "Degrees-of-freedom method: kenward-roger \n",
       "P value adjustment: tukey method for comparing a family of 4 estimates \n"
      ]
     },
     "metadata": {},
     "output_type": "display_data"
    }
   ],
   "source": [
    "mixed.lmer_TT <- lmer(Shannon~Combo + (1|Tag:Genotype), data =meta1)\n",
    "summary(mixed.lmer_TT)\n",
    "emmeans(mixed.lmer_TT, pairwise ~ -1 + Combo, adjust=\"tukey\")"
   ]
  },
  {
   "cell_type": "code",
   "execution_count": 31,
   "id": "aa64dafe",
   "metadata": {},
   "outputs": [
    {
     "data": {
      "text/plain": [
       "Linear mixed model fit by REML ['lmerMod']\n",
       "Formula: Shannon ~ Health + (1 | Tag:Genotype)\n",
       "   Data: paired_df\n",
       "\n",
       "REML criterion at convergence: 331.9\n",
       "\n",
       "Scaled residuals: \n",
       "    Min      1Q  Median      3Q     Max \n",
       "-1.7746 -0.2972 -0.1396  0.2372  2.5751 \n",
       "\n",
       "Random effects:\n",
       " Groups       Name        Variance Std.Dev.\n",
       " Tag:Genotype (Intercept) 0.5704   0.7553  \n",
       " Residual                 0.1970   0.4438  \n",
       "Number of obs: 135, groups:  Tag:Genotype, 112\n",
       "\n",
       "Fixed effects:\n",
       "            Estimate Std. Error t value\n",
       "(Intercept)   2.6046     0.1136  22.920\n",
       "HealthDL      0.8646     0.1586   5.451\n",
       "\n",
       "Correlation of Fixed Effects:\n",
       "         (Intr)\n",
       "HealthDL -0.696"
      ]
     },
     "metadata": {},
     "output_type": "display_data"
    },
    {
     "data": {
      "text/plain": [
       "$emmeans\n",
       " Health emmean    SE  df lower.CL upper.CL\n",
       " AH       2.60 0.114 110     2.38     2.83\n",
       " DL       3.47 0.114 122     3.24     3.70\n",
       "\n",
       "Degrees-of-freedom method: kenward-roger \n",
       "Confidence level used: 0.95 \n",
       "\n",
       "$contrasts\n",
       " contrast estimate   SE  df t.ratio p.value\n",
       " AH - DL    -0.865 0.16 123  -5.416  <.0001\n",
       "\n",
       "Degrees-of-freedom method: kenward-roger \n"
      ]
     },
     "metadata": {},
     "output_type": "display_data"
    }
   ],
   "source": [
    "mixed.lmer_TT <- lmer(Shannon~Health + (1|Tag:Genotype), data =paired_df)\n",
    "summary(mixed.lmer_TT)\n",
    "emmeans(mixed.lmer_TT, pairwise ~ -1 + Health, adjust=\"tukey\")"
   ]
  }
 ],
 "metadata": {
  "kernelspec": {
   "display_name": "R",
   "language": "R",
   "name": "ir"
  },
  "language_info": {
   "codemirror_mode": "r",
   "file_extension": ".r",
   "mimetype": "text/x-r-source",
   "name": "R",
   "pygments_lexer": "r",
   "version": "4.0.5"
  }
 },
 "nbformat": 4,
 "nbformat_minor": 5
}
